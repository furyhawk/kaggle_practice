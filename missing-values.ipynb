{
 "cells": [
  {
   "cell_type": "markdown",
   "id": "b2a1a29b",
   "metadata": {
    "papermill": {
     "duration": 0.011818,
     "end_time": "2021-11-09T00:06:37.290668",
     "exception": false,
     "start_time": "2021-11-09T00:06:37.278850",
     "status": "completed"
    },
    "tags": []
   },
   "source": [
    "In this tutorial, you will learn three approaches to **dealing with missing values**. Then you'll compare the effectiveness of these approaches on a real-world dataset.\n",
    "\n",
    "# Introduction\n",
    "\n",
    "There are many ways data can end up with missing values. For example,\n",
    "- A 2 bedroom house won't include a value for the size of a third bedroom.\n",
    "- A survey respondent may choose not to share his income.\n",
    "\n",
    "Most machine learning libraries (including scikit-learn) give an error if you try to build a model using data with missing values. So you'll need to choose one of the strategies below."
   ]
  },
  {
   "cell_type": "markdown",
   "id": "c6035b8e",
   "metadata": {
    "papermill": {
     "duration": 0.010106,
     "end_time": "2021-11-09T00:06:37.311414",
     "exception": false,
     "start_time": "2021-11-09T00:06:37.301308",
     "status": "completed"
    },
    "tags": []
   },
   "source": [
    "# Three Approaches\n",
    "\n",
    "\n",
    "### 1) A Simple Option: Drop Columns with Missing Values\n",
    "\n",
    "The simplest option is to drop columns with missing values. \n",
    "\n",
    "![tut2_approach1](https://i.imgur.com/Sax80za.png)\n",
    "\n",
    "Unless most values in the dropped columns are missing, the model loses access to a lot of (potentially useful!) information with this approach.  As an extreme example, consider a dataset with 10,000 rows, where one important column is missing a single entry. This approach would drop the column entirely!\n",
    "\n",
    "### 2) A Better Option: Imputation\n",
    "\n",
    "**Imputation** fills in the missing values with some number.  For instance, we can fill in the mean value along each column. \n",
    "\n",
    "![tut2_approach2](https://i.imgur.com/4BpnlPA.png)\n",
    "\n",
    "The imputed value won't be exactly right in most cases, but it usually leads to more accurate models than you would get from dropping the column entirely.\n",
    "\n",
    "### 3) An Extension To Imputation\n",
    "\n",
    "Imputation is the standard approach, and it usually works well. However, imputed values may be systematically above or below their actual values (which weren't collected in the dataset). Or rows with missing values may be unique in some other way. In that case, your model would make better predictions by considering which values were originally missing.  \n",
    "\n",
    "![tut3_approach3](https://i.imgur.com/UWOyg4a.png)\n",
    "\n",
    "In this approach, we impute the missing values, as before.  And, additionally, for each column with missing entries in the original dataset, we add a new column that shows the location of the imputed entries.\n",
    "\n",
    "In some cases, this will meaningfully improve results. In other cases, it doesn't help at all.\n",
    "\n",
    "# Example \n",
    "\n",
    "In the example, we will work with the [Melbourne Housing dataset](https://www.kaggle.com/dansbecker/melbourne-housing-snapshot/home).  Our model will use information such as the number of rooms and land size to predict home price.\n",
    "\n",
    "We won't focus on the data loading step. Instead, you can imagine you are at a point where you already have the training and validation data in `X_train`, `X_valid`, `y_train`, and `y_valid`. "
   ]
  },
  {
   "cell_type": "code",
   "execution_count": 1,
   "id": "26462982",
   "metadata": {
    "_kg_hide-input": true,
    "_kg_hide-output": true,
    "execution": {
     "iopub.execute_input": "2021-11-09T00:06:37.345706Z",
     "iopub.status.busy": "2021-11-09T00:06:37.340483Z",
     "iopub.status.idle": "2021-11-09T00:06:38.536311Z",
     "shell.execute_reply": "2021-11-09T00:06:38.536931Z"
    },
    "papermill": {
     "duration": 1.215988,
     "end_time": "2021-11-09T00:06:38.537304",
     "exception": false,
     "start_time": "2021-11-09T00:06:37.321316",
     "status": "completed"
    },
    "tags": []
   },
   "outputs": [],
   "source": [
    "\n",
    "import pandas as pd\n",
    "from sklearn.model_selection import train_test_split\n",
    "\n",
    "# Load the data\n",
    "data = pd.read_csv('../input/melbourne-housing-snapshot/melb_data.csv')\n",
    "\n",
    "# Select target\n",
    "y = data.Price\n",
    "\n",
    "# To keep things simple, we'll use only numerical predictors\n",
    "melb_predictors = data.drop(['Price'], axis=1)\n",
    "X = melb_predictors.select_dtypes(exclude=['object'])\n",
    "\n",
    "# Divide data into training and validation subsets\n",
    "X_train, X_valid, y_train, y_valid = train_test_split(X, y, train_size=0.8, test_size=0.2,\n",
    "                                                      random_state=0)"
   ]
  },
  {
   "cell_type": "markdown",
   "id": "0c52fa5e",
   "metadata": {
    "papermill": {
     "duration": 0.009714,
     "end_time": "2021-11-09T00:06:38.560127",
     "exception": false,
     "start_time": "2021-11-09T00:06:38.550413",
     "status": "completed"
    },
    "tags": []
   },
   "source": [
    "### Define Function to Measure Quality of Each Approach\n",
    "\n",
    "We define a function `score_dataset()` to compare different approaches to dealing with missing values. This function reports the [mean absolute error](https://en.wikipedia.org/wiki/Mean_absolute_error) (MAE) from a random forest model."
   ]
  },
  {
   "cell_type": "code",
   "execution_count": 2,
   "id": "b17c6916",
   "metadata": {
    "_kg_hide-input": true,
    "_kg_hide-output": true,
    "execution": {
     "iopub.execute_input": "2021-11-09T00:06:38.584312Z",
     "iopub.status.busy": "2021-11-09T00:06:38.583337Z",
     "iopub.status.idle": "2021-11-09T00:06:38.796354Z",
     "shell.execute_reply": "2021-11-09T00:06:38.796993Z"
    },
    "papermill": {
     "duration": 0.226964,
     "end_time": "2021-11-09T00:06:38.797194",
     "exception": false,
     "start_time": "2021-11-09T00:06:38.570230",
     "status": "completed"
    },
    "tags": []
   },
   "outputs": [],
   "source": [
    "\n",
    "from sklearn.ensemble import RandomForestRegressor\n",
    "from sklearn.metrics import mean_absolute_error\n",
    "\n",
    "# Function for comparing different approaches\n",
    "def score_dataset(X_train, X_valid, y_train, y_valid):\n",
    "    model = RandomForestRegressor(n_estimators=10, random_state=0)\n",
    "    model.fit(X_train, y_train)\n",
    "    preds = model.predict(X_valid)\n",
    "    return mean_absolute_error(y_valid, preds)"
   ]
  },
  {
   "cell_type": "markdown",
   "id": "6757f6e0",
   "metadata": {
    "papermill": {
     "duration": 0.00979,
     "end_time": "2021-11-09T00:06:38.817473",
     "exception": false,
     "start_time": "2021-11-09T00:06:38.807683",
     "status": "completed"
    },
    "tags": []
   },
   "source": [
    "### Score from Approach 1 (Drop Columns with Missing Values)\n",
    "\n",
    "Since we are working with both training and validation sets, we are careful to drop the same columns in both DataFrames.  "
   ]
  },
  {
   "cell_type": "code",
   "execution_count": 3,
   "id": "5b1a0d4a",
   "metadata": {
    "execution": {
     "iopub.execute_input": "2021-11-09T00:06:38.841593Z",
     "iopub.status.busy": "2021-11-09T00:06:38.840580Z",
     "iopub.status.idle": "2021-11-09T00:06:39.521540Z",
     "shell.execute_reply": "2021-11-09T00:06:39.520851Z"
    },
    "papermill": {
     "duration": 0.694161,
     "end_time": "2021-11-09T00:06:39.521683",
     "exception": false,
     "start_time": "2021-11-09T00:06:38.827522",
     "status": "completed"
    },
    "tags": []
   },
   "outputs": [
    {
     "name": "stdout",
     "output_type": "stream",
     "text": [
      "MAE from Approach 1 (Drop columns with missing values):\n",
      "183550.22137772635\n"
     ]
    }
   ],
   "source": [
    "# Get names of columns with missing values\n",
    "cols_with_missing = [col for col in X_train.columns\n",
    "                     if X_train[col].isnull().any()]\n",
    "\n",
    "# Drop columns in training and validation data\n",
    "reduced_X_train = X_train.drop(cols_with_missing, axis=1)\n",
    "reduced_X_valid = X_valid.drop(cols_with_missing, axis=1)\n",
    "\n",
    "print(\"MAE from Approach 1 (Drop columns with missing values):\")\n",
    "print(score_dataset(reduced_X_train, reduced_X_valid, y_train, y_valid))"
   ]
  },
  {
   "cell_type": "markdown",
   "id": "8299317b",
   "metadata": {
    "papermill": {
     "duration": 0.010478,
     "end_time": "2021-11-09T00:06:39.543243",
     "exception": false,
     "start_time": "2021-11-09T00:06:39.532765",
     "status": "completed"
    },
    "tags": []
   },
   "source": [
    "### Score from Approach 2 (Imputation)\n",
    "\n",
    "Next, we use [`SimpleImputer`](https://scikit-learn.org/stable/modules/generated/sklearn.impute.SimpleImputer.html) to replace missing values with the mean value along each column.\n",
    "\n",
    "Although it's simple, filling in the mean value generally performs quite well (but this varies by dataset).  While statisticians have experimented with more complex ways to determine imputed values (such as **regression imputation**, for instance), the complex strategies typically give no additional benefit once you plug the results into sophisticated machine learning models."
   ]
  },
  {
   "cell_type": "code",
   "execution_count": 4,
   "id": "9007cdbd",
   "metadata": {
    "execution": {
     "iopub.execute_input": "2021-11-09T00:06:39.570058Z",
     "iopub.status.busy": "2021-11-09T00:06:39.569038Z",
     "iopub.status.idle": "2021-11-09T00:06:40.269360Z",
     "shell.execute_reply": "2021-11-09T00:06:40.269875Z"
    },
    "papermill": {
     "duration": 0.716056,
     "end_time": "2021-11-09T00:06:40.270105",
     "exception": false,
     "start_time": "2021-11-09T00:06:39.554049",
     "status": "completed"
    },
    "tags": []
   },
   "outputs": [
    {
     "name": "stdout",
     "output_type": "stream",
     "text": [
      "MAE from Approach 2 (Imputation):\n",
      "178166.46269899711\n"
     ]
    }
   ],
   "source": [
    "from sklearn.impute import SimpleImputer\n",
    "\n",
    "# Imputation\n",
    "my_imputer = SimpleImputer()\n",
    "imputed_X_train = pd.DataFrame(my_imputer.fit_transform(X_train))\n",
    "imputed_X_valid = pd.DataFrame(my_imputer.transform(X_valid))\n",
    "\n",
    "# Imputation removed column names; put them back\n",
    "imputed_X_train.columns = X_train.columns\n",
    "imputed_X_valid.columns = X_valid.columns\n",
    "\n",
    "print(\"MAE from Approach 2 (Imputation):\")\n",
    "print(score_dataset(imputed_X_train, imputed_X_valid, y_train, y_valid))"
   ]
  },
  {
   "cell_type": "markdown",
   "id": "8c342e59",
   "metadata": {
    "papermill": {
     "duration": 0.011498,
     "end_time": "2021-11-09T00:06:40.293512",
     "exception": false,
     "start_time": "2021-11-09T00:06:40.282014",
     "status": "completed"
    },
    "tags": []
   },
   "source": [
    "We see that **Approach 2** has lower MAE than **Approach 1**, so **Approach 2** performed better on this dataset.\n",
    "\n",
    "### Score from Approach 3 (An Extension to Imputation)\n",
    "\n",
    "Next, we impute the missing values, while also keeping track of which values were imputed."
   ]
  },
  {
   "cell_type": "code",
   "execution_count": 5,
   "id": "349d9043",
   "metadata": {
    "execution": {
     "iopub.execute_input": "2021-11-09T00:06:40.332960Z",
     "iopub.status.busy": "2021-11-09T00:06:40.332200Z",
     "iopub.status.idle": "2021-11-09T00:06:41.131815Z",
     "shell.execute_reply": "2021-11-09T00:06:41.131196Z"
    },
    "papermill": {
     "duration": 0.826589,
     "end_time": "2021-11-09T00:06:41.131984",
     "exception": false,
     "start_time": "2021-11-09T00:06:40.305395",
     "status": "completed"
    },
    "tags": []
   },
   "outputs": [
    {
     "name": "stdout",
     "output_type": "stream",
     "text": [
      "MAE from Approach 3 (An Extension to Imputation):\n",
      "178927.503183954\n"
     ]
    }
   ],
   "source": [
    "# Make copy to avoid changing original data (when imputing)\n",
    "X_train_plus = X_train.copy()\n",
    "X_valid_plus = X_valid.copy()\n",
    "\n",
    "# Make new columns indicating what will be imputed\n",
    "for col in cols_with_missing:\n",
    "    X_train_plus[col + '_was_missing'] = X_train_plus[col].isnull()\n",
    "    X_valid_plus[col + '_was_missing'] = X_valid_plus[col].isnull()\n",
    "\n",
    "# Imputation\n",
    "my_imputer = SimpleImputer()\n",
    "imputed_X_train_plus = pd.DataFrame(my_imputer.fit_transform(X_train_plus))\n",
    "imputed_X_valid_plus = pd.DataFrame(my_imputer.transform(X_valid_plus))\n",
    "\n",
    "# Imputation removed column names; put them back\n",
    "imputed_X_train_plus.columns = X_train_plus.columns\n",
    "imputed_X_valid_plus.columns = X_valid_plus.columns\n",
    "\n",
    "print(\"MAE from Approach 3 (An Extension to Imputation):\")\n",
    "print(score_dataset(imputed_X_train_plus, imputed_X_valid_plus, y_train, y_valid))"
   ]
  },
  {
   "cell_type": "markdown",
   "id": "c55b6ad7",
   "metadata": {
    "papermill": {
     "duration": 0.012496,
     "end_time": "2021-11-09T00:06:41.157492",
     "exception": false,
     "start_time": "2021-11-09T00:06:41.144996",
     "status": "completed"
    },
    "tags": []
   },
   "source": [
    "As we can see, **Approach 3** performed slightly worse than **Approach 2**.\n",
    "\n",
    "### So, why did imputation perform better than dropping the columns?\n",
    "\n",
    "The training data has 10864 rows and 12 columns, where three columns contain missing data.  For each column, less than half of the entries are missing.  Thus, dropping the columns removes a lot of useful information, and so it makes sense that imputation would perform better."
   ]
  },
  {
   "cell_type": "code",
   "execution_count": 6,
   "id": "b1acb871",
   "metadata": {
    "execution": {
     "iopub.execute_input": "2021-11-09T00:06:41.192078Z",
     "iopub.status.busy": "2021-11-09T00:06:41.189429Z",
     "iopub.status.idle": "2021-11-09T00:06:41.195239Z",
     "shell.execute_reply": "2021-11-09T00:06:41.194737Z"
    },
    "papermill": {
     "duration": 0.02529,
     "end_time": "2021-11-09T00:06:41.195416",
     "exception": false,
     "start_time": "2021-11-09T00:06:41.170126",
     "status": "completed"
    },
    "tags": []
   },
   "outputs": [
    {
     "name": "stdout",
     "output_type": "stream",
     "text": [
      "(10864, 12)\n",
      "Car               49\n",
      "BuildingArea    5156\n",
      "YearBuilt       4307\n",
      "dtype: int64\n"
     ]
    }
   ],
   "source": [
    "# Shape of training data (num_rows, num_columns)\n",
    "print(X_train.shape)\n",
    "\n",
    "# Number of missing values in each column of training data\n",
    "missing_val_count_by_column = (X_train.isnull().sum())\n",
    "print(missing_val_count_by_column[missing_val_count_by_column > 0])"
   ]
  },
  {
   "cell_type": "markdown",
   "id": "f6fa5b13",
   "metadata": {
    "papermill": {
     "duration": 0.012929,
     "end_time": "2021-11-09T00:06:41.221945",
     "exception": false,
     "start_time": "2021-11-09T00:06:41.209016",
     "status": "completed"
    },
    "tags": []
   },
   "source": [
    "# Conclusion\n",
    "As is common, imputing missing values (in **Approach 2** and **Approach 3**) yielded better results, relative to when we simply dropped columns with missing values (in **Approach 1**).\n",
    "\n",
    "# Your Turn\n",
    "\n",
    "Compare these approaches to dealing with missing values yourself in **[this exercise](https://www.kaggle.com/kernels/fork/3370280)**!"
   ]
  },
  {
   "cell_type": "markdown",
   "id": "9ac7a686",
   "metadata": {
    "papermill": {
     "duration": 0.012772,
     "end_time": "2021-11-09T00:06:41.247862",
     "exception": false,
     "start_time": "2021-11-09T00:06:41.235090",
     "status": "completed"
    },
    "tags": []
   },
   "source": [
    "---\n",
    "\n",
    "\n",
    "\n",
    "\n",
    "*Have questions or comments? Visit the [course discussion forum](https://www.kaggle.com/learn/intermediate-machine-learning/discussion) to chat with other learners.*"
   ]
  }
 ],
 "metadata": {
  "kernelspec": {
   "display_name": "Python 3",
   "language": "python",
   "name": "python3"
  },
  "language_info": {
   "codemirror_mode": {
    "name": "ipython",
    "version": 3
   },
   "file_extension": ".py",
   "mimetype": "text/x-python",
   "name": "python",
   "nbconvert_exporter": "python",
   "pygments_lexer": "ipython3",
   "version": "3.7.10"
  },
  "papermill": {
   "default_parameters": {},
   "duration": 15.021171,
   "end_time": "2021-11-09T00:06:42.275039",
   "environment_variables": {},
   "exception": null,
   "input_path": "__notebook__.ipynb",
   "output_path": "__notebook__.ipynb",
   "parameters": {},
   "start_time": "2021-11-09T00:06:27.253868",
   "version": "2.3.3"
  }
 },
 "nbformat": 4,
 "nbformat_minor": 5
}
