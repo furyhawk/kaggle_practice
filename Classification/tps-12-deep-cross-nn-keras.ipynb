{
 "cells": [
  {
   "cell_type": "code",
   "execution_count": 1,
   "id": "a99bd10c",
   "metadata": {
    "_cell_guid": "b1076dfc-b9ad-4769-8c92-a6c4dae69d19",
    "_kg_hide-input": true,
    "_uuid": "8f2839f25d086af736a60e9eeb907d3b93b6e0e5",
    "execution": {
     "iopub.execute_input": "2021-12-10T02:00:37.391005Z",
     "iopub.status.busy": "2021-12-10T02:00:37.389790Z",
     "iopub.status.idle": "2021-12-10T02:00:44.246432Z",
     "shell.execute_reply": "2021-12-10T02:00:44.245648Z",
     "shell.execute_reply.started": "2021-12-07T14:34:26.405119Z"
    },
    "papermill": {
     "duration": 6.875344,
     "end_time": "2021-12-10T02:00:44.246605",
     "exception": false,
     "start_time": "2021-12-10T02:00:37.371261",
     "status": "completed"
    },
    "tags": []
   },
   "outputs": [
    {
     "name": "stderr",
     "output_type": "stream",
     "text": [
      "2021-12-10 02:00:38.072846: W tensorflow/stream_executor/platform/default/dso_loader.cc:60] Could not load dynamic library 'libcudart.so.11.0'; dlerror: libcudart.so.11.0: cannot open shared object file: No such file or directory; LD_LIBRARY_PATH: /opt/conda/lib\n",
      "2021-12-10 02:00:38.073015: I tensorflow/stream_executor/cuda/cudart_stub.cc:29] Ignore above cudart dlerror if you do not have a GPU set up on your machine.\n"
     ]
    }
   ],
   "source": [
    "import os\n",
    "import gc\n",
    "import numpy as np\n",
    "import pandas as pd\n",
    "import tensorflow as tf\n",
    "import matplotlib.pyplot as plt\n",
    "import seaborn as sns\n",
    "\n",
    "from tensorflow import keras\n",
    "from tensorflow.keras import layers\n",
    "from tensorflow.keras import backend as K\n",
    "\n",
    "from sklearn.model_selection import StratifiedKFold\n",
    "from sklearn.preprocessing import StandardScaler, LabelEncoder\n",
    "from sklearn.metrics import confusion_matrix\n",
    "\n",
    "from warnings import filterwarnings\n",
    "filterwarnings('ignore')\n",
    "\n",
    "os.environ['TF_CPP_MIN_LOG_LEVEL'] = '3'"
   ]
  },
  {
   "cell_type": "markdown",
   "id": "3ad65636",
   "metadata": {
    "papermill": {
     "duration": 0.014011,
     "end_time": "2021-12-10T02:00:44.276255",
     "exception": false,
     "start_time": "2021-12-10T02:00:44.262244",
     "status": "completed"
    },
    "tags": []
   },
   "source": [
    "<img src=\"https://i.ibb.co/PWvpT9F/header.png\" alt=\"header\" border=\"0\" width=800 height=300>"
   ]
  },
  {
   "cell_type": "markdown",
   "id": "a4b8d9d2",
   "metadata": {
    "papermill": {
     "duration": 0.015452,
     "end_time": "2021-12-10T02:00:44.307192",
     "exception": false,
     "start_time": "2021-12-10T02:00:44.291740",
     "status": "completed"
    },
    "tags": []
   },
   "source": [
    "# Introduction"
   ]
  },
  {
   "cell_type": "markdown",
   "id": "1b47a426",
   "metadata": {
    "papermill": {
     "duration": 0.014396,
     "end_time": "2021-12-10T02:00:44.336754",
     "exception": false,
     "start_time": "2021-12-10T02:00:44.322358",
     "status": "completed"
    },
    "tags": []
   },
   "source": [
    "<div style=\"font-size:110%;line-height:155%\">\n",
    "<p>Hi,</p>\n",
    "<p>while I'm still enjoying my deep-learning adventure, reading and learning a ton of stuff - I decided it's time to implement different kinds of networks with this month competition. With this notebook I'm trying a <b>Deep & Cross</b> architecture. The idea here is to create polynomial features of increasing degrees with each layer while training a fully-connected neural net in parallel. Both networks will be concatenated in the end to make the final prediction.\n",
    "    \n",
    "<blockquote><img src=\"https://i.ibb.co/37CQmF9/DNN-CROSS-DEEP.png\" width=\"35%\" alt=\"DNN-CROSS-DEEP\" border=\"0\"></blockquote>\n",
    "    \n",
    "<p>Feel free to take a look at my other notebooks, covering some different ideas and architectures:\n",
    "    <li><a href=\"https://www.kaggle.com/mlanhenke/tps-12-simple-nn-baseline-keras\">Simple NN Baseline</a></li>\n",
    "    <li><a href=\"https://www.kaggle.com/mlanhenke/tps-12-deep-wide-nn-keras\">Deep & Wide NN </a></li>\n",
    "    <li><a href=\"https://www.kaggle.com/mlanhenke/tps-12-bn-autoencoder-nn-keras\">Bottleneck Autoencoder</a></li>\n",
    "    <li><a href=\"https://www.kaggle.com/mlanhenke/tps-12-denoising-autoencoder-nn-keras\">Deepstack Denoising Autoencoder</a></li>\n",
    "</p>\n",
    "    \n",
    "<em>Thank you very much for taking some time to read my notebook. Please leave an upvote if you find any of this information useful.</em>\n",
    "</div>"
   ]
  },
  {
   "cell_type": "markdown",
   "id": "5803f904",
   "metadata": {
    "papermill": {
     "duration": 0.013923,
     "end_time": "2021-12-10T02:00:44.365021",
     "exception": false,
     "start_time": "2021-12-10T02:00:44.351098",
     "status": "completed"
    },
    "tags": []
   },
   "source": [
    "# Import & Prepare Data"
   ]
  },
  {
   "cell_type": "code",
   "execution_count": 2,
   "id": "bb96f8a3",
   "metadata": {
    "execution": {
     "iopub.execute_input": "2021-12-10T02:00:44.397810Z",
     "iopub.status.busy": "2021-12-10T02:00:44.396730Z",
     "iopub.status.idle": "2021-12-10T02:01:17.573485Z",
     "shell.execute_reply": "2021-12-10T02:01:17.574060Z",
     "shell.execute_reply.started": "2021-12-07T14:34:32.826212Z"
    },
    "papermill": {
     "duration": 33.194862,
     "end_time": "2021-12-10T02:01:17.574261",
     "exception": false,
     "start_time": "2021-12-10T02:00:44.379399",
     "status": "completed"
    },
    "tags": []
   },
   "outputs": [
    {
     "name": "stdout",
     "output_type": "stream",
     "text": [
      "(3999999, 51) (3999999,) (3999999, 6) (1000000, 51)\n",
      "CPU times: user 18 s, sys: 5.08 s, total: 23.1 s\n",
      "Wall time: 33.2 s\n"
     ]
    }
   ],
   "source": [
    "%%time\n",
    "# import train & test data\n",
    "df_train = pd.read_csv('../input/tabular-playground-series-dec-2021/train.csv')\n",
    "df_test = pd.read_csv('../input/tabular-playground-series-dec-2021/test.csv')\n",
    "\n",
    "sample_submission = pd.read_csv('../input/tabular-playground-series-dec-2021/sample_submission.csv')\n",
    "\n",
    "# drop underrepresented class\n",
    "df_train = df_train[df_train['Cover_Type'] != 5]\n",
    "\n",
    "# apply feature-engineering\n",
    "# thanks to https://www.kaggle.com/c/tabular-playground-series-dec-2021/discussion/293373\n",
    "df_train['Aspect'][df_train['Aspect'] < 0] += 360 \n",
    "df_train['Aspect'][df_train['Aspect'] > 359] -= 360\n",
    "df_test['Aspect'][df_test['Aspect'] < 0] += 360 \n",
    "df_test['Aspect'][df_test['Aspect'] > 359] -= 360\n",
    "\n",
    "df_train.loc[df_train[\"Hillshade_9am\"] < 0, \"Hillshade_9am\"] = 0\n",
    "df_test.loc[df_test[\"Hillshade_9am\"] < 0, \"Hillshade_9am\"] = 0\n",
    "\n",
    "df_train.loc[df_train[\"Hillshade_Noon\"] < 0, \"Hillshade_Noon\"] = 0\n",
    "df_test.loc[df_test[\"Hillshade_Noon\"] < 0, \"Hillshade_Noon\"] = 0\n",
    "\n",
    "df_train.loc[df_train[\"Hillshade_3pm\"] < 0, \"Hillshade_3pm\"] = 0\n",
    "df_test.loc[df_test[\"Hillshade_3pm\"] < 0, \"Hillshade_3pm\"] = 0\n",
    "\n",
    "df_train.loc[df_train[\"Hillshade_9am\"] > 255, \"Hillshade_9am\"] = 255\n",
    "df_test.loc[df_test[\"Hillshade_9am\"] > 255, \"Hillshade_9am\"] = 255\n",
    "\n",
    "df_train.loc[df_train[\"Hillshade_Noon\"] > 255, \"Hillshade_Noon\"] = 255\n",
    "df_test.loc[df_test[\"Hillshade_Noon\"] > 255, \"Hillshade_Noon\"] = 255\n",
    "\n",
    "df_train.loc[df_train[\"Hillshade_3pm\"] > 255, \"Hillshade_3pm\"] = 255\n",
    "df_test.loc[df_test[\"Hillshade_3pm\"] > 255, \"Hillshade_3pm\"] = 255\n",
    "\n",
    "# split dataframes for later modeling\n",
    "X = df_train.drop(columns=['Id','Cover_Type','Soil_Type7','Soil_Type15','Soil_Type1']).copy()\n",
    "y = df_train['Cover_Type'].copy()\n",
    "\n",
    "X_test = df_test.drop(columns=['Id','Soil_Type7','Soil_Type15','Soil_Type1']).copy()\n",
    "\n",
    "# create label-encoded one-hot-vector for softmax, mutliclass classification\n",
    "le = LabelEncoder()\n",
    "target = keras.utils.to_categorical(le.fit_transform(y))\n",
    "\n",
    "print(X.shape, y.shape, target.shape, X_test.shape)"
   ]
  },
  {
   "cell_type": "markdown",
   "id": "afa9c4bf",
   "metadata": {
    "papermill": {
     "duration": 0.015458,
     "end_time": "2021-12-10T02:01:17.604241",
     "exception": false,
     "start_time": "2021-12-10T02:01:17.588783",
     "status": "completed"
    },
    "tags": []
   },
   "source": [
    "# Model Setup"
   ]
  },
  {
   "cell_type": "code",
   "execution_count": 3,
   "id": "767795d8",
   "metadata": {
    "_kg_hide-input": true,
    "execution": {
     "iopub.execute_input": "2021-12-10T02:01:17.639946Z",
     "iopub.status.busy": "2021-12-10T02:01:17.639172Z",
     "iopub.status.idle": "2021-12-10T02:01:17.654478Z",
     "shell.execute_reply": "2021-12-10T02:01:17.653863Z",
     "shell.execute_reply.started": "2021-12-07T14:35:00.743523Z"
    },
    "papermill": {
     "duration": 0.034337,
     "end_time": "2021-12-10T02:01:17.654674",
     "exception": false,
     "start_time": "2021-12-10T02:01:17.620337",
     "status": "completed"
    },
    "tags": []
   },
   "outputs": [],
   "source": [
    "# define helper functions\n",
    "def set_seed(seed):\n",
    "    np.random.seed(seed)\n",
    "    tf.random.set_seed(seed)\n",
    "    print(f\"Seed set to: {seed}\")\n",
    "\n",
    "def plot_eval_results(scores, n_splits):\n",
    "    cols = 5\n",
    "    rows = int(np.ceil(n_splits/cols))\n",
    "    \n",
    "    fig, ax = plt.subplots(rows, cols, tight_layout=True, figsize=(20,2.5))\n",
    "    ax = ax.flatten()\n",
    "\n",
    "    for fold in range(len(scores)):\n",
    "        df_eval = pd.DataFrame({'train_loss': scores[fold]['loss'], 'valid_loss': scores[fold]['val_loss']})\n",
    "\n",
    "        sns.lineplot(\n",
    "            x=df_eval.index,\n",
    "            y=df_eval['train_loss'],\n",
    "            label='train_loss',\n",
    "            ax=ax[fold]\n",
    "        )\n",
    "\n",
    "        sns.lineplot(\n",
    "            x=df_eval.index,\n",
    "            y=df_eval['valid_loss'],\n",
    "            label='valid_loss',\n",
    "            ax=ax[fold]\n",
    "        )\n",
    "\n",
    "        ax[fold].set_ylabel('')\n",
    "\n",
    "    sns.despine()\n",
    "\n",
    "def plot_cm(cm):\n",
    "    metrics = {\n",
    "        'accuracy': cm / cm.sum(),\n",
    "        'recall' : cm / cm.sum(axis=1),\n",
    "        'precision': cm / cm.sum(axis=0)\n",
    "    }\n",
    "    \n",
    "    fig, ax = plt.subplots(1,3, tight_layout=True, figsize=(15,5))\n",
    "    ax = ax.flatten()\n",
    "\n",
    "    mask = (np.eye(cm.shape[0]) == 0) * 1\n",
    "\n",
    "    for idx, (name, matrix) in enumerate(metrics.items()):\n",
    "\n",
    "        ax[idx].set_title(name)\n",
    "\n",
    "        sns.heatmap(\n",
    "            data=matrix,\n",
    "            cmap=sns.dark_palette(\"#69d\", reverse=True, as_cmap=True),\n",
    "            cbar=False,\n",
    "            mask=mask,\n",
    "            lw=0.25,\n",
    "            annot=True,\n",
    "            fmt='.2f',\n",
    "            ax=ax[idx]\n",
    "        )\n",
    "    sns.despine()"
   ]
  },
  {
   "cell_type": "code",
   "execution_count": 4,
   "id": "5c1bc22e",
   "metadata": {
    "_kg_hide-input": false,
    "execution": {
     "iopub.execute_input": "2021-12-10T02:01:17.692864Z",
     "iopub.status.busy": "2021-12-10T02:01:17.692048Z",
     "iopub.status.idle": "2021-12-10T02:01:17.695003Z",
     "shell.execute_reply": "2021-12-10T02:01:17.694467Z",
     "shell.execute_reply.started": "2021-12-07T14:35:00.761228Z"
    },
    "papermill": {
     "duration": 0.024436,
     "end_time": "2021-12-10T02:01:17.695179",
     "exception": false,
     "start_time": "2021-12-10T02:01:17.670743",
     "status": "completed"
    },
    "tags": []
   },
   "outputs": [],
   "source": [
    "# define callbacks\n",
    "lr = keras.callbacks.ReduceLROnPlateau(\n",
    "    monitor=\"val_loss\", \n",
    "    factor=0.5, \n",
    "    patience=5, \n",
    "    verbose=True\n",
    ")\n",
    "\n",
    "es = keras.callbacks.EarlyStopping(\n",
    "    monitor=\"val_acc\", \n",
    "    patience=10, \n",
    "    verbose=True, \n",
    "    mode=\"max\", \n",
    "    restore_best_weights=True\n",
    ")"
   ]
  },
  {
   "cell_type": "code",
   "execution_count": 5,
   "id": "27044793",
   "metadata": {
    "execution": {
     "iopub.execute_input": "2021-12-10T02:01:17.738086Z",
     "iopub.status.busy": "2021-12-10T02:01:17.736997Z",
     "iopub.status.idle": "2021-12-10T02:01:17.745257Z",
     "shell.execute_reply": "2021-12-10T02:01:17.745794Z",
     "shell.execute_reply.started": "2021-12-07T14:35:00.778385Z"
    },
    "papermill": {
     "duration": 0.034736,
     "end_time": "2021-12-10T02:01:17.745966",
     "exception": false,
     "start_time": "2021-12-10T02:01:17.711230",
     "status": "completed"
    },
    "tags": []
   },
   "outputs": [],
   "source": [
    "# create custom dense-block\n",
    "class DenseBlock(layers.Layer):\n",
    "    def __init__(self, units, activation='relu', dropout_rate=0, l2=0):\n",
    "        super().__init__()\n",
    "        self.dense = layers.Dense(\n",
    "            units, activation,\n",
    "            kernel_initializer=\"lecun_normal\", \n",
    "            kernel_regularizer=keras.regularizers.l2(l2)\n",
    "        )\n",
    "        self.batchn = layers.BatchNormalization()\n",
    "        self.dropout = layers.Dropout(dropout_rate)\n",
    "    \n",
    "    def call(self, inputs):\n",
    "        x = self.dense(inputs)\n",
    "        x = self.batchn(x)\n",
    "        x = self.dropout(x)\n",
    "        return x\n",
    "    \n",
    "# create dense & cross model\n",
    "class CrossNet(keras.Model):\n",
    "    def __init__(self, hidden_layers, activation='relu', dropout_rate=0, l2=0):\n",
    "        super().__init__()\n",
    "        self.dense_layers = [\n",
    "            DenseBlock(units, activation, l2)\n",
    "            for units in hidden_layers\n",
    "        ]\n",
    "        self.dense = layers.Dense(units=X.shape[-1])\n",
    "        self.concat = layers.Concatenate()\n",
    "        self.batchn = layers.BatchNormalization()\n",
    "        self.softmax = layers.Dense(units=target.shape[-1], activation='softmax')\n",
    "        \n",
    "    def call(self, inputs):\n",
    "        dense, cross = inputs, inputs\n",
    "        for dense_layer in self.dense_layers:\n",
    "            dense = dense_layer(dense)\n",
    "            cross_current = self.dense(cross)\n",
    "            cross = inputs * cross_current + cross\n",
    "        cross = self.batchn(cross)\n",
    "        merged = self.concat([dense, cross])\n",
    "        return self.softmax(merged)"
   ]
  },
  {
   "cell_type": "markdown",
   "id": "e45adab5",
   "metadata": {
    "papermill": {
     "duration": 0.014154,
     "end_time": "2021-12-10T02:01:17.774801",
     "exception": false,
     "start_time": "2021-12-10T02:01:17.760647",
     "status": "completed"
    },
    "tags": []
   },
   "source": [
    "# Training"
   ]
  },
  {
   "cell_type": "code",
   "execution_count": 6,
   "id": "a3b41f6f",
   "metadata": {
    "execution": {
     "iopub.execute_input": "2021-12-10T02:01:17.807162Z",
     "iopub.status.busy": "2021-12-10T02:01:17.806456Z",
     "iopub.status.idle": "2021-12-10T02:01:23.594767Z",
     "shell.execute_reply": "2021-12-10T02:01:23.595350Z",
     "shell.execute_reply.started": "2021-12-07T14:35:00.794694Z"
    },
    "papermill": {
     "duration": 5.806456,
     "end_time": "2021-12-10T02:01:23.595795",
     "exception": false,
     "start_time": "2021-12-10T02:01:17.789339",
     "status": "completed"
    },
    "tags": []
   },
   "outputs": [
    {
     "name": "stderr",
     "output_type": "stream",
     "text": [
      "2021-12-10 02:01:17.813751: I tensorflow/compiler/jit/xla_cpu_device.cc:41] Not creating XLA devices, tf_xla_enable_xla_devices not set\n",
      "2021-12-10 02:01:17.817408: W tensorflow/stream_executor/platform/default/dso_loader.cc:60] Could not load dynamic library 'libcuda.so.1'; dlerror: libcuda.so.1: cannot open shared object file: No such file or directory; LD_LIBRARY_PATH: /opt/conda/lib\n",
      "2021-12-10 02:01:17.817449: W tensorflow/stream_executor/cuda/cuda_driver.cc:326] failed call to cuInit: UNKNOWN ERROR (303)\n",
      "2021-12-10 02:01:17.817477: I tensorflow/stream_executor/cuda/cuda_diagnostics.cc:156] kernel driver does not appear to be running on this host (7fc39d5f8279): /proc/driver/nvidia/version does not exist\n",
      "2021-12-10 02:01:17.820223: I tensorflow/core/platform/cpu_feature_guard.cc:142] This TensorFlow binary is optimized with oneAPI Deep Neural Network Library (oneDNN) to use the following CPU instructions in performance-critical operations:  AVX2 FMA\n",
      "To enable them in other operations, rebuild TensorFlow with the appropriate compiler flags.\n",
      "2021-12-10 02:01:17.822074: I tensorflow/compiler/jit/xla_gpu_device.cc:99] Not creating XLA devices, tf_xla_enable_xla_devices not set\n",
      "2021-12-10 02:01:17.829907: I tensorflow/compiler/jit/xla_gpu_device.cc:99] Not creating XLA devices, tf_xla_enable_xla_devices not set\n",
      "2021-12-10 02:01:17.858915: I tensorflow/core/distributed_runtime/rpc/grpc_channel.cc:301] Initialize GrpcChannelCache for job worker -> {0 -> 10.0.0.2:8470}\n",
      "2021-12-10 02:01:17.858974: I tensorflow/core/distributed_runtime/rpc/grpc_channel.cc:301] Initialize GrpcChannelCache for job localhost -> {0 -> localhost:30019}\n",
      "2021-12-10 02:01:17.885312: I tensorflow/core/distributed_runtime/rpc/grpc_channel.cc:301] Initialize GrpcChannelCache for job worker -> {0 -> 10.0.0.2:8470}\n",
      "2021-12-10 02:01:17.885377: I tensorflow/core/distributed_runtime/rpc/grpc_channel.cc:301] Initialize GrpcChannelCache for job localhost -> {0 -> localhost:30019}\n",
      "2021-12-10 02:01:17.887027: I tensorflow/core/distributed_runtime/rpc/grpc_server_lib.cc:411] Started server with target: grpc://localhost:30019\n"
     ]
    },
    {
     "name": "stdout",
     "output_type": "stream",
     "text": [
      "Running on TPU: grpc://10.0.0.2:8470\n"
     ]
    }
   ],
   "source": [
    "try:\n",
    "    tpu = tf.distribute.cluster_resolver.TPUClusterResolver.connect()\n",
    "    tf_strategy = tf.distribute.experimental.TPUStrategy(tpu)\n",
    "    print(\"Running on TPU:\", tpu.master())\n",
    "except:\n",
    "    tf_strategy = tf.distribute.get_strategy()\n",
    "    print(f\"Running on {tf_strategy.num_replicas_in_sync} replicas\")\n",
    "    print(\"Number of GPUs Available: \", len(tf.config.list_physical_devices('GPU')))"
   ]
  },
  {
   "cell_type": "code",
   "execution_count": 7,
   "id": "e889e10e",
   "metadata": {
    "execution": {
     "iopub.execute_input": "2021-12-10T02:01:23.647423Z",
     "iopub.status.busy": "2021-12-10T02:01:23.646682Z",
     "iopub.status.idle": "2021-12-10T02:26:21.204123Z",
     "shell.execute_reply": "2021-12-10T02:26:21.203338Z",
     "shell.execute_reply.started": "2021-12-07T14:35:06.773484Z"
    },
    "papermill": {
     "duration": 1497.591233,
     "end_time": "2021-12-10T02:26:21.204368",
     "exception": false,
     "start_time": "2021-12-10T02:01:23.613135",
     "status": "completed"
    },
    "tags": []
   },
   "outputs": [
    {
     "name": "stdout",
     "output_type": "stream",
     "text": [
      "Seed set to: 2021\n",
      "\n",
      "Epoch 00035: ReduceLROnPlateau reducing learning rate to 0.0005000000237487257.\n",
      "\n",
      "Epoch 00050: ReduceLROnPlateau reducing learning rate to 0.0002500000118743628.\n",
      "\n",
      "Epoch 00059: ReduceLROnPlateau reducing learning rate to 0.0001250000059371814.\n",
      "\n",
      "Epoch 00065: ReduceLROnPlateau reducing learning rate to 6.25000029685907e-05.\n",
      "Restoring model weights from the end of the best epoch.\n",
      "Epoch 00070: early stopping\n",
      "_________________________________________________________________\n",
      "Fold 1 || Min Val Loss: 0.077738918364048\n",
      "\n",
      "Epoch 00028: ReduceLROnPlateau reducing learning rate to 0.0005000000237487257.\n",
      "\n",
      "Epoch 00040: ReduceLROnPlateau reducing learning rate to 0.0002500000118743628.\n",
      "\n",
      "Epoch 00046: ReduceLROnPlateau reducing learning rate to 0.0001250000059371814.\n",
      "\n",
      "Epoch 00053: ReduceLROnPlateau reducing learning rate to 6.25000029685907e-05.\n",
      "\n",
      "Epoch 00059: ReduceLROnPlateau reducing learning rate to 3.125000148429535e-05.\n",
      "\n",
      "Epoch 00064: ReduceLROnPlateau reducing learning rate to 1.5625000742147677e-05.\n",
      "Restoring model weights from the end of the best epoch.\n",
      "Epoch 00064: early stopping\n",
      "_________________________________________________________________\n",
      "Fold 2 || Min Val Loss: 0.0774703323841095\n",
      "\n",
      "Epoch 00039: ReduceLROnPlateau reducing learning rate to 0.0005000000237487257.\n",
      "\n",
      "Epoch 00046: ReduceLROnPlateau reducing learning rate to 0.0002500000118743628.\n",
      "\n",
      "Epoch 00052: ReduceLROnPlateau reducing learning rate to 0.0001250000059371814.\n",
      "\n",
      "Epoch 00058: ReduceLROnPlateau reducing learning rate to 6.25000029685907e-05.\n",
      "\n",
      "Epoch 00065: ReduceLROnPlateau reducing learning rate to 3.125000148429535e-05.\n",
      "\n",
      "Epoch 00070: ReduceLROnPlateau reducing learning rate to 1.5625000742147677e-05.\n",
      "\n",
      "Epoch 00075: ReduceLROnPlateau reducing learning rate to 7.812500371073838e-06.\n",
      "Restoring model weights from the end of the best epoch.\n",
      "Epoch 00080: early stopping\n",
      "_________________________________________________________________\n",
      "Fold 3 || Min Val Loss: 0.07714734226465225\n",
      "Restoring model weights from the end of the best epoch.\n",
      "Epoch 00028: early stopping\n",
      "_________________________________________________________________\n",
      "Fold 4 || Min Val Loss: 0.08290868997573853\n",
      "\n",
      "Epoch 00030: ReduceLROnPlateau reducing learning rate to 0.0005000000237487257.\n",
      "\n",
      "Epoch 00039: ReduceLROnPlateau reducing learning rate to 0.0002500000118743628.\n",
      "\n",
      "Epoch 00047: ReduceLROnPlateau reducing learning rate to 0.0001250000059371814.\n",
      "\n",
      "Epoch 00053: ReduceLROnPlateau reducing learning rate to 6.25000029685907e-05.\n",
      "\n",
      "Epoch 00059: ReduceLROnPlateau reducing learning rate to 3.125000148429535e-05.\n",
      "\n",
      "Epoch 00064: ReduceLROnPlateau reducing learning rate to 1.5625000742147677e-05.\n",
      "Restoring model weights from the end of the best epoch.\n",
      "Epoch 00064: early stopping\n",
      "_________________________________________________________________\n",
      "Fold 5 || Min Val Loss: 0.07780202478170395\n",
      "_________________________________________________________________\n",
      "Overall Mean Validation Loss: 0.07861346155405044\n"
     ]
    }
   ],
   "source": [
    "seed = 2021\n",
    "set_seed(seed)\n",
    "\n",
    "cv = StratifiedKFold(n_splits=5, shuffle=True, random_state=1)\n",
    "\n",
    "predictions = []\n",
    "oof_preds = {'y_valid': list(), 'y_hat': list()}\n",
    "scores_nn = {fold:None for fold in range(cv.n_splits)}\n",
    "\n",
    "for fold, (idx_train, idx_valid) in enumerate(cv.split(X,y)):\n",
    "    X_train, y_train = X.iloc[idx_train], target[idx_train]\n",
    "    X_valid, y_valid = X.iloc[idx_valid], target[idx_valid]\n",
    "\n",
    "    # scale data\n",
    "    scl = StandardScaler()\n",
    "    X_train = scl.fit_transform(X_train)\n",
    "    X_valid = scl.transform(X_valid)\n",
    "    \n",
    "    with tf_strategy.scope():\n",
    "        model = CrossNet(\n",
    "            hidden_layers=[128 for _ in range(5)],\n",
    "            activation='selu',\n",
    "            dropout_rate=0.3\n",
    "        )\n",
    "\n",
    "        model.compile(\n",
    "            optimizer=keras.optimizers.Adam(learning_rate=1e-3),\n",
    "            loss=keras.losses.CategoricalCrossentropy(),\n",
    "            metrics=['acc']\n",
    "        )\n",
    "\n",
    "    history = model.fit(\n",
    "        X_train, y_train,\n",
    "        validation_data=(X_valid, y_valid),\n",
    "        epochs=500,\n",
    "        batch_size=4096,\n",
    "        shuffle=True,\n",
    "        verbose=False,\n",
    "        callbacks=[lr,es]\n",
    "    )\n",
    "\n",
    "    scores_nn[fold] = history.history\n",
    "\n",
    "    oof_preds['y_valid'].extend(y.iloc[idx_valid])\n",
    "    oof_preds['y_hat'].extend(model.predict(X_valid, batch_size=4096))\n",
    "\n",
    "    prediction = model.predict(scl.transform(X_test), batch_size=4096)\n",
    "    predictions.append(prediction)\n",
    "\n",
    "    del model, prediction\n",
    "    gc.collect()\n",
    "    K.clear_session()\n",
    "\n",
    "    print('_'*65)\n",
    "    print(f\"Fold {fold+1} || Min Val Loss: {np.min(scores_nn[fold]['val_loss'])}\")\n",
    "\n",
    "overall_score = [np.min(scores_nn[fold]['val_loss']) for fold in range(cv.n_splits)]\n",
    "print('_'*65)\n",
    "print(f\"Overall Mean Validation Loss: {np.mean(overall_score)}\")"
   ]
  },
  {
   "cell_type": "markdown",
   "id": "6f07d3ba",
   "metadata": {
    "papermill": {
     "duration": 0.025853,
     "end_time": "2021-12-10T02:26:21.256474",
     "exception": false,
     "start_time": "2021-12-10T02:26:21.230621",
     "status": "completed"
    },
    "tags": []
   },
   "source": [
    "# Evaluation & Submission"
   ]
  },
  {
   "cell_type": "code",
   "execution_count": 8,
   "id": "872ca904",
   "metadata": {
    "_kg_hide-input": true,
    "execution": {
     "iopub.execute_input": "2021-12-10T02:26:21.312625Z",
     "iopub.status.busy": "2021-12-10T02:26:21.311881Z",
     "iopub.status.idle": "2021-12-10T02:26:22.634315Z",
     "shell.execute_reply": "2021-12-10T02:26:22.634861Z",
     "shell.execute_reply.started": "2021-12-07T14:37:12.923547Z"
    },
    "papermill": {
     "duration": 1.352507,
     "end_time": "2021-12-10T02:26:22.635049",
     "exception": false,
     "start_time": "2021-12-10T02:26:21.282542",
     "status": "completed"
    },
    "tags": []
   },
   "outputs": [
    {
     "data": {
      "image/png": "[encoded data removed]",
      "text/plain": [
       "<Figure size 1440x180 with 5 Axes>"
      ]
     },
     "metadata": {
      "needs_background": "light"
     },
     "output_type": "display_data"
    }
   ],
   "source": [
    "plot_eval_results(scores_nn, cv.n_splits)"
   ]
  },
  {
   "cell_type": "code",
   "execution_count": 9,
   "id": "a277e47c",
   "metadata": {
    "_kg_hide-input": true,
    "execution": {
     "iopub.execute_input": "2021-12-10T02:26:23.673176Z",
     "iopub.status.busy": "2021-12-10T02:26:23.672104Z",
     "iopub.status.idle": "2021-12-10T02:26:31.856990Z",
     "shell.execute_reply": "2021-12-10T02:26:31.856414Z",
     "shell.execute_reply.started": "2021-12-07T14:37:12.925869Z"
    },
    "papermill": {
     "duration": 9.193602,
     "end_time": "2021-12-10T02:26:31.857133",
     "exception": false,
     "start_time": "2021-12-10T02:26:22.663531",
     "status": "completed"
    },
    "tags": []
   },
   "outputs": [
    {
     "data": {
      "image/png": "[encoded data removed]",
      "text/plain": [
       "<Figure size 1080x360 with 3 Axes>"
      ]
     },
     "metadata": {
      "needs_background": "light"
     },
     "output_type": "display_data"
    }
   ],
   "source": [
    "# prepare oof_predictions\n",
    "oof_y_true = np.array(oof_preds['y_valid'])\n",
    "oof_y_hat = le.inverse_transform(np.argmax(oof_preds['y_hat'], axis=1))\n",
    "\n",
    "# create confusion matrix, calculate accuracy, recall & precision\n",
    "cm = pd.DataFrame(data=confusion_matrix(oof_y_true, oof_y_hat, labels=le.classes_), index=le.classes_, columns=le.classes_)\n",
    "plot_cm(cm)"
   ]
  },
  {
   "cell_type": "code",
   "execution_count": 10,
   "id": "d3b1cf3c",
   "metadata": {
    "execution": {
     "iopub.execute_input": "2021-12-10T02:26:31.921908Z",
     "iopub.status.busy": "2021-12-10T02:26:31.921224Z",
     "iopub.status.idle": "2021-12-10T02:26:34.179994Z",
     "shell.execute_reply": "2021-12-10T02:26:34.179416Z",
     "shell.execute_reply.started": "2021-12-07T14:37:12.92749Z"
    },
    "papermill": {
     "duration": 2.293905,
     "end_time": "2021-12-10T02:26:34.180170",
     "exception": false,
     "start_time": "2021-12-10T02:26:31.886265",
     "status": "completed"
    },
    "tags": []
   },
   "outputs": [
    {
     "data": {
      "image/png": "[encoded data removed]",
      "text/plain": [
       "<Figure size 432x288 with 1 Axes>"
      ]
     },
     "metadata": {
      "needs_background": "light"
     },
     "output_type": "display_data"
    }
   ],
   "source": [
    "#create final prediction, inverse labels to original classes\n",
    "final_predictions = le.inverse_transform(np.argmax(sum(predictions), axis=1))\n",
    "\n",
    "sample_submission['Cover_Type'] = final_predictions\n",
    "sample_submission.to_csv('./submission.csv', index=False)\n",
    "\n",
    "sns.countplot(final_predictions)\n",
    "sns.despine()"
   ]
  },
  {
   "cell_type": "code",
   "execution_count": 11,
   "id": "5f591535",
   "metadata": {
    "_kg_hide-input": true,
    "execution": {
     "iopub.execute_input": "2021-12-10T02:26:34.244179Z",
     "iopub.status.busy": "2021-12-10T02:26:34.243079Z",
     "iopub.status.idle": "2021-12-10T02:26:34.256579Z",
     "shell.execute_reply": "2021-12-10T02:26:34.255898Z",
     "shell.execute_reply.started": "2021-12-07T14:37:12.935943Z"
    },
    "papermill": {
     "duration": 0.046431,
     "end_time": "2021-12-10T02:26:34.256719",
     "exception": false,
     "start_time": "2021-12-10T02:26:34.210288",
     "status": "completed"
    },
    "tags": []
   },
   "outputs": [
    {
     "data": {
      "text/html": [
       "<div>\n",
       "<style scoped>\n",
       "    .dataframe tbody tr th:only-of-type {\n",
       "        vertical-align: middle;\n",
       "    }\n",
       "\n",
       "    .dataframe tbody tr th {\n",
       "        vertical-align: top;\n",
       "    }\n",
       "\n",
       "    .dataframe thead th {\n",
       "        text-align: right;\n",
       "    }\n",
       "</style>\n",
       "<table border=\"1\" class=\"dataframe\">\n",
       "  <thead>\n",
       "    <tr style=\"text-align: right;\">\n",
       "      <th></th>\n",
       "      <th>Id</th>\n",
       "      <th>Cover_Type</th>\n",
       "    </tr>\n",
       "  </thead>\n",
       "  <tbody>\n",
       "    <tr>\n",
       "      <th>0</th>\n",
       "      <td>4000000</td>\n",
       "      <td>2</td>\n",
       "    </tr>\n",
       "    <tr>\n",
       "      <th>1</th>\n",
       "      <td>4000001</td>\n",
       "      <td>2</td>\n",
       "    </tr>\n",
       "    <tr>\n",
       "      <th>2</th>\n",
       "      <td>4000002</td>\n",
       "      <td>2</td>\n",
       "    </tr>\n",
       "    <tr>\n",
       "      <th>3</th>\n",
       "      <td>4000003</td>\n",
       "      <td>2</td>\n",
       "    </tr>\n",
       "    <tr>\n",
       "      <th>4</th>\n",
       "      <td>4000004</td>\n",
       "      <td>2</td>\n",
       "    </tr>\n",
       "  </tbody>\n",
       "</table>\n",
       "</div>"
      ],
      "text/plain": [
       "        Id  Cover_Type\n",
       "0  4000000           2\n",
       "1  4000001           2\n",
       "2  4000002           2\n",
       "3  4000003           2\n",
       "4  4000004           2"
      ]
     },
     "execution_count": 11,
     "metadata": {},
     "output_type": "execute_result"
    }
   ],
   "source": [
    "sample_submission.head()"
   ]
  }
 ],
 "metadata": {
  "kernelspec": {
   "display_name": "Python 3",
   "language": "python",
   "name": "python3"
  },
  "language_info": {
   "codemirror_mode": {
    "name": "ipython",
    "version": 3
   },
   "file_extension": ".py",
   "mimetype": "text/x-python",
   "name": "python",
   "nbconvert_exporter": "python",
   "pygments_lexer": "ipython3",
   "version": "3.7.10"
  },
  "papermill": {
   "default_parameters": {},
   "duration": 1568.20046,
   "end_time": "2021-12-10T02:26:36.997751",
   "environment_variables": {},
   "exception": null,
   "input_path": "__notebook__.ipynb",
   "output_path": "__notebook__.ipynb",
   "parameters": {},
   "start_time": "2021-12-10T02:00:28.797291",
   "version": "2.3.3"
  }
 },
 "nbformat": 4,
 "nbformat_minor": 5
}
