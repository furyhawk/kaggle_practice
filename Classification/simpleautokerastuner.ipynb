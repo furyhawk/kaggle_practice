{
 "cells": [
  {
   "cell_type": "markdown",
   "id": "a87ce0e1",
   "metadata": {
    "papermill": {
     "duration": 0.041622,
     "end_time": "2021-12-17T08:16:48.502419",
     "exception": false,
     "start_time": "2021-12-17T08:16:48.460797",
     "status": "completed"
    },
    "tags": []
   },
   "source": [
    "# Introduction #\n",
    "Welcome. Let automate machine learning as much as possible.\n",
    "<blockquote style=\"margin-right:auto; margin-left:auto; padding: 1em; margin:24px;\">\n",
    "    <strong>Fork This Notebook!</strong><br>\n",
    "Create your own editable copy of this notebook by clicking on the <strong>Copy and Edit</strong> button in the top right corner.\n",
    "</blockquote>\n",
    "\n",
    "Bugs:\n",
    "AK - No val_loss, val_accuracy from history.\n",
    "\n",
    "## Imports and Configuration ##\n",
    "\n",
    "We'll start by importing the packages we used in the exercises and setting some notebook defaults. Unhide this cell if you'd like to see the libraries we'll use:"
   ]
  },
  {
   "cell_type": "code",
   "execution_count": 1,
   "id": "c5bcb742",
   "metadata": {
    "_cell_guid": "b1076dfc-b9ad-4769-8c92-a6c4dae69d19",
    "_uuid": "8f2839f25d086af736a60e9eeb907d3b93b6e0e5",
    "execution": {
     "iopub.execute_input": "2021-12-17T08:16:48.587928Z",
     "iopub.status.busy": "2021-12-17T08:16:48.586792Z",
     "iopub.status.idle": "2021-12-17T08:16:55.922831Z",
     "shell.execute_reply": "2021-12-17T08:16:55.923442Z",
     "shell.execute_reply.started": "2021-12-17T07:57:43.208879Z"
    },
    "papermill": {
     "duration": 7.38093,
     "end_time": "2021-12-17T08:16:55.923774",
     "exception": false,
     "start_time": "2021-12-17T08:16:48.542844",
     "status": "completed"
    },
    "tags": []
   },
   "outputs": [],
   "source": [
    "import os\n",
    "import warnings\n",
    "from pathlib import Path\n",
    "\n",
    "import matplotlib.pyplot as plt\n",
    "import numpy as np\n",
    "import pandas as pd\n",
    "import seaborn as sns\n",
    "from IPython.display import display\n",
    "from pandas.api.types import CategoricalDtype\n",
    "from matplotlib.ticker import MaxNLocator, FormatStrFormatter, PercentFormatter\n",
    "\n",
    "from imblearn.over_sampling import RandomOverSampler\n",
    "from imblearn.under_sampling import RandomUnderSampler, TomekLinks\n",
    "\n",
    "# from category_encoders import MEstimateEncoder\n",
    "# from sklearn.cluster import KMeans\n",
    "# from sklearn.decomposition import PCA\n",
    "# from sklearn.feature_selection import mutual_info_regression\n",
    "from sklearn.model_selection import KFold, cross_val_score, train_test_split\n",
    "from sklearn.preprocessing import StandardScaler, MinMaxScaler, RobustScaler\n",
    "from sklearn.pipeline import make_pipeline\n",
    "from sklearn.compose import make_column_transformer\n",
    "\n",
    "import tensorflow as tf\n",
    "from tensorflow import keras\n",
    "from tensorflow.keras import layers\n",
    "\n",
    "# from IPython.display import clear_output\n",
    "# !pip install -q -U keras-tuner\n",
    "# clear_output()\n",
    "import keras_tuner as kt\n",
    "\n",
    "# Set Matplotlib defaults\n",
    "plt.style.use(\"seaborn-whitegrid\")\n",
    "plt.rc(\"figure\", autolayout=True)\n",
    "plt.rc(\n",
    "    \"axes\",\n",
    "    labelweight=\"bold\",\n",
    "    labelsize=\"large\",\n",
    "    titleweight=\"bold\",\n",
    "    titlesize=14,\n",
    "    titlepad=10,\n",
    ")\n",
    "\n",
    "# Mute warnings\n",
    "warnings.filterwarnings('ignore')"
   ]
  },
  {
   "cell_type": "markdown",
   "id": "42588403",
   "metadata": {
    "papermill": {
     "duration": 0.039451,
     "end_time": "2021-12-17T08:16:56.003958",
     "exception": false,
     "start_time": "2021-12-17T08:16:55.964507",
     "status": "completed"
    },
    "tags": []
   },
   "source": [
    "# Parameters\n"
   ]
  },
  {
   "cell_type": "code",
   "execution_count": 2,
   "id": "ff1686ff",
   "metadata": {
    "execution": {
     "iopub.execute_input": "2021-12-17T08:16:56.096175Z",
     "iopub.status.busy": "2021-12-17T08:16:56.095521Z",
     "iopub.status.idle": "2021-12-17T08:16:56.098142Z",
     "shell.execute_reply": "2021-12-17T08:16:56.097506Z",
     "shell.execute_reply.started": "2021-12-17T07:59:35.676891Z"
    },
    "papermill": {
     "duration": 0.05051,
     "end_time": "2021-12-17T08:16:56.098298",
     "exception": false,
     "start_time": "2021-12-17T08:16:56.047788",
     "status": "completed"
    },
    "tags": []
   },
   "outputs": [],
   "source": [
    "# -----------------------------------------------------------------\n",
    "# Some parameters to config \n",
    "MAX_TRIAL = 1 # speed trial any%\n",
    "EPOCHS = 60\n",
    "\n",
    "# not used\n",
    "BATCH_SIZE = 2048 # large enough to fit RAM\n",
    "ACTIVATION = 'selu'\n",
    "KERNEL_INIT = \"glorot_uniform\" # lecun_normal\n",
    "LEARNING_RATE = 0.000965713 # Optimal lr is about half the maximum lr\n",
    "LR_FACTOR = 0.5 # LEARNING_RATE * LR_FACTOR = New Learning rate on ReduceLROnPlateau\n",
    "ES_PATIENCE = 10\n",
    "RLRP_PATIENCE = 5\n",
    "DROPOUT = 0.15\n",
    "\n",
    "OPTIMIZER = 'adam' # adam adamax nadam\n",
    "LOSS ='sparse_categorical_crossentropy' # sparse_categorical_crossentropy categorical_crossentropy\n",
    "METRICS ='accuracy'  # acc accuracy categorical_accuracy sparse_categorical_accuracy\n",
    "ACC_VAL_METRICS = 'val_accuracy' # 'val_acc' val_accuracy val_sparse_categorical_accuracy\n",
    "ACC_METRICS = 'accuracy' # acc accuracy 'sparse_categorical_accuracy'\n",
    "\n",
    "RANDOM_STATE = 31\n",
    "VERBOSE = 1\n",
    "\n",
    "# The dataset is too huge for free contrainer. Sampling it for more fun!\n",
    "SAMPLE = 195712 # [1468136, 2262087, 195712, 377, 1, 11426, 62261] # 4000000 total rows\n",
    "VALIDATION_SPLIT = 0.25\n",
    "\n",
    "# Admin\n",
    "ID = \"Id\" # Id id x X index\n",
    "INPUT = \"../input/tabular-playground-series-dec-2021\""
   ]
  },
  {
   "cell_type": "markdown",
   "id": "0d43fb27",
   "metadata": {
    "papermill": {
     "duration": 0.039966,
     "end_time": "2021-12-17T08:16:56.178530",
     "exception": false,
     "start_time": "2021-12-17T08:16:56.138564",
     "status": "completed"
    },
    "tags": []
   },
   "source": [
    "## Data Preprocessing ##\n",
    "\n",
    "Before we can do any feature engineering, we need to *preprocess* the data to get it in a form suitable for analysis. The data we used in the course was a bit simpler than the competition data. For the competition dataset, we'll need to:\n",
    "- **Load** the data from CSV files\n",
    "- **Clean** the data to fix any errors or inconsistencies\n",
    "- **Encode** the statistical data type (numeric, categorical)\n",
    "- **Impute** any missing values\n",
    "\n",
    "We'll wrap all these steps up in a function, which will make easy for you to get a fresh dataframe whenever you need. After reading the CSV file, we'll apply three preprocessing steps, `clean`, `encode`, and `impute`, and then create the data splits: one (`df_train`) for training the model, and one (`df_test`) for making the predictions that you'll submit to the competition for scoring on the leaderboard."
   ]
  },
  {
   "cell_type": "code",
   "execution_count": 3,
   "id": "f70413bf",
   "metadata": {
    "execution": {
     "iopub.execute_input": "2021-12-17T08:16:56.265819Z",
     "iopub.status.busy": "2021-12-17T08:16:56.265136Z",
     "iopub.status.idle": "2021-12-17T08:16:56.266787Z",
     "shell.execute_reply": "2021-12-17T08:16:56.267291Z",
     "shell.execute_reply.started": "2021-12-17T07:31:33.213797Z"
    },
    "papermill": {
     "duration": 0.048089,
     "end_time": "2021-12-17T08:16:56.267445",
     "exception": false,
     "start_time": "2021-12-17T08:16:56.219356",
     "status": "completed"
    },
    "tags": []
   },
   "outputs": [],
   "source": [
    "def load_data():\n",
    "    # Read data\n",
    "    data_dir = Path(INPUT)\n",
    "    df_train = pd.read_csv(data_dir / \"train.csv\", index_col=ID)\n",
    "    df_test = pd.read_csv(data_dir / \"test.csv\", index_col=ID)\n",
    "    # Merge the splits so we can process them together\n",
    "#     df = pd.concat([df_train, df_test])\n",
    "    # Preprocessing\n",
    "#     df = clean(df)\n",
    "#     df = encode(df)\n",
    "    df_train = impute(df_train)\n",
    "    df_test = impute(df_test)\n",
    "    df_train = reduce_mem_usage(df_train)\n",
    "    df_test = reduce_mem_usage(df_test)\n",
    "    # Reform splits\n",
    "#     df_train = df.loc[df_train.index, :]\n",
    "#     df_test = df.loc[df_test.index, :]\n",
    "    return df_train, df_test\n"
   ]
  },
  {
   "cell_type": "markdown",
   "id": "30b52db5",
   "metadata": {
    "papermill": {
     "duration": 0.039678,
     "end_time": "2021-12-17T08:16:56.347086",
     "exception": false,
     "start_time": "2021-12-17T08:16:56.307408",
     "status": "completed"
    },
    "tags": []
   },
   "source": [
    "### Handle Missing Values ###\n",
    "\n",
    "Handling missing values now will make the feature engineering go more smoothly. We'll impute `0` for missing numeric values and `\"None\"` for missing categorical values. You might like to experiment with other imputation strategies. In particular, you could try creating \"missing value\" indicators: `1` whenever a value was imputed and `0` otherwise."
   ]
  },
  {
   "cell_type": "code",
   "execution_count": 4,
   "id": "2a19049b",
   "metadata": {
    "execution": {
     "iopub.execute_input": "2021-12-17T08:16:56.432997Z",
     "iopub.status.busy": "2021-12-17T08:16:56.432365Z",
     "iopub.status.idle": "2021-12-17T08:16:56.435298Z",
     "shell.execute_reply": "2021-12-17T08:16:56.434765Z",
     "shell.execute_reply.started": "2021-12-17T07:31:33.240135Z"
    },
    "papermill": {
     "duration": 0.048192,
     "end_time": "2021-12-17T08:16:56.435434",
     "exception": false,
     "start_time": "2021-12-17T08:16:56.387242",
     "status": "completed"
    },
    "tags": []
   },
   "outputs": [],
   "source": [
    "def impute(df):\n",
    "    for name in df.select_dtypes(\"number\"):\n",
    "        df[name] = df[name].fillna(0)\n",
    "    for name in df.select_dtypes(\"category\"):\n",
    "        df[name] = df[name].fillna(\"None\")\n",
    "    return df"
   ]
  },
  {
   "cell_type": "code",
   "execution_count": 5,
   "id": "93a468fc",
   "metadata": {
    "execution": {
     "iopub.execute_input": "2021-12-17T08:16:56.518916Z",
     "iopub.status.busy": "2021-12-17T08:16:56.518295Z",
     "iopub.status.idle": "2021-12-17T08:16:56.532657Z",
     "shell.execute_reply": "2021-12-17T08:16:56.533254Z",
     "shell.execute_reply.started": "2021-12-17T07:31:33.250178Z"
    },
    "papermill": {
     "duration": 0.057861,
     "end_time": "2021-12-17T08:16:56.533433",
     "exception": false,
     "start_time": "2021-12-17T08:16:56.475572",
     "status": "completed"
    },
    "tags": []
   },
   "outputs": [],
   "source": [
    "def reduce_mem_usage(df, verbose=True):\n",
    "    numerics = ['int16', 'int32', 'int64', 'float16', 'float32', 'float64']\n",
    "    start_mem = df.memory_usage().sum() / 1024**2\n",
    "\n",
    "    for col in df.columns:\n",
    "        col_type = df[col].dtypes\n",
    "\n",
    "        if col_type in numerics:\n",
    "            c_min = df[col].min()\n",
    "            c_max = df[col].max()\n",
    "\n",
    "            if str(col_type)[:3] == 'int':\n",
    "                if c_min > np.iinfo(np.int8).min and c_max < np.iinfo(np.int8).max:\n",
    "                    df[col] = df[col].astype(np.int8)\n",
    "                elif c_min > np.iinfo(np.int16).min and c_max < np.iinfo(np.int16).max:\n",
    "                    df[col] = df[col].astype(np.int16)\n",
    "                elif c_min > np.iinfo(np.int32).min and c_max < np.iinfo(np.int32).max:\n",
    "                    df[col] = df[col].astype(np.int32)\n",
    "                elif c_min > np.iinfo(np.int64).min and c_max < np.iinfo(np.int64).max:\n",
    "                    df[col] = df[col].astype(np.int64)  \n",
    "            else:\n",
    "                if c_min > np.finfo(np.float32).min and c_max < np.finfo(np.float32).max:\n",
    "                    df[col] = df[col].astype(np.float32)\n",
    "                else:\n",
    "                    df[col] = df[col].astype(np.float64)\n",
    "\n",
    "    end_mem = df.memory_usage().sum() / 1024**2\n",
    "\n",
    "    if verbose:\n",
    "        print('Mem. usage decreased to {:5.2f} Mb ({:.1f}% reduction)'.format(end_mem, 100 * (start_mem - end_mem) / start_mem))\n",
    " \n",
    "    return df"
   ]
  },
  {
   "cell_type": "markdown",
   "id": "22114567",
   "metadata": {
    "papermill": {
     "duration": 0.03978,
     "end_time": "2021-12-17T08:16:56.613243",
     "exception": false,
     "start_time": "2021-12-17T08:16:56.573463",
     "status": "completed"
    },
    "tags": []
   },
   "source": [
    "## Load Data ##\n",
    "\n",
    "And now we can call the data loader and get the processed data splits:"
   ]
  },
  {
   "cell_type": "code",
   "execution_count": 6,
   "id": "8f196eb9",
   "metadata": {
    "execution": {
     "iopub.execute_input": "2021-12-17T08:16:56.696212Z",
     "iopub.status.busy": "2021-12-17T08:16:56.695581Z",
     "iopub.status.idle": "2021-12-17T08:17:39.568228Z",
     "shell.execute_reply": "2021-12-17T08:17:39.569024Z",
     "shell.execute_reply.started": "2021-12-17T07:31:33.265065Z"
    },
    "papermill": {
     "duration": 42.916107,
     "end_time": "2021-12-17T08:17:39.569270",
     "exception": false,
     "start_time": "2021-12-17T08:16:56.653163",
     "status": "completed"
    },
    "tags": []
   },
   "outputs": [
    {
     "name": "stdout",
     "output_type": "stream",
     "text": [
      "Mem. usage decreased to 274.66 Mb (83.9% reduction)\n",
      "Mem. usage decreased to 67.71 Mb (83.9% reduction)\n",
      "CPU times: user 27 s, sys: 10.8 s, total: 37.8 s\n",
      "Wall time: 42.9 s\n"
     ]
    }
   ],
   "source": [
    "%%time\n",
    "df_train, df_test = load_data()"
   ]
  },
  {
   "cell_type": "code",
   "execution_count": 7,
   "id": "4ad9e55e",
   "metadata": {
    "execution": {
     "iopub.execute_input": "2021-12-17T08:17:39.655630Z",
     "iopub.status.busy": "2021-12-17T08:17:39.654674Z",
     "iopub.status.idle": "2021-12-17T08:17:40.175343Z",
     "shell.execute_reply": "2021-12-17T08:17:40.175823Z",
     "shell.execute_reply.started": "2021-12-17T07:32:16.213116Z"
    },
    "papermill": {
     "duration": 0.565138,
     "end_time": "2021-12-17T08:17:40.176008",
     "exception": false,
     "start_time": "2021-12-17T08:17:39.610870",
     "status": "completed"
    },
    "tags": []
   },
   "outputs": [
    {
     "data": {
      "text/html": [
       "<div>\n",
       "<style scoped>\n",
       "    .dataframe tbody tr th:only-of-type {\n",
       "        vertical-align: middle;\n",
       "    }\n",
       "\n",
       "    .dataframe tbody tr th {\n",
       "        vertical-align: top;\n",
       "    }\n",
       "\n",
       "    .dataframe thead th {\n",
       "        text-align: right;\n",
       "    }\n",
       "</style>\n",
       "<table border=\"1\" class=\"dataframe\">\n",
       "  <thead>\n",
       "    <tr style=\"text-align: right;\">\n",
       "      <th></th>\n",
       "      <th>Elevation</th>\n",
       "      <th>Aspect</th>\n",
       "      <th>Slope</th>\n",
       "      <th>Horizontal_Distance_To_Hydrology</th>\n",
       "      <th>Vertical_Distance_To_Hydrology</th>\n",
       "      <th>Horizontal_Distance_To_Roadways</th>\n",
       "      <th>Hillshade_9am</th>\n",
       "      <th>Hillshade_Noon</th>\n",
       "      <th>Hillshade_3pm</th>\n",
       "      <th>Horizontal_Distance_To_Fire_Points</th>\n",
       "      <th>...</th>\n",
       "      <th>Soil_Type32</th>\n",
       "      <th>Soil_Type33</th>\n",
       "      <th>Soil_Type34</th>\n",
       "      <th>Soil_Type35</th>\n",
       "      <th>Soil_Type36</th>\n",
       "      <th>Soil_Type37</th>\n",
       "      <th>Soil_Type38</th>\n",
       "      <th>Soil_Type39</th>\n",
       "      <th>Soil_Type40</th>\n",
       "      <th>Cover_Type</th>\n",
       "    </tr>\n",
       "    <tr>\n",
       "      <th>Id</th>\n",
       "      <th></th>\n",
       "      <th></th>\n",
       "      <th></th>\n",
       "      <th></th>\n",
       "      <th></th>\n",
       "      <th></th>\n",
       "      <th></th>\n",
       "      <th></th>\n",
       "      <th></th>\n",
       "      <th></th>\n",
       "      <th></th>\n",
       "      <th></th>\n",
       "      <th></th>\n",
       "      <th></th>\n",
       "      <th></th>\n",
       "      <th></th>\n",
       "      <th></th>\n",
       "      <th></th>\n",
       "      <th></th>\n",
       "      <th></th>\n",
       "      <th></th>\n",
       "    </tr>\n",
       "  </thead>\n",
       "  <tbody>\n",
       "    <tr>\n",
       "      <th>0</th>\n",
       "      <td>3189</td>\n",
       "      <td>40</td>\n",
       "      <td>8</td>\n",
       "      <td>30</td>\n",
       "      <td>13</td>\n",
       "      <td>3270</td>\n",
       "      <td>206</td>\n",
       "      <td>234</td>\n",
       "      <td>193</td>\n",
       "      <td>4873</td>\n",
       "      <td>...</td>\n",
       "      <td>0</td>\n",
       "      <td>0</td>\n",
       "      <td>0</td>\n",
       "      <td>0</td>\n",
       "      <td>0</td>\n",
       "      <td>0</td>\n",
       "      <td>0</td>\n",
       "      <td>0</td>\n",
       "      <td>0</td>\n",
       "      <td>1</td>\n",
       "    </tr>\n",
       "    <tr>\n",
       "      <th>1</th>\n",
       "      <td>3026</td>\n",
       "      <td>182</td>\n",
       "      <td>5</td>\n",
       "      <td>280</td>\n",
       "      <td>29</td>\n",
       "      <td>3270</td>\n",
       "      <td>233</td>\n",
       "      <td>240</td>\n",
       "      <td>106</td>\n",
       "      <td>5423</td>\n",
       "      <td>...</td>\n",
       "      <td>0</td>\n",
       "      <td>0</td>\n",
       "      <td>0</td>\n",
       "      <td>0</td>\n",
       "      <td>0</td>\n",
       "      <td>0</td>\n",
       "      <td>0</td>\n",
       "      <td>0</td>\n",
       "      <td>0</td>\n",
       "      <td>2</td>\n",
       "    </tr>\n",
       "    <tr>\n",
       "      <th>2</th>\n",
       "      <td>3106</td>\n",
       "      <td>13</td>\n",
       "      <td>7</td>\n",
       "      <td>351</td>\n",
       "      <td>37</td>\n",
       "      <td>2914</td>\n",
       "      <td>208</td>\n",
       "      <td>234</td>\n",
       "      <td>137</td>\n",
       "      <td>5269</td>\n",
       "      <td>...</td>\n",
       "      <td>0</td>\n",
       "      <td>0</td>\n",
       "      <td>0</td>\n",
       "      <td>0</td>\n",
       "      <td>0</td>\n",
       "      <td>0</td>\n",
       "      <td>0</td>\n",
       "      <td>0</td>\n",
       "      <td>0</td>\n",
       "      <td>1</td>\n",
       "    </tr>\n",
       "    <tr>\n",
       "      <th>3</th>\n",
       "      <td>3022</td>\n",
       "      <td>276</td>\n",
       "      <td>13</td>\n",
       "      <td>192</td>\n",
       "      <td>16</td>\n",
       "      <td>3034</td>\n",
       "      <td>207</td>\n",
       "      <td>238</td>\n",
       "      <td>156</td>\n",
       "      <td>2866</td>\n",
       "      <td>...</td>\n",
       "      <td>0</td>\n",
       "      <td>0</td>\n",
       "      <td>0</td>\n",
       "      <td>0</td>\n",
       "      <td>0</td>\n",
       "      <td>0</td>\n",
       "      <td>0</td>\n",
       "      <td>0</td>\n",
       "      <td>0</td>\n",
       "      <td>2</td>\n",
       "    </tr>\n",
       "    <tr>\n",
       "      <th>4</th>\n",
       "      <td>2906</td>\n",
       "      <td>186</td>\n",
       "      <td>13</td>\n",
       "      <td>266</td>\n",
       "      <td>22</td>\n",
       "      <td>2916</td>\n",
       "      <td>231</td>\n",
       "      <td>231</td>\n",
       "      <td>154</td>\n",
       "      <td>2642</td>\n",
       "      <td>...</td>\n",
       "      <td>0</td>\n",
       "      <td>0</td>\n",
       "      <td>0</td>\n",
       "      <td>0</td>\n",
       "      <td>0</td>\n",
       "      <td>0</td>\n",
       "      <td>0</td>\n",
       "      <td>0</td>\n",
       "      <td>0</td>\n",
       "      <td>2</td>\n",
       "    </tr>\n",
       "    <tr>\n",
       "      <th>...</th>\n",
       "      <td>...</td>\n",
       "      <td>...</td>\n",
       "      <td>...</td>\n",
       "      <td>...</td>\n",
       "      <td>...</td>\n",
       "      <td>...</td>\n",
       "      <td>...</td>\n",
       "      <td>...</td>\n",
       "      <td>...</td>\n",
       "      <td>...</td>\n",
       "      <td>...</td>\n",
       "      <td>...</td>\n",
       "      <td>...</td>\n",
       "      <td>...</td>\n",
       "      <td>...</td>\n",
       "      <td>...</td>\n",
       "      <td>...</td>\n",
       "      <td>...</td>\n",
       "      <td>...</td>\n",
       "      <td>...</td>\n",
       "      <td>...</td>\n",
       "    </tr>\n",
       "    <tr>\n",
       "      <th>3999995</th>\n",
       "      <td>2954</td>\n",
       "      <td>34</td>\n",
       "      <td>25</td>\n",
       "      <td>51</td>\n",
       "      <td>65</td>\n",
       "      <td>6314</td>\n",
       "      <td>240</td>\n",
       "      <td>237</td>\n",
       "      <td>103</td>\n",
       "      <td>1618</td>\n",
       "      <td>...</td>\n",
       "      <td>0</td>\n",
       "      <td>0</td>\n",
       "      <td>0</td>\n",
       "      <td>0</td>\n",
       "      <td>0</td>\n",
       "      <td>0</td>\n",
       "      <td>0</td>\n",
       "      <td>0</td>\n",
       "      <td>0</td>\n",
       "      <td>2</td>\n",
       "    </tr>\n",
       "    <tr>\n",
       "      <th>3999996</th>\n",
       "      <td>2926</td>\n",
       "      <td>104</td>\n",
       "      <td>8</td>\n",
       "      <td>696</td>\n",
       "      <td>83</td>\n",
       "      <td>5427</td>\n",
       "      <td>210</td>\n",
       "      <td>216</td>\n",
       "      <td>150</td>\n",
       "      <td>2863</td>\n",
       "      <td>...</td>\n",
       "      <td>0</td>\n",
       "      <td>0</td>\n",
       "      <td>0</td>\n",
       "      <td>0</td>\n",
       "      <td>0</td>\n",
       "      <td>0</td>\n",
       "      <td>0</td>\n",
       "      <td>0</td>\n",
       "      <td>0</td>\n",
       "      <td>2</td>\n",
       "    </tr>\n",
       "    <tr>\n",
       "      <th>3999997</th>\n",
       "      <td>2911</td>\n",
       "      <td>144</td>\n",
       "      <td>1</td>\n",
       "      <td>509</td>\n",
       "      <td>58</td>\n",
       "      <td>4820</td>\n",
       "      <td>195</td>\n",
       "      <td>192</td>\n",
       "      <td>91</td>\n",
       "      <td>92</td>\n",
       "      <td>...</td>\n",
       "      <td>0</td>\n",
       "      <td>0</td>\n",
       "      <td>0</td>\n",
       "      <td>0</td>\n",
       "      <td>0</td>\n",
       "      <td>0</td>\n",
       "      <td>0</td>\n",
       "      <td>1</td>\n",
       "      <td>0</td>\n",
       "      <td>2</td>\n",
       "    </tr>\n",
       "    <tr>\n",
       "      <th>3999998</th>\n",
       "      <td>2580</td>\n",
       "      <td>178</td>\n",
       "      <td>17</td>\n",
       "      <td>376</td>\n",
       "      <td>86</td>\n",
       "      <td>2592</td>\n",
       "      <td>225</td>\n",
       "      <td>183</td>\n",
       "      <td>39</td>\n",
       "      <td>1374</td>\n",
       "      <td>...</td>\n",
       "      <td>0</td>\n",
       "      <td>0</td>\n",
       "      <td>0</td>\n",
       "      <td>0</td>\n",
       "      <td>0</td>\n",
       "      <td>0</td>\n",
       "      <td>0</td>\n",
       "      <td>0</td>\n",
       "      <td>0</td>\n",
       "      <td>3</td>\n",
       "    </tr>\n",
       "    <tr>\n",
       "      <th>3999999</th>\n",
       "      <td>3083</td>\n",
       "      <td>136</td>\n",
       "      <td>4</td>\n",
       "      <td>44</td>\n",
       "      <td>9</td>\n",
       "      <td>1675</td>\n",
       "      <td>213</td>\n",
       "      <td>197</td>\n",
       "      <td>205</td>\n",
       "      <td>1612</td>\n",
       "      <td>...</td>\n",
       "      <td>0</td>\n",
       "      <td>0</td>\n",
       "      <td>0</td>\n",
       "      <td>0</td>\n",
       "      <td>0</td>\n",
       "      <td>0</td>\n",
       "      <td>0</td>\n",
       "      <td>0</td>\n",
       "      <td>0</td>\n",
       "      <td>1</td>\n",
       "    </tr>\n",
       "  </tbody>\n",
       "</table>\n",
       "<p>4000000 rows × 55 columns</p>\n",
       "</div>"
      ],
      "text/plain": [
       "         Elevation  Aspect  Slope  Horizontal_Distance_To_Hydrology  \\\n",
       "Id                                                                    \n",
       "0             3189      40      8                                30   \n",
       "1             3026     182      5                               280   \n",
       "2             3106      13      7                               351   \n",
       "3             3022     276     13                               192   \n",
       "4             2906     186     13                               266   \n",
       "...            ...     ...    ...                               ...   \n",
       "3999995       2954      34     25                                51   \n",
       "3999996       2926     104      8                               696   \n",
       "3999997       2911     144      1                               509   \n",
       "3999998       2580     178     17                               376   \n",
       "3999999       3083     136      4                                44   \n",
       "\n",
       "         Vertical_Distance_To_Hydrology  Horizontal_Distance_To_Roadways  \\\n",
       "Id                                                                         \n",
       "0                                    13                             3270   \n",
       "1                                    29                             3270   \n",
       "2                                    37                             2914   \n",
       "3                                    16                             3034   \n",
       "4                                    22                             2916   \n",
       "...                                 ...                              ...   \n",
       "3999995                              65                             6314   \n",
       "3999996                              83                             5427   \n",
       "3999997                              58                             4820   \n",
       "3999998                              86                             2592   \n",
       "3999999                               9                             1675   \n",
       "\n",
       "         Hillshade_9am  Hillshade_Noon  Hillshade_3pm  \\\n",
       "Id                                                      \n",
       "0                  206             234            193   \n",
       "1                  233             240            106   \n",
       "2                  208             234            137   \n",
       "3                  207             238            156   \n",
       "4                  231             231            154   \n",
       "...                ...             ...            ...   \n",
       "3999995            240             237            103   \n",
       "3999996            210             216            150   \n",
       "3999997            195             192             91   \n",
       "3999998            225             183             39   \n",
       "3999999            213             197            205   \n",
       "\n",
       "         Horizontal_Distance_To_Fire_Points  ...  Soil_Type32  Soil_Type33  \\\n",
       "Id                                           ...                             \n",
       "0                                      4873  ...            0            0   \n",
       "1                                      5423  ...            0            0   \n",
       "2                                      5269  ...            0            0   \n",
       "3                                      2866  ...            0            0   \n",
       "4                                      2642  ...            0            0   \n",
       "...                                     ...  ...          ...          ...   \n",
       "3999995                                1618  ...            0            0   \n",
       "3999996                                2863  ...            0            0   \n",
       "3999997                                  92  ...            0            0   \n",
       "3999998                                1374  ...            0            0   \n",
       "3999999                                1612  ...            0            0   \n",
       "\n",
       "         Soil_Type34  Soil_Type35  Soil_Type36  Soil_Type37  Soil_Type38  \\\n",
       "Id                                                                         \n",
       "0                  0            0            0            0            0   \n",
       "1                  0            0            0            0            0   \n",
       "2                  0            0            0            0            0   \n",
       "3                  0            0            0            0            0   \n",
       "4                  0            0            0            0            0   \n",
       "...              ...          ...          ...          ...          ...   \n",
       "3999995            0            0            0            0            0   \n",
       "3999996            0            0            0            0            0   \n",
       "3999997            0            0            0            0            0   \n",
       "3999998            0            0            0            0            0   \n",
       "3999999            0            0            0            0            0   \n",
       "\n",
       "         Soil_Type39  Soil_Type40  Cover_Type  \n",
       "Id                                             \n",
       "0                  0            0           1  \n",
       "1                  0            0           2  \n",
       "2                  0            0           1  \n",
       "3                  0            0           2  \n",
       "4                  0            0           2  \n",
       "...              ...          ...         ...  \n",
       "3999995            0            0           2  \n",
       "3999996            0            0           2  \n",
       "3999997            1            0           2  \n",
       "3999998            0            0           3  \n",
       "3999999            0            0           1  \n",
       "\n",
       "[4000000 rows x 55 columns]"
      ]
     },
     "metadata": {},
     "output_type": "display_data"
    }
   ],
   "source": [
    "# Peek at the values\n",
    "display(df_train)\n",
    "# display(df_test)\n",
    "\n",
    "# Display information about dtypes and missing values\n",
    "# display(df_train.info())\n",
    "# display(df_test.info())"
   ]
  },
  {
   "cell_type": "code",
   "execution_count": 8,
   "id": "849c2055",
   "metadata": {
    "execution": {
     "iopub.execute_input": "2021-12-17T08:17:40.266294Z",
     "iopub.status.busy": "2021-12-17T08:17:40.265578Z",
     "iopub.status.idle": "2021-12-17T08:17:40.269564Z",
     "shell.execute_reply": "2021-12-17T08:17:40.270174Z",
     "shell.execute_reply.started": "2021-12-17T07:32:16.734507Z"
    },
    "papermill": {
     "duration": 0.052023,
     "end_time": "2021-12-17T08:17:40.270361",
     "exception": false,
     "start_time": "2021-12-17T08:17:40.218338",
     "status": "completed"
    },
    "tags": []
   },
   "outputs": [],
   "source": [
    "TARGET_FEATURE_NAME = df_train.columns.difference(df_test.columns)[0]"
   ]
  },
  {
   "cell_type": "code",
   "execution_count": 9,
   "id": "cbf7429a",
   "metadata": {
    "execution": {
     "iopub.execute_input": "2021-12-17T08:17:40.357940Z",
     "iopub.status.busy": "2021-12-17T08:17:40.357313Z",
     "iopub.status.idle": "2021-12-17T08:17:42.152370Z",
     "shell.execute_reply": "2021-12-17T08:17:42.151131Z",
     "shell.execute_reply.started": "2021-12-17T07:32:16.740763Z"
    },
    "papermill": {
     "duration": 1.840102,
     "end_time": "2021-12-17T08:17:42.152527",
     "exception": false,
     "start_time": "2021-12-17T08:17:40.312425",
     "status": "completed"
    },
    "tags": []
   },
   "outputs": [],
   "source": [
    "# customized XY TBR\n",
    "idx = df_train[df_train[TARGET_FEATURE_NAME] == 4].index\n",
    "df_train.drop(idx, axis = 0, inplace = True)\n",
    "idx = df_train[df_train[TARGET_FEATURE_NAME] == 5].index\n",
    "df_train.drop(idx, axis = 0, inplace = True)\n",
    "# idx = train_data[train_data[column_y] == 6].index # Less then 0.5% significant different, dropped\n",
    "# train_data.drop(idx, axis = 0, inplace = True)\n",
    "\n",
    "cols = [\"Soil_Type7\", \"Soil_Type15\"]\n",
    "df_train.drop(cols, axis = 1, inplace= True)\n",
    "df_test.drop(cols, axis = 1, inplace = True)"
   ]
  },
  {
   "cell_type": "code",
   "execution_count": 10,
   "id": "7876c2ea",
   "metadata": {
    "execution": {
     "iopub.execute_input": "2021-12-17T08:17:42.374766Z",
     "iopub.status.busy": "2021-12-17T08:17:42.373715Z",
     "iopub.status.idle": "2021-12-17T08:17:42.381095Z",
     "shell.execute_reply": "2021-12-17T08:17:42.380581Z",
     "shell.execute_reply.started": "2021-12-17T07:32:18.596175Z"
    },
    "papermill": {
     "duration": 0.18543,
     "end_time": "2021-12-17T08:17:42.381246",
     "exception": false,
     "start_time": "2021-12-17T08:17:42.195816",
     "status": "completed"
    },
    "tags": []
   },
   "outputs": [
    {
     "data": {
      "text/plain": [
       "'Cover_Type'"
      ]
     },
     "execution_count": 10,
     "metadata": {},
     "output_type": "execute_result"
    }
   ],
   "source": [
    "X_raw = df_train.drop(columns=TARGET_FEATURE_NAME)\n",
    "y_raw = df_train[TARGET_FEATURE_NAME]\n",
    "\n",
    "X_test_raw = df_test.iloc[:,:]\n",
    "TARGET_FEATURE_NAME"
   ]
  },
  {
   "cell_type": "markdown",
   "id": "fe0e48da",
   "metadata": {
    "papermill": {
     "duration": 0.042366,
     "end_time": "2021-12-17T08:17:42.466014",
     "exception": false,
     "start_time": "2021-12-17T08:17:42.423648",
     "status": "completed"
    },
    "tags": []
   },
   "source": [
    "# Resampling\n",
    "\n",
    "Auto Keras y categories calculation wrong when cat 5 is missing etc"
   ]
  },
  {
   "cell_type": "code",
   "execution_count": 11,
   "id": "5ae0d77d",
   "metadata": {
    "execution": {
     "iopub.execute_input": "2021-12-17T08:17:42.557600Z",
     "iopub.status.busy": "2021-12-17T08:17:42.556004Z",
     "iopub.status.idle": "2021-12-17T08:17:42.814913Z",
     "shell.execute_reply": "2021-12-17T08:17:42.815541Z",
     "shell.execute_reply.started": "2021-12-17T07:32:18.738999Z"
    },
    "papermill": {
     "duration": 0.306414,
     "end_time": "2021-12-17T08:17:42.815726",
     "exception": false,
     "start_time": "2021-12-17T08:17:42.509312",
     "status": "completed"
    },
    "tags": []
   },
   "outputs": [
    {
     "name": "stdout",
     "output_type": "stream",
     "text": [
      "Series([], dtype: int64)\n"
     ]
    }
   ],
   "source": [
    "from sklearn.model_selection import train_test_split\n",
    "# Check NA\n",
    "missing_val = X_raw.isnull().sum()\n",
    "print(missing_val[missing_val > 0])"
   ]
  },
  {
   "cell_type": "code",
   "execution_count": 12,
   "id": "1eeb1979",
   "metadata": {
    "execution": {
     "iopub.execute_input": "2021-12-17T08:17:42.906501Z",
     "iopub.status.busy": "2021-12-17T08:17:42.905520Z",
     "iopub.status.idle": "2021-12-17T08:17:46.049423Z",
     "shell.execute_reply": "2021-12-17T08:17:46.048778Z",
     "shell.execute_reply.started": "2021-12-17T07:32:19.003340Z"
    },
    "papermill": {
     "duration": 3.190503,
     "end_time": "2021-12-17T08:17:46.049566",
     "exception": false,
     "start_time": "2021-12-17T08:17:42.859063",
     "status": "completed"
    },
    "tags": []
   },
   "outputs": [],
   "source": [
    "sampling_key, sampling_count = np.unique(y_raw, return_counts=True)\n",
    "sampling_count[sampling_count > SAMPLE] = SAMPLE\n",
    "zip_iterator = zip(sampling_key, sampling_count)\n",
    "sampling_params = dict(zip_iterator)\n",
    "\n",
    "undersample = RandomUnderSampler(\n",
    "    sampling_strategy=sampling_params)\n",
    "\n",
    "X_raw, y_raw = undersample.fit_resample(X_raw, y_raw)"
   ]
  },
  {
   "cell_type": "code",
   "execution_count": 13,
   "id": "00729f9b",
   "metadata": {
    "execution": {
     "iopub.execute_input": "2021-12-17T08:17:46.141158Z",
     "iopub.status.busy": "2021-12-17T08:17:46.140510Z",
     "iopub.status.idle": "2021-12-17T08:17:46.154756Z",
     "shell.execute_reply": "2021-12-17T08:17:46.154256Z",
     "shell.execute_reply.started": "2021-12-17T07:32:21.264930Z"
    },
    "papermill": {
     "duration": 0.06231,
     "end_time": "2021-12-17T08:17:46.154897",
     "exception": false,
     "start_time": "2021-12-17T08:17:46.092587",
     "status": "completed"
    },
    "tags": []
   },
   "outputs": [
    {
     "data": {
      "text/plain": [
       "(array([1, 2, 3, 6, 7], dtype=int8),\n",
       " array([195712, 195712, 195712,  11426,  62261]))"
      ]
     },
     "execution_count": 13,
     "metadata": {},
     "output_type": "execute_result"
    }
   ],
   "source": [
    "np.unique(y_raw, return_counts=True)"
   ]
  },
  {
   "cell_type": "markdown",
   "id": "6d58fef7",
   "metadata": {
    "papermill": {
     "duration": 0.043501,
     "end_time": "2021-12-17T08:17:46.241524",
     "exception": false,
     "start_time": "2021-12-17T08:17:46.198023",
     "status": "completed"
    },
    "tags": []
   },
   "source": [
    "## Scaler transformer\n",
    "By using RobustScaler(), we can remove the outliers. No good for this dataset test.\n",
    "![](https://github.com/furyhawk/kaggle_practice/blob/main/images/Scalers.png?raw=true)"
   ]
  },
  {
   "cell_type": "code",
   "execution_count": 14,
   "id": "44339a9e",
   "metadata": {
    "execution": {
     "iopub.execute_input": "2021-12-17T08:17:46.332114Z",
     "iopub.status.busy": "2021-12-17T08:17:46.331483Z",
     "iopub.status.idle": "2021-12-17T08:17:46.335790Z",
     "shell.execute_reply": "2021-12-17T08:17:46.336255Z",
     "shell.execute_reply.started": "2021-12-17T07:32:21.274892Z"
    },
    "papermill": {
     "duration": 0.051819,
     "end_time": "2021-12-17T08:17:46.336425",
     "exception": false,
     "start_time": "2021-12-17T08:17:46.284606",
     "status": "completed"
    },
    "tags": []
   },
   "outputs": [],
   "source": [
    "transformer_all_cols = make_pipeline(\n",
    "    RobustScaler(),\n",
    "#     StandardScaler(),\n",
    "#     MinMaxScaler(feature_range=(0, 1))\n",
    ")\n",
    "\n",
    "preprocessor = make_column_transformer(\n",
    "    (transformer_all_cols, X_raw.columns[:]),\n",
    ")"
   ]
  },
  {
   "cell_type": "code",
   "execution_count": 15,
   "id": "17ecc350",
   "metadata": {
    "execution": {
     "iopub.execute_input": "2021-12-17T08:17:46.431255Z",
     "iopub.status.busy": "2021-12-17T08:17:46.430539Z",
     "iopub.status.idle": "2021-12-17T08:17:47.781207Z",
     "shell.execute_reply": "2021-12-17T08:17:47.780651Z",
     "shell.execute_reply.started": "2021-12-17T07:32:21.281553Z"
    },
    "papermill": {
     "duration": 1.401566,
     "end_time": "2021-12-17T08:17:47.781362",
     "exception": false,
     "start_time": "2021-12-17T08:17:46.379796",
     "status": "completed"
    },
    "tags": []
   },
   "outputs": [],
   "source": [
    "X_train = preprocessor.fit_transform(X_raw)\n",
    "X_test = preprocessor.transform(X_test_raw)"
   ]
  },
  {
   "cell_type": "code",
   "execution_count": 16,
   "id": "5620cf74",
   "metadata": {
    "execution": {
     "iopub.execute_input": "2021-12-17T08:17:47.872966Z",
     "iopub.status.busy": "2021-12-17T08:17:47.872323Z",
     "iopub.status.idle": "2021-12-17T08:17:47.896039Z",
     "shell.execute_reply": "2021-12-17T08:17:47.895412Z",
     "shell.execute_reply.started": "2021-12-17T07:32:22.118190Z"
    },
    "papermill": {
     "duration": 0.071483,
     "end_time": "2021-12-17T08:17:47.896201",
     "exception": false,
     "start_time": "2021-12-17T08:17:47.824718",
     "status": "completed"
    },
    "tags": []
   },
   "outputs": [],
   "source": [
    "from sklearn.preprocessing import LabelEncoder\n",
    "le = LabelEncoder()\n",
    "y_train = le.fit_transform(y_raw) # Prepare for multiclass classification"
   ]
  },
  {
   "cell_type": "code",
   "execution_count": 17,
   "id": "ec695c06",
   "metadata": {
    "execution": {
     "iopub.execute_input": "2021-12-17T08:17:47.988472Z",
     "iopub.status.busy": "2021-12-17T08:17:47.987794Z",
     "iopub.status.idle": "2021-12-17T08:17:47.990418Z",
     "shell.execute_reply": "2021-12-17T08:17:47.990988Z",
     "shell.execute_reply.started": "2021-12-17T07:32:22.125449Z"
    },
    "papermill": {
     "duration": 0.051671,
     "end_time": "2021-12-17T08:17:47.991169",
     "exception": false,
     "start_time": "2021-12-17T08:17:47.939498",
     "status": "completed"
    },
    "tags": []
   },
   "outputs": [
    {
     "data": {
      "text/plain": [
       "array([1, 2, 3, 6, 7], dtype=int8)"
      ]
     },
     "execution_count": 17,
     "metadata": {},
     "output_type": "execute_result"
    }
   ],
   "source": [
    "le.classes_"
   ]
  },
  {
   "cell_type": "code",
   "execution_count": 18,
   "id": "0d487a4f",
   "metadata": {
    "execution": {
     "iopub.execute_input": "2021-12-17T08:17:48.083229Z",
     "iopub.status.busy": "2021-12-17T08:17:48.082577Z",
     "iopub.status.idle": "2021-12-17T08:17:48.097607Z",
     "shell.execute_reply": "2021-12-17T08:17:48.098160Z",
     "shell.execute_reply.started": "2021-12-17T07:32:22.139468Z"
    },
    "papermill": {
     "duration": 0.06314,
     "end_time": "2021-12-17T08:17:48.098337",
     "exception": false,
     "start_time": "2021-12-17T08:17:48.035197",
     "status": "completed"
    },
    "tags": []
   },
   "outputs": [
    {
     "data": {
      "text/plain": [
       "(array([0, 1, 2, 3, 4]), array([195712, 195712, 195712,  11426,  62261]))"
      ]
     },
     "execution_count": 18,
     "metadata": {},
     "output_type": "execute_result"
    }
   ],
   "source": [
    "np.unique(y_train, return_counts=True)"
   ]
  },
  {
   "cell_type": "code",
   "execution_count": 19,
   "id": "7e77e093",
   "metadata": {
    "execution": {
     "iopub.execute_input": "2021-12-17T08:17:48.190533Z",
     "iopub.status.busy": "2021-12-17T08:17:48.189836Z",
     "iopub.status.idle": "2021-12-17T08:17:48.193139Z",
     "shell.execute_reply": "2021-12-17T08:17:48.193726Z",
     "shell.execute_reply.started": "2021-12-17T07:32:22.150225Z"
    },
    "papermill": {
     "duration": 0.051835,
     "end_time": "2021-12-17T08:17:48.193892",
     "exception": false,
     "start_time": "2021-12-17T08:17:48.142057",
     "status": "completed"
    },
    "tags": []
   },
   "outputs": [],
   "source": [
    "X_raw[TARGET_FEATURE_NAME] = y_train"
   ]
  },
  {
   "cell_type": "code",
   "execution_count": 20,
   "id": "57837a3b",
   "metadata": {
    "execution": {
     "iopub.execute_input": "2021-12-17T08:17:48.285309Z",
     "iopub.status.busy": "2021-12-17T08:17:48.284667Z",
     "iopub.status.idle": "2021-12-17T08:17:52.601427Z",
     "shell.execute_reply": "2021-12-17T08:17:52.601967Z",
     "shell.execute_reply.started": "2021-12-17T07:32:22.159692Z"
    },
    "papermill": {
     "duration": 4.364642,
     "end_time": "2021-12-17T08:17:52.602158",
     "exception": false,
     "start_time": "2021-12-17T08:17:48.237516",
     "status": "completed"
    },
    "tags": []
   },
   "outputs": [],
   "source": [
    "train, val = train_test_split(X_raw, test_size=VALIDATION_SPLIT, stratify=X_raw[[TARGET_FEATURE_NAME]], random_state=RANDOM_STATE)"
   ]
  },
  {
   "cell_type": "code",
   "execution_count": 21,
   "id": "33785a01",
   "metadata": {
    "execution": {
     "iopub.execute_input": "2021-12-17T08:17:52.696706Z",
     "iopub.status.busy": "2021-12-17T08:17:52.695986Z",
     "iopub.status.idle": "2021-12-17T08:17:52.724780Z",
     "shell.execute_reply": "2021-12-17T08:17:52.725310Z",
     "shell.execute_reply.started": "2021-12-17T07:32:22.532454Z"
    },
    "papermill": {
     "duration": 0.078821,
     "end_time": "2021-12-17T08:17:52.725500",
     "exception": false,
     "start_time": "2021-12-17T08:17:52.646679",
     "status": "completed"
    },
    "tags": []
   },
   "outputs": [],
   "source": [
    "X_train = train.drop(columns=TARGET_FEATURE_NAME)\n",
    "y_train = train[[TARGET_FEATURE_NAME]]\n",
    "X_val = val.drop(columns=TARGET_FEATURE_NAME)\n",
    "y_val = val[[TARGET_FEATURE_NAME]]"
   ]
  },
  {
   "cell_type": "markdown",
   "id": "d78a0772",
   "metadata": {
    "papermill": {
     "duration": 0.04402,
     "end_time": "2021-12-17T08:17:52.814859",
     "exception": false,
     "start_time": "2021-12-17T08:17:52.770839",
     "status": "completed"
    },
    "tags": []
   },
   "source": [
    "TPS always have huge dataset."
   ]
  },
  {
   "cell_type": "code",
   "execution_count": 22,
   "id": "e31985f1",
   "metadata": {
    "execution": {
     "iopub.execute_input": "2021-12-17T08:17:52.908170Z",
     "iopub.status.busy": "2021-12-17T08:17:52.907523Z",
     "iopub.status.idle": "2021-12-17T08:17:53.102931Z",
     "shell.execute_reply": "2021-12-17T08:17:53.103425Z",
     "shell.execute_reply.started": "2021-12-17T07:32:22.543693Z"
    },
    "papermill": {
     "duration": 0.243194,
     "end_time": "2021-12-17T08:17:53.103585",
     "exception": false,
     "start_time": "2021-12-17T08:17:52.860391",
     "status": "completed"
    },
    "tags": []
   },
   "outputs": [
    {
     "data": {
      "text/plain": [
       "280"
      ]
     },
     "execution_count": 22,
     "metadata": {},
     "output_type": "execute_result"
    }
   ],
   "source": [
    "import gc\n",
    "del df_train\n",
    "del df_test\n",
    "del X_raw\n",
    "del y_raw\n",
    "del X_test_raw\n",
    "gc.collect()"
   ]
  },
  {
   "cell_type": "code",
   "execution_count": 23,
   "id": "68753566",
   "metadata": {
    "execution": {
     "iopub.execute_input": "2021-12-17T08:17:53.195121Z",
     "iopub.status.busy": "2021-12-17T08:17:53.194488Z",
     "iopub.status.idle": "2021-12-17T08:17:53.211612Z",
     "shell.execute_reply": "2021-12-17T08:17:53.212163Z",
     "shell.execute_reply.started": "2021-12-17T07:32:22.743481Z"
    },
    "papermill": {
     "duration": 0.064159,
     "end_time": "2021-12-17T08:17:53.212332",
     "exception": false,
     "start_time": "2021-12-17T08:17:53.148173",
     "status": "completed"
    },
    "tags": []
   },
   "outputs": [],
   "source": [
    "TARGET_FEATURE_LABELS = np.unique(y_train)\n",
    "NUM_CLASSES = len(TARGET_FEATURE_LABELS)\n",
    "\n",
    "INPUT_SHAPE = X_train.shape[-1]\n",
    "OUTPUT_SHAPE = le.classes_.shape[-1]"
   ]
  },
  {
   "cell_type": "markdown",
   "id": "bc16e8b7",
   "metadata": {
    "papermill": {
     "duration": 0.044565,
     "end_time": "2021-12-17T08:17:53.301532",
     "exception": false,
     "start_time": "2021-12-17T08:17:53.256967",
     "status": "completed"
    },
    "tags": []
   },
   "source": [
    "# Hyperparameter Tuning #\n",
    "\n",
    "At this stage, you might like to do auto hyperparameter tuning with AutoKeras before creating your final submission.\n",
    "AutoKeras: An AutoML system based on Keras. It is developed by DATA Lab at Texas A&M University. The goal of AutoKeras is to make machine learning accessible to everyone.\n",
    "\n",
    "By default, AutoKeras use the last 20% of training data as validation data. As shown in the example below, you can use validation_split to specify the percentage."
   ]
  },
  {
   "cell_type": "code",
   "execution_count": 24,
   "id": "bcd20b2c",
   "metadata": {
    "execution": {
     "iopub.execute_input": "2021-12-17T08:17:53.392874Z",
     "iopub.status.busy": "2021-12-17T08:17:53.392258Z",
     "iopub.status.idle": "2021-12-17T08:17:53.394996Z",
     "shell.execute_reply": "2021-12-17T08:17:53.395581Z",
     "shell.execute_reply.started": "2021-12-17T07:32:22.761594Z"
    },
    "papermill": {
     "duration": 0.05,
     "end_time": "2021-12-17T08:17:53.395741",
     "exception": false,
     "start_time": "2021-12-17T08:17:53.345741",
     "status": "completed"
    },
    "tags": []
   },
   "outputs": [],
   "source": [
    "# y_train = tf.keras.utils.to_categorical(y_train, OUTPUT_SHAPE)"
   ]
  },
  {
   "cell_type": "code",
   "execution_count": 25,
   "id": "15d49d9a",
   "metadata": {
    "execution": {
     "iopub.execute_input": "2021-12-17T08:17:53.488446Z",
     "iopub.status.busy": "2021-12-17T08:17:53.487729Z",
     "iopub.status.idle": "2021-12-17T08:17:53.493629Z",
     "shell.execute_reply": "2021-12-17T08:17:53.493036Z",
     "shell.execute_reply.started": "2021-12-17T07:32:22.771273Z"
    },
    "papermill": {
     "duration": 0.054246,
     "end_time": "2021-12-17T08:17:53.493769",
     "exception": false,
     "start_time": "2021-12-17T08:17:53.439523",
     "status": "completed"
    },
    "tags": []
   },
   "outputs": [],
   "source": [
    "# Search for the best model with EarlyStopping.\n",
    "stop_early = tf.keras.callbacks.EarlyStopping(\n",
    "                                    patience=ES_PATIENCE,\n",
    "                                    monitor='val_loss',\n",
    "#                                     mode='min',\n",
    "#                                     restore_best_weights=True,       \n",
    "#                                     verbose=VERBOSE,\n",
    "                                    )\n",
    "reduceLROnPlateau = tf.keras.callbacks.ReduceLROnPlateau(\n",
    "                                    factor=LR_FACTOR,\n",
    "                                    patience=RLRP_PATIENCE,\n",
    "                                    monitor='val_loss',\n",
    "#                                     mode='min',\n",
    "#                                     verbose=VERBOSE,\n",
    "                                    )"
   ]
  },
  {
   "cell_type": "code",
   "execution_count": 26,
   "id": "4275c481",
   "metadata": {
    "execution": {
     "iopub.execute_input": "2021-12-17T08:17:53.593065Z",
     "iopub.status.busy": "2021-12-17T08:17:53.590233Z",
     "iopub.status.idle": "2021-12-17T08:17:53.595895Z",
     "shell.execute_reply": "2021-12-17T08:17:53.595381Z",
     "shell.execute_reply.started": "2021-12-17T07:32:22.783099Z"
    },
    "papermill": {
     "duration": 0.057727,
     "end_time": "2021-12-17T08:17:53.596038",
     "exception": false,
     "start_time": "2021-12-17T08:17:53.538311",
     "status": "completed"
    },
    "tags": []
   },
   "outputs": [],
   "source": [
    "def model_builder(hp):\n",
    "    model = keras.Sequential()\n",
    "    model.add(keras.layers.Flatten(input_shape=(INPUT_SHAPE,)))\n",
    "\n",
    "    # Tune the number of units in the first Dense layer\n",
    "    # Choose an optimal value between 32-512\n",
    "    hp_units1 = hp.Int('units1', min_value=64, max_value=256, step=64)\n",
    "    hp_units2 = hp.Int('units2', min_value=16, max_value=256, step=16)\n",
    "    hp_dropout = hp.Float('dropout_rate', min_value=0.05, max_value=0.5, step=0.05)\n",
    "    \n",
    "    model.add(keras.layers.Dense(units=hp_units1, kernel_initializer = KERNEL_INIT, activation=ACTIVATION))\n",
    "    model.add(layers.AlphaDropout(rate = hp_dropout))\n",
    "    model.add(layers.BatchNormalization())\n",
    "    model.add(keras.layers.Dense(units=hp_units2, kernel_initializer = KERNEL_INIT, activation=ACTIVATION))\n",
    "    model.add(layers.AlphaDropout(rate = hp_dropout))\n",
    "    model.add(layers.BatchNormalization())\n",
    "    model.add(keras.layers.Dense(units=hp_units2, kernel_initializer = KERNEL_INIT, activation=ACTIVATION))\n",
    "    model.add(keras.layers.Dense(OUTPUT_SHAPE)) #, activation = 'softmax'\n",
    "\n",
    "    # Tune the learning rate for the optimizer\n",
    "    # Choose an optimal value from 0.01, 0.001, or 0.0001\n",
    "#     hp_learning_rate = hp.Choice('learning_rate', values=[1e-2, 1e-3, 1e-4])\n",
    "\n",
    "    model.compile(optimizer=keras.optimizers.Adam(learning_rate=1e-3),\n",
    "                loss=keras.losses.SparseCategoricalCrossentropy(from_logits=True),\n",
    "                metrics=['accuracy'])\n",
    "\n",
    "    return model"
   ]
  },
  {
   "cell_type": "code",
   "execution_count": 27,
   "id": "5af323a0",
   "metadata": {
    "execution": {
     "iopub.execute_input": "2021-12-17T08:17:53.692547Z",
     "iopub.status.busy": "2021-12-17T08:17:53.689391Z",
     "iopub.status.idle": "2021-12-17T08:17:53.865319Z",
     "shell.execute_reply": "2021-12-17T08:17:53.865802Z",
     "shell.execute_reply.started": "2021-12-17T07:32:22.795038Z"
    },
    "papermill": {
     "duration": 0.225711,
     "end_time": "2021-12-17T08:17:53.865979",
     "exception": false,
     "start_time": "2021-12-17T08:17:53.640268",
     "status": "completed"
    },
    "tags": []
   },
   "outputs": [
    {
     "name": "stderr",
     "output_type": "stream",
     "text": [
      "\n",
      "User settings:\n",
      "\n",
      "   KMP_AFFINITY=granularity=fine,verbose,compact,1,0\n",
      "   KMP_BLOCKTIME=0\n",
      "   KMP_DUPLICATE_LIB_OK=True\n",
      "   KMP_INIT_AT_FORK=FALSE\n",
      "   KMP_SETTINGS=1\n",
      "   KMP_WARNINGS=0\n",
      "\n",
      "Effective settings:\n",
      "\n",
      "   KMP_ABORT_DELAY=0\n",
      "   KMP_ADAPTIVE_LOCK_PROPS='1,1024'\n",
      "   KMP_ALIGN_ALLOC=64\n",
      "   KMP_ALL_THREADPRIVATE=128\n",
      "   KMP_ATOMIC_MODE=2\n",
      "   KMP_BLOCKTIME=0\n",
      "   KMP_CPUINFO_FILE: value is not defined\n",
      "   KMP_DETERMINISTIC_REDUCTION=false\n",
      "   KMP_DEVICE_THREAD_LIMIT=2147483647\n",
      "   KMP_DISP_NUM_BUFFERS=7\n",
      "   KMP_DUPLICATE_LIB_OK=true\n",
      "   KMP_ENABLE_TASK_THROTTLING=true\n",
      "   KMP_FORCE_REDUCTION: value is not defined\n",
      "   KMP_FOREIGN_THREADS_THREADPRIVATE=true\n",
      "   KMP_FORKJOIN_BARRIER='2,2'\n",
      "   KMP_FORKJOIN_BARRIER_PATTERN='hyper,hyper'\n",
      "   KMP_GTID_MODE=3\n",
      "   KMP_HANDLE_SIGNALS=false\n",
      "   KMP_HOT_TEAMS_MAX_LEVEL=1\n",
      "   KMP_HOT_TEAMS_MODE=0\n",
      "   KMP_INIT_AT_FORK=true\n",
      "   KMP_LIBRARY=throughput\n",
      "   KMP_LOCK_KIND=queuing\n",
      "   KMP_MALLOC_POOL_INCR=1M\n",
      "   KMP_NUM_LOCKS_IN_BLOCK=1\n",
      "   KMP_PLAIN_BARRIER='2,2'\n",
      "   KMP_PLAIN_BARRIER_PATTERN='hyper,hyper'\n",
      "   KMP_REDUCTION_BARRIER='1,1'\n",
      "   KMP_REDUCTION_BARRIER_PATTERN='hyper,hyper'\n",
      "   KMP_SCHEDULE='static,balanced;guided,iterative'\n",
      "   KMP_SETTINGS=true\n",
      "   KMP_SPIN_BACKOFF_PARAMS='4096,100'\n",
      "   KMP_STACKOFFSET=64\n",
      "   KMP_STACKPAD=0\n",
      "   KMP_STACKSIZE=8M\n",
      "   KMP_STORAGE_MAP=false\n",
      "   KMP_TASKING=2\n",
      "   KMP_TASKLOOP_MIN_TASKS=0\n",
      "   KMP_TASK_STEALING_CONSTRAINT=1\n",
      "   KMP_TEAMS_THREAD_LIMIT=4\n",
      "   KMP_TOPOLOGY_METHOD=all\n",
      "   KMP_USE_YIELD=1\n",
      "   KMP_VERSION=false\n",
      "   KMP_WARNINGS=false\n",
      "   OMP_AFFINITY_FORMAT='OMP: pid %P tid %i thread %n bound to OS proc set {%A}'\n",
      "   OMP_ALLOCATOR=omp_default_mem_alloc\n",
      "   OMP_CANCELLATION=false\n",
      "   OMP_DEFAULT_DEVICE=0\n",
      "   OMP_DISPLAY_AFFINITY=false\n",
      "   OMP_DISPLAY_ENV=false\n",
      "   OMP_DYNAMIC=false\n",
      "   OMP_MAX_ACTIVE_LEVELS=1\n",
      "   OMP_MAX_TASK_PRIORITY=0\n",
      "   OMP_NESTED: deprecated; max-active-levels-var=1\n",
      "   OMP_NUM_THREADS: value is not defined\n",
      "   OMP_PLACES: value is not defined\n",
      "   OMP_PROC_BIND='intel'\n",
      "   OMP_SCHEDULE='static'\n",
      "   OMP_STACKSIZE=8M\n",
      "   OMP_TARGET_OFFLOAD=DEFAULT\n",
      "   OMP_THREAD_LIMIT=2147483647\n",
      "   OMP_WAIT_POLICY=PASSIVE\n",
      "   KMP_AFFINITY='verbose,warnings,respect,granularity=fine,compact,1,0'\n",
      "\n",
      "2021-12-17 08:17:53.731855: I tensorflow/core/common_runtime/process_util.cc:146] Creating new thread pool with default inter op setting: 2. Tune using inter_op_parallelism_threads for best performance.\n"
     ]
    }
   ],
   "source": [
    "tuner = kt.Hyperband(model_builder,\n",
    "                     objective='val_accuracy', # val_accuracy\n",
    "                     max_epochs=21,\n",
    "                     factor=3,\n",
    "                     directory='kt_softmax',\n",
    "                     project_name='kt_softmax',\n",
    "                     seed=RANDOM_STATE)"
   ]
  },
  {
   "cell_type": "code",
   "execution_count": 28,
   "id": "3ebe93ec",
   "metadata": {
    "execution": {
     "iopub.execute_input": "2021-12-17T08:17:53.959602Z",
     "iopub.status.busy": "2021-12-17T08:17:53.958550Z",
     "iopub.status.idle": "2021-12-17T12:25:31.669659Z",
     "shell.execute_reply": "2021-12-17T12:25:31.670253Z",
     "shell.execute_reply.started": "2021-12-17T07:32:22.966434Z"
    },
    "papermill": {
     "duration": 14857.759502,
     "end_time": "2021-12-17T12:25:31.670436",
     "exception": false,
     "start_time": "2021-12-17T08:17:53.910934",
     "status": "completed"
    },
    "tags": []
   },
   "outputs": [
    {
     "name": "stdout",
     "output_type": "stream",
     "text": [
      "Trial 30 Complete [00h 14m 11s]\n",
      "val_accuracy: 0.36230525374412537\n",
      "\n",
      "Best val_accuracy So Far: 0.6127259135246277\n",
      "Total elapsed time: 04h 07m 37s\n",
      "\n",
      "The hyperparameter search is complete. The optimal number of units in the first densely-connected\n",
      "layer is 64  240 and the optimal dropout rate for the optimizer\n",
      "is 0.05.\n",
      "\n",
      "Results summary\n",
      "Results in kt_softmax/kt_softmax\n",
      "Showing 10 best trials\n",
      "Objective(name='val_accuracy', direction='max')\n",
      "Trial summary\n",
      "Hyperparameters:\n",
      "units1: 64\n",
      "units2: 240\n",
      "dropout_rate: 0.05\n",
      "tuner/epochs: 7\n",
      "tuner/initial_epoch: 3\n",
      "tuner/bracket: 2\n",
      "tuner/round: 1\n",
      "tuner/trial_id: d1a2d449f6c98d0783cd9a3ae648ef16\n",
      "Score: 0.6127259135246277\n",
      "Trial summary\n",
      "Hyperparameters:\n",
      "units1: 256\n",
      "units2: 96\n",
      "dropout_rate: 0.1\n",
      "tuner/epochs: 21\n",
      "tuner/initial_epoch: 7\n",
      "tuner/bracket: 1\n",
      "tuner/round: 1\n",
      "tuner/trial_id: 7eee1fac5509279045fa4fba8b06229c\n",
      "Score: 0.5489025712013245\n",
      "Trial summary\n",
      "Hyperparameters:\n",
      "units1: 64\n",
      "units2: 128\n",
      "dropout_rate: 0.4\n",
      "tuner/epochs: 21\n",
      "tuner/initial_epoch: 7\n",
      "tuner/bracket: 1\n",
      "tuner/round: 1\n",
      "tuner/trial_id: 9280cd62363130379e6bb8cec4b49322\n",
      "Score: 0.4898550808429718\n",
      "Trial summary\n",
      "Hyperparameters:\n",
      "units1: 64\n",
      "units2: 240\n",
      "dropout_rate: 0.05\n",
      "tuner/epochs: 21\n",
      "tuner/initial_epoch: 7\n",
      "tuner/bracket: 2\n",
      "tuner/round: 2\n",
      "tuner/trial_id: 8a6c32f2d876761ec7d717bffc483ee2\n",
      "Score: 0.48170164227485657\n",
      "Trial summary\n",
      "Hyperparameters:\n",
      "units1: 64\n",
      "units2: 112\n",
      "dropout_rate: 0.45\n",
      "tuner/epochs: 21\n",
      "tuner/initial_epoch: 0\n",
      "tuner/bracket: 0\n",
      "tuner/round: 0\n",
      "Score: 0.4384949803352356\n",
      "Trial summary\n",
      "Hyperparameters:\n",
      "units1: 64\n",
      "units2: 240\n",
      "dropout_rate: 0.05\n",
      "tuner/epochs: 3\n",
      "tuner/initial_epoch: 0\n",
      "tuner/bracket: 2\n",
      "tuner/round: 0\n",
      "Score: 0.4284711182117462\n",
      "Trial summary\n",
      "Hyperparameters:\n",
      "units1: 128\n",
      "units2: 32\n",
      "dropout_rate: 0.15000000000000002\n",
      "tuner/epochs: 21\n",
      "tuner/initial_epoch: 0\n",
      "tuner/bracket: 0\n",
      "tuner/round: 0\n",
      "Score: 0.39188650250434875\n",
      "Trial summary\n",
      "Hyperparameters:\n",
      "units1: 128\n",
      "units2: 208\n",
      "dropout_rate: 0.1\n",
      "tuner/epochs: 21\n",
      "tuner/initial_epoch: 0\n",
      "tuner/bracket: 0\n",
      "tuner/round: 0\n",
      "Score: 0.37810370326042175\n",
      "Trial summary\n",
      "Hyperparameters:\n",
      "units1: 192\n",
      "units2: 192\n",
      "dropout_rate: 0.2\n",
      "tuner/epochs: 21\n",
      "tuner/initial_epoch: 0\n",
      "tuner/bracket: 0\n",
      "tuner/round: 0\n",
      "Score: 0.36230525374412537\n",
      "Trial summary\n",
      "Hyperparameters:\n",
      "units1: 256\n",
      "units2: 96\n",
      "dropout_rate: 0.1\n",
      "tuner/epochs: 7\n",
      "tuner/initial_epoch: 0\n",
      "tuner/bracket: 1\n",
      "tuner/round: 0\n",
      "Score: 0.34835901856422424\n",
      "CPU times: user 5h 5min 16s, sys: 1h 9min 4s, total: 6h 14min 21s\n",
      "Wall time: 4h 7min 37s\n"
     ]
    }
   ],
   "source": [
    "%%time\n",
    "tuner.search(X_train, y_train, epochs=EPOCHS, validation_data=(X_val, y_val),\n",
    "                callbacks=[stop_early, reduceLROnPlateau])\n",
    "\n",
    "# Get the optimal hyperparameters ,seed=RANDOM_STATE\n",
    "best_hps=tuner.get_best_hyperparameters(num_trials=MAX_TRIAL)[0]\n",
    "\n",
    "print(f\"\"\"\n",
    "The hyperparameter search is complete. The optimal number of units in the first densely-connected\n",
    "layer is {best_hps.get('units1')}  {best_hps.get('units2')} and the optimal dropout rate for the optimizer\n",
    "is {best_hps.get('dropout_rate')}.\n",
    "\"\"\")\n",
    "tuner.results_summary()"
   ]
  },
  {
   "cell_type": "code",
   "execution_count": 29,
   "id": "bee1fe3f",
   "metadata": {
    "execution": {
     "iopub.execute_input": "2021-12-17T12:25:31.770586Z",
     "iopub.status.busy": "2021-12-17T12:25:31.769719Z",
     "iopub.status.idle": "2021-12-17T13:37:59.147716Z",
     "shell.execute_reply": "2021-12-17T13:37:59.148442Z",
     "shell.execute_reply.started": "2021-12-17T07:47:03.183214Z"
    },
    "papermill": {
     "duration": 4347.431248,
     "end_time": "2021-12-17T13:37:59.148642",
     "exception": false,
     "start_time": "2021-12-17T12:25:31.717394",
     "status": "completed"
    },
    "tags": []
   },
   "outputs": [
    {
     "name": "stdout",
     "output_type": "stream",
     "text": [
      "Epoch 1/60\n",
      "15489/15489 [==============================] - 74s 5ms/step - loss: 0.5640 - accuracy: 0.7556 - val_loss: 289.4854 - val_accuracy: 0.0942\n",
      "Epoch 2/60\n",
      "15489/15489 [==============================] - 71s 5ms/step - loss: 0.4244 - accuracy: 0.8249 - val_loss: 297.4926 - val_accuracy: 0.0942\n",
      "Epoch 3/60\n",
      "15489/15489 [==============================] - 73s 5ms/step - loss: 0.4166 - accuracy: 0.8260 - val_loss: 186.4876 - val_accuracy: 0.1589\n",
      "Epoch 4/60\n",
      "15489/15489 [==============================] - 73s 5ms/step - loss: 0.3782 - accuracy: 0.8461 - val_loss: 184.6429 - val_accuracy: 0.3217\n",
      "Epoch 5/60\n",
      "15489/15489 [==============================] - 73s 5ms/step - loss: 0.4001 - accuracy: 0.8343 - val_loss: 103.5356 - val_accuracy: 0.4947\n",
      "Epoch 6/60\n",
      "15489/15489 [==============================] - 74s 5ms/step - loss: 0.3652 - accuracy: 0.8515 - val_loss: 176.7794 - val_accuracy: 0.3601\n",
      "Epoch 7/60\n",
      "15489/15489 [==============================] - 73s 5ms/step - loss: 0.3459 - accuracy: 0.8592 - val_loss: 205.2091 - val_accuracy: 0.3082\n",
      "Epoch 8/60\n",
      "15489/15489 [==============================] - 72s 5ms/step - loss: 0.3451 - accuracy: 0.8597 - val_loss: 261.6891 - val_accuracy: 0.3281\n",
      "Epoch 9/60\n",
      "15489/15489 [==============================] - 73s 5ms/step - loss: 0.3693 - accuracy: 0.8476 - val_loss: 457.7596 - val_accuracy: 0.2972\n",
      "Epoch 10/60\n",
      "15489/15489 [==============================] - 72s 5ms/step - loss: 0.4303 - accuracy: 0.8159 - val_loss: 380.9815 - val_accuracy: 0.2962\n",
      "Epoch 11/60\n",
      "15489/15489 [==============================] - 73s 5ms/step - loss: 0.3570 - accuracy: 0.8535 - val_loss: 171.9062 - val_accuracy: 0.3045\n",
      "Epoch 12/60\n",
      "15489/15489 [==============================] - 74s 5ms/step - loss: 0.3356 - accuracy: 0.8630 - val_loss: 117.8145 - val_accuracy: 0.3674\n",
      "Epoch 13/60\n",
      "15489/15489 [==============================] - 73s 5ms/step - loss: 0.3214 - accuracy: 0.8689 - val_loss: 91.3823 - val_accuracy: 0.3591\n",
      "Epoch 14/60\n",
      "15489/15489 [==============================] - 72s 5ms/step - loss: 0.3130 - accuracy: 0.8727 - val_loss: 116.6284 - val_accuracy: 0.2733\n",
      "Epoch 15/60\n",
      "15489/15489 [==============================] - 74s 5ms/step - loss: 0.3052 - accuracy: 0.8754 - val_loss: 86.2656 - val_accuracy: 0.4626\n",
      "Epoch 16/60\n",
      "15489/15489 [==============================] - 73s 5ms/step - loss: 0.2992 - accuracy: 0.8783 - val_loss: 110.2197 - val_accuracy: 0.4506\n",
      "Epoch 17/60\n",
      "15489/15489 [==============================] - 75s 5ms/step - loss: 0.2945 - accuracy: 0.8805 - val_loss: 122.0225 - val_accuracy: 0.2389\n",
      "Epoch 18/60\n",
      "15489/15489 [==============================] - 74s 5ms/step - loss: 0.2907 - accuracy: 0.8821 - val_loss: 143.7855 - val_accuracy: 0.1145\n",
      "Epoch 19/60\n",
      "15489/15489 [==============================] - 74s 5ms/step - loss: 0.2863 - accuracy: 0.8836 - val_loss: 172.6179 - val_accuracy: 0.1203\n",
      "Epoch 20/60\n",
      "15489/15489 [==============================] - 75s 5ms/step - loss: 0.2847 - accuracy: 0.8843 - val_loss: 87.9477 - val_accuracy: 0.3808\n",
      "Epoch 21/60\n",
      "15489/15489 [==============================] - 73s 5ms/step - loss: 0.2691 - accuracy: 0.8907 - val_loss: 101.5927 - val_accuracy: 0.2149\n",
      "Epoch 22/60\n",
      "15489/15489 [==============================] - 73s 5ms/step - loss: 0.2672 - accuracy: 0.8915 - val_loss: 83.8291 - val_accuracy: 0.4109\n",
      "Epoch 23/60\n",
      "15489/15489 [==============================] - 73s 5ms/step - loss: 0.2660 - accuracy: 0.8920 - val_loss: 62.2265 - val_accuracy: 0.2723\n",
      "Epoch 24/60\n",
      "15489/15489 [==============================] - 76s 5ms/step - loss: 0.2655 - accuracy: 0.8921 - val_loss: 86.8988 - val_accuracy: 0.3308\n",
      "Epoch 25/60\n",
      "15489/15489 [==============================] - 76s 5ms/step - loss: 0.2641 - accuracy: 0.8928 - val_loss: 68.0017 - val_accuracy: 0.2420\n",
      "Epoch 26/60\n",
      "15489/15489 [==============================] - 74s 5ms/step - loss: 0.2619 - accuracy: 0.8939 - val_loss: 112.1358 - val_accuracy: 0.0940\n",
      "Epoch 27/60\n",
      "15489/15489 [==============================] - 76s 5ms/step - loss: 0.2619 - accuracy: 0.8941 - val_loss: 46.8482 - val_accuracy: 0.1780\n",
      "Epoch 28/60\n",
      "15489/15489 [==============================] - 73s 5ms/step - loss: 0.2608 - accuracy: 0.8943 - val_loss: 60.2253 - val_accuracy: 0.3837\n",
      "Epoch 29/60\n",
      "15489/15489 [==============================] - 78s 5ms/step - loss: 0.2580 - accuracy: 0.8952 - val_loss: 89.6485 - val_accuracy: 0.3164\n",
      "Epoch 30/60\n",
      "15489/15489 [==============================] - 74s 5ms/step - loss: 0.2587 - accuracy: 0.8952 - val_loss: 64.8172 - val_accuracy: 0.3612\n",
      "Epoch 31/60\n",
      "15489/15489 [==============================] - 74s 5ms/step - loss: 0.2574 - accuracy: 0.8960 - val_loss: 108.8711 - val_accuracy: 0.3179\n",
      "Epoch 32/60\n",
      "15489/15489 [==============================] - 74s 5ms/step - loss: 0.2563 - accuracy: 0.8961 - val_loss: 77.8869 - val_accuracy: 0.3532\n",
      "Epoch 33/60\n",
      "15489/15489 [==============================] - 74s 5ms/step - loss: 0.2480 - accuracy: 0.8998 - val_loss: 63.8767 - val_accuracy: 0.4381\n",
      "Epoch 34/60\n",
      "15489/15489 [==============================] - 72s 5ms/step - loss: 0.2477 - accuracy: 0.8999 - val_loss: 118.0929 - val_accuracy: 0.4037\n",
      "Epoch 35/60\n",
      "15489/15489 [==============================] - 74s 5ms/step - loss: 0.2478 - accuracy: 0.8994 - val_loss: 177.4883 - val_accuracy: 0.3503\n",
      "Epoch 36/60\n",
      "15489/15489 [==============================] - 73s 5ms/step - loss: 0.2480 - accuracy: 0.9002 - val_loss: 109.4337 - val_accuracy: 0.3974\n",
      "Epoch 37/60\n",
      "15489/15489 [==============================] - 79s 5ms/step - loss: 0.2482 - accuracy: 0.8999 - val_loss: 139.6959 - val_accuracy: 0.3491\n",
      "Epoch 38/60\n",
      "15489/15489 [==============================] - 75s 5ms/step - loss: 0.2428 - accuracy: 0.9025 - val_loss: 149.4919 - val_accuracy: 0.3616\n",
      "Epoch 39/60\n",
      "15489/15489 [==============================] - 76s 5ms/step - loss: 0.2435 - accuracy: 0.9016 - val_loss: 114.0665 - val_accuracy: 0.3916\n",
      "Epoch 40/60\n",
      "15489/15489 [==============================] - 72s 5ms/step - loss: 0.2418 - accuracy: 0.9023 - val_loss: 110.1371 - val_accuracy: 0.4222\n",
      "Epoch 41/60\n",
      "15489/15489 [==============================] - 78s 5ms/step - loss: 0.2412 - accuracy: 0.9030 - val_loss: 106.3433 - val_accuracy: 0.4105\n",
      "Epoch 42/60\n",
      "15489/15489 [==============================] - 74s 5ms/step - loss: 0.2420 - accuracy: 0.9023 - val_loss: 115.1859 - val_accuracy: 0.3895\n",
      "Epoch 43/60\n",
      "15489/15489 [==============================] - 78s 5ms/step - loss: 0.2403 - accuracy: 0.9033 - val_loss: 149.5091 - val_accuracy: 0.3590\n",
      "Epoch 44/60\n",
      "15489/15489 [==============================] - 68s 4ms/step - loss: 0.2392 - accuracy: 0.9036 - val_loss: 123.0053 - val_accuracy: 0.4199\n",
      "Epoch 45/60\n",
      "15489/15489 [==============================] - 74s 5ms/step - loss: 0.2388 - accuracy: 0.9037 - val_loss: 119.4760 - val_accuracy: 0.3988\n",
      "Epoch 46/60\n",
      "15489/15489 [==============================] - 73s 5ms/step - loss: 0.2394 - accuracy: 0.9034 - val_loss: 165.7332 - val_accuracy: 0.3659\n",
      "Epoch 47/60\n",
      "15489/15489 [==============================] - 75s 5ms/step - loss: 0.2394 - accuracy: 0.9035 - val_loss: 150.2632 - val_accuracy: 0.3716\n",
      "Epoch 48/60\n",
      "15489/15489 [==============================] - 69s 4ms/step - loss: 0.2381 - accuracy: 0.9040 - val_loss: 126.5418 - val_accuracy: 0.3915\n",
      "Epoch 49/60\n",
      "15489/15489 [==============================] - 66s 4ms/step - loss: 0.2377 - accuracy: 0.9040 - val_loss: 105.3266 - val_accuracy: 0.3943\n",
      "Epoch 50/60\n",
      "15489/15489 [==============================] - 66s 4ms/step - loss: 0.2375 - accuracy: 0.9042 - val_loss: 118.9105 - val_accuracy: 0.4254\n",
      "Epoch 51/60\n",
      "15489/15489 [==============================] - 69s 4ms/step - loss: 0.2376 - accuracy: 0.9041 - val_loss: 104.8597 - val_accuracy: 0.4264\n",
      "Epoch 52/60\n",
      "15489/15489 [==============================] - 65s 4ms/step - loss: 0.2386 - accuracy: 0.9040 - val_loss: 115.2703 - val_accuracy: 0.3736\n",
      "Epoch 53/60\n",
      "15489/15489 [==============================] - 65s 4ms/step - loss: 0.2371 - accuracy: 0.9044 - val_loss: 120.8962 - val_accuracy: 0.4080\n",
      "Epoch 54/60\n",
      "15489/15489 [==============================] - 66s 4ms/step - loss: 0.2368 - accuracy: 0.9043 - val_loss: 132.0267 - val_accuracy: 0.3893\n",
      "Epoch 55/60\n",
      "15489/15489 [==============================] - 68s 4ms/step - loss: 0.2370 - accuracy: 0.9040 - val_loss: 124.4906 - val_accuracy: 0.4101\n",
      "Epoch 56/60\n",
      "15489/15489 [==============================] - 66s 4ms/step - loss: 0.2371 - accuracy: 0.9044 - val_loss: 143.9130 - val_accuracy: 0.3758\n",
      "Epoch 57/60\n",
      "15489/15489 [==============================] - 66s 4ms/step - loss: 0.2376 - accuracy: 0.9041 - val_loss: 135.4474 - val_accuracy: 0.3900\n",
      "Epoch 58/60\n",
      "15489/15489 [==============================] - 67s 4ms/step - loss: 0.2365 - accuracy: 0.9045 - val_loss: 156.0026 - val_accuracy: 0.3650\n",
      "Epoch 59/60\n",
      "15489/15489 [==============================] - 73s 5ms/step - loss: 0.2366 - accuracy: 0.9047 - val_loss: 118.9867 - val_accuracy: 0.4273\n",
      "Epoch 60/60\n",
      "15489/15489 [==============================] - 66s 4ms/step - loss: 0.2365 - accuracy: 0.9048 - val_loss: 157.1557 - val_accuracy: 0.3629\n",
      "Best epoch: 5\n"
     ]
    }
   ],
   "source": [
    "# Build the model with the optimal hyperparameters and train it on the data for 50 epochs\n",
    "model = tuner.hypermodel.build(best_hps)\n",
    "history = model.fit(X_train, y_train, epochs=EPOCHS, validation_data=(X_val, y_val), callbacks=[reduceLROnPlateau])\n",
    "\n",
    "val_acc_per_epoch = history.history['val_accuracy']\n",
    "best_epoch = val_acc_per_epoch.index(max(val_acc_per_epoch)) + 1\n",
    "print('Best epoch: %d' % (best_epoch,))"
   ]
  },
  {
   "cell_type": "code",
   "execution_count": 30,
   "id": "f8cbde12",
   "metadata": {
    "execution": {
     "iopub.execute_input": "2021-12-17T13:38:44.653499Z",
     "iopub.status.busy": "2021-12-17T13:38:44.652473Z",
     "iopub.status.idle": "2021-12-17T13:44:05.185199Z",
     "shell.execute_reply": "2021-12-17T13:44:05.185684Z",
     "shell.execute_reply.started": "2021-12-17T07:49:14.723088Z"
    },
    "papermill": {
     "duration": 343.319059,
     "end_time": "2021-12-17T13:44:05.185873",
     "exception": false,
     "start_time": "2021-12-17T13:38:21.866814",
     "status": "completed"
    },
    "tags": []
   },
   "outputs": [
    {
     "name": "stdout",
     "output_type": "stream",
     "text": [
      "Epoch 1/5\n",
      "15489/15489 [==============================] - 63s 4ms/step - loss: 0.5573 - accuracy: 0.7590 - val_loss: 963.9193 - val_accuracy: 0.0942\n",
      "Epoch 2/5\n",
      "15489/15489 [==============================] - 62s 4ms/step - loss: 0.4163 - accuracy: 0.8274 - val_loss: 2093.5405 - val_accuracy: 0.2962\n",
      "Epoch 3/5\n",
      "15489/15489 [==============================] - 63s 4ms/step - loss: 0.3520 - accuracy: 0.8554 - val_loss: 2120.3113 - val_accuracy: 0.1530\n",
      "Epoch 4/5\n",
      "15489/15489 [==============================] - 64s 4ms/step - loss: 0.3629 - accuracy: 0.8486 - val_loss: 878.4905 - val_accuracy: 0.1614\n",
      "Epoch 5/5\n",
      "15489/15489 [==============================] - 68s 4ms/step - loss: 0.3762 - accuracy: 0.8465 - val_loss: 417.6031 - val_accuracy: 0.2962\n",
      "CPU times: user 6min 54s, sys: 1min 30s, total: 8min 25s\n",
      "Wall time: 5min 20s\n"
     ]
    }
   ],
   "source": [
    "%%time\n",
    "hypermodel = tuner.hypermodel.build(best_hps)\n",
    "\n",
    "# Retrain the model\n",
    "history = hypermodel.fit(X_train, y_train, epochs=best_epoch, validation_data=(X_val, y_val), callbacks=[reduceLROnPlateau],\n",
    "                verbose=VERBOSE)"
   ]
  },
  {
   "cell_type": "code",
   "execution_count": 31,
   "id": "d1e3a10c",
   "metadata": {
    "execution": {
     "iopub.execute_input": "2021-12-17T13:44:54.227768Z",
     "iopub.status.busy": "2021-12-17T13:44:54.227107Z",
     "iopub.status.idle": "2021-12-17T13:45:04.540459Z",
     "shell.execute_reply": "2021-12-17T13:45:04.541270Z",
     "shell.execute_reply.started": "2021-12-17T07:51:17.515573Z"
    },
    "papermill": {
     "duration": 35.043023,
     "end_time": "2021-12-17T13:45:04.541509",
     "exception": false,
     "start_time": "2021-12-17T13:44:29.498486",
     "status": "completed"
    },
    "tags": []
   },
   "outputs": [
    {
     "name": "stdout",
     "output_type": "stream",
     "text": [
      "5163/5163 [==============================] - 10s 2ms/step - loss: 157.1557 - accuracy: 0.3629\n"
     ]
    }
   ],
   "source": [
    "history1 = model.evaluate(X_val, y_val)"
   ]
  },
  {
   "cell_type": "markdown",
   "id": "6e443f06",
   "metadata": {
    "papermill": {
     "duration": 24.446336,
     "end_time": "2021-12-17T13:45:53.224219",
     "exception": false,
     "start_time": "2021-12-17T13:45:28.777883",
     "status": "completed"
    },
    "tags": []
   },
   "source": [
    "You can also export the best model found by AutoKeras as a Keras Model."
   ]
  },
  {
   "cell_type": "code",
   "execution_count": 32,
   "id": "4a5902ca",
   "metadata": {
    "execution": {
     "iopub.execute_input": "2021-12-17T13:46:41.881573Z",
     "iopub.status.busy": "2021-12-17T13:46:41.880505Z",
     "iopub.status.idle": "2021-12-17T13:46:41.888148Z",
     "shell.execute_reply": "2021-12-17T13:46:41.887610Z",
     "shell.execute_reply.started": "2021-12-17T07:51:18.384948Z"
    },
    "papermill": {
     "duration": 24.309546,
     "end_time": "2021-12-17T13:46:41.888302",
     "exception": false,
     "start_time": "2021-12-17T13:46:17.578756",
     "status": "completed"
    },
    "tags": []
   },
   "outputs": [
    {
     "name": "stdout",
     "output_type": "stream",
     "text": [
      "Model: \"sequential_1\"\n",
      "_________________________________________________________________\n",
      "Layer (type)                 Output Shape              Param #   \n",
      "=================================================================\n",
      "flatten_1 (Flatten)          (None, 52)                0         \n",
      "_________________________________________________________________\n",
      "dense_4 (Dense)              (None, 64)                3392      \n",
      "_________________________________________________________________\n",
      "alpha_dropout_2 (AlphaDropou (None, 64)                0         \n",
      "_________________________________________________________________\n",
      "batch_normalization_2 (Batch (None, 64)                256       \n",
      "_________________________________________________________________\n",
      "dense_5 (Dense)              (None, 240)               15600     \n",
      "_________________________________________________________________\n",
      "alpha_dropout_3 (AlphaDropou (None, 240)               0         \n",
      "_________________________________________________________________\n",
      "batch_normalization_3 (Batch (None, 240)               960       \n",
      "_________________________________________________________________\n",
      "dense_6 (Dense)              (None, 240)               57840     \n",
      "_________________________________________________________________\n",
      "dense_7 (Dense)              (None, 5)                 1205      \n",
      "=================================================================\n",
      "Total params: 79,253\n",
      "Trainable params: 78,645\n",
      "Non-trainable params: 608\n",
      "_________________________________________________________________\n"
     ]
    }
   ],
   "source": [
    "# model = model.export_model()\n",
    "model.summary()"
   ]
  },
  {
   "cell_type": "markdown",
   "id": "736d923e",
   "metadata": {
    "papermill": {
     "duration": 24.289678,
     "end_time": "2021-12-17T13:47:30.858140",
     "exception": false,
     "start_time": "2021-12-17T13:47:06.568462",
     "status": "completed"
    },
    "tags": []
   },
   "source": [
    "# Train Model and Create Submissions #\n",
    "\n",
    "Once you're satisfied with everything, it's time to create your final predictions! This cell will:\n",
    "- use the best trained model to make predictions from the test set\n",
    "- save the predictions to a CSV file"
   ]
  },
  {
   "cell_type": "code",
   "execution_count": 33,
   "id": "2f561430",
   "metadata": {
    "execution": {
     "iopub.execute_input": "2021-12-17T13:48:19.624793Z",
     "iopub.status.busy": "2021-12-17T13:48:19.623973Z",
     "iopub.status.idle": "2021-12-17T13:49:02.485688Z",
     "shell.execute_reply": "2021-12-17T13:49:02.484884Z",
     "shell.execute_reply.started": "2021-12-17T07:51:18.399586Z"
    },
    "papermill": {
     "duration": 67.205208,
     "end_time": "2021-12-17T13:49:02.485858",
     "exception": false,
     "start_time": "2021-12-17T13:47:55.280650",
     "status": "completed"
    },
    "tags": []
   },
   "outputs": [],
   "source": [
    "# Predict with the best model.\n",
    "predicted_y = model.predict(X_test)\n",
    "# predicted_y = le.inverse_transform(clf.predict(X_test))\n"
   ]
  },
  {
   "cell_type": "code",
   "execution_count": 34,
   "id": "787d89d1",
   "metadata": {
    "execution": {
     "iopub.execute_input": "2021-12-17T13:49:51.033023Z",
     "iopub.status.busy": "2021-12-17T13:49:51.029762Z",
     "iopub.status.idle": "2021-12-17T13:49:51.035697Z",
     "shell.execute_reply": "2021-12-17T13:49:51.036293Z",
     "shell.execute_reply.started": "2021-12-17T07:51:52.516165Z"
    },
    "papermill": {
     "duration": 24.276937,
     "end_time": "2021-12-17T13:49:51.036465",
     "exception": false,
     "start_time": "2021-12-17T13:49:26.759528",
     "status": "completed"
    },
    "tags": []
   },
   "outputs": [
    {
     "data": {
      "text/plain": [
       "array([[ 1.2571994e+04,  1.4608675e+04, -2.2276701e+04,  7.1131909e+03,\n",
       "        -2.3184871e+04],\n",
       "       [ 2.6777850e+04,  2.2703840e+04, -4.3811953e+04,  5.3529688e+03,\n",
       "        -4.1270434e+04],\n",
       "       [ 1.9829203e+04,  1.8996418e+04, -3.1977451e+04,  5.6076748e+03,\n",
       "        -3.5830820e+04],\n",
       "       ...,\n",
       "       [ 4.1734250e+04,  4.0528316e+04, -8.4101695e+04,  3.8871763e+03,\n",
       "        -6.6953898e+04],\n",
       "       [ 1.5399068e+04,  1.9196105e+04, -3.1403844e+04,  6.1152710e+03,\n",
       "        -2.9778381e+04],\n",
       "       [-7.0759567e+01,  7.0246437e+01, -2.4889671e+01, -5.3559334e+01,\n",
       "        -5.3177943e+00]], dtype=float32)"
      ]
     },
     "execution_count": 34,
     "metadata": {},
     "output_type": "execute_result"
    }
   ],
   "source": [
    "predicted_y"
   ]
  },
  {
   "cell_type": "code",
   "execution_count": 35,
   "id": "e9a80be7",
   "metadata": {
    "execution": {
     "iopub.execute_input": "2021-12-17T13:50:39.974438Z",
     "iopub.status.busy": "2021-12-17T13:50:39.973799Z",
     "iopub.status.idle": "2021-12-17T13:50:39.976183Z",
     "shell.execute_reply": "2021-12-17T13:50:39.976743Z",
     "shell.execute_reply.started": "2021-12-17T07:51:52.525232Z"
    },
    "papermill": {
     "duration": 24.342033,
     "end_time": "2021-12-17T13:50:39.976906",
     "exception": false,
     "start_time": "2021-12-17T13:50:15.634873",
     "status": "completed"
    },
    "tags": []
   },
   "outputs": [
    {
     "data": {
      "text/plain": [
       "(1000000, 5)"
      ]
     },
     "execution_count": 35,
     "metadata": {},
     "output_type": "execute_result"
    }
   ],
   "source": [
    "predicted_y.shape"
   ]
  },
  {
   "cell_type": "code",
   "execution_count": 36,
   "id": "8bbb840e",
   "metadata": {
    "execution": {
     "iopub.execute_input": "2021-12-17T13:51:28.689839Z",
     "iopub.status.busy": "2021-12-17T13:51:28.689154Z",
     "iopub.status.idle": "2021-12-17T13:51:28.750711Z",
     "shell.execute_reply": "2021-12-17T13:51:28.750128Z",
     "shell.execute_reply.started": "2021-12-17T07:51:52.538341Z"
    },
    "papermill": {
     "duration": 24.412874,
     "end_time": "2021-12-17T13:51:28.750860",
     "exception": false,
     "start_time": "2021-12-17T13:51:04.337986",
     "status": "completed"
    },
    "tags": []
   },
   "outputs": [],
   "source": [
    "# Auto Keras converted y from int to string bug le.inverse_transform(np.argmax(predicted_y, axis=1))\n",
    "predicted_y = le.inverse_transform(np.argmax(predicted_y, axis=1))"
   ]
  },
  {
   "cell_type": "code",
   "execution_count": 37,
   "id": "f6fa42c0",
   "metadata": {
    "execution": {
     "iopub.execute_input": "2021-12-17T13:52:17.539457Z",
     "iopub.status.busy": "2021-12-17T13:52:17.538740Z",
     "iopub.status.idle": "2021-12-17T13:52:19.747026Z",
     "shell.execute_reply": "2021-12-17T13:52:19.747854Z",
     "shell.execute_reply.started": "2021-12-17T07:51:52.590178Z"
    },
    "papermill": {
     "duration": 26.534961,
     "end_time": "2021-12-17T13:52:19.748118",
     "exception": false,
     "start_time": "2021-12-17T13:51:53.213157",
     "status": "completed"
    },
    "tags": []
   },
   "outputs": [
    {
     "name": "stdout",
     "output_type": "stream",
     "text": [
      "Your submission was successfully saved!\n"
     ]
    },
    {
     "data": {
      "text/html": [
       "<div>\n",
       "<style scoped>\n",
       "    .dataframe tbody tr th:only-of-type {\n",
       "        vertical-align: middle;\n",
       "    }\n",
       "\n",
       "    .dataframe tbody tr th {\n",
       "        vertical-align: top;\n",
       "    }\n",
       "\n",
       "    .dataframe thead th {\n",
       "        text-align: right;\n",
       "    }\n",
       "</style>\n",
       "<table border=\"1\" class=\"dataframe\">\n",
       "  <thead>\n",
       "    <tr style=\"text-align: right;\">\n",
       "      <th></th>\n",
       "      <th>Id</th>\n",
       "      <th>Cover_Type</th>\n",
       "    </tr>\n",
       "  </thead>\n",
       "  <tbody>\n",
       "    <tr>\n",
       "      <th>0</th>\n",
       "      <td>4000000</td>\n",
       "      <td>2</td>\n",
       "    </tr>\n",
       "    <tr>\n",
       "      <th>1</th>\n",
       "      <td>4000001</td>\n",
       "      <td>1</td>\n",
       "    </tr>\n",
       "    <tr>\n",
       "      <th>2</th>\n",
       "      <td>4000002</td>\n",
       "      <td>1</td>\n",
       "    </tr>\n",
       "    <tr>\n",
       "      <th>3</th>\n",
       "      <td>4000003</td>\n",
       "      <td>2</td>\n",
       "    </tr>\n",
       "    <tr>\n",
       "      <th>4</th>\n",
       "      <td>4000004</td>\n",
       "      <td>1</td>\n",
       "    </tr>\n",
       "    <tr>\n",
       "      <th>...</th>\n",
       "      <td>...</td>\n",
       "      <td>...</td>\n",
       "    </tr>\n",
       "    <tr>\n",
       "      <th>999995</th>\n",
       "      <td>4999995</td>\n",
       "      <td>2</td>\n",
       "    </tr>\n",
       "    <tr>\n",
       "      <th>999996</th>\n",
       "      <td>4999996</td>\n",
       "      <td>1</td>\n",
       "    </tr>\n",
       "    <tr>\n",
       "      <th>999997</th>\n",
       "      <td>4999997</td>\n",
       "      <td>1</td>\n",
       "    </tr>\n",
       "    <tr>\n",
       "      <th>999998</th>\n",
       "      <td>4999998</td>\n",
       "      <td>2</td>\n",
       "    </tr>\n",
       "    <tr>\n",
       "      <th>999999</th>\n",
       "      <td>4999999</td>\n",
       "      <td>2</td>\n",
       "    </tr>\n",
       "  </tbody>\n",
       "</table>\n",
       "<p>1000000 rows × 2 columns</p>\n",
       "</div>"
      ],
      "text/plain": [
       "             Id  Cover_Type\n",
       "0       4000000           2\n",
       "1       4000001           1\n",
       "2       4000002           1\n",
       "3       4000003           2\n",
       "4       4000004           1\n",
       "...         ...         ...\n",
       "999995  4999995           2\n",
       "999996  4999996           1\n",
       "999997  4999997           1\n",
       "999998  4999998           2\n",
       "999999  4999999           2\n",
       "\n",
       "[1000000 rows x 2 columns]"
      ]
     },
     "execution_count": 37,
     "metadata": {},
     "output_type": "execute_result"
    }
   ],
   "source": [
    "# output = pd.DataFrame({ID: df_test.index, target_col: predicted_y[:,0]})\n",
    "\n",
    "output = pd.read_csv(INPUT + \"/sample_submission.csv\")\n",
    "output[TARGET_FEATURE_NAME] = predicted_y\n",
    "output.to_csv('submission.csv', index=False)\n",
    "print(\"Your submission was successfully saved!\")\n",
    "output"
   ]
  },
  {
   "cell_type": "code",
   "execution_count": 38,
   "id": "a7c9b03a",
   "metadata": {
    "execution": {
     "iopub.execute_input": "2021-12-17T13:53:08.798504Z",
     "iopub.status.busy": "2021-12-17T13:53:08.779739Z",
     "iopub.status.idle": "2021-12-17T13:53:09.570175Z",
     "shell.execute_reply": "2021-12-17T13:53:09.569641Z",
     "shell.execute_reply.started": "2021-12-17T08:02:21.847704Z"
    },
    "papermill": {
     "duration": 25.322044,
     "end_time": "2021-12-17T13:53:09.570334",
     "exception": false,
     "start_time": "2021-12-17T13:52:44.248290",
     "status": "completed"
    },
    "tags": []
   },
   "outputs": [
    {
     "data": {
      "image/png": "[encoded data removed]",
      "text/plain": [
       "<Figure size 1080x288 with 3 Axes>"
      ]
     },
     "metadata": {},
     "output_type": "display_data"
    }
   ],
   "source": [
    "def plot_acc(history_f):\n",
    "    fold = 0\n",
    "    best_epoch = np.argmin(np.array(history_f['val_loss']))\n",
    "    best_val_loss = history_f['val_loss'][best_epoch]\n",
    "\n",
    "    fig, ax1 = plt.subplots(1, 2, tight_layout=True, figsize=(15,4))\n",
    "\n",
    "    fig.suptitle('Fold : '+ str(fold+1) +\n",
    "                 \" Validation Loss: {:0.4f}\".format(history_f['val_loss'].min()) +\n",
    "                 \" Validation Accuracy: {:0.4f}\".format(history_f[ACC_VAL_METRICS].max()) +\n",
    "                 \" LR: {:0.8f}\".format(history_f['lr'].min())\n",
    "                 , fontsize=14)\n",
    "\n",
    "    plt.subplot(1,2,1)\n",
    "    plt.plot(history_f.loc[:, ['loss', 'val_loss']], label= ['loss', 'val_loss'])\n",
    "\n",
    "    from_epoch = 0\n",
    "    if best_epoch >= from_epoch:\n",
    "        plt.scatter([best_epoch], [best_val_loss], c = 'r', label = f'Best val_loss = {best_val_loss:.5f}')\n",
    "    if best_epoch > 0:\n",
    "        almost_epoch = np.argmin(np.array(history_f['val_loss'])[:best_epoch])\n",
    "        almost_val_loss = history_f['val_loss'][almost_epoch]\n",
    "        if almost_epoch >= from_epoch:\n",
    "            plt.scatter([almost_epoch], [almost_val_loss], c='orange', label = 'Second best val_loss')\n",
    "    plt.gca().xaxis.set_major_locator(MaxNLocator(integer=True))\n",
    "    plt.xlabel('Epoch')\n",
    "    plt.ylabel('Loss')\n",
    "    plt.legend(loc='upper left')   \n",
    "\n",
    "    ax2 = plt.gca().twinx()\n",
    "    ax2.plot(history_f.loc[:, ['lr']], 'y:', label='lr' ) # default color is same as first ax\n",
    "    ax2.set_ylabel('Learning rate')\n",
    "    ax2.legend(loc = 'upper right')\n",
    "    ax2.grid()\n",
    "\n",
    "    best_epoch = np.argmax(np.array(history_f[ACC_VAL_METRICS]))\n",
    "    best_val_acc = history_f[ACC_VAL_METRICS][best_epoch]\n",
    "\n",
    "    plt.subplot(1,2,2)\n",
    "    plt.plot(history_f.loc[:, [ACC_METRICS, ACC_VAL_METRICS]],label= [ACC_METRICS, ACC_VAL_METRICS])\n",
    "    if best_epoch >= from_epoch:\n",
    "        plt.scatter([best_epoch], [best_val_acc], c = 'r', label = f'Best val_acc = {best_val_acc:.5f}')\n",
    "    plt.xlabel('Epoch')\n",
    "    plt.ylabel('Accuracy')\n",
    "    plt.legend(loc = 'lower left')\n",
    "    plt.legend(fontsize = 15)\n",
    "    plt.grid(b = True, linestyle = '-')\n",
    "\n",
    "plot_acc(pd.DataFrame(history.history))"
   ]
  },
  {
   "cell_type": "code",
   "execution_count": 39,
   "id": "5a35ed64",
   "metadata": {
    "execution": {
     "iopub.execute_input": "2021-12-17T13:53:58.513508Z",
     "iopub.status.busy": "2021-12-17T13:53:58.512550Z",
     "iopub.status.idle": "2021-12-17T13:53:58.541013Z",
     "shell.execute_reply": "2021-12-17T13:53:58.541665Z",
     "shell.execute_reply.started": "2021-12-17T07:51:55.061713Z"
    },
    "papermill": {
     "duration": 24.468442,
     "end_time": "2021-12-17T13:53:58.541853",
     "exception": false,
     "start_time": "2021-12-17T13:53:34.073411",
     "status": "completed"
    },
    "tags": []
   },
   "outputs": [
    {
     "data": {
      "text/plain": [
       "(array([1, 2, 3, 6, 7], dtype=int8),\n",
       " array([356381, 565835,   3610,  66212,   7962]))"
      ]
     },
     "execution_count": 39,
     "metadata": {},
     "output_type": "execute_result"
    }
   ],
   "source": [
    "np.unique(output[TARGET_FEATURE_NAME], return_counts=True)"
   ]
  },
  {
   "cell_type": "code",
   "execution_count": 40,
   "id": "e7525a3c",
   "metadata": {
    "execution": {
     "iopub.execute_input": "2021-12-17T13:54:47.652775Z",
     "iopub.status.busy": "2021-12-17T13:54:47.652045Z",
     "iopub.status.idle": "2021-12-17T13:54:48.144776Z",
     "shell.execute_reply": "2021-12-17T13:54:48.144259Z",
     "shell.execute_reply.started": "2021-12-17T08:05:05.830404Z"
    },
    "papermill": {
     "duration": 25.069249,
     "end_time": "2021-12-17T13:54:48.144922",
     "exception": false,
     "start_time": "2021-12-17T13:54:23.075673",
     "status": "completed"
    },
    "tags": []
   },
   "outputs": [
    {
     "data": {
      "image/png": "[encoded data removed]",
      "text/plain": [
       "<Figure size 720x288 with 2 Axes>"
      ]
     },
     "metadata": {},
     "output_type": "display_data"
    }
   ],
   "source": [
    "# Plot the distribution of the test predictions\n",
    "fig, ax =plt.subplots(1,2,figsize=(10,4))\n",
    "sns.countplot(x=predicted_y, ax=ax[0], orient=\"h\").set_title(\"Prediction\")\n",
    "# Plot the distribution of the training set\n",
    "sns.countplot(x = y_train[TARGET_FEATURE_NAME], ax=ax[1], orient=\"h\").set_title(\"Training labels\")\n",
    "fig.show()"
   ]
  },
  {
   "cell_type": "code",
   "execution_count": 41,
   "id": "684ae754",
   "metadata": {
    "execution": {
     "iopub.execute_input": "2021-12-17T13:55:36.978381Z",
     "iopub.status.busy": "2021-12-17T13:55:36.977429Z",
     "iopub.status.idle": "2021-12-17T13:55:36.980938Z",
     "shell.execute_reply": "2021-12-17T13:55:36.981472Z",
     "shell.execute_reply.started": "2021-12-17T07:51:55.904643Z"
    },
    "papermill": {
     "duration": 24.442842,
     "end_time": "2021-12-17T13:55:36.981654",
     "exception": false,
     "start_time": "2021-12-17T13:55:12.538812",
     "status": "completed"
    },
    "tags": []
   },
   "outputs": [
    {
     "data": {
      "text/plain": [
       "'1.1.0'"
      ]
     },
     "execution_count": 41,
     "metadata": {},
     "output_type": "execute_result"
    }
   ],
   "source": [
    "kt.__version__"
   ]
  },
  {
   "cell_type": "code",
   "execution_count": 42,
   "id": "a77b6349",
   "metadata": {
    "execution": {
     "iopub.execute_input": "2021-12-17T13:56:25.991400Z",
     "iopub.status.busy": "2021-12-17T13:56:25.990492Z",
     "iopub.status.idle": "2021-12-17T13:56:25.993841Z",
     "shell.execute_reply": "2021-12-17T13:56:25.994350Z",
     "shell.execute_reply.started": "2021-12-17T07:51:55.906120Z"
    },
    "papermill": {
     "duration": 24.58084,
     "end_time": "2021-12-17T13:56:25.994523",
     "exception": false,
     "start_time": "2021-12-17T13:56:01.413683",
     "status": "completed"
    },
    "tags": []
   },
   "outputs": [
    {
     "data": {
      "text/plain": [
       "'2.6.0'"
      ]
     },
     "execution_count": 42,
     "metadata": {},
     "output_type": "execute_result"
    }
   ],
   "source": [
    "keras.__version__"
   ]
  },
  {
   "cell_type": "code",
   "execution_count": 43,
   "id": "3123f48a",
   "metadata": {
    "execution": {
     "iopub.execute_input": "2021-12-17T13:57:14.991815Z",
     "iopub.status.busy": "2021-12-17T13:57:14.991141Z",
     "iopub.status.idle": "2021-12-17T13:57:14.993873Z",
     "shell.execute_reply": "2021-12-17T13:57:14.994433Z",
     "shell.execute_reply.started": "2021-12-17T07:51:55.907354Z"
    },
    "papermill": {
     "duration": 24.495276,
     "end_time": "2021-12-17T13:57:14.994607",
     "exception": false,
     "start_time": "2021-12-17T13:56:50.499331",
     "status": "completed"
    },
    "tags": []
   },
   "outputs": [
    {
     "data": {
      "text/plain": [
       "'2.6.2'"
      ]
     },
     "execution_count": 43,
     "metadata": {},
     "output_type": "execute_result"
    }
   ],
   "source": [
    "tf.__version__"
   ]
  },
  {
   "cell_type": "markdown",
   "id": "0e3a0a61",
   "metadata": {
    "papermill": {
     "duration": 24.30743,
     "end_time": "2021-12-17T13:58:03.779744",
     "exception": false,
     "start_time": "2021-12-17T13:57:39.472314",
     "status": "completed"
    },
    "tags": []
   },
   "source": [
    "To submit these predictions to the competition, follow these steps:\n",
    "\n",
    "1. Begin by clicking on the blue **Save Version** button in the top right corner of the window.  This will generate a pop-up window.\n",
    "2. Ensure that the **Save and Run All** option is selected, and then click on the blue **Save** button.\n",
    "3. This generates a window in the bottom left corner of the notebook.  After it has finished running, click on the number to the right of the **Save Version** button.  This pulls up a list of versions on the right of the screen.  Click on the ellipsis **(...)** to the right of the most recent version, and select **Open in Viewer**.  This brings you into view mode of the same page. You will need to scroll down to get back to these instructions.\n",
    "4. Click on the **Output** tab on the right of the screen.  Then, click on the file you would like to submit, and click on the blue **Submit** button to submit your results to the leaderboard.\n",
    "\n",
    "You have now successfully submitted to the competition!\n",
    "\n",
    "# Next Steps #\n",
    "\n",
    "If you want to keep working to improve your performance, select the blue **Edit** button in the top right of the screen. Then you can change your code and repeat the process. There's a lot of room to improve, and you will climb up the leaderboard as you work.\n",
    "\n",
    "Be sure to check out [other users' notebooks](https://www.kaggle.com/c/house-prices-advanced-regression-techniques/notebooks) in this competition. You'll find lots of great ideas for new features and as well as other ways to discover more things about the dataset or make better predictions. There's also the [discussion forum](https://www.kaggle.com/c/house-prices-advanced-regression-techniques/discussion), where you can share ideas with other Kagglers.\n",
    "\n",
    "Have fun Kaggling!"
   ]
  }
 ],
 "metadata": {
  "kernelspec": {
   "display_name": "Python 3",
   "language": "python",
   "name": "python3"
  },
  "language_info": {
   "codemirror_mode": {
    "name": "ipython",
    "version": 3
   },
   "file_extension": ".py",
   "mimetype": "text/x-python",
   "name": "python",
   "nbconvert_exporter": "python",
   "pygments_lexer": "ipython3",
   "version": "3.7.12"
  },
  "papermill": {
   "default_parameters": {},
   "duration": 20512.358639,
   "end_time": "2021-12-17T13:58:30.930869",
   "environment_variables": {},
   "exception": null,
   "input_path": "__notebook__.ipynb",
   "output_path": "__notebook__.ipynb",
   "parameters": {},
   "start_time": "2021-12-17T08:16:38.572230",
   "version": "2.3.3"
  }
 },
 "nbformat": 4,
 "nbformat_minor": 5
}
