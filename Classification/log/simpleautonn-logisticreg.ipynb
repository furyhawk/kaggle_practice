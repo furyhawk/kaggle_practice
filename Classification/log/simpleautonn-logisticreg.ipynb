{
 "cells": [
  {
   "cell_type": "markdown",
   "id": "0a8f44bc",
   "metadata": {
    "papermill": {
     "duration": 0.051171,
     "end_time": "2021-12-03T03:53:48.822683",
     "exception": false,
     "start_time": "2021-12-03T03:53:48.771512",
     "status": "completed"
    },
    "tags": []
   },
   "source": [
    "# Introduction #\n",
    "Welcome. Let automate machine learning as much as possible.\n",
    "<blockquote style=\"margin-right:auto; margin-left:auto; padding: 1em; margin:24px;\">\n",
    "    <strong>Fork This Notebook!</strong><br>\n",
    "Create your own editable copy of this notebook by clicking on the <strong>Copy and Edit</strong> button in the top right corner.\n",
    "</blockquote>\n",
    "\n",
    "## Imports and Configuration ##\n",
    "\n",
    "We'll start by importing the packages we used in the exercises and setting some notebook defaults. Unhide this cell if you'd like to see the libraries we'll use:"
   ]
  },
  {
   "cell_type": "code",
   "execution_count": 1,
   "id": "a69e0f1e",
   "metadata": {
    "_cell_guid": "b1076dfc-b9ad-4769-8c92-a6c4dae69d19",
    "_uuid": "8f2839f25d086af736a60e9eeb907d3b93b6e0e5",
    "execution": {
     "iopub.execute_input": "2021-12-03T03:53:48.934774Z",
     "iopub.status.busy": "2021-12-03T03:53:48.928166Z",
     "iopub.status.idle": "2021-12-03T03:55:22.363621Z",
     "shell.execute_reply": "2021-12-03T03:55:22.362786Z",
     "shell.execute_reply.started": "2021-12-03T03:50:23.630379Z"
    },
    "papermill": {
     "duration": 93.493371,
     "end_time": "2021-12-03T03:55:22.363806",
     "exception": false,
     "start_time": "2021-12-03T03:53:48.870435",
     "status": "completed"
    },
    "tags": []
   },
   "outputs": [
    {
     "name": "stdout",
     "output_type": "stream",
     "text": [
      "\u001b[31mERROR: pip's dependency resolver does not currently take into account all the packages that are installed. This behaviour is the source of the following dependency conflicts.\r\n",
      "tensorflow-io 0.18.0 requires tensorflow-io-gcs-filesystem==0.18.0, which is not installed.\r\n",
      "explainable-ai-sdk 1.3.2 requires xai-image-widget, which is not installed.\r\n",
      "dask-cudf 21.8.3 requires cupy-cuda114, which is not installed.\r\n",
      "cudf 21.8.3 requires cupy-cuda110, which is not installed.\r\n",
      "beatrix-jupyterlab 3.1.1 requires google-cloud-bigquery-storage, which is not installed.\r\n",
      "tfx-bsl 1.3.0 requires absl-py<0.13,>=0.9, but you have absl-py 0.14.0 which is incompatible.\r\n",
      "tfx-bsl 1.3.0 requires pyarrow<3,>=1, but you have pyarrow 5.0.0 which is incompatible.\r\n",
      "tfx-bsl 1.3.0 requires tensorflow!=2.0.*,!=2.1.*,!=2.2.*,!=2.3.*,!=2.4.*,!=2.5.*,<3,>=1.15.2, but you have tensorflow 2.5.2 which is incompatible.\r\n",
      "tensorflow-transform 1.3.0 requires absl-py<0.13,>=0.9, but you have absl-py 0.14.0 which is incompatible.\r\n",
      "tensorflow-transform 1.3.0 requires pyarrow<3,>=1, but you have pyarrow 5.0.0 which is incompatible.\r\n",
      "tensorflow-transform 1.3.0 requires tensorflow!=2.0.*,!=2.1.*,!=2.2.*,!=2.3.*,!=2.4.*,!=2.5.*,<2.7,>=1.15.2, but you have tensorflow 2.5.2 which is incompatible.\r\n",
      "tensorflow-serving-api 2.6.0 requires tensorflow<3,>=2.6.0, but you have tensorflow 2.5.2 which is incompatible.\r\n",
      "gcsfs 2021.8.1 requires fsspec==2021.08.1, but you have fsspec 2021.10.1 which is incompatible.\r\n",
      "flake8 4.0.1 requires importlib-metadata<4.3; python_version < \"3.8\", but you have importlib-metadata 4.8.1 which is incompatible.\r\n",
      "dask-cudf 21.8.3 requires dask<=2021.07.1,>=2021.6.0, but you have dask 2021.10.0 which is incompatible.\r\n",
      "dask-cudf 21.8.3 requires pandas<1.3.0dev0,>=1.0, but you have pandas 1.3.4 which is incompatible.\r\n",
      "cudf 21.8.3 requires pandas<1.3.0dev0,>=1.0, but you have pandas 1.3.4 which is incompatible.\r\n",
      "bokeh 2.4.1 requires typing-extensions>=3.10.0, but you have typing-extensions 3.7.4.3 which is incompatible.\r\n",
      "black 21.9b0 requires typing-extensions>=3.10.0.0, but you have typing-extensions 3.7.4.3 which is incompatible.\r\n",
      "apache-beam 2.32.0 requires dill<0.3.2,>=0.3.1.1, but you have dill 0.3.4 which is incompatible.\r\n",
      "apache-beam 2.32.0 requires pyarrow<5.0.0,>=0.15.1, but you have pyarrow 5.0.0 which is incompatible.\r\n",
      "aiobotocore 1.4.2 requires botocore<1.20.107,>=1.20.106, but you have botocore 1.22.4 which is incompatible.\u001b[0m\r\n",
      "\u001b[33mWARNING: Running pip as the 'root' user can result in broken permissions and conflicting behaviour with the system package manager. It is recommended to use a virtual environment instead: https://pip.pypa.io/warnings/venv\u001b[0m\r\n"
     ]
    },
    {
     "name": "stderr",
     "output_type": "stream",
     "text": [
      "2021-12-03 03:55:20.427757: I tensorflow/stream_executor/platform/default/dso_loader.cc:53] Successfully opened dynamic library libcudart.so.11.0\n"
     ]
    }
   ],
   "source": [
    "# from IPython.display import clear_output\n",
    "!pip install -q -U autokeras==1.0.16.post1\n",
    "# clear_output()\n",
    "\n",
    "import os\n",
    "import warnings\n",
    "from pathlib import Path\n",
    "\n",
    "import matplotlib.pyplot as plt\n",
    "import numpy as np\n",
    "import pandas as pd\n",
    "import seaborn as sns\n",
    "from IPython.display import display\n",
    "from pandas.api.types import CategoricalDtype\n",
    "from matplotlib.ticker import MaxNLocator, FormatStrFormatter, PercentFormatter\n",
    "\n",
    "from imblearn.over_sampling import RandomOverSampler\n",
    "from imblearn.under_sampling import RandomUnderSampler, TomekLinks\n",
    "\n",
    "# from category_encoders import MEstimateEncoder\n",
    "# from sklearn.cluster import KMeans\n",
    "# from sklearn.decomposition import PCA\n",
    "# from sklearn.feature_selection import mutual_info_regression\n",
    "from sklearn.model_selection import KFold, cross_val_score\n",
    "from sklearn.preprocessing import StandardScaler, MinMaxScaler, RobustScaler\n",
    "from sklearn.pipeline import make_pipeline\n",
    "from sklearn.compose import make_column_transformer\n",
    "import autokeras as ak\n",
    "import tensorflow as tf\n",
    "\n",
    "\n",
    "# Set Matplotlib defaults\n",
    "plt.style.use(\"seaborn-whitegrid\")\n",
    "plt.rc(\"figure\", autolayout=True)\n",
    "plt.rc(\n",
    "    \"axes\",\n",
    "    labelweight=\"bold\",\n",
    "    labelsize=\"large\",\n",
    "    titleweight=\"bold\",\n",
    "    titlesize=14,\n",
    "    titlepad=10,\n",
    ")\n",
    "\n",
    "# Mute warnings\n",
    "warnings.filterwarnings('ignore')\n",
    "\n"
   ]
  },
  {
   "cell_type": "markdown",
   "id": "17a5c84e",
   "metadata": {
    "papermill": {
     "duration": 0.028544,
     "end_time": "2021-12-03T03:55:22.423621",
     "exception": false,
     "start_time": "2021-12-03T03:55:22.395077",
     "status": "completed"
    },
    "tags": []
   },
   "source": [
    "# Parameters\n"
   ]
  },
  {
   "cell_type": "code",
   "execution_count": 2,
   "id": "e6fb6a38",
   "metadata": {
    "execution": {
     "iopub.execute_input": "2021-12-03T03:55:22.645285Z",
     "iopub.status.busy": "2021-12-03T03:55:22.644161Z",
     "iopub.status.idle": "2021-12-03T03:55:22.647557Z",
     "shell.execute_reply": "2021-12-03T03:55:22.646988Z",
     "shell.execute_reply.started": "2021-12-03T03:33:41.867045Z"
    },
    "papermill": {
     "duration": 0.195315,
     "end_time": "2021-12-03T03:55:22.647704",
     "exception": false,
     "start_time": "2021-12-03T03:55:22.452389",
     "status": "completed"
    },
    "tags": []
   },
   "outputs": [],
   "source": [
    "# -----------------------------------------------------------------\n",
    "# Some parameters to config \n",
    "MAX_TRIAL = 5 # speed trial any%\n",
    "EPOCHS = 80\n",
    "\n",
    "# not used\n",
    "BATCH_SIZE = 2048 # large enough to fit RAM\n",
    "ACTIVATION = 'swish'\n",
    "LEARNING_RATE = 0.0007\n",
    "LABEL_SMOOTHING=1e-3\n",
    "FOLDS = 5\n",
    "\n",
    "RANDOM_STATE = 42\n",
    "VERBOSE = 0\n",
    "\n",
    "# The dataset is too huge for free contrainer. Sampling it for more fun!\n",
    "SAMPLE = 195712 # [1468136, 2262087, 195712, 377, 1, 11426, 62261] # 4000000 total rows\n",
    "VALIDATION_SPLIT = 0.15\n",
    "\n",
    "# Admin\n",
    "ID = \"Id\" # Id id x X index\n",
    "INPUT = \"../input/tabular-playground-series-dec-2021\""
   ]
  },
  {
   "cell_type": "markdown",
   "id": "655b90cd",
   "metadata": {
    "papermill": {
     "duration": 0.027973,
     "end_time": "2021-12-03T03:55:22.704101",
     "exception": false,
     "start_time": "2021-12-03T03:55:22.676128",
     "status": "completed"
    },
    "tags": []
   },
   "source": [
    "## Data Preprocessing ##\n",
    "\n",
    "Before we can do any feature engineering, we need to *preprocess* the data to get it in a form suitable for analysis. The data we used in the course was a bit simpler than the competition data. For the *Ames* competition dataset, we'll need to:\n",
    "- **Load** the data from CSV files\n",
    "- **Clean** the data to fix any errors or inconsistencies\n",
    "- **Encode** the statistical data type (numeric, categorical)\n",
    "- **Impute** any missing values\n",
    "\n",
    "We'll wrap all these steps up in a function, which will make easy for you to get a fresh dataframe whenever you need. After reading the CSV file, we'll apply three preprocessing steps, `clean`, `encode`, and `impute`, and then create the data splits: one (`df_train`) for training the model, and one (`df_test`) for making the predictions that you'll submit to the competition for scoring on the leaderboard."
   ]
  },
  {
   "cell_type": "code",
   "execution_count": 3,
   "id": "4afefb4e",
   "metadata": {
    "execution": {
     "iopub.execute_input": "2021-12-03T03:55:22.767088Z",
     "iopub.status.busy": "2021-12-03T03:55:22.765971Z",
     "iopub.status.idle": "2021-12-03T03:55:22.768624Z",
     "shell.execute_reply": "2021-12-03T03:55:22.769241Z",
     "shell.execute_reply.started": "2021-12-03T03:33:41.877392Z"
    },
    "papermill": {
     "duration": 0.037092,
     "end_time": "2021-12-03T03:55:22.769407",
     "exception": false,
     "start_time": "2021-12-03T03:55:22.732315",
     "status": "completed"
    },
    "tags": []
   },
   "outputs": [],
   "source": [
    "def load_data():\n",
    "    # Read data\n",
    "    data_dir = Path(INPUT)\n",
    "    df_train = pd.read_csv(data_dir / \"train.csv\", index_col=ID)\n",
    "    df_test = pd.read_csv(data_dir / \"test.csv\", index_col=ID)\n",
    "    # Merge the splits so we can process them together\n",
    "#     df = pd.concat([df_train, df_test])\n",
    "    # Preprocessing\n",
    "#     df = clean(df)\n",
    "#     df = encode(df)\n",
    "    df_train = impute(df_train)\n",
    "    df_test = impute(df_test)\n",
    "    # Reform splits\n",
    "#     df_train = df.loc[df_train.index, :]\n",
    "#     df_test = df.loc[df_test.index, :]\n",
    "    return df_train, df_test\n"
   ]
  },
  {
   "cell_type": "markdown",
   "id": "3d85226b",
   "metadata": {
    "papermill": {
     "duration": 0.028614,
     "end_time": "2021-12-03T03:55:22.825856",
     "exception": false,
     "start_time": "2021-12-03T03:55:22.797242",
     "status": "completed"
    },
    "tags": []
   },
   "source": [
    "### Handle Missing Values ###\n",
    "\n",
    "Handling missing values now will make the feature engineering go more smoothly. We'll impute `0` for missing numeric values and `\"None\"` for missing categorical values. You might like to experiment with other imputation strategies. In particular, you could try creating \"missing value\" indicators: `1` whenever a value was imputed and `0` otherwise."
   ]
  },
  {
   "cell_type": "code",
   "execution_count": 4,
   "id": "96129ca3",
   "metadata": {
    "execution": {
     "iopub.execute_input": "2021-12-03T03:55:22.889049Z",
     "iopub.status.busy": "2021-12-03T03:55:22.887845Z",
     "iopub.status.idle": "2021-12-03T03:55:22.891261Z",
     "shell.execute_reply": "2021-12-03T03:55:22.890659Z",
     "shell.execute_reply.started": "2021-12-03T03:33:41.888365Z"
    },
    "papermill": {
     "duration": 0.036096,
     "end_time": "2021-12-03T03:55:22.891403",
     "exception": false,
     "start_time": "2021-12-03T03:55:22.855307",
     "status": "completed"
    },
    "tags": []
   },
   "outputs": [],
   "source": [
    "def impute(df):\n",
    "    for name in df.select_dtypes(\"number\"):\n",
    "        df[name] = df[name].fillna(0)\n",
    "    for name in df.select_dtypes(\"category\"):\n",
    "        df[name] = df[name].fillna(\"None\")\n",
    "    return df"
   ]
  },
  {
   "cell_type": "markdown",
   "id": "fb615319",
   "metadata": {
    "papermill": {
     "duration": 0.027796,
     "end_time": "2021-12-03T03:55:22.946608",
     "exception": false,
     "start_time": "2021-12-03T03:55:22.918812",
     "status": "completed"
    },
    "tags": []
   },
   "source": [
    "## Load Data ##\n",
    "\n",
    "And now we can call the data loader and get the processed data splits:"
   ]
  },
  {
   "cell_type": "code",
   "execution_count": 5,
   "id": "8c27b2ec",
   "metadata": {
    "execution": {
     "iopub.execute_input": "2021-12-03T03:55:23.008731Z",
     "iopub.status.busy": "2021-12-03T03:55:23.008009Z",
     "iopub.status.idle": "2021-12-03T03:55:51.544500Z",
     "shell.execute_reply": "2021-12-03T03:55:51.543527Z",
     "shell.execute_reply.started": "2021-12-03T03:33:41.900971Z"
    },
    "papermill": {
     "duration": 28.569881,
     "end_time": "2021-12-03T03:55:51.544698",
     "exception": false,
     "start_time": "2021-12-03T03:55:22.974817",
     "status": "completed"
    },
    "tags": []
   },
   "outputs": [],
   "source": [
    "df_train, df_test = load_data()"
   ]
  },
  {
   "cell_type": "code",
   "execution_count": 6,
   "id": "66bcd341",
   "metadata": {
    "execution": {
     "iopub.execute_input": "2021-12-03T03:55:51.610552Z",
     "iopub.status.busy": "2021-12-03T03:55:51.609290Z",
     "iopub.status.idle": "2021-12-03T03:55:51.986004Z",
     "shell.execute_reply": "2021-12-03T03:55:51.986577Z",
     "shell.execute_reply.started": "2021-12-03T03:34:02.098236Z"
    },
    "papermill": {
     "duration": 0.412966,
     "end_time": "2021-12-03T03:55:51.986769",
     "exception": false,
     "start_time": "2021-12-03T03:55:51.573803",
     "status": "completed"
    },
    "tags": []
   },
   "outputs": [
    {
     "data": {
      "text/html": [
       "<div>\n",
       "<style scoped>\n",
       "    .dataframe tbody tr th:only-of-type {\n",
       "        vertical-align: middle;\n",
       "    }\n",
       "\n",
       "    .dataframe tbody tr th {\n",
       "        vertical-align: top;\n",
       "    }\n",
       "\n",
       "    .dataframe thead th {\n",
       "        text-align: right;\n",
       "    }\n",
       "</style>\n",
       "<table border=\"1\" class=\"dataframe\">\n",
       "  <thead>\n",
       "    <tr style=\"text-align: right;\">\n",
       "      <th></th>\n",
       "      <th>Elevation</th>\n",
       "      <th>Aspect</th>\n",
       "      <th>Slope</th>\n",
       "      <th>Horizontal_Distance_To_Hydrology</th>\n",
       "      <th>Vertical_Distance_To_Hydrology</th>\n",
       "      <th>Horizontal_Distance_To_Roadways</th>\n",
       "      <th>Hillshade_9am</th>\n",
       "      <th>Hillshade_Noon</th>\n",
       "      <th>Hillshade_3pm</th>\n",
       "      <th>Horizontal_Distance_To_Fire_Points</th>\n",
       "      <th>...</th>\n",
       "      <th>Soil_Type32</th>\n",
       "      <th>Soil_Type33</th>\n",
       "      <th>Soil_Type34</th>\n",
       "      <th>Soil_Type35</th>\n",
       "      <th>Soil_Type36</th>\n",
       "      <th>Soil_Type37</th>\n",
       "      <th>Soil_Type38</th>\n",
       "      <th>Soil_Type39</th>\n",
       "      <th>Soil_Type40</th>\n",
       "      <th>Cover_Type</th>\n",
       "    </tr>\n",
       "    <tr>\n",
       "      <th>Id</th>\n",
       "      <th></th>\n",
       "      <th></th>\n",
       "      <th></th>\n",
       "      <th></th>\n",
       "      <th></th>\n",
       "      <th></th>\n",
       "      <th></th>\n",
       "      <th></th>\n",
       "      <th></th>\n",
       "      <th></th>\n",
       "      <th></th>\n",
       "      <th></th>\n",
       "      <th></th>\n",
       "      <th></th>\n",
       "      <th></th>\n",
       "      <th></th>\n",
       "      <th></th>\n",
       "      <th></th>\n",
       "      <th></th>\n",
       "      <th></th>\n",
       "      <th></th>\n",
       "    </tr>\n",
       "  </thead>\n",
       "  <tbody>\n",
       "    <tr>\n",
       "      <th>0</th>\n",
       "      <td>3189</td>\n",
       "      <td>40</td>\n",
       "      <td>8</td>\n",
       "      <td>30</td>\n",
       "      <td>13</td>\n",
       "      <td>3270</td>\n",
       "      <td>206</td>\n",
       "      <td>234</td>\n",
       "      <td>193</td>\n",
       "      <td>4873</td>\n",
       "      <td>...</td>\n",
       "      <td>0</td>\n",
       "      <td>0</td>\n",
       "      <td>0</td>\n",
       "      <td>0</td>\n",
       "      <td>0</td>\n",
       "      <td>0</td>\n",
       "      <td>0</td>\n",
       "      <td>0</td>\n",
       "      <td>0</td>\n",
       "      <td>1</td>\n",
       "    </tr>\n",
       "    <tr>\n",
       "      <th>1</th>\n",
       "      <td>3026</td>\n",
       "      <td>182</td>\n",
       "      <td>5</td>\n",
       "      <td>280</td>\n",
       "      <td>29</td>\n",
       "      <td>3270</td>\n",
       "      <td>233</td>\n",
       "      <td>240</td>\n",
       "      <td>106</td>\n",
       "      <td>5423</td>\n",
       "      <td>...</td>\n",
       "      <td>0</td>\n",
       "      <td>0</td>\n",
       "      <td>0</td>\n",
       "      <td>0</td>\n",
       "      <td>0</td>\n",
       "      <td>0</td>\n",
       "      <td>0</td>\n",
       "      <td>0</td>\n",
       "      <td>0</td>\n",
       "      <td>2</td>\n",
       "    </tr>\n",
       "    <tr>\n",
       "      <th>2</th>\n",
       "      <td>3106</td>\n",
       "      <td>13</td>\n",
       "      <td>7</td>\n",
       "      <td>351</td>\n",
       "      <td>37</td>\n",
       "      <td>2914</td>\n",
       "      <td>208</td>\n",
       "      <td>234</td>\n",
       "      <td>137</td>\n",
       "      <td>5269</td>\n",
       "      <td>...</td>\n",
       "      <td>0</td>\n",
       "      <td>0</td>\n",
       "      <td>0</td>\n",
       "      <td>0</td>\n",
       "      <td>0</td>\n",
       "      <td>0</td>\n",
       "      <td>0</td>\n",
       "      <td>0</td>\n",
       "      <td>0</td>\n",
       "      <td>1</td>\n",
       "    </tr>\n",
       "    <tr>\n",
       "      <th>3</th>\n",
       "      <td>3022</td>\n",
       "      <td>276</td>\n",
       "      <td>13</td>\n",
       "      <td>192</td>\n",
       "      <td>16</td>\n",
       "      <td>3034</td>\n",
       "      <td>207</td>\n",
       "      <td>238</td>\n",
       "      <td>156</td>\n",
       "      <td>2866</td>\n",
       "      <td>...</td>\n",
       "      <td>0</td>\n",
       "      <td>0</td>\n",
       "      <td>0</td>\n",
       "      <td>0</td>\n",
       "      <td>0</td>\n",
       "      <td>0</td>\n",
       "      <td>0</td>\n",
       "      <td>0</td>\n",
       "      <td>0</td>\n",
       "      <td>2</td>\n",
       "    </tr>\n",
       "    <tr>\n",
       "      <th>4</th>\n",
       "      <td>2906</td>\n",
       "      <td>186</td>\n",
       "      <td>13</td>\n",
       "      <td>266</td>\n",
       "      <td>22</td>\n",
       "      <td>2916</td>\n",
       "      <td>231</td>\n",
       "      <td>231</td>\n",
       "      <td>154</td>\n",
       "      <td>2642</td>\n",
       "      <td>...</td>\n",
       "      <td>0</td>\n",
       "      <td>0</td>\n",
       "      <td>0</td>\n",
       "      <td>0</td>\n",
       "      <td>0</td>\n",
       "      <td>0</td>\n",
       "      <td>0</td>\n",
       "      <td>0</td>\n",
       "      <td>0</td>\n",
       "      <td>2</td>\n",
       "    </tr>\n",
       "    <tr>\n",
       "      <th>...</th>\n",
       "      <td>...</td>\n",
       "      <td>...</td>\n",
       "      <td>...</td>\n",
       "      <td>...</td>\n",
       "      <td>...</td>\n",
       "      <td>...</td>\n",
       "      <td>...</td>\n",
       "      <td>...</td>\n",
       "      <td>...</td>\n",
       "      <td>...</td>\n",
       "      <td>...</td>\n",
       "      <td>...</td>\n",
       "      <td>...</td>\n",
       "      <td>...</td>\n",
       "      <td>...</td>\n",
       "      <td>...</td>\n",
       "      <td>...</td>\n",
       "      <td>...</td>\n",
       "      <td>...</td>\n",
       "      <td>...</td>\n",
       "      <td>...</td>\n",
       "    </tr>\n",
       "    <tr>\n",
       "      <th>3999995</th>\n",
       "      <td>2954</td>\n",
       "      <td>34</td>\n",
       "      <td>25</td>\n",
       "      <td>51</td>\n",
       "      <td>65</td>\n",
       "      <td>6314</td>\n",
       "      <td>240</td>\n",
       "      <td>237</td>\n",
       "      <td>103</td>\n",
       "      <td>1618</td>\n",
       "      <td>...</td>\n",
       "      <td>0</td>\n",
       "      <td>0</td>\n",
       "      <td>0</td>\n",
       "      <td>0</td>\n",
       "      <td>0</td>\n",
       "      <td>0</td>\n",
       "      <td>0</td>\n",
       "      <td>0</td>\n",
       "      <td>0</td>\n",
       "      <td>2</td>\n",
       "    </tr>\n",
       "    <tr>\n",
       "      <th>3999996</th>\n",
       "      <td>2926</td>\n",
       "      <td>104</td>\n",
       "      <td>8</td>\n",
       "      <td>696</td>\n",
       "      <td>83</td>\n",
       "      <td>5427</td>\n",
       "      <td>210</td>\n",
       "      <td>216</td>\n",
       "      <td>150</td>\n",
       "      <td>2863</td>\n",
       "      <td>...</td>\n",
       "      <td>0</td>\n",
       "      <td>0</td>\n",
       "      <td>0</td>\n",
       "      <td>0</td>\n",
       "      <td>0</td>\n",
       "      <td>0</td>\n",
       "      <td>0</td>\n",
       "      <td>0</td>\n",
       "      <td>0</td>\n",
       "      <td>2</td>\n",
       "    </tr>\n",
       "    <tr>\n",
       "      <th>3999997</th>\n",
       "      <td>2911</td>\n",
       "      <td>144</td>\n",
       "      <td>1</td>\n",
       "      <td>509</td>\n",
       "      <td>58</td>\n",
       "      <td>4820</td>\n",
       "      <td>195</td>\n",
       "      <td>192</td>\n",
       "      <td>91</td>\n",
       "      <td>92</td>\n",
       "      <td>...</td>\n",
       "      <td>0</td>\n",
       "      <td>0</td>\n",
       "      <td>0</td>\n",
       "      <td>0</td>\n",
       "      <td>0</td>\n",
       "      <td>0</td>\n",
       "      <td>0</td>\n",
       "      <td>1</td>\n",
       "      <td>0</td>\n",
       "      <td>2</td>\n",
       "    </tr>\n",
       "    <tr>\n",
       "      <th>3999998</th>\n",
       "      <td>2580</td>\n",
       "      <td>178</td>\n",
       "      <td>17</td>\n",
       "      <td>376</td>\n",
       "      <td>86</td>\n",
       "      <td>2592</td>\n",
       "      <td>225</td>\n",
       "      <td>183</td>\n",
       "      <td>39</td>\n",
       "      <td>1374</td>\n",
       "      <td>...</td>\n",
       "      <td>0</td>\n",
       "      <td>0</td>\n",
       "      <td>0</td>\n",
       "      <td>0</td>\n",
       "      <td>0</td>\n",
       "      <td>0</td>\n",
       "      <td>0</td>\n",
       "      <td>0</td>\n",
       "      <td>0</td>\n",
       "      <td>3</td>\n",
       "    </tr>\n",
       "    <tr>\n",
       "      <th>3999999</th>\n",
       "      <td>3083</td>\n",
       "      <td>136</td>\n",
       "      <td>4</td>\n",
       "      <td>44</td>\n",
       "      <td>9</td>\n",
       "      <td>1675</td>\n",
       "      <td>213</td>\n",
       "      <td>197</td>\n",
       "      <td>205</td>\n",
       "      <td>1612</td>\n",
       "      <td>...</td>\n",
       "      <td>0</td>\n",
       "      <td>0</td>\n",
       "      <td>0</td>\n",
       "      <td>0</td>\n",
       "      <td>0</td>\n",
       "      <td>0</td>\n",
       "      <td>0</td>\n",
       "      <td>0</td>\n",
       "      <td>0</td>\n",
       "      <td>1</td>\n",
       "    </tr>\n",
       "  </tbody>\n",
       "</table>\n",
       "<p>4000000 rows × 55 columns</p>\n",
       "</div>"
      ],
      "text/plain": [
       "         Elevation  Aspect  Slope  Horizontal_Distance_To_Hydrology  \\\n",
       "Id                                                                    \n",
       "0             3189      40      8                                30   \n",
       "1             3026     182      5                               280   \n",
       "2             3106      13      7                               351   \n",
       "3             3022     276     13                               192   \n",
       "4             2906     186     13                               266   \n",
       "...            ...     ...    ...                               ...   \n",
       "3999995       2954      34     25                                51   \n",
       "3999996       2926     104      8                               696   \n",
       "3999997       2911     144      1                               509   \n",
       "3999998       2580     178     17                               376   \n",
       "3999999       3083     136      4                                44   \n",
       "\n",
       "         Vertical_Distance_To_Hydrology  Horizontal_Distance_To_Roadways  \\\n",
       "Id                                                                         \n",
       "0                                    13                             3270   \n",
       "1                                    29                             3270   \n",
       "2                                    37                             2914   \n",
       "3                                    16                             3034   \n",
       "4                                    22                             2916   \n",
       "...                                 ...                              ...   \n",
       "3999995                              65                             6314   \n",
       "3999996                              83                             5427   \n",
       "3999997                              58                             4820   \n",
       "3999998                              86                             2592   \n",
       "3999999                               9                             1675   \n",
       "\n",
       "         Hillshade_9am  Hillshade_Noon  Hillshade_3pm  \\\n",
       "Id                                                      \n",
       "0                  206             234            193   \n",
       "1                  233             240            106   \n",
       "2                  208             234            137   \n",
       "3                  207             238            156   \n",
       "4                  231             231            154   \n",
       "...                ...             ...            ...   \n",
       "3999995            240             237            103   \n",
       "3999996            210             216            150   \n",
       "3999997            195             192             91   \n",
       "3999998            225             183             39   \n",
       "3999999            213             197            205   \n",
       "\n",
       "         Horizontal_Distance_To_Fire_Points  ...  Soil_Type32  Soil_Type33  \\\n",
       "Id                                           ...                             \n",
       "0                                      4873  ...            0            0   \n",
       "1                                      5423  ...            0            0   \n",
       "2                                      5269  ...            0            0   \n",
       "3                                      2866  ...            0            0   \n",
       "4                                      2642  ...            0            0   \n",
       "...                                     ...  ...          ...          ...   \n",
       "3999995                                1618  ...            0            0   \n",
       "3999996                                2863  ...            0            0   \n",
       "3999997                                  92  ...            0            0   \n",
       "3999998                                1374  ...            0            0   \n",
       "3999999                                1612  ...            0            0   \n",
       "\n",
       "         Soil_Type34  Soil_Type35  Soil_Type36  Soil_Type37  Soil_Type38  \\\n",
       "Id                                                                         \n",
       "0                  0            0            0            0            0   \n",
       "1                  0            0            0            0            0   \n",
       "2                  0            0            0            0            0   \n",
       "3                  0            0            0            0            0   \n",
       "4                  0            0            0            0            0   \n",
       "...              ...          ...          ...          ...          ...   \n",
       "3999995            0            0            0            0            0   \n",
       "3999996            0            0            0            0            0   \n",
       "3999997            0            0            0            0            0   \n",
       "3999998            0            0            0            0            0   \n",
       "3999999            0            0            0            0            0   \n",
       "\n",
       "         Soil_Type39  Soil_Type40  Cover_Type  \n",
       "Id                                             \n",
       "0                  0            0           1  \n",
       "1                  0            0           2  \n",
       "2                  0            0           1  \n",
       "3                  0            0           2  \n",
       "4                  0            0           2  \n",
       "...              ...          ...         ...  \n",
       "3999995            0            0           2  \n",
       "3999996            0            0           2  \n",
       "3999997            1            0           2  \n",
       "3999998            0            0           3  \n",
       "3999999            0            0           1  \n",
       "\n",
       "[4000000 rows x 55 columns]"
      ]
     },
     "metadata": {},
     "output_type": "display_data"
    }
   ],
   "source": [
    "# Peek at the values\n",
    "display(df_train)\n",
    "# display(df_test)\n",
    "\n",
    "# Display information about dtypes and missing values\n",
    "# display(df_train.info())\n",
    "# display(df_test.info())"
   ]
  },
  {
   "cell_type": "code",
   "execution_count": 7,
   "id": "d5438707",
   "metadata": {
    "execution": {
     "iopub.execute_input": "2021-12-03T03:55:52.054234Z",
     "iopub.status.busy": "2021-12-03T03:55:52.053090Z",
     "iopub.status.idle": "2021-12-03T03:55:52.953968Z",
     "shell.execute_reply": "2021-12-03T03:55:52.954512Z",
     "shell.execute_reply.started": "2021-12-03T03:34:02.381206Z"
    },
    "papermill": {
     "duration": 0.936898,
     "end_time": "2021-12-03T03:55:52.954698",
     "exception": false,
     "start_time": "2021-12-03T03:55:52.017800",
     "status": "completed"
    },
    "tags": []
   },
   "outputs": [
    {
     "data": {
      "text/plain": [
       "'Cover_Type'"
      ]
     },
     "execution_count": 7,
     "metadata": {},
     "output_type": "execute_result"
    }
   ],
   "source": [
    "target_col = df_train.columns.difference(df_test.columns)[0]\n",
    "X_raw = df_train.drop(columns=target_col)\n",
    "y_raw = df_train[target_col]\n",
    "\n",
    "X_test_raw = df_test.iloc[:,:]\n",
    "target_col"
   ]
  },
  {
   "cell_type": "markdown",
   "id": "efeb83c9",
   "metadata": {
    "papermill": {
     "duration": 0.030332,
     "end_time": "2021-12-03T03:55:53.015992",
     "exception": false,
     "start_time": "2021-12-03T03:55:52.985660",
     "status": "completed"
    },
    "tags": []
   },
   "source": [
    "# Resampling\n",
    "\n",
    "Auto Keras y categories calculation wrong when cat 5 is missing etc"
   ]
  },
  {
   "cell_type": "code",
   "execution_count": 8,
   "id": "126a3d18",
   "metadata": {
    "execution": {
     "iopub.execute_input": "2021-12-03T03:55:53.085002Z",
     "iopub.status.busy": "2021-12-03T03:55:53.082991Z",
     "iopub.status.idle": "2021-12-03T03:55:53.380927Z",
     "shell.execute_reply": "2021-12-03T03:55:53.380032Z",
     "shell.execute_reply.started": "2021-12-03T03:34:03.046091Z"
    },
    "papermill": {
     "duration": 0.334532,
     "end_time": "2021-12-03T03:55:53.381078",
     "exception": false,
     "start_time": "2021-12-03T03:55:53.046546",
     "status": "completed"
    },
    "tags": []
   },
   "outputs": [
    {
     "name": "stdout",
     "output_type": "stream",
     "text": [
      "Series([], dtype: int64)\n"
     ]
    }
   ],
   "source": [
    "from sklearn.model_selection import train_test_split\n",
    "# Check NA\n",
    "missing_val = X_raw.isnull().sum()\n",
    "print(missing_val[missing_val > 0])\n",
    "\n",
    "# For small testing batch\n",
    "# X_raw, x_val, y, y_val = train_test_split(X_raw, y, train_size = VALIDATION_SPLIT, random_state = RANDOM_STATE)\n",
    "# X_raw = X_raw.sample(n=SAMPLE, random_state=RANDOM_STATE)\n",
    "# y_raw = y_raw.sample(n=SAMPLE, random_state=RANDOM_STATE)\n",
    "# x_test = x_test.sample(n=SAMPLE, random_state=RANDOM_STATE)"
   ]
  },
  {
   "cell_type": "code",
   "execution_count": 9,
   "id": "15d513ca",
   "metadata": {
    "execution": {
     "iopub.execute_input": "2021-12-03T03:55:53.451630Z",
     "iopub.status.busy": "2021-12-03T03:55:53.449539Z",
     "iopub.status.idle": "2021-12-03T03:55:56.370884Z",
     "shell.execute_reply": "2021-12-03T03:55:56.370083Z",
     "shell.execute_reply.started": "2021-12-03T03:34:03.334319Z"
    },
    "papermill": {
     "duration": 2.95885,
     "end_time": "2021-12-03T03:55:56.371034",
     "exception": false,
     "start_time": "2021-12-03T03:55:53.412184",
     "status": "completed"
    },
    "tags": []
   },
   "outputs": [],
   "source": [
    "sampling_key, sampling_count = np.unique(y_raw, return_counts=True)\n",
    "sampling_count[sampling_count > SAMPLE] = SAMPLE\n",
    "zip_iterator = zip(sampling_key, sampling_count)\n",
    "sampling_params = dict(zip_iterator)\n",
    "\n",
    "undersample = RandomUnderSampler(\n",
    "    sampling_strategy=sampling_params)\n",
    "\n",
    "X_raw, y_raw = undersample.fit_resample(X_raw, y_raw)"
   ]
  },
  {
   "cell_type": "code",
   "execution_count": 10,
   "id": "325d9c81",
   "metadata": {
    "execution": {
     "iopub.execute_input": "2021-12-03T03:55:56.440392Z",
     "iopub.status.busy": "2021-12-03T03:55:56.439413Z",
     "iopub.status.idle": "2021-12-03T03:55:56.453165Z",
     "shell.execute_reply": "2021-12-03T03:55:56.452593Z",
     "shell.execute_reply.started": "2021-12-03T03:34:05.574497Z"
    },
    "papermill": {
     "duration": 0.051286,
     "end_time": "2021-12-03T03:55:56.453345",
     "exception": false,
     "start_time": "2021-12-03T03:55:56.402059",
     "status": "completed"
    },
    "tags": []
   },
   "outputs": [
    {
     "data": {
      "text/plain": [
       "(array([1, 2, 3, 4, 5, 6, 7]),\n",
       " array([195712, 195712, 195712,    377,      1,  11426,  62261]))"
      ]
     },
     "execution_count": 10,
     "metadata": {},
     "output_type": "execute_result"
    }
   ],
   "source": [
    "np.unique(y_raw, return_counts=True)"
   ]
  },
  {
   "cell_type": "markdown",
   "id": "ec4aa88a",
   "metadata": {
    "papermill": {
     "duration": 0.030029,
     "end_time": "2021-12-03T03:55:56.514399",
     "exception": false,
     "start_time": "2021-12-03T03:55:56.484370",
     "status": "completed"
    },
    "tags": []
   },
   "source": [
    "## Scaler transformer"
   ]
  },
  {
   "cell_type": "code",
   "execution_count": 11,
   "id": "1951a9f1",
   "metadata": {
    "execution": {
     "iopub.execute_input": "2021-12-03T03:55:56.581452Z",
     "iopub.status.busy": "2021-12-03T03:55:56.580172Z",
     "iopub.status.idle": "2021-12-03T03:55:56.582864Z",
     "shell.execute_reply": "2021-12-03T03:55:56.583592Z",
     "shell.execute_reply.started": "2021-12-03T03:34:05.584415Z"
    },
    "papermill": {
     "duration": 0.039594,
     "end_time": "2021-12-03T03:55:56.583763",
     "exception": false,
     "start_time": "2021-12-03T03:55:56.544169",
     "status": "completed"
    },
    "tags": []
   },
   "outputs": [],
   "source": [
    "transformer_all_cols = make_pipeline(\n",
    "    RobustScaler(),\n",
    ")\n",
    "\n",
    "preprocessor = make_column_transformer(\n",
    "    (transformer_all_cols, df_test.columns[:]),\n",
    ")"
   ]
  },
  {
   "cell_type": "code",
   "execution_count": 12,
   "id": "f3c4d148",
   "metadata": {
    "execution": {
     "iopub.execute_input": "2021-12-03T03:55:56.656100Z",
     "iopub.status.busy": "2021-12-03T03:55:56.654138Z",
     "iopub.status.idle": "2021-12-03T03:55:58.583186Z",
     "shell.execute_reply": "2021-12-03T03:55:58.582421Z",
     "shell.execute_reply.started": "2021-12-03T03:34:05.605051Z"
    },
    "papermill": {
     "duration": 1.966865,
     "end_time": "2021-12-03T03:55:58.583358",
     "exception": false,
     "start_time": "2021-12-03T03:55:56.616493",
     "status": "completed"
    },
    "tags": []
   },
   "outputs": [],
   "source": [
    "X_train = preprocessor.fit_transform(X_raw)\n",
    "X_test = preprocessor.transform(X_test_raw)"
   ]
  },
  {
   "cell_type": "markdown",
   "id": "e519e2d9",
   "metadata": {
    "papermill": {
     "duration": 0.030564,
     "end_time": "2021-12-03T03:55:58.645686",
     "exception": false,
     "start_time": "2021-12-03T03:55:58.615122",
     "status": "completed"
    },
    "tags": []
   },
   "source": [
    "TPS always have huge dataset."
   ]
  },
  {
   "cell_type": "code",
   "execution_count": 13,
   "id": "f14cfe4d",
   "metadata": {
    "execution": {
     "iopub.execute_input": "2021-12-03T03:55:58.874415Z",
     "iopub.status.busy": "2021-12-03T03:55:58.873471Z",
     "iopub.status.idle": "2021-12-03T03:55:58.877235Z",
     "shell.execute_reply": "2021-12-03T03:55:58.877774Z",
     "shell.execute_reply.started": "2021-12-03T03:34:06.103332Z"
    },
    "papermill": {
     "duration": 0.201204,
     "end_time": "2021-12-03T03:55:58.877964",
     "exception": false,
     "start_time": "2021-12-03T03:55:58.676760",
     "status": "completed"
    },
    "tags": []
   },
   "outputs": [
    {
     "data": {
      "text/plain": [
       "132"
      ]
     },
     "execution_count": 13,
     "metadata": {},
     "output_type": "execute_result"
    }
   ],
   "source": [
    "import gc\n",
    "gc.collect()"
   ]
  },
  {
   "cell_type": "markdown",
   "id": "2213bd94",
   "metadata": {
    "papermill": {
     "duration": 0.031686,
     "end_time": "2021-12-03T03:55:58.941530",
     "exception": false,
     "start_time": "2021-12-03T03:55:58.909844",
     "status": "completed"
    },
    "tags": []
   },
   "source": [
    "# Hyperparameter Tuning #\n",
    "\n",
    "At this stage, you might like to do auto hyperparameter tuning with AutoKeras before creating your final submission.\n",
    "AutoKeras: An AutoML system based on Keras. It is developed by DATA Lab at Texas A&M University. The goal of AutoKeras is to make machine learning accessible to everyone.\n",
    "\n",
    "By default, AutoKeras use the last 20% of training data as validation data. As shown in the example below, you can use validation_split to specify the percentage."
   ]
  },
  {
   "cell_type": "code",
   "execution_count": 14,
   "id": "f8bbbb99",
   "metadata": {
    "execution": {
     "iopub.execute_input": "2021-12-03T03:55:59.008952Z",
     "iopub.status.busy": "2021-12-03T03:55:59.007780Z",
     "iopub.status.idle": "2021-12-03T03:55:59.013403Z",
     "shell.execute_reply": "2021-12-03T03:55:59.012810Z",
     "shell.execute_reply.started": "2021-12-03T03:34:06.540581Z"
    },
    "papermill": {
     "duration": 0.040141,
     "end_time": "2021-12-03T03:55:59.013588",
     "exception": false,
     "start_time": "2021-12-03T03:55:58.973447",
     "status": "completed"
    },
    "tags": []
   },
   "outputs": [],
   "source": [
    "# Search for the best model with EarlyStopping.\n",
    "cbs = [\n",
    "    tf.keras.callbacks.EarlyStopping(patience=3),\n",
    "]"
   ]
  },
  {
   "cell_type": "code",
   "execution_count": 15,
   "id": "913a8882",
   "metadata": {
    "execution": {
     "iopub.execute_input": "2021-12-03T03:55:59.083493Z",
     "iopub.status.busy": "2021-12-03T03:55:59.082271Z",
     "iopub.status.idle": "2021-12-03T08:50:30.049985Z",
     "shell.execute_reply": "2021-12-03T08:50:30.048916Z",
     "shell.execute_reply.started": "2021-12-03T03:34:06.547097Z"
    },
    "papermill": {
     "duration": 17671.004798,
     "end_time": "2021-12-03T08:50:30.050187",
     "exception": false,
     "start_time": "2021-12-03T03:55:59.045389",
     "status": "completed"
    },
    "tags": []
   },
   "outputs": [
    {
     "name": "stdout",
     "output_type": "stream",
     "text": [
      "Trial 5 Complete [00h 23m 29s]\n",
      "val_accuracy: 0.2530231177806854\n",
      "\n",
      "Best val_accuracy So Far: 0.2530231177806854\n",
      "Total elapsed time: 01h 58m 08s\n",
      "Epoch 1/80\n",
      "20663/20663 [==============================] - 89s 4ms/step - loss: 0.0565 - accuracy: 0.9929\n",
      "Epoch 2/80\n",
      "20663/20663 [==============================] - 91s 4ms/step - loss: 0.0564 - accuracy: 0.9936\n",
      "Epoch 3/80\n",
      "20663/20663 [==============================] - 92s 4ms/step - loss: 0.0557 - accuracy: 0.9945\n",
      "Epoch 4/80\n",
      "20663/20663 [==============================] - 94s 5ms/step - loss: 0.0569 - accuracy: 0.9941\n",
      "Epoch 5/80\n",
      "20663/20663 [==============================] - 96s 5ms/step - loss: 0.0676 - accuracy: 0.9939\n",
      "Epoch 6/80\n",
      "20663/20663 [==============================] - 91s 4ms/step - loss: 0.0524 - accuracy: 0.9945\n",
      "Epoch 7/80\n",
      "20663/20663 [==============================] - 94s 5ms/step - loss: 0.0642 - accuracy: 0.9943\n",
      "Epoch 8/80\n",
      "20663/20663 [==============================] - 96s 5ms/step - loss: 0.0487 - accuracy: 0.9950\n",
      "Epoch 9/80\n",
      "20663/20663 [==============================] - 94s 5ms/step - loss: 0.0552 - accuracy: 0.9949\n",
      "Epoch 10/80\n",
      "20663/20663 [==============================] - 94s 5ms/step - loss: 0.0561 - accuracy: 0.9951\n",
      "Epoch 11/80\n",
      "20663/20663 [==============================] - 101s 5ms/step - loss: 0.0503 - accuracy: 0.9954\n",
      "Epoch 12/80\n",
      "20663/20663 [==============================] - 95s 5ms/step - loss: 0.0589 - accuracy: 0.9952\n",
      "Epoch 13/80\n",
      "20663/20663 [==============================] - 87s 4ms/step - loss: 0.0515 - accuracy: 0.9955\n",
      "Epoch 14/80\n",
      "20663/20663 [==============================] - 96s 5ms/step - loss: 0.0654 - accuracy: 0.9952\n",
      "Epoch 15/80\n",
      "20663/20663 [==============================] - 97s 5ms/step - loss: 0.0565 - accuracy: 0.9957\n",
      "Epoch 16/80\n",
      "20663/20663 [==============================] - 98s 5ms/step - loss: 0.0513 - accuracy: 0.9955\n",
      "Epoch 17/80\n",
      "20663/20663 [==============================] - 87s 4ms/step - loss: 0.0517 - accuracy: 0.9954\n",
      "Epoch 18/80\n",
      "20663/20663 [==============================] - 99s 5ms/step - loss: 0.0548 - accuracy: 0.9955\n",
      "Epoch 19/80\n",
      "20663/20663 [==============================] - 99s 5ms/step - loss: 0.0543 - accuracy: 0.9955\n",
      "Epoch 20/80\n",
      "20663/20663 [==============================] - 99s 5ms/step - loss: 0.0521 - accuracy: 0.9956\n",
      "Epoch 21/80\n",
      "20663/20663 [==============================] - 88s 4ms/step - loss: 0.0465 - accuracy: 0.9960\n",
      "Epoch 22/80\n",
      "20663/20663 [==============================] - 88s 4ms/step - loss: 0.0540 - accuracy: 0.9960\n",
      "Epoch 23/80\n",
      "20663/20663 [==============================] - 102s 5ms/step - loss: 0.0555 - accuracy: 0.9961\n",
      "Epoch 24/80\n",
      "20663/20663 [==============================] - 89s 4ms/step - loss: 0.0629 - accuracy: 0.9959\n",
      "Epoch 25/80\n",
      "20663/20663 [==============================] - 102s 5ms/step - loss: 0.0559 - accuracy: 0.9961\n",
      "Epoch 26/80\n",
      "20663/20663 [==============================] - 89s 4ms/step - loss: 0.0547 - accuracy: 0.9962\n",
      "Epoch 27/80\n",
      "20663/20663 [==============================] - 98s 5ms/step - loss: 0.0542 - accuracy: 0.9962\n",
      "Epoch 28/80\n",
      "20663/20663 [==============================] - 89s 4ms/step - loss: 0.0534 - accuracy: 0.9962\n",
      "Epoch 29/80\n",
      "20663/20663 [==============================] - 89s 4ms/step - loss: 0.0596 - accuracy: 0.9960\n",
      "Epoch 30/80\n",
      "20663/20663 [==============================] - 106s 5ms/step - loss: 0.0602 - accuracy: 0.9961\n",
      "Epoch 31/80\n",
      "20663/20663 [==============================] - 87s 4ms/step - loss: 0.0652 - accuracy: 0.9959\n",
      "Epoch 32/80\n",
      "20663/20663 [==============================] - 107s 5ms/step - loss: 0.0704 - accuracy: 0.9960\n",
      "Epoch 33/80\n",
      "20663/20663 [==============================] - 88s 4ms/step - loss: 0.0653 - accuracy: 0.9961\n",
      "Epoch 34/80\n",
      "20663/20663 [==============================] - 88s 4ms/step - loss: 0.0620 - accuracy: 0.9961\n",
      "Epoch 35/80\n",
      "20663/20663 [==============================] - 107s 5ms/step - loss: 0.0561 - accuracy: 0.9962\n",
      "Epoch 36/80\n",
      "20663/20663 [==============================] - 87s 4ms/step - loss: 0.0630 - accuracy: 0.9961\n",
      "Epoch 37/80\n",
      "20663/20663 [==============================] - 103s 5ms/step - loss: 0.0646 - accuracy: 0.9962\n",
      "Epoch 38/80\n",
      "20663/20663 [==============================] - 95s 5ms/step - loss: 0.0734 - accuracy: 0.9962\n",
      "Epoch 39/80\n",
      "20663/20663 [==============================] - 87s 4ms/step - loss: 0.0815 - accuracy: 0.9959\n",
      "Epoch 40/80\n",
      "20663/20663 [==============================] - 99s 5ms/step - loss: 0.0712 - accuracy: 0.9960\n",
      "Epoch 41/80\n",
      "20663/20663 [==============================] - 88s 4ms/step - loss: 0.0757 - accuracy: 0.9961\n",
      "Epoch 42/80\n",
      "20663/20663 [==============================] - 88s 4ms/step - loss: 0.0719 - accuracy: 0.9960\n",
      "Epoch 43/80\n",
      "20663/20663 [==============================] - 114s 6ms/step - loss: 0.0842 - accuracy: 0.9962\n",
      "Epoch 44/80\n",
      "20663/20663 [==============================] - 88s 4ms/step - loss: 0.0709 - accuracy: 0.9964\n",
      "Epoch 45/80\n",
      "20663/20663 [==============================] - 88s 4ms/step - loss: 0.0888 - accuracy: 0.9960\n",
      "Epoch 46/80\n",
      "20663/20663 [==============================] - 87s 4ms/step - loss: 0.0907 - accuracy: 0.9961\n",
      "Epoch 47/80\n",
      "20663/20663 [==============================] - 88s 4ms/step - loss: 0.1042 - accuracy: 0.9959\n",
      "Epoch 48/80\n",
      "20663/20663 [==============================] - 116s 6ms/step - loss: 0.1136 - accuracy: 0.9959\n",
      "Epoch 49/80\n",
      "20663/20663 [==============================] - 87s 4ms/step - loss: 0.1118 - accuracy: 0.9957\n",
      "Epoch 50/80\n",
      "20663/20663 [==============================] - 88s 4ms/step - loss: 0.1072 - accuracy: 0.9959\n",
      "Epoch 51/80\n",
      "20663/20663 [==============================] - 88s 4ms/step - loss: 0.1283 - accuracy: 0.9958\n",
      "Epoch 52/80\n",
      "20663/20663 [==============================] - 88s 4ms/step - loss: 0.1493 - accuracy: 0.9957\n",
      "Epoch 53/80\n",
      "20663/20663 [==============================] - 118s 6ms/step - loss: 0.1472 - accuracy: 0.9957\n",
      "Epoch 54/80\n",
      "20663/20663 [==============================] - 89s 4ms/step - loss: 0.1804 - accuracy: 0.9957\n",
      "Epoch 55/80\n",
      "20663/20663 [==============================] - 88s 4ms/step - loss: 0.1741 - accuracy: 0.9955\n",
      "Epoch 56/80\n",
      "20663/20663 [==============================] - 88s 4ms/step - loss: 0.1901 - accuracy: 0.9954\n",
      "Epoch 57/80\n",
      "20663/20663 [==============================] - 88s 4ms/step - loss: 0.1835 - accuracy: 0.9955\n",
      "Epoch 58/80\n",
      "20663/20663 [==============================] - 123s 6ms/step - loss: 0.1672 - accuracy: 0.9957\n",
      "Epoch 59/80\n",
      "20663/20663 [==============================] - 89s 4ms/step - loss: 0.1802 - accuracy: 0.9956\n",
      "Epoch 60/80\n",
      "20663/20663 [==============================] - 89s 4ms/step - loss: 0.1624 - accuracy: 0.9954\n",
      "Epoch 61/80\n",
      "20663/20663 [==============================] - 88s 4ms/step - loss: 0.1459 - accuracy: 0.9956\n",
      "Epoch 62/80\n",
      "20663/20663 [==============================] - 125s 6ms/step - loss: 0.1530 - accuracy: 0.9958\n",
      "Epoch 63/80\n",
      "20663/20663 [==============================] - 87s 4ms/step - loss: 0.1566 - accuracy: 0.9958\n",
      "Epoch 64/80\n",
      "20663/20663 [==============================] - 88s 4ms/step - loss: 0.1775 - accuracy: 0.9959\n",
      "Epoch 65/80\n",
      "20663/20663 [==============================] - 89s 4ms/step - loss: 0.1680 - accuracy: 0.9958\n",
      "Epoch 66/80\n",
      "20663/20663 [==============================] - 87s 4ms/step - loss: 0.1912 - accuracy: 0.9956\n",
      "Epoch 67/80\n",
      "20663/20663 [==============================] - 104s 5ms/step - loss: 0.2136 - accuracy: 0.9958\n",
      "Epoch 68/80\n",
      "20663/20663 [==============================] - 87s 4ms/step - loss: 0.2042 - accuracy: 0.9959\n",
      "Epoch 69/80\n",
      "20663/20663 [==============================] - 88s 4ms/step - loss: 0.1910 - accuracy: 0.9959\n",
      "Epoch 70/80\n",
      "20663/20663 [==============================] - 89s 4ms/step - loss: 0.1896 - accuracy: 0.9959\n",
      "Epoch 71/80\n",
      "20663/20663 [==============================] - 89s 4ms/step - loss: 0.2105 - accuracy: 0.9958\n",
      "Epoch 72/80\n",
      "20663/20663 [==============================] - 131s 6ms/step - loss: 0.2380 - accuracy: 0.9958\n",
      "Epoch 73/80\n",
      "20663/20663 [==============================] - 87s 4ms/step - loss: 0.2426 - accuracy: 0.9960\n",
      "Epoch 74/80\n",
      "20663/20663 [==============================] - 89s 4ms/step - loss: 0.2439 - accuracy: 0.9959\n",
      "Epoch 75/80\n",
      "20663/20663 [==============================] - 88s 4ms/step - loss: 0.3143 - accuracy: 0.9958\n",
      "Epoch 76/80\n",
      "20663/20663 [==============================] - 89s 4ms/step - loss: 0.3075 - accuracy: 0.9958\n",
      "Epoch 77/80\n",
      "20663/20663 [==============================] - 88s 4ms/step - loss: 0.3005 - accuracy: 0.9960\n",
      "Epoch 78/80\n",
      "20663/20663 [==============================] - 87s 4ms/step - loss: 0.2988 - accuracy: 0.9959\n",
      "Epoch 79/80\n",
      "20663/20663 [==============================] - 89s 4ms/step - loss: 0.2879 - accuracy: 0.9960\n",
      "Epoch 80/80\n",
      "20663/20663 [==============================] - 89s 4ms/step - loss: 0.3463 - accuracy: 0.9959\n"
     ]
    },
    {
     "name": "stderr",
     "output_type": "stream",
     "text": [
      "2021-12-03 08:50:23.338538: W tensorflow/python/util/util.cc:348] Sets are not currently considered sequences, but this may change in the future, so consider avoiding using them.\n"
     ]
    }
   ],
   "source": [
    "# Initialize the structured data classifier.\n",
    "clf = ak.StructuredDataClassifier(\n",
    "    overwrite=False, max_trials=MAX_TRIAL,seed=RANDOM_STATE\n",
    ")  # It tries MAX_TRIAL different models.\n",
    "# Feed the structured data classifier with training data.\n",
    "history = clf.fit(\n",
    "                X_train,\n",
    "                y_raw,\n",
    "                # Split the training data and use the last 15% as validation data.\n",
    "                validation_split=VALIDATION_SPLIT,\n",
    "                epochs=EPOCHS,\n",
    "                callbacks=cbs,\n",
    ")\n",
    "\n"
   ]
  },
  {
   "cell_type": "code",
   "execution_count": 16,
   "id": "c008bb78",
   "metadata": {
    "execution": {
     "iopub.execute_input": "2021-12-03T08:52:12.423521Z",
     "iopub.status.busy": "2021-12-03T08:52:12.422379Z",
     "iopub.status.idle": "2021-12-03T08:52:12.425751Z",
     "shell.execute_reply": "2021-12-03T08:52:12.425196Z",
     "shell.execute_reply.started": "2021-12-03T03:43:13.235216Z"
    },
    "papermill": {
     "duration": 51.013565,
     "end_time": "2021-12-03T08:52:12.425879",
     "exception": false,
     "start_time": "2021-12-03T08:51:21.412314",
     "status": "completed"
    },
    "tags": []
   },
   "outputs": [],
   "source": [
    "# clf.evaluate(X_val, y_val)"
   ]
  },
  {
   "cell_type": "markdown",
   "id": "ed4c2caf",
   "metadata": {
    "papermill": {
     "duration": 50.558625,
     "end_time": "2021-12-03T08:53:55.160248",
     "exception": false,
     "start_time": "2021-12-03T08:53:04.601623",
     "status": "completed"
    },
    "tags": []
   },
   "source": [
    "You can also export the best model found by AutoKeras as a Keras Model."
   ]
  },
  {
   "cell_type": "code",
   "execution_count": 17,
   "id": "ff176905",
   "metadata": {
    "execution": {
     "iopub.execute_input": "2021-12-03T08:55:38.463393Z",
     "iopub.status.busy": "2021-12-03T08:55:38.462194Z",
     "iopub.status.idle": "2021-12-03T08:55:41.758154Z",
     "shell.execute_reply": "2021-12-03T08:55:41.758681Z",
     "shell.execute_reply.started": "2021-12-03T03:43:13.241735Z"
    },
    "papermill": {
     "duration": 55.00693,
     "end_time": "2021-12-03T08:55:41.759202",
     "exception": false,
     "start_time": "2021-12-03T08:54:46.752272",
     "status": "completed"
    },
    "tags": []
   },
   "outputs": [
    {
     "name": "stdout",
     "output_type": "stream",
     "text": [
      "Model: \"model\"\n",
      "_________________________________________________________________\n",
      "Layer (type)                 Output Shape              Param #   \n",
      "=================================================================\n",
      "input_1 (InputLayer)         [(None, 54)]              0         \n",
      "_________________________________________________________________\n",
      "multi_category_encoding (Mul (None, 54)                0         \n",
      "_________________________________________________________________\n",
      "normalization (Normalization (None, 54)                109       \n",
      "_________________________________________________________________\n",
      "dense (Dense)                (None, 32)                1760      \n",
      "_________________________________________________________________\n",
      "re_lu (ReLU)                 (None, 32)                0         \n",
      "_________________________________________________________________\n",
      "dense_1 (Dense)              (None, 32)                1056      \n",
      "_________________________________________________________________\n",
      "re_lu_1 (ReLU)               (None, 32)                0         \n",
      "_________________________________________________________________\n",
      "dense_2 (Dense)              (None, 7)                 231       \n",
      "_________________________________________________________________\n",
      "classification_head_1 (Softm (None, 7)                 0         \n",
      "=================================================================\n",
      "Total params: 3,156\n",
      "Trainable params: 3,047\n",
      "Non-trainable params: 109\n",
      "_________________________________________________________________\n"
     ]
    }
   ],
   "source": [
    "model = clf.export_model()\n",
    "model.summary()"
   ]
  },
  {
   "cell_type": "markdown",
   "id": "4b9618e2",
   "metadata": {
    "papermill": {
     "duration": 51.508751,
     "end_time": "2021-12-03T08:57:24.293439",
     "exception": false,
     "start_time": "2021-12-03T08:56:32.784688",
     "status": "completed"
    },
    "tags": []
   },
   "source": [
    "# Train Model and Create Submissions #\n",
    "\n",
    "Once you're satisfied with everything, it's time to create your final predictions! This cell will:\n",
    "- use the best trained model to make predictions from the test set\n",
    "- save the predictions to a CSV file"
   ]
  },
  {
   "cell_type": "code",
   "execution_count": 18,
   "id": "756d89f3",
   "metadata": {
    "execution": {
     "iopub.execute_input": "2021-12-03T08:59:08.023492Z",
     "iopub.status.busy": "2021-12-03T08:59:08.022176Z",
     "iopub.status.idle": "2021-12-03T09:02:51.650575Z",
     "shell.execute_reply": "2021-12-03T09:02:51.649855Z",
     "shell.execute_reply.started": "2021-12-03T03:43:15.478284Z"
    },
    "papermill": {
     "duration": 276.068157,
     "end_time": "2021-12-03T09:02:51.650747",
     "exception": false,
     "start_time": "2021-12-03T08:58:15.582590",
     "status": "completed"
    },
    "tags": []
   },
   "outputs": [
    {
     "name": "stdout",
     "output_type": "stream",
     "text": [
      "31250/31250 [==============================] - 131s 4ms/step\n"
     ]
    }
   ],
   "source": [
    "# Predict with the best model.\n",
    "predicted_y = clf.predict(X_test)\n"
   ]
  },
  {
   "cell_type": "code",
   "execution_count": 19,
   "id": "0efc8253",
   "metadata": {
    "execution": {
     "iopub.execute_input": "2021-12-03T09:04:36.483743Z",
     "iopub.status.busy": "2021-12-03T09:04:36.482024Z",
     "iopub.status.idle": "2021-12-03T09:04:36.487002Z",
     "shell.execute_reply": "2021-12-03T09:04:36.486413Z",
     "shell.execute_reply.started": "2021-12-03T03:46:10.092793Z"
    },
    "papermill": {
     "duration": 52.58912,
     "end_time": "2021-12-03T09:04:36.487136",
     "exception": false,
     "start_time": "2021-12-03T09:03:43.898016",
     "status": "completed"
    },
    "tags": []
   },
   "outputs": [
    {
     "data": {
      "text/plain": [
       "array([['7'],\n",
       "       ['7'],\n",
       "       ['7'],\n",
       "       ...,\n",
       "       ['7'],\n",
       "       ['7'],\n",
       "       ['7']], dtype='<U1')"
      ]
     },
     "execution_count": 19,
     "metadata": {},
     "output_type": "execute_result"
    }
   ],
   "source": [
    "predicted_y"
   ]
  },
  {
   "cell_type": "code",
   "execution_count": 20,
   "id": "5cefbd26",
   "metadata": {
    "execution": {
     "iopub.execute_input": "2021-12-03T09:06:20.999573Z",
     "iopub.status.busy": "2021-12-03T09:06:20.998611Z",
     "iopub.status.idle": "2021-12-03T09:06:23.124426Z",
     "shell.execute_reply": "2021-12-03T09:06:23.125016Z",
     "shell.execute_reply.started": "2021-12-03T03:46:10.102033Z"
    },
    "papermill": {
     "duration": 54.440067,
     "end_time": "2021-12-03T09:06:23.125195",
     "exception": false,
     "start_time": "2021-12-03T09:05:28.685128",
     "status": "completed"
    },
    "tags": []
   },
   "outputs": [
    {
     "name": "stdout",
     "output_type": "stream",
     "text": [
      "Your submission was successfully saved!\n"
     ]
    },
    {
     "data": {
      "text/html": [
       "<div>\n",
       "<style scoped>\n",
       "    .dataframe tbody tr th:only-of-type {\n",
       "        vertical-align: middle;\n",
       "    }\n",
       "\n",
       "    .dataframe tbody tr th {\n",
       "        vertical-align: top;\n",
       "    }\n",
       "\n",
       "    .dataframe thead th {\n",
       "        text-align: right;\n",
       "    }\n",
       "</style>\n",
       "<table border=\"1\" class=\"dataframe\">\n",
       "  <thead>\n",
       "    <tr style=\"text-align: right;\">\n",
       "      <th></th>\n",
       "      <th>Id</th>\n",
       "      <th>Cover_Type</th>\n",
       "    </tr>\n",
       "  </thead>\n",
       "  <tbody>\n",
       "    <tr>\n",
       "      <th>0</th>\n",
       "      <td>4000000</td>\n",
       "      <td>7</td>\n",
       "    </tr>\n",
       "    <tr>\n",
       "      <th>1</th>\n",
       "      <td>4000001</td>\n",
       "      <td>7</td>\n",
       "    </tr>\n",
       "    <tr>\n",
       "      <th>2</th>\n",
       "      <td>4000002</td>\n",
       "      <td>7</td>\n",
       "    </tr>\n",
       "    <tr>\n",
       "      <th>3</th>\n",
       "      <td>4000003</td>\n",
       "      <td>7</td>\n",
       "    </tr>\n",
       "    <tr>\n",
       "      <th>4</th>\n",
       "      <td>4000004</td>\n",
       "      <td>7</td>\n",
       "    </tr>\n",
       "    <tr>\n",
       "      <th>...</th>\n",
       "      <td>...</td>\n",
       "      <td>...</td>\n",
       "    </tr>\n",
       "    <tr>\n",
       "      <th>999995</th>\n",
       "      <td>4999995</td>\n",
       "      <td>7</td>\n",
       "    </tr>\n",
       "    <tr>\n",
       "      <th>999996</th>\n",
       "      <td>4999996</td>\n",
       "      <td>7</td>\n",
       "    </tr>\n",
       "    <tr>\n",
       "      <th>999997</th>\n",
       "      <td>4999997</td>\n",
       "      <td>7</td>\n",
       "    </tr>\n",
       "    <tr>\n",
       "      <th>999998</th>\n",
       "      <td>4999998</td>\n",
       "      <td>7</td>\n",
       "    </tr>\n",
       "    <tr>\n",
       "      <th>999999</th>\n",
       "      <td>4999999</td>\n",
       "      <td>7</td>\n",
       "    </tr>\n",
       "  </tbody>\n",
       "</table>\n",
       "<p>1000000 rows × 2 columns</p>\n",
       "</div>"
      ],
      "text/plain": [
       "             Id Cover_Type\n",
       "0       4000000          7\n",
       "1       4000001          7\n",
       "2       4000002          7\n",
       "3       4000003          7\n",
       "4       4000004          7\n",
       "...         ...        ...\n",
       "999995  4999995          7\n",
       "999996  4999996          7\n",
       "999997  4999997          7\n",
       "999998  4999998          7\n",
       "999999  4999999          7\n",
       "\n",
       "[1000000 rows x 2 columns]"
      ]
     },
     "execution_count": 20,
     "metadata": {},
     "output_type": "execute_result"
    }
   ],
   "source": [
    "# output = pd.DataFrame({'Id': X_test.index, target_col: predicted_y})\n",
    "output = pd.read_csv(INPUT + \"/sample_submission.csv\")\n",
    "output[target_col] = predicted_y\n",
    "output.to_csv('submission.csv', index=False)\n",
    "print(\"Your submission was successfully saved!\")\n",
    "output"
   ]
  },
  {
   "cell_type": "code",
   "execution_count": 21,
   "id": "489f1e3f",
   "metadata": {
    "execution": {
     "iopub.execute_input": "2021-12-03T09:08:07.564682Z",
     "iopub.status.busy": "2021-12-03T09:08:07.553815Z",
     "iopub.status.idle": "2021-12-03T09:08:08.218976Z",
     "shell.execute_reply": "2021-12-03T09:08:08.219556Z",
     "shell.execute_reply.started": "2021-12-03T03:49:25.342827Z"
    },
    "papermill": {
     "duration": 52.488172,
     "end_time": "2021-12-03T09:08:08.219735",
     "exception": false,
     "start_time": "2021-12-03T09:07:15.731563",
     "status": "completed"
    },
    "tags": []
   },
   "outputs": [
    {
     "data": {
      "image/png": "[encoded data removed]",
      "text/plain": [
       "<Figure size 432x288 with 1 Axes>"
      ]
     },
     "metadata": {},
     "output_type": "display_data"
    },
    {
     "data": {
      "image/png": "[encoded data removed]",
      "text/plain": [
       "<Figure size 432x288 with 1 Axes>"
      ]
     },
     "metadata": {},
     "output_type": "display_data"
    }
   ],
   "source": [
    "# summarize history for accuracy\n",
    "plt.plot(history.history['accuracy'])\n",
    "# plt.plot(history.history['val_acc'])\n",
    "plt.title('model accuracy')\n",
    "plt.ylabel('acc')\n",
    "plt.xlabel('epoch')\n",
    "plt.legend(['train', 'test'], loc='upper left')\n",
    "plt.show()\n",
    "# summarize history for loss\n",
    "plt.plot(history.history['loss'])\n",
    "# plt.plot(history.history['val_loss'])\n",
    "plt.title('model loss')\n",
    "plt.ylabel('loss')\n",
    "plt.xlabel('epoch')\n",
    "plt.legend(['train', 'test'], loc='upper left')\n",
    "plt.show()"
   ]
  },
  {
   "cell_type": "code",
   "execution_count": 22,
   "id": "d3b3b4c2",
   "metadata": {
    "execution": {
     "iopub.execute_input": "2021-12-03T09:09:54.715720Z",
     "iopub.status.busy": "2021-12-03T09:09:54.714669Z",
     "iopub.status.idle": "2021-12-03T09:09:54.718905Z",
     "shell.execute_reply": "2021-12-03T09:09:54.719503Z",
     "shell.execute_reply.started": "2021-12-03T03:48:31.136402Z"
    },
    "papermill": {
     "duration": 53.585251,
     "end_time": "2021-12-03T09:09:54.719668",
     "exception": false,
     "start_time": "2021-12-03T09:09:01.134417",
     "status": "completed"
    },
    "tags": []
   },
   "outputs": [
    {
     "data": {
      "text/plain": [
       "{'loss': [0.05646214261651039,\n",
       "  0.056414537131786346,\n",
       "  0.05570828542113304,\n",
       "  0.05689549818634987,\n",
       "  0.06763437390327454,\n",
       "  0.05241377279162407,\n",
       "  0.06422556191682816,\n",
       "  0.048665765672922134,\n",
       "  0.05521031841635704,\n",
       "  0.056128278374671936,\n",
       "  0.05033748969435692,\n",
       "  0.05886128544807434,\n",
       "  0.05148663744330406,\n",
       "  0.06544497609138489,\n",
       "  0.05651254579424858,\n",
       "  0.05130130425095558,\n",
       "  0.05171382054686546,\n",
       "  0.05483546108007431,\n",
       "  0.05432238057255745,\n",
       "  0.052065204828977585,\n",
       "  0.04651273041963577,\n",
       "  0.054047901183366776,\n",
       "  0.05554380640387535,\n",
       "  0.06290266662836075,\n",
       "  0.0559367910027504,\n",
       "  0.05466409772634506,\n",
       "  0.05422866344451904,\n",
       "  0.05335390567779541,\n",
       "  0.05963755398988724,\n",
       "  0.060214556753635406,\n",
       "  0.06517478823661804,\n",
       "  0.0704144835472107,\n",
       "  0.06532062590122223,\n",
       "  0.0620291605591774,\n",
       "  0.05608352646231651,\n",
       "  0.06302493810653687,\n",
       "  0.06462043523788452,\n",
       "  0.07339450716972351,\n",
       "  0.08151844888925552,\n",
       "  0.07117187231779099,\n",
       "  0.0757240504026413,\n",
       "  0.0719384029507637,\n",
       "  0.08423089981079102,\n",
       "  0.07090040296316147,\n",
       "  0.08882386982440948,\n",
       "  0.09068025648593903,\n",
       "  0.10415928065776825,\n",
       "  0.1136387512087822,\n",
       "  0.1118435338139534,\n",
       "  0.1071903258562088,\n",
       "  0.12830625474452972,\n",
       "  0.14929156005382538,\n",
       "  0.14715050160884857,\n",
       "  0.18036316335201263,\n",
       "  0.17409245669841766,\n",
       "  0.1901140809059143,\n",
       "  0.18353593349456787,\n",
       "  0.16719268262386322,\n",
       "  0.1801905781030655,\n",
       "  0.16237857937812805,\n",
       "  0.14587397873401642,\n",
       "  0.15303224325180054,\n",
       "  0.15661180019378662,\n",
       "  0.1774565577507019,\n",
       "  0.16796721518039703,\n",
       "  0.19121716916561127,\n",
       "  0.21361930668354034,\n",
       "  0.2042384296655655,\n",
       "  0.19100522994995117,\n",
       "  0.18961971998214722,\n",
       "  0.21052765846252441,\n",
       "  0.2379698008298874,\n",
       "  0.24255719780921936,\n",
       "  0.24393731355667114,\n",
       "  0.3142624795436859,\n",
       "  0.3075227737426758,\n",
       "  0.30052638053894043,\n",
       "  0.29883134365081787,\n",
       "  0.2879351079463959,\n",
       "  0.3463154733181],\n",
       " 'accuracy': [0.9929416179656982,\n",
       "  0.9935813546180725,\n",
       "  0.9944797158241272,\n",
       "  0.994081974029541,\n",
       "  0.9938566088676453,\n",
       "  0.994464635848999,\n",
       "  0.9942846298217773,\n",
       "  0.9949893951416016,\n",
       "  0.9948593378067017,\n",
       "  0.9951210021972656,\n",
       "  0.9954234957695007,\n",
       "  0.9951633214950562,\n",
       "  0.995515763759613,\n",
       "  0.9952117204666138,\n",
       "  0.99570631980896,\n",
       "  0.9955111742019653,\n",
       "  0.9953917264938354,\n",
       "  0.9954915642738342,\n",
       "  0.9955232739448547,\n",
       "  0.99563068151474,\n",
       "  0.9960450530052185,\n",
       "  0.9960345029830933,\n",
       "  0.9960587024688721,\n",
       "  0.9959195256233215,\n",
       "  0.9960934519767761,\n",
       "  0.9962159991264343,\n",
       "  0.996223509311676,\n",
       "  0.9961872696876526,\n",
       "  0.9960163235664368,\n",
       "  0.9960511326789856,\n",
       "  0.9958651065826416,\n",
       "  0.995987594127655,\n",
       "  0.9960995316505432,\n",
       "  0.9961085915565491,\n",
       "  0.9961660504341125,\n",
       "  0.9960722923278809,\n",
       "  0.9962265491485596,\n",
       "  0.9961555004119873,\n",
       "  0.9958681464195251,\n",
       "  0.9959754943847656,\n",
       "  0.9960616827011108,\n",
       "  0.9960466027259827,\n",
       "  0.9962099194526672,\n",
       "  0.996364176273346,\n",
       "  0.9960405230522156,\n",
       "  0.996097981929779,\n",
       "  0.9958832263946533,\n",
       "  0.9959467649459839,\n",
       "  0.9957455992698669,\n",
       "  0.9958651065826416,\n",
       "  0.9958469271659851,\n",
       "  0.9956775903701782,\n",
       "  0.995691180229187,\n",
       "  0.9957093000411987,\n",
       "  0.9955444931983948,\n",
       "  0.9953539371490479,\n",
       "  0.995505154132843,\n",
       "  0.9957168698310852,\n",
       "  0.9955792427062988,\n",
       "  0.9954431653022766,\n",
       "  0.9956321716308594,\n",
       "  0.9957864284515381,\n",
       "  0.9958348274230957,\n",
       "  0.9959240555763245,\n",
       "  0.9958499670028687,\n",
       "  0.9956291913986206,\n",
       "  0.9958197474479675,\n",
       "  0.9959498047828674,\n",
       "  0.9959165453910828,\n",
       "  0.9959286451339722,\n",
       "  0.995806097984314,\n",
       "  0.9957697987556458,\n",
       "  0.9959936738014221,\n",
       "  0.9959044456481934,\n",
       "  0.995827317237854,\n",
       "  0.9957773685455322,\n",
       "  0.9959619045257568,\n",
       "  0.9959089756011963,\n",
       "  0.9959603548049927,\n",
       "  0.9958696365356445]}"
      ]
     },
     "execution_count": 22,
     "metadata": {},
     "output_type": "execute_result"
    }
   ],
   "source": [
    "history.history"
   ]
  },
  {
   "cell_type": "code",
   "execution_count": 23,
   "id": "f03457b6",
   "metadata": {
    "execution": {
     "iopub.execute_input": "2021-12-03T09:11:39.507134Z",
     "iopub.status.busy": "2021-12-03T09:11:39.505950Z",
     "iopub.status.idle": "2021-12-03T09:11:40.450450Z",
     "shell.execute_reply": "2021-12-03T09:11:40.449737Z",
     "shell.execute_reply.started": "2021-12-03T03:49:36.154863Z"
    },
    "papermill": {
     "duration": 53.924252,
     "end_time": "2021-12-03T09:11:40.450594",
     "exception": false,
     "start_time": "2021-12-03T09:10:46.526342",
     "status": "completed"
    },
    "tags": []
   },
   "outputs": [
    {
     "data": {
      "text/plain": [
       "(array(['1', '2', '3', '4', '6', '7'], dtype=object),\n",
       " array([  3357,   2353,   1018,   3264,   7509, 982499]))"
      ]
     },
     "execution_count": 23,
     "metadata": {},
     "output_type": "execute_result"
    }
   ],
   "source": [
    "np.unique(output[target_col], return_counts=True)"
   ]
  },
  {
   "cell_type": "code",
   "execution_count": 24,
   "id": "810fc6de",
   "metadata": {
    "execution": {
     "iopub.execute_input": "2021-12-03T09:13:25.902005Z",
     "iopub.status.busy": "2021-12-03T09:13:25.893253Z",
     "iopub.status.idle": "2021-12-03T09:13:26.425566Z",
     "shell.execute_reply": "2021-12-03T09:13:26.424947Z",
     "shell.execute_reply.started": "2021-12-03T03:50:31.532235Z"
    },
    "papermill": {
     "duration": 53.880847,
     "end_time": "2021-12-03T09:13:26.425726",
     "exception": false,
     "start_time": "2021-12-03T09:12:32.544879",
     "status": "completed"
    },
    "tags": []
   },
   "outputs": [
    {
     "data": {
      "image/png": "[encoded data removed]",
      "text/plain": [
       "<Figure size 720x216 with 1 Axes>"
      ]
     },
     "metadata": {},
     "output_type": "display_data"
    }
   ],
   "source": [
    "# Plot the distribution of the test predictions\n",
    "plt.figure(figsize=(10,3))\n",
    "plt.hist(output['Cover_Type'], bins=np.linspace(0.5, 7.5, 8), density=True)\n",
    "plt.xlabel('Test predictions')\n",
    "plt.ylabel('Density')\n",
    "plt.gca().yaxis.set_major_formatter(PercentFormatter())\n",
    "plt.show()"
   ]
  },
  {
   "cell_type": "markdown",
   "id": "5d862e0b",
   "metadata": {
    "papermill": {
     "duration": 52.645021,
     "end_time": "2021-12-03T09:15:12.633555",
     "exception": false,
     "start_time": "2021-12-03T09:14:19.988534",
     "status": "completed"
    },
    "tags": []
   },
   "source": [
    "To submit these predictions to the competition, follow these steps:\n",
    "\n",
    "1. Begin by clicking on the blue **Save Version** button in the top right corner of the window.  This will generate a pop-up window.\n",
    "2. Ensure that the **Save and Run All** option is selected, and then click on the blue **Save** button.\n",
    "3. This generates a window in the bottom left corner of the notebook.  After it has finished running, click on the number to the right of the **Save Version** button.  This pulls up a list of versions on the right of the screen.  Click on the ellipsis **(...)** to the right of the most recent version, and select **Open in Viewer**.  This brings you into view mode of the same page. You will need to scroll down to get back to these instructions.\n",
    "4. Click on the **Output** tab on the right of the screen.  Then, click on the file you would like to submit, and click on the blue **Submit** button to submit your results to the leaderboard.\n",
    "\n",
    "You have now successfully submitted to the competition!\n",
    "\n",
    "# Next Steps #\n",
    "\n",
    "If you want to keep working to improve your performance, select the blue **Edit** button in the top right of the screen. Then you can change your code and repeat the process. There's a lot of room to improve, and you will climb up the leaderboard as you work.\n",
    "\n",
    "Be sure to check out [other users' notebooks](https://www.kaggle.com/c/house-prices-advanced-regression-techniques/notebooks) in this competition. You'll find lots of great ideas for new features and as well as other ways to discover more things about the dataset or make better predictions. There's also the [discussion forum](https://www.kaggle.com/c/house-prices-advanced-regression-techniques/discussion), where you can share ideas with other Kagglers.\n",
    "\n",
    "Have fun Kaggling!"
   ]
  }
 ],
 "metadata": {
  "kernelspec": {
   "display_name": "Python 3",
   "language": "python",
   "name": "python3"
  },
  "language_info": {
   "codemirror_mode": {
    "name": "ipython",
    "version": 3
   },
   "file_extension": ".py",
   "mimetype": "text/x-python",
   "name": "python",
   "nbconvert_exporter": "python",
   "pygments_lexer": "ipython3",
   "version": "3.7.10"
  },
  "papermill": {
   "default_parameters": {},
   "duration": 19349.290455,
   "end_time": "2021-12-03T09:16:08.555397",
   "environment_variables": {},
   "exception": null,
   "input_path": "__notebook__.ipynb",
   "output_path": "__notebook__.ipynb",
   "parameters": {},
   "start_time": "2021-12-03T03:53:39.264942",
   "version": "2.3.3"
  }
 },
 "nbformat": 4,
 "nbformat_minor": 5
}
