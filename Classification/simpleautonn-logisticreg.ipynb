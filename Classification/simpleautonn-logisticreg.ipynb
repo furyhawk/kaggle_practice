{
 "cells": [
  {
   "cell_type": "markdown",
   "id": "dc7a8574",
   "metadata": {
    "papermill": {
     "duration": 0.022181,
     "end_time": "2021-12-02T14:06:12.914823",
     "exception": false,
     "start_time": "2021-12-02T14:06:12.892642",
     "status": "completed"
    },
    "tags": []
   },
   "source": [
    "# Introduction #\n",
    "Welcome\n",
    "<blockquote style=\"margin-right:auto; margin-left:auto; padding: 1em; margin:24px;\">\n",
    "    <strong>Fork This Notebook!</strong><br>\n",
    "Create your own editable copy of this notebook by clicking on the <strong>Copy and Edit</strong> button in the top right corner.\n",
    "</blockquote>\n",
    "\n",
    "## Imports and Configuration ##\n",
    "\n",
    "We'll start by importing the packages we used in the exercises and setting some notebook defaults. Unhide this cell if you'd like to see the libraries we'll use:"
   ]
  },
  {
   "cell_type": "code",
   "execution_count": 1,
   "id": "8c468f74",
   "metadata": {
    "_cell_guid": "b1076dfc-b9ad-4769-8c92-a6c4dae69d19",
    "_uuid": "8f2839f25d086af736a60e9eeb907d3b93b6e0e5",
    "execution": {
     "iopub.execute_input": "2021-12-02T14:06:12.968730Z",
     "iopub.status.busy": "2021-12-02T14:06:12.967889Z",
     "iopub.status.idle": "2021-12-02T14:07:24.729625Z",
     "shell.execute_reply": "2021-12-02T14:07:24.728969Z",
     "shell.execute_reply.started": "2021-12-02T13:47:02.304513Z"
    },
    "papermill": {
     "duration": 71.795267,
     "end_time": "2021-12-02T14:07:24.729788",
     "exception": false,
     "start_time": "2021-12-02T14:06:12.934521",
     "status": "completed"
    },
    "tags": []
   },
   "outputs": [
    {
     "name": "stdout",
     "output_type": "stream",
     "text": [
      "\u001b[31mERROR: pip's dependency resolver does not currently take into account all the packages that are installed. This behaviour is the source of the following dependency conflicts.\r\n",
      "tensorflow-io 0.18.0 requires tensorflow-io-gcs-filesystem==0.18.0, which is not installed.\r\n",
      "explainable-ai-sdk 1.3.2 requires xai-image-widget, which is not installed.\r\n",
      "dask-cudf 21.8.3 requires cupy-cuda114, which is not installed.\r\n",
      "cudf 21.8.3 requires cupy-cuda110, which is not installed.\r\n",
      "beatrix-jupyterlab 3.1.1 requires google-cloud-bigquery-storage, which is not installed.\r\n",
      "tfx-bsl 1.3.0 requires absl-py<0.13,>=0.9, but you have absl-py 0.14.0 which is incompatible.\r\n",
      "tfx-bsl 1.3.0 requires pyarrow<3,>=1, but you have pyarrow 5.0.0 which is incompatible.\r\n",
      "tfx-bsl 1.3.0 requires tensorflow!=2.0.*,!=2.1.*,!=2.2.*,!=2.3.*,!=2.4.*,!=2.5.*,<3,>=1.15.2, but you have tensorflow 2.5.2 which is incompatible.\r\n",
      "tensorflow-transform 1.3.0 requires absl-py<0.13,>=0.9, but you have absl-py 0.14.0 which is incompatible.\r\n",
      "tensorflow-transform 1.3.0 requires pyarrow<3,>=1, but you have pyarrow 5.0.0 which is incompatible.\r\n",
      "tensorflow-transform 1.3.0 requires tensorflow!=2.0.*,!=2.1.*,!=2.2.*,!=2.3.*,!=2.4.*,!=2.5.*,<2.7,>=1.15.2, but you have tensorflow 2.5.2 which is incompatible.\r\n",
      "tensorflow-serving-api 2.6.0 requires tensorflow<3,>=2.6.0, but you have tensorflow 2.5.2 which is incompatible.\r\n",
      "gcsfs 2021.8.1 requires fsspec==2021.08.1, but you have fsspec 2021.10.1 which is incompatible.\r\n",
      "flake8 4.0.1 requires importlib-metadata<4.3; python_version < \"3.8\", but you have importlib-metadata 4.8.1 which is incompatible.\r\n",
      "dask-cudf 21.8.3 requires dask<=2021.07.1,>=2021.6.0, but you have dask 2021.10.0 which is incompatible.\r\n",
      "dask-cudf 21.8.3 requires pandas<1.3.0dev0,>=1.0, but you have pandas 1.3.4 which is incompatible.\r\n",
      "cudf 21.8.3 requires pandas<1.3.0dev0,>=1.0, but you have pandas 1.3.4 which is incompatible.\r\n",
      "bokeh 2.4.1 requires typing-extensions>=3.10.0, but you have typing-extensions 3.7.4.3 which is incompatible.\r\n",
      "black 21.9b0 requires typing-extensions>=3.10.0.0, but you have typing-extensions 3.7.4.3 which is incompatible.\r\n",
      "apache-beam 2.32.0 requires dill<0.3.2,>=0.3.1.1, but you have dill 0.3.4 which is incompatible.\r\n",
      "apache-beam 2.32.0 requires pyarrow<5.0.0,>=0.15.1, but you have pyarrow 5.0.0 which is incompatible.\r\n",
      "aiobotocore 1.4.2 requires botocore<1.20.107,>=1.20.106, but you have botocore 1.22.4 which is incompatible.\u001b[0m\r\n",
      "\u001b[33mWARNING: Running pip as the 'root' user can result in broken permissions and conflicting behaviour with the system package manager. It is recommended to use a virtual environment instead: https://pip.pypa.io/warnings/venv\u001b[0m\r\n"
     ]
    },
    {
     "name": "stderr",
     "output_type": "stream",
     "text": [
      "2021-12-02 14:07:23.203082: I tensorflow/stream_executor/platform/default/dso_loader.cc:53] Successfully opened dynamic library libcudart.so.11.0\n"
     ]
    }
   ],
   "source": [
    "from IPython.display import clear_output\n",
    "!pip install -q -U autokeras==1.0.16.post1\n",
    "# clear_output()\n",
    "\n",
    "import os\n",
    "import warnings\n",
    "from pathlib import Path\n",
    "\n",
    "import matplotlib.pyplot as plt\n",
    "import numpy as np\n",
    "import pandas as pd\n",
    "import seaborn as sns\n",
    "from IPython.display import display\n",
    "from pandas.api.types import CategoricalDtype\n",
    "\n",
    "# from category_encoders import MEstimateEncoder\n",
    "# from sklearn.cluster import KMeans\n",
    "# from sklearn.decomposition import PCA\n",
    "# from sklearn.feature_selection import mutual_info_regression\n",
    "from sklearn.model_selection import KFold, cross_val_score\n",
    "from sklearn.preprocessing import StandardScaler, MinMaxScaler, RobustScaler\n",
    "from sklearn.pipeline import make_pipeline\n",
    "from sklearn.compose import make_column_transformer\n",
    "import autokeras as ak\n",
    "import tensorflow as tf\n",
    "\n",
    "\n",
    "# Set Matplotlib defaults\n",
    "plt.style.use(\"seaborn-whitegrid\")\n",
    "plt.rc(\"figure\", autolayout=True)\n",
    "plt.rc(\n",
    "    \"axes\",\n",
    "    labelweight=\"bold\",\n",
    "    labelsize=\"large\",\n",
    "    titleweight=\"bold\",\n",
    "    titlesize=14,\n",
    "    titlepad=10,\n",
    ")\n",
    "\n",
    "# Mute warnings\n",
    "warnings.filterwarnings('ignore')\n",
    "\n"
   ]
  },
  {
   "cell_type": "code",
   "execution_count": 2,
   "id": "40521aca",
   "metadata": {
    "execution": {
     "iopub.execute_input": "2021-12-02T14:07:24.768426Z",
     "iopub.status.busy": "2021-12-02T14:07:24.767580Z",
     "iopub.status.idle": "2021-12-02T14:07:24.772867Z",
     "shell.execute_reply": "2021-12-02T14:07:24.772445Z",
     "shell.execute_reply.started": "2021-12-02T13:48:16.100968Z"
    },
    "papermill": {
     "duration": 0.025356,
     "end_time": "2021-12-02T14:07:24.772973",
     "exception": false,
     "start_time": "2021-12-02T14:07:24.747617",
     "status": "completed"
    },
    "tags": []
   },
   "outputs": [],
   "source": [
    "# -----------------------------------------------------------------\n",
    "# Some parameters to config \n",
    "ID = \"Id\"\n",
    "MAX_TRIAL = 1 # speed trial any%\n",
    "EPOCHS = 30\n",
    "BATCH_SIZE = 2048\n",
    "ACTIVATION = 'swish'\n",
    "LEARNING_RATE = 0.0007\n",
    "LABEL_SMOOTHING=1e-3\n",
    "FOLDS = 5\n",
    "RANDOM_STATE = 42\n",
    "SAMPLE = 1000000 # 4000000 total rows\n",
    "VALIDATION_SPLIT = 0.15"
   ]
  },
  {
   "cell_type": "markdown",
   "id": "a327e4ad",
   "metadata": {
    "papermill": {
     "duration": 0.018452,
     "end_time": "2021-12-02T14:07:24.809053",
     "exception": false,
     "start_time": "2021-12-02T14:07:24.790601",
     "status": "completed"
    },
    "tags": []
   },
   "source": [
    "## Data Preprocessing ##\n",
    "\n",
    "Before we can do any feature engineering, we need to *preprocess* the data to get it in a form suitable for analysis. The data we used in the course was a bit simpler than the competition data. For the *Ames* competition dataset, we'll need to:\n",
    "- **Load** the data from CSV files\n",
    "- **Clean** the data to fix any errors or inconsistencies\n",
    "- **Encode** the statistical data type (numeric, categorical)\n",
    "- **Impute** any missing values\n",
    "\n",
    "We'll wrap all these steps up in a function, which will make easy for you to get a fresh dataframe whenever you need. After reading the CSV file, we'll apply three preprocessing steps, `clean`, `encode`, and `impute`, and then create the data splits: one (`df_train`) for training the model, and one (`df_test`) for making the predictions that you'll submit to the competition for scoring on the leaderboard."
   ]
  },
  {
   "cell_type": "code",
   "execution_count": 3,
   "id": "7bd719d4",
   "metadata": {
    "execution": {
     "iopub.execute_input": "2021-12-02T14:07:24.851618Z",
     "iopub.status.busy": "2021-12-02T14:07:24.850737Z",
     "iopub.status.idle": "2021-12-02T14:07:24.852386Z",
     "shell.execute_reply": "2021-12-02T14:07:24.852861Z",
     "shell.execute_reply.started": "2021-12-02T13:48:16.112086Z"
    },
    "papermill": {
     "duration": 0.02595,
     "end_time": "2021-12-02T14:07:24.852977",
     "exception": false,
     "start_time": "2021-12-02T14:07:24.827027",
     "status": "completed"
    },
    "tags": []
   },
   "outputs": [],
   "source": [
    "def load_data():\n",
    "    # Read data\n",
    "    data_dir = Path(\"../input/tabular-playground-series-dec-2021\")\n",
    "    df_train = pd.read_csv(data_dir / \"train.csv\", index_col=\"Id\")\n",
    "    df_test = pd.read_csv(data_dir / \"test.csv\", index_col=\"Id\")\n",
    "    # Merge the splits so we can process them together\n",
    "#     df = pd.concat([df_train, df_test])\n",
    "    # Preprocessing\n",
    "#     df = clean(df)\n",
    "#     df = encode(df)\n",
    "    df_train = impute(df_train)\n",
    "    df_test = impute(df_test)\n",
    "    # Reform splits\n",
    "#     df_train = df.loc[df_train.index, :]\n",
    "#     df_test = df.loc[df_test.index, :]\n",
    "    return df_train, df_test\n"
   ]
  },
  {
   "cell_type": "markdown",
   "id": "9a43472a",
   "metadata": {
    "papermill": {
     "duration": 0.018611,
     "end_time": "2021-12-02T14:07:24.889295",
     "exception": false,
     "start_time": "2021-12-02T14:07:24.870684",
     "status": "completed"
    },
    "tags": []
   },
   "source": [
    "### Handle Missing Values ###\n",
    "\n",
    "Handling missing values now will make the feature engineering go more smoothly. We'll impute `0` for missing numeric values and `\"None\"` for missing categorical values. You might like to experiment with other imputation strategies. In particular, you could try creating \"missing value\" indicators: `1` whenever a value was imputed and `0` otherwise."
   ]
  },
  {
   "cell_type": "code",
   "execution_count": 4,
   "id": "c7ba571e",
   "metadata": {
    "execution": {
     "iopub.execute_input": "2021-12-02T14:07:24.932188Z",
     "iopub.status.busy": "2021-12-02T14:07:24.930791Z",
     "iopub.status.idle": "2021-12-02T14:07:24.932940Z",
     "shell.execute_reply": "2021-12-02T14:07:24.933367Z",
     "shell.execute_reply.started": "2021-12-02T13:48:16.125298Z"
    },
    "papermill": {
     "duration": 0.025825,
     "end_time": "2021-12-02T14:07:24.933504",
     "exception": false,
     "start_time": "2021-12-02T14:07:24.907679",
     "status": "completed"
    },
    "tags": []
   },
   "outputs": [],
   "source": [
    "def impute(df):\n",
    "    for name in df.select_dtypes(\"number\"):\n",
    "        df[name] = df[name].fillna(0)\n",
    "    for name in df.select_dtypes(\"category\"):\n",
    "        df[name] = df[name].fillna(\"None\")\n",
    "    return df"
   ]
  },
  {
   "cell_type": "markdown",
   "id": "32aaf866",
   "metadata": {
    "papermill": {
     "duration": 0.02082,
     "end_time": "2021-12-02T14:07:24.975526",
     "exception": false,
     "start_time": "2021-12-02T14:07:24.954706",
     "status": "completed"
    },
    "tags": []
   },
   "source": [
    "## Load Data ##\n",
    "\n",
    "And now we can call the data loader and get the processed data splits:"
   ]
  },
  {
   "cell_type": "code",
   "execution_count": 5,
   "id": "29b0f8ec",
   "metadata": {
    "execution": {
     "iopub.execute_input": "2021-12-02T14:07:25.020739Z",
     "iopub.status.busy": "2021-12-02T14:07:25.020180Z",
     "iopub.status.idle": "2021-12-02T14:07:50.562684Z",
     "shell.execute_reply": "2021-12-02T14:07:50.562131Z",
     "shell.execute_reply.started": "2021-12-02T14:03:55.372226Z"
    },
    "papermill": {
     "duration": 25.566529,
     "end_time": "2021-12-02T14:07:50.562833",
     "exception": false,
     "start_time": "2021-12-02T14:07:24.996304",
     "status": "completed"
    },
    "tags": []
   },
   "outputs": [],
   "source": [
    "df_train, df_test = load_data()"
   ]
  },
  {
   "cell_type": "code",
   "execution_count": 6,
   "id": "1b8a3008",
   "metadata": {
    "execution": {
     "iopub.execute_input": "2021-12-02T14:07:50.608298Z",
     "iopub.status.busy": "2021-12-02T14:07:50.607028Z",
     "iopub.status.idle": "2021-12-02T14:07:50.892535Z",
     "shell.execute_reply": "2021-12-02T14:07:50.892957Z",
     "shell.execute_reply.started": "2021-12-02T14:04:15.872431Z"
    },
    "papermill": {
     "duration": 0.311731,
     "end_time": "2021-12-02T14:07:50.893109",
     "exception": false,
     "start_time": "2021-12-02T14:07:50.581378",
     "status": "completed"
    },
    "tags": []
   },
   "outputs": [
    {
     "data": {
      "text/html": [
       "<div>\n",
       "<style scoped>\n",
       "    .dataframe tbody tr th:only-of-type {\n",
       "        vertical-align: middle;\n",
       "    }\n",
       "\n",
       "    .dataframe tbody tr th {\n",
       "        vertical-align: top;\n",
       "    }\n",
       "\n",
       "    .dataframe thead th {\n",
       "        text-align: right;\n",
       "    }\n",
       "</style>\n",
       "<table border=\"1\" class=\"dataframe\">\n",
       "  <thead>\n",
       "    <tr style=\"text-align: right;\">\n",
       "      <th></th>\n",
       "      <th>Elevation</th>\n",
       "      <th>Aspect</th>\n",
       "      <th>Slope</th>\n",
       "      <th>Horizontal_Distance_To_Hydrology</th>\n",
       "      <th>Vertical_Distance_To_Hydrology</th>\n",
       "      <th>Horizontal_Distance_To_Roadways</th>\n",
       "      <th>Hillshade_9am</th>\n",
       "      <th>Hillshade_Noon</th>\n",
       "      <th>Hillshade_3pm</th>\n",
       "      <th>Horizontal_Distance_To_Fire_Points</th>\n",
       "      <th>...</th>\n",
       "      <th>Soil_Type32</th>\n",
       "      <th>Soil_Type33</th>\n",
       "      <th>Soil_Type34</th>\n",
       "      <th>Soil_Type35</th>\n",
       "      <th>Soil_Type36</th>\n",
       "      <th>Soil_Type37</th>\n",
       "      <th>Soil_Type38</th>\n",
       "      <th>Soil_Type39</th>\n",
       "      <th>Soil_Type40</th>\n",
       "      <th>Cover_Type</th>\n",
       "    </tr>\n",
       "    <tr>\n",
       "      <th>Id</th>\n",
       "      <th></th>\n",
       "      <th></th>\n",
       "      <th></th>\n",
       "      <th></th>\n",
       "      <th></th>\n",
       "      <th></th>\n",
       "      <th></th>\n",
       "      <th></th>\n",
       "      <th></th>\n",
       "      <th></th>\n",
       "      <th></th>\n",
       "      <th></th>\n",
       "      <th></th>\n",
       "      <th></th>\n",
       "      <th></th>\n",
       "      <th></th>\n",
       "      <th></th>\n",
       "      <th></th>\n",
       "      <th></th>\n",
       "      <th></th>\n",
       "      <th></th>\n",
       "    </tr>\n",
       "  </thead>\n",
       "  <tbody>\n",
       "    <tr>\n",
       "      <th>0</th>\n",
       "      <td>3189</td>\n",
       "      <td>40</td>\n",
       "      <td>8</td>\n",
       "      <td>30</td>\n",
       "      <td>13</td>\n",
       "      <td>3270</td>\n",
       "      <td>206</td>\n",
       "      <td>234</td>\n",
       "      <td>193</td>\n",
       "      <td>4873</td>\n",
       "      <td>...</td>\n",
       "      <td>0</td>\n",
       "      <td>0</td>\n",
       "      <td>0</td>\n",
       "      <td>0</td>\n",
       "      <td>0</td>\n",
       "      <td>0</td>\n",
       "      <td>0</td>\n",
       "      <td>0</td>\n",
       "      <td>0</td>\n",
       "      <td>1</td>\n",
       "    </tr>\n",
       "    <tr>\n",
       "      <th>1</th>\n",
       "      <td>3026</td>\n",
       "      <td>182</td>\n",
       "      <td>5</td>\n",
       "      <td>280</td>\n",
       "      <td>29</td>\n",
       "      <td>3270</td>\n",
       "      <td>233</td>\n",
       "      <td>240</td>\n",
       "      <td>106</td>\n",
       "      <td>5423</td>\n",
       "      <td>...</td>\n",
       "      <td>0</td>\n",
       "      <td>0</td>\n",
       "      <td>0</td>\n",
       "      <td>0</td>\n",
       "      <td>0</td>\n",
       "      <td>0</td>\n",
       "      <td>0</td>\n",
       "      <td>0</td>\n",
       "      <td>0</td>\n",
       "      <td>2</td>\n",
       "    </tr>\n",
       "    <tr>\n",
       "      <th>2</th>\n",
       "      <td>3106</td>\n",
       "      <td>13</td>\n",
       "      <td>7</td>\n",
       "      <td>351</td>\n",
       "      <td>37</td>\n",
       "      <td>2914</td>\n",
       "      <td>208</td>\n",
       "      <td>234</td>\n",
       "      <td>137</td>\n",
       "      <td>5269</td>\n",
       "      <td>...</td>\n",
       "      <td>0</td>\n",
       "      <td>0</td>\n",
       "      <td>0</td>\n",
       "      <td>0</td>\n",
       "      <td>0</td>\n",
       "      <td>0</td>\n",
       "      <td>0</td>\n",
       "      <td>0</td>\n",
       "      <td>0</td>\n",
       "      <td>1</td>\n",
       "    </tr>\n",
       "    <tr>\n",
       "      <th>3</th>\n",
       "      <td>3022</td>\n",
       "      <td>276</td>\n",
       "      <td>13</td>\n",
       "      <td>192</td>\n",
       "      <td>16</td>\n",
       "      <td>3034</td>\n",
       "      <td>207</td>\n",
       "      <td>238</td>\n",
       "      <td>156</td>\n",
       "      <td>2866</td>\n",
       "      <td>...</td>\n",
       "      <td>0</td>\n",
       "      <td>0</td>\n",
       "      <td>0</td>\n",
       "      <td>0</td>\n",
       "      <td>0</td>\n",
       "      <td>0</td>\n",
       "      <td>0</td>\n",
       "      <td>0</td>\n",
       "      <td>0</td>\n",
       "      <td>2</td>\n",
       "    </tr>\n",
       "    <tr>\n",
       "      <th>4</th>\n",
       "      <td>2906</td>\n",
       "      <td>186</td>\n",
       "      <td>13</td>\n",
       "      <td>266</td>\n",
       "      <td>22</td>\n",
       "      <td>2916</td>\n",
       "      <td>231</td>\n",
       "      <td>231</td>\n",
       "      <td>154</td>\n",
       "      <td>2642</td>\n",
       "      <td>...</td>\n",
       "      <td>0</td>\n",
       "      <td>0</td>\n",
       "      <td>0</td>\n",
       "      <td>0</td>\n",
       "      <td>0</td>\n",
       "      <td>0</td>\n",
       "      <td>0</td>\n",
       "      <td>0</td>\n",
       "      <td>0</td>\n",
       "      <td>2</td>\n",
       "    </tr>\n",
       "    <tr>\n",
       "      <th>...</th>\n",
       "      <td>...</td>\n",
       "      <td>...</td>\n",
       "      <td>...</td>\n",
       "      <td>...</td>\n",
       "      <td>...</td>\n",
       "      <td>...</td>\n",
       "      <td>...</td>\n",
       "      <td>...</td>\n",
       "      <td>...</td>\n",
       "      <td>...</td>\n",
       "      <td>...</td>\n",
       "      <td>...</td>\n",
       "      <td>...</td>\n",
       "      <td>...</td>\n",
       "      <td>...</td>\n",
       "      <td>...</td>\n",
       "      <td>...</td>\n",
       "      <td>...</td>\n",
       "      <td>...</td>\n",
       "      <td>...</td>\n",
       "      <td>...</td>\n",
       "    </tr>\n",
       "    <tr>\n",
       "      <th>3999995</th>\n",
       "      <td>2954</td>\n",
       "      <td>34</td>\n",
       "      <td>25</td>\n",
       "      <td>51</td>\n",
       "      <td>65</td>\n",
       "      <td>6314</td>\n",
       "      <td>240</td>\n",
       "      <td>237</td>\n",
       "      <td>103</td>\n",
       "      <td>1618</td>\n",
       "      <td>...</td>\n",
       "      <td>0</td>\n",
       "      <td>0</td>\n",
       "      <td>0</td>\n",
       "      <td>0</td>\n",
       "      <td>0</td>\n",
       "      <td>0</td>\n",
       "      <td>0</td>\n",
       "      <td>0</td>\n",
       "      <td>0</td>\n",
       "      <td>2</td>\n",
       "    </tr>\n",
       "    <tr>\n",
       "      <th>3999996</th>\n",
       "      <td>2926</td>\n",
       "      <td>104</td>\n",
       "      <td>8</td>\n",
       "      <td>696</td>\n",
       "      <td>83</td>\n",
       "      <td>5427</td>\n",
       "      <td>210</td>\n",
       "      <td>216</td>\n",
       "      <td>150</td>\n",
       "      <td>2863</td>\n",
       "      <td>...</td>\n",
       "      <td>0</td>\n",
       "      <td>0</td>\n",
       "      <td>0</td>\n",
       "      <td>0</td>\n",
       "      <td>0</td>\n",
       "      <td>0</td>\n",
       "      <td>0</td>\n",
       "      <td>0</td>\n",
       "      <td>0</td>\n",
       "      <td>2</td>\n",
       "    </tr>\n",
       "    <tr>\n",
       "      <th>3999997</th>\n",
       "      <td>2911</td>\n",
       "      <td>144</td>\n",
       "      <td>1</td>\n",
       "      <td>509</td>\n",
       "      <td>58</td>\n",
       "      <td>4820</td>\n",
       "      <td>195</td>\n",
       "      <td>192</td>\n",
       "      <td>91</td>\n",
       "      <td>92</td>\n",
       "      <td>...</td>\n",
       "      <td>0</td>\n",
       "      <td>0</td>\n",
       "      <td>0</td>\n",
       "      <td>0</td>\n",
       "      <td>0</td>\n",
       "      <td>0</td>\n",
       "      <td>0</td>\n",
       "      <td>1</td>\n",
       "      <td>0</td>\n",
       "      <td>2</td>\n",
       "    </tr>\n",
       "    <tr>\n",
       "      <th>3999998</th>\n",
       "      <td>2580</td>\n",
       "      <td>178</td>\n",
       "      <td>17</td>\n",
       "      <td>376</td>\n",
       "      <td>86</td>\n",
       "      <td>2592</td>\n",
       "      <td>225</td>\n",
       "      <td>183</td>\n",
       "      <td>39</td>\n",
       "      <td>1374</td>\n",
       "      <td>...</td>\n",
       "      <td>0</td>\n",
       "      <td>0</td>\n",
       "      <td>0</td>\n",
       "      <td>0</td>\n",
       "      <td>0</td>\n",
       "      <td>0</td>\n",
       "      <td>0</td>\n",
       "      <td>0</td>\n",
       "      <td>0</td>\n",
       "      <td>3</td>\n",
       "    </tr>\n",
       "    <tr>\n",
       "      <th>3999999</th>\n",
       "      <td>3083</td>\n",
       "      <td>136</td>\n",
       "      <td>4</td>\n",
       "      <td>44</td>\n",
       "      <td>9</td>\n",
       "      <td>1675</td>\n",
       "      <td>213</td>\n",
       "      <td>197</td>\n",
       "      <td>205</td>\n",
       "      <td>1612</td>\n",
       "      <td>...</td>\n",
       "      <td>0</td>\n",
       "      <td>0</td>\n",
       "      <td>0</td>\n",
       "      <td>0</td>\n",
       "      <td>0</td>\n",
       "      <td>0</td>\n",
       "      <td>0</td>\n",
       "      <td>0</td>\n",
       "      <td>0</td>\n",
       "      <td>1</td>\n",
       "    </tr>\n",
       "  </tbody>\n",
       "</table>\n",
       "<p>4000000 rows × 55 columns</p>\n",
       "</div>"
      ],
      "text/plain": [
       "         Elevation  Aspect  Slope  Horizontal_Distance_To_Hydrology  \\\n",
       "Id                                                                    \n",
       "0             3189      40      8                                30   \n",
       "1             3026     182      5                               280   \n",
       "2             3106      13      7                               351   \n",
       "3             3022     276     13                               192   \n",
       "4             2906     186     13                               266   \n",
       "...            ...     ...    ...                               ...   \n",
       "3999995       2954      34     25                                51   \n",
       "3999996       2926     104      8                               696   \n",
       "3999997       2911     144      1                               509   \n",
       "3999998       2580     178     17                               376   \n",
       "3999999       3083     136      4                                44   \n",
       "\n",
       "         Vertical_Distance_To_Hydrology  Horizontal_Distance_To_Roadways  \\\n",
       "Id                                                                         \n",
       "0                                    13                             3270   \n",
       "1                                    29                             3270   \n",
       "2                                    37                             2914   \n",
       "3                                    16                             3034   \n",
       "4                                    22                             2916   \n",
       "...                                 ...                              ...   \n",
       "3999995                              65                             6314   \n",
       "3999996                              83                             5427   \n",
       "3999997                              58                             4820   \n",
       "3999998                              86                             2592   \n",
       "3999999                               9                             1675   \n",
       "\n",
       "         Hillshade_9am  Hillshade_Noon  Hillshade_3pm  \\\n",
       "Id                                                      \n",
       "0                  206             234            193   \n",
       "1                  233             240            106   \n",
       "2                  208             234            137   \n",
       "3                  207             238            156   \n",
       "4                  231             231            154   \n",
       "...                ...             ...            ...   \n",
       "3999995            240             237            103   \n",
       "3999996            210             216            150   \n",
       "3999997            195             192             91   \n",
       "3999998            225             183             39   \n",
       "3999999            213             197            205   \n",
       "\n",
       "         Horizontal_Distance_To_Fire_Points  ...  Soil_Type32  Soil_Type33  \\\n",
       "Id                                           ...                             \n",
       "0                                      4873  ...            0            0   \n",
       "1                                      5423  ...            0            0   \n",
       "2                                      5269  ...            0            0   \n",
       "3                                      2866  ...            0            0   \n",
       "4                                      2642  ...            0            0   \n",
       "...                                     ...  ...          ...          ...   \n",
       "3999995                                1618  ...            0            0   \n",
       "3999996                                2863  ...            0            0   \n",
       "3999997                                  92  ...            0            0   \n",
       "3999998                                1374  ...            0            0   \n",
       "3999999                                1612  ...            0            0   \n",
       "\n",
       "         Soil_Type34  Soil_Type35  Soil_Type36  Soil_Type37  Soil_Type38  \\\n",
       "Id                                                                         \n",
       "0                  0            0            0            0            0   \n",
       "1                  0            0            0            0            0   \n",
       "2                  0            0            0            0            0   \n",
       "3                  0            0            0            0            0   \n",
       "4                  0            0            0            0            0   \n",
       "...              ...          ...          ...          ...          ...   \n",
       "3999995            0            0            0            0            0   \n",
       "3999996            0            0            0            0            0   \n",
       "3999997            0            0            0            0            0   \n",
       "3999998            0            0            0            0            0   \n",
       "3999999            0            0            0            0            0   \n",
       "\n",
       "         Soil_Type39  Soil_Type40  Cover_Type  \n",
       "Id                                             \n",
       "0                  0            0           1  \n",
       "1                  0            0           2  \n",
       "2                  0            0           1  \n",
       "3                  0            0           2  \n",
       "4                  0            0           2  \n",
       "...              ...          ...         ...  \n",
       "3999995            0            0           2  \n",
       "3999996            0            0           2  \n",
       "3999997            1            0           2  \n",
       "3999998            0            0           3  \n",
       "3999999            0            0           1  \n",
       "\n",
       "[4000000 rows x 55 columns]"
      ]
     },
     "metadata": {},
     "output_type": "display_data"
    }
   ],
   "source": [
    "# Peek at the values\n",
    "display(df_train)\n",
    "# display(df_test)\n",
    "\n",
    "# Display information about dtypes and missing values\n",
    "# display(df_train.info())\n",
    "# display(df_test.info())"
   ]
  },
  {
   "cell_type": "code",
   "execution_count": 7,
   "id": "5d22a303",
   "metadata": {
    "execution": {
     "iopub.execute_input": "2021-12-02T14:07:50.935450Z",
     "iopub.status.busy": "2021-12-02T14:07:50.933217Z",
     "iopub.status.idle": "2021-12-02T14:07:51.842267Z",
     "shell.execute_reply": "2021-12-02T14:07:51.842743Z",
     "shell.execute_reply.started": "2021-12-02T13:48:41.002529Z"
    },
    "papermill": {
     "duration": 0.930855,
     "end_time": "2021-12-02T14:07:51.842906",
     "exception": false,
     "start_time": "2021-12-02T14:07:50.912051",
     "status": "completed"
    },
    "tags": []
   },
   "outputs": [
    {
     "data": {
      "text/plain": [
       "'Cover_Type'"
      ]
     },
     "execution_count": 7,
     "metadata": {},
     "output_type": "execute_result"
    }
   ],
   "source": [
    "target_col = df_train.columns.difference(df_test.columns)[0]\n",
    "X_raw = df_train.drop(columns=target_col)\n",
    "y_raw = df_train[target_col]\n",
    "\n",
    "X_test_raw = df_test.iloc[:,:]\n",
    "target_col"
   ]
  },
  {
   "cell_type": "code",
   "execution_count": 8,
   "id": "d2364962",
   "metadata": {
    "execution": {
     "iopub.execute_input": "2021-12-02T14:07:51.887642Z",
     "iopub.status.busy": "2021-12-02T14:07:51.886231Z",
     "iopub.status.idle": "2021-12-02T14:07:53.445435Z",
     "shell.execute_reply": "2021-12-02T14:07:53.444897Z",
     "shell.execute_reply.started": "2021-12-02T13:48:41.811172Z"
    },
    "papermill": {
     "duration": 1.58366,
     "end_time": "2021-12-02T14:07:53.445576",
     "exception": false,
     "start_time": "2021-12-02T14:07:51.861916",
     "status": "completed"
    },
    "tags": []
   },
   "outputs": [
    {
     "name": "stdout",
     "output_type": "stream",
     "text": [
      "Series([], dtype: int64)\n"
     ]
    }
   ],
   "source": [
    "from sklearn.model_selection import train_test_split\n",
    "# Check NA\n",
    "missing_val = X_raw.isnull().sum()\n",
    "print(missing_val[missing_val > 0])\n",
    "\n",
    "# For small testing batch\n",
    "# X_raw, x_val, y, y_val = train_test_split(X_raw, y, train_size = VALIDATION_SPLIT, random_state = RANDOM_STATE)\n",
    "X_raw = X_raw.sample(n=SAMPLE, random_state=RANDOM_STATE)\n",
    "y_raw = y_raw.sample(n=SAMPLE, random_state=RANDOM_STATE)\n",
    "# x_test = x_test.sample(n=SAMPLE, random_state=RANDOM_STATE)"
   ]
  },
  {
   "cell_type": "markdown",
   "id": "76be5dd1",
   "metadata": {
    "papermill": {
     "duration": 0.02006,
     "end_time": "2021-12-02T14:07:53.486304",
     "exception": false,
     "start_time": "2021-12-02T14:07:53.466244",
     "status": "completed"
    },
    "tags": []
   },
   "source": [
    "## Scaler transformer"
   ]
  },
  {
   "cell_type": "code",
   "execution_count": 9,
   "id": "bbc9011d",
   "metadata": {
    "execution": {
     "iopub.execute_input": "2021-12-02T14:07:53.538406Z",
     "iopub.status.busy": "2021-12-02T14:07:53.537514Z",
     "iopub.status.idle": "2021-12-02T14:07:53.539508Z",
     "shell.execute_reply": "2021-12-02T14:07:53.539953Z",
     "shell.execute_reply.started": "2021-12-02T13:48:42.294689Z"
    },
    "papermill": {
     "duration": 0.028779,
     "end_time": "2021-12-02T14:07:53.540090",
     "exception": false,
     "start_time": "2021-12-02T14:07:53.511311",
     "status": "completed"
    },
    "tags": []
   },
   "outputs": [],
   "source": [
    "transformer_all_cols = make_pipeline(\n",
    "    RobustScaler(),\n",
    ")\n",
    "\n",
    "preprocessor = make_column_transformer(\n",
    "    (transformer_all_cols, df_test.columns[:]),\n",
    ")"
   ]
  },
  {
   "cell_type": "code",
   "execution_count": 10,
   "id": "b41c36e6",
   "metadata": {
    "execution": {
     "iopub.execute_input": "2021-12-02T14:07:53.586778Z",
     "iopub.status.busy": "2021-12-02T14:07:53.586191Z",
     "iopub.status.idle": "2021-12-02T14:07:53.590144Z",
     "shell.execute_reply": "2021-12-02T14:07:53.589701Z",
     "shell.execute_reply.started": "2021-12-02T13:48:42.303517Z"
    },
    "papermill": {
     "duration": 0.027954,
     "end_time": "2021-12-02T14:07:53.590261",
     "exception": false,
     "start_time": "2021-12-02T14:07:53.562307",
     "status": "completed"
    },
    "tags": []
   },
   "outputs": [],
   "source": [
    "# X_test_raw"
   ]
  },
  {
   "cell_type": "code",
   "execution_count": 11,
   "id": "541305fc",
   "metadata": {
    "execution": {
     "iopub.execute_input": "2021-12-02T14:07:53.784724Z",
     "iopub.status.busy": "2021-12-02T14:07:53.783489Z",
     "iopub.status.idle": "2021-12-02T14:07:55.971742Z",
     "shell.execute_reply": "2021-12-02T14:07:55.970784Z",
     "shell.execute_reply.started": "2021-12-02T13:48:42.310818Z"
    },
    "papermill": {
     "duration": 2.360748,
     "end_time": "2021-12-02T14:07:55.971890",
     "exception": false,
     "start_time": "2021-12-02T14:07:53.611142",
     "status": "completed"
    },
    "tags": []
   },
   "outputs": [],
   "source": [
    "X_train = preprocessor.fit_transform(X_raw)\n",
    "X_test = preprocessor.transform(X_test_raw)"
   ]
  },
  {
   "cell_type": "markdown",
   "id": "cd7a75ab",
   "metadata": {
    "papermill": {
     "duration": 0.020104,
     "end_time": "2021-12-02T14:07:56.012318",
     "exception": false,
     "start_time": "2021-12-02T14:07:55.992214",
     "status": "completed"
    },
    "tags": []
   },
   "source": [
    "TPS always have huge dataset."
   ]
  },
  {
   "cell_type": "code",
   "execution_count": 12,
   "id": "d2bf3061",
   "metadata": {
    "execution": {
     "iopub.execute_input": "2021-12-02T14:07:56.195815Z",
     "iopub.status.busy": "2021-12-02T14:07:56.195077Z",
     "iopub.status.idle": "2021-12-02T14:07:56.197940Z",
     "shell.execute_reply": "2021-12-02T14:07:56.198339Z",
     "shell.execute_reply.started": "2021-12-02T13:48:42.801599Z"
    },
    "papermill": {
     "duration": 0.166783,
     "end_time": "2021-12-02T14:07:56.198496",
     "exception": false,
     "start_time": "2021-12-02T14:07:56.031713",
     "status": "completed"
    },
    "tags": []
   },
   "outputs": [
    {
     "data": {
      "text/plain": [
       "175"
      ]
     },
     "execution_count": 12,
     "metadata": {},
     "output_type": "execute_result"
    }
   ],
   "source": [
    "import gc\n",
    "gc.collect()"
   ]
  },
  {
   "cell_type": "markdown",
   "id": "595adf85",
   "metadata": {
    "papermill": {
     "duration": 0.019737,
     "end_time": "2021-12-02T14:07:56.238302",
     "exception": false,
     "start_time": "2021-12-02T14:07:56.218565",
     "status": "completed"
    },
    "tags": []
   },
   "source": [
    "# Hyperparameter Tuning #\n",
    "\n",
    "At this stage, you might like to do auto hyperparameter tuning with AutoKeras before creating your final submission.\n",
    "AutoKeras: An AutoML system based on Keras. It is developed by DATA Lab at Texas A&M University. The goal of AutoKeras is to make machine learning accessible to everyone.\n",
    "\n",
    "By default, AutoKeras use the last 20% of training data as validation data. As shown in the example below, you can use validation_split to specify the percentage."
   ]
  },
  {
   "cell_type": "code",
   "execution_count": 13,
   "id": "210a6e57",
   "metadata": {
    "execution": {
     "iopub.execute_input": "2021-12-02T14:07:56.282184Z",
     "iopub.status.busy": "2021-12-02T14:07:56.281261Z",
     "iopub.status.idle": "2021-12-02T14:07:56.284031Z",
     "shell.execute_reply": "2021-12-02T14:07:56.283566Z",
     "shell.execute_reply.started": "2021-12-02T13:48:42.951061Z"
    },
    "papermill": {
     "duration": 0.026045,
     "end_time": "2021-12-02T14:07:56.284138",
     "exception": false,
     "start_time": "2021-12-02T14:07:56.258093",
     "status": "completed"
    },
    "tags": []
   },
   "outputs": [],
   "source": [
    "# Search for the best model with EarlyStopping.\n",
    "cbs = [\n",
    "    tf.keras.callbacks.EarlyStopping(patience=3),\n",
    "]"
   ]
  },
  {
   "cell_type": "code",
   "execution_count": 14,
   "id": "c00214c6",
   "metadata": {
    "execution": {
     "iopub.execute_input": "2021-12-02T14:07:56.328535Z",
     "iopub.status.busy": "2021-12-02T14:07:56.327760Z",
     "iopub.status.idle": "2021-12-02T16:39:13.892363Z",
     "shell.execute_reply": "2021-12-02T16:39:13.891782Z",
     "shell.execute_reply.started": "2021-12-02T13:48:42.959467Z"
    },
    "papermill": {
     "duration": 9077.588816,
     "end_time": "2021-12-02T16:39:13.892521",
     "exception": false,
     "start_time": "2021-12-02T14:07:56.303705",
     "status": "completed"
    },
    "tags": []
   },
   "outputs": [
    {
     "name": "stdout",
     "output_type": "stream",
     "text": [
      "Trial 1 Complete [01h 04m 17s]\n",
      "val_accuracy: 0.6824261546134949\n",
      "\n",
      "Best val_accuracy So Far: 0.6824261546134949\n",
      "Total elapsed time: 01h 04m 17s\n",
      "Epoch 1/30\n",
      "31250/31250 [==============================] - 106s 3ms/step - loss: 0.6360 - accuracy: 0.6671\n",
      "Epoch 2/30\n",
      "31250/31250 [==============================] - 108s 3ms/step - loss: 0.6089 - accuracy: 0.6827\n",
      "Epoch 3/30\n",
      "31250/31250 [==============================] - 107s 3ms/step - loss: 0.6047 - accuracy: 0.6851\n",
      "Epoch 4/30\n",
      "31250/31250 [==============================] - 108s 3ms/step - loss: 0.6027 - accuracy: 0.6861\n",
      "Epoch 5/30\n",
      "31250/31250 [==============================] - 107s 3ms/step - loss: 0.6013 - accuracy: 0.6871\n",
      "Epoch 6/30\n",
      "31250/31250 [==============================] - 108s 3ms/step - loss: 0.6005 - accuracy: 0.6880\n",
      "Epoch 7/30\n",
      "31250/31250 [==============================] - 107s 3ms/step - loss: 0.5999 - accuracy: 0.6885\n",
      "Epoch 8/30\n",
      "31250/31250 [==============================] - 109s 3ms/step - loss: 0.5994 - accuracy: 0.6886\n",
      "Epoch 9/30\n",
      "31250/31250 [==============================] - 112s 4ms/step - loss: 0.5989 - accuracy: 0.6888\n",
      "Epoch 10/30\n",
      "31250/31250 [==============================] - 112s 4ms/step - loss: 0.5983 - accuracy: 0.6893\n",
      "Epoch 11/30\n",
      "31250/31250 [==============================] - 110s 4ms/step - loss: 0.5981 - accuracy: 0.6897\n",
      "Epoch 12/30\n",
      "31250/31250 [==============================] - 112s 4ms/step - loss: 0.5979 - accuracy: 0.6896\n",
      "Epoch 13/30\n",
      "31250/31250 [==============================] - 110s 4ms/step - loss: 0.5977 - accuracy: 0.6896\n",
      "Epoch 14/30\n",
      "31250/31250 [==============================] - 111s 4ms/step - loss: 0.5975 - accuracy: 0.6900\n",
      "Epoch 15/30\n",
      "31250/31250 [==============================] - 112s 4ms/step - loss: 0.5973 - accuracy: 0.6902\n",
      "Epoch 16/30\n",
      "31250/31250 [==============================] - 112s 4ms/step - loss: 0.5972 - accuracy: 0.6903\n",
      "Epoch 17/30\n",
      "31250/31250 [==============================] - 105s 3ms/step - loss: 0.5968 - accuracy: 0.6905\n",
      "Epoch 18/30\n",
      "31250/31250 [==============================] - 113s 4ms/step - loss: 0.5969 - accuracy: 0.6904\n",
      "Epoch 19/30\n",
      "31250/31250 [==============================] - 114s 4ms/step - loss: 0.5967 - accuracy: 0.6906\n",
      "Epoch 20/30\n",
      "31250/31250 [==============================] - 114s 4ms/step - loss: 0.5966 - accuracy: 0.6905\n",
      "Epoch 21/30\n",
      "31250/31250 [==============================] - 115s 4ms/step - loss: 0.5966 - accuracy: 0.6906\n",
      "Epoch 22/30\n",
      "31250/31250 [==============================] - 114s 4ms/step - loss: 0.5966 - accuracy: 0.6913\n",
      "Epoch 23/30\n",
      "31250/31250 [==============================] - 116s 4ms/step - loss: 0.5963 - accuracy: 0.6911\n",
      "Epoch 24/30\n",
      "31250/31250 [==============================] - 108s 3ms/step - loss: 0.5964 - accuracy: 0.6909\n",
      "Epoch 25/30\n",
      "31250/31250 [==============================] - 110s 4ms/step - loss: 0.5963 - accuracy: 0.6911\n",
      "Epoch 26/30\n",
      "31250/31250 [==============================] - 116s 4ms/step - loss: 0.5963 - accuracy: 0.6914\n",
      "Epoch 27/30\n",
      "31250/31250 [==============================] - 105s 3ms/step - loss: 0.5964 - accuracy: 0.6910\n",
      "Epoch 28/30\n",
      "31250/31250 [==============================] - 116s 4ms/step - loss: 0.5963 - accuracy: 0.6913\n",
      "Epoch 29/30\n",
      "31250/31250 [==============================] - 106s 3ms/step - loss: 0.5962 - accuracy: 0.6911\n",
      "Epoch 30/30\n",
      "31250/31250 [==============================] - 119s 4ms/step - loss: 0.5963 - accuracy: 0.6911\n"
     ]
    },
    {
     "name": "stderr",
     "output_type": "stream",
     "text": [
      "2021-12-02 16:39:08.568706: W tensorflow/python/util/util.cc:348] Sets are not currently considered sequences, but this may change in the future, so consider avoiding using them.\n"
     ]
    },
    {
     "data": {
      "text/plain": [
       "<tensorflow.python.keras.callbacks.History at 0x7f797bcea110>"
      ]
     },
     "execution_count": 14,
     "metadata": {},
     "output_type": "execute_result"
    }
   ],
   "source": [
    "# Initialize the structured data classifier.\n",
    "clf = ak.StructuredDataClassifier(\n",
    "    overwrite=False, max_trials=MAX_TRIAL,seed=RANDOM_STATE\n",
    ")  # It tries 3 different models.\n",
    "# Feed the structured data classifier with training data.\n",
    "clf.fit(\n",
    "    X_train,\n",
    "    y_raw,\n",
    "    # Split the training data and use the last 15% as validation data.\n",
    "    validation_split=VALIDATION_SPLIT,\n",
    "    epochs=EPOCHS,\n",
    "    callbacks=cbs,\n",
    ")\n",
    "\n"
   ]
  },
  {
   "cell_type": "code",
   "execution_count": 15,
   "id": "9211f858",
   "metadata": {
    "execution": {
     "iopub.execute_input": "2021-12-02T16:39:47.604192Z",
     "iopub.status.busy": "2021-12-02T16:39:47.603288Z",
     "iopub.status.idle": "2021-12-02T16:39:47.605088Z",
     "shell.execute_reply": "2021-12-02T16:39:47.605559Z",
     "shell.execute_reply.started": "2021-12-02T13:53:22.715370Z"
    },
    "papermill": {
     "duration": 17.272403,
     "end_time": "2021-12-02T16:39:47.605701",
     "exception": false,
     "start_time": "2021-12-02T16:39:30.333298",
     "status": "completed"
    },
    "tags": []
   },
   "outputs": [],
   "source": [
    "# clf.evaluate(X_val, y_val)"
   ]
  },
  {
   "cell_type": "markdown",
   "id": "17711099",
   "metadata": {
    "papermill": {
     "duration": 17.275391,
     "end_time": "2021-12-02T16:40:21.279747",
     "exception": false,
     "start_time": "2021-12-02T16:40:04.004356",
     "status": "completed"
    },
    "tags": []
   },
   "source": [
    "You can also export the best model found by AutoKeras as a Keras Model."
   ]
  },
  {
   "cell_type": "code",
   "execution_count": 16,
   "id": "37760b50",
   "metadata": {
    "execution": {
     "iopub.execute_input": "2021-12-02T16:40:55.153336Z",
     "iopub.status.busy": "2021-12-02T16:40:55.152474Z",
     "iopub.status.idle": "2021-12-02T16:40:57.715245Z",
     "shell.execute_reply": "2021-12-02T16:40:57.715710Z",
     "shell.execute_reply.started": "2021-12-02T13:53:22.721897Z"
    },
    "papermill": {
     "duration": 19.253181,
     "end_time": "2021-12-02T16:40:57.715883",
     "exception": false,
     "start_time": "2021-12-02T16:40:38.462702",
     "status": "completed"
    },
    "tags": []
   },
   "outputs": [
    {
     "name": "stdout",
     "output_type": "stream",
     "text": [
      "Model: \"model\"\n",
      "_________________________________________________________________\n",
      "Layer (type)                 Output Shape              Param #   \n",
      "=================================================================\n",
      "input_1 (InputLayer)         [(None, 54)]              0         \n",
      "_________________________________________________________________\n",
      "multi_category_encoding (Mul (None, 54)                0         \n",
      "_________________________________________________________________\n",
      "normalization (Normalization (None, 54)                109       \n",
      "_________________________________________________________________\n",
      "dense (Dense)                (None, 32)                1760      \n",
      "_________________________________________________________________\n",
      "re_lu (ReLU)                 (None, 32)                0         \n",
      "_________________________________________________________________\n",
      "dense_1 (Dense)              (None, 32)                1056      \n",
      "_________________________________________________________________\n",
      "re_lu_1 (ReLU)               (None, 32)                0         \n",
      "_________________________________________________________________\n",
      "dense_2 (Dense)              (None, 6)                 198       \n",
      "_________________________________________________________________\n",
      "classification_head_1 (Softm (None, 6)                 0         \n",
      "=================================================================\n",
      "Total params: 3,123\n",
      "Trainable params: 3,014\n",
      "Non-trainable params: 109\n",
      "_________________________________________________________________\n"
     ]
    }
   ],
   "source": [
    "model = clf.export_model()\n",
    "model.summary()"
   ]
  },
  {
   "cell_type": "markdown",
   "id": "fffdd0f6",
   "metadata": {
    "papermill": {
     "duration": 16.538233,
     "end_time": "2021-12-02T16:41:31.572966",
     "exception": false,
     "start_time": "2021-12-02T16:41:15.034733",
     "status": "completed"
    },
    "tags": []
   },
   "source": [
    "# Train Model and Create Submissions #\n",
    "\n",
    "Once you're satisfied with everything, it's time to create your final predictions! This cell will:\n",
    "- use the best trained model to make predictions from the test set\n",
    "- save the predictions to a CSV file"
   ]
  },
  {
   "cell_type": "code",
   "execution_count": 17,
   "id": "4db31262",
   "metadata": {
    "execution": {
     "iopub.execute_input": "2021-12-02T16:42:05.933734Z",
     "iopub.status.busy": "2021-12-02T16:42:05.932605Z",
     "iopub.status.idle": "2021-12-02T16:44:57.549528Z",
     "shell.execute_reply": "2021-12-02T16:44:57.549018Z",
     "shell.execute_reply.started": "2021-12-02T13:53:25.196111Z"
    },
    "papermill": {
     "duration": 188.56555,
     "end_time": "2021-12-02T16:44:57.549678",
     "exception": false,
     "start_time": "2021-12-02T16:41:48.984128",
     "status": "completed"
    },
    "tags": []
   },
   "outputs": [
    {
     "name": "stdout",
     "output_type": "stream",
     "text": [
      "31250/31250 [==============================] - 104s 3ms/step\n"
     ]
    }
   ],
   "source": [
    "# Predict with the best model.\n",
    "predicted_y = clf.predict(X_test)\n"
   ]
  },
  {
   "cell_type": "code",
   "execution_count": 18,
   "id": "b0fde3c0",
   "metadata": {
    "execution": {
     "iopub.execute_input": "2021-12-02T16:45:32.326521Z",
     "iopub.status.busy": "2021-12-02T16:45:32.325605Z",
     "iopub.status.idle": "2021-12-02T16:45:32.328664Z",
     "shell.execute_reply": "2021-12-02T16:45:32.329103Z",
     "shell.execute_reply.started": "2021-12-02T13:56:18.633839Z"
    },
    "papermill": {
     "duration": 17.054571,
     "end_time": "2021-12-02T16:45:32.329238",
     "exception": false,
     "start_time": "2021-12-02T16:45:15.274667",
     "status": "completed"
    },
    "tags": []
   },
   "outputs": [
    {
     "data": {
      "text/plain": [
       "array([['2'],\n",
       "       ['2'],\n",
       "       ['1'],\n",
       "       ...,\n",
       "       ['2'],\n",
       "       ['1'],\n",
       "       ['3']], dtype='<U1')"
      ]
     },
     "execution_count": 18,
     "metadata": {},
     "output_type": "execute_result"
    }
   ],
   "source": [
    "predicted_y"
   ]
  },
  {
   "cell_type": "code",
   "execution_count": 19,
   "id": "aa9ea9ba",
   "metadata": {
    "execution": {
     "iopub.execute_input": "2021-12-02T16:46:07.261334Z",
     "iopub.status.busy": "2021-12-02T16:46:07.260453Z",
     "iopub.status.idle": "2021-12-02T16:46:09.839158Z",
     "shell.execute_reply": "2021-12-02T16:46:09.839616Z",
     "shell.execute_reply.started": "2021-12-02T13:56:18.641985Z"
    },
    "papermill": {
     "duration": 19.820664,
     "end_time": "2021-12-02T16:46:09.839777",
     "exception": false,
     "start_time": "2021-12-02T16:45:50.019113",
     "status": "completed"
    },
    "tags": []
   },
   "outputs": [
    {
     "name": "stdout",
     "output_type": "stream",
     "text": [
      "Your submission was successfully saved!\n"
     ]
    },
    {
     "data": {
      "text/html": [
       "<div>\n",
       "<style scoped>\n",
       "    .dataframe tbody tr th:only-of-type {\n",
       "        vertical-align: middle;\n",
       "    }\n",
       "\n",
       "    .dataframe tbody tr th {\n",
       "        vertical-align: top;\n",
       "    }\n",
       "\n",
       "    .dataframe thead th {\n",
       "        text-align: right;\n",
       "    }\n",
       "</style>\n",
       "<table border=\"1\" class=\"dataframe\">\n",
       "  <thead>\n",
       "    <tr style=\"text-align: right;\">\n",
       "      <th></th>\n",
       "      <th>Id</th>\n",
       "      <th>Cover_Type</th>\n",
       "    </tr>\n",
       "  </thead>\n",
       "  <tbody>\n",
       "    <tr>\n",
       "      <th>0</th>\n",
       "      <td>4000000</td>\n",
       "      <td>2</td>\n",
       "    </tr>\n",
       "    <tr>\n",
       "      <th>1</th>\n",
       "      <td>4000001</td>\n",
       "      <td>2</td>\n",
       "    </tr>\n",
       "    <tr>\n",
       "      <th>2</th>\n",
       "      <td>4000002</td>\n",
       "      <td>1</td>\n",
       "    </tr>\n",
       "    <tr>\n",
       "      <th>3</th>\n",
       "      <td>4000003</td>\n",
       "      <td>1</td>\n",
       "    </tr>\n",
       "    <tr>\n",
       "      <th>4</th>\n",
       "      <td>4000004</td>\n",
       "      <td>1</td>\n",
       "    </tr>\n",
       "    <tr>\n",
       "      <th>...</th>\n",
       "      <td>...</td>\n",
       "      <td>...</td>\n",
       "    </tr>\n",
       "    <tr>\n",
       "      <th>999995</th>\n",
       "      <td>4999995</td>\n",
       "      <td>1</td>\n",
       "    </tr>\n",
       "    <tr>\n",
       "      <th>999996</th>\n",
       "      <td>4999996</td>\n",
       "      <td>1</td>\n",
       "    </tr>\n",
       "    <tr>\n",
       "      <th>999997</th>\n",
       "      <td>4999997</td>\n",
       "      <td>2</td>\n",
       "    </tr>\n",
       "    <tr>\n",
       "      <th>999998</th>\n",
       "      <td>4999998</td>\n",
       "      <td>1</td>\n",
       "    </tr>\n",
       "    <tr>\n",
       "      <th>999999</th>\n",
       "      <td>4999999</td>\n",
       "      <td>3</td>\n",
       "    </tr>\n",
       "  </tbody>\n",
       "</table>\n",
       "<p>1000000 rows × 2 columns</p>\n",
       "</div>"
      ],
      "text/plain": [
       "             Id Cover_Type\n",
       "0       4000000          2\n",
       "1       4000001          2\n",
       "2       4000002          1\n",
       "3       4000003          1\n",
       "4       4000004          1\n",
       "...         ...        ...\n",
       "999995  4999995          1\n",
       "999996  4999996          1\n",
       "999997  4999997          2\n",
       "999998  4999998          1\n",
       "999999  4999999          3\n",
       "\n",
       "[1000000 rows x 2 columns]"
      ]
     },
     "execution_count": 19,
     "metadata": {},
     "output_type": "execute_result"
    }
   ],
   "source": [
    "# output = pd.DataFrame({'Id': X_test.index, target_col: predicted_y})\n",
    "output = pd.read_csv(\"../input/tabular-playground-series-dec-2021/sample_submission.csv\")\n",
    "output[target_col] = predicted_y\n",
    "output.to_csv('submission.csv', index=False)\n",
    "print(\"Your submission was successfully saved!\")\n",
    "output"
   ]
  },
  {
   "cell_type": "markdown",
   "id": "0bb55b02",
   "metadata": {
    "papermill": {
     "duration": 17.823772,
     "end_time": "2021-12-02T16:46:44.537059",
     "exception": false,
     "start_time": "2021-12-02T16:46:26.713287",
     "status": "completed"
    },
    "tags": []
   },
   "source": [
    "To submit these predictions to the competition, follow these steps:\n",
    "\n",
    "1. Begin by clicking on the blue **Save Version** button in the top right corner of the window.  This will generate a pop-up window.\n",
    "2. Ensure that the **Save and Run All** option is selected, and then click on the blue **Save** button.\n",
    "3. This generates a window in the bottom left corner of the notebook.  After it has finished running, click on the number to the right of the **Save Version** button.  This pulls up a list of versions on the right of the screen.  Click on the ellipsis **(...)** to the right of the most recent version, and select **Open in Viewer**.  This brings you into view mode of the same page. You will need to scroll down to get back to these instructions.\n",
    "4. Click on the **Output** tab on the right of the screen.  Then, click on the file you would like to submit, and click on the blue **Submit** button to submit your results to the leaderboard.\n",
    "\n",
    "You have now successfully submitted to the competition!\n",
    "\n",
    "# Next Steps #\n",
    "\n",
    "If you want to keep working to improve your performance, select the blue **Edit** button in the top right of the screen. Then you can change your code and repeat the process. There's a lot of room to improve, and you will climb up the leaderboard as you work.\n",
    "\n",
    "Be sure to check out [other users' notebooks](https://www.kaggle.com/c/house-prices-advanced-regression-techniques/notebooks) in this competition. You'll find lots of great ideas for new features and as well as other ways to discover more things about the dataset or make better predictions. There's also the [discussion forum](https://www.kaggle.com/c/house-prices-advanced-regression-techniques/discussion), where you can share ideas with other Kagglers.\n",
    "\n",
    "Have fun Kaggling!"
   ]
  }
 ],
 "metadata": {
  "kernelspec": {
   "display_name": "Python 3",
   "language": "python",
   "name": "python3"
  },
  "language_info": {
   "codemirror_mode": {
    "name": "ipython",
    "version": 3
   },
   "file_extension": ".py",
   "mimetype": "text/x-python",
   "name": "python",
   "nbconvert_exporter": "python",
   "pygments_lexer": "ipython3",
   "version": "3.7.10"
  },
  "papermill": {
   "default_parameters": {},
   "duration": 9659.899879,
   "end_time": "2021-12-02T16:47:05.154634",
   "environment_variables": {},
   "exception": null,
   "input_path": "__notebook__.ipynb",
   "output_path": "__notebook__.ipynb",
   "parameters": {},
   "start_time": "2021-12-02T14:06:05.254755",
   "version": "2.3.3"
  }
 },
 "nbformat": 4,
 "nbformat_minor": 5
}
