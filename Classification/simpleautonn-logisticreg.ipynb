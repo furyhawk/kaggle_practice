{
 "cells": [
  {
   "cell_type": "markdown",
   "id": "b2a990cb",
   "metadata": {
    "papermill": {
     "duration": 0.023639,
     "end_time": "2021-12-04T00:06:48.504880",
     "exception": false,
     "start_time": "2021-12-04T00:06:48.481241",
     "status": "completed"
    },
    "tags": []
   },
   "source": [
    "# Introduction #\n",
    "Welcome. Let automate machine learning as much as possible.\n",
    "<blockquote style=\"margin-right:auto; margin-left:auto; padding: 1em; margin:24px;\">\n",
    "    <strong>Fork This Notebook!</strong><br>\n",
    "Create your own editable copy of this notebook by clicking on the <strong>Copy and Edit</strong> button in the top right corner.\n",
    "</blockquote>\n",
    "\n",
    "## Imports and Configuration ##\n",
    "\n",
    "We'll start by importing the packages we used in the exercises and setting some notebook defaults. Unhide this cell if you'd like to see the libraries we'll use:"
   ]
  },
  {
   "cell_type": "code",
   "execution_count": 1,
   "id": "c953d4ce",
   "metadata": {
    "_cell_guid": "b1076dfc-b9ad-4769-8c92-a6c4dae69d19",
    "_uuid": "8f2839f25d086af736a60e9eeb907d3b93b6e0e5",
    "execution": {
     "iopub.execute_input": "2021-12-04T00:06:48.556103Z",
     "iopub.status.busy": "2021-12-04T00:06:48.554547Z",
     "iopub.status.idle": "2021-12-04T00:08:08.091565Z",
     "shell.execute_reply": "2021-12-04T00:08:08.090960Z",
     "shell.execute_reply.started": "2021-12-03T15:21:09.606183Z"
    },
    "papermill": {
     "duration": 79.563454,
     "end_time": "2021-12-04T00:08:08.091755",
     "exception": false,
     "start_time": "2021-12-04T00:06:48.528301",
     "status": "completed"
    },
    "tags": []
   },
   "outputs": [
    {
     "name": "stdout",
     "output_type": "stream",
     "text": [
      "\u001b[31mERROR: pip's dependency resolver does not currently take into account all the packages that are installed. This behaviour is the source of the following dependency conflicts.\r\n",
      "tensorflow-io 0.18.0 requires tensorflow-io-gcs-filesystem==0.18.0, which is not installed.\r\n",
      "explainable-ai-sdk 1.3.2 requires xai-image-widget, which is not installed.\r\n",
      "dask-cudf 21.8.3 requires cupy-cuda114, which is not installed.\r\n",
      "cudf 21.8.3 requires cupy-cuda110, which is not installed.\r\n",
      "beatrix-jupyterlab 3.1.1 requires google-cloud-bigquery-storage, which is not installed.\r\n",
      "tfx-bsl 1.3.0 requires absl-py<0.13,>=0.9, but you have absl-py 0.14.0 which is incompatible.\r\n",
      "tfx-bsl 1.3.0 requires pyarrow<3,>=1, but you have pyarrow 5.0.0 which is incompatible.\r\n",
      "tfx-bsl 1.3.0 requires tensorflow!=2.0.*,!=2.1.*,!=2.2.*,!=2.3.*,!=2.4.*,!=2.5.*,<3,>=1.15.2, but you have tensorflow 2.5.2 which is incompatible.\r\n",
      "tensorflow-transform 1.3.0 requires absl-py<0.13,>=0.9, but you have absl-py 0.14.0 which is incompatible.\r\n",
      "tensorflow-transform 1.3.0 requires pyarrow<3,>=1, but you have pyarrow 5.0.0 which is incompatible.\r\n",
      "tensorflow-transform 1.3.0 requires tensorflow!=2.0.*,!=2.1.*,!=2.2.*,!=2.3.*,!=2.4.*,!=2.5.*,<2.7,>=1.15.2, but you have tensorflow 2.5.2 which is incompatible.\r\n",
      "tensorflow-serving-api 2.6.0 requires tensorflow<3,>=2.6.0, but you have tensorflow 2.5.2 which is incompatible.\r\n",
      "gcsfs 2021.8.1 requires fsspec==2021.08.1, but you have fsspec 2021.10.1 which is incompatible.\r\n",
      "flake8 4.0.1 requires importlib-metadata<4.3; python_version < \"3.8\", but you have importlib-metadata 4.8.1 which is incompatible.\r\n",
      "dask-cudf 21.8.3 requires dask<=2021.07.1,>=2021.6.0, but you have dask 2021.10.0 which is incompatible.\r\n",
      "dask-cudf 21.8.3 requires pandas<1.3.0dev0,>=1.0, but you have pandas 1.3.4 which is incompatible.\r\n",
      "cudf 21.8.3 requires pandas<1.3.0dev0,>=1.0, but you have pandas 1.3.4 which is incompatible.\r\n",
      "bokeh 2.4.1 requires typing-extensions>=3.10.0, but you have typing-extensions 3.7.4.3 which is incompatible.\r\n",
      "black 21.9b0 requires typing-extensions>=3.10.0.0, but you have typing-extensions 3.7.4.3 which is incompatible.\r\n",
      "apache-beam 2.32.0 requires dill<0.3.2,>=0.3.1.1, but you have dill 0.3.4 which is incompatible.\r\n",
      "apache-beam 2.32.0 requires pyarrow<5.0.0,>=0.15.1, but you have pyarrow 5.0.0 which is incompatible.\r\n",
      "aiobotocore 1.4.2 requires botocore<1.20.107,>=1.20.106, but you have botocore 1.22.4 which is incompatible.\u001b[0m\r\n",
      "\u001b[33mWARNING: Running pip as the 'root' user can result in broken permissions and conflicting behaviour with the system package manager. It is recommended to use a virtual environment instead: https://pip.pypa.io/warnings/venv\u001b[0m\r\n"
     ]
    },
    {
     "name": "stderr",
     "output_type": "stream",
     "text": [
      "2021-12-04 00:08:06.533638: I tensorflow/stream_executor/platform/default/dso_loader.cc:53] Successfully opened dynamic library libcudart.so.11.0\n"
     ]
    }
   ],
   "source": [
    "# from IPython.display import clear_output\n",
    "!pip install -q -U autokeras==1.0.16.post1\n",
    "# clear_output()\n",
    "\n",
    "import os\n",
    "import warnings\n",
    "from pathlib import Path\n",
    "\n",
    "import matplotlib.pyplot as plt\n",
    "import numpy as np\n",
    "import pandas as pd\n",
    "import seaborn as sns\n",
    "from IPython.display import display\n",
    "from pandas.api.types import CategoricalDtype\n",
    "from matplotlib.ticker import MaxNLocator, FormatStrFormatter, PercentFormatter\n",
    "\n",
    "from imblearn.over_sampling import RandomOverSampler\n",
    "from imblearn.under_sampling import RandomUnderSampler, TomekLinks\n",
    "\n",
    "# from category_encoders import MEstimateEncoder\n",
    "# from sklearn.cluster import KMeans\n",
    "# from sklearn.decomposition import PCA\n",
    "# from sklearn.feature_selection import mutual_info_regression\n",
    "from sklearn.model_selection import KFold, cross_val_score\n",
    "from sklearn.preprocessing import StandardScaler, MinMaxScaler, RobustScaler\n",
    "from sklearn.pipeline import make_pipeline\n",
    "from sklearn.compose import make_column_transformer\n",
    "import autokeras as ak\n",
    "import tensorflow as tf\n",
    "\n",
    "\n",
    "# Set Matplotlib defaults\n",
    "plt.style.use(\"seaborn-whitegrid\")\n",
    "plt.rc(\"figure\", autolayout=True)\n",
    "plt.rc(\n",
    "    \"axes\",\n",
    "    labelweight=\"bold\",\n",
    "    labelsize=\"large\",\n",
    "    titleweight=\"bold\",\n",
    "    titlesize=14,\n",
    "    titlepad=10,\n",
    ")\n",
    "\n",
    "# Mute warnings\n",
    "warnings.filterwarnings('ignore')\n",
    "\n"
   ]
  },
  {
   "cell_type": "markdown",
   "id": "72b74d75",
   "metadata": {
    "papermill": {
     "duration": 0.023619,
     "end_time": "2021-12-04T00:08:08.139013",
     "exception": false,
     "start_time": "2021-12-04T00:08:08.115394",
     "status": "completed"
    },
    "tags": []
   },
   "source": [
    "# Parameters\n"
   ]
  },
  {
   "cell_type": "code",
   "execution_count": 2,
   "id": "f5eae981",
   "metadata": {
    "execution": {
     "iopub.execute_input": "2021-12-04T00:08:08.337621Z",
     "iopub.status.busy": "2021-12-04T00:08:08.336034Z",
     "iopub.status.idle": "2021-12-04T00:08:08.338222Z",
     "shell.execute_reply": "2021-12-04T00:08:08.338632Z",
     "shell.execute_reply.started": "2021-12-03T15:21:18.062412Z"
    },
    "papermill": {
     "duration": 0.176729,
     "end_time": "2021-12-04T00:08:08.338806",
     "exception": false,
     "start_time": "2021-12-04T00:08:08.162077",
     "status": "completed"
    },
    "tags": []
   },
   "outputs": [],
   "source": [
    "# -----------------------------------------------------------------\n",
    "# Some parameters to config \n",
    "MAX_TRIAL = 7 # speed trial any%\n",
    "EPOCHS = 60\n",
    "\n",
    "# not used\n",
    "BATCH_SIZE = 2048 # large enough to fit RAM\n",
    "ACTIVATION = 'swish'\n",
    "LEARNING_RATE = 0.0007\n",
    "LABEL_SMOOTHING=1e-3\n",
    "FOLDS = 5\n",
    "\n",
    "RANDOM_STATE = 31\n",
    "VERBOSE = 0\n",
    "\n",
    "# The dataset is too huge for free contrainer. Sampling it for more fun!\n",
    "SAMPLE = 195712 # [1468136, 2262087, 195712, 377, 1, 11426, 62261] # 4000000 total rows\n",
    "VALIDATION_SPLIT = 0.2\n",
    "\n",
    "# Admin\n",
    "ID = \"Id\" # Id id x X index\n",
    "INPUT = \"../input/tabular-playground-series-dec-2021\""
   ]
  },
  {
   "cell_type": "markdown",
   "id": "28a29f49",
   "metadata": {
    "papermill": {
     "duration": 0.029006,
     "end_time": "2021-12-04T00:08:08.391568",
     "exception": false,
     "start_time": "2021-12-04T00:08:08.362562",
     "status": "completed"
    },
    "tags": []
   },
   "source": [
    "## Data Preprocessing ##\n",
    "\n",
    "Before we can do any feature engineering, we need to *preprocess* the data to get it in a form suitable for analysis. The data we used in the course was a bit simpler than the competition data. For the competition dataset, we'll need to:\n",
    "- **Load** the data from CSV files\n",
    "- **Clean** the data to fix any errors or inconsistencies\n",
    "- **Encode** the statistical data type (numeric, categorical)\n",
    "- **Impute** any missing values\n",
    "\n",
    "We'll wrap all these steps up in a function, which will make easy for you to get a fresh dataframe whenever you need. After reading the CSV file, we'll apply three preprocessing steps, `clean`, `encode`, and `impute`, and then create the data splits: one (`df_train`) for training the model, and one (`df_test`) for making the predictions that you'll submit to the competition for scoring on the leaderboard."
   ]
  },
  {
   "cell_type": "code",
   "execution_count": 3,
   "id": "8851b9ac",
   "metadata": {
    "execution": {
     "iopub.execute_input": "2021-12-04T00:08:08.485661Z",
     "iopub.status.busy": "2021-12-04T00:08:08.484856Z",
     "iopub.status.idle": "2021-12-04T00:08:08.494240Z",
     "shell.execute_reply": "2021-12-04T00:08:08.495130Z",
     "shell.execute_reply.started": "2021-12-03T15:21:18.070183Z"
    },
    "papermill": {
     "duration": 0.060603,
     "end_time": "2021-12-04T00:08:08.495365",
     "exception": false,
     "start_time": "2021-12-04T00:08:08.434762",
     "status": "completed"
    },
    "tags": []
   },
   "outputs": [],
   "source": [
    "def load_data():\n",
    "    # Read data\n",
    "    data_dir = Path(INPUT)\n",
    "    df_train = pd.read_csv(data_dir / \"train.csv\", index_col=ID)\n",
    "    df_test = pd.read_csv(data_dir / \"test.csv\", index_col=ID)\n",
    "    # Merge the splits so we can process them together\n",
    "#     df = pd.concat([df_train, df_test])\n",
    "    # Preprocessing\n",
    "#     df = clean(df)\n",
    "#     df = encode(df)\n",
    "    df_train = impute(df_train)\n",
    "    df_test = impute(df_test)\n",
    "    # Reform splits\n",
    "#     df_train = df.loc[df_train.index, :]\n",
    "#     df_test = df.loc[df_test.index, :]\n",
    "    return df_train, df_test\n"
   ]
  },
  {
   "cell_type": "markdown",
   "id": "accaa001",
   "metadata": {
    "papermill": {
     "duration": 0.050206,
     "end_time": "2021-12-04T00:08:08.583476",
     "exception": false,
     "start_time": "2021-12-04T00:08:08.533270",
     "status": "completed"
    },
    "tags": []
   },
   "source": [
    "### Handle Missing Values ###\n",
    "\n",
    "Handling missing values now will make the feature engineering go more smoothly. We'll impute `0` for missing numeric values and `\"None\"` for missing categorical values. You might like to experiment with other imputation strategies. In particular, you could try creating \"missing value\" indicators: `1` whenever a value was imputed and `0` otherwise."
   ]
  },
  {
   "cell_type": "code",
   "execution_count": 4,
   "id": "dbf20153",
   "metadata": {
    "execution": {
     "iopub.execute_input": "2021-12-04T00:08:08.679321Z",
     "iopub.status.busy": "2021-12-04T00:08:08.678008Z",
     "iopub.status.idle": "2021-12-04T00:08:08.680688Z",
     "shell.execute_reply": "2021-12-04T00:08:08.680041Z",
     "shell.execute_reply.started": "2021-12-03T15:21:18.084144Z"
    },
    "papermill": {
     "duration": 0.052217,
     "end_time": "2021-12-04T00:08:08.680863",
     "exception": false,
     "start_time": "2021-12-04T00:08:08.628646",
     "status": "completed"
    },
    "tags": []
   },
   "outputs": [],
   "source": [
    "def impute(df):\n",
    "    for name in df.select_dtypes(\"number\"):\n",
    "        df[name] = df[name].fillna(0)\n",
    "    for name in df.select_dtypes(\"category\"):\n",
    "        df[name] = df[name].fillna(\"None\")\n",
    "    return df"
   ]
  },
  {
   "cell_type": "markdown",
   "id": "94effdf7",
   "metadata": {
    "papermill": {
     "duration": 0.037626,
     "end_time": "2021-12-04T00:08:08.755785",
     "exception": false,
     "start_time": "2021-12-04T00:08:08.718159",
     "status": "completed"
    },
    "tags": []
   },
   "source": [
    "## Load Data ##\n",
    "\n",
    "And now we can call the data loader and get the processed data splits:"
   ]
  },
  {
   "cell_type": "code",
   "execution_count": 5,
   "id": "587419ab",
   "metadata": {
    "execution": {
     "iopub.execute_input": "2021-12-04T00:08:08.836035Z",
     "iopub.status.busy": "2021-12-04T00:08:08.835247Z",
     "iopub.status.idle": "2021-12-04T00:08:34.430337Z",
     "shell.execute_reply": "2021-12-04T00:08:34.429667Z",
     "shell.execute_reply.started": "2021-12-03T15:21:18.09642Z"
    },
    "papermill": {
     "duration": 25.637278,
     "end_time": "2021-12-04T00:08:34.430467",
     "exception": false,
     "start_time": "2021-12-04T00:08:08.793189",
     "status": "completed"
    },
    "tags": []
   },
   "outputs": [],
   "source": [
    "df_train, df_test = load_data()"
   ]
  },
  {
   "cell_type": "code",
   "execution_count": 6,
   "id": "379cc0f7",
   "metadata": {
    "execution": {
     "iopub.execute_input": "2021-12-04T00:08:34.484447Z",
     "iopub.status.busy": "2021-12-04T00:08:34.483563Z",
     "iopub.status.idle": "2021-12-04T00:08:34.895564Z",
     "shell.execute_reply": "2021-12-04T00:08:34.896018Z",
     "shell.execute_reply.started": "2021-12-03T15:21:38.420785Z"
    },
    "papermill": {
     "duration": 0.44175,
     "end_time": "2021-12-04T00:08:34.896180",
     "exception": false,
     "start_time": "2021-12-04T00:08:34.454430",
     "status": "completed"
    },
    "tags": []
   },
   "outputs": [
    {
     "data": {
      "text/html": [
       "<div>\n",
       "<style scoped>\n",
       "    .dataframe tbody tr th:only-of-type {\n",
       "        vertical-align: middle;\n",
       "    }\n",
       "\n",
       "    .dataframe tbody tr th {\n",
       "        vertical-align: top;\n",
       "    }\n",
       "\n",
       "    .dataframe thead th {\n",
       "        text-align: right;\n",
       "    }\n",
       "</style>\n",
       "<table border=\"1\" class=\"dataframe\">\n",
       "  <thead>\n",
       "    <tr style=\"text-align: right;\">\n",
       "      <th></th>\n",
       "      <th>Elevation</th>\n",
       "      <th>Aspect</th>\n",
       "      <th>Slope</th>\n",
       "      <th>Horizontal_Distance_To_Hydrology</th>\n",
       "      <th>Vertical_Distance_To_Hydrology</th>\n",
       "      <th>Horizontal_Distance_To_Roadways</th>\n",
       "      <th>Hillshade_9am</th>\n",
       "      <th>Hillshade_Noon</th>\n",
       "      <th>Hillshade_3pm</th>\n",
       "      <th>Horizontal_Distance_To_Fire_Points</th>\n",
       "      <th>...</th>\n",
       "      <th>Soil_Type32</th>\n",
       "      <th>Soil_Type33</th>\n",
       "      <th>Soil_Type34</th>\n",
       "      <th>Soil_Type35</th>\n",
       "      <th>Soil_Type36</th>\n",
       "      <th>Soil_Type37</th>\n",
       "      <th>Soil_Type38</th>\n",
       "      <th>Soil_Type39</th>\n",
       "      <th>Soil_Type40</th>\n",
       "      <th>Cover_Type</th>\n",
       "    </tr>\n",
       "    <tr>\n",
       "      <th>Id</th>\n",
       "      <th></th>\n",
       "      <th></th>\n",
       "      <th></th>\n",
       "      <th></th>\n",
       "      <th></th>\n",
       "      <th></th>\n",
       "      <th></th>\n",
       "      <th></th>\n",
       "      <th></th>\n",
       "      <th></th>\n",
       "      <th></th>\n",
       "      <th></th>\n",
       "      <th></th>\n",
       "      <th></th>\n",
       "      <th></th>\n",
       "      <th></th>\n",
       "      <th></th>\n",
       "      <th></th>\n",
       "      <th></th>\n",
       "      <th></th>\n",
       "      <th></th>\n",
       "    </tr>\n",
       "  </thead>\n",
       "  <tbody>\n",
       "    <tr>\n",
       "      <th>0</th>\n",
       "      <td>3189</td>\n",
       "      <td>40</td>\n",
       "      <td>8</td>\n",
       "      <td>30</td>\n",
       "      <td>13</td>\n",
       "      <td>3270</td>\n",
       "      <td>206</td>\n",
       "      <td>234</td>\n",
       "      <td>193</td>\n",
       "      <td>4873</td>\n",
       "      <td>...</td>\n",
       "      <td>0</td>\n",
       "      <td>0</td>\n",
       "      <td>0</td>\n",
       "      <td>0</td>\n",
       "      <td>0</td>\n",
       "      <td>0</td>\n",
       "      <td>0</td>\n",
       "      <td>0</td>\n",
       "      <td>0</td>\n",
       "      <td>1</td>\n",
       "    </tr>\n",
       "    <tr>\n",
       "      <th>1</th>\n",
       "      <td>3026</td>\n",
       "      <td>182</td>\n",
       "      <td>5</td>\n",
       "      <td>280</td>\n",
       "      <td>29</td>\n",
       "      <td>3270</td>\n",
       "      <td>233</td>\n",
       "      <td>240</td>\n",
       "      <td>106</td>\n",
       "      <td>5423</td>\n",
       "      <td>...</td>\n",
       "      <td>0</td>\n",
       "      <td>0</td>\n",
       "      <td>0</td>\n",
       "      <td>0</td>\n",
       "      <td>0</td>\n",
       "      <td>0</td>\n",
       "      <td>0</td>\n",
       "      <td>0</td>\n",
       "      <td>0</td>\n",
       "      <td>2</td>\n",
       "    </tr>\n",
       "    <tr>\n",
       "      <th>2</th>\n",
       "      <td>3106</td>\n",
       "      <td>13</td>\n",
       "      <td>7</td>\n",
       "      <td>351</td>\n",
       "      <td>37</td>\n",
       "      <td>2914</td>\n",
       "      <td>208</td>\n",
       "      <td>234</td>\n",
       "      <td>137</td>\n",
       "      <td>5269</td>\n",
       "      <td>...</td>\n",
       "      <td>0</td>\n",
       "      <td>0</td>\n",
       "      <td>0</td>\n",
       "      <td>0</td>\n",
       "      <td>0</td>\n",
       "      <td>0</td>\n",
       "      <td>0</td>\n",
       "      <td>0</td>\n",
       "      <td>0</td>\n",
       "      <td>1</td>\n",
       "    </tr>\n",
       "    <tr>\n",
       "      <th>3</th>\n",
       "      <td>3022</td>\n",
       "      <td>276</td>\n",
       "      <td>13</td>\n",
       "      <td>192</td>\n",
       "      <td>16</td>\n",
       "      <td>3034</td>\n",
       "      <td>207</td>\n",
       "      <td>238</td>\n",
       "      <td>156</td>\n",
       "      <td>2866</td>\n",
       "      <td>...</td>\n",
       "      <td>0</td>\n",
       "      <td>0</td>\n",
       "      <td>0</td>\n",
       "      <td>0</td>\n",
       "      <td>0</td>\n",
       "      <td>0</td>\n",
       "      <td>0</td>\n",
       "      <td>0</td>\n",
       "      <td>0</td>\n",
       "      <td>2</td>\n",
       "    </tr>\n",
       "    <tr>\n",
       "      <th>4</th>\n",
       "      <td>2906</td>\n",
       "      <td>186</td>\n",
       "      <td>13</td>\n",
       "      <td>266</td>\n",
       "      <td>22</td>\n",
       "      <td>2916</td>\n",
       "      <td>231</td>\n",
       "      <td>231</td>\n",
       "      <td>154</td>\n",
       "      <td>2642</td>\n",
       "      <td>...</td>\n",
       "      <td>0</td>\n",
       "      <td>0</td>\n",
       "      <td>0</td>\n",
       "      <td>0</td>\n",
       "      <td>0</td>\n",
       "      <td>0</td>\n",
       "      <td>0</td>\n",
       "      <td>0</td>\n",
       "      <td>0</td>\n",
       "      <td>2</td>\n",
       "    </tr>\n",
       "    <tr>\n",
       "      <th>...</th>\n",
       "      <td>...</td>\n",
       "      <td>...</td>\n",
       "      <td>...</td>\n",
       "      <td>...</td>\n",
       "      <td>...</td>\n",
       "      <td>...</td>\n",
       "      <td>...</td>\n",
       "      <td>...</td>\n",
       "      <td>...</td>\n",
       "      <td>...</td>\n",
       "      <td>...</td>\n",
       "      <td>...</td>\n",
       "      <td>...</td>\n",
       "      <td>...</td>\n",
       "      <td>...</td>\n",
       "      <td>...</td>\n",
       "      <td>...</td>\n",
       "      <td>...</td>\n",
       "      <td>...</td>\n",
       "      <td>...</td>\n",
       "      <td>...</td>\n",
       "    </tr>\n",
       "    <tr>\n",
       "      <th>3999995</th>\n",
       "      <td>2954</td>\n",
       "      <td>34</td>\n",
       "      <td>25</td>\n",
       "      <td>51</td>\n",
       "      <td>65</td>\n",
       "      <td>6314</td>\n",
       "      <td>240</td>\n",
       "      <td>237</td>\n",
       "      <td>103</td>\n",
       "      <td>1618</td>\n",
       "      <td>...</td>\n",
       "      <td>0</td>\n",
       "      <td>0</td>\n",
       "      <td>0</td>\n",
       "      <td>0</td>\n",
       "      <td>0</td>\n",
       "      <td>0</td>\n",
       "      <td>0</td>\n",
       "      <td>0</td>\n",
       "      <td>0</td>\n",
       "      <td>2</td>\n",
       "    </tr>\n",
       "    <tr>\n",
       "      <th>3999996</th>\n",
       "      <td>2926</td>\n",
       "      <td>104</td>\n",
       "      <td>8</td>\n",
       "      <td>696</td>\n",
       "      <td>83</td>\n",
       "      <td>5427</td>\n",
       "      <td>210</td>\n",
       "      <td>216</td>\n",
       "      <td>150</td>\n",
       "      <td>2863</td>\n",
       "      <td>...</td>\n",
       "      <td>0</td>\n",
       "      <td>0</td>\n",
       "      <td>0</td>\n",
       "      <td>0</td>\n",
       "      <td>0</td>\n",
       "      <td>0</td>\n",
       "      <td>0</td>\n",
       "      <td>0</td>\n",
       "      <td>0</td>\n",
       "      <td>2</td>\n",
       "    </tr>\n",
       "    <tr>\n",
       "      <th>3999997</th>\n",
       "      <td>2911</td>\n",
       "      <td>144</td>\n",
       "      <td>1</td>\n",
       "      <td>509</td>\n",
       "      <td>58</td>\n",
       "      <td>4820</td>\n",
       "      <td>195</td>\n",
       "      <td>192</td>\n",
       "      <td>91</td>\n",
       "      <td>92</td>\n",
       "      <td>...</td>\n",
       "      <td>0</td>\n",
       "      <td>0</td>\n",
       "      <td>0</td>\n",
       "      <td>0</td>\n",
       "      <td>0</td>\n",
       "      <td>0</td>\n",
       "      <td>0</td>\n",
       "      <td>1</td>\n",
       "      <td>0</td>\n",
       "      <td>2</td>\n",
       "    </tr>\n",
       "    <tr>\n",
       "      <th>3999998</th>\n",
       "      <td>2580</td>\n",
       "      <td>178</td>\n",
       "      <td>17</td>\n",
       "      <td>376</td>\n",
       "      <td>86</td>\n",
       "      <td>2592</td>\n",
       "      <td>225</td>\n",
       "      <td>183</td>\n",
       "      <td>39</td>\n",
       "      <td>1374</td>\n",
       "      <td>...</td>\n",
       "      <td>0</td>\n",
       "      <td>0</td>\n",
       "      <td>0</td>\n",
       "      <td>0</td>\n",
       "      <td>0</td>\n",
       "      <td>0</td>\n",
       "      <td>0</td>\n",
       "      <td>0</td>\n",
       "      <td>0</td>\n",
       "      <td>3</td>\n",
       "    </tr>\n",
       "    <tr>\n",
       "      <th>3999999</th>\n",
       "      <td>3083</td>\n",
       "      <td>136</td>\n",
       "      <td>4</td>\n",
       "      <td>44</td>\n",
       "      <td>9</td>\n",
       "      <td>1675</td>\n",
       "      <td>213</td>\n",
       "      <td>197</td>\n",
       "      <td>205</td>\n",
       "      <td>1612</td>\n",
       "      <td>...</td>\n",
       "      <td>0</td>\n",
       "      <td>0</td>\n",
       "      <td>0</td>\n",
       "      <td>0</td>\n",
       "      <td>0</td>\n",
       "      <td>0</td>\n",
       "      <td>0</td>\n",
       "      <td>0</td>\n",
       "      <td>0</td>\n",
       "      <td>1</td>\n",
       "    </tr>\n",
       "  </tbody>\n",
       "</table>\n",
       "<p>4000000 rows × 55 columns</p>\n",
       "</div>"
      ],
      "text/plain": [
       "         Elevation  Aspect  Slope  Horizontal_Distance_To_Hydrology  \\\n",
       "Id                                                                    \n",
       "0             3189      40      8                                30   \n",
       "1             3026     182      5                               280   \n",
       "2             3106      13      7                               351   \n",
       "3             3022     276     13                               192   \n",
       "4             2906     186     13                               266   \n",
       "...            ...     ...    ...                               ...   \n",
       "3999995       2954      34     25                                51   \n",
       "3999996       2926     104      8                               696   \n",
       "3999997       2911     144      1                               509   \n",
       "3999998       2580     178     17                               376   \n",
       "3999999       3083     136      4                                44   \n",
       "\n",
       "         Vertical_Distance_To_Hydrology  Horizontal_Distance_To_Roadways  \\\n",
       "Id                                                                         \n",
       "0                                    13                             3270   \n",
       "1                                    29                             3270   \n",
       "2                                    37                             2914   \n",
       "3                                    16                             3034   \n",
       "4                                    22                             2916   \n",
       "...                                 ...                              ...   \n",
       "3999995                              65                             6314   \n",
       "3999996                              83                             5427   \n",
       "3999997                              58                             4820   \n",
       "3999998                              86                             2592   \n",
       "3999999                               9                             1675   \n",
       "\n",
       "         Hillshade_9am  Hillshade_Noon  Hillshade_3pm  \\\n",
       "Id                                                      \n",
       "0                  206             234            193   \n",
       "1                  233             240            106   \n",
       "2                  208             234            137   \n",
       "3                  207             238            156   \n",
       "4                  231             231            154   \n",
       "...                ...             ...            ...   \n",
       "3999995            240             237            103   \n",
       "3999996            210             216            150   \n",
       "3999997            195             192             91   \n",
       "3999998            225             183             39   \n",
       "3999999            213             197            205   \n",
       "\n",
       "         Horizontal_Distance_To_Fire_Points  ...  Soil_Type32  Soil_Type33  \\\n",
       "Id                                           ...                             \n",
       "0                                      4873  ...            0            0   \n",
       "1                                      5423  ...            0            0   \n",
       "2                                      5269  ...            0            0   \n",
       "3                                      2866  ...            0            0   \n",
       "4                                      2642  ...            0            0   \n",
       "...                                     ...  ...          ...          ...   \n",
       "3999995                                1618  ...            0            0   \n",
       "3999996                                2863  ...            0            0   \n",
       "3999997                                  92  ...            0            0   \n",
       "3999998                                1374  ...            0            0   \n",
       "3999999                                1612  ...            0            0   \n",
       "\n",
       "         Soil_Type34  Soil_Type35  Soil_Type36  Soil_Type37  Soil_Type38  \\\n",
       "Id                                                                         \n",
       "0                  0            0            0            0            0   \n",
       "1                  0            0            0            0            0   \n",
       "2                  0            0            0            0            0   \n",
       "3                  0            0            0            0            0   \n",
       "4                  0            0            0            0            0   \n",
       "...              ...          ...          ...          ...          ...   \n",
       "3999995            0            0            0            0            0   \n",
       "3999996            0            0            0            0            0   \n",
       "3999997            0            0            0            0            0   \n",
       "3999998            0            0            0            0            0   \n",
       "3999999            0            0            0            0            0   \n",
       "\n",
       "         Soil_Type39  Soil_Type40  Cover_Type  \n",
       "Id                                             \n",
       "0                  0            0           1  \n",
       "1                  0            0           2  \n",
       "2                  0            0           1  \n",
       "3                  0            0           2  \n",
       "4                  0            0           2  \n",
       "...              ...          ...         ...  \n",
       "3999995            0            0           2  \n",
       "3999996            0            0           2  \n",
       "3999997            1            0           2  \n",
       "3999998            0            0           3  \n",
       "3999999            0            0           1  \n",
       "\n",
       "[4000000 rows x 55 columns]"
      ]
     },
     "metadata": {},
     "output_type": "display_data"
    }
   ],
   "source": [
    "# Peek at the values\n",
    "display(df_train)\n",
    "# display(df_test)\n",
    "\n",
    "# Display information about dtypes and missing values\n",
    "# display(df_train.info())\n",
    "# display(df_test.info())"
   ]
  },
  {
   "cell_type": "code",
   "execution_count": 7,
   "id": "8c0d1399",
   "metadata": {
    "execution": {
     "iopub.execute_input": "2021-12-04T00:08:34.951429Z",
     "iopub.status.busy": "2021-12-04T00:08:34.950531Z",
     "iopub.status.idle": "2021-12-04T00:08:35.791282Z",
     "shell.execute_reply": "2021-12-04T00:08:35.790846Z",
     "shell.execute_reply.started": "2021-12-03T15:21:38.718472Z"
    },
    "papermill": {
     "duration": 0.869872,
     "end_time": "2021-12-04T00:08:35.791416",
     "exception": false,
     "start_time": "2021-12-04T00:08:34.921544",
     "status": "completed"
    },
    "tags": []
   },
   "outputs": [
    {
     "data": {
      "text/plain": [
       "'Cover_Type'"
      ]
     },
     "execution_count": 7,
     "metadata": {},
     "output_type": "execute_result"
    }
   ],
   "source": [
    "target_col = df_train.columns.difference(df_test.columns)[0]\n",
    "X_raw = df_train.drop(columns=target_col)\n",
    "y_raw = df_train[target_col]\n",
    "\n",
    "X_test_raw = df_test.iloc[:,:]\n",
    "target_col"
   ]
  },
  {
   "cell_type": "markdown",
   "id": "044bf9db",
   "metadata": {
    "papermill": {
     "duration": 0.02416,
     "end_time": "2021-12-04T00:08:35.840159",
     "exception": false,
     "start_time": "2021-12-04T00:08:35.815999",
     "status": "completed"
    },
    "tags": []
   },
   "source": [
    "# Resampling\n",
    "\n",
    "Auto Keras y categories calculation wrong when cat 5 is missing etc"
   ]
  },
  {
   "cell_type": "code",
   "execution_count": 8,
   "id": "56d6d247",
   "metadata": {
    "execution": {
     "iopub.execute_input": "2021-12-04T00:08:35.895069Z",
     "iopub.status.busy": "2021-12-04T00:08:35.893575Z",
     "iopub.status.idle": "2021-12-04T00:08:36.117769Z",
     "shell.execute_reply": "2021-12-04T00:08:36.117096Z",
     "shell.execute_reply.started": "2021-12-03T15:21:39.391191Z"
    },
    "papermill": {
     "duration": 0.25369,
     "end_time": "2021-12-04T00:08:36.117942",
     "exception": false,
     "start_time": "2021-12-04T00:08:35.864252",
     "status": "completed"
    },
    "tags": []
   },
   "outputs": [
    {
     "name": "stdout",
     "output_type": "stream",
     "text": [
      "Series([], dtype: int64)\n"
     ]
    }
   ],
   "source": [
    "from sklearn.model_selection import train_test_split\n",
    "# Check NA\n",
    "missing_val = X_raw.isnull().sum()\n",
    "print(missing_val[missing_val > 0])\n",
    "\n",
    "# For small testing batch\n",
    "# X_raw, x_val, y, y_val = train_test_split(X_raw, y, train_size = VALIDATION_SPLIT, random_state = RANDOM_STATE)\n",
    "# X_raw = X_raw.sample(n=SAMPLE, random_state=RANDOM_STATE)\n",
    "# y_raw = y_raw.sample(n=SAMPLE, random_state=RANDOM_STATE)\n",
    "# x_test = x_test.sample(n=SAMPLE, random_state=RANDOM_STATE)"
   ]
  },
  {
   "cell_type": "code",
   "execution_count": 9,
   "id": "a146c517",
   "metadata": {
    "execution": {
     "iopub.execute_input": "2021-12-04T00:08:36.173721Z",
     "iopub.status.busy": "2021-12-04T00:08:36.172607Z",
     "iopub.status.idle": "2021-12-04T00:08:39.019134Z",
     "shell.execute_reply": "2021-12-04T00:08:39.018607Z",
     "shell.execute_reply.started": "2021-12-03T15:21:39.632375Z"
    },
    "papermill": {
     "duration": 2.876025,
     "end_time": "2021-12-04T00:08:39.019273",
     "exception": false,
     "start_time": "2021-12-04T00:08:36.143248",
     "status": "completed"
    },
    "tags": []
   },
   "outputs": [],
   "source": [
    "sampling_key, sampling_count = np.unique(y_raw, return_counts=True)\n",
    "sampling_count[sampling_count > SAMPLE] = SAMPLE\n",
    "zip_iterator = zip(sampling_key, sampling_count)\n",
    "sampling_params = dict(zip_iterator)\n",
    "\n",
    "undersample = RandomUnderSampler(\n",
    "    sampling_strategy=sampling_params)\n",
    "\n",
    "X_raw, y_raw = undersample.fit_resample(X_raw, y_raw)"
   ]
  },
  {
   "cell_type": "code",
   "execution_count": 10,
   "id": "84418da3",
   "metadata": {
    "execution": {
     "iopub.execute_input": "2021-12-04T00:08:39.078152Z",
     "iopub.status.busy": "2021-12-04T00:08:39.077374Z",
     "iopub.status.idle": "2021-12-04T00:08:39.089811Z",
     "shell.execute_reply": "2021-12-04T00:08:39.089369Z",
     "shell.execute_reply.started": "2021-12-03T15:21:41.637857Z"
    },
    "papermill": {
     "duration": 0.042955,
     "end_time": "2021-12-04T00:08:39.089927",
     "exception": false,
     "start_time": "2021-12-04T00:08:39.046972",
     "status": "completed"
    },
    "tags": []
   },
   "outputs": [
    {
     "data": {
      "text/plain": [
       "(array([1, 2, 3, 4, 5, 6, 7]),\n",
       " array([195712, 195712, 195712,    377,      1,  11426,  62261]))"
      ]
     },
     "execution_count": 10,
     "metadata": {},
     "output_type": "execute_result"
    }
   ],
   "source": [
    "np.unique(y_raw, return_counts=True)"
   ]
  },
  {
   "cell_type": "markdown",
   "id": "337ce21a",
   "metadata": {
    "papermill": {
     "duration": 0.025475,
     "end_time": "2021-12-04T00:08:39.141023",
     "exception": false,
     "start_time": "2021-12-04T00:08:39.115548",
     "status": "completed"
    },
    "tags": []
   },
   "source": [
    "## Scaler transformer\n",
    "By using RobustScaler(), we can remove the outliers. No good for this dataset test.\n",
    "![](https://github.com/furyhawk/kaggle_practice/blob/main/images/Scalers.png?raw=true)"
   ]
  },
  {
   "cell_type": "code",
   "execution_count": 11,
   "id": "e0b6b2b2",
   "metadata": {
    "execution": {
     "iopub.execute_input": "2021-12-04T00:08:39.195741Z",
     "iopub.status.busy": "2021-12-04T00:08:39.194976Z",
     "iopub.status.idle": "2021-12-04T00:08:39.196923Z",
     "shell.execute_reply": "2021-12-04T00:08:39.197309Z",
     "shell.execute_reply.started": "2021-12-03T15:21:41.648495Z"
    },
    "papermill": {
     "duration": 0.03134,
     "end_time": "2021-12-04T00:08:39.197432",
     "exception": false,
     "start_time": "2021-12-04T00:08:39.166092",
     "status": "completed"
    },
    "tags": []
   },
   "outputs": [],
   "source": [
    "transformer_all_cols = make_pipeline(\n",
    "    StandardScaler(),\n",
    "    MinMaxScaler(feature_range=(0, 1))\n",
    ")\n",
    "\n",
    "preprocessor = make_column_transformer(\n",
    "    (transformer_all_cols, df_test.columns[:]),\n",
    ")"
   ]
  },
  {
   "cell_type": "code",
   "execution_count": 12,
   "id": "a607e45c",
   "metadata": {
    "execution": {
     "iopub.execute_input": "2021-12-04T00:08:39.254680Z",
     "iopub.status.busy": "2021-12-04T00:08:39.253270Z",
     "iopub.status.idle": "2021-12-04T00:08:41.358238Z",
     "shell.execute_reply": "2021-12-04T00:08:41.357338Z",
     "shell.execute_reply.started": "2021-12-03T15:21:41.656503Z"
    },
    "papermill": {
     "duration": 2.136219,
     "end_time": "2021-12-04T00:08:41.358389",
     "exception": false,
     "start_time": "2021-12-04T00:08:39.222170",
     "status": "completed"
    },
    "tags": []
   },
   "outputs": [],
   "source": [
    "X_train = preprocessor.fit_transform(X_raw)\n",
    "X_test = preprocessor.transform(X_test_raw)"
   ]
  },
  {
   "cell_type": "code",
   "execution_count": 13,
   "id": "37ed9e6c",
   "metadata": {
    "execution": {
     "iopub.execute_input": "2021-12-04T00:08:41.457792Z",
     "iopub.status.busy": "2021-12-04T00:08:41.456923Z",
     "iopub.status.idle": "2021-12-04T00:08:41.484430Z",
     "shell.execute_reply": "2021-12-04T00:08:41.481899Z",
     "shell.execute_reply.started": "2021-12-03T15:21:42.344518Z"
    },
    "papermill": {
     "duration": 0.095084,
     "end_time": "2021-12-04T00:08:41.484629",
     "exception": false,
     "start_time": "2021-12-04T00:08:41.389545",
     "status": "completed"
    },
    "tags": []
   },
   "outputs": [],
   "source": [
    "from sklearn.preprocessing import LabelEncoder\n",
    "le = LabelEncoder()\n",
    "y_train = le.fit_transform(y_raw)\n",
    "# y_train = y_raw"
   ]
  },
  {
   "cell_type": "markdown",
   "id": "f97da349",
   "metadata": {
    "papermill": {
     "duration": 0.042225,
     "end_time": "2021-12-04T00:08:41.575222",
     "exception": false,
     "start_time": "2021-12-04T00:08:41.532997",
     "status": "completed"
    },
    "tags": []
   },
   "source": [
    "TPS always have huge dataset."
   ]
  },
  {
   "cell_type": "code",
   "execution_count": 14,
   "id": "953382c2",
   "metadata": {
    "execution": {
     "iopub.execute_input": "2021-12-04T00:08:41.853078Z",
     "iopub.status.busy": "2021-12-04T00:08:41.852225Z",
     "iopub.status.idle": "2021-12-04T00:08:41.859743Z",
     "shell.execute_reply": "2021-12-04T00:08:41.860778Z",
     "shell.execute_reply.started": "2021-12-03T15:21:42.352289Z"
    },
    "papermill": {
     "duration": 0.24234,
     "end_time": "2021-12-04T00:08:41.861058",
     "exception": false,
     "start_time": "2021-12-04T00:08:41.618718",
     "status": "completed"
    },
    "tags": []
   },
   "outputs": [
    {
     "data": {
      "text/plain": [
       "153"
      ]
     },
     "execution_count": 14,
     "metadata": {},
     "output_type": "execute_result"
    }
   ],
   "source": [
    "import gc\n",
    "gc.collect()"
   ]
  },
  {
   "cell_type": "markdown",
   "id": "e16dc79e",
   "metadata": {
    "papermill": {
     "duration": 0.039959,
     "end_time": "2021-12-04T00:08:41.945180",
     "exception": false,
     "start_time": "2021-12-04T00:08:41.905221",
     "status": "completed"
    },
    "tags": []
   },
   "source": [
    "# Hyperparameter Tuning #\n",
    "\n",
    "At this stage, you might like to do auto hyperparameter tuning with AutoKeras before creating your final submission.\n",
    "AutoKeras: An AutoML system based on Keras. It is developed by DATA Lab at Texas A&M University. The goal of AutoKeras is to make machine learning accessible to everyone.\n",
    "\n",
    "By default, AutoKeras use the last 20% of training data as validation data. As shown in the example below, you can use validation_split to specify the percentage."
   ]
  },
  {
   "cell_type": "code",
   "execution_count": 15,
   "id": "9af18b4e",
   "metadata": {
    "execution": {
     "iopub.execute_input": "2021-12-04T00:08:42.008824Z",
     "iopub.status.busy": "2021-12-04T00:08:42.008017Z",
     "iopub.status.idle": "2021-12-04T00:08:42.010605Z",
     "shell.execute_reply": "2021-12-04T00:08:42.010142Z",
     "shell.execute_reply.started": "2021-12-03T15:21:42.777208Z"
    },
    "papermill": {
     "duration": 0.032969,
     "end_time": "2021-12-04T00:08:42.010726",
     "exception": false,
     "start_time": "2021-12-04T00:08:41.977757",
     "status": "completed"
    },
    "tags": []
   },
   "outputs": [],
   "source": [
    "# Search for the best model with EarlyStopping.\n",
    "cbs = [\n",
    "    tf.keras.callbacks.EarlyStopping(patience=5,\n",
    "                                    monitor='loss',\n",
    "                                    mode='min',\n",
    "                                    restore_best_weights=True,\n",
    "                                    ),\n",
    "    tf.keras.callbacks.ReduceLROnPlateau(\n",
    "                                    factor=0.5,\n",
    "                                    patience=3,\n",
    "                                    monitor='loss',\n",
    "                                    mode='min',\n",
    "                                    )\n",
    "]"
   ]
  },
  {
   "cell_type": "code",
   "execution_count": 16,
   "id": "93119d00",
   "metadata": {
    "execution": {
     "iopub.execute_input": "2021-12-04T00:08:42.067292Z",
     "iopub.status.busy": "2021-12-04T00:08:42.066775Z",
     "iopub.status.idle": "2021-12-04T04:08:13.213254Z",
     "shell.execute_reply": "2021-12-04T04:08:13.212666Z",
     "shell.execute_reply.started": "2021-12-03T15:21:42.785212Z"
    },
    "papermill": {
     "duration": 14371.177568,
     "end_time": "2021-12-04T04:08:13.213397",
     "exception": false,
     "start_time": "2021-12-04T00:08:42.035829",
     "status": "completed"
    },
    "tags": []
   },
   "outputs": [
    {
     "name": "stdout",
     "output_type": "stream",
     "text": [
      "Trial 7 Complete [00h 17m 44s]\n",
      "val_accuracy: 0.4397885203361511\n",
      "\n",
      "Best val_accuracy So Far: 0.4397885203361511\n",
      "Total elapsed time: 03h 30m 03s\n",
      "Epoch 1/60\n",
      "20663/20663 [==============================] - 71s 3ms/step - loss: 0.0551 - accuracy: 0.9933\n",
      "Epoch 2/60\n",
      "20663/20663 [==============================] - 69s 3ms/step - loss: 0.0452 - accuracy: 0.9939\n",
      "Epoch 3/60\n",
      "20663/20663 [==============================] - 69s 3ms/step - loss: 0.0636 - accuracy: 0.9941\n",
      "Epoch 4/60\n",
      "20663/20663 [==============================] - 70s 3ms/step - loss: 0.0530 - accuracy: 0.9951\n",
      "Epoch 5/60\n",
      "20663/20663 [==============================] - 69s 3ms/step - loss: 0.0541 - accuracy: 0.9950\n",
      "Epoch 6/60\n",
      "20663/20663 [==============================] - 69s 3ms/step - loss: 0.0671 - accuracy: 0.9925\n",
      "Epoch 7/60\n",
      "20663/20663 [==============================] - 71s 3ms/step - loss: 0.0465 - accuracy: 0.9947\n"
     ]
    },
    {
     "name": "stderr",
     "output_type": "stream",
     "text": [
      "2021-12-04 04:08:08.106586: W tensorflow/python/util/util.cc:348] Sets are not currently considered sequences, but this may change in the future, so consider avoiding using them.\n"
     ]
    }
   ],
   "source": [
    "# Initialize the structured data classifier.\n",
    "clf = ak.StructuredDataClassifier(\n",
    "    overwrite=False, max_trials=MAX_TRIAL,seed=RANDOM_STATE\n",
    ")  # It tries MAX_TRIAL different models.\n",
    "# Feed the structured data classifier with training data.\n",
    "history = clf.fit(\n",
    "                X_train,\n",
    "                y_train,\n",
    "                # Split the training data and use the last 15% as validation data.\n",
    "                validation_split=VALIDATION_SPLIT,\n",
    "                epochs=EPOCHS,\n",
    "                callbacks=cbs,\n",
    ")\n",
    "\n"
   ]
  },
  {
   "cell_type": "code",
   "execution_count": 17,
   "id": "809f792e",
   "metadata": {
    "execution": {
     "iopub.execute_input": "2021-12-04T04:08:18.045453Z",
     "iopub.status.busy": "2021-12-04T04:08:18.044557Z",
     "iopub.status.idle": "2021-12-04T04:08:18.046103Z",
     "shell.execute_reply": "2021-12-04T04:08:18.046536Z",
     "shell.execute_reply.started": "2021-12-03T15:22:16.209658Z"
    },
    "papermill": {
     "duration": 2.45476,
     "end_time": "2021-12-04T04:08:18.046740",
     "exception": false,
     "start_time": "2021-12-04T04:08:15.591980",
     "status": "completed"
    },
    "tags": []
   },
   "outputs": [],
   "source": [
    "# clf.evaluate(X_val, y_val)"
   ]
  },
  {
   "cell_type": "markdown",
   "id": "c9c3a52b",
   "metadata": {
    "papermill": {
     "duration": 2.394639,
     "end_time": "2021-12-04T04:08:23.060009",
     "exception": false,
     "start_time": "2021-12-04T04:08:20.665370",
     "status": "completed"
    },
    "tags": []
   },
   "source": [
    "You can also export the best model found by AutoKeras as a Keras Model."
   ]
  },
  {
   "cell_type": "code",
   "execution_count": 18,
   "id": "c87d52a8",
   "metadata": {
    "execution": {
     "iopub.execute_input": "2021-12-04T04:08:27.883685Z",
     "iopub.status.busy": "2021-12-04T04:08:27.882881Z",
     "iopub.status.idle": "2021-12-04T04:08:30.626023Z",
     "shell.execute_reply": "2021-12-04T04:08:30.626632Z",
     "shell.execute_reply.started": "2021-12-03T15:22:16.215188Z"
    },
    "papermill": {
     "duration": 5.121679,
     "end_time": "2021-12-04T04:08:30.626823",
     "exception": false,
     "start_time": "2021-12-04T04:08:25.505144",
     "status": "completed"
    },
    "tags": []
   },
   "outputs": [
    {
     "name": "stdout",
     "output_type": "stream",
     "text": [
      "Model: \"model\"\n",
      "_________________________________________________________________\n",
      "Layer (type)                 Output Shape              Param #   \n",
      "=================================================================\n",
      "input_1 (InputLayer)         [(None, 54)]              0         \n",
      "_________________________________________________________________\n",
      "multi_category_encoding (Mul (None, 54)                0         \n",
      "_________________________________________________________________\n",
      "normalization (Normalization (None, 54)                109       \n",
      "_________________________________________________________________\n",
      "dense (Dense)                (None, 32)                1760      \n",
      "_________________________________________________________________\n",
      "re_lu (ReLU)                 (None, 32)                0         \n",
      "_________________________________________________________________\n",
      "dense_1 (Dense)              (None, 32)                1056      \n",
      "_________________________________________________________________\n",
      "re_lu_1 (ReLU)               (None, 32)                0         \n",
      "_________________________________________________________________\n",
      "dense_2 (Dense)              (None, 7)                 231       \n",
      "_________________________________________________________________\n",
      "classification_head_1 (Softm (None, 7)                 0         \n",
      "=================================================================\n",
      "Total params: 3,156\n",
      "Trainable params: 3,047\n",
      "Non-trainable params: 109\n",
      "_________________________________________________________________\n"
     ]
    }
   ],
   "source": [
    "model = clf.export_model()\n",
    "model.summary()"
   ]
  },
  {
   "cell_type": "markdown",
   "id": "36ae8684",
   "metadata": {
    "papermill": {
     "duration": 2.403511,
     "end_time": "2021-12-04T04:08:35.892972",
     "exception": false,
     "start_time": "2021-12-04T04:08:33.489461",
     "status": "completed"
    },
    "tags": []
   },
   "source": [
    "# Train Model and Create Submissions #\n",
    "\n",
    "Once you're satisfied with everything, it's time to create your final predictions! This cell will:\n",
    "- use the best trained model to make predictions from the test set\n",
    "- save the predictions to a CSV file"
   ]
  },
  {
   "cell_type": "code",
   "execution_count": 19,
   "id": "5b05ea37",
   "metadata": {
    "execution": {
     "iopub.execute_input": "2021-12-04T04:08:41.051377Z",
     "iopub.status.busy": "2021-12-04T04:08:41.045958Z",
     "iopub.status.idle": "2021-12-04T04:11:31.852243Z",
     "shell.execute_reply": "2021-12-04T04:11:31.852737Z",
     "shell.execute_reply.started": "2021-12-03T15:22:18.569664Z"
    },
    "papermill": {
     "duration": 173.470075,
     "end_time": "2021-12-04T04:11:31.852912",
     "exception": false,
     "start_time": "2021-12-04T04:08:38.382837",
     "status": "completed"
    },
    "tags": []
   },
   "outputs": [
    {
     "name": "stdout",
     "output_type": "stream",
     "text": [
      "31250/31250 [==============================] - 106s 3ms/step\n"
     ]
    }
   ],
   "source": [
    "# Predict with the best model.\n",
    "predicted_y = clf.predict(X_test)\n",
    "# predicted_y = le.inverse_transform(clf.predict(X_test))\n"
   ]
  },
  {
   "cell_type": "code",
   "execution_count": 20,
   "id": "613f31fb",
   "metadata": {
    "execution": {
     "iopub.execute_input": "2021-12-04T04:11:38.444989Z",
     "iopub.status.busy": "2021-12-04T04:11:38.444156Z",
     "iopub.status.idle": "2021-12-04T04:11:38.467971Z",
     "shell.execute_reply": "2021-12-04T04:11:38.467481Z",
     "shell.execute_reply.started": "2021-12-03T15:24:58.72286Z"
    },
    "papermill": {
     "duration": 3.711444,
     "end_time": "2021-12-04T04:11:38.468100",
     "exception": false,
     "start_time": "2021-12-04T04:11:34.756656",
     "status": "completed"
    },
    "tags": []
   },
   "outputs": [],
   "source": [
    "# Auto Keras converted y from int to string bug\n",
    "predicted_y = le.inverse_transform(predicted_y.astype(np.int16))"
   ]
  },
  {
   "cell_type": "code",
   "execution_count": 21,
   "id": "0dced032",
   "metadata": {
    "execution": {
     "iopub.execute_input": "2021-12-04T04:11:44.293218Z",
     "iopub.status.busy": "2021-12-04T04:11:44.292485Z",
     "iopub.status.idle": "2021-12-04T04:11:46.520050Z",
     "shell.execute_reply": "2021-12-04T04:11:46.521073Z",
     "shell.execute_reply.started": "2021-12-03T15:24:59.410354Z"
    },
    "papermill": {
     "duration": 5.125821,
     "end_time": "2021-12-04T04:11:46.521271",
     "exception": false,
     "start_time": "2021-12-04T04:11:41.395450",
     "status": "completed"
    },
    "tags": []
   },
   "outputs": [
    {
     "name": "stdout",
     "output_type": "stream",
     "text": [
      "Your submission was successfully saved!\n"
     ]
    },
    {
     "data": {
      "text/html": [
       "<div>\n",
       "<style scoped>\n",
       "    .dataframe tbody tr th:only-of-type {\n",
       "        vertical-align: middle;\n",
       "    }\n",
       "\n",
       "    .dataframe tbody tr th {\n",
       "        vertical-align: top;\n",
       "    }\n",
       "\n",
       "    .dataframe thead th {\n",
       "        text-align: right;\n",
       "    }\n",
       "</style>\n",
       "<table border=\"1\" class=\"dataframe\">\n",
       "  <thead>\n",
       "    <tr style=\"text-align: right;\">\n",
       "      <th></th>\n",
       "      <th>Id</th>\n",
       "      <th>Cover_Type</th>\n",
       "    </tr>\n",
       "  </thead>\n",
       "  <tbody>\n",
       "    <tr>\n",
       "      <th>0</th>\n",
       "      <td>4000000</td>\n",
       "      <td>7</td>\n",
       "    </tr>\n",
       "    <tr>\n",
       "      <th>1</th>\n",
       "      <td>4000001</td>\n",
       "      <td>7</td>\n",
       "    </tr>\n",
       "    <tr>\n",
       "      <th>2</th>\n",
       "      <td>4000002</td>\n",
       "      <td>7</td>\n",
       "    </tr>\n",
       "    <tr>\n",
       "      <th>3</th>\n",
       "      <td>4000003</td>\n",
       "      <td>7</td>\n",
       "    </tr>\n",
       "    <tr>\n",
       "      <th>4</th>\n",
       "      <td>4000004</td>\n",
       "      <td>7</td>\n",
       "    </tr>\n",
       "    <tr>\n",
       "      <th>...</th>\n",
       "      <td>...</td>\n",
       "      <td>...</td>\n",
       "    </tr>\n",
       "    <tr>\n",
       "      <th>999995</th>\n",
       "      <td>4999995</td>\n",
       "      <td>7</td>\n",
       "    </tr>\n",
       "    <tr>\n",
       "      <th>999996</th>\n",
       "      <td>4999996</td>\n",
       "      <td>7</td>\n",
       "    </tr>\n",
       "    <tr>\n",
       "      <th>999997</th>\n",
       "      <td>4999997</td>\n",
       "      <td>7</td>\n",
       "    </tr>\n",
       "    <tr>\n",
       "      <th>999998</th>\n",
       "      <td>4999998</td>\n",
       "      <td>7</td>\n",
       "    </tr>\n",
       "    <tr>\n",
       "      <th>999999</th>\n",
       "      <td>4999999</td>\n",
       "      <td>7</td>\n",
       "    </tr>\n",
       "  </tbody>\n",
       "</table>\n",
       "<p>1000000 rows × 2 columns</p>\n",
       "</div>"
      ],
      "text/plain": [
       "             Id  Cover_Type\n",
       "0       4000000           7\n",
       "1       4000001           7\n",
       "2       4000002           7\n",
       "3       4000003           7\n",
       "4       4000004           7\n",
       "...         ...         ...\n",
       "999995  4999995           7\n",
       "999996  4999996           7\n",
       "999997  4999997           7\n",
       "999998  4999998           7\n",
       "999999  4999999           7\n",
       "\n",
       "[1000000 rows x 2 columns]"
      ]
     },
     "execution_count": 21,
     "metadata": {},
     "output_type": "execute_result"
    }
   ],
   "source": [
    "# output = pd.DataFrame({ID: df_test.index, target_col: predicted_y[:,0]})\n",
    "\n",
    "output = pd.read_csv(INPUT + \"/sample_submission.csv\")\n",
    "output[target_col] = predicted_y\n",
    "output.to_csv('submission.csv', index=False)\n",
    "print(\"Your submission was successfully saved!\")\n",
    "output"
   ]
  },
  {
   "cell_type": "code",
   "execution_count": 22,
   "id": "08ef3608",
   "metadata": {
    "execution": {
     "iopub.execute_input": "2021-12-04T04:11:52.696859Z",
     "iopub.status.busy": "2021-12-04T04:11:52.696169Z",
     "iopub.status.idle": "2021-12-04T04:11:53.182954Z",
     "shell.execute_reply": "2021-12-04T04:11:53.183350Z",
     "shell.execute_reply.started": "2021-12-03T15:25:01.256603Z"
    },
    "papermill": {
     "duration": 3.484062,
     "end_time": "2021-12-04T04:11:53.183501",
     "exception": false,
     "start_time": "2021-12-04T04:11:49.699439",
     "status": "completed"
    },
    "tags": []
   },
   "outputs": [
    {
     "data": {
      "image/png": "[encoded data removed]",
      "text/plain": [
       "<Figure size 432x288 with 1 Axes>"
      ]
     },
     "metadata": {},
     "output_type": "display_data"
    },
    {
     "data": {
      "image/png": "[encoded data removed]",
      "text/plain": [
       "<Figure size 432x288 with 1 Axes>"
      ]
     },
     "metadata": {},
     "output_type": "display_data"
    }
   ],
   "source": [
    "# summarize history for accuracy\n",
    "plt.plot(history.history['accuracy'])\n",
    "# plt.plot(history.history['val_acc'])\n",
    "plt.title('model accuracy')\n",
    "plt.ylabel('acc')\n",
    "plt.xlabel('epoch')\n",
    "plt.legend(['train', 'test'], loc='upper left')\n",
    "plt.show()\n",
    "# summarize history for loss\n",
    "plt.plot(history.history['loss'])\n",
    "# plt.plot(history.history['val_loss'])\n",
    "plt.title('model loss')\n",
    "plt.ylabel('loss')\n",
    "plt.xlabel('epoch')\n",
    "plt.legend(['train', 'test'], loc='upper left')\n",
    "plt.show()"
   ]
  },
  {
   "cell_type": "code",
   "execution_count": 23,
   "id": "44735ab8",
   "metadata": {
    "execution": {
     "iopub.execute_input": "2021-12-04T04:11:59.259884Z",
     "iopub.status.busy": "2021-12-04T04:11:59.258271Z",
     "iopub.status.idle": "2021-12-04T04:11:59.260448Z",
     "shell.execute_reply": "2021-12-04T04:11:59.260878Z",
     "shell.execute_reply.started": "2021-12-03T15:25:01.689037Z"
    },
    "papermill": {
     "duration": 3.16925,
     "end_time": "2021-12-04T04:11:59.261028",
     "exception": false,
     "start_time": "2021-12-04T04:11:56.091778",
     "status": "completed"
    },
    "tags": []
   },
   "outputs": [],
   "source": [
    "# history.history"
   ]
  },
  {
   "cell_type": "code",
   "execution_count": 24,
   "id": "10272455",
   "metadata": {
    "execution": {
     "iopub.execute_input": "2021-12-04T04:12:05.152069Z",
     "iopub.status.busy": "2021-12-04T04:12:05.151145Z",
     "iopub.status.idle": "2021-12-04T04:12:05.170557Z",
     "shell.execute_reply": "2021-12-04T04:12:05.171027Z",
     "shell.execute_reply.started": "2021-12-03T15:25:01.69366Z"
    },
    "papermill": {
     "duration": 2.930125,
     "end_time": "2021-12-04T04:12:05.171210",
     "exception": false,
     "start_time": "2021-12-04T04:12:02.241085",
     "status": "completed"
    },
    "tags": []
   },
   "outputs": [
    {
     "data": {
      "text/plain": [
       "(array([3, 6, 7]), array([  3079,  80304, 916617]))"
      ]
     },
     "execution_count": 24,
     "metadata": {},
     "output_type": "execute_result"
    }
   ],
   "source": [
    "np.unique(output[target_col], return_counts=True)"
   ]
  },
  {
   "cell_type": "code",
   "execution_count": 25,
   "id": "1d9e1b28",
   "metadata": {
    "execution": {
     "iopub.execute_input": "2021-12-04T04:12:11.246673Z",
     "iopub.status.busy": "2021-12-04T04:12:11.245796Z",
     "iopub.status.idle": "2021-12-04T04:12:11.465133Z",
     "shell.execute_reply": "2021-12-04T04:12:11.466054Z",
     "shell.execute_reply.started": "2021-12-03T15:25:01.740418Z"
    },
    "papermill": {
     "duration": 3.382975,
     "end_time": "2021-12-04T04:12:11.466316",
     "exception": false,
     "start_time": "2021-12-04T04:12:08.083341",
     "status": "completed"
    },
    "tags": []
   },
   "outputs": [
    {
     "data": {
      "image/png": "[encoded data removed]",
      "text/plain": [
       "<Figure size 432x288 with 1 Axes>"
      ]
     },
     "metadata": {},
     "output_type": "display_data"
    }
   ],
   "source": [
    "# Plot the distribution of the test predictions\n",
    "sns.countplot(predicted_y)\n",
    "sns.despine()"
   ]
  },
  {
   "cell_type": "code",
   "execution_count": 26,
   "id": "41184d8f",
   "metadata": {
    "execution": {
     "iopub.execute_input": "2021-12-04T04:12:17.427905Z",
     "iopub.status.busy": "2021-12-04T04:12:17.427080Z",
     "iopub.status.idle": "2021-12-04T04:12:17.921762Z",
     "shell.execute_reply": "2021-12-04T04:12:17.922349Z",
     "shell.execute_reply.started": "2021-12-03T15:29:31.10319Z"
    },
    "papermill": {
     "duration": 3.466457,
     "end_time": "2021-12-04T04:12:17.922542",
     "exception": false,
     "start_time": "2021-12-04T04:12:14.456085",
     "status": "completed"
    },
    "tags": []
   },
   "outputs": [
    {
     "data": {
      "image/png": "[encoded data removed]",
      "text/plain": [
       "<Figure size 432x288 with 1 Axes>"
      ]
     },
     "metadata": {},
     "output_type": "display_data"
    }
   ],
   "source": [
    "# Plot the distribution of the training set\n",
    "sns.countplot(df_train[target_col])\n",
    "sns.despine()"
   ]
  },
  {
   "cell_type": "markdown",
   "id": "8b9816c9",
   "metadata": {
    "papermill": {
     "duration": 2.969732,
     "end_time": "2021-12-04T04:12:24.436497",
     "exception": false,
     "start_time": "2021-12-04T04:12:21.466765",
     "status": "completed"
    },
    "tags": []
   },
   "source": [
    "To submit these predictions to the competition, follow these steps:\n",
    "\n",
    "1. Begin by clicking on the blue **Save Version** button in the top right corner of the window.  This will generate a pop-up window.\n",
    "2. Ensure that the **Save and Run All** option is selected, and then click on the blue **Save** button.\n",
    "3. This generates a window in the bottom left corner of the notebook.  After it has finished running, click on the number to the right of the **Save Version** button.  This pulls up a list of versions on the right of the screen.  Click on the ellipsis **(...)** to the right of the most recent version, and select **Open in Viewer**.  This brings you into view mode of the same page. You will need to scroll down to get back to these instructions.\n",
    "4. Click on the **Output** tab on the right of the screen.  Then, click on the file you would like to submit, and click on the blue **Submit** button to submit your results to the leaderboard.\n",
    "\n",
    "You have now successfully submitted to the competition!\n",
    "\n",
    "# Next Steps #\n",
    "\n",
    "If you want to keep working to improve your performance, select the blue **Edit** button in the top right of the screen. Then you can change your code and repeat the process. There's a lot of room to improve, and you will climb up the leaderboard as you work.\n",
    "\n",
    "Be sure to check out [other users' notebooks](https://www.kaggle.com/c/house-prices-advanced-regression-techniques/notebooks) in this competition. You'll find lots of great ideas for new features and as well as other ways to discover more things about the dataset or make better predictions. There's also the [discussion forum](https://www.kaggle.com/c/house-prices-advanced-regression-techniques/discussion), where you can share ideas with other Kagglers.\n",
    "\n",
    "Have fun Kaggling!"
   ]
  }
 ],
 "metadata": {
  "kernelspec": {
   "display_name": "Python 3",
   "language": "python",
   "name": "python3"
  },
  "language_info": {
   "codemirror_mode": {
    "name": "ipython",
    "version": 3
   },
   "file_extension": ".py",
   "mimetype": "text/x-python",
   "name": "python",
   "nbconvert_exporter": "python",
   "pygments_lexer": "ipython3",
   "version": "3.7.10"
  },
  "papermill": {
   "default_parameters": {},
   "duration": 14749.184547,
   "end_time": "2021-12-04T04:12:30.105995",
   "environment_variables": {},
   "exception": null,
   "input_path": "__notebook__.ipynb",
   "output_path": "__notebook__.ipynb",
   "parameters": {},
   "start_time": "2021-12-04T00:06:40.921448",
   "version": "2.3.3"
  }
 },
 "nbformat": 4,
 "nbformat_minor": 5
}
