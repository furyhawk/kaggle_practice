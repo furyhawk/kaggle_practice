{
 "cells": [
  {
   "cell_type": "markdown",
   "id": "9722268e",
   "metadata": {
    "papermill": {
     "duration": 0.028898,
     "end_time": "2021-12-03T01:57:00.994866",
     "exception": false,
     "start_time": "2021-12-03T01:57:00.965968",
     "status": "completed"
    },
    "tags": []
   },
   "source": [
    "# Welcome and have fun learning Logistic Regession with plug and play Neural Network\n",
    "### There are alot of category features in the dataset. Lets forget about feature engineering and just brute force NN for now.\n",
    "<blockquote style=\"margin-right:auto; margin-left:auto; padding: 1em; margin:24px;\">\n",
    "    <strong>Fork This Notebook!</strong><br>\n",
    "Create your own editable copy of this notebook by clicking on the <strong>Copy and Edit</strong> button in the top right corner.\n",
    "</blockquote>\n",
    "\n",
    "## Imports and Configuration ##"
   ]
  },
  {
   "cell_type": "code",
   "execution_count": 1,
   "id": "0a6c1fe8",
   "metadata": {
    "_cell_guid": "b1076dfc-b9ad-4769-8c92-a6c4dae69d19",
    "_uuid": "8f2839f25d086af736a60e9eeb907d3b93b6e0e5",
    "execution": {
     "iopub.execute_input": "2021-12-03T01:57:01.056638Z",
     "iopub.status.busy": "2021-12-03T01:57:01.055931Z",
     "iopub.status.idle": "2021-12-03T01:57:09.099829Z",
     "shell.execute_reply": "2021-12-03T01:57:09.099153Z",
     "shell.execute_reply.started": "2021-12-03T01:17:51.904143Z"
    },
    "papermill": {
     "duration": 8.077259,
     "end_time": "2021-12-03T01:57:09.100007",
     "exception": false,
     "start_time": "2021-12-03T01:57:01.022748",
     "status": "completed"
    },
    "tags": []
   },
   "outputs": [
    {
     "name": "stdout",
     "output_type": "stream",
     "text": [
      "/kaggle/input/tabular-playground-series-dec-2021/sample_submission.csv\n",
      "/kaggle/input/tabular-playground-series-dec-2021/train.csv\n",
      "/kaggle/input/tabular-playground-series-dec-2021/test.csv\n"
     ]
    }
   ],
   "source": [
    "# This Python 3 environment comes with many helpful analytics libraries installed\n",
    "# It is defined by the kaggle/python Docker image: https://github.com/kaggle/docker-python\n",
    "# For example, here's several helpful packages to load\n",
    "from scipy import stats\n",
    "import numpy as np # linear algebra\n",
    "import pandas as pd # data processing, CSV file I/O (e.g. pd.read_csv)\n",
    "from imblearn.over_sampling import RandomOverSampler\n",
    "from imblearn.under_sampling import RandomUnderSampler, TomekLinks\n",
    "import keras\n",
    "import tensorflow as tf\n",
    "from tensorflow.keras import layers\n",
    "from tensorflow.keras.callbacks import EarlyStopping, ReduceLROnPlateau\n",
    "\n",
    "# Input data files are available in the read-only \"../input/\" directory\n",
    "# For example, running this (by clicking run or pressing Shift+Enter) will list all files under the input directory\n",
    "\n",
    "import os\n",
    "for dirname, _, filenames in os.walk('/kaggle/input'):\n",
    "    for filename in filenames:\n",
    "        print(os.path.join(dirname, filename))\n",
    "\n",
    "# You can write up to 20GB to the current directory (/kaggle/working/) that gets preserved as output when you create a version using \"Save & Run All\" \n",
    "# You can also write temporary files to /kaggle/temp/, but they won't be saved outside of the current session"
   ]
  },
  {
   "cell_type": "code",
   "execution_count": 2,
   "id": "aab4f9e6",
   "metadata": {
    "execution": {
     "iopub.execute_input": "2021-12-03T01:57:09.155577Z",
     "iopub.status.busy": "2021-12-03T01:57:09.154853Z",
     "iopub.status.idle": "2021-12-03T01:57:09.159725Z",
     "shell.execute_reply": "2021-12-03T01:57:09.160253Z",
     "shell.execute_reply.started": "2021-12-03T01:50:20.340182Z"
    },
    "papermill": {
     "duration": 0.033316,
     "end_time": "2021-12-03T01:57:09.160446",
     "exception": false,
     "start_time": "2021-12-03T01:57:09.127130",
     "status": "completed"
    },
    "tags": []
   },
   "outputs": [],
   "source": [
    "# -----------------------------------------------------------------\n",
    "# Some parameters to config \n",
    "\n",
    "EPOCHS = 362\n",
    "BATCH_SIZE = 2048 # large enough to fit RAM\n",
    "ACTIVATION = 'swish'\n",
    "LEARNING_RATE = 0.000265713 # Optimal lr is about half the maximum lr\n",
    "FOLDS = 5\n",
    "\n",
    "VALIDATION_SPLIT = 0.005 # Only used to min dataset for quick test\n",
    "SAMPLE = 195712 # [1468136, 2262087, 195712, 377, 1, 11426, 62261]\n",
    "MAX_TRIAL = 3 # speed trial any% Not used here\n",
    "\n",
    "RANDOM_STATE = 42\n",
    "VERBOSE = 0\n",
    "\n",
    "# Admin\n",
    "ID = \"Id\" # Id id x X index\n",
    "INPUT = \"../input/tabular-playground-series-dec-2021\""
   ]
  },
  {
   "cell_type": "markdown",
   "id": "3cbe3817",
   "metadata": {
    "papermill": {
     "duration": 0.025401,
     "end_time": "2021-12-03T01:57:09.211059",
     "exception": false,
     "start_time": "2021-12-03T01:57:09.185658",
     "status": "completed"
    },
    "tags": []
   },
   "source": [
    "## Data Preprocessing ##\n",
    "\n",
    "Before we can do any feature engineering, we need to *preprocess* the data to get it in a form suitable for analysis. We'll need to:\n",
    "- **Load** the data from CSV files\n",
    "- **Clean** the data to fix any errors or inconsistencies\n",
    "- **Encode** the statistical data type (numeric, categorical)\n",
    "- **Impute** any missing values\n",
    "\n",
    "We'll wrap all these steps up in a function, which will make easy for you to get a fresh dataframe whenever you need. After reading the CSV file, we'll apply three preprocessing steps, `clean`, `encode`, and `impute`, and then create the data splits: one (`df_train`) for training the model, and one (`df_test`) for making the predictions that you'll submit to the competition for scoring on the leaderboard."
   ]
  },
  {
   "cell_type": "code",
   "execution_count": 3,
   "id": "9d2997bb",
   "metadata": {
    "execution": {
     "iopub.execute_input": "2021-12-03T01:57:09.265544Z",
     "iopub.status.busy": "2021-12-03T01:57:09.264906Z",
     "iopub.status.idle": "2021-12-03T01:57:09.269240Z",
     "shell.execute_reply": "2021-12-03T01:57:09.269748Z",
     "shell.execute_reply.started": "2021-12-03T01:17:51.928633Z"
    },
    "papermill": {
     "duration": 0.033365,
     "end_time": "2021-12-03T01:57:09.269908",
     "exception": false,
     "start_time": "2021-12-03T01:57:09.236543",
     "status": "completed"
    },
    "tags": []
   },
   "outputs": [],
   "source": [
    "from pathlib import Path\n",
    "def load_data():\n",
    "    # Read data\n",
    "    data_dir = Path(INPUT)\n",
    "    df_train = pd.read_csv(data_dir / \"train.csv\", index_col=ID)\n",
    "    df_test = pd.read_csv(data_dir / \"test.csv\", index_col=ID)\n",
    "    # Merge the splits so we can process them together\n",
    "#     df = pd.concat([df_train, df_test])\n",
    "    # Preprocessing\n",
    "#     df = clean(df)\n",
    "#     df = encode(df)\n",
    "    df_train = impute(df_train)\n",
    "    df_test = impute(df_test)\n",
    "    # Reform splits\n",
    "#     df_train = df.loc[df_train.index, :]\n",
    "#     df_test = df.loc[df_test.index, :]\n",
    "    return df_train, df_test"
   ]
  },
  {
   "cell_type": "markdown",
   "id": "acf17b6e",
   "metadata": {
    "papermill": {
     "duration": 0.026339,
     "end_time": "2021-12-03T01:57:09.321640",
     "exception": false,
     "start_time": "2021-12-03T01:57:09.295301",
     "status": "completed"
    },
    "tags": []
   },
   "source": [
    "### Handle Missing Values ###\n",
    "\n",
    "Handling missing values now will make the feature engineering go more smoothly. We'll impute `0` for missing numeric values and `\"None\"` for missing categorical values. You might like to experiment with other imputation strategies. In particular, you could try creating \"missing value\" indicators: `1` whenever a value was imputed and `0` otherwise."
   ]
  },
  {
   "cell_type": "code",
   "execution_count": 4,
   "id": "f3a98052",
   "metadata": {
    "execution": {
     "iopub.execute_input": "2021-12-03T01:57:09.376652Z",
     "iopub.status.busy": "2021-12-03T01:57:09.376015Z",
     "iopub.status.idle": "2021-12-03T01:57:09.380224Z",
     "shell.execute_reply": "2021-12-03T01:57:09.380751Z",
     "shell.execute_reply.started": "2021-12-03T01:17:51.944683Z"
    },
    "papermill": {
     "duration": 0.032304,
     "end_time": "2021-12-03T01:57:09.380920",
     "exception": false,
     "start_time": "2021-12-03T01:57:09.348616",
     "status": "completed"
    },
    "tags": []
   },
   "outputs": [],
   "source": [
    "def impute(df):\n",
    "    for name in df.select_dtypes(\"number\"):\n",
    "        df[name] = df[name].fillna(0)\n",
    "    for name in df.select_dtypes(\"category\"):\n",
    "        df[name] = df[name].fillna(\"None\")\n",
    "    return df"
   ]
  },
  {
   "cell_type": "markdown",
   "id": "973c2c95",
   "metadata": {
    "papermill": {
     "duration": 0.025833,
     "end_time": "2021-12-03T01:57:09.431542",
     "exception": false,
     "start_time": "2021-12-03T01:57:09.405709",
     "status": "completed"
    },
    "tags": []
   },
   "source": [
    "## Load Data ##\n",
    "\n",
    "And now we can call the data loader and get the processed data splits:"
   ]
  },
  {
   "cell_type": "code",
   "execution_count": 5,
   "id": "68fcd30a",
   "metadata": {
    "execution": {
     "iopub.execute_input": "2021-12-03T01:57:09.489140Z",
     "iopub.status.busy": "2021-12-03T01:57:09.488493Z",
     "iopub.status.idle": "2021-12-03T01:57:33.516500Z",
     "shell.execute_reply": "2021-12-03T01:57:33.515781Z",
     "shell.execute_reply.started": "2021-12-03T01:50:25.750563Z"
    },
    "papermill": {
     "duration": 24.058548,
     "end_time": "2021-12-03T01:57:33.516652",
     "exception": false,
     "start_time": "2021-12-03T01:57:09.458104",
     "status": "completed"
    },
    "tags": []
   },
   "outputs": [
    {
     "name": "stderr",
     "output_type": "stream",
     "text": [
      "/opt/conda/lib/python3.7/site-packages/numpy/lib/arraysetops.py:580: FutureWarning: elementwise comparison failed; returning scalar instead, but in the future will perform elementwise comparison\n",
      "  mask |= (ar1 == a)\n"
     ]
    }
   ],
   "source": [
    "train_data, test_data = load_data()"
   ]
  },
  {
   "cell_type": "code",
   "execution_count": 6,
   "id": "fbca2063",
   "metadata": {
    "execution": {
     "iopub.execute_input": "2021-12-03T01:57:33.576479Z",
     "iopub.status.busy": "2021-12-03T01:57:33.575780Z",
     "iopub.status.idle": "2021-12-03T01:57:34.188361Z",
     "shell.execute_reply": "2021-12-03T01:57:34.187749Z",
     "shell.execute_reply.started": "2021-12-03T01:50:45.939059Z"
    },
    "papermill": {
     "duration": 0.645771,
     "end_time": "2021-12-03T01:57:34.188517",
     "exception": false,
     "start_time": "2021-12-03T01:57:33.542746",
     "status": "completed"
    },
    "tags": []
   },
   "outputs": [],
   "source": [
    "column_y = train_data.columns.difference(test_data.columns)[0]\n",
    "x = train_data.drop(columns=column_y)\n",
    "y = train_data[[column_y]]\n",
    "\n",
    "x_test = test_data.iloc[:,:]"
   ]
  },
  {
   "cell_type": "markdown",
   "id": "d84d1213",
   "metadata": {
    "papermill": {
     "duration": 0.024826,
     "end_time": "2021-12-03T01:57:34.241589",
     "exception": false,
     "start_time": "2021-12-03T01:57:34.216763",
     "status": "completed"
    },
    "tags": []
   },
   "source": [
    "## For quick test\n",
    "y\n",
    "\n",
    "(array([1, 2, 3, 4, 5, 6, 7]),\n",
    " \n",
    " array([1468136, 2262087,  195712,     377,       1,   11426,   62261]))\n",
    " \n",
    "TomekLinks\n",
    "(array([1, 2, 3, 4, 5, 6, 7]),\n",
    "\n",
    " array([1390684, 2169226,  155218,     218,       1,    7627,   38757]))"
   ]
  },
  {
   "cell_type": "code",
   "execution_count": 7,
   "id": "5352e7cd",
   "metadata": {
    "execution": {
     "iopub.execute_input": "2021-12-03T01:57:34.301793Z",
     "iopub.status.busy": "2021-12-03T01:57:34.299891Z",
     "iopub.status.idle": "2021-12-03T01:57:34.569066Z",
     "shell.execute_reply": "2021-12-03T01:57:34.568461Z",
     "shell.execute_reply.started": "2021-12-03T01:50:46.458327Z"
    },
    "papermill": {
     "duration": 0.301686,
     "end_time": "2021-12-03T01:57:34.569228",
     "exception": false,
     "start_time": "2021-12-03T01:57:34.267542",
     "status": "completed"
    },
    "tags": []
   },
   "outputs": [
    {
     "name": "stdout",
     "output_type": "stream",
     "text": [
      "Series([], dtype: int64)\n"
     ]
    }
   ],
   "source": [
    "# Check NA\n",
    "missing_val = x.isnull().sum()\n",
    "print(missing_val[missing_val > 0])\n",
    "\n",
    "from sklearn.model_selection import train_test_split \n",
    "# For small testing batch\n",
    "# x, x_val, y, y_val = train_test_split(x, y, train_size = VALIDATION_SPLIT, random_state = RANDOM_STATE)\n",
    "# x = x.sample(n=SAMPLE, random_state=RANDOM_STATE)\n",
    "# y = y.sample(n=SAMPLE, random_state=RANDOM_STATE)\n",
    "# x_test = x_test.sample(n=SAMPLE, random_state=RANDOM_STATE)\n",
    "\n",
    "# undersample = TomekLinks(sampling_strategy='auto') #, random_state=RANDOM_STATE not minority RandomUnderSampler\n",
    "# X_under, y_under = undersample.fit_resample(x, y)"
   ]
  },
  {
   "cell_type": "code",
   "execution_count": 8,
   "id": "348e0fb2",
   "metadata": {
    "execution": {
     "iopub.execute_input": "2021-12-03T01:57:34.628487Z",
     "iopub.status.busy": "2021-12-03T01:57:34.627811Z",
     "iopub.status.idle": "2021-12-03T01:57:34.630020Z",
     "shell.execute_reply": "2021-12-03T01:57:34.630588Z",
     "shell.execute_reply.started": "2021-12-03T01:55:31.205594Z"
    },
    "papermill": {
     "duration": 0.034132,
     "end_time": "2021-12-03T01:57:34.630757",
     "exception": false,
     "start_time": "2021-12-03T01:57:34.596625",
     "status": "completed"
    },
    "tags": []
   },
   "outputs": [],
   "source": [
    "sample_params = { 1: min(SAMPLE, 1468136),\n",
    "                  2: min(SAMPLE, 2262087),\n",
    "                  3: min(SAMPLE, 195712),\n",
    "                  4: min(SAMPLE, 377),\n",
    "                  5: min(SAMPLE, 1),\n",
    "                  6: min(SAMPLE, 11426),\n",
    "                  7: min(SAMPLE, 62261)}"
   ]
  },
  {
   "cell_type": "code",
   "execution_count": 9,
   "id": "b76d944b",
   "metadata": {
    "execution": {
     "iopub.execute_input": "2021-12-03T01:57:34.685165Z",
     "iopub.status.busy": "2021-12-03T01:57:34.684093Z",
     "iopub.status.idle": "2021-12-03T01:57:37.572606Z",
     "shell.execute_reply": "2021-12-03T01:57:37.572015Z",
     "shell.execute_reply.started": "2021-12-03T01:55:32.594741Z"
    },
    "papermill": {
     "duration": 2.916515,
     "end_time": "2021-12-03T01:57:37.572756",
     "exception": false,
     "start_time": "2021-12-03T01:57:34.656241",
     "status": "completed"
    },
    "tags": []
   },
   "outputs": [],
   "source": [
    "#, random_state=RANDOM_STATE not minority RandomUnderSampler\n",
    "undersample = RandomUnderSampler(\n",
    "    sampling_strategy=sample_params, random_state=RANDOM_STATE)\n",
    "\n",
    "x, y = undersample.fit_resample(x, y)"
   ]
  },
  {
   "cell_type": "code",
   "execution_count": 10,
   "id": "dba4bff9",
   "metadata": {
    "execution": {
     "iopub.execute_input": "2021-12-03T01:57:37.632158Z",
     "iopub.status.busy": "2021-12-03T01:57:37.631529Z",
     "iopub.status.idle": "2021-12-03T01:57:37.648636Z",
     "shell.execute_reply": "2021-12-03T01:57:37.648045Z",
     "shell.execute_reply.started": "2021-12-03T01:55:34.582089Z"
    },
    "papermill": {
     "duration": 0.049149,
     "end_time": "2021-12-03T01:57:37.648801",
     "exception": false,
     "start_time": "2021-12-03T01:57:37.599652",
     "status": "completed"
    },
    "tags": []
   },
   "outputs": [
    {
     "data": {
      "text/plain": [
       "(array([1, 2, 3, 4, 5, 6, 7]),\n",
       " array([195712, 195712, 195712,    377,      1,  11426,  62261]))"
      ]
     },
     "execution_count": 10,
     "metadata": {},
     "output_type": "execute_result"
    }
   ],
   "source": [
    "np.unique(y, return_counts=True)"
   ]
  },
  {
   "cell_type": "markdown",
   "id": "2c46b9cc",
   "metadata": {
    "papermill": {
     "duration": 0.028921,
     "end_time": "2021-12-03T01:57:37.705634",
     "exception": false,
     "start_time": "2021-12-03T01:57:37.676713",
     "status": "completed"
    },
    "tags": []
   },
   "source": []
  },
  {
   "cell_type": "code",
   "execution_count": 11,
   "id": "cf3c65a6",
   "metadata": {
    "execution": {
     "iopub.execute_input": "2021-12-03T01:57:37.765487Z",
     "iopub.status.busy": "2021-12-03T01:57:37.764786Z",
     "iopub.status.idle": "2021-12-03T01:57:37.767079Z",
     "shell.execute_reply": "2021-12-03T01:57:37.767547Z",
     "shell.execute_reply.started": "2021-12-03T01:54:10.962271Z"
    },
    "papermill": {
     "duration": 0.033786,
     "end_time": "2021-12-03T01:57:37.767717",
     "exception": false,
     "start_time": "2021-12-03T01:57:37.733931",
     "status": "completed"
    },
    "tags": []
   },
   "outputs": [],
   "source": [
    "# np.unique(y_under, return_counts=True)"
   ]
  },
  {
   "cell_type": "markdown",
   "id": "ef7330bf",
   "metadata": {
    "papermill": {
     "duration": 0.02695,
     "end_time": "2021-12-03T01:57:37.822568",
     "exception": false,
     "start_time": "2021-12-03T01:57:37.795618",
     "status": "completed"
    },
    "tags": []
   },
   "source": [
    "y to categorical"
   ]
  },
  {
   "cell_type": "code",
   "execution_count": 12,
   "id": "ee4478e2",
   "metadata": {
    "execution": {
     "iopub.execute_input": "2021-12-03T01:57:37.881942Z",
     "iopub.status.busy": "2021-12-03T01:57:37.881132Z",
     "iopub.status.idle": "2021-12-03T01:57:37.897640Z",
     "shell.execute_reply": "2021-12-03T01:57:37.898187Z",
     "shell.execute_reply.started": "2021-12-03T01:18:14.833244Z"
    },
    "papermill": {
     "duration": 0.047604,
     "end_time": "2021-12-03T01:57:37.898392",
     "exception": false,
     "start_time": "2021-12-03T01:57:37.850788",
     "status": "completed"
    },
    "tags": []
   },
   "outputs": [],
   "source": [
    "# Prepare for multiclass classification\n",
    "y_cat = tf.keras.utils.to_categorical(y - 1)"
   ]
  },
  {
   "cell_type": "code",
   "execution_count": 13,
   "id": "d6836bcd",
   "metadata": {
    "execution": {
     "iopub.execute_input": "2021-12-03T01:57:37.956258Z",
     "iopub.status.busy": "2021-12-03T01:57:37.955595Z",
     "iopub.status.idle": "2021-12-03T01:57:37.958978Z",
     "shell.execute_reply": "2021-12-03T01:57:37.959477Z",
     "shell.execute_reply.started": "2021-12-03T01:18:14.850812Z"
    },
    "papermill": {
     "duration": 0.035471,
     "end_time": "2021-12-03T01:57:37.959651",
     "exception": false,
     "start_time": "2021-12-03T01:57:37.924180",
     "status": "completed"
    },
    "tags": []
   },
   "outputs": [
    {
     "data": {
      "text/plain": [
       "(661201, 1)"
      ]
     },
     "execution_count": 13,
     "metadata": {},
     "output_type": "execute_result"
    }
   ],
   "source": [
    "y.shape"
   ]
  },
  {
   "cell_type": "code",
   "execution_count": 14,
   "id": "7a0aed79",
   "metadata": {
    "execution": {
     "iopub.execute_input": "2021-12-03T01:57:38.021221Z",
     "iopub.status.busy": "2021-12-03T01:57:38.020580Z",
     "iopub.status.idle": "2021-12-03T01:57:38.027920Z",
     "shell.execute_reply": "2021-12-03T01:57:38.028555Z",
     "shell.execute_reply.started": "2021-12-03T01:18:14.867333Z"
    },
    "papermill": {
     "duration": 0.039685,
     "end_time": "2021-12-03T01:57:38.028774",
     "exception": false,
     "start_time": "2021-12-03T01:57:37.989089",
     "status": "completed"
    },
    "tags": []
   },
   "outputs": [
    {
     "data": {
      "text/plain": [
       "(661201, 7)"
      ]
     },
     "execution_count": 14,
     "metadata": {},
     "output_type": "execute_result"
    }
   ],
   "source": [
    "y_cat.shape"
   ]
  },
  {
   "cell_type": "code",
   "execution_count": 15,
   "id": "c47983ac",
   "metadata": {
    "execution": {
     "iopub.execute_input": "2021-12-03T01:57:38.089133Z",
     "iopub.status.busy": "2021-12-03T01:57:38.088057Z",
     "iopub.status.idle": "2021-12-03T01:57:38.094748Z",
     "shell.execute_reply": "2021-12-03T01:57:38.094230Z",
     "shell.execute_reply.started": "2021-12-03T01:18:14.880509Z"
    },
    "papermill": {
     "duration": 0.037943,
     "end_time": "2021-12-03T01:57:38.094894",
     "exception": false,
     "start_time": "2021-12-03T01:57:38.056951",
     "status": "completed"
    },
    "tags": []
   },
   "outputs": [
    {
     "data": {
      "text/plain": [
       "(661201, 54)"
      ]
     },
     "execution_count": 15,
     "metadata": {},
     "output_type": "execute_result"
    }
   ],
   "source": [
    "x.shape"
   ]
  },
  {
   "cell_type": "code",
   "execution_count": 16,
   "id": "48966754",
   "metadata": {
    "execution": {
     "iopub.execute_input": "2021-12-03T01:57:38.153690Z",
     "iopub.status.busy": "2021-12-03T01:57:38.153044Z",
     "iopub.status.idle": "2021-12-03T01:57:38.155699Z",
     "shell.execute_reply": "2021-12-03T01:57:38.155076Z",
     "shell.execute_reply.started": "2021-12-03T01:18:14.895375Z"
    },
    "papermill": {
     "duration": 0.033072,
     "end_time": "2021-12-03T01:57:38.155838",
     "exception": false,
     "start_time": "2021-12-03T01:57:38.122766",
     "status": "completed"
    },
    "tags": []
   },
   "outputs": [],
   "source": [
    "# x_num = x.select_dtypes(include=[np.number])\n",
    "# x_cat = x.select_dtypes(include=['object'])"
   ]
  },
  {
   "cell_type": "code",
   "execution_count": 17,
   "id": "f0f5052f",
   "metadata": {
    "execution": {
     "iopub.execute_input": "2021-12-03T01:57:38.217151Z",
     "iopub.status.busy": "2021-12-03T01:57:38.216497Z",
     "iopub.status.idle": "2021-12-03T01:57:38.217891Z",
     "shell.execute_reply": "2021-12-03T01:57:38.218372Z",
     "shell.execute_reply.started": "2021-12-03T01:18:14.904379Z"
    },
    "papermill": {
     "duration": 0.035001,
     "end_time": "2021-12-03T01:57:38.218552",
     "exception": false,
     "start_time": "2021-12-03T01:57:38.183551",
     "status": "completed"
    },
    "tags": []
   },
   "outputs": [],
   "source": [
    "# x_cat"
   ]
  },
  {
   "cell_type": "code",
   "execution_count": 18,
   "id": "9b92e887",
   "metadata": {
    "execution": {
     "iopub.execute_input": "2021-12-03T01:57:38.277488Z",
     "iopub.status.busy": "2021-12-03T01:57:38.276825Z",
     "iopub.status.idle": "2021-12-03T01:57:41.220187Z",
     "shell.execute_reply": "2021-12-03T01:57:41.219673Z",
     "shell.execute_reply.started": "2021-12-03T01:18:14.915948Z"
    },
    "papermill": {
     "duration": 2.97294,
     "end_time": "2021-12-03T01:57:41.220357",
     "exception": false,
     "start_time": "2021-12-03T01:57:38.247417",
     "status": "completed"
    },
    "tags": []
   },
   "outputs": [],
   "source": [
    "from sklearn.preprocessing import LabelEncoder\n",
    "le = LabelEncoder()\n",
    "\n",
    "for i in range(1,5):\n",
    "    x[f'Wilderness_Area{i}'] = le.fit_transform(x[f'Wilderness_Area{i}'])\n",
    "    x_test[f'Wilderness_Area{i}'] = le.fit_transform(x_test[f'Wilderness_Area{i}'])\n",
    "for i in range(1,41):\n",
    "    x[f'Soil_Type{i}'] = le.fit_transform(x[f'Soil_Type{i}'])\n",
    "    x_test[f'Soil_Type{i}'] = le.fit_transform(x_test[f'Soil_Type{i}'])\n",
    "\n"
   ]
  },
  {
   "cell_type": "markdown",
   "id": "3f8dd948",
   "metadata": {
    "papermill": {
     "duration": 0.028347,
     "end_time": "2021-12-03T01:57:41.275200",
     "exception": false,
     "start_time": "2021-12-03T01:57:41.246853",
     "status": "completed"
    },
    "tags": []
   },
   "source": [
    "# Scaler transformer\n",
    "By using RobustScaler(), we can remove the outliers\n",
    "![](https://github.com/furyhawk/kaggle_practice/blob/main/images/Scalers.png?raw=true)"
   ]
  },
  {
   "cell_type": "code",
   "execution_count": null,
   "id": "872ba078",
   "metadata": {
    "papermill": {
     "duration": 0.027241,
     "end_time": "2021-12-03T01:57:41.329808",
     "exception": false,
     "start_time": "2021-12-03T01:57:41.302567",
     "status": "completed"
    },
    "tags": []
   },
   "outputs": [],
   "source": []
  },
  {
   "cell_type": "code",
   "execution_count": 19,
   "id": "edf9fe47",
   "metadata": {
    "execution": {
     "iopub.execute_input": "2021-12-03T01:57:41.387726Z",
     "iopub.status.busy": "2021-12-03T01:57:41.386982Z",
     "iopub.status.idle": "2021-12-03T01:57:41.398859Z",
     "shell.execute_reply": "2021-12-03T01:57:41.399795Z",
     "shell.execute_reply.started": "2021-12-03T01:18:16.743818Z"
    },
    "papermill": {
     "duration": 0.043932,
     "end_time": "2021-12-03T01:57:41.400206",
     "exception": false,
     "start_time": "2021-12-03T01:57:41.356274",
     "status": "completed"
    },
    "tags": []
   },
   "outputs": [],
   "source": [
    "from sklearn.preprocessing import StandardScaler, MinMaxScaler, RobustScaler\n",
    "from sklearn.pipeline import make_pipeline\n",
    "from sklearn.compose import make_column_transformer\n",
    "\n",
    "transformer_all_cols = make_pipeline(\n",
    "    RobustScaler(),\n",
    ")\n",
    "\n",
    "preprocessor = make_column_transformer(\n",
    "    (transformer_all_cols, x.columns[:]),\n",
    ")"
   ]
  },
  {
   "cell_type": "markdown",
   "id": "b8bee195",
   "metadata": {
    "papermill": {
     "duration": 0.027528,
     "end_time": "2021-12-03T01:57:41.454177",
     "exception": false,
     "start_time": "2021-12-03T01:57:41.426649",
     "status": "completed"
    },
    "tags": []
   },
   "source": [
    "# Train Model and Create Submissions #\n",
    "\n",
    "Once you're satisfied with everything, it's time to create your final predictions! This cell will:\n",
    "- use the best trained model to make predictions from the test set\n",
    "- save the predictions to a CSV file"
   ]
  },
  {
   "cell_type": "code",
   "execution_count": 20,
   "id": "3b82b98b",
   "metadata": {
    "execution": {
     "iopub.execute_input": "2021-12-03T01:57:41.516719Z",
     "iopub.status.busy": "2021-12-03T01:57:41.515984Z",
     "iopub.status.idle": "2021-12-03T01:57:41.517847Z",
     "shell.execute_reply": "2021-12-03T01:57:41.518305Z",
     "shell.execute_reply.started": "2021-12-03T01:18:16.758507Z"
    },
    "papermill": {
     "duration": 0.037319,
     "end_time": "2021-12-03T01:57:41.518501",
     "exception": false,
     "start_time": "2021-12-03T01:57:41.481182",
     "status": "completed"
    },
    "tags": []
   },
   "outputs": [],
   "source": [
    "def load_model():\n",
    "    \n",
    "    early_stopping = EarlyStopping(\n",
    "        patience=20,\n",
    "        min_delta=0,\n",
    "        monitor='val_acc',\n",
    "        restore_best_weights=True,\n",
    "        verbose=VERBOSE,\n",
    "        mode='max',\n",
    "        baseline=None,\n",
    "    )\n",
    "    plateau = ReduceLROnPlateau(\n",
    "            monitor='val_loss', \n",
    "            factor=0.2, \n",
    "            patience=7, \n",
    "            verbose=VERBOSE,\n",
    "            mode='min')\n",
    "\n",
    "# -----------------------------------------------------------------\n",
    "# Model \n",
    "\n",
    "    model = keras.Sequential([\n",
    "    layers.BatchNormalization(),\n",
    "    layers.Dense(128, activation=ACTIVATION, input_shape = [x.shape[1]]),\n",
    "    layers.Dropout(rate = 0.5),\n",
    "    layers.BatchNormalization(),\n",
    "    layers.Dense(64, activation=ACTIVATION),\n",
    "    layers.Dropout(rate = 0.5),\n",
    "    layers.BatchNormalization(),\n",
    "    layers.Dense(32, activation=ACTIVATION), \n",
    "    layers.Dropout(rate = 0.5),\n",
    "    layers.Dense(y_cat.shape[1], activation = 'softmax'),\n",
    "    ])\n",
    "\n",
    "# -----------------------------------------------------------------\n",
    "# sparse_categorical_crossentropy\n",
    "    model.compile(\n",
    "        optimizer= tf.keras.optimizers.Adam(learning_rate=LEARNING_RATE),\n",
    "        loss='categorical_crossentropy',\n",
    "        metrics=['acc'],\n",
    "    )\n",
    "    \n",
    "    return model, early_stopping, plateau"
   ]
  },
  {
   "cell_type": "markdown",
   "id": "8a97daab",
   "metadata": {
    "papermill": {
     "duration": 0.026627,
     "end_time": "2021-12-03T01:57:41.633398",
     "exception": false,
     "start_time": "2021-12-03T01:57:41.606771",
     "status": "completed"
    },
    "tags": []
   },
   "source": [
    "# Kfold"
   ]
  },
  {
   "cell_type": "code",
   "execution_count": 21,
   "id": "f4e607cf",
   "metadata": {
    "execution": {
     "iopub.execute_input": "2021-12-03T01:57:41.693155Z",
     "iopub.status.busy": "2021-12-03T01:57:41.692491Z",
     "iopub.status.idle": "2021-12-03T01:57:41.698366Z",
     "shell.execute_reply": "2021-12-03T01:57:41.698887Z",
     "shell.execute_reply.started": "2021-12-03T01:18:16.772616Z"
    },
    "papermill": {
     "duration": 0.03714,
     "end_time": "2021-12-03T01:57:41.699235",
     "exception": false,
     "start_time": "2021-12-03T01:57:41.662095",
     "status": "completed"
    },
    "tags": []
   },
   "outputs": [],
   "source": [
    "import matplotlib.pyplot as plt\n",
    "def plot_acc(history):\n",
    "    # summarize history for accuracy\n",
    "    plt.plot(history.history['acc'])\n",
    "    plt.plot(history.history['val_acc'])\n",
    "    plt.title('model accuracy')\n",
    "    plt.ylabel('acc')\n",
    "    plt.xlabel('epoch')\n",
    "    plt.legend(['train', 'test'], loc='upper left')\n",
    "    plt.show()\n",
    "    # summarize history for loss\n",
    "    plt.plot(history.history['loss'])\n",
    "    plt.plot(history.history['val_loss'])\n",
    "    plt.title('model loss')\n",
    "    plt.ylabel('loss')\n",
    "    plt.xlabel('epoch')\n",
    "    plt.legend(['train', 'test'], loc='upper left')\n",
    "    plt.show()"
   ]
  },
  {
   "cell_type": "code",
   "execution_count": 22,
   "id": "9be8b3e9",
   "metadata": {
    "execution": {
     "iopub.execute_input": "2021-12-03T01:57:41.757826Z",
     "iopub.status.busy": "2021-12-03T01:57:41.757190Z",
     "iopub.status.idle": "2021-12-03T01:57:41.761895Z",
     "shell.execute_reply": "2021-12-03T01:57:41.762339Z",
     "shell.execute_reply.started": "2021-12-03T01:18:16.790376Z"
    },
    "papermill": {
     "duration": 0.035049,
     "end_time": "2021-12-03T01:57:41.762544",
     "exception": false,
     "start_time": "2021-12-03T01:57:41.727495",
     "status": "completed"
    },
    "tags": []
   },
   "outputs": [],
   "source": [
    "from sklearn.metrics import accuracy_score, log_loss\n",
    "from sklearn.model_selection import KFold, StratifiedKFold\n",
    "from sklearn.preprocessing import StandardScaler, RobustScaler, PowerTransformer\n",
    "\n",
    "preds_valid_f = {}\n",
    "preds_test = []\n",
    "total_acc = []\n",
    "f_scores = []\n",
    "\n",
    "kf = StratifiedKFold(n_splits=FOLDS,random_state=RANDOM_STATE,shuffle=True)"
   ]
  },
  {
   "cell_type": "code",
   "execution_count": 23,
   "id": "3148f759",
   "metadata": {
    "execution": {
     "iopub.execute_input": "2021-12-03T01:57:41.826660Z",
     "iopub.status.busy": "2021-12-03T01:57:41.824636Z",
     "iopub.status.idle": "2021-12-03T03:08:18.480306Z",
     "shell.execute_reply": "2021-12-03T03:08:18.481015Z",
     "shell.execute_reply.started": "2021-12-03T01:18:16.802736Z"
    },
    "papermill": {
     "duration": 4236.692541,
     "end_time": "2021-12-03T03:08:18.482266",
     "exception": false,
     "start_time": "2021-12-03T01:57:41.789725",
     "status": "completed"
    },
    "tags": []
   },
   "outputs": [
    {
     "name": "stderr",
     "output_type": "stream",
     "text": [
      "/opt/conda/lib/python3.7/site-packages/sklearn/model_selection/_split.py:672: UserWarning: The least populated class in y has only 1 members, which is less than n_splits=5.\n",
      "  % (min_groups, self.n_splits)), UserWarning)\n",
      "\n",
      "User settings:\n",
      "\n",
      "   KMP_AFFINITY=granularity=fine,verbose,compact,1,0\n",
      "   KMP_BLOCKTIME=0\n",
      "   KMP_DUPLICATE_LIB_OK=True\n",
      "   KMP_INIT_AT_FORK=FALSE\n",
      "   KMP_SETTINGS=1\n",
      "   KMP_WARNINGS=0\n",
      "\n",
      "Effective settings:\n",
      "\n",
      "   KMP_ABORT_DELAY=0\n",
      "   KMP_ADAPTIVE_LOCK_PROPS='1,1024'\n",
      "   KMP_ALIGN_ALLOC=64\n",
      "   KMP_ALL_THREADPRIVATE=128\n",
      "   KMP_ATOMIC_MODE=2\n",
      "   KMP_BLOCKTIME=0\n",
      "   KMP_CPUINFO_FILE: value is not defined\n",
      "   KMP_DETERMINISTIC_REDUCTION=false\n",
      "   KMP_DEVICE_THREAD_LIMIT=2147483647\n",
      "   KMP_DISP_NUM_BUFFERS=7\n",
      "   KMP_DUPLICATE_LIB_OK=true\n",
      "   KMP_ENABLE_TASK_THROTTLING=true\n",
      "   KMP_FORCE_REDUCTION: value is not defined\n",
      "   KMP_FOREIGN_THREADS_THREADPRIVATE=true\n",
      "   KMP_FORKJOIN_BARRIER='2,2'\n",
      "   KMP_FORKJOIN_BARRIER_PATTERN='hyper,hyper'\n",
      "   KMP_GTID_MODE=3\n",
      "   KMP_HANDLE_SIGNALS=false\n",
      "   KMP_HOT_TEAMS_MAX_LEVEL=1\n",
      "   KMP_HOT_TEAMS_MODE=0\n",
      "   KMP_INIT_AT_FORK=true\n",
      "   KMP_LIBRARY=throughput\n",
      "   KMP_LOCK_KIND=queuing\n",
      "   KMP_MALLOC_POOL_INCR=1M\n",
      "   KMP_NUM_LOCKS_IN_BLOCK=1\n",
      "   KMP_PLAIN_BARRIER='2,2'\n",
      "   KMP_PLAIN_BARRIER_PATTERN='hyper,hyper'\n",
      "   KMP_REDUCTION_BARRIER='1,1'\n",
      "   KMP_REDUCTION_BARRIER_PATTERN='hyper,hyper'\n",
      "   KMP_SCHEDULE='static,balanced;guided,iterative'\n",
      "   KMP_SETTINGS=true\n",
      "   KMP_SPIN_BACKOFF_PARAMS='4096,100'\n",
      "   KMP_STACKOFFSET=64\n",
      "   KMP_STACKPAD=0\n",
      "   KMP_STACKSIZE=8M\n",
      "   KMP_STORAGE_MAP=false\n",
      "   KMP_TASKING=2\n",
      "   KMP_TASKLOOP_MIN_TASKS=0\n",
      "   KMP_TASK_STEALING_CONSTRAINT=1\n",
      "   KMP_TEAMS_THREAD_LIMIT=4\n",
      "   KMP_TOPOLOGY_METHOD=all\n",
      "   KMP_USE_YIELD=1\n",
      "   KMP_VERSION=false\n",
      "   KMP_WARNINGS=false\n",
      "   OMP_AFFINITY_FORMAT='OMP: pid %P tid %i thread %n bound to OS proc set {%A}'\n",
      "   OMP_ALLOCATOR=omp_default_mem_alloc\n",
      "   OMP_CANCELLATION=false\n",
      "   OMP_DEFAULT_DEVICE=0\n",
      "   OMP_DISPLAY_AFFINITY=false\n",
      "   OMP_DISPLAY_ENV=false\n",
      "   OMP_DYNAMIC=false\n",
      "   OMP_MAX_ACTIVE_LEVELS=1\n",
      "   OMP_MAX_TASK_PRIORITY=0\n",
      "   OMP_NESTED: deprecated; max-active-levels-var=1\n",
      "   OMP_NUM_THREADS: value is not defined\n",
      "   OMP_PLACES: value is not defined\n",
      "   OMP_PROC_BIND='intel'\n",
      "   OMP_SCHEDULE='static'\n",
      "   OMP_STACKSIZE=8M\n",
      "   OMP_TARGET_OFFLOAD=DEFAULT\n",
      "   OMP_THREAD_LIMIT=2147483647\n",
      "   OMP_WAIT_POLICY=PASSIVE\n",
      "   KMP_AFFINITY='verbose,warnings,respect,granularity=fine,compact,1,0'\n",
      "\n",
      "2021-12-03 01:57:45.124994: I tensorflow/core/common_runtime/process_util.cc:146] Creating new thread pool with default inter op setting: 2. Tune using inter_op_parallelism_threads for best performance.\n",
      "2021-12-03 01:57:45.367368: I tensorflow/compiler/mlir/mlir_graph_optimization_pass.cc:185] None of the MLIR Optimization Passes are enabled (registered 2)\n"
     ]
    },
    {
     "name": "stdout",
     "output_type": "stream",
     "text": [
      "Fold 0 accuracy_score: 0.9417351653420649\n",
      "Fold 1 accuracy_score: 0.9394963702359347\n",
      "Fold 2 accuracy_score: 0.942596793708409\n",
      "Fold 3 accuracy_score: 0.9421808832425892\n",
      "Fold 4 accuracy_score: 0.9397081064730792\n",
      "mean accuracy_score: 0.9411434638004155, std: 0.0012893165245315573\n"
     ]
    }
   ],
   "source": [
    "test  = test_data.copy()\n",
    "test = preprocessor.fit_transform(test)\n",
    "\n",
    "for fold,(train_index, valid_index) in enumerate(kf.split(x, y=y.Cover_Type)):\n",
    "\n",
    "    X_train, X_valid = x.iloc[train_index], x.iloc[valid_index]\n",
    "    y_train, y_valid = y_cat[train_index], y_cat[valid_index]\n",
    "\n",
    "    #   --------------------------------------------------------  \n",
    "    # Preprocessing\n",
    "    \n",
    "    index_valid  = X_valid.index.tolist()\n",
    "    \n",
    "    X_train = preprocessor.fit_transform(X_train)\n",
    "    X_valid = preprocessor.transform(X_valid)\n",
    "    \n",
    "    #  ----------------------------------------------------------    \n",
    "    # Model\n",
    "    \n",
    "    model, early_stopping, plateau  = load_model()\n",
    "\n",
    "    history = model.fit(  X_train, y_train,\n",
    "                validation_data = (X_valid, y_valid),\n",
    "                batch_size = BATCH_SIZE, \n",
    "                epochs = EPOCHS,\n",
    "                callbacks = [early_stopping, plateau],\n",
    "                shuffle = True,\n",
    "                verbose = 0\n",
    "              )\n",
    "    \n",
    "    #  ----------------------------------------------------------\n",
    "    #  oof\n",
    "    preds_valid = model.predict(X_valid, batch_size=BATCH_SIZE)\n",
    "    \n",
    "    #  ----------------------------------------------------------\n",
    "    #  test dataset predictions for submission np.argmax(, axis=1) + 1\n",
    "    preds_test.append(np.argmax(model.predict(test, batch_size=BATCH_SIZE), axis=1) + 1)\n",
    "\n",
    "    #  ----------------------------------------------------------\n",
    "    #  Saving  scores to plot the end  \n",
    "    scores = pd.DataFrame(history.history)\n",
    "    scores['folds'] = fold\n",
    "    if fold == 0:\n",
    "        f_scores = scores \n",
    "    else: \n",
    "        f_scores = pd.concat([f_scores, scores], axis  = 0)\n",
    "        \n",
    "    #  ----------------------------------------------------------\n",
    "    #  concatenating valid preds\n",
    "#     preds_valid_f.update(dict(zip(index_valid, preds_valid)))\n",
    "    \n",
    "    # Getting score for a fold model\n",
    "    fold_acc = accuracy_score(y.iloc[valid_index].Cover_Type, np.argmax(preds_valid, axis=1) + 1)\n",
    "    print(f\"Fold {fold} accuracy_score: {fold_acc}\")\n",
    "#     plot_acc(history)\n",
    "    # Total auc\n",
    "    total_acc.append(fold_acc)\n",
    "\n",
    "print(f\"mean accuracy_score: {np.mean(total_acc)}, std: {np.std(total_acc)}\")"
   ]
  },
  {
   "cell_type": "markdown",
   "id": "a1bc4fd3",
   "metadata": {
    "papermill": {
     "duration": 0.031766,
     "end_time": "2021-12-03T03:08:18.544464",
     "exception": false,
     "start_time": "2021-12-03T03:08:18.512698",
     "status": "completed"
    },
    "tags": []
   },
   "source": [
    "# accuracy"
   ]
  },
  {
   "cell_type": "code",
   "execution_count": 24,
   "id": "dbe2e3b9",
   "metadata": {
    "execution": {
     "iopub.execute_input": "2021-12-03T03:08:18.610428Z",
     "iopub.status.busy": "2021-12-03T03:08:18.609586Z",
     "iopub.status.idle": "2021-12-03T03:08:21.456206Z",
     "shell.execute_reply": "2021-12-03T03:08:21.455643Z",
     "shell.execute_reply.started": "2021-12-03T01:30:45.936736Z"
    },
    "papermill": {
     "duration": 2.88176,
     "end_time": "2021-12-03T03:08:21.456380",
     "exception": false,
     "start_time": "2021-12-03T03:08:18.574620",
     "status": "completed"
    },
    "tags": []
   },
   "outputs": [
    {
     "name": "stdout",
     "output_type": "stream",
     "text": [
      "Validation Loss: 0.1476\n",
      "Validation Loss: 0.1577\n",
      "Validation Loss: 0.1479\n",
      "Validation Loss: 0.1491\n",
      "Validation Loss: 0.1553\n"
     ]
    },
    {
     "data": {
      "image/png": "[encoded data removed]",
      "text/plain": [
       "<Figure size 1008x288 with 2 Axes>"
      ]
     },
     "metadata": {
      "needs_background": "light"
     },
     "output_type": "display_data"
    },
    {
     "data": {
      "image/png": "[encoded data removed]",
      "text/plain": [
       "<Figure size 1008x288 with 2 Axes>"
      ]
     },
     "metadata": {
      "needs_background": "light"
     },
     "output_type": "display_data"
    },
    {
     "data": {
      "image/png": "[encoded data removed]",
      "text/plain": [
       "<Figure size 1008x288 with 2 Axes>"
      ]
     },
     "metadata": {
      "needs_background": "light"
     },
     "output_type": "display_data"
    },
    {
     "data": {
      "image/png": "[encoded data removed]",
      "text/plain": [
       "<Figure size 1008x288 with 2 Axes>"
      ]
     },
     "metadata": {
      "needs_background": "light"
     },
     "output_type": "display_data"
    },
    {
     "data": {
      "image/png": "[encoded data removed]",
      "text/plain": [
       "<Figure size 1008x288 with 2 Axes>"
      ]
     },
     "metadata": {
      "needs_background": "light"
     },
     "output_type": "display_data"
    }
   ],
   "source": [
    "for fold in range(f_scores['folds'].nunique()):\n",
    "    history_f = f_scores[f_scores['folds'] == fold]\n",
    "\n",
    "    fig, ax = plt.subplots(1, 2, tight_layout=True, figsize=(14,4))\n",
    "    fig.suptitle('Fold : '+str(fold), fontsize=14)\n",
    "        \n",
    "    plt.subplot(1,2,1)\n",
    "    plt.plot(history_f.loc[:, ['loss', 'val_loss']], label= ['loss', 'val_loss'])\n",
    "    plt.legend(fontsize=15)\n",
    "    plt.grid()\n",
    "    \n",
    "    plt.subplot(1,2,2)\n",
    "    plt.plot(history_f.loc[:, ['acc', 'val_acc']],label= ['acc', 'val_acc'])\n",
    "    plt.legend(fontsize=15)\n",
    "    plt.grid()\n",
    "    \n",
    "    print(\"Validation Loss: {:0.4f}\".format(history_f['val_loss'].min()));"
   ]
  },
  {
   "cell_type": "markdown",
   "id": "154fdd6f",
   "metadata": {
    "papermill": {
     "duration": 0.035685,
     "end_time": "2021-12-03T03:08:21.530986",
     "exception": false,
     "start_time": "2021-12-03T03:08:21.495301",
     "status": "completed"
    },
    "tags": []
   },
   "source": [
    "# Submission"
   ]
  },
  {
   "cell_type": "code",
   "execution_count": 25,
   "id": "49307b2c",
   "metadata": {
    "execution": {
     "iopub.execute_input": "2021-12-03T03:08:21.611847Z",
     "iopub.status.busy": "2021-12-03T03:08:21.611110Z",
     "iopub.status.idle": "2021-12-03T03:08:48.690512Z",
     "shell.execute_reply": "2021-12-03T03:08:48.689753Z",
     "shell.execute_reply.started": "2021-12-03T01:39:51.327526Z"
    },
    "papermill": {
     "duration": 27.122918,
     "end_time": "2021-12-03T03:08:48.690680",
     "exception": false,
     "start_time": "2021-12-03T03:08:21.567762",
     "status": "completed"
    },
    "tags": []
   },
   "outputs": [
    {
     "data": {
      "text/html": [
       "<div>\n",
       "<style scoped>\n",
       "    .dataframe tbody tr th:only-of-type {\n",
       "        vertical-align: middle;\n",
       "    }\n",
       "\n",
       "    .dataframe tbody tr th {\n",
       "        vertical-align: top;\n",
       "    }\n",
       "\n",
       "    .dataframe thead th {\n",
       "        text-align: right;\n",
       "    }\n",
       "</style>\n",
       "<table border=\"1\" class=\"dataframe\">\n",
       "  <thead>\n",
       "    <tr style=\"text-align: right;\">\n",
       "      <th></th>\n",
       "      <th>Id</th>\n",
       "      <th>Cover_Type</th>\n",
       "    </tr>\n",
       "  </thead>\n",
       "  <tbody>\n",
       "    <tr>\n",
       "      <th>0</th>\n",
       "      <td>4000000</td>\n",
       "      <td>3</td>\n",
       "    </tr>\n",
       "    <tr>\n",
       "      <th>1</th>\n",
       "      <td>4000001</td>\n",
       "      <td>2</td>\n",
       "    </tr>\n",
       "    <tr>\n",
       "      <th>2</th>\n",
       "      <td>4000002</td>\n",
       "      <td>2</td>\n",
       "    </tr>\n",
       "    <tr>\n",
       "      <th>3</th>\n",
       "      <td>4000003</td>\n",
       "      <td>3</td>\n",
       "    </tr>\n",
       "    <tr>\n",
       "      <th>4</th>\n",
       "      <td>4000004</td>\n",
       "      <td>3</td>\n",
       "    </tr>\n",
       "    <tr>\n",
       "      <th>...</th>\n",
       "      <td>...</td>\n",
       "      <td>...</td>\n",
       "    </tr>\n",
       "    <tr>\n",
       "      <th>999995</th>\n",
       "      <td>4999995</td>\n",
       "      <td>2</td>\n",
       "    </tr>\n",
       "    <tr>\n",
       "      <th>999996</th>\n",
       "      <td>4999996</td>\n",
       "      <td>1</td>\n",
       "    </tr>\n",
       "    <tr>\n",
       "      <th>999997</th>\n",
       "      <td>4999997</td>\n",
       "      <td>2</td>\n",
       "    </tr>\n",
       "    <tr>\n",
       "      <th>999998</th>\n",
       "      <td>4999998</td>\n",
       "      <td>1</td>\n",
       "    </tr>\n",
       "    <tr>\n",
       "      <th>999999</th>\n",
       "      <td>4999999</td>\n",
       "      <td>3</td>\n",
       "    </tr>\n",
       "  </tbody>\n",
       "</table>\n",
       "<p>1000000 rows × 2 columns</p>\n",
       "</div>"
      ],
      "text/plain": [
       "             Id  Cover_Type\n",
       "0       4000000           3\n",
       "1       4000001           2\n",
       "2       4000002           2\n",
       "3       4000003           3\n",
       "4       4000004           3\n",
       "...         ...         ...\n",
       "999995  4999995           2\n",
       "999996  4999996           1\n",
       "999997  4999997           2\n",
       "999998  4999998           1\n",
       "999999  4999999           3\n",
       "\n",
       "[1000000 rows x 2 columns]"
      ]
     },
     "execution_count": 25,
     "metadata": {},
     "output_type": "execute_result"
    }
   ],
   "source": [
    "sub = pd.read_csv(INPUT + '/sample_submission.csv')\n",
    "sub[column_y] = (stats.mode(preds_test)[0][0]) # preds_test[FOLDS-1] # argmax reverse of to_categorical sub[column_y] = (np.argmax(sum(preds_test), axis=1) + 1)\n",
    "sub.to_csv('submission.csv', index=False)\n",
    "sub"
   ]
  },
  {
   "cell_type": "code",
   "execution_count": 26,
   "id": "fe8829bf",
   "metadata": {
    "execution": {
     "iopub.execute_input": "2021-12-03T03:08:48.769160Z",
     "iopub.status.busy": "2021-12-03T03:08:48.768094Z",
     "iopub.status.idle": "2021-12-03T03:08:48.799221Z",
     "shell.execute_reply": "2021-12-03T03:08:48.798675Z",
     "shell.execute_reply.started": "2021-12-03T01:45:27.743307Z"
    },
    "papermill": {
     "duration": 0.072798,
     "end_time": "2021-12-03T03:08:48.799379",
     "exception": false,
     "start_time": "2021-12-03T03:08:48.726581",
     "status": "completed"
    },
    "tags": []
   },
   "outputs": [
    {
     "data": {
      "text/plain": [
       "(array([1, 2, 3, 6, 7]), array([249574, 419565, 227533,   2567, 100761]))"
      ]
     },
     "execution_count": 26,
     "metadata": {},
     "output_type": "execute_result"
    }
   ],
   "source": [
    "np.unique(sub[column_y], return_counts=True)"
   ]
  },
  {
   "cell_type": "code",
   "execution_count": 27,
   "id": "06336971",
   "metadata": {
    "execution": {
     "iopub.execute_input": "2021-12-03T03:08:48.876888Z",
     "iopub.status.busy": "2021-12-03T03:08:48.876213Z",
     "iopub.status.idle": "2021-12-03T03:08:48.877908Z",
     "shell.execute_reply": "2021-12-03T03:08:48.878422Z",
     "shell.execute_reply.started": "2021-12-03T01:35:19.550254Z"
    },
    "papermill": {
     "duration": 0.042464,
     "end_time": "2021-12-03T03:08:48.878599",
     "exception": false,
     "start_time": "2021-12-03T03:08:48.836135",
     "status": "completed"
    },
    "tags": []
   },
   "outputs": [],
   "source": [
    "# sub[column_y] = (stats.mode(preds_test)[0][0])"
   ]
  },
  {
   "cell_type": "code",
   "execution_count": 28,
   "id": "854db409",
   "metadata": {
    "execution": {
     "iopub.execute_input": "2021-12-03T03:08:48.957030Z",
     "iopub.status.busy": "2021-12-03T03:08:48.956378Z",
     "iopub.status.idle": "2021-12-03T03:08:48.958772Z",
     "shell.execute_reply": "2021-12-03T03:08:48.959214Z",
     "shell.execute_reply.started": "2021-12-03T01:37:32.583972Z"
    },
    "papermill": {
     "duration": 0.044132,
     "end_time": "2021-12-03T03:08:48.959416",
     "exception": false,
     "start_time": "2021-12-03T03:08:48.915284",
     "status": "completed"
    },
    "tags": []
   },
   "outputs": [],
   "source": [
    "# np.array(preds_test).shape"
   ]
  },
  {
   "cell_type": "code",
   "execution_count": 29,
   "id": "0d168caa",
   "metadata": {
    "execution": {
     "iopub.execute_input": "2021-12-03T03:08:49.037081Z",
     "iopub.status.busy": "2021-12-03T03:08:49.036424Z",
     "iopub.status.idle": "2021-12-03T03:08:49.039437Z",
     "shell.execute_reply": "2021-12-03T03:08:49.039910Z",
     "shell.execute_reply.started": "2021-12-03T01:38:46.578111Z"
    },
    "papermill": {
     "duration": 0.044217,
     "end_time": "2021-12-03T03:08:49.040092",
     "exception": false,
     "start_time": "2021-12-03T03:08:48.995875",
     "status": "completed"
    },
    "tags": []
   },
   "outputs": [],
   "source": [
    "# np.unique(preds_test, return_counts=True)"
   ]
  },
  {
   "cell_type": "code",
   "execution_count": 30,
   "id": "2054c1d9",
   "metadata": {
    "execution": {
     "iopub.execute_input": "2021-12-03T03:08:49.118952Z",
     "iopub.status.busy": "2021-12-03T03:08:49.118281Z",
     "iopub.status.idle": "2021-12-03T03:08:49.342121Z",
     "shell.execute_reply": "2021-12-03T03:08:49.341240Z",
     "shell.execute_reply.started": "2021-12-03T01:30:49.095481Z"
    },
    "papermill": {
     "duration": 0.263352,
     "end_time": "2021-12-03T03:08:49.342273",
     "exception": false,
     "start_time": "2021-12-03T03:08:49.078921",
     "status": "completed"
    },
    "tags": []
   },
   "outputs": [
    {
     "data": {
      "image/png": "[encoded data removed]",
      "text/plain": [
       "<Figure size 720x216 with 1 Axes>"
      ]
     },
     "metadata": {
      "needs_background": "light"
     },
     "output_type": "display_data"
    }
   ],
   "source": [
    "from matplotlib.ticker import MaxNLocator, FormatStrFormatter, PercentFormatter\n",
    "\n",
    "# Plot the distribution of the training set target\n",
    "plt.figure(figsize=(10,3))\n",
    "plt.hist(y['Cover_Type'], bins=np.linspace(0.5, 7.5, 8), density=True)\n",
    "plt.xlabel('Training set target')\n",
    "plt.ylabel('Density')\n",
    "plt.gca().yaxis.set_major_formatter(PercentFormatter())\n",
    "plt.show()"
   ]
  },
  {
   "cell_type": "code",
   "execution_count": 31,
   "id": "23cb3979",
   "metadata": {
    "execution": {
     "iopub.execute_input": "2021-12-03T03:08:49.422124Z",
     "iopub.status.busy": "2021-12-03T03:08:49.421319Z",
     "iopub.status.idle": "2021-12-03T03:08:49.648885Z",
     "shell.execute_reply": "2021-12-03T03:08:49.649458Z",
     "shell.execute_reply.started": "2021-12-03T01:40:27.522867Z"
    },
    "papermill": {
     "duration": 0.269172,
     "end_time": "2021-12-03T03:08:49.649633",
     "exception": false,
     "start_time": "2021-12-03T03:08:49.380461",
     "status": "completed"
    },
    "tags": []
   },
   "outputs": [
    {
     "data": {
      "image/png": "[encoded data removed]",
      "text/plain": [
       "<Figure size 720x216 with 1 Axes>"
      ]
     },
     "metadata": {
      "needs_background": "light"
     },
     "output_type": "display_data"
    }
   ],
   "source": [
    "# Plot the distribution of the test predictions\n",
    "plt.figure(figsize=(10,3))\n",
    "plt.hist(sub['Cover_Type'], bins=np.linspace(0.5, 7.5, 8), density=True)\n",
    "plt.xlabel('Test predictions')\n",
    "plt.ylabel('Density')\n",
    "plt.gca().yaxis.set_major_formatter(PercentFormatter())\n",
    "plt.show()"
   ]
  },
  {
   "cell_type": "markdown",
   "id": "57e90404",
   "metadata": {
    "papermill": {
     "duration": 0.036781,
     "end_time": "2021-12-03T03:08:49.724043",
     "exception": false,
     "start_time": "2021-12-03T03:08:49.687262",
     "status": "completed"
    },
    "tags": []
   },
   "source": [
    "To submit these predictions to the competition, follow these steps:\n",
    "\n",
    "1. Begin by clicking on the blue **Save Version** button in the top right corner of the window.  This will generate a pop-up window.\n",
    "2. Ensure that the **Save and Run All** option is selected, and then click on the blue **Save** button.\n",
    "3. This generates a window in the bottom left corner of the notebook.  After it has finished running, click on the number to the right of the **Save Version** button.  This pulls up a list of versions on the right of the screen.  Click on the ellipsis **(...)** to the right of the most recent version, and select **Open in Viewer**.  This brings you into view mode of the same page. You will need to scroll down to get back to these instructions.\n",
    "4. Click on the **Output** tab on the right of the screen.  Then, click on the file you would like to submit, and click on the blue **Submit** button to submit your results to the leaderboard.\n",
    "\n",
    "You have now successfully submitted to the competition!\n",
    "\n",
    "# Next Steps #\n",
    "\n",
    "If you want to keep working to improve your performance, select the blue **Edit** button in the top right of the screen. Then you can change your code and repeat the process. There's a lot of room to improve, and you will climb up the leaderboard as you work.\n",
    "\n",
    "Be sure to check out [other users' notebooks](https://www.kaggle.com/c/house-prices-advanced-regression-techniques/notebooks) in this competition. You'll find lots of great ideas for new features and as well as other ways to discover more things about the dataset or make better predictions. There's also the [discussion forum](https://www.kaggle.com/c/house-prices-advanced-regression-techniques/discussion), where you can share ideas with other Kagglers.\n",
    "\n",
    "Have fun Kaggling!"
   ]
  },
  {
   "cell_type": "code",
   "execution_count": null,
   "id": "5d783afb",
   "metadata": {
    "papermill": {
     "duration": 0.036967,
     "end_time": "2021-12-03T03:08:49.798469",
     "exception": false,
     "start_time": "2021-12-03T03:08:49.761502",
     "status": "completed"
    },
    "tags": []
   },
   "outputs": [],
   "source": []
  }
 ],
 "metadata": {
  "kernelspec": {
   "display_name": "Python 3",
   "language": "python",
   "name": "python3"
  },
  "language_info": {
   "codemirror_mode": {
    "name": "ipython",
    "version": 3
   },
   "file_extension": ".py",
   "mimetype": "text/x-python",
   "name": "python",
   "nbconvert_exporter": "python",
   "pygments_lexer": "ipython3",
   "version": "3.7.10"
  },
  "papermill": {
   "default_parameters": {},
   "duration": 4320.53698,
   "end_time": "2021-12-03T03:08:52.629836",
   "environment_variables": {},
   "exception": null,
   "input_path": "__notebook__.ipynb",
   "output_path": "__notebook__.ipynb",
   "parameters": {},
   "start_time": "2021-12-03T01:56:52.092856",
   "version": "2.3.3"
  }
 },
 "nbformat": 4,
 "nbformat_minor": 5
}
