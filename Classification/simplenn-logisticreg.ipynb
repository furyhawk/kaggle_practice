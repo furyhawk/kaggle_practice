{
 "cells": [
  {
   "cell_type": "markdown",
   "id": "a5bb7c44",
   "metadata": {
    "papermill": {
     "duration": 0.035099,
     "end_time": "2021-12-04T00:08:47.251386",
     "exception": false,
     "start_time": "2021-12-04T00:08:47.216287",
     "status": "completed"
    },
    "tags": []
   },
   "source": [
    "# Welcome and have fun learning Logistic Regession with plug and play Neural Network\n",
    "### There are alot of category features in the dataset. Lets forget about feature engineering and just brute force NN for now.\n",
    "<blockquote style=\"margin-right:auto; margin-left:auto; padding: 1em; margin:24px;\">\n",
    "    <strong>Fork This Notebook!</strong><br>\n",
    "Create your own editable copy of this notebook by clicking on the <strong>Copy and Edit</strong> button in the top right corner.\n",
    "</blockquote>\n",
    "\n",
    "## Imports and Configuration ##"
   ]
  },
  {
   "cell_type": "code",
   "execution_count": 1,
   "id": "6195c906",
   "metadata": {
    "_cell_guid": "b1076dfc-b9ad-4769-8c92-a6c4dae69d19",
    "_uuid": "8f2839f25d086af736a60e9eeb907d3b93b6e0e5",
    "execution": {
     "iopub.execute_input": "2021-12-04T00:08:47.321069Z",
     "iopub.status.busy": "2021-12-04T00:08:47.319241Z",
     "iopub.status.idle": "2021-12-04T00:08:54.740613Z",
     "shell.execute_reply": "2021-12-04T00:08:54.741158Z",
     "shell.execute_reply.started": "2021-12-03T15:37:01.551916Z"
    },
    "papermill": {
     "duration": 7.457867,
     "end_time": "2021-12-04T00:08:54.741476",
     "exception": false,
     "start_time": "2021-12-04T00:08:47.283609",
     "status": "completed"
    },
    "tags": []
   },
   "outputs": [
    {
     "name": "stdout",
     "output_type": "stream",
     "text": [
      "/kaggle/input/tabular-playground-series-dec-2021/sample_submission.csv\n",
      "/kaggle/input/tabular-playground-series-dec-2021/train.csv\n",
      "/kaggle/input/tabular-playground-series-dec-2021/test.csv\n"
     ]
    }
   ],
   "source": [
    "# This Python 3 environment comes with many helpful analytics libraries installed\n",
    "# It is defined by the kaggle/python Docker image: https://github.com/kaggle/docker-python\n",
    "# For example, here's several helpful packages to load\n",
    "\n",
    "from scipy import stats\n",
    "import numpy as np # linear algebra\n",
    "import pandas as pd # data processing, CSV file I/O (e.g. pd.read_csv)\n",
    "import matplotlib.pyplot as plt\n",
    "import seaborn as sns\n",
    "from imblearn.over_sampling import RandomOverSampler\n",
    "from imblearn.under_sampling import RandomUnderSampler, TomekLinks\n",
    "import keras\n",
    "import tensorflow as tf\n",
    "from tensorflow.keras import layers\n",
    "from tensorflow.keras.callbacks import EarlyStopping, ReduceLROnPlateau\n",
    "# Set Matplotlib defaults\n",
    "plt.style.use(\"seaborn-whitegrid\")\n",
    "plt.rc(\"figure\", autolayout=True)\n",
    "plt.rc(\n",
    "    \"axes\",\n",
    "    labelweight=\"bold\",\n",
    "    labelsize=\"large\",\n",
    "    titleweight=\"bold\",\n",
    "    titlesize=14,\n",
    "    titlepad=10,\n",
    ")\n",
    "# Input data files are available in the read-only \"../input/\" directory\n",
    "# For example, running this (by clicking run or pressing Shift+Enter) will list all files under the input directory\n",
    "import gc\n",
    "import os\n",
    "for dirname, _, filenames in os.walk('/kaggle/input'):\n",
    "    for filename in filenames:\n",
    "        print(os.path.join(dirname, filename))\n",
    "\n",
    "# You can write up to 20GB to the current directory (/kaggle/working/) that gets preserved as output when you create a version using \"Save & Run All\" \n",
    "# You can also write temporary files to /kaggle/temp/, but they won't be saved outside of the current session"
   ]
  },
  {
   "cell_type": "code",
   "execution_count": 2,
   "id": "30abd2ab",
   "metadata": {
    "execution": {
     "iopub.execute_input": "2021-12-04T00:08:54.809469Z",
     "iopub.status.busy": "2021-12-04T00:08:54.808427Z",
     "iopub.status.idle": "2021-12-04T00:08:54.813974Z",
     "shell.execute_reply": "2021-12-04T00:08:54.814500Z",
     "shell.execute_reply.started": "2021-12-03T15:20:24.864696Z"
    },
    "papermill": {
     "duration": 0.041253,
     "end_time": "2021-12-04T00:08:54.814698",
     "exception": false,
     "start_time": "2021-12-04T00:08:54.773445",
     "status": "completed"
    },
    "tags": []
   },
   "outputs": [],
   "source": [
    "# -----------------------------------------------------------------\n",
    "# Some parameters to config \n",
    "\n",
    "EPOCHS = 362\n",
    "BATCH_SIZE = 2048 # large enough to fit RAM\n",
    "ACTIVATION = 'swish'\n",
    "LEARNING_RATE = 0.000265713 # Optimal lr is about half the maximum lr\n",
    "FOLDS = 5\n",
    "\n",
    "# The dataset is too huge for free contrainer. Sampling it for more fun!\n",
    "VALIDATION_SPLIT = 0.005 # Only used to min dataset for quick test\n",
    "SAMPLE = 395712 # [1468136, 2262087, 195712, 377, 1, 11426, 62261]  # 4000000 total rows\n",
    "MAX_TRIAL = 3 # speed trial any% Not used here\n",
    "\n",
    "RANDOM_STATE = 42\n",
    "VERBOSE = 0\n",
    "\n",
    "# Admin\n",
    "ID = \"Id\" # Id id x X index\n",
    "INPUT = \"../input/tabular-playground-series-dec-2021\""
   ]
  },
  {
   "cell_type": "markdown",
   "id": "08b76f47",
   "metadata": {
    "papermill": {
     "duration": 0.032004,
     "end_time": "2021-12-04T00:08:54.878802",
     "exception": false,
     "start_time": "2021-12-04T00:08:54.846798",
     "status": "completed"
    },
    "tags": []
   },
   "source": [
    "## Data Preprocessing ##\n",
    "\n",
    "Before we can do any feature engineering, we need to *preprocess* the data to get it in a form suitable for analysis. We'll need to:\n",
    "- **Load** the data from CSV files\n",
    "- **Clean** the data to fix any errors or inconsistencies\n",
    "- **Encode** the statistical data type (numeric, categorical)\n",
    "- **Impute** any missing values\n",
    "\n",
    "We'll wrap all these steps up in a function, which will make easy for you to get a fresh dataframe whenever you need. After reading the CSV file, we'll apply three preprocessing steps, `clean`, `encode`, and `impute`, and then create the data splits: one (`df_train`) for training the model, and one (`df_test`) for making the predictions that you'll submit to the competition for scoring on the leaderboard."
   ]
  },
  {
   "cell_type": "code",
   "execution_count": 3,
   "id": "e7441e18",
   "metadata": {
    "execution": {
     "iopub.execute_input": "2021-12-04T00:08:54.945359Z",
     "iopub.status.busy": "2021-12-04T00:08:54.944715Z",
     "iopub.status.idle": "2021-12-04T00:08:54.950211Z",
     "shell.execute_reply": "2021-12-04T00:08:54.950799Z",
     "shell.execute_reply.started": "2021-12-03T15:20:24.877203Z"
    },
    "papermill": {
     "duration": 0.040667,
     "end_time": "2021-12-04T00:08:54.951025",
     "exception": false,
     "start_time": "2021-12-04T00:08:54.910358",
     "status": "completed"
    },
    "tags": []
   },
   "outputs": [],
   "source": [
    "from pathlib import Path\n",
    "def load_data():\n",
    "    # Read data\n",
    "    data_dir = Path(INPUT)\n",
    "    df_train = pd.read_csv(data_dir / \"train.csv\", index_col=ID)\n",
    "    df_test = pd.read_csv(data_dir / \"test.csv\", index_col=ID)\n",
    "    # Merge the splits so we can process them together\n",
    "    df = pd.concat([df_train, df_test])\n",
    "    # Preprocessing\n",
    "#     df = clean(df)\n",
    "#     df = encode(df)\n",
    "#     df = impute(df)\n",
    "    df_train = impute(df_train)\n",
    "    df_test = impute(df_test)\n",
    "    # Reform splits\n",
    "#     df_train = df.loc[df_train.index, :]\n",
    "#     df_test = df.loc[df_test.index, :]\n",
    "    return df_train, df_test"
   ]
  },
  {
   "cell_type": "markdown",
   "id": "2394b9da",
   "metadata": {
    "papermill": {
     "duration": 0.033746,
     "end_time": "2021-12-04T00:08:55.019473",
     "exception": false,
     "start_time": "2021-12-04T00:08:54.985727",
     "status": "completed"
    },
    "tags": []
   },
   "source": [
    "### Handle Missing Values ###\n",
    "\n",
    "Handling missing values now will make the feature engineering go more smoothly. We'll impute `0` for missing numeric values and `\"None\"` for missing categorical values. You might like to experiment with other imputation strategies. In particular, you could try creating \"missing value\" indicators: `1` whenever a value was imputed and `0` otherwise."
   ]
  },
  {
   "cell_type": "code",
   "execution_count": 4,
   "id": "e6476d3a",
   "metadata": {
    "execution": {
     "iopub.execute_input": "2021-12-04T00:08:55.086315Z",
     "iopub.status.busy": "2021-12-04T00:08:55.085710Z",
     "iopub.status.idle": "2021-12-04T00:08:55.090140Z",
     "shell.execute_reply": "2021-12-04T00:08:55.090666Z",
     "shell.execute_reply.started": "2021-12-03T15:20:24.890633Z"
    },
    "papermill": {
     "duration": 0.039672,
     "end_time": "2021-12-04T00:08:55.090825",
     "exception": false,
     "start_time": "2021-12-04T00:08:55.051153",
     "status": "completed"
    },
    "tags": []
   },
   "outputs": [],
   "source": [
    "def impute(df):\n",
    "    for name in df.select_dtypes(\"number\"):\n",
    "        df[name] = df[name].fillna(0)\n",
    "    for name in df.select_dtypes(\"category\"):\n",
    "        df[name] = df[name].fillna(\"None\")\n",
    "    return df"
   ]
  },
  {
   "cell_type": "markdown",
   "id": "d90f7328",
   "metadata": {
    "papermill": {
     "duration": 0.031096,
     "end_time": "2021-12-04T00:08:55.153380",
     "exception": false,
     "start_time": "2021-12-04T00:08:55.122284",
     "status": "completed"
    },
    "tags": []
   },
   "source": [
    "## Load Data ##\n",
    "\n",
    "And now we can call the data loader and get the processed data splits:"
   ]
  },
  {
   "cell_type": "code",
   "execution_count": 5,
   "id": "5d163696",
   "metadata": {
    "execution": {
     "iopub.execute_input": "2021-12-04T00:08:55.219467Z",
     "iopub.status.busy": "2021-12-04T00:08:55.218758Z",
     "iopub.status.idle": "2021-12-04T00:09:22.076601Z",
     "shell.execute_reply": "2021-12-04T00:09:22.075822Z",
     "shell.execute_reply.started": "2021-12-03T15:20:24.903898Z"
    },
    "papermill": {
     "duration": 26.891967,
     "end_time": "2021-12-04T00:09:22.076761",
     "exception": false,
     "start_time": "2021-12-04T00:08:55.184794",
     "status": "completed"
    },
    "tags": []
   },
   "outputs": [
    {
     "name": "stderr",
     "output_type": "stream",
     "text": [
      "/opt/conda/lib/python3.7/site-packages/numpy/lib/arraysetops.py:580: FutureWarning: elementwise comparison failed; returning scalar instead, but in the future will perform elementwise comparison\n",
      "  mask |= (ar1 == a)\n"
     ]
    }
   ],
   "source": [
    "train_data, test_data = load_data()"
   ]
  },
  {
   "cell_type": "code",
   "execution_count": 6,
   "id": "528e2f39",
   "metadata": {
    "execution": {
     "iopub.execute_input": "2021-12-04T00:09:22.148211Z",
     "iopub.status.busy": "2021-12-04T00:09:22.147491Z",
     "iopub.status.idle": "2021-12-04T00:09:22.656156Z",
     "shell.execute_reply": "2021-12-04T00:09:22.655476Z",
     "shell.execute_reply.started": "2021-12-03T15:20:40.265679Z"
    },
    "papermill": {
     "duration": 0.545905,
     "end_time": "2021-12-04T00:09:22.656306",
     "exception": false,
     "start_time": "2021-12-04T00:09:22.110401",
     "status": "completed"
    },
    "tags": []
   },
   "outputs": [],
   "source": [
    "column_y = train_data.columns.difference(test_data.columns)[0]\n",
    "x = train_data.drop(columns=column_y)\n",
    "y = train_data[[column_y]]\n",
    "\n",
    "x_test = test_data.iloc[:,:]"
   ]
  },
  {
   "cell_type": "markdown",
   "id": "e3cc6a79",
   "metadata": {
    "papermill": {
     "duration": 0.032282,
     "end_time": "2021-12-04T00:09:22.720753",
     "exception": false,
     "start_time": "2021-12-04T00:09:22.688471",
     "status": "completed"
    },
    "tags": []
   },
   "source": [
    "## For quick test\n",
    "y\n",
    "\n",
    "(array([1, 2, 3, 4, 5, 6, 7]),\n",
    " \n",
    " array([1468136, 2262087,  195712,     377,       1,   11426,   62261]))\n",
    " \n",
    "TomekLinks\n",
    "(array([1, 2, 3, 4, 5, 6, 7]),\n",
    "\n",
    " array([1390684, 2169226,  155218,     218,       1,    7627,   38757]))"
   ]
  },
  {
   "cell_type": "code",
   "execution_count": 7,
   "id": "4fd90207",
   "metadata": {
    "execution": {
     "iopub.execute_input": "2021-12-04T00:09:22.790468Z",
     "iopub.status.busy": "2021-12-04T00:09:22.789759Z",
     "iopub.status.idle": "2021-12-04T00:09:23.052999Z",
     "shell.execute_reply": "2021-12-04T00:09:23.053910Z",
     "shell.execute_reply.started": "2021-12-03T15:20:40.775746Z"
    },
    "papermill": {
     "duration": 0.301221,
     "end_time": "2021-12-04T00:09:23.054213",
     "exception": false,
     "start_time": "2021-12-04T00:09:22.752992",
     "status": "completed"
    },
    "tags": []
   },
   "outputs": [
    {
     "name": "stdout",
     "output_type": "stream",
     "text": [
      "Series([], dtype: int64)\n"
     ]
    }
   ],
   "source": [
    "# Check NA\n",
    "missing_val = x.isnull().sum()\n",
    "print(missing_val[missing_val > 0])\n",
    "\n",
    "from sklearn.model_selection import train_test_split \n",
    "# For small testing batch\n",
    "# x, x_val, y, y_val = train_test_split(x, y, train_size = VALIDATION_SPLIT, random_state = RANDOM_STATE)\n",
    "# x = x.sample(n=SAMPLE, random_state=RANDOM_STATE)\n",
    "# y = y.sample(n=SAMPLE, random_state=RANDOM_STATE)\n",
    "# x_test = x_test.sample(n=SAMPLE, random_state=RANDOM_STATE)\n",
    "\n",
    "# undersample = TomekLinks(sampling_strategy='auto') #, random_state=RANDOM_STATE not minority RandomUnderSampler\n",
    "# X_under, y_under = undersample.fit_resample(x, y)"
   ]
  },
  {
   "cell_type": "markdown",
   "id": "d2fefc18",
   "metadata": {
    "papermill": {
     "duration": 0.03208,
     "end_time": "2021-12-04T00:09:23.119279",
     "exception": false,
     "start_time": "2021-12-04T00:09:23.087199",
     "status": "completed"
    },
    "tags": []
   },
   "source": [
    "# Undersampling"
   ]
  },
  {
   "cell_type": "code",
   "execution_count": 8,
   "id": "fc2041d1",
   "metadata": {
    "execution": {
     "iopub.execute_input": "2021-12-04T00:09:23.188786Z",
     "iopub.status.busy": "2021-12-04T00:09:23.187729Z",
     "iopub.status.idle": "2021-12-04T00:09:23.190079Z",
     "shell.execute_reply": "2021-12-04T00:09:23.190529Z",
     "shell.execute_reply.started": "2021-12-03T15:20:41.037409Z"
    },
    "papermill": {
     "duration": 0.039235,
     "end_time": "2021-12-04T00:09:23.190715",
     "exception": false,
     "start_time": "2021-12-04T00:09:23.151480",
     "status": "completed"
    },
    "tags": []
   },
   "outputs": [],
   "source": [
    "# small_sampling = train_data.groupby(column_y).apply(lambda s: s.sample(min(len(s), 5)))"
   ]
  },
  {
   "cell_type": "code",
   "execution_count": 9,
   "id": "6475d305",
   "metadata": {
    "execution": {
     "iopub.execute_input": "2021-12-04T00:09:23.259930Z",
     "iopub.status.busy": "2021-12-04T00:09:23.258917Z",
     "iopub.status.idle": "2021-12-04T00:09:23.364933Z",
     "shell.execute_reply": "2021-12-04T00:09:23.364310Z",
     "shell.execute_reply.started": "2021-12-03T15:20:41.043305Z"
    },
    "papermill": {
     "duration": 0.141927,
     "end_time": "2021-12-04T00:09:23.365091",
     "exception": false,
     "start_time": "2021-12-04T00:09:23.223164",
     "status": "completed"
    },
    "tags": []
   },
   "outputs": [],
   "source": [
    "sampling_key, sampling_count = np.unique(y, return_counts=True)\n",
    "sampling_count[sampling_count > SAMPLE] = SAMPLE\n",
    "zip_iterator = zip(sampling_key, sampling_count)\n",
    "sampling_params = dict(zip_iterator)"
   ]
  },
  {
   "cell_type": "code",
   "execution_count": 10,
   "id": "dc6e6b80",
   "metadata": {
    "execution": {
     "iopub.execute_input": "2021-12-04T00:09:23.438540Z",
     "iopub.status.busy": "2021-12-04T00:09:23.436470Z",
     "iopub.status.idle": "2021-12-04T00:09:26.858580Z",
     "shell.execute_reply": "2021-12-04T00:09:26.857960Z",
     "shell.execute_reply.started": "2021-12-03T15:20:41.161156Z"
    },
    "papermill": {
     "duration": 3.461276,
     "end_time": "2021-12-04T00:09:26.858725",
     "exception": false,
     "start_time": "2021-12-04T00:09:23.397449",
     "status": "completed"
    },
    "tags": []
   },
   "outputs": [],
   "source": [
    "#, random_state=RANDOM_STATE not minority RandomUnderSampler\n",
    "undersample = RandomUnderSampler(\n",
    "    sampling_strategy=sampling_params, random_state=RANDOM_STATE)\n",
    "\n",
    "x, y = undersample.fit_resample(x, y)"
   ]
  },
  {
   "cell_type": "code",
   "execution_count": 11,
   "id": "fdd0a916",
   "metadata": {
    "execution": {
     "iopub.execute_input": "2021-12-04T00:09:26.927190Z",
     "iopub.status.busy": "2021-12-04T00:09:26.926479Z",
     "iopub.status.idle": "2021-12-04T00:09:26.950837Z",
     "shell.execute_reply": "2021-12-04T00:09:26.950166Z",
     "shell.execute_reply.started": "2021-12-03T15:20:42.703022Z"
    },
    "papermill": {
     "duration": 0.059691,
     "end_time": "2021-12-04T00:09:26.950978",
     "exception": false,
     "start_time": "2021-12-04T00:09:26.891287",
     "status": "completed"
    },
    "tags": []
   },
   "outputs": [
    {
     "data": {
      "text/plain": [
       "(array([1, 2, 3, 4, 5, 6, 7]),\n",
       " array([395712, 395712, 195712,    377,      1,  11426,  62261]))"
      ]
     },
     "execution_count": 11,
     "metadata": {},
     "output_type": "execute_result"
    }
   ],
   "source": [
    "np.unique(y, return_counts=True)"
   ]
  },
  {
   "cell_type": "markdown",
   "id": "decb6504",
   "metadata": {
    "papermill": {
     "duration": 0.033592,
     "end_time": "2021-12-04T00:09:27.018249",
     "exception": false,
     "start_time": "2021-12-04T00:09:26.984657",
     "status": "completed"
    },
    "tags": []
   },
   "source": [
    "y to categorical"
   ]
  },
  {
   "cell_type": "code",
   "execution_count": 12,
   "id": "64ebf4b8",
   "metadata": {
    "execution": {
     "iopub.execute_input": "2021-12-04T00:09:27.090665Z",
     "iopub.status.busy": "2021-12-04T00:09:27.089985Z",
     "iopub.status.idle": "2021-12-04T00:09:27.112849Z",
     "shell.execute_reply": "2021-12-04T00:09:27.112259Z",
     "shell.execute_reply.started": "2021-12-03T15:20:42.711864Z"
    },
    "papermill": {
     "duration": 0.062367,
     "end_time": "2021-12-04T00:09:27.113150",
     "exception": false,
     "start_time": "2021-12-04T00:09:27.050783",
     "status": "completed"
    },
    "tags": []
   },
   "outputs": [],
   "source": [
    "# Prepare for multiclass classification\n",
    "y_cat = tf.keras.utils.to_categorical(y - 1)"
   ]
  },
  {
   "cell_type": "code",
   "execution_count": 13,
   "id": "7b0818f5",
   "metadata": {
    "execution": {
     "iopub.execute_input": "2021-12-04T00:09:27.183102Z",
     "iopub.status.busy": "2021-12-04T00:09:27.182438Z",
     "iopub.status.idle": "2021-12-04T00:09:27.186855Z",
     "shell.execute_reply": "2021-12-04T00:09:27.187438Z",
     "shell.execute_reply.started": "2021-12-03T15:20:42.721964Z"
    },
    "papermill": {
     "duration": 0.041254,
     "end_time": "2021-12-04T00:09:27.187623",
     "exception": false,
     "start_time": "2021-12-04T00:09:27.146369",
     "status": "completed"
    },
    "tags": []
   },
   "outputs": [
    {
     "data": {
      "text/plain": [
       "(1061201, 1)"
      ]
     },
     "execution_count": 13,
     "metadata": {},
     "output_type": "execute_result"
    }
   ],
   "source": [
    "y.shape"
   ]
  },
  {
   "cell_type": "code",
   "execution_count": 14,
   "id": "ff3b5ca1",
   "metadata": {
    "execution": {
     "iopub.execute_input": "2021-12-04T00:09:27.256894Z",
     "iopub.status.busy": "2021-12-04T00:09:27.256245Z",
     "iopub.status.idle": "2021-12-04T00:09:27.260602Z",
     "shell.execute_reply": "2021-12-04T00:09:27.261124Z",
     "shell.execute_reply.started": "2021-12-03T15:20:42.731565Z"
    },
    "papermill": {
     "duration": 0.040522,
     "end_time": "2021-12-04T00:09:27.261289",
     "exception": false,
     "start_time": "2021-12-04T00:09:27.220767",
     "status": "completed"
    },
    "tags": []
   },
   "outputs": [
    {
     "data": {
      "text/plain": [
       "(1061201, 7)"
      ]
     },
     "execution_count": 14,
     "metadata": {},
     "output_type": "execute_result"
    }
   ],
   "source": [
    "y_cat.shape"
   ]
  },
  {
   "cell_type": "code",
   "execution_count": 15,
   "id": "493b48eb",
   "metadata": {
    "execution": {
     "iopub.execute_input": "2021-12-04T00:09:27.331417Z",
     "iopub.status.busy": "2021-12-04T00:09:27.330798Z",
     "iopub.status.idle": "2021-12-04T00:09:27.333543Z",
     "shell.execute_reply": "2021-12-04T00:09:27.334157Z",
     "shell.execute_reply.started": "2021-12-03T15:20:42.752375Z"
    },
    "papermill": {
     "duration": 0.039742,
     "end_time": "2021-12-04T00:09:27.334327",
     "exception": false,
     "start_time": "2021-12-04T00:09:27.294585",
     "status": "completed"
    },
    "tags": []
   },
   "outputs": [],
   "source": [
    "# x_num = x.select_dtypes(include=[np.number])\n",
    "# x_cat = x.select_dtypes(include=['object'])"
   ]
  },
  {
   "cell_type": "code",
   "execution_count": 16,
   "id": "d314585d",
   "metadata": {
    "execution": {
     "iopub.execute_input": "2021-12-04T00:09:27.404018Z",
     "iopub.status.busy": "2021-12-04T00:09:27.403381Z",
     "iopub.status.idle": "2021-12-04T00:09:27.406483Z",
     "shell.execute_reply": "2021-12-04T00:09:27.407018Z",
     "shell.execute_reply.started": "2021-12-03T15:20:42.762346Z"
    },
    "papermill": {
     "duration": 0.039599,
     "end_time": "2021-12-04T00:09:27.407194",
     "exception": false,
     "start_time": "2021-12-04T00:09:27.367595",
     "status": "completed"
    },
    "tags": []
   },
   "outputs": [],
   "source": [
    "# from sklearn.preprocessing import LabelEncoder\n",
    "# le = LabelEncoder()\n",
    "\n",
    "# for i in range(1,5):\n",
    "#     x[f'Wilderness_Area{i}'] = le.fit_transform(x[f'Wilderness_Area{i}'])\n",
    "#     x_test[f'Wilderness_Area{i}'] = le.fit_transform(x_test[f'Wilderness_Area{i}'])\n",
    "# for i in range(1,41):\n",
    "#     x[f'Soil_Type{i}'] = le.fit_transform(x[f'Soil_Type{i}'])\n",
    "#     x_test[f'Soil_Type{i}'] = le.fit_transform(x_test[f'Soil_Type{i}'])\n",
    "\n"
   ]
  },
  {
   "cell_type": "markdown",
   "id": "6ed49aaf",
   "metadata": {
    "papermill": {
     "duration": 0.033322,
     "end_time": "2021-12-04T00:09:27.474852",
     "exception": false,
     "start_time": "2021-12-04T00:09:27.441530",
     "status": "completed"
    },
    "tags": []
   },
   "source": [
    "# Scaler transformer\n",
    "By using RobustScaler(), we can remove the outliers\n",
    "![](https://github.com/furyhawk/kaggle_practice/blob/main/images/Scalers.png?raw=true)"
   ]
  },
  {
   "cell_type": "code",
   "execution_count": 17,
   "id": "5c50ee29",
   "metadata": {
    "execution": {
     "iopub.execute_input": "2021-12-04T00:09:27.548364Z",
     "iopub.status.busy": "2021-12-04T00:09:27.547681Z",
     "iopub.status.idle": "2021-12-04T00:09:27.555586Z",
     "shell.execute_reply": "2021-12-04T00:09:27.556066Z",
     "shell.execute_reply.started": "2021-12-03T15:20:42.773503Z"
    },
    "papermill": {
     "duration": 0.047812,
     "end_time": "2021-12-04T00:09:27.556266",
     "exception": false,
     "start_time": "2021-12-04T00:09:27.508454",
     "status": "completed"
    },
    "tags": []
   },
   "outputs": [],
   "source": [
    "from sklearn.preprocessing import StandardScaler, MinMaxScaler, RobustScaler\n",
    "from sklearn.pipeline import make_pipeline\n",
    "from sklearn.compose import make_column_transformer\n",
    "\n",
    "transformer_all_cols = make_pipeline(\n",
    "#     RobustScaler(),\n",
    "    StandardScaler(),\n",
    "    MinMaxScaler(feature_range=(0, 1))\n",
    ")\n",
    "\n",
    "preprocessor = make_column_transformer(\n",
    "    (transformer_all_cols, x.columns[:]),\n",
    ")"
   ]
  },
  {
   "cell_type": "markdown",
   "id": "fe11226f",
   "metadata": {
    "papermill": {
     "duration": 0.033593,
     "end_time": "2021-12-04T00:09:27.624081",
     "exception": false,
     "start_time": "2021-12-04T00:09:27.590488",
     "status": "completed"
    },
    "tags": []
   },
   "source": [
    "# Train Model and Create Submissions #\n",
    "\n",
    "Once you're satisfied with everything, it's time to create your final predictions! This cell will:\n",
    "- use the best trained model to make predictions from the test set\n",
    "- save the predictions to a CSV file"
   ]
  },
  {
   "cell_type": "code",
   "execution_count": 18,
   "id": "91996136",
   "metadata": {
    "execution": {
     "iopub.execute_input": "2021-12-04T00:09:27.694860Z",
     "iopub.status.busy": "2021-12-04T00:09:27.694176Z",
     "iopub.status.idle": "2021-12-04T00:09:27.704368Z",
     "shell.execute_reply": "2021-12-04T00:09:27.703799Z",
     "shell.execute_reply.started": "2021-12-03T15:20:42.789326Z"
    },
    "papermill": {
     "duration": 0.046977,
     "end_time": "2021-12-04T00:09:27.704508",
     "exception": false,
     "start_time": "2021-12-04T00:09:27.657531",
     "status": "completed"
    },
    "tags": []
   },
   "outputs": [],
   "source": [
    "def load_model():\n",
    "    \n",
    "    early_stopping = EarlyStopping(\n",
    "        patience=10,\n",
    "        min_delta=0,\n",
    "        monitor='val_acc',\n",
    "        restore_best_weights=True,\n",
    "        verbose=VERBOSE,\n",
    "        mode='max',\n",
    "        baseline=None,\n",
    "    )\n",
    "    plateau = ReduceLROnPlateau(\n",
    "            monitor='val_loss', \n",
    "            factor=0.2, \n",
    "            patience=3, \n",
    "            verbose=VERBOSE,\n",
    "            mode='min')\n",
    "\n",
    "# -----------------------------------------------------------------\n",
    "# Model \n",
    "\n",
    "    model = keras.Sequential([\n",
    "    layers.BatchNormalization(input_shape = [x.shape[1]], name='input'),\n",
    "    layers.Dense(108, activation=ACTIVATION),\n",
    "    layers.Dropout(rate = 0.3),\n",
    "    layers.BatchNormalization(),\n",
    "    layers.Dense(64, activation=ACTIVATION),\n",
    "    layers.Dropout(rate = 0.3),\n",
    "    layers.BatchNormalization(),\n",
    "    layers.Dense(32, activation=ACTIVATION), \n",
    "    layers.Dropout(rate = 0.3),\n",
    "    layers.Dense(y_cat.shape[1], activation = 'softmax'),\n",
    "    ])\n",
    "\n",
    "# -----------------------------------------------------------------\n",
    "# sparse_categorical_crossentropy\n",
    "    model.compile(\n",
    "        optimizer= tf.keras.optimizers.Adam(learning_rate=LEARNING_RATE),\n",
    "        loss='categorical_crossentropy',\n",
    "        metrics=['acc'],\n",
    "    )\n",
    "    \n",
    "    return model, early_stopping, plateau"
   ]
  },
  {
   "cell_type": "markdown",
   "id": "92312cb2",
   "metadata": {
    "papermill": {
     "duration": 0.033067,
     "end_time": "2021-12-04T00:09:27.771517",
     "exception": false,
     "start_time": "2021-12-04T00:09:27.738450",
     "status": "completed"
    },
    "tags": []
   },
   "source": [
    "# Kfold"
   ]
  },
  {
   "cell_type": "code",
   "execution_count": 19,
   "id": "90e91683",
   "metadata": {
    "_kg_hide-output": true,
    "execution": {
     "iopub.execute_input": "2021-12-04T00:09:27.842809Z",
     "iopub.status.busy": "2021-12-04T00:09:27.841814Z",
     "iopub.status.idle": "2021-12-04T00:09:27.848402Z",
     "shell.execute_reply": "2021-12-04T00:09:27.848979Z",
     "shell.execute_reply.started": "2021-12-03T15:20:42.799883Z"
    },
    "papermill": {
     "duration": 0.044334,
     "end_time": "2021-12-04T00:09:27.849161",
     "exception": false,
     "start_time": "2021-12-04T00:09:27.804827",
     "status": "completed"
    },
    "tags": []
   },
   "outputs": [],
   "source": [
    "def plot_acc(history):\n",
    "    # summarize history for accuracy\n",
    "    plt.plot(history.history['acc'])\n",
    "    plt.plot(history.history['val_acc'])\n",
    "    plt.title('model accuracy')\n",
    "    plt.ylabel('acc')\n",
    "    plt.xlabel('epoch')\n",
    "    plt.legend(['train', 'test'], loc='upper left')\n",
    "    plt.show()\n",
    "    # summarize history for loss\n",
    "    plt.plot(history.history['loss'])\n",
    "    plt.plot(history.history['val_loss'])\n",
    "    plt.title('model loss')\n",
    "    plt.ylabel('loss')\n",
    "    plt.xlabel('epoch')\n",
    "    plt.legend(['train', 'test'], loc='upper left')\n",
    "    plt.show()"
   ]
  },
  {
   "cell_type": "code",
   "execution_count": 20,
   "id": "0204961d",
   "metadata": {
    "execution": {
     "iopub.execute_input": "2021-12-04T00:09:27.923435Z",
     "iopub.status.busy": "2021-12-04T00:09:27.922411Z",
     "iopub.status.idle": "2021-12-04T00:09:27.925181Z",
     "shell.execute_reply": "2021-12-04T00:09:27.924508Z",
     "shell.execute_reply.started": "2021-12-03T15:20:42.816906Z"
    },
    "papermill": {
     "duration": 0.042885,
     "end_time": "2021-12-04T00:09:27.925319",
     "exception": false,
     "start_time": "2021-12-04T00:09:27.882434",
     "status": "completed"
    },
    "tags": []
   },
   "outputs": [],
   "source": [
    "from sklearn.metrics import accuracy_score, log_loss\n",
    "from sklearn.model_selection import KFold, StratifiedKFold\n",
    "from sklearn.preprocessing import StandardScaler, RobustScaler, PowerTransformer\n",
    "\n",
    "preds_valid_f = {}\n",
    "preds_test = []\n",
    "total_acc = []\n",
    "f_scores = []\n",
    "\n",
    "kf = StratifiedKFold(n_splits=FOLDS,random_state=RANDOM_STATE,shuffle=True)"
   ]
  },
  {
   "cell_type": "code",
   "execution_count": 21,
   "id": "2b41a272",
   "metadata": {
    "execution": {
     "iopub.execute_input": "2021-12-04T00:09:28.008215Z",
     "iopub.status.busy": "2021-12-04T00:09:28.006657Z",
     "iopub.status.idle": "2021-12-04T01:03:01.651122Z",
     "shell.execute_reply": "2021-12-04T01:03:01.651738Z",
     "shell.execute_reply.started": "2021-12-03T15:20:42.827845Z"
    },
    "papermill": {
     "duration": 3213.692425,
     "end_time": "2021-12-04T01:03:01.652131",
     "exception": false,
     "start_time": "2021-12-04T00:09:27.959706",
     "status": "completed"
    },
    "tags": []
   },
   "outputs": [
    {
     "name": "stderr",
     "output_type": "stream",
     "text": [
      "/opt/conda/lib/python3.7/site-packages/sklearn/model_selection/_split.py:672: UserWarning: The least populated class in y has only 1 members, which is less than n_splits=5.\n",
      "  % (min_groups, self.n_splits)), UserWarning)\n",
      "\n",
      "User settings:\n",
      "\n",
      "   KMP_AFFINITY=granularity=fine,verbose,compact,1,0\n",
      "   KMP_BLOCKTIME=0\n",
      "   KMP_DUPLICATE_LIB_OK=True\n",
      "   KMP_INIT_AT_FORK=FALSE\n",
      "   KMP_SETTINGS=1\n",
      "   KMP_WARNINGS=0\n",
      "\n",
      "Effective settings:\n",
      "\n",
      "   KMP_ABORT_DELAY=0\n",
      "   KMP_ADAPTIVE_LOCK_PROPS='1,1024'\n",
      "   KMP_ALIGN_ALLOC=64\n",
      "   KMP_ALL_THREADPRIVATE=128\n",
      "   KMP_ATOMIC_MODE=2\n",
      "   KMP_BLOCKTIME=0\n",
      "   KMP_CPUINFO_FILE: value is not defined\n",
      "   KMP_DETERMINISTIC_REDUCTION=false\n",
      "   KMP_DEVICE_THREAD_LIMIT=2147483647\n",
      "   KMP_DISP_NUM_BUFFERS=7\n",
      "   KMP_DUPLICATE_LIB_OK=true\n",
      "   KMP_ENABLE_TASK_THROTTLING=true\n",
      "   KMP_FORCE_REDUCTION: value is not defined\n",
      "   KMP_FOREIGN_THREADS_THREADPRIVATE=true\n",
      "   KMP_FORKJOIN_BARRIER='2,2'\n",
      "   KMP_FORKJOIN_BARRIER_PATTERN='hyper,hyper'\n",
      "   KMP_GTID_MODE=3\n",
      "   KMP_HANDLE_SIGNALS=false\n",
      "   KMP_HOT_TEAMS_MAX_LEVEL=1\n",
      "   KMP_HOT_TEAMS_MODE=0\n",
      "   KMP_INIT_AT_FORK=true\n",
      "   KMP_LIBRARY=throughput\n",
      "   KMP_LOCK_KIND=queuing\n",
      "   KMP_MALLOC_POOL_INCR=1M\n",
      "   KMP_NUM_LOCKS_IN_BLOCK=1\n",
      "   KMP_PLAIN_BARRIER='2,2'\n",
      "   KMP_PLAIN_BARRIER_PATTERN='hyper,hyper'\n",
      "   KMP_REDUCTION_BARRIER='1,1'\n",
      "   KMP_REDUCTION_BARRIER_PATTERN='hyper,hyper'\n",
      "   KMP_SCHEDULE='static,balanced;guided,iterative'\n",
      "   KMP_SETTINGS=true\n",
      "   KMP_SPIN_BACKOFF_PARAMS='4096,100'\n",
      "   KMP_STACKOFFSET=64\n",
      "   KMP_STACKPAD=0\n",
      "   KMP_STACKSIZE=8M\n",
      "   KMP_STORAGE_MAP=false\n",
      "   KMP_TASKING=2\n",
      "   KMP_TASKLOOP_MIN_TASKS=0\n",
      "   KMP_TASK_STEALING_CONSTRAINT=1\n",
      "   KMP_TEAMS_THREAD_LIMIT=4\n",
      "   KMP_TOPOLOGY_METHOD=all\n",
      "   KMP_USE_YIELD=1\n",
      "   KMP_VERSION=false\n",
      "   KMP_WARNINGS=false\n",
      "   OMP_AFFINITY_FORMAT='OMP: pid %P tid %i thread %n bound to OS proc set {%A}'\n",
      "   OMP_ALLOCATOR=omp_default_mem_alloc\n",
      "   OMP_CANCELLATION=false\n",
      "   OMP_DEFAULT_DEVICE=0\n",
      "   OMP_DISPLAY_AFFINITY=false\n",
      "   OMP_DISPLAY_ENV=false\n",
      "   OMP_DYNAMIC=false\n",
      "   OMP_MAX_ACTIVE_LEVELS=1\n",
      "   OMP_MAX_TASK_PRIORITY=0\n",
      "   OMP_NESTED: deprecated; max-active-levels-var=1\n",
      "   OMP_NUM_THREADS: value is not defined\n",
      "   OMP_PLACES: value is not defined\n",
      "   OMP_PROC_BIND='intel'\n",
      "   OMP_SCHEDULE='static'\n",
      "   OMP_STACKSIZE=8M\n",
      "   OMP_TARGET_OFFLOAD=DEFAULT\n",
      "   OMP_THREAD_LIMIT=2147483647\n",
      "   OMP_WAIT_POLICY=PASSIVE\n",
      "   KMP_AFFINITY='verbose,warnings,respect,granularity=fine,compact,1,0'\n",
      "\n",
      "2021-12-04 00:09:32.597668: I tensorflow/core/common_runtime/process_util.cc:146] Creating new thread pool with default inter op setting: 2. Tune using inter_op_parallelism_threads for best performance.\n",
      "2021-12-04 00:09:33.103692: I tensorflow/compiler/mlir/mlir_graph_optimization_pass.cc:185] None of the MLIR Optimization Passes are enabled (registered 2)\n"
     ]
    },
    {
     "name": "stdout",
     "output_type": "stream",
     "text": [
      "Fold 0 accuracy_score: 0.9466220004617393\n",
      "Fold 1 accuracy_score: 0.9452600829249905\n",
      "Fold 2 accuracy_score: 0.9480116848850358\n",
      "Fold 3 accuracy_score: 0.9461552958914436\n",
      "Fold 4 accuracy_score: 0.9494534489257445\n",
      "mean accuracy_score: 0.9471005026177908, std: 0.0014748650220802898\n"
     ]
    }
   ],
   "source": [
    "test  = test_data.copy()\n",
    "test = preprocessor.fit_transform(test)\n",
    "\n",
    "for fold,(train_index, valid_index) in enumerate(kf.split(x, y=y.Cover_Type)):\n",
    "\n",
    "    X_train, X_valid = x.iloc[train_index], x.iloc[valid_index]\n",
    "    y_train, y_valid = y_cat[train_index], y_cat[valid_index]\n",
    "\n",
    "    #   --------------------------------------------------------  \n",
    "    # Preprocessing\n",
    "    \n",
    "    index_valid  = X_valid.index.tolist()\n",
    "    \n",
    "    X_train = preprocessor.fit_transform(X_train)\n",
    "    X_valid = preprocessor.transform(X_valid)\n",
    "    \n",
    "    #  ----------------------------------------------------------    \n",
    "    # Model\n",
    "    \n",
    "    model, early_stopping, plateau  = load_model()\n",
    "\n",
    "    history = model.fit(  X_train, y_train,\n",
    "                validation_data = (X_valid, y_valid),\n",
    "                batch_size = BATCH_SIZE, \n",
    "                epochs = EPOCHS,\n",
    "                callbacks = [early_stopping, plateau],\n",
    "                shuffle = True,\n",
    "                verbose = 0\n",
    "              )\n",
    "    \n",
    "    #  ----------------------------------------------------------\n",
    "    #  oof\n",
    "    preds_valid = model.predict(X_valid, batch_size=BATCH_SIZE)\n",
    "    \n",
    "    #  ----------------------------------------------------------\n",
    "    #  test dataset predictions for submission np.argmax(, axis=1) + 1\n",
    "    preds_test.append(np.argmax(model.predict(test, batch_size=BATCH_SIZE), axis=1) + 1)\n",
    "\n",
    "    #  ----------------------------------------------------------\n",
    "    #  Saving  scores to plot the end  \n",
    "    scores = pd.DataFrame(history.history)\n",
    "    scores['folds'] = fold\n",
    "    if fold == 0:\n",
    "        f_scores = scores \n",
    "    else: \n",
    "        f_scores = pd.concat([f_scores, scores], axis  = 0)\n",
    "        \n",
    "    #  ----------------------------------------------------------\n",
    "    #  concatenating valid preds\n",
    "    # Getting score for a fold model\n",
    "    fold_acc = accuracy_score(y.iloc[valid_index].Cover_Type, np.argmax(preds_valid, axis=1) + 1)\n",
    "    print(f\"Fold {fold} accuracy_score: {fold_acc}\")\n",
    "\n",
    "    # Total auc\n",
    "    total_acc.append(fold_acc)\n",
    "    \n",
    "    del model\n",
    "    gc.collect()\n",
    "\n",
    "print(f\"mean accuracy_score: {np.mean(total_acc)}, std: {np.std(total_acc)}\")"
   ]
  },
  {
   "cell_type": "markdown",
   "id": "9a232f46",
   "metadata": {
    "papermill": {
     "duration": 0.035841,
     "end_time": "2021-12-04T01:03:01.723943",
     "exception": false,
     "start_time": "2021-12-04T01:03:01.688102",
     "status": "completed"
    },
    "tags": []
   },
   "source": [
    "# accuracy"
   ]
  },
  {
   "cell_type": "code",
   "execution_count": 22,
   "id": "8d8ca825",
   "metadata": {
    "execution": {
     "iopub.execute_input": "2021-12-04T01:03:01.802174Z",
     "iopub.status.busy": "2021-12-04T01:03:01.801332Z",
     "iopub.status.idle": "2021-12-04T01:03:04.458478Z",
     "shell.execute_reply": "2021-12-04T01:03:04.457817Z",
     "shell.execute_reply.started": "2021-12-03T15:26:53.761532Z"
    },
    "papermill": {
     "duration": 2.697191,
     "end_time": "2021-12-04T01:03:04.458651",
     "exception": false,
     "start_time": "2021-12-04T01:03:01.761460",
     "status": "completed"
    },
    "tags": []
   },
   "outputs": [
    {
     "name": "stdout",
     "output_type": "stream",
     "text": [
      "Validation Loss: 0.1321\n",
      "Validation Loss: 0.1329\n",
      "Validation Loss: 0.1274\n",
      "Validation Loss: 0.1325\n",
      "Validation Loss: 0.1223\n"
     ]
    },
    {
     "data": {
      "image/png": "[encoded data removed]",
      "text/plain": [
       "<Figure size 1008x288 with 2 Axes>"
      ]
     },
     "metadata": {},
     "output_type": "display_data"
    },
    {
     "data": {
      "image/png": "[encoded data removed]",
      "text/plain": [
       "<Figure size 1008x288 with 2 Axes>"
      ]
     },
     "metadata": {},
     "output_type": "display_data"
    },
    {
     "data": {
      "image/png": "[encoded data removed]",
      "text/plain": [
       "<Figure size 1008x288 with 2 Axes>"
      ]
     },
     "metadata": {},
     "output_type": "display_data"
    },
    {
     "data": {
      "image/png": "[encoded data removed]",
      "text/plain": [
       "<Figure size 1008x288 with 2 Axes>"
      ]
     },
     "metadata": {},
     "output_type": "display_data"
    },
    {
     "data": {
      "image/png": "[encoded data removed]",
      "text/plain": [
       "<Figure size 1008x288 with 2 Axes>"
      ]
     },
     "metadata": {},
     "output_type": "display_data"
    }
   ],
   "source": [
    "for fold in range(f_scores['folds'].nunique()):\n",
    "    history_f = f_scores[f_scores['folds'] == fold]\n",
    "\n",
    "    fig, ax = plt.subplots(1, 2, tight_layout=True, figsize=(14,4))\n",
    "    fig.suptitle('Fold : '+str(fold), fontsize=14)\n",
    "        \n",
    "    plt.subplot(1,2,1)\n",
    "    plt.plot(history_f.loc[:, ['loss', 'val_loss']], label= ['loss', 'val_loss'])\n",
    "    plt.legend(fontsize=15)\n",
    "    plt.grid()\n",
    "    \n",
    "    plt.subplot(1,2,2)\n",
    "    plt.plot(history_f.loc[:, ['acc', 'val_acc']],label= ['acc', 'val_acc'])\n",
    "    plt.legend(fontsize=15)\n",
    "    plt.grid()\n",
    "    \n",
    "    print(\"Validation Loss: {:0.4f}\".format(history_f['val_loss'].min()));"
   ]
  },
  {
   "cell_type": "markdown",
   "id": "403c60cc",
   "metadata": {
    "papermill": {
     "duration": 0.04375,
     "end_time": "2021-12-04T01:03:04.545807",
     "exception": false,
     "start_time": "2021-12-04T01:03:04.502057",
     "status": "completed"
    },
    "tags": []
   },
   "source": [
    "# Submission"
   ]
  },
  {
   "cell_type": "code",
   "execution_count": 23,
   "id": "713707cb",
   "metadata": {
    "execution": {
     "iopub.execute_input": "2021-12-04T01:03:04.637826Z",
     "iopub.status.busy": "2021-12-04T01:03:04.635025Z",
     "iopub.status.idle": "2021-12-04T01:03:40.772820Z",
     "shell.execute_reply": "2021-12-04T01:03:40.773352Z",
     "shell.execute_reply.started": "2021-12-03T15:26:56.393259Z"
    },
    "papermill": {
     "duration": 36.184895,
     "end_time": "2021-12-04T01:03:40.773536",
     "exception": false,
     "start_time": "2021-12-04T01:03:04.588641",
     "status": "completed"
    },
    "tags": []
   },
   "outputs": [
    {
     "data": {
      "text/html": [
       "<div>\n",
       "<style scoped>\n",
       "    .dataframe tbody tr th:only-of-type {\n",
       "        vertical-align: middle;\n",
       "    }\n",
       "\n",
       "    .dataframe tbody tr th {\n",
       "        vertical-align: top;\n",
       "    }\n",
       "\n",
       "    .dataframe thead th {\n",
       "        text-align: right;\n",
       "    }\n",
       "</style>\n",
       "<table border=\"1\" class=\"dataframe\">\n",
       "  <thead>\n",
       "    <tr style=\"text-align: right;\">\n",
       "      <th></th>\n",
       "      <th>Id</th>\n",
       "      <th>Cover_Type</th>\n",
       "    </tr>\n",
       "  </thead>\n",
       "  <tbody>\n",
       "    <tr>\n",
       "      <th>0</th>\n",
       "      <td>4000000</td>\n",
       "      <td>2</td>\n",
       "    </tr>\n",
       "    <tr>\n",
       "      <th>1</th>\n",
       "      <td>4000001</td>\n",
       "      <td>2</td>\n",
       "    </tr>\n",
       "    <tr>\n",
       "      <th>2</th>\n",
       "      <td>4000002</td>\n",
       "      <td>2</td>\n",
       "    </tr>\n",
       "    <tr>\n",
       "      <th>3</th>\n",
       "      <td>4000003</td>\n",
       "      <td>2</td>\n",
       "    </tr>\n",
       "    <tr>\n",
       "      <th>4</th>\n",
       "      <td>4000004</td>\n",
       "      <td>2</td>\n",
       "    </tr>\n",
       "    <tr>\n",
       "      <th>...</th>\n",
       "      <td>...</td>\n",
       "      <td>...</td>\n",
       "    </tr>\n",
       "    <tr>\n",
       "      <th>999995</th>\n",
       "      <td>4999995</td>\n",
       "      <td>2</td>\n",
       "    </tr>\n",
       "    <tr>\n",
       "      <th>999996</th>\n",
       "      <td>4999996</td>\n",
       "      <td>1</td>\n",
       "    </tr>\n",
       "    <tr>\n",
       "      <th>999997</th>\n",
       "      <td>4999997</td>\n",
       "      <td>2</td>\n",
       "    </tr>\n",
       "    <tr>\n",
       "      <th>999998</th>\n",
       "      <td>4999998</td>\n",
       "      <td>1</td>\n",
       "    </tr>\n",
       "    <tr>\n",
       "      <th>999999</th>\n",
       "      <td>4999999</td>\n",
       "      <td>3</td>\n",
       "    </tr>\n",
       "  </tbody>\n",
       "</table>\n",
       "<p>1000000 rows × 2 columns</p>\n",
       "</div>"
      ],
      "text/plain": [
       "             Id  Cover_Type\n",
       "0       4000000           2\n",
       "1       4000001           2\n",
       "2       4000002           2\n",
       "3       4000003           2\n",
       "4       4000004           2\n",
       "...         ...         ...\n",
       "999995  4999995           2\n",
       "999996  4999996           1\n",
       "999997  4999997           2\n",
       "999998  4999998           1\n",
       "999999  4999999           3\n",
       "\n",
       "[1000000 rows x 2 columns]"
      ]
     },
     "execution_count": 23,
     "metadata": {},
     "output_type": "execute_result"
    }
   ],
   "source": [
    "sub = pd.read_csv(INPUT + '/sample_submission.csv')\n",
    "sub[column_y] = (stats.mode(preds_test)[0][0]) # preds_test[FOLDS-1] # argmax reverse of to_categorical sub[column_y] = (np.argmax(sum(preds_test), axis=1) + 1)\n",
    "sub.to_csv('submission.csv', index=False)\n",
    "sub"
   ]
  },
  {
   "cell_type": "code",
   "execution_count": 24,
   "id": "b70c303d",
   "metadata": {
    "execution": {
     "iopub.execute_input": "2021-12-04T01:03:40.864652Z",
     "iopub.status.busy": "2021-12-04T01:03:40.863960Z",
     "iopub.status.idle": "2021-12-04T01:03:40.894247Z",
     "shell.execute_reply": "2021-12-04T01:03:40.894816Z",
     "shell.execute_reply.started": "2021-12-03T15:27:21.297163Z"
    },
    "papermill": {
     "duration": 0.077817,
     "end_time": "2021-12-04T01:03:40.895003",
     "exception": false,
     "start_time": "2021-12-04T01:03:40.817186",
     "status": "completed"
    },
    "tags": []
   },
   "outputs": [
    {
     "data": {
      "text/plain": [
       "(array([1, 2, 3, 6, 7]), array([377129, 498265,  96696,   5307,  22603]))"
      ]
     },
     "execution_count": 24,
     "metadata": {},
     "output_type": "execute_result"
    }
   ],
   "source": [
    "np.unique(sub[column_y], return_counts=True)"
   ]
  },
  {
   "cell_type": "code",
   "execution_count": 25,
   "id": "eb914a20",
   "metadata": {
    "execution": {
     "iopub.execute_input": "2021-12-04T01:03:40.986894Z",
     "iopub.status.busy": "2021-12-04T01:03:40.986169Z",
     "iopub.status.idle": "2021-12-04T01:03:40.989197Z",
     "shell.execute_reply": "2021-12-04T01:03:40.989704Z",
     "shell.execute_reply.started": "2021-12-03T15:27:21.330493Z"
    },
    "papermill": {
     "duration": 0.05114,
     "end_time": "2021-12-04T01:03:40.989878",
     "exception": false,
     "start_time": "2021-12-04T01:03:40.938738",
     "status": "completed"
    },
    "tags": []
   },
   "outputs": [],
   "source": [
    "# np.array(preds_test).shape"
   ]
  },
  {
   "cell_type": "code",
   "execution_count": 26,
   "id": "2d25023d",
   "metadata": {
    "execution": {
     "iopub.execute_input": "2021-12-04T01:03:41.083730Z",
     "iopub.status.busy": "2021-12-04T01:03:41.083042Z",
     "iopub.status.idle": "2021-12-04T01:03:41.446979Z",
     "shell.execute_reply": "2021-12-04T01:03:41.447473Z",
     "shell.execute_reply.started": "2021-12-03T15:37:58.626843Z"
    },
    "papermill": {
     "duration": 0.411531,
     "end_time": "2021-12-04T01:03:41.447681",
     "exception": false,
     "start_time": "2021-12-04T01:03:41.036150",
     "status": "completed"
    },
    "tags": []
   },
   "outputs": [
    {
     "data": {
      "image/png": "[encoded data removed]",
      "text/plain": [
       "<Figure size 720x216 with 1 Axes>"
      ]
     },
     "metadata": {},
     "output_type": "display_data"
    }
   ],
   "source": [
    "from matplotlib.ticker import MaxNLocator, FormatStrFormatter, PercentFormatter\n",
    "\n",
    "# Plot the distribution of the training set target\n",
    "plt.figure(figsize=(10,3))\n",
    "plt.hist(train_data[column_y], bins=np.linspace(0.5, 7.5, 8), density=True)\n",
    "plt.xlabel('Training set target')\n",
    "plt.ylabel('Density')\n",
    "plt.gca().yaxis.set_major_formatter(PercentFormatter())\n",
    "plt.show()"
   ]
  },
  {
   "cell_type": "code",
   "execution_count": 27,
   "id": "4b6f61fe",
   "metadata": {
    "execution": {
     "iopub.execute_input": "2021-12-04T01:03:41.542797Z",
     "iopub.status.busy": "2021-12-04T01:03:41.542095Z",
     "iopub.status.idle": "2021-12-04T01:03:41.822209Z",
     "shell.execute_reply": "2021-12-04T01:03:41.822754Z",
     "shell.execute_reply.started": "2021-12-03T15:39:13.268498Z"
    },
    "papermill": {
     "duration": 0.328393,
     "end_time": "2021-12-04T01:03:41.822939",
     "exception": false,
     "start_time": "2021-12-04T01:03:41.494546",
     "status": "completed"
    },
    "tags": []
   },
   "outputs": [
    {
     "data": {
      "image/png": "[encoded data removed]",
      "text/plain": [
       "<Figure size 720x216 with 1 Axes>"
      ]
     },
     "metadata": {},
     "output_type": "display_data"
    }
   ],
   "source": [
    "# Plot the distribution of the test predictions\n",
    "plt.figure(figsize=(10,3))\n",
    "plt.hist(sub[column_y], bins=np.linspace(0.5, 7.5, 8), density=True)\n",
    "plt.xlabel('Test set predictions')\n",
    "plt.ylabel('Density')\n",
    "plt.gca().yaxis.set_major_formatter(PercentFormatter())\n",
    "plt.show()"
   ]
  },
  {
   "cell_type": "code",
   "execution_count": 28,
   "id": "522c3b21",
   "metadata": {
    "execution": {
     "iopub.execute_input": "2021-12-04T01:03:41.918388Z",
     "iopub.status.busy": "2021-12-04T01:03:41.917698Z",
     "iopub.status.idle": "2021-12-04T01:03:42.214677Z",
     "shell.execute_reply": "2021-12-04T01:03:42.215261Z",
     "shell.execute_reply.started": "2021-12-03T15:38:08.323891Z"
    },
    "papermill": {
     "duration": 0.346404,
     "end_time": "2021-12-04T01:03:42.215440",
     "exception": false,
     "start_time": "2021-12-04T01:03:41.869036",
     "status": "completed"
    },
    "tags": []
   },
   "outputs": [
    {
     "name": "stderr",
     "output_type": "stream",
     "text": [
      "/opt/conda/lib/python3.7/site-packages/seaborn/_decorators.py:43: FutureWarning: Pass the following variable as a keyword arg: x. From version 0.12, the only valid positional argument will be `data`, and passing other arguments without an explicit keyword will result in an error or misinterpretation.\n",
      "  FutureWarning\n"
     ]
    },
    {
     "data": {
      "image/png": "[encoded data removed]",
      "text/plain": [
       "<Figure size 432x288 with 1 Axes>"
      ]
     },
     "metadata": {},
     "output_type": "display_data"
    }
   ],
   "source": [
    "# Plot the distribution of the test predictions\n",
    "sns.countplot(sub[column_y])\n",
    "sns.despine()"
   ]
  },
  {
   "cell_type": "code",
   "execution_count": 29,
   "id": "93ac825d",
   "metadata": {
    "execution": {
     "iopub.execute_input": "2021-12-04T01:03:42.315066Z",
     "iopub.status.busy": "2021-12-04T01:03:42.314348Z",
     "iopub.status.idle": "2021-12-04T01:03:42.816764Z",
     "shell.execute_reply": "2021-12-04T01:03:42.817275Z",
     "shell.execute_reply.started": "2021-12-03T15:38:10.947004Z"
    },
    "papermill": {
     "duration": 0.553399,
     "end_time": "2021-12-04T01:03:42.817445",
     "exception": false,
     "start_time": "2021-12-04T01:03:42.264046",
     "status": "completed"
    },
    "tags": []
   },
   "outputs": [
    {
     "name": "stderr",
     "output_type": "stream",
     "text": [
      "/opt/conda/lib/python3.7/site-packages/seaborn/_decorators.py:43: FutureWarning: Pass the following variable as a keyword arg: x. From version 0.12, the only valid positional argument will be `data`, and passing other arguments without an explicit keyword will result in an error or misinterpretation.\n",
      "  FutureWarning\n"
     ]
    },
    {
     "data": {
      "image/png": "[encoded data removed]",
      "text/plain": [
       "<Figure size 432x288 with 1 Axes>"
      ]
     },
     "metadata": {},
     "output_type": "display_data"
    }
   ],
   "source": [
    "# Plot the distribution of the training set\n",
    "sns.countplot(train_data[column_y])\n",
    "sns.despine()"
   ]
  },
  {
   "cell_type": "markdown",
   "id": "c464ece4",
   "metadata": {
    "papermill": {
     "duration": 0.047605,
     "end_time": "2021-12-04T01:03:42.913555",
     "exception": false,
     "start_time": "2021-12-04T01:03:42.865950",
     "status": "completed"
    },
    "tags": []
   },
   "source": [
    "keys_list, values_list = np.unique(my_list, return_counts=True)keys_list, values_list = np.unique(my_list, return_counts=True)To submit these predictions to the competition, follow these steps:\n",
    "\n",
    "1. Begin by clicking on the blue **Save Version** button in the top right corner of the window.  This will generate a pop-up window.\n",
    "2. Ensure that the **Save and Run All** option is selected, and then click on the blue **Save** button.\n",
    "3. This generates a window in the bottom left corner of the notebook.  After it has finished running, click on the number to the right of the **Save Version** button.  This pulls up a list of versions on the right of the screen.  Click on the ellipsis **(...)** to the right of the most recent version, and select **Open in Viewer**.  This brings you into view mode of the same page. You will need to scroll down to get back to these instructions.\n",
    "4. Click on the **Output** tab on the right of the screen.  Then, click on the file you would like to submit, and click on the blue **Submit** button to submit your results to the leaderboard.\n",
    "\n",
    "You have now successfully submitted to the competition!\n",
    "\n",
    "# Next Steps #\n",
    "\n",
    "If you want to keep working to improve your performance, select the blue **Edit** button in the top right of the screen. Then you can change your code and repeat the process. There's a lot of room to improve, and you will climb up the leaderboard as you work.\n",
    "\n",
    "Be sure to check out [other users' notebooks](https://www.kaggle.com/c/house-prices-advanced-regression-techniques/notebooks) in this competition. You'll find lots of great ideas for new features and as well as other ways to discover more things about the dataset or make better predictions. There's also the [discussion forum](https://www.kaggle.com/c/house-prices-advanced-regression-techniques/discussion), where you can share ideas with other Kagglers.\n",
    "\n",
    "Have fun Kaggling!"
   ]
  },
  {
   "cell_type": "code",
   "execution_count": null,
   "id": "bed8307c",
   "metadata": {
    "papermill": {
     "duration": 0.047787,
     "end_time": "2021-12-04T01:03:43.009025",
     "exception": false,
     "start_time": "2021-12-04T01:03:42.961238",
     "status": "completed"
    },
    "tags": []
   },
   "outputs": [],
   "source": []
  }
 ],
 "metadata": {
  "kernelspec": {
   "display_name": "Python 3",
   "language": "python",
   "name": "python3"
  },
  "language_info": {
   "codemirror_mode": {
    "name": "ipython",
    "version": 3
   },
   "file_extension": ".py",
   "mimetype": "text/x-python",
   "name": "python",
   "nbconvert_exporter": "python",
   "pygments_lexer": "ipython3",
   "version": "3.7.10"
  },
  "papermill": {
   "default_parameters": {},
   "duration": 3308.057552,
   "end_time": "2021-12-04T01:03:45.775385",
   "environment_variables": {},
   "exception": null,
   "input_path": "__notebook__.ipynb",
   "output_path": "__notebook__.ipynb",
   "parameters": {},
   "start_time": "2021-12-04T00:08:37.717833",
   "version": "2.3.3"
  }
 },
 "nbformat": 4,
 "nbformat_minor": 5
}
