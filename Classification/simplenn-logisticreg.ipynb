{
 "cells": [
  {
   "cell_type": "markdown",
   "id": "2e816150",
   "metadata": {
    "papermill": {
     "duration": 0.03735,
     "end_time": "2021-12-04T01:47:35.298648",
     "exception": false,
     "start_time": "2021-12-04T01:47:35.261298",
     "status": "completed"
    },
    "tags": []
   },
   "source": [
    "# Welcome and have fun learning Logistic Regession with plug and play Neural Network\n",
    "### There are alot of category features in the dataset. Lets forget about feature engineering and just brute force NN for now.\n",
    "<blockquote style=\"margin-right:auto; margin-left:auto; padding: 1em; margin:24px;\">\n",
    "    <strong>Fork This Notebook!</strong><br>\n",
    "Create your own editable copy of this notebook by clicking on the <strong>Copy and Edit</strong> button in the top right corner.\n",
    "</blockquote>\n",
    "\n",
    "Notes:\n",
    "Run time -\n",
    "4 hours and 31 minutes 4000000 samples\n",
    "3318.3s 395712 samples\n",
    "\n",
    "## Imports and Configuration ##"
   ]
  },
  {
   "cell_type": "code",
   "execution_count": 1,
   "id": "6e0cb7a2",
   "metadata": {
    "_cell_guid": "b1076dfc-b9ad-4769-8c92-a6c4dae69d19",
    "_uuid": "8f2839f25d086af736a60e9eeb907d3b93b6e0e5",
    "execution": {
     "iopub.execute_input": "2021-12-04T01:47:35.371698Z",
     "iopub.status.busy": "2021-12-04T01:47:35.369744Z",
     "iopub.status.idle": "2021-12-04T01:47:42.428670Z",
     "shell.execute_reply": "2021-12-04T01:47:42.427510Z",
     "shell.execute_reply.started": "2021-12-03T15:37:01.551916Z"
    },
    "papermill": {
     "duration": 7.096156,
     "end_time": "2021-12-04T01:47:42.428933",
     "exception": false,
     "start_time": "2021-12-04T01:47:35.332777",
     "status": "completed"
    },
    "tags": []
   },
   "outputs": [
    {
     "name": "stdout",
     "output_type": "stream",
     "text": [
      "/kaggle/input/tabular-playground-series-dec-2021/sample_submission.csv\n",
      "/kaggle/input/tabular-playground-series-dec-2021/train.csv\n",
      "/kaggle/input/tabular-playground-series-dec-2021/test.csv\n"
     ]
    }
   ],
   "source": [
    "# This Python 3 environment comes with many helpful analytics libraries installed\n",
    "# It is defined by the kaggle/python Docker image: https://github.com/kaggle/docker-python\n",
    "# For example, here's several helpful packages to load\n",
    "\n",
    "from scipy import stats\n",
    "import numpy as np # linear algebra\n",
    "import pandas as pd # data processing, CSV file I/O (e.g. pd.read_csv)\n",
    "import matplotlib.pyplot as plt\n",
    "import seaborn as sns\n",
    "from imblearn.over_sampling import RandomOverSampler\n",
    "from imblearn.under_sampling import RandomUnderSampler, TomekLinks\n",
    "import keras\n",
    "import tensorflow as tf\n",
    "from tensorflow.keras import layers\n",
    "from tensorflow.keras.callbacks import EarlyStopping, ReduceLROnPlateau\n",
    "# Set Matplotlib defaults\n",
    "plt.style.use(\"seaborn-whitegrid\")\n",
    "plt.rc(\"figure\", autolayout=True)\n",
    "plt.rc(\n",
    "    \"axes\",\n",
    "    labelweight=\"bold\",\n",
    "    labelsize=\"large\",\n",
    "    titleweight=\"bold\",\n",
    "    titlesize=14,\n",
    "    titlepad=10,\n",
    ")\n",
    "# Input data files are available in the read-only \"../input/\" directory\n",
    "# For example, running this (by clicking run or pressing Shift+Enter) will list all files under the input directory\n",
    "import gc\n",
    "import os\n",
    "for dirname, _, filenames in os.walk('/kaggle/input'):\n",
    "    for filename in filenames:\n",
    "        print(os.path.join(dirname, filename))\n",
    "\n",
    "# You can write up to 20GB to the current directory (/kaggle/working/) that gets preserved as output when you create a version using \"Save & Run All\" \n",
    "# You can also write temporary files to /kaggle/temp/, but they won't be saved outside of the current session"
   ]
  },
  {
   "cell_type": "code",
   "execution_count": 2,
   "id": "cd4fa6cd",
   "metadata": {
    "execution": {
     "iopub.execute_input": "2021-12-04T01:47:42.507921Z",
     "iopub.status.busy": "2021-12-04T01:47:42.507232Z",
     "iopub.status.idle": "2021-12-04T01:47:42.510053Z",
     "shell.execute_reply": "2021-12-04T01:47:42.509449Z",
     "shell.execute_reply.started": "2021-12-03T15:20:24.864696Z"
    },
    "papermill": {
     "duration": 0.043324,
     "end_time": "2021-12-04T01:47:42.510226",
     "exception": false,
     "start_time": "2021-12-04T01:47:42.466902",
     "status": "completed"
    },
    "tags": []
   },
   "outputs": [],
   "source": [
    "# -----------------------------------------------------------------\n",
    "# Some parameters to config \n",
    "\n",
    "EPOCHS = 362\n",
    "BATCH_SIZE = 2048 # large enough to fit RAM\n",
    "ACTIVATION = 'swish'\n",
    "LEARNING_RATE = 0.000265713 # Optimal lr is about half the maximum lr\n",
    "FOLDS = 5\n",
    "\n",
    "# The dataset is too huge for free contrainer. Sampling it for more fun!\n",
    "VALIDATION_SPLIT = 0.005 # Only used to min dataset for quick test\n",
    "SAMPLE = 1468136 # [1468136, 2262087, 195712, 377, 1, 11426, 62261]  # 4000000 total rows\n",
    "MAX_TRIAL = 3 # speed trial any% Not used here\n",
    "\n",
    "RANDOM_STATE = 42\n",
    "VERBOSE = 0\n",
    "\n",
    "# Admin\n",
    "ID = \"Id\" # Id id x X index\n",
    "INPUT = \"../input/tabular-playground-series-dec-2021\""
   ]
  },
  {
   "cell_type": "markdown",
   "id": "3067ee4e",
   "metadata": {
    "papermill": {
     "duration": 0.033975,
     "end_time": "2021-12-04T01:47:42.578380",
     "exception": false,
     "start_time": "2021-12-04T01:47:42.544405",
     "status": "completed"
    },
    "tags": []
   },
   "source": [
    "## Data Preprocessing ##\n",
    "\n",
    "Before we can do any feature engineering, we need to *preprocess* the data to get it in a form suitable for analysis. We'll need to:\n",
    "- **Load** the data from CSV files\n",
    "- **Clean** the data to fix any errors or inconsistencies\n",
    "- **Encode** the statistical data type (numeric, categorical)\n",
    "- **Impute** any missing values\n",
    "\n",
    "We'll wrap all these steps up in a function, which will make easy for you to get a fresh dataframe whenever you need. After reading the CSV file, we'll apply three preprocessing steps, `clean`, `encode`, and `impute`, and then create the data splits: one (`df_train`) for training the model, and one (`df_test`) for making the predictions that you'll submit to the competition for scoring on the leaderboard."
   ]
  },
  {
   "cell_type": "code",
   "execution_count": 3,
   "id": "9103f512",
   "metadata": {
    "execution": {
     "iopub.execute_input": "2021-12-04T01:47:42.653990Z",
     "iopub.status.busy": "2021-12-04T01:47:42.653294Z",
     "iopub.status.idle": "2021-12-04T01:47:42.655969Z",
     "shell.execute_reply": "2021-12-04T01:47:42.655327Z",
     "shell.execute_reply.started": "2021-12-03T15:20:24.877203Z"
    },
    "papermill": {
     "duration": 0.043461,
     "end_time": "2021-12-04T01:47:42.656163",
     "exception": false,
     "start_time": "2021-12-04T01:47:42.612702",
     "status": "completed"
    },
    "tags": []
   },
   "outputs": [],
   "source": [
    "from pathlib import Path\n",
    "def load_data():\n",
    "    # Read data\n",
    "    data_dir = Path(INPUT)\n",
    "    df_train = pd.read_csv(data_dir / \"train.csv\", index_col=ID)\n",
    "    df_test = pd.read_csv(data_dir / \"test.csv\", index_col=ID)\n",
    "    # Merge the splits so we can process them together\n",
    "    df = pd.concat([df_train, df_test])\n",
    "    # Preprocessing\n",
    "#     df = clean(df)\n",
    "#     df = encode(df)\n",
    "#     df = impute(df)\n",
    "    df_train = impute(df_train)\n",
    "    df_test = impute(df_test)\n",
    "    # Reform splits\n",
    "#     df_train = df.loc[df_train.index, :]\n",
    "#     df_test = df.loc[df_test.index, :]\n",
    "    return df_train, df_test"
   ]
  },
  {
   "cell_type": "markdown",
   "id": "119027cd",
   "metadata": {
    "papermill": {
     "duration": 0.033475,
     "end_time": "2021-12-04T01:47:42.724451",
     "exception": false,
     "start_time": "2021-12-04T01:47:42.690976",
     "status": "completed"
    },
    "tags": []
   },
   "source": [
    "### Handle Missing Values ###\n",
    "\n",
    "Handling missing values now will make the feature engineering go more smoothly. We'll impute `0` for missing numeric values and `\"None\"` for missing categorical values. You might like to experiment with other imputation strategies. In particular, you could try creating \"missing value\" indicators: `1` whenever a value was imputed and `0` otherwise."
   ]
  },
  {
   "cell_type": "code",
   "execution_count": 4,
   "id": "7258d81a",
   "metadata": {
    "execution": {
     "iopub.execute_input": "2021-12-04T01:47:42.798748Z",
     "iopub.status.busy": "2021-12-04T01:47:42.797999Z",
     "iopub.status.idle": "2021-12-04T01:47:42.799964Z",
     "shell.execute_reply": "2021-12-04T01:47:42.800670Z",
     "shell.execute_reply.started": "2021-12-03T15:20:24.890633Z"
    },
    "papermill": {
     "duration": 0.042139,
     "end_time": "2021-12-04T01:47:42.800851",
     "exception": false,
     "start_time": "2021-12-04T01:47:42.758712",
     "status": "completed"
    },
    "tags": []
   },
   "outputs": [],
   "source": [
    "def impute(df):\n",
    "    for name in df.select_dtypes(\"number\"):\n",
    "        df[name] = df[name].fillna(0)\n",
    "    for name in df.select_dtypes(\"category\"):\n",
    "        df[name] = df[name].fillna(\"None\")\n",
    "    return df"
   ]
  },
  {
   "cell_type": "markdown",
   "id": "b3db2ffd",
   "metadata": {
    "papermill": {
     "duration": 0.034338,
     "end_time": "2021-12-04T01:47:42.870207",
     "exception": false,
     "start_time": "2021-12-04T01:47:42.835869",
     "status": "completed"
    },
    "tags": []
   },
   "source": [
    "## Load Data ##\n",
    "\n",
    "And now we can call the data loader and get the processed data splits:"
   ]
  },
  {
   "cell_type": "code",
   "execution_count": 5,
   "id": "2a57ef42",
   "metadata": {
    "execution": {
     "iopub.execute_input": "2021-12-04T01:47:42.941639Z",
     "iopub.status.busy": "2021-12-04T01:47:42.940920Z",
     "iopub.status.idle": "2021-12-04T01:48:08.269670Z",
     "shell.execute_reply": "2021-12-04T01:48:08.268994Z",
     "shell.execute_reply.started": "2021-12-03T15:20:24.903898Z"
    },
    "papermill": {
     "duration": 25.365534,
     "end_time": "2021-12-04T01:48:08.269840",
     "exception": false,
     "start_time": "2021-12-04T01:47:42.904306",
     "status": "completed"
    },
    "tags": []
   },
   "outputs": [
    {
     "name": "stderr",
     "output_type": "stream",
     "text": [
      "/opt/conda/lib/python3.7/site-packages/numpy/lib/arraysetops.py:580: FutureWarning: elementwise comparison failed; returning scalar instead, but in the future will perform elementwise comparison\n",
      "  mask |= (ar1 == a)\n"
     ]
    }
   ],
   "source": [
    "train_data, test_data = load_data()"
   ]
  },
  {
   "cell_type": "code",
   "execution_count": 6,
   "id": "97d980a7",
   "metadata": {
    "execution": {
     "iopub.execute_input": "2021-12-04T01:48:08.345413Z",
     "iopub.status.busy": "2021-12-04T01:48:08.344660Z",
     "iopub.status.idle": "2021-12-04T01:48:08.954699Z",
     "shell.execute_reply": "2021-12-04T01:48:08.954044Z",
     "shell.execute_reply.started": "2021-12-03T15:20:40.265679Z"
    },
    "papermill": {
     "duration": 0.649896,
     "end_time": "2021-12-04T01:48:08.954869",
     "exception": false,
     "start_time": "2021-12-04T01:48:08.304973",
     "status": "completed"
    },
    "tags": []
   },
   "outputs": [],
   "source": [
    "column_y = train_data.columns.difference(test_data.columns)[0]\n",
    "x = train_data.drop(columns=column_y)\n",
    "y = train_data[[column_y]]\n",
    "\n",
    "x_test = test_data.iloc[:,:]"
   ]
  },
  {
   "cell_type": "markdown",
   "id": "3da5d114",
   "metadata": {
    "papermill": {
     "duration": 0.034029,
     "end_time": "2021-12-04T01:48:09.023407",
     "exception": false,
     "start_time": "2021-12-04T01:48:08.989378",
     "status": "completed"
    },
    "tags": []
   },
   "source": [
    "## For quick test\n",
    "y\n",
    "\n",
    "(array([1, 2, 3, 4, 5, 6, 7]),\n",
    " \n",
    " array([1468136, 2262087,  195712,     377,       1,   11426,   62261]))\n",
    " \n",
    "TomekLinks\n",
    "(array([1, 2, 3, 4, 5, 6, 7]),\n",
    "\n",
    " array([1390684, 2169226,  155218,     218,       1,    7627,   38757]))"
   ]
  },
  {
   "cell_type": "code",
   "execution_count": 7,
   "id": "58b5562c",
   "metadata": {
    "execution": {
     "iopub.execute_input": "2021-12-04T01:48:09.099446Z",
     "iopub.status.busy": "2021-12-04T01:48:09.098684Z",
     "iopub.status.idle": "2021-12-04T01:48:09.384872Z",
     "shell.execute_reply": "2021-12-04T01:48:09.385474Z",
     "shell.execute_reply.started": "2021-12-03T15:20:40.775746Z"
    },
    "papermill": {
     "duration": 0.32734,
     "end_time": "2021-12-04T01:48:09.385699",
     "exception": false,
     "start_time": "2021-12-04T01:48:09.058359",
     "status": "completed"
    },
    "tags": []
   },
   "outputs": [
    {
     "name": "stdout",
     "output_type": "stream",
     "text": [
      "Series([], dtype: int64)\n"
     ]
    }
   ],
   "source": [
    "# Check NA\n",
    "missing_val = x.isnull().sum()\n",
    "print(missing_val[missing_val > 0])\n",
    "\n",
    "from sklearn.model_selection import train_test_split \n",
    "# For small testing batch\n",
    "# x, x_val, y, y_val = train_test_split(x, y, train_size = VALIDATION_SPLIT, random_state = RANDOM_STATE)\n",
    "# x = x.sample(n=SAMPLE, random_state=RANDOM_STATE)\n",
    "# y = y.sample(n=SAMPLE, random_state=RANDOM_STATE)\n",
    "# x_test = x_test.sample(n=SAMPLE, random_state=RANDOM_STATE)\n",
    "\n",
    "# undersample = TomekLinks(sampling_strategy='auto') #, random_state=RANDOM_STATE not minority RandomUnderSampler\n",
    "# X_under, y_under = undersample.fit_resample(x, y)"
   ]
  },
  {
   "cell_type": "markdown",
   "id": "300a531e",
   "metadata": {
    "papermill": {
     "duration": 0.034668,
     "end_time": "2021-12-04T01:48:09.455080",
     "exception": false,
     "start_time": "2021-12-04T01:48:09.420412",
     "status": "completed"
    },
    "tags": []
   },
   "source": [
    "# Undersampling"
   ]
  },
  {
   "cell_type": "code",
   "execution_count": 8,
   "id": "7116b002",
   "metadata": {
    "execution": {
     "iopub.execute_input": "2021-12-04T01:48:09.548757Z",
     "iopub.status.busy": "2021-12-04T01:48:09.544407Z",
     "iopub.status.idle": "2021-12-04T01:48:09.552487Z",
     "shell.execute_reply": "2021-12-04T01:48:09.551432Z",
     "shell.execute_reply.started": "2021-12-03T15:20:41.037409Z"
    },
    "papermill": {
     "duration": 0.063186,
     "end_time": "2021-12-04T01:48:09.552661",
     "exception": false,
     "start_time": "2021-12-04T01:48:09.489475",
     "status": "completed"
    },
    "tags": []
   },
   "outputs": [],
   "source": [
    "# small_sampling = train_data.groupby(column_y).apply(lambda s: s.sample(min(len(s), 5)))"
   ]
  },
  {
   "cell_type": "code",
   "execution_count": 9,
   "id": "3b9041dc",
   "metadata": {
    "execution": {
     "iopub.execute_input": "2021-12-04T01:48:09.635463Z",
     "iopub.status.busy": "2021-12-04T01:48:09.634754Z",
     "iopub.status.idle": "2021-12-04T01:48:09.725777Z",
     "shell.execute_reply": "2021-12-04T01:48:09.726362Z",
     "shell.execute_reply.started": "2021-12-03T15:20:41.043305Z"
    },
    "papermill": {
     "duration": 0.129308,
     "end_time": "2021-12-04T01:48:09.726589",
     "exception": false,
     "start_time": "2021-12-04T01:48:09.597281",
     "status": "completed"
    },
    "tags": []
   },
   "outputs": [],
   "source": [
    "sampling_key, sampling_count = np.unique(y, return_counts=True)\n",
    "sampling_count[sampling_count > SAMPLE] = SAMPLE\n",
    "zip_iterator = zip(sampling_key, sampling_count)\n",
    "sampling_params = dict(zip_iterator)"
   ]
  },
  {
   "cell_type": "code",
   "execution_count": 10,
   "id": "9e76f00a",
   "metadata": {
    "execution": {
     "iopub.execute_input": "2021-12-04T01:48:09.801462Z",
     "iopub.status.busy": "2021-12-04T01:48:09.799397Z",
     "iopub.status.idle": "2021-12-04T01:48:16.333413Z",
     "shell.execute_reply": "2021-12-04T01:48:16.333980Z",
     "shell.execute_reply.started": "2021-12-03T15:20:41.161156Z"
    },
    "papermill": {
     "duration": 6.572122,
     "end_time": "2021-12-04T01:48:16.334192",
     "exception": false,
     "start_time": "2021-12-04T01:48:09.762070",
     "status": "completed"
    },
    "tags": []
   },
   "outputs": [],
   "source": [
    "#, random_state=RANDOM_STATE not minority RandomUnderSampler\n",
    "undersample = RandomUnderSampler(\n",
    "    sampling_strategy=sampling_params, random_state=RANDOM_STATE)\n",
    "\n",
    "x, y = undersample.fit_resample(x, y)"
   ]
  },
  {
   "cell_type": "code",
   "execution_count": 11,
   "id": "efc0d3f3",
   "metadata": {
    "execution": {
     "iopub.execute_input": "2021-12-04T01:48:16.407740Z",
     "iopub.status.busy": "2021-12-04T01:48:16.407009Z",
     "iopub.status.idle": "2021-12-04T01:48:16.466381Z",
     "shell.execute_reply": "2021-12-04T01:48:16.465784Z",
     "shell.execute_reply.started": "2021-12-03T15:20:42.703022Z"
    },
    "papermill": {
     "duration": 0.097307,
     "end_time": "2021-12-04T01:48:16.466537",
     "exception": false,
     "start_time": "2021-12-04T01:48:16.369230",
     "status": "completed"
    },
    "tags": []
   },
   "outputs": [
    {
     "data": {
      "text/plain": [
       "(array([1, 2, 3, 4, 5, 6, 7]),\n",
       " array([1468136, 1468136,  195712,     377,       1,   11426,   62261]))"
      ]
     },
     "execution_count": 11,
     "metadata": {},
     "output_type": "execute_result"
    }
   ],
   "source": [
    "np.unique(y, return_counts=True)"
   ]
  },
  {
   "cell_type": "markdown",
   "id": "b53b7aff",
   "metadata": {
    "papermill": {
     "duration": 0.035652,
     "end_time": "2021-12-04T01:48:16.537541",
     "exception": false,
     "start_time": "2021-12-04T01:48:16.501889",
     "status": "completed"
    },
    "tags": []
   },
   "source": [
    "y to categorical"
   ]
  },
  {
   "cell_type": "code",
   "execution_count": 12,
   "id": "07753547",
   "metadata": {
    "execution": {
     "iopub.execute_input": "2021-12-04T01:48:16.616683Z",
     "iopub.status.busy": "2021-12-04T01:48:16.615783Z",
     "iopub.status.idle": "2021-12-04T01:48:16.704124Z",
     "shell.execute_reply": "2021-12-04T01:48:16.703367Z",
     "shell.execute_reply.started": "2021-12-03T15:20:42.711864Z"
    },
    "papermill": {
     "duration": 0.131472,
     "end_time": "2021-12-04T01:48:16.704288",
     "exception": false,
     "start_time": "2021-12-04T01:48:16.572816",
     "status": "completed"
    },
    "tags": []
   },
   "outputs": [],
   "source": [
    "# Prepare for multiclass classification\n",
    "y_cat = tf.keras.utils.to_categorical(y - 1)"
   ]
  },
  {
   "cell_type": "code",
   "execution_count": 13,
   "id": "8936fd74",
   "metadata": {
    "execution": {
     "iopub.execute_input": "2021-12-04T01:48:16.782810Z",
     "iopub.status.busy": "2021-12-04T01:48:16.782034Z",
     "iopub.status.idle": "2021-12-04T01:48:16.787442Z",
     "shell.execute_reply": "2021-12-04T01:48:16.786710Z",
     "shell.execute_reply.started": "2021-12-03T15:20:42.721964Z"
    },
    "papermill": {
     "duration": 0.046634,
     "end_time": "2021-12-04T01:48:16.787604",
     "exception": false,
     "start_time": "2021-12-04T01:48:16.740970",
     "status": "completed"
    },
    "tags": []
   },
   "outputs": [
    {
     "data": {
      "text/plain": [
       "(3206049, 1)"
      ]
     },
     "execution_count": 13,
     "metadata": {},
     "output_type": "execute_result"
    }
   ],
   "source": [
    "y.shape"
   ]
  },
  {
   "cell_type": "code",
   "execution_count": 14,
   "id": "58e80fac",
   "metadata": {
    "execution": {
     "iopub.execute_input": "2021-12-04T01:48:16.863822Z",
     "iopub.status.busy": "2021-12-04T01:48:16.863073Z",
     "iopub.status.idle": "2021-12-04T01:48:16.867537Z",
     "shell.execute_reply": "2021-12-04T01:48:16.868078Z",
     "shell.execute_reply.started": "2021-12-03T15:20:42.731565Z"
    },
    "papermill": {
     "duration": 0.045262,
     "end_time": "2021-12-04T01:48:16.868268",
     "exception": false,
     "start_time": "2021-12-04T01:48:16.823006",
     "status": "completed"
    },
    "tags": []
   },
   "outputs": [
    {
     "data": {
      "text/plain": [
       "(3206049, 7)"
      ]
     },
     "execution_count": 14,
     "metadata": {},
     "output_type": "execute_result"
    }
   ],
   "source": [
    "y_cat.shape"
   ]
  },
  {
   "cell_type": "code",
   "execution_count": 15,
   "id": "4e9c10e2",
   "metadata": {
    "execution": {
     "iopub.execute_input": "2021-12-04T01:48:16.943784Z",
     "iopub.status.busy": "2021-12-04T01:48:16.943120Z",
     "iopub.status.idle": "2021-12-04T01:48:16.946094Z",
     "shell.execute_reply": "2021-12-04T01:48:16.945442Z",
     "shell.execute_reply.started": "2021-12-03T15:20:42.752375Z"
    },
    "papermill": {
     "duration": 0.042548,
     "end_time": "2021-12-04T01:48:16.946267",
     "exception": false,
     "start_time": "2021-12-04T01:48:16.903719",
     "status": "completed"
    },
    "tags": []
   },
   "outputs": [],
   "source": [
    "# x_num = x.select_dtypes(include=[np.number])\n",
    "# x_cat = x.select_dtypes(include=['object'])"
   ]
  },
  {
   "cell_type": "code",
   "execution_count": 16,
   "id": "5701f84f",
   "metadata": {
    "execution": {
     "iopub.execute_input": "2021-12-04T01:48:17.023618Z",
     "iopub.status.busy": "2021-12-04T01:48:17.022716Z",
     "iopub.status.idle": "2021-12-04T01:48:17.026015Z",
     "shell.execute_reply": "2021-12-04T01:48:17.025302Z",
     "shell.execute_reply.started": "2021-12-03T15:20:42.762346Z"
    },
    "papermill": {
     "duration": 0.043466,
     "end_time": "2021-12-04T01:48:17.026219",
     "exception": false,
     "start_time": "2021-12-04T01:48:16.982753",
     "status": "completed"
    },
    "tags": []
   },
   "outputs": [],
   "source": [
    "# from sklearn.preprocessing import LabelEncoder\n",
    "# le = LabelEncoder()\n",
    "\n",
    "# for i in range(1,5):\n",
    "#     x[f'Wilderness_Area{i}'] = le.fit_transform(x[f'Wilderness_Area{i}'])\n",
    "#     x_test[f'Wilderness_Area{i}'] = le.fit_transform(x_test[f'Wilderness_Area{i}'])\n",
    "# for i in range(1,41):\n",
    "#     x[f'Soil_Type{i}'] = le.fit_transform(x[f'Soil_Type{i}'])\n",
    "#     x_test[f'Soil_Type{i}'] = le.fit_transform(x_test[f'Soil_Type{i}'])\n",
    "\n"
   ]
  },
  {
   "cell_type": "markdown",
   "id": "02fbb3f2",
   "metadata": {
    "papermill": {
     "duration": 0.036211,
     "end_time": "2021-12-04T01:48:17.098768",
     "exception": false,
     "start_time": "2021-12-04T01:48:17.062557",
     "status": "completed"
    },
    "tags": []
   },
   "source": [
    "# Scaler transformer\n",
    "By using RobustScaler(), we can remove the outliers\n",
    "![](https://github.com/furyhawk/kaggle_practice/blob/main/images/Scalers.png?raw=true)"
   ]
  },
  {
   "cell_type": "code",
   "execution_count": 17,
   "id": "c5aba84b",
   "metadata": {
    "execution": {
     "iopub.execute_input": "2021-12-04T01:48:17.177282Z",
     "iopub.status.busy": "2021-12-04T01:48:17.176546Z",
     "iopub.status.idle": "2021-12-04T01:48:17.184048Z",
     "shell.execute_reply": "2021-12-04T01:48:17.184629Z",
     "shell.execute_reply.started": "2021-12-03T15:20:42.773503Z"
    },
    "papermill": {
     "duration": 0.049799,
     "end_time": "2021-12-04T01:48:17.184822",
     "exception": false,
     "start_time": "2021-12-04T01:48:17.135023",
     "status": "completed"
    },
    "tags": []
   },
   "outputs": [],
   "source": [
    "from sklearn.preprocessing import StandardScaler, MinMaxScaler, RobustScaler\n",
    "from sklearn.pipeline import make_pipeline\n",
    "from sklearn.compose import make_column_transformer\n",
    "\n",
    "transformer_all_cols = make_pipeline(\n",
    "    RobustScaler(),\n",
    "#     StandardScaler(),\n",
    "#     MinMaxScaler(feature_range=(0, 1))\n",
    ")\n",
    "\n",
    "preprocessor = make_column_transformer(\n",
    "    (transformer_all_cols, x.columns[:]),\n",
    ")"
   ]
  },
  {
   "cell_type": "markdown",
   "id": "90aeec52",
   "metadata": {
    "papermill": {
     "duration": 0.036016,
     "end_time": "2021-12-04T01:48:17.257058",
     "exception": false,
     "start_time": "2021-12-04T01:48:17.221042",
     "status": "completed"
    },
    "tags": []
   },
   "source": [
    "# Train Model and Create Submissions #\n",
    "\n",
    "Once you're satisfied with everything, it's time to create your final predictions! This cell will:\n",
    "- use the best trained model to make predictions from the test set\n",
    "- save the predictions to a CSV file"
   ]
  },
  {
   "cell_type": "code",
   "execution_count": 18,
   "id": "82416741",
   "metadata": {
    "execution": {
     "iopub.execute_input": "2021-12-04T01:48:17.339863Z",
     "iopub.status.busy": "2021-12-04T01:48:17.339149Z",
     "iopub.status.idle": "2021-12-04T01:48:17.341723Z",
     "shell.execute_reply": "2021-12-04T01:48:17.340975Z",
     "shell.execute_reply.started": "2021-12-03T15:20:42.789326Z"
    },
    "papermill": {
     "duration": 0.048636,
     "end_time": "2021-12-04T01:48:17.341872",
     "exception": false,
     "start_time": "2021-12-04T01:48:17.293236",
     "status": "completed"
    },
    "tags": []
   },
   "outputs": [],
   "source": [
    "def load_model():\n",
    "    \n",
    "    early_stopping = EarlyStopping(\n",
    "        patience=10,\n",
    "        min_delta=0,\n",
    "        monitor='val_acc',\n",
    "        restore_best_weights=True,\n",
    "        verbose=VERBOSE,\n",
    "        mode='max',\n",
    "        baseline=None,\n",
    "    )\n",
    "    plateau = ReduceLROnPlateau(\n",
    "            monitor='val_loss', \n",
    "            factor=0.5, \n",
    "            patience=5, \n",
    "            verbose=VERBOSE,\n",
    "            mode='min')\n",
    "\n",
    "# -----------------------------------------------------------------\n",
    "# Model \n",
    "\n",
    "    model = keras.Sequential([\n",
    "    layers.BatchNormalization(input_shape = [x.shape[1]], name='input'),\n",
    "    layers.Dense(108, activation=ACTIVATION),\n",
    "#     layers.Dropout(rate = 0.3),\n",
    "    layers.BatchNormalization(),\n",
    "    layers.Dense(64, activation=ACTIVATION),\n",
    "#     layers.Dropout(rate = 0.3),\n",
    "    layers.BatchNormalization(),\n",
    "    layers.Dense(64, activation=ACTIVATION), \n",
    "#     layers.Dropout(rate = 0.3),\n",
    "    layers.Dense(y_cat.shape[1], activation = 'softmax'),\n",
    "    ])\n",
    "\n",
    "# -----------------------------------------------------------------\n",
    "# sparse_categorical_crossentropy\n",
    "    model.compile(\n",
    "        optimizer= tf.keras.optimizers.Adam(learning_rate=LEARNING_RATE),\n",
    "        loss='categorical_crossentropy',\n",
    "        metrics=['acc'],\n",
    "    )\n",
    "    \n",
    "    return model, early_stopping, plateau"
   ]
  },
  {
   "cell_type": "markdown",
   "id": "73b1c7cc",
   "metadata": {
    "papermill": {
     "duration": 0.036087,
     "end_time": "2021-12-04T01:48:17.413891",
     "exception": false,
     "start_time": "2021-12-04T01:48:17.377804",
     "status": "completed"
    },
    "tags": []
   },
   "source": [
    "# Kfold"
   ]
  },
  {
   "cell_type": "code",
   "execution_count": 19,
   "id": "59e875c9",
   "metadata": {
    "_kg_hide-output": true,
    "execution": {
     "iopub.execute_input": "2021-12-04T01:48:17.493184Z",
     "iopub.status.busy": "2021-12-04T01:48:17.492290Z",
     "iopub.status.idle": "2021-12-04T01:48:17.495079Z",
     "shell.execute_reply": "2021-12-04T01:48:17.494349Z",
     "shell.execute_reply.started": "2021-12-03T15:20:42.799883Z"
    },
    "papermill": {
     "duration": 0.045847,
     "end_time": "2021-12-04T01:48:17.495245",
     "exception": false,
     "start_time": "2021-12-04T01:48:17.449398",
     "status": "completed"
    },
    "tags": []
   },
   "outputs": [],
   "source": [
    "def plot_acc(history):\n",
    "    # summarize history for accuracy\n",
    "    plt.plot(history.history['acc'])\n",
    "    plt.plot(history.history['val_acc'])\n",
    "    plt.title('model accuracy')\n",
    "    plt.ylabel('acc')\n",
    "    plt.xlabel('epoch')\n",
    "    plt.legend(['train', 'test'], loc='upper left')\n",
    "    plt.show()\n",
    "    # summarize history for loss\n",
    "    plt.plot(history.history['loss'])\n",
    "    plt.plot(history.history['val_loss'])\n",
    "    plt.title('model loss')\n",
    "    plt.ylabel('loss')\n",
    "    plt.xlabel('epoch')\n",
    "    plt.legend(['train', 'test'], loc='upper left')\n",
    "    plt.show()"
   ]
  },
  {
   "cell_type": "code",
   "execution_count": 20,
   "id": "d4b210da",
   "metadata": {
    "execution": {
     "iopub.execute_input": "2021-12-04T01:48:17.575596Z",
     "iopub.status.busy": "2021-12-04T01:48:17.574845Z",
     "iopub.status.idle": "2021-12-04T01:48:17.578826Z",
     "shell.execute_reply": "2021-12-04T01:48:17.578142Z",
     "shell.execute_reply.started": "2021-12-03T15:20:42.816906Z"
    },
    "papermill": {
     "duration": 0.046672,
     "end_time": "2021-12-04T01:48:17.578982",
     "exception": false,
     "start_time": "2021-12-04T01:48:17.532310",
     "status": "completed"
    },
    "tags": []
   },
   "outputs": [],
   "source": [
    "from sklearn.metrics import accuracy_score, log_loss\n",
    "from sklearn.model_selection import KFold, StratifiedKFold\n",
    "from sklearn.preprocessing import StandardScaler, RobustScaler, PowerTransformer\n",
    "\n",
    "preds_valid_f = {}\n",
    "preds_test = []\n",
    "total_acc = []\n",
    "f_scores = []\n",
    "\n",
    "kf = StratifiedKFold(n_splits=FOLDS,random_state=RANDOM_STATE,shuffle=True)"
   ]
  },
  {
   "cell_type": "code",
   "execution_count": 21,
   "id": "a9daeab0",
   "metadata": {
    "execution": {
     "iopub.execute_input": "2021-12-04T01:48:17.662335Z",
     "iopub.status.busy": "2021-12-04T01:48:17.661585Z",
     "iopub.status.idle": "2021-12-04T02:59:19.516393Z",
     "shell.execute_reply": "2021-12-04T02:59:19.515663Z",
     "shell.execute_reply.started": "2021-12-03T15:20:42.827845Z"
    },
    "papermill": {
     "duration": 4261.901392,
     "end_time": "2021-12-04T02:59:19.516701",
     "exception": false,
     "start_time": "2021-12-04T01:48:17.615309",
     "status": "completed"
    },
    "tags": []
   },
   "outputs": [
    {
     "name": "stderr",
     "output_type": "stream",
     "text": [
      "/opt/conda/lib/python3.7/site-packages/sklearn/model_selection/_split.py:672: UserWarning: The least populated class in y has only 1 members, which is less than n_splits=5.\n",
      "  % (min_groups, self.n_splits)), UserWarning)\n",
      "\n",
      "User settings:\n",
      "\n",
      "   KMP_AFFINITY=granularity=fine,verbose,compact,1,0\n",
      "   KMP_BLOCKTIME=0\n",
      "   KMP_DUPLICATE_LIB_OK=True\n",
      "   KMP_INIT_AT_FORK=FALSE\n",
      "   KMP_SETTINGS=1\n",
      "   KMP_WARNINGS=0\n",
      "\n",
      "Effective settings:\n",
      "\n",
      "   KMP_ABORT_DELAY=0\n",
      "   KMP_ADAPTIVE_LOCK_PROPS='1,1024'\n",
      "   KMP_ALIGN_ALLOC=64\n",
      "   KMP_ALL_THREADPRIVATE=128\n",
      "   KMP_ATOMIC_MODE=2\n",
      "   KMP_BLOCKTIME=0\n",
      "   KMP_CPUINFO_FILE: value is not defined\n",
      "   KMP_DETERMINISTIC_REDUCTION=false\n",
      "   KMP_DEVICE_THREAD_LIMIT=2147483647\n",
      "   KMP_DISP_NUM_BUFFERS=7\n",
      "   KMP_DUPLICATE_LIB_OK=true\n",
      "   KMP_ENABLE_TASK_THROTTLING=true\n",
      "   KMP_FORCE_REDUCTION: value is not defined\n",
      "   KMP_FOREIGN_THREADS_THREADPRIVATE=true\n",
      "   KMP_FORKJOIN_BARRIER='2,2'\n",
      "   KMP_FORKJOIN_BARRIER_PATTERN='hyper,hyper'\n",
      "   KMP_GTID_MODE=3\n",
      "   KMP_HANDLE_SIGNALS=false\n",
      "   KMP_HOT_TEAMS_MAX_LEVEL=1\n",
      "   KMP_HOT_TEAMS_MODE=0\n",
      "   KMP_INIT_AT_FORK=true\n",
      "   KMP_LIBRARY=throughput\n",
      "   KMP_LOCK_KIND=queuing\n",
      "   KMP_MALLOC_POOL_INCR=1M\n",
      "   KMP_NUM_LOCKS_IN_BLOCK=1\n",
      "   KMP_PLAIN_BARRIER='2,2'\n",
      "   KMP_PLAIN_BARRIER_PATTERN='hyper,hyper'\n",
      "   KMP_REDUCTION_BARRIER='1,1'\n",
      "   KMP_REDUCTION_BARRIER_PATTERN='hyper,hyper'\n",
      "   KMP_SCHEDULE='static,balanced;guided,iterative'\n",
      "   KMP_SETTINGS=true\n",
      "   KMP_SPIN_BACKOFF_PARAMS='4096,100'\n",
      "   KMP_STACKOFFSET=64\n",
      "   KMP_STACKPAD=0\n",
      "   KMP_STACKSIZE=8M\n",
      "   KMP_STORAGE_MAP=false\n",
      "   KMP_TASKING=2\n",
      "   KMP_TASKLOOP_MIN_TASKS=0\n",
      "   KMP_TASK_STEALING_CONSTRAINT=1\n",
      "   KMP_TEAMS_THREAD_LIMIT=4\n",
      "   KMP_TOPOLOGY_METHOD=all\n",
      "   KMP_USE_YIELD=1\n",
      "   KMP_VERSION=false\n",
      "   KMP_WARNINGS=false\n",
      "   OMP_AFFINITY_FORMAT='OMP: pid %P tid %i thread %n bound to OS proc set {%A}'\n",
      "   OMP_ALLOCATOR=omp_default_mem_alloc\n",
      "   OMP_CANCELLATION=false\n",
      "   OMP_DEFAULT_DEVICE=0\n",
      "   OMP_DISPLAY_AFFINITY=false\n",
      "   OMP_DISPLAY_ENV=false\n",
      "   OMP_DYNAMIC=false\n",
      "   OMP_MAX_ACTIVE_LEVELS=1\n",
      "   OMP_MAX_TASK_PRIORITY=0\n",
      "   OMP_NESTED: deprecated; max-active-levels-var=1\n",
      "   OMP_NUM_THREADS: value is not defined\n",
      "   OMP_PLACES: value is not defined\n",
      "   OMP_PROC_BIND='intel'\n",
      "   OMP_SCHEDULE='static'\n",
      "   OMP_STACKSIZE=8M\n",
      "   OMP_TARGET_OFFLOAD=DEFAULT\n",
      "   OMP_THREAD_LIMIT=2147483647\n",
      "   OMP_WAIT_POLICY=PASSIVE\n",
      "   KMP_AFFINITY='verbose,warnings,respect,granularity=fine,compact,1,0'\n",
      "\n",
      "2021-12-04 01:48:26.984378: I tensorflow/core/common_runtime/process_util.cc:146] Creating new thread pool with default inter op setting: 2. Tune using inter_op_parallelism_threads for best performance.\n",
      "2021-12-04 01:48:28.505002: I tensorflow/compiler/mlir/mlir_graph_optimization_pass.cc:185] None of the MLIR Optimization Passes are enabled (registered 2)\n"
     ]
    },
    {
     "name": "stdout",
     "output_type": "stream",
     "text": [
      "Fold 0 accuracy_score: 0.9524773475148547\n",
      "Fold 1 accuracy_score: 0.9568316152274606\n",
      "Fold 2 accuracy_score: 0.9578889911261521\n",
      "Fold 3 accuracy_score: 0.9577501910450554\n",
      "Fold 4 accuracy_score: 0.9540960903543151\n",
      "mean accuracy_score: 0.9558088470535676, std: 0.0021528722805034942\n"
     ]
    }
   ],
   "source": [
    "test  = test_data.copy()\n",
    "test = preprocessor.fit_transform(test)\n",
    "\n",
    "for fold,(train_index, valid_index) in enumerate(kf.split(x, y=y.Cover_Type)):\n",
    "\n",
    "    X_train, X_valid = x.iloc[train_index], x.iloc[valid_index]\n",
    "    y_train, y_valid = y_cat[train_index], y_cat[valid_index]\n",
    "\n",
    "    #   --------------------------------------------------------  \n",
    "    # Preprocessing\n",
    "    \n",
    "    index_valid  = X_valid.index.tolist()\n",
    "    \n",
    "    X_train = preprocessor.fit_transform(X_train)\n",
    "    X_valid = preprocessor.transform(X_valid)\n",
    "    \n",
    "    #  ----------------------------------------------------------    \n",
    "    # Model\n",
    "    \n",
    "    model, early_stopping, plateau  = load_model()\n",
    "\n",
    "    history = model.fit(  X_train, y_train,\n",
    "                validation_data = (X_valid, y_valid),\n",
    "                batch_size = BATCH_SIZE, \n",
    "                epochs = EPOCHS,\n",
    "                callbacks = [early_stopping, plateau],\n",
    "                shuffle = True,\n",
    "                verbose = 0\n",
    "              )\n",
    "    \n",
    "    #  ----------------------------------------------------------\n",
    "    #  oof\n",
    "    preds_valid = model.predict(X_valid, batch_size=BATCH_SIZE)\n",
    "    \n",
    "    #  ----------------------------------------------------------\n",
    "    #  test dataset predictions for submission np.argmax(, axis=1) + 1\n",
    "    preds_test.append(np.argmax(model.predict(test, batch_size=BATCH_SIZE), axis=1) + 1)\n",
    "\n",
    "    #  ----------------------------------------------------------\n",
    "    #  Saving  scores to plot the end  \n",
    "    scores = pd.DataFrame(history.history)\n",
    "    scores['folds'] = fold\n",
    "    if fold == 0:\n",
    "        f_scores = scores \n",
    "    else: \n",
    "        f_scores = pd.concat([f_scores, scores], axis  = 0)\n",
    "        \n",
    "    #  ----------------------------------------------------------\n",
    "    #  concatenating valid preds\n",
    "    # Getting score for a fold model\n",
    "    fold_acc = accuracy_score(y.iloc[valid_index].Cover_Type, np.argmax(preds_valid, axis=1) + 1)\n",
    "    print(f\"Fold {fold} accuracy_score: {fold_acc}\")\n",
    "\n",
    "    # Total auc\n",
    "    total_acc.append(fold_acc)\n",
    "    \n",
    "    del model\n",
    "    gc.collect()\n",
    "\n",
    "print(f\"mean accuracy_score: {np.mean(total_acc)}, std: {np.std(total_acc)}\")"
   ]
  },
  {
   "cell_type": "markdown",
   "id": "ba15d139",
   "metadata": {
    "papermill": {
     "duration": 0.039539,
     "end_time": "2021-12-04T02:59:19.595261",
     "exception": false,
     "start_time": "2021-12-04T02:59:19.555722",
     "status": "completed"
    },
    "tags": []
   },
   "source": [
    "# Evaluation"
   ]
  },
  {
   "cell_type": "code",
   "execution_count": 22,
   "id": "0f501e69",
   "metadata": {
    "execution": {
     "iopub.execute_input": "2021-12-04T02:59:19.684773Z",
     "iopub.status.busy": "2021-12-04T02:59:19.683968Z",
     "iopub.status.idle": "2021-12-04T02:59:22.663595Z",
     "shell.execute_reply": "2021-12-04T02:59:22.664211Z",
     "shell.execute_reply.started": "2021-12-03T15:26:53.761532Z"
    },
    "papermill": {
     "duration": 3.028976,
     "end_time": "2021-12-04T02:59:22.664400",
     "exception": false,
     "start_time": "2021-12-04T02:59:19.635424",
     "status": "completed"
    },
    "tags": []
   },
   "outputs": [
    {
     "name": "stdout",
     "output_type": "stream",
     "text": [
      "Validation Loss: 0.1052\n",
      "Validation Loss: 0.0941\n",
      "Validation Loss: 0.0909\n",
      "Validation Loss: 0.0917\n",
      "Validation Loss: 0.1008\n"
     ]
    },
    {
     "data": {
      "image/png": "[encoded data removed]",
      "text/plain": [
       "<Figure size 1008x288 with 2 Axes>"
      ]
     },
     "metadata": {},
     "output_type": "display_data"
    },
    {
     "data": {
      "image/png": "[encoded data removed]",
      "text/plain": [
       "<Figure size 1008x288 with 2 Axes>"
      ]
     },
     "metadata": {},
     "output_type": "display_data"
    },
    {
     "data": {
      "image/png": "[encoded data removed]",
      "text/plain": [
       "<Figure size 1008x288 with 2 Axes>"
      ]
     },
     "metadata": {},
     "output_type": "display_data"
    },
    {
     "data": {
      "image/png": "[encoded data removed]",
      "text/plain": [
       "<Figure size 1008x288 with 2 Axes>"
      ]
     },
     "metadata": {},
     "output_type": "display_data"
    },
    {
     "data": {
      "image/png": "[encoded data removed]",
      "text/plain": [
       "<Figure size 1008x288 with 2 Axes>"
      ]
     },
     "metadata": {},
     "output_type": "display_data"
    }
   ],
   "source": [
    "for fold in range(f_scores['folds'].nunique()):\n",
    "    history_f = f_scores[f_scores['folds'] == fold]\n",
    "\n",
    "    fig, ax = plt.subplots(1, 2, tight_layout=True, figsize=(14,4))\n",
    "    fig.suptitle('Fold : '+str(fold), fontsize=14)\n",
    "        \n",
    "    plt.subplot(1,2,1)\n",
    "    plt.plot(history_f.loc[:, ['loss', 'val_loss']], label= ['loss', 'val_loss'])\n",
    "    plt.legend(fontsize=15)\n",
    "    plt.grid()\n",
    "    \n",
    "    plt.subplot(1,2,2)\n",
    "    plt.plot(history_f.loc[:, ['acc', 'val_acc']],label= ['acc', 'val_acc'])\n",
    "    plt.legend(fontsize=15)\n",
    "    plt.grid()\n",
    "    \n",
    "    print(\"Validation Loss: {:0.4f}\".format(history_f['val_loss'].min()));"
   ]
  },
  {
   "cell_type": "markdown",
   "id": "c3b65cda",
   "metadata": {
    "papermill": {
     "duration": 0.045725,
     "end_time": "2021-12-04T02:59:22.756181",
     "exception": false,
     "start_time": "2021-12-04T02:59:22.710456",
     "status": "completed"
    },
    "tags": []
   },
   "source": [
    "# Submission"
   ]
  },
  {
   "cell_type": "code",
   "execution_count": 23,
   "id": "e98d90f8",
   "metadata": {
    "execution": {
     "iopub.execute_input": "2021-12-04T02:59:22.853088Z",
     "iopub.status.busy": "2021-12-04T02:59:22.851955Z",
     "iopub.status.idle": "2021-12-04T03:00:05.140832Z",
     "shell.execute_reply": "2021-12-04T03:00:05.141424Z",
     "shell.execute_reply.started": "2021-12-03T15:26:56.393259Z"
    },
    "papermill": {
     "duration": 42.339083,
     "end_time": "2021-12-04T03:00:05.141617",
     "exception": false,
     "start_time": "2021-12-04T02:59:22.802534",
     "status": "completed"
    },
    "tags": []
   },
   "outputs": [
    {
     "data": {
      "text/html": [
       "<div>\n",
       "<style scoped>\n",
       "    .dataframe tbody tr th:only-of-type {\n",
       "        vertical-align: middle;\n",
       "    }\n",
       "\n",
       "    .dataframe tbody tr th {\n",
       "        vertical-align: top;\n",
       "    }\n",
       "\n",
       "    .dataframe thead th {\n",
       "        text-align: right;\n",
       "    }\n",
       "</style>\n",
       "<table border=\"1\" class=\"dataframe\">\n",
       "  <thead>\n",
       "    <tr style=\"text-align: right;\">\n",
       "      <th></th>\n",
       "      <th>Id</th>\n",
       "      <th>Cover_Type</th>\n",
       "    </tr>\n",
       "  </thead>\n",
       "  <tbody>\n",
       "    <tr>\n",
       "      <th>0</th>\n",
       "      <td>4000000</td>\n",
       "      <td>2</td>\n",
       "    </tr>\n",
       "    <tr>\n",
       "      <th>1</th>\n",
       "      <td>4000001</td>\n",
       "      <td>2</td>\n",
       "    </tr>\n",
       "    <tr>\n",
       "      <th>2</th>\n",
       "      <td>4000002</td>\n",
       "      <td>2</td>\n",
       "    </tr>\n",
       "    <tr>\n",
       "      <th>3</th>\n",
       "      <td>4000003</td>\n",
       "      <td>2</td>\n",
       "    </tr>\n",
       "    <tr>\n",
       "      <th>4</th>\n",
       "      <td>4000004</td>\n",
       "      <td>2</td>\n",
       "    </tr>\n",
       "    <tr>\n",
       "      <th>...</th>\n",
       "      <td>...</td>\n",
       "      <td>...</td>\n",
       "    </tr>\n",
       "    <tr>\n",
       "      <th>999995</th>\n",
       "      <td>4999995</td>\n",
       "      <td>2</td>\n",
       "    </tr>\n",
       "    <tr>\n",
       "      <th>999996</th>\n",
       "      <td>4999996</td>\n",
       "      <td>1</td>\n",
       "    </tr>\n",
       "    <tr>\n",
       "      <th>999997</th>\n",
       "      <td>4999997</td>\n",
       "      <td>2</td>\n",
       "    </tr>\n",
       "    <tr>\n",
       "      <th>999998</th>\n",
       "      <td>4999998</td>\n",
       "      <td>1</td>\n",
       "    </tr>\n",
       "    <tr>\n",
       "      <th>999999</th>\n",
       "      <td>4999999</td>\n",
       "      <td>3</td>\n",
       "    </tr>\n",
       "  </tbody>\n",
       "</table>\n",
       "<p>1000000 rows × 2 columns</p>\n",
       "</div>"
      ],
      "text/plain": [
       "             Id  Cover_Type\n",
       "0       4000000           2\n",
       "1       4000001           2\n",
       "2       4000002           2\n",
       "3       4000003           2\n",
       "4       4000004           2\n",
       "...         ...         ...\n",
       "999995  4999995           2\n",
       "999996  4999996           1\n",
       "999997  4999997           2\n",
       "999998  4999998           1\n",
       "999999  4999999           3\n",
       "\n",
       "[1000000 rows x 2 columns]"
      ]
     },
     "execution_count": 23,
     "metadata": {},
     "output_type": "execute_result"
    }
   ],
   "source": [
    "sub = pd.read_csv(INPUT + '/sample_submission.csv')\n",
    "sub[column_y] = (stats.mode(preds_test)[0][0]) # preds_test[FOLDS-1] # argmax reverse of to_categorical sub[column_y] = (np.argmax(sum(preds_test), axis=1) + 1)\n",
    "sub.to_csv('submission.csv', index=False)\n",
    "sub"
   ]
  },
  {
   "cell_type": "code",
   "execution_count": 24,
   "id": "7f416553",
   "metadata": {
    "execution": {
     "iopub.execute_input": "2021-12-04T03:00:05.241085Z",
     "iopub.status.busy": "2021-12-04T03:00:05.240357Z",
     "iopub.status.idle": "2021-12-04T03:00:05.268898Z",
     "shell.execute_reply": "2021-12-04T03:00:05.268201Z",
     "shell.execute_reply.started": "2021-12-03T15:27:21.297163Z"
    },
    "papermill": {
     "duration": 0.079538,
     "end_time": "2021-12-04T03:00:05.269055",
     "exception": false,
     "start_time": "2021-12-04T03:00:05.189517",
     "status": "completed"
    },
    "tags": []
   },
   "outputs": [
    {
     "data": {
      "text/plain": [
       "(array([1, 2, 3, 4, 6, 7]),\n",
       " array([403668, 495537,  54297,      1,   2392,  44105]))"
      ]
     },
     "execution_count": 24,
     "metadata": {},
     "output_type": "execute_result"
    }
   ],
   "source": [
    "np.unique(sub[column_y], return_counts=True)"
   ]
  },
  {
   "cell_type": "code",
   "execution_count": 25,
   "id": "d4a25b91",
   "metadata": {
    "execution": {
     "iopub.execute_input": "2021-12-04T03:00:05.368184Z",
     "iopub.status.busy": "2021-12-04T03:00:05.367434Z",
     "iopub.status.idle": "2021-12-04T03:00:05.369771Z",
     "shell.execute_reply": "2021-12-04T03:00:05.370359Z",
     "shell.execute_reply.started": "2021-12-03T15:27:21.330493Z"
    },
    "papermill": {
     "duration": 0.054144,
     "end_time": "2021-12-04T03:00:05.370556",
     "exception": false,
     "start_time": "2021-12-04T03:00:05.316412",
     "status": "completed"
    },
    "tags": []
   },
   "outputs": [],
   "source": [
    "# np.array(preds_test).shape"
   ]
  },
  {
   "cell_type": "code",
   "execution_count": 26,
   "id": "1bef5d31",
   "metadata": {
    "execution": {
     "iopub.execute_input": "2021-12-04T03:00:05.501926Z",
     "iopub.status.busy": "2021-12-04T03:00:05.484484Z",
     "iopub.status.idle": "2021-12-04T03:00:05.867793Z",
     "shell.execute_reply": "2021-12-04T03:00:05.868504Z",
     "shell.execute_reply.started": "2021-12-03T15:37:58.626843Z"
    },
    "papermill": {
     "duration": 0.450453,
     "end_time": "2021-12-04T03:00:05.868707",
     "exception": false,
     "start_time": "2021-12-04T03:00:05.418254",
     "status": "completed"
    },
    "tags": []
   },
   "outputs": [
    {
     "data": {
      "image/png": "[encoded data removed]",
      "text/plain": [
       "<Figure size 720x216 with 1 Axes>"
      ]
     },
     "metadata": {},
     "output_type": "display_data"
    }
   ],
   "source": [
    "from matplotlib.ticker import MaxNLocator, FormatStrFormatter, PercentFormatter\n",
    "\n",
    "# Plot the distribution of the training set target\n",
    "plt.figure(figsize=(10,3))\n",
    "plt.hist(train_data[column_y], bins=np.linspace(0.5, 7.5, 8), density=True)\n",
    "plt.xlabel('Training set target')\n",
    "plt.ylabel('Density')\n",
    "plt.gca().yaxis.set_major_formatter(PercentFormatter())\n",
    "plt.show()"
   ]
  },
  {
   "cell_type": "code",
   "execution_count": 27,
   "id": "fd48a283",
   "metadata": {
    "execution": {
     "iopub.execute_input": "2021-12-04T03:00:06.000748Z",
     "iopub.status.busy": "2021-12-04T03:00:06.000002Z",
     "iopub.status.idle": "2021-12-04T03:00:06.290580Z",
     "shell.execute_reply": "2021-12-04T03:00:06.291174Z",
     "shell.execute_reply.started": "2021-12-03T15:39:13.268498Z"
    },
    "papermill": {
     "duration": 0.373776,
     "end_time": "2021-12-04T03:00:06.291362",
     "exception": false,
     "start_time": "2021-12-04T03:00:05.917586",
     "status": "completed"
    },
    "tags": []
   },
   "outputs": [
    {
     "data": {
      "image/png": "[encoded data removed]",
      "text/plain": [
       "<Figure size 720x216 with 1 Axes>"
      ]
     },
     "metadata": {},
     "output_type": "display_data"
    }
   ],
   "source": [
    "# Plot the distribution of the test predictions\n",
    "plt.figure(figsize=(10,3))\n",
    "plt.hist(sub[column_y], bins=np.linspace(0.5, 7.5, 8), density=True)\n",
    "plt.xlabel('Test set predictions')\n",
    "plt.ylabel('Density')\n",
    "plt.gca().yaxis.set_major_formatter(PercentFormatter())\n",
    "plt.show()"
   ]
  },
  {
   "cell_type": "code",
   "execution_count": 28,
   "id": "724a576b",
   "metadata": {
    "execution": {
     "iopub.execute_input": "2021-12-04T03:00:06.392741Z",
     "iopub.status.busy": "2021-12-04T03:00:06.391969Z",
     "iopub.status.idle": "2021-12-04T03:00:06.742171Z",
     "shell.execute_reply": "2021-12-04T03:00:06.742702Z",
     "shell.execute_reply.started": "2021-12-03T15:38:08.323891Z"
    },
    "papermill": {
     "duration": 0.402376,
     "end_time": "2021-12-04T03:00:06.742893",
     "exception": false,
     "start_time": "2021-12-04T03:00:06.340517",
     "status": "completed"
    },
    "tags": []
   },
   "outputs": [
    {
     "name": "stderr",
     "output_type": "stream",
     "text": [
      "/opt/conda/lib/python3.7/site-packages/seaborn/_decorators.py:43: FutureWarning: Pass the following variable as a keyword arg: x. From version 0.12, the only valid positional argument will be `data`, and passing other arguments without an explicit keyword will result in an error or misinterpretation.\n",
      "  FutureWarning\n"
     ]
    },
    {
     "data": {
      "image/png": "[encoded data removed]",
      "text/plain": [
       "<Figure size 432x288 with 1 Axes>"
      ]
     },
     "metadata": {},
     "output_type": "display_data"
    }
   ],
   "source": [
    "# Plot the distribution of the test predictions\n",
    "sns.countplot(sub[column_y])\n",
    "sns.despine()"
   ]
  },
  {
   "cell_type": "code",
   "execution_count": 29,
   "id": "78eda364",
   "metadata": {
    "execution": {
     "iopub.execute_input": "2021-12-04T03:00:06.850222Z",
     "iopub.status.busy": "2021-12-04T03:00:06.849433Z",
     "iopub.status.idle": "2021-12-04T03:00:07.502981Z",
     "shell.execute_reply": "2021-12-04T03:00:07.503666Z",
     "shell.execute_reply.started": "2021-12-03T15:38:10.947004Z"
    },
    "papermill": {
     "duration": 0.709803,
     "end_time": "2021-12-04T03:00:07.503854",
     "exception": false,
     "start_time": "2021-12-04T03:00:06.794051",
     "status": "completed"
    },
    "tags": []
   },
   "outputs": [
    {
     "name": "stderr",
     "output_type": "stream",
     "text": [
      "/opt/conda/lib/python3.7/site-packages/seaborn/_decorators.py:43: FutureWarning: Pass the following variable as a keyword arg: x. From version 0.12, the only valid positional argument will be `data`, and passing other arguments without an explicit keyword will result in an error or misinterpretation.\n",
      "  FutureWarning\n"
     ]
    },
    {
     "data": {
      "image/png": "[encoded data removed]",
      "text/plain": [
       "<Figure size 432x288 with 1 Axes>"
      ]
     },
     "metadata": {},
     "output_type": "display_data"
    }
   ],
   "source": [
    "# Plot the distribution of the training set\n",
    "sns.countplot(train_data[column_y])\n",
    "sns.despine()"
   ]
  },
  {
   "cell_type": "markdown",
   "id": "cc2c7b6d",
   "metadata": {
    "papermill": {
     "duration": 0.051527,
     "end_time": "2021-12-04T03:00:07.606496",
     "exception": false,
     "start_time": "2021-12-04T03:00:07.554969",
     "status": "completed"
    },
    "tags": []
   },
   "source": [
    "keys_list, values_list = np.unique(my_list, return_counts=True)keys_list, values_list = np.unique(my_list, return_counts=True)To submit these predictions to the competition, follow these steps:\n",
    "\n",
    "1. Begin by clicking on the blue **Save Version** button in the top right corner of the window.  This will generate a pop-up window.\n",
    "2. Ensure that the **Save and Run All** option is selected, and then click on the blue **Save** button.\n",
    "3. This generates a window in the bottom left corner of the notebook.  After it has finished running, click on the number to the right of the **Save Version** button.  This pulls up a list of versions on the right of the screen.  Click on the ellipsis **(...)** to the right of the most recent version, and select **Open in Viewer**.  This brings you into view mode of the same page. You will need to scroll down to get back to these instructions.\n",
    "4. Click on the **Output** tab on the right of the screen.  Then, click on the file you would like to submit, and click on the blue **Submit** button to submit your results to the leaderboard.\n",
    "\n",
    "You have now successfully submitted to the competition!\n",
    "\n",
    "# Next Steps #\n",
    "\n",
    "If you want to keep working to improve your performance, select the blue **Edit** button in the top right of the screen. Then you can change your code and repeat the process. There's a lot of room to improve, and you will climb up the leaderboard as you work.\n",
    "\n",
    "Be sure to check out [other users' notebooks](https://www.kaggle.com/c/house-prices-advanced-regression-techniques/notebooks) in this competition. You'll find lots of great ideas for new features and as well as other ways to discover more things about the dataset or make better predictions. There's also the [discussion forum](https://www.kaggle.com/c/house-prices-advanced-regression-techniques/discussion), where you can share ideas with other Kagglers.\n",
    "\n",
    "Have fun Kaggling!"
   ]
  },
  {
   "cell_type": "code",
   "execution_count": null,
   "id": "fd232214",
   "metadata": {
    "papermill": {
     "duration": 0.050606,
     "end_time": "2021-12-04T03:00:07.709308",
     "exception": false,
     "start_time": "2021-12-04T03:00:07.658702",
     "status": "completed"
    },
    "tags": []
   },
   "outputs": [],
   "source": []
  }
 ],
 "metadata": {
  "kernelspec": {
   "display_name": "Python 3",
   "language": "python",
   "name": "python3"
  },
  "language_info": {
   "codemirror_mode": {
    "name": "ipython",
    "version": 3
   },
   "file_extension": ".py",
   "mimetype": "text/x-python",
   "name": "python",
   "nbconvert_exporter": "python",
   "pygments_lexer": "ipython3",
   "version": "3.7.10"
  },
  "papermill": {
   "default_parameters": {},
   "duration": 4364.64728,
   "end_time": "2021-12-04T03:00:10.624860",
   "environment_variables": {},
   "exception": null,
   "input_path": "__notebook__.ipynb",
   "output_path": "__notebook__.ipynb",
   "parameters": {},
   "start_time": "2021-12-04T01:47:25.977580",
   "version": "2.3.3"
  }
 },
 "nbformat": 4,
 "nbformat_minor": 5
}
