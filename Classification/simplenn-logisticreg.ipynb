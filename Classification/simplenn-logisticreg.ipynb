{
 "cells": [
  {
   "cell_type": "markdown",
   "id": "959b0d80",
   "metadata": {
    "papermill": {
     "duration": 0.035396,
     "end_time": "2021-12-03T03:42:57.590847",
     "exception": false,
     "start_time": "2021-12-03T03:42:57.555451",
     "status": "completed"
    },
    "tags": []
   },
   "source": [
    "# Welcome and have fun learning Logistic Regession with plug and play Neural Network\n",
    "### There are alot of category features in the dataset. Lets forget about feature engineering and just brute force NN for now.\n",
    "<blockquote style=\"margin-right:auto; margin-left:auto; padding: 1em; margin:24px;\">\n",
    "    <strong>Fork This Notebook!</strong><br>\n",
    "Create your own editable copy of this notebook by clicking on the <strong>Copy and Edit</strong> button in the top right corner.\n",
    "</blockquote>\n",
    "\n",
    "## Imports and Configuration ##"
   ]
  },
  {
   "cell_type": "code",
   "execution_count": 1,
   "id": "ef51139f",
   "metadata": {
    "_cell_guid": "b1076dfc-b9ad-4769-8c92-a6c4dae69d19",
    "_uuid": "8f2839f25d086af736a60e9eeb907d3b93b6e0e5",
    "execution": {
     "iopub.execute_input": "2021-12-03T03:42:57.671501Z",
     "iopub.status.busy": "2021-12-03T03:42:57.670731Z",
     "iopub.status.idle": "2021-12-03T03:43:05.390078Z",
     "shell.execute_reply": "2021-12-03T03:43:05.390682Z",
     "shell.execute_reply.started": "2021-12-03T03:19:01.537687Z"
    },
    "papermill": {
     "duration": 7.767002,
     "end_time": "2021-12-03T03:43:05.390988",
     "exception": false,
     "start_time": "2021-12-03T03:42:57.623986",
     "status": "completed"
    },
    "tags": []
   },
   "outputs": [
    {
     "name": "stdout",
     "output_type": "stream",
     "text": [
      "/kaggle/input/tabular-playground-series-dec-2021/sample_submission.csv\n",
      "/kaggle/input/tabular-playground-series-dec-2021/train.csv\n",
      "/kaggle/input/tabular-playground-series-dec-2021/test.csv\n"
     ]
    }
   ],
   "source": [
    "# This Python 3 environment comes with many helpful analytics libraries installed\n",
    "# It is defined by the kaggle/python Docker image: https://github.com/kaggle/docker-python\n",
    "# For example, here's several helpful packages to load\n",
    "from scipy import stats\n",
    "import numpy as np # linear algebra\n",
    "import pandas as pd # data processing, CSV file I/O (e.g. pd.read_csv)\n",
    "from imblearn.over_sampling import RandomOverSampler\n",
    "from imblearn.under_sampling import RandomUnderSampler, TomekLinks\n",
    "import keras\n",
    "import tensorflow as tf\n",
    "from tensorflow.keras import layers\n",
    "from tensorflow.keras.callbacks import EarlyStopping, ReduceLROnPlateau\n",
    "\n",
    "# Input data files are available in the read-only \"../input/\" directory\n",
    "# For example, running this (by clicking run or pressing Shift+Enter) will list all files under the input directory\n",
    "\n",
    "import os\n",
    "for dirname, _, filenames in os.walk('/kaggle/input'):\n",
    "    for filename in filenames:\n",
    "        print(os.path.join(dirname, filename))\n",
    "\n",
    "# You can write up to 20GB to the current directory (/kaggle/working/) that gets preserved as output when you create a version using \"Save & Run All\" \n",
    "# You can also write temporary files to /kaggle/temp/, but they won't be saved outside of the current session"
   ]
  },
  {
   "cell_type": "code",
   "execution_count": 2,
   "id": "06db30b7",
   "metadata": {
    "execution": {
     "iopub.execute_input": "2021-12-03T03:43:05.462129Z",
     "iopub.status.busy": "2021-12-03T03:43:05.461395Z",
     "iopub.status.idle": "2021-12-03T03:43:05.463456Z",
     "shell.execute_reply": "2021-12-03T03:43:05.463932Z",
     "shell.execute_reply.started": "2021-12-03T03:19:01.555274Z"
    },
    "papermill": {
     "duration": 0.040414,
     "end_time": "2021-12-03T03:43:05.464107",
     "exception": false,
     "start_time": "2021-12-03T03:43:05.423693",
     "status": "completed"
    },
    "tags": []
   },
   "outputs": [],
   "source": [
    "# -----------------------------------------------------------------\n",
    "# Some parameters to config \n",
    "\n",
    "EPOCHS = 362\n",
    "BATCH_SIZE = 2048 # large enough to fit RAM\n",
    "ACTIVATION = 'swish'\n",
    "LEARNING_RATE = 0.000265713 # Optimal lr is about half the maximum lr\n",
    "FOLDS = 7\n",
    "\n",
    "# The dataset is too huge for free contrainer. Sampling it for more fun!\n",
    "VALIDATION_SPLIT = 0.005 # Only used to min dataset for quick test\n",
    "SAMPLE = 1468136 # [1468136, 2262087, 195712, 377, 1, 11426, 62261]  # 4000000 total rows\n",
    "MAX_TRIAL = 3 # speed trial any% Not used here\n",
    "\n",
    "RANDOM_STATE = 42\n",
    "VERBOSE = 0\n",
    "\n",
    "# Admin\n",
    "ID = \"Id\" # Id id x X index\n",
    "INPUT = \"../input/tabular-playground-series-dec-2021\""
   ]
  },
  {
   "cell_type": "markdown",
   "id": "8e1cac14",
   "metadata": {
    "papermill": {
     "duration": 0.031323,
     "end_time": "2021-12-03T03:43:05.528440",
     "exception": false,
     "start_time": "2021-12-03T03:43:05.497117",
     "status": "completed"
    },
    "tags": []
   },
   "source": [
    "## Data Preprocessing ##\n",
    "\n",
    "Before we can do any feature engineering, we need to *preprocess* the data to get it in a form suitable for analysis. We'll need to:\n",
    "- **Load** the data from CSV files\n",
    "- **Clean** the data to fix any errors or inconsistencies\n",
    "- **Encode** the statistical data type (numeric, categorical)\n",
    "- **Impute** any missing values\n",
    "\n",
    "We'll wrap all these steps up in a function, which will make easy for you to get a fresh dataframe whenever you need. After reading the CSV file, we'll apply three preprocessing steps, `clean`, `encode`, and `impute`, and then create the data splits: one (`df_train`) for training the model, and one (`df_test`) for making the predictions that you'll submit to the competition for scoring on the leaderboard."
   ]
  },
  {
   "cell_type": "code",
   "execution_count": 3,
   "id": "3c682616",
   "metadata": {
    "execution": {
     "iopub.execute_input": "2021-12-03T03:43:05.599441Z",
     "iopub.status.busy": "2021-12-03T03:43:05.598621Z",
     "iopub.status.idle": "2021-12-03T03:43:05.602277Z",
     "shell.execute_reply": "2021-12-03T03:43:05.601659Z",
     "shell.execute_reply.started": "2021-12-03T03:19:01.565484Z"
    },
    "papermill": {
     "duration": 0.042239,
     "end_time": "2021-12-03T03:43:05.602421",
     "exception": false,
     "start_time": "2021-12-03T03:43:05.560182",
     "status": "completed"
    },
    "tags": []
   },
   "outputs": [],
   "source": [
    "from pathlib import Path\n",
    "def load_data():\n",
    "    # Read data\n",
    "    data_dir = Path(INPUT)\n",
    "    df_train = pd.read_csv(data_dir / \"train.csv\", index_col=ID)\n",
    "    df_test = pd.read_csv(data_dir / \"test.csv\", index_col=ID)\n",
    "    # Merge the splits so we can process them together\n",
    "#     df = pd.concat([df_train, df_test])\n",
    "    # Preprocessing\n",
    "#     df = clean(df)\n",
    "#     df = encode(df)\n",
    "    df_train = impute(df_train)\n",
    "    df_test = impute(df_test)\n",
    "    # Reform splits\n",
    "#     df_train = df.loc[df_train.index, :]\n",
    "#     df_test = df.loc[df_test.index, :]\n",
    "    return df_train, df_test"
   ]
  },
  {
   "cell_type": "markdown",
   "id": "39ae5ffe",
   "metadata": {
    "papermill": {
     "duration": 0.032312,
     "end_time": "2021-12-03T03:43:05.667870",
     "exception": false,
     "start_time": "2021-12-03T03:43:05.635558",
     "status": "completed"
    },
    "tags": []
   },
   "source": [
    "### Handle Missing Values ###\n",
    "\n",
    "Handling missing values now will make the feature engineering go more smoothly. We'll impute `0` for missing numeric values and `\"None\"` for missing categorical values. You might like to experiment with other imputation strategies. In particular, you could try creating \"missing value\" indicators: `1` whenever a value was imputed and `0` otherwise."
   ]
  },
  {
   "cell_type": "code",
   "execution_count": 4,
   "id": "5e2f415b",
   "metadata": {
    "execution": {
     "iopub.execute_input": "2021-12-03T03:43:05.734506Z",
     "iopub.status.busy": "2021-12-03T03:43:05.733856Z",
     "iopub.status.idle": "2021-12-03T03:43:05.738601Z",
     "shell.execute_reply": "2021-12-03T03:43:05.739165Z",
     "shell.execute_reply.started": "2021-12-03T03:19:01.587437Z"
    },
    "papermill": {
     "duration": 0.039638,
     "end_time": "2021-12-03T03:43:05.739348",
     "exception": false,
     "start_time": "2021-12-03T03:43:05.699710",
     "status": "completed"
    },
    "tags": []
   },
   "outputs": [],
   "source": [
    "def impute(df):\n",
    "    for name in df.select_dtypes(\"number\"):\n",
    "        df[name] = df[name].fillna(0)\n",
    "    for name in df.select_dtypes(\"category\"):\n",
    "        df[name] = df[name].fillna(\"None\")\n",
    "    return df"
   ]
  },
  {
   "cell_type": "markdown",
   "id": "cc79daed",
   "metadata": {
    "papermill": {
     "duration": 0.031709,
     "end_time": "2021-12-03T03:43:05.803204",
     "exception": false,
     "start_time": "2021-12-03T03:43:05.771495",
     "status": "completed"
    },
    "tags": []
   },
   "source": [
    "## Load Data ##\n",
    "\n",
    "And now we can call the data loader and get the processed data splits:"
   ]
  },
  {
   "cell_type": "code",
   "execution_count": 5,
   "id": "efdc63fc",
   "metadata": {
    "execution": {
     "iopub.execute_input": "2021-12-03T03:43:05.871076Z",
     "iopub.status.busy": "2021-12-03T03:43:05.870333Z",
     "iopub.status.idle": "2021-12-03T03:43:34.486174Z",
     "shell.execute_reply": "2021-12-03T03:43:34.485449Z",
     "shell.execute_reply.started": "2021-12-03T03:19:01.601542Z"
    },
    "papermill": {
     "duration": 28.651312,
     "end_time": "2021-12-03T03:43:34.486318",
     "exception": false,
     "start_time": "2021-12-03T03:43:05.835006",
     "status": "completed"
    },
    "tags": []
   },
   "outputs": [
    {
     "name": "stderr",
     "output_type": "stream",
     "text": [
      "/opt/conda/lib/python3.7/site-packages/numpy/lib/arraysetops.py:580: FutureWarning: elementwise comparison failed; returning scalar instead, but in the future will perform elementwise comparison\n",
      "  mask |= (ar1 == a)\n"
     ]
    }
   ],
   "source": [
    "train_data, test_data = load_data()"
   ]
  },
  {
   "cell_type": "code",
   "execution_count": 6,
   "id": "a15890cc",
   "metadata": {
    "execution": {
     "iopub.execute_input": "2021-12-03T03:43:34.556587Z",
     "iopub.status.busy": "2021-12-03T03:43:34.555853Z",
     "iopub.status.idle": "2021-12-03T03:43:35.445327Z",
     "shell.execute_reply": "2021-12-03T03:43:35.444646Z",
     "shell.execute_reply.started": "2021-12-03T03:19:22.305012Z"
    },
    "papermill": {
     "duration": 0.9269,
     "end_time": "2021-12-03T03:43:35.445465",
     "exception": false,
     "start_time": "2021-12-03T03:43:34.518565",
     "status": "completed"
    },
    "tags": []
   },
   "outputs": [],
   "source": [
    "column_y = train_data.columns.difference(test_data.columns)[0]\n",
    "x = train_data.drop(columns=column_y)\n",
    "y = train_data[[column_y]]\n",
    "\n",
    "x_test = test_data.iloc[:,:]"
   ]
  },
  {
   "cell_type": "markdown",
   "id": "60411a44",
   "metadata": {
    "papermill": {
     "duration": 0.031832,
     "end_time": "2021-12-03T03:43:35.509882",
     "exception": false,
     "start_time": "2021-12-03T03:43:35.478050",
     "status": "completed"
    },
    "tags": []
   },
   "source": [
    "## For quick test\n",
    "y\n",
    "\n",
    "(array([1, 2, 3, 4, 5, 6, 7]),\n",
    " \n",
    " array([1468136, 2262087,  195712,     377,       1,   11426,   62261]))\n",
    " \n",
    "TomekLinks\n",
    "(array([1, 2, 3, 4, 5, 6, 7]),\n",
    "\n",
    " array([1390684, 2169226,  155218,     218,       1,    7627,   38757]))"
   ]
  },
  {
   "cell_type": "code",
   "execution_count": 7,
   "id": "0b456ba5",
   "metadata": {
    "execution": {
     "iopub.execute_input": "2021-12-03T03:43:35.577452Z",
     "iopub.status.busy": "2021-12-03T03:43:35.576812Z",
     "iopub.status.idle": "2021-12-03T03:43:35.860469Z",
     "shell.execute_reply": "2021-12-03T03:43:35.859834Z",
     "shell.execute_reply.started": "2021-12-03T03:19:22.899610Z"
    },
    "papermill": {
     "duration": 0.318833,
     "end_time": "2021-12-03T03:43:35.860632",
     "exception": false,
     "start_time": "2021-12-03T03:43:35.541799",
     "status": "completed"
    },
    "tags": []
   },
   "outputs": [
    {
     "name": "stdout",
     "output_type": "stream",
     "text": [
      "Series([], dtype: int64)\n"
     ]
    }
   ],
   "source": [
    "# Check NA\n",
    "missing_val = x.isnull().sum()\n",
    "print(missing_val[missing_val > 0])\n",
    "\n",
    "from sklearn.model_selection import train_test_split \n",
    "# For small testing batch\n",
    "# x, x_val, y, y_val = train_test_split(x, y, train_size = VALIDATION_SPLIT, random_state = RANDOM_STATE)\n",
    "# x = x.sample(n=SAMPLE, random_state=RANDOM_STATE)\n",
    "# y = y.sample(n=SAMPLE, random_state=RANDOM_STATE)\n",
    "# x_test = x_test.sample(n=SAMPLE, random_state=RANDOM_STATE)\n",
    "\n",
    "# undersample = TomekLinks(sampling_strategy='auto') #, random_state=RANDOM_STATE not minority RandomUnderSampler\n",
    "# X_under, y_under = undersample.fit_resample(x, y)"
   ]
  },
  {
   "cell_type": "markdown",
   "id": "41ae1366",
   "metadata": {
    "papermill": {
     "duration": 0.032224,
     "end_time": "2021-12-03T03:43:35.925343",
     "exception": false,
     "start_time": "2021-12-03T03:43:35.893119",
     "status": "completed"
    },
    "tags": []
   },
   "source": [
    "# Undersampling"
   ]
  },
  {
   "cell_type": "code",
   "execution_count": 8,
   "id": "be7f9d2b",
   "metadata": {
    "execution": {
     "iopub.execute_input": "2021-12-03T03:43:35.993979Z",
     "iopub.status.busy": "2021-12-03T03:43:35.993140Z",
     "iopub.status.idle": "2021-12-03T03:43:36.099809Z",
     "shell.execute_reply": "2021-12-03T03:43:36.099082Z",
     "shell.execute_reply.started": "2021-12-03T03:19:23.175871Z"
    },
    "papermill": {
     "duration": 0.141899,
     "end_time": "2021-12-03T03:43:36.099958",
     "exception": false,
     "start_time": "2021-12-03T03:43:35.958059",
     "status": "completed"
    },
    "tags": []
   },
   "outputs": [],
   "source": [
    "sampling_key, sampling_count = np.unique(y, return_counts=True)\n",
    "sampling_count[sampling_count > SAMPLE] = SAMPLE\n",
    "zip_iterator = zip(sampling_key, sampling_count)\n",
    "sampling_params = dict(zip_iterator)"
   ]
  },
  {
   "cell_type": "code",
   "execution_count": 9,
   "id": "1a24ae8e",
   "metadata": {
    "execution": {
     "iopub.execute_input": "2021-12-03T03:43:36.174552Z",
     "iopub.status.busy": "2021-12-03T03:43:36.173835Z",
     "iopub.status.idle": "2021-12-03T03:43:36.177636Z",
     "shell.execute_reply": "2021-12-03T03:43:36.176963Z",
     "shell.execute_reply.started": "2021-12-03T03:19:23.279637Z"
    },
    "papermill": {
     "duration": 0.044158,
     "end_time": "2021-12-03T03:43:36.177781",
     "exception": false,
     "start_time": "2021-12-03T03:43:36.133623",
     "status": "completed"
    },
    "tags": []
   },
   "outputs": [
    {
     "data": {
      "text/plain": [
       "{1: 1468136, 2: 1468136, 3: 195712, 4: 377, 5: 1, 6: 11426, 7: 62261}"
      ]
     },
     "execution_count": 9,
     "metadata": {},
     "output_type": "execute_result"
    }
   ],
   "source": [
    "sampling_params"
   ]
  },
  {
   "cell_type": "code",
   "execution_count": 10,
   "id": "aa53f14f",
   "metadata": {
    "execution": {
     "iopub.execute_input": "2021-12-03T03:43:36.250649Z",
     "iopub.status.busy": "2021-12-03T03:43:36.249903Z",
     "iopub.status.idle": "2021-12-03T03:43:45.295209Z",
     "shell.execute_reply": "2021-12-03T03:43:45.294513Z",
     "shell.execute_reply.started": "2021-12-03T03:19:23.296973Z"
    },
    "papermill": {
     "duration": 9.084293,
     "end_time": "2021-12-03T03:43:45.295358",
     "exception": false,
     "start_time": "2021-12-03T03:43:36.211065",
     "status": "completed"
    },
    "tags": []
   },
   "outputs": [],
   "source": [
    "#, random_state=RANDOM_STATE not minority RandomUnderSampler\n",
    "undersample = RandomUnderSampler(\n",
    "    sampling_strategy=sampling_params, random_state=RANDOM_STATE)\n",
    "\n",
    "x, y = undersample.fit_resample(x, y)"
   ]
  },
  {
   "cell_type": "code",
   "execution_count": 11,
   "id": "c73bc450",
   "metadata": {
    "execution": {
     "iopub.execute_input": "2021-12-03T03:43:45.365194Z",
     "iopub.status.busy": "2021-12-03T03:43:45.364064Z",
     "iopub.status.idle": "2021-12-03T03:43:45.434635Z",
     "shell.execute_reply": "2021-12-03T03:43:45.435160Z",
     "shell.execute_reply.started": "2021-12-03T03:19:26.207657Z"
    },
    "papermill": {
     "duration": 0.106948,
     "end_time": "2021-12-03T03:43:45.435338",
     "exception": false,
     "start_time": "2021-12-03T03:43:45.328390",
     "status": "completed"
    },
    "tags": []
   },
   "outputs": [
    {
     "data": {
      "text/plain": [
       "(array([1, 2, 3, 4, 5, 6, 7]),\n",
       " array([1468136, 1468136,  195712,     377,       1,   11426,   62261]))"
      ]
     },
     "execution_count": 11,
     "metadata": {},
     "output_type": "execute_result"
    }
   ],
   "source": [
    "np.unique(y, return_counts=True)"
   ]
  },
  {
   "cell_type": "markdown",
   "id": "128c9152",
   "metadata": {
    "papermill": {
     "duration": 0.032871,
     "end_time": "2021-12-03T03:43:45.503126",
     "exception": false,
     "start_time": "2021-12-03T03:43:45.470255",
     "status": "completed"
    },
    "tags": []
   },
   "source": [
    "y to categorical"
   ]
  },
  {
   "cell_type": "code",
   "execution_count": 12,
   "id": "cbf7fd54",
   "metadata": {
    "execution": {
     "iopub.execute_input": "2021-12-03T03:43:45.572989Z",
     "iopub.status.busy": "2021-12-03T03:43:45.571963Z",
     "iopub.status.idle": "2021-12-03T03:43:45.683883Z",
     "shell.execute_reply": "2021-12-03T03:43:45.684379Z",
     "shell.execute_reply.started": "2021-12-03T03:19:26.216057Z"
    },
    "papermill": {
     "duration": 0.14841,
     "end_time": "2021-12-03T03:43:45.684594",
     "exception": false,
     "start_time": "2021-12-03T03:43:45.536184",
     "status": "completed"
    },
    "tags": []
   },
   "outputs": [],
   "source": [
    "# Prepare for multiclass classification\n",
    "y_cat = tf.keras.utils.to_categorical(y - 1)"
   ]
  },
  {
   "cell_type": "code",
   "execution_count": 13,
   "id": "92bec6c2",
   "metadata": {
    "execution": {
     "iopub.execute_input": "2021-12-03T03:43:45.757419Z",
     "iopub.status.busy": "2021-12-03T03:43:45.756472Z",
     "iopub.status.idle": "2021-12-03T03:43:45.760241Z",
     "shell.execute_reply": "2021-12-03T03:43:45.759625Z",
     "shell.execute_reply.started": "2021-12-03T03:19:26.230988Z"
    },
    "papermill": {
     "duration": 0.042241,
     "end_time": "2021-12-03T03:43:45.760377",
     "exception": false,
     "start_time": "2021-12-03T03:43:45.718136",
     "status": "completed"
    },
    "tags": []
   },
   "outputs": [
    {
     "data": {
      "text/plain": [
       "(3206049, 1)"
      ]
     },
     "execution_count": 13,
     "metadata": {},
     "output_type": "execute_result"
    }
   ],
   "source": [
    "y.shape"
   ]
  },
  {
   "cell_type": "code",
   "execution_count": 14,
   "id": "3e2a0bd1",
   "metadata": {
    "execution": {
     "iopub.execute_input": "2021-12-03T03:43:45.833392Z",
     "iopub.status.busy": "2021-12-03T03:43:45.832475Z",
     "iopub.status.idle": "2021-12-03T03:43:45.835762Z",
     "shell.execute_reply": "2021-12-03T03:43:45.836252Z",
     "shell.execute_reply.started": "2021-12-03T03:19:26.245428Z"
    },
    "papermill": {
     "duration": 0.04236,
     "end_time": "2021-12-03T03:43:45.836421",
     "exception": false,
     "start_time": "2021-12-03T03:43:45.794061",
     "status": "completed"
    },
    "tags": []
   },
   "outputs": [
    {
     "data": {
      "text/plain": [
       "(3206049, 7)"
      ]
     },
     "execution_count": 14,
     "metadata": {},
     "output_type": "execute_result"
    }
   ],
   "source": [
    "y_cat.shape"
   ]
  },
  {
   "cell_type": "code",
   "execution_count": 15,
   "id": "958d1f9f",
   "metadata": {
    "execution": {
     "iopub.execute_input": "2021-12-03T03:43:45.908292Z",
     "iopub.status.busy": "2021-12-03T03:43:45.907269Z",
     "iopub.status.idle": "2021-12-03T03:43:45.912678Z",
     "shell.execute_reply": "2021-12-03T03:43:45.913151Z",
     "shell.execute_reply.started": "2021-12-03T03:19:26.257019Z"
    },
    "papermill": {
     "duration": 0.043228,
     "end_time": "2021-12-03T03:43:45.913338",
     "exception": false,
     "start_time": "2021-12-03T03:43:45.870110",
     "status": "completed"
    },
    "tags": []
   },
   "outputs": [
    {
     "data": {
      "text/plain": [
       "(3206049, 54)"
      ]
     },
     "execution_count": 15,
     "metadata": {},
     "output_type": "execute_result"
    }
   ],
   "source": [
    "x.shape"
   ]
  },
  {
   "cell_type": "code",
   "execution_count": 16,
   "id": "1972b602",
   "metadata": {
    "execution": {
     "iopub.execute_input": "2021-12-03T03:43:45.987256Z",
     "iopub.status.busy": "2021-12-03T03:43:45.986350Z",
     "iopub.status.idle": "2021-12-03T03:43:45.988812Z",
     "shell.execute_reply": "2021-12-03T03:43:45.989337Z",
     "shell.execute_reply.started": "2021-12-03T03:19:26.272009Z"
    },
    "papermill": {
     "duration": 0.041791,
     "end_time": "2021-12-03T03:43:45.989507",
     "exception": false,
     "start_time": "2021-12-03T03:43:45.947716",
     "status": "completed"
    },
    "tags": []
   },
   "outputs": [],
   "source": [
    "# x_num = x.select_dtypes(include=[np.number])\n",
    "# x_cat = x.select_dtypes(include=['object'])"
   ]
  },
  {
   "cell_type": "code",
   "execution_count": 17,
   "id": "a324f1ef",
   "metadata": {
    "execution": {
     "iopub.execute_input": "2021-12-03T03:43:46.067018Z",
     "iopub.status.busy": "2021-12-03T03:43:46.066285Z",
     "iopub.status.idle": "2021-12-03T03:43:55.186595Z",
     "shell.execute_reply": "2021-12-03T03:43:55.187105Z",
     "shell.execute_reply.started": "2021-12-03T03:19:26.278801Z"
    },
    "papermill": {
     "duration": 9.163363,
     "end_time": "2021-12-03T03:43:55.187309",
     "exception": false,
     "start_time": "2021-12-03T03:43:46.023946",
     "status": "completed"
    },
    "tags": []
   },
   "outputs": [],
   "source": [
    "from sklearn.preprocessing import LabelEncoder\n",
    "le = LabelEncoder()\n",
    "\n",
    "for i in range(1,5):\n",
    "    x[f'Wilderness_Area{i}'] = le.fit_transform(x[f'Wilderness_Area{i}'])\n",
    "    x_test[f'Wilderness_Area{i}'] = le.fit_transform(x_test[f'Wilderness_Area{i}'])\n",
    "for i in range(1,41):\n",
    "    x[f'Soil_Type{i}'] = le.fit_transform(x[f'Soil_Type{i}'])\n",
    "    x_test[f'Soil_Type{i}'] = le.fit_transform(x_test[f'Soil_Type{i}'])\n",
    "\n"
   ]
  },
  {
   "cell_type": "markdown",
   "id": "b6bb8022",
   "metadata": {
    "papermill": {
     "duration": 0.033697,
     "end_time": "2021-12-03T03:43:55.256591",
     "exception": false,
     "start_time": "2021-12-03T03:43:55.222894",
     "status": "completed"
    },
    "tags": []
   },
   "source": [
    "# Scaler transformer\n",
    "By using RobustScaler(), we can remove the outliers\n",
    "![](https://github.com/furyhawk/kaggle_practice/blob/main/images/Scalers.png?raw=true)"
   ]
  },
  {
   "cell_type": "code",
   "execution_count": null,
   "id": "06d23bde",
   "metadata": {
    "papermill": {
     "duration": 0.033416,
     "end_time": "2021-12-03T03:43:55.324408",
     "exception": false,
     "start_time": "2021-12-03T03:43:55.290992",
     "status": "completed"
    },
    "tags": []
   },
   "outputs": [],
   "source": []
  },
  {
   "cell_type": "code",
   "execution_count": 18,
   "id": "4cc79f3c",
   "metadata": {
    "execution": {
     "iopub.execute_input": "2021-12-03T03:43:55.395605Z",
     "iopub.status.busy": "2021-12-03T03:43:55.394945Z",
     "iopub.status.idle": "2021-12-03T03:43:55.406387Z",
     "shell.execute_reply": "2021-12-03T03:43:55.407030Z",
     "shell.execute_reply.started": "2021-12-03T03:19:27.949874Z"
    },
    "papermill": {
     "duration": 0.04899,
     "end_time": "2021-12-03T03:43:55.407214",
     "exception": false,
     "start_time": "2021-12-03T03:43:55.358224",
     "status": "completed"
    },
    "tags": []
   },
   "outputs": [],
   "source": [
    "from sklearn.preprocessing import StandardScaler, MinMaxScaler, RobustScaler\n",
    "from sklearn.pipeline import make_pipeline\n",
    "from sklearn.compose import make_column_transformer\n",
    "\n",
    "transformer_all_cols = make_pipeline(\n",
    "    RobustScaler(),\n",
    ")\n",
    "\n",
    "preprocessor = make_column_transformer(\n",
    "    (transformer_all_cols, x.columns[:]),\n",
    ")"
   ]
  },
  {
   "cell_type": "markdown",
   "id": "b272832a",
   "metadata": {
    "papermill": {
     "duration": 0.033997,
     "end_time": "2021-12-03T03:43:55.476133",
     "exception": false,
     "start_time": "2021-12-03T03:43:55.442136",
     "status": "completed"
    },
    "tags": []
   },
   "source": [
    "# Train Model and Create Submissions #\n",
    "\n",
    "Once you're satisfied with everything, it's time to create your final predictions! This cell will:\n",
    "- use the best trained model to make predictions from the test set\n",
    "- save the predictions to a CSV file"
   ]
  },
  {
   "cell_type": "code",
   "execution_count": 19,
   "id": "2cbdd478",
   "metadata": {
    "execution": {
     "iopub.execute_input": "2021-12-03T03:43:55.553754Z",
     "iopub.status.busy": "2021-12-03T03:43:55.553041Z",
     "iopub.status.idle": "2021-12-03T03:43:55.556899Z",
     "shell.execute_reply": "2021-12-03T03:43:55.557443Z",
     "shell.execute_reply.started": "2021-12-03T03:19:27.964949Z"
    },
    "papermill": {
     "duration": 0.046614,
     "end_time": "2021-12-03T03:43:55.557641",
     "exception": false,
     "start_time": "2021-12-03T03:43:55.511027",
     "status": "completed"
    },
    "tags": []
   },
   "outputs": [],
   "source": [
    "def load_model():\n",
    "    \n",
    "    early_stopping = EarlyStopping(\n",
    "        patience=20,\n",
    "        min_delta=0,\n",
    "        monitor='val_acc',\n",
    "        restore_best_weights=True,\n",
    "        verbose=VERBOSE,\n",
    "        mode='max',\n",
    "        baseline=None,\n",
    "    )\n",
    "    plateau = ReduceLROnPlateau(\n",
    "            monitor='val_loss', \n",
    "            factor=0.2, \n",
    "            patience=7, \n",
    "            verbose=VERBOSE,\n",
    "            mode='min')\n",
    "\n",
    "# -----------------------------------------------------------------\n",
    "# Model \n",
    "\n",
    "    model = keras.Sequential([\n",
    "    layers.BatchNormalization(),\n",
    "    layers.Dense(128, activation=ACTIVATION, input_shape = [x.shape[1]]),\n",
    "    layers.Dropout(rate = 0.5),\n",
    "    layers.BatchNormalization(),\n",
    "    layers.Dense(64, activation=ACTIVATION),\n",
    "    layers.Dropout(rate = 0.5),\n",
    "    layers.BatchNormalization(),\n",
    "    layers.Dense(32, activation=ACTIVATION), \n",
    "    layers.Dropout(rate = 0.5),\n",
    "    layers.Dense(y_cat.shape[1], activation = 'softmax'),\n",
    "    ])\n",
    "\n",
    "# -----------------------------------------------------------------\n",
    "# sparse_categorical_crossentropy\n",
    "    model.compile(\n",
    "        optimizer= tf.keras.optimizers.Adam(learning_rate=LEARNING_RATE),\n",
    "        loss='categorical_crossentropy',\n",
    "        metrics=['acc'],\n",
    "    )\n",
    "    \n",
    "    return model, early_stopping, plateau"
   ]
  },
  {
   "cell_type": "markdown",
   "id": "a7c546e9",
   "metadata": {
    "papermill": {
     "duration": 0.034573,
     "end_time": "2021-12-03T03:43:55.626389",
     "exception": false,
     "start_time": "2021-12-03T03:43:55.591816",
     "status": "completed"
    },
    "tags": []
   },
   "source": [
    "# Kfold"
   ]
  },
  {
   "cell_type": "code",
   "execution_count": 20,
   "id": "9380d937",
   "metadata": {
    "execution": {
     "iopub.execute_input": "2021-12-03T03:43:55.761042Z",
     "iopub.status.busy": "2021-12-03T03:43:55.760249Z",
     "iopub.status.idle": "2021-12-03T03:43:55.767205Z",
     "shell.execute_reply": "2021-12-03T03:43:55.767824Z",
     "shell.execute_reply.started": "2021-12-03T03:19:27.977091Z"
    },
    "papermill": {
     "duration": 0.045203,
     "end_time": "2021-12-03T03:43:55.768021",
     "exception": false,
     "start_time": "2021-12-03T03:43:55.722818",
     "status": "completed"
    },
    "tags": []
   },
   "outputs": [],
   "source": [
    "import matplotlib.pyplot as plt\n",
    "def plot_acc(history):\n",
    "    # summarize history for accuracy\n",
    "    plt.plot(history.history['acc'])\n",
    "    plt.plot(history.history['val_acc'])\n",
    "    plt.title('model accuracy')\n",
    "    plt.ylabel('acc')\n",
    "    plt.xlabel('epoch')\n",
    "    plt.legend(['train', 'test'], loc='upper left')\n",
    "    plt.show()\n",
    "    # summarize history for loss\n",
    "    plt.plot(history.history['loss'])\n",
    "    plt.plot(history.history['val_loss'])\n",
    "    plt.title('model loss')\n",
    "    plt.ylabel('loss')\n",
    "    plt.xlabel('epoch')\n",
    "    plt.legend(['train', 'test'], loc='upper left')\n",
    "    plt.show()"
   ]
  },
  {
   "cell_type": "code",
   "execution_count": 21,
   "id": "53fda4fa",
   "metadata": {
    "execution": {
     "iopub.execute_input": "2021-12-03T03:43:55.844500Z",
     "iopub.status.busy": "2021-12-03T03:43:55.843821Z",
     "iopub.status.idle": "2021-12-03T03:43:55.846560Z",
     "shell.execute_reply": "2021-12-03T03:43:55.846029Z",
     "shell.execute_reply.started": "2021-12-03T03:19:27.994033Z"
    },
    "papermill": {
     "duration": 0.043843,
     "end_time": "2021-12-03T03:43:55.846734",
     "exception": false,
     "start_time": "2021-12-03T03:43:55.802891",
     "status": "completed"
    },
    "tags": []
   },
   "outputs": [],
   "source": [
    "from sklearn.metrics import accuracy_score, log_loss\n",
    "from sklearn.model_selection import KFold, StratifiedKFold\n",
    "from sklearn.preprocessing import StandardScaler, RobustScaler, PowerTransformer\n",
    "\n",
    "preds_valid_f = {}\n",
    "preds_test = []\n",
    "total_acc = []\n",
    "f_scores = []\n",
    "\n",
    "kf = StratifiedKFold(n_splits=FOLDS,random_state=RANDOM_STATE,shuffle=True)"
   ]
  },
  {
   "cell_type": "code",
   "execution_count": 22,
   "id": "b947ae75",
   "metadata": {
    "execution": {
     "iopub.execute_input": "2021-12-03T03:43:55.928502Z",
     "iopub.status.busy": "2021-12-03T03:43:55.927749Z",
     "iopub.status.idle": "2021-12-03T09:44:44.094378Z",
     "shell.execute_reply": "2021-12-03T09:44:44.095280Z",
     "shell.execute_reply.started": "2021-12-03T03:19:28.003927Z"
    },
    "papermill": {
     "duration": 21648.216685,
     "end_time": "2021-12-03T09:44:44.097905",
     "exception": false,
     "start_time": "2021-12-03T03:43:55.881220",
     "status": "completed"
    },
    "tags": []
   },
   "outputs": [
    {
     "name": "stderr",
     "output_type": "stream",
     "text": [
      "/opt/conda/lib/python3.7/site-packages/sklearn/model_selection/_split.py:672: UserWarning: The least populated class in y has only 1 members, which is less than n_splits=7.\n",
      "  % (min_groups, self.n_splits)), UserWarning)\n",
      "\n",
      "User settings:\n",
      "\n",
      "   KMP_AFFINITY=granularity=fine,verbose,compact,1,0\n",
      "   KMP_BLOCKTIME=0\n",
      "   KMP_DUPLICATE_LIB_OK=True\n",
      "   KMP_INIT_AT_FORK=FALSE\n",
      "   KMP_SETTINGS=1\n",
      "   KMP_WARNINGS=0\n",
      "\n",
      "Effective settings:\n",
      "\n",
      "   KMP_ABORT_DELAY=0\n",
      "   KMP_ADAPTIVE_LOCK_PROPS='1,1024'\n",
      "   KMP_ALIGN_ALLOC=64\n",
      "   KMP_ALL_THREADPRIVATE=128\n",
      "   KMP_ATOMIC_MODE=2\n",
      "   KMP_BLOCKTIME=0\n",
      "   KMP_CPUINFO_FILE: value is not defined\n",
      "   KMP_DETERMINISTIC_REDUCTION=false\n",
      "   KMP_DEVICE_THREAD_LIMIT=2147483647\n",
      "   KMP_DISP_NUM_BUFFERS=7\n",
      "   KMP_DUPLICATE_LIB_OK=true\n",
      "   KMP_ENABLE_TASK_THROTTLING=true\n",
      "   KMP_FORCE_REDUCTION: value is not defined\n",
      "   KMP_FOREIGN_THREADS_THREADPRIVATE=true\n",
      "   KMP_FORKJOIN_BARRIER='2,2'\n",
      "   KMP_FORKJOIN_BARRIER_PATTERN='hyper,hyper'\n",
      "   KMP_GTID_MODE=3\n",
      "   KMP_HANDLE_SIGNALS=false\n",
      "   KMP_HOT_TEAMS_MAX_LEVEL=1\n",
      "   KMP_HOT_TEAMS_MODE=0\n",
      "   KMP_INIT_AT_FORK=true\n",
      "   KMP_LIBRARY=throughput\n",
      "   KMP_LOCK_KIND=queuing\n",
      "   KMP_MALLOC_POOL_INCR=1M\n",
      "   KMP_NUM_LOCKS_IN_BLOCK=1\n",
      "   KMP_PLAIN_BARRIER='2,2'\n",
      "   KMP_PLAIN_BARRIER_PATTERN='hyper,hyper'\n",
      "   KMP_REDUCTION_BARRIER='1,1'\n",
      "   KMP_REDUCTION_BARRIER_PATTERN='hyper,hyper'\n",
      "   KMP_SCHEDULE='static,balanced;guided,iterative'\n",
      "   KMP_SETTINGS=true\n",
      "   KMP_SPIN_BACKOFF_PARAMS='4096,100'\n",
      "   KMP_STACKOFFSET=64\n",
      "   KMP_STACKPAD=0\n",
      "   KMP_STACKSIZE=8M\n",
      "   KMP_STORAGE_MAP=false\n",
      "   KMP_TASKING=2\n",
      "   KMP_TASKLOOP_MIN_TASKS=0\n",
      "   KMP_TASK_STEALING_CONSTRAINT=1\n",
      "   KMP_TEAMS_THREAD_LIMIT=4\n",
      "   KMP_TOPOLOGY_METHOD=all\n",
      "   KMP_USE_YIELD=1\n",
      "   KMP_VERSION=false\n",
      "   KMP_WARNINGS=false\n",
      "   OMP_AFFINITY_FORMAT='OMP: pid %P tid %i thread %n bound to OS proc set {%A}'\n",
      "   OMP_ALLOCATOR=omp_default_mem_alloc\n",
      "   OMP_CANCELLATION=false\n",
      "   OMP_DEFAULT_DEVICE=0\n",
      "   OMP_DISPLAY_AFFINITY=false\n",
      "   OMP_DISPLAY_ENV=false\n",
      "   OMP_DYNAMIC=false\n",
      "   OMP_MAX_ACTIVE_LEVELS=1\n",
      "   OMP_MAX_TASK_PRIORITY=0\n",
      "   OMP_NESTED: deprecated; max-active-levels-var=1\n",
      "   OMP_NUM_THREADS: value is not defined\n",
      "   OMP_PLACES: value is not defined\n",
      "   OMP_PROC_BIND='intel'\n",
      "   OMP_SCHEDULE='static'\n",
      "   OMP_STACKSIZE=8M\n",
      "   OMP_TARGET_OFFLOAD=DEFAULT\n",
      "   OMP_THREAD_LIMIT=2147483647\n",
      "   OMP_WAIT_POLICY=PASSIVE\n",
      "   KMP_AFFINITY='verbose,warnings,respect,granularity=fine,compact,1,0'\n",
      "\n",
      "2021-12-03 03:44:08.790230: I tensorflow/core/common_runtime/process_util.cc:146] Creating new thread pool with default inter op setting: 2. Tune using inter_op_parallelism_threads for best performance.\n",
      "2021-12-03 03:44:10.575155: I tensorflow/compiler/mlir/mlir_graph_optimization_pass.cc:185] None of the MLIR Optimization Passes are enabled (registered 2)\n"
     ]
    },
    {
     "name": "stdout",
     "output_type": "stream",
     "text": [
      "Fold 0 accuracy_score: 0.9517780295934342\n",
      "Fold 1 accuracy_score: 0.9516361103651254\n",
      "Fold 2 accuracy_score: 0.9517168951566243\n",
      "Fold 3 accuracy_score: 0.9525443934263014\n",
      "Fold 4 accuracy_score: 0.9529548675020251\n",
      "Fold 5 accuracy_score: 0.9542583410297223\n",
      "Fold 6 accuracy_score: 0.95191121533077\n",
      "mean accuracy_score: 0.9523999789148575, std: 0.0008830204678771544\n"
     ]
    }
   ],
   "source": [
    "test  = test_data.copy()\n",
    "test = preprocessor.fit_transform(test)\n",
    "\n",
    "for fold,(train_index, valid_index) in enumerate(kf.split(x, y=y.Cover_Type)):\n",
    "\n",
    "    X_train, X_valid = x.iloc[train_index], x.iloc[valid_index]\n",
    "    y_train, y_valid = y_cat[train_index], y_cat[valid_index]\n",
    "\n",
    "    #   --------------------------------------------------------  \n",
    "    # Preprocessing\n",
    "    \n",
    "    index_valid  = X_valid.index.tolist()\n",
    "    \n",
    "    X_train = preprocessor.fit_transform(X_train)\n",
    "    X_valid = preprocessor.transform(X_valid)\n",
    "    \n",
    "    #  ----------------------------------------------------------    \n",
    "    # Model\n",
    "    \n",
    "    model, early_stopping, plateau  = load_model()\n",
    "\n",
    "    history = model.fit(  X_train, y_train,\n",
    "                validation_data = (X_valid, y_valid),\n",
    "                batch_size = BATCH_SIZE, \n",
    "                epochs = EPOCHS,\n",
    "                callbacks = [early_stopping, plateau],\n",
    "                shuffle = True,\n",
    "                verbose = 0\n",
    "              )\n",
    "    \n",
    "    #  ----------------------------------------------------------\n",
    "    #  oof\n",
    "    preds_valid = model.predict(X_valid, batch_size=BATCH_SIZE)\n",
    "    \n",
    "    #  ----------------------------------------------------------\n",
    "    #  test dataset predictions for submission np.argmax(, axis=1) + 1\n",
    "    preds_test.append(np.argmax(model.predict(test, batch_size=BATCH_SIZE), axis=1) + 1)\n",
    "\n",
    "    #  ----------------------------------------------------------\n",
    "    #  Saving  scores to plot the end  \n",
    "    scores = pd.DataFrame(history.history)\n",
    "    scores['folds'] = fold\n",
    "    if fold == 0:\n",
    "        f_scores = scores \n",
    "    else: \n",
    "        f_scores = pd.concat([f_scores, scores], axis  = 0)\n",
    "        \n",
    "    #  ----------------------------------------------------------\n",
    "    #  concatenating valid preds\n",
    "#     preds_valid_f.update(dict(zip(index_valid, preds_valid)))\n",
    "    \n",
    "    # Getting score for a fold model\n",
    "    fold_acc = accuracy_score(y.iloc[valid_index].Cover_Type, np.argmax(preds_valid, axis=1) + 1)\n",
    "    print(f\"Fold {fold} accuracy_score: {fold_acc}\")\n",
    "#     plot_acc(history)\n",
    "    # Total auc\n",
    "    total_acc.append(fold_acc)\n",
    "\n",
    "print(f\"mean accuracy_score: {np.mean(total_acc)}, std: {np.std(total_acc)}\")"
   ]
  },
  {
   "cell_type": "markdown",
   "id": "75e341bd",
   "metadata": {
    "papermill": {
     "duration": 0.037743,
     "end_time": "2021-12-03T09:44:44.174106",
     "exception": false,
     "start_time": "2021-12-03T09:44:44.136363",
     "status": "completed"
    },
    "tags": []
   },
   "source": [
    "# accuracy"
   ]
  },
  {
   "cell_type": "code",
   "execution_count": 23,
   "id": "bbf07389",
   "metadata": {
    "execution": {
     "iopub.execute_input": "2021-12-03T09:44:44.257370Z",
     "iopub.status.busy": "2021-12-03T09:44:44.256223Z",
     "iopub.status.idle": "2021-12-03T09:44:48.350797Z",
     "shell.execute_reply": "2021-12-03T09:44:48.351283Z",
     "shell.execute_reply.started": "2021-12-03T03:32:30.197314Z"
    },
    "papermill": {
     "duration": 4.140072,
     "end_time": "2021-12-03T09:44:48.351464",
     "exception": false,
     "start_time": "2021-12-03T09:44:44.211392",
     "status": "completed"
    },
    "tags": []
   },
   "outputs": [
    {
     "name": "stdout",
     "output_type": "stream",
     "text": [
      "Validation Loss: 0.1107\n",
      "Validation Loss: 0.1103\n",
      "Validation Loss: 0.1096\n",
      "Validation Loss: 0.1096\n",
      "Validation Loss: 0.1086\n",
      "Validation Loss: 0.1069\n",
      "Validation Loss: 0.1113\n"
     ]
    },
    {
     "data": {
      "image/png": "[encoded data removed]",
      "text/plain": [
       "<Figure size 1008x288 with 2 Axes>"
      ]
     },
     "metadata": {
      "needs_background": "light"
     },
     "output_type": "display_data"
    },
    {
     "data": {
      "image/png": "[encoded data removed]",
      "text/plain": [
       "<Figure size 1008x288 with 2 Axes>"
      ]
     },
     "metadata": {
      "needs_background": "light"
     },
     "output_type": "display_data"
    },
    {
     "data": {
      "image/png": "[encoded data removed]",
      "text/plain": [
       "<Figure size 1008x288 with 2 Axes>"
      ]
     },
     "metadata": {
      "needs_background": "light"
     },
     "output_type": "display_data"
    },
    {
     "data": {
      "image/png": "[encoded data removed]",
      "text/plain": [
       "<Figure size 1008x288 with 2 Axes>"
      ]
     },
     "metadata": {
      "needs_background": "light"
     },
     "output_type": "display_data"
    },
    {
     "data": {
      "image/png": "[encoded data removed]",
      "text/plain": [
       "<Figure size 1008x288 with 2 Axes>"
      ]
     },
     "metadata": {
      "needs_background": "light"
     },
     "output_type": "display_data"
    },
    {
     "data": {
      "image/png": "[encoded data removed]",
      "text/plain": [
       "<Figure size 1008x288 with 2 Axes>"
      ]
     },
     "metadata": {
      "needs_background": "light"
     },
     "output_type": "display_data"
    },
    {
     "data": {
      "image/png": "[encoded data removed]",
      "text/plain": [
       "<Figure size 1008x288 with 2 Axes>"
      ]
     },
     "metadata": {
      "needs_background": "light"
     },
     "output_type": "display_data"
    }
   ],
   "source": [
    "for fold in range(f_scores['folds'].nunique()):\n",
    "    history_f = f_scores[f_scores['folds'] == fold]\n",
    "\n",
    "    fig, ax = plt.subplots(1, 2, tight_layout=True, figsize=(14,4))\n",
    "    fig.suptitle('Fold : '+str(fold), fontsize=14)\n",
    "        \n",
    "    plt.subplot(1,2,1)\n",
    "    plt.plot(history_f.loc[:, ['loss', 'val_loss']], label= ['loss', 'val_loss'])\n",
    "    plt.legend(fontsize=15)\n",
    "    plt.grid()\n",
    "    \n",
    "    plt.subplot(1,2,2)\n",
    "    plt.plot(history_f.loc[:, ['acc', 'val_acc']],label= ['acc', 'val_acc'])\n",
    "    plt.legend(fontsize=15)\n",
    "    plt.grid()\n",
    "    \n",
    "    print(\"Validation Loss: {:0.4f}\".format(history_f['val_loss'].min()));"
   ]
  },
  {
   "cell_type": "markdown",
   "id": "add59d76",
   "metadata": {
    "papermill": {
     "duration": 0.047508,
     "end_time": "2021-12-03T09:44:48.448363",
     "exception": false,
     "start_time": "2021-12-03T09:44:48.400855",
     "status": "completed"
    },
    "tags": []
   },
   "source": [
    "# Submission"
   ]
  },
  {
   "cell_type": "code",
   "execution_count": 24,
   "id": "fd4be92e",
   "metadata": {
    "execution": {
     "iopub.execute_input": "2021-12-03T09:44:48.547027Z",
     "iopub.status.busy": "2021-12-03T09:44:48.546262Z",
     "iopub.status.idle": "2021-12-03T09:45:25.138461Z",
     "shell.execute_reply": "2021-12-03T09:45:25.139031Z",
     "shell.execute_reply.started": "2021-12-03T03:32:33.065749Z"
    },
    "papermill": {
     "duration": 36.643234,
     "end_time": "2021-12-03T09:45:25.139218",
     "exception": false,
     "start_time": "2021-12-03T09:44:48.495984",
     "status": "completed"
    },
    "tags": []
   },
   "outputs": [
    {
     "data": {
      "text/html": [
       "<div>\n",
       "<style scoped>\n",
       "    .dataframe tbody tr th:only-of-type {\n",
       "        vertical-align: middle;\n",
       "    }\n",
       "\n",
       "    .dataframe tbody tr th {\n",
       "        vertical-align: top;\n",
       "    }\n",
       "\n",
       "    .dataframe thead th {\n",
       "        text-align: right;\n",
       "    }\n",
       "</style>\n",
       "<table border=\"1\" class=\"dataframe\">\n",
       "  <thead>\n",
       "    <tr style=\"text-align: right;\">\n",
       "      <th></th>\n",
       "      <th>Id</th>\n",
       "      <th>Cover_Type</th>\n",
       "    </tr>\n",
       "  </thead>\n",
       "  <tbody>\n",
       "    <tr>\n",
       "      <th>0</th>\n",
       "      <td>4000000</td>\n",
       "      <td>2</td>\n",
       "    </tr>\n",
       "    <tr>\n",
       "      <th>1</th>\n",
       "      <td>4000001</td>\n",
       "      <td>2</td>\n",
       "    </tr>\n",
       "    <tr>\n",
       "      <th>2</th>\n",
       "      <td>4000002</td>\n",
       "      <td>2</td>\n",
       "    </tr>\n",
       "    <tr>\n",
       "      <th>3</th>\n",
       "      <td>4000003</td>\n",
       "      <td>2</td>\n",
       "    </tr>\n",
       "    <tr>\n",
       "      <th>4</th>\n",
       "      <td>4000004</td>\n",
       "      <td>2</td>\n",
       "    </tr>\n",
       "    <tr>\n",
       "      <th>...</th>\n",
       "      <td>...</td>\n",
       "      <td>...</td>\n",
       "    </tr>\n",
       "    <tr>\n",
       "      <th>999995</th>\n",
       "      <td>4999995</td>\n",
       "      <td>2</td>\n",
       "    </tr>\n",
       "    <tr>\n",
       "      <th>999996</th>\n",
       "      <td>4999996</td>\n",
       "      <td>1</td>\n",
       "    </tr>\n",
       "    <tr>\n",
       "      <th>999997</th>\n",
       "      <td>4999997</td>\n",
       "      <td>2</td>\n",
       "    </tr>\n",
       "    <tr>\n",
       "      <th>999998</th>\n",
       "      <td>4999998</td>\n",
       "      <td>1</td>\n",
       "    </tr>\n",
       "    <tr>\n",
       "      <th>999999</th>\n",
       "      <td>4999999</td>\n",
       "      <td>3</td>\n",
       "    </tr>\n",
       "  </tbody>\n",
       "</table>\n",
       "<p>1000000 rows × 2 columns</p>\n",
       "</div>"
      ],
      "text/plain": [
       "             Id  Cover_Type\n",
       "0       4000000           2\n",
       "1       4000001           2\n",
       "2       4000002           2\n",
       "3       4000003           2\n",
       "4       4000004           2\n",
       "...         ...         ...\n",
       "999995  4999995           2\n",
       "999996  4999996           1\n",
       "999997  4999997           2\n",
       "999998  4999998           1\n",
       "999999  4999999           3\n",
       "\n",
       "[1000000 rows x 2 columns]"
      ]
     },
     "execution_count": 24,
     "metadata": {},
     "output_type": "execute_result"
    }
   ],
   "source": [
    "sub = pd.read_csv(INPUT + '/sample_submission.csv')\n",
    "sub[column_y] = (stats.mode(preds_test)[0][0]) # preds_test[FOLDS-1] # argmax reverse of to_categorical sub[column_y] = (np.argmax(sum(preds_test), axis=1) + 1)\n",
    "sub.to_csv('submission.csv', index=False)\n",
    "sub"
   ]
  },
  {
   "cell_type": "code",
   "execution_count": 25,
   "id": "1779ca4b",
   "metadata": {
    "execution": {
     "iopub.execute_input": "2021-12-03T09:45:25.243305Z",
     "iopub.status.busy": "2021-12-03T09:45:25.242600Z",
     "iopub.status.idle": "2021-12-03T09:45:25.271194Z",
     "shell.execute_reply": "2021-12-03T09:45:25.271729Z",
     "shell.execute_reply.started": "2021-12-03T03:33:09.404981Z"
    },
    "papermill": {
     "duration": 0.083941,
     "end_time": "2021-12-03T09:45:25.271931",
     "exception": false,
     "start_time": "2021-12-03T09:45:25.187990",
     "status": "completed"
    },
    "tags": []
   },
   "outputs": [
    {
     "data": {
      "text/plain": [
       "(array([1, 2, 3, 7]), array([407731, 466482,  90615,  35172]))"
      ]
     },
     "execution_count": 25,
     "metadata": {},
     "output_type": "execute_result"
    }
   ],
   "source": [
    "np.unique(sub[column_y], return_counts=True)"
   ]
  },
  {
   "cell_type": "code",
   "execution_count": 26,
   "id": "26ab11ea",
   "metadata": {
    "execution": {
     "iopub.execute_input": "2021-12-03T09:45:25.374800Z",
     "iopub.status.busy": "2021-12-03T09:45:25.374038Z",
     "iopub.status.idle": "2021-12-03T09:45:25.377399Z",
     "shell.execute_reply": "2021-12-03T09:45:25.377959Z",
     "shell.execute_reply.started": "2021-12-03T03:33:09.441748Z"
    },
    "papermill": {
     "duration": 0.056798,
     "end_time": "2021-12-03T09:45:25.378140",
     "exception": false,
     "start_time": "2021-12-03T09:45:25.321342",
     "status": "completed"
    },
    "tags": []
   },
   "outputs": [],
   "source": [
    "# np.array(preds_test).shape"
   ]
  },
  {
   "cell_type": "code",
   "execution_count": 27,
   "id": "32f7fbab",
   "metadata": {
    "execution": {
     "iopub.execute_input": "2021-12-03T09:45:25.483716Z",
     "iopub.status.busy": "2021-12-03T09:45:25.483022Z",
     "iopub.status.idle": "2021-12-03T09:45:25.486213Z",
     "shell.execute_reply": "2021-12-03T09:45:25.486706Z",
     "shell.execute_reply.started": "2021-12-03T03:39:47.083660Z"
    },
    "papermill": {
     "duration": 0.057497,
     "end_time": "2021-12-03T09:45:25.486893",
     "exception": false,
     "start_time": "2021-12-03T09:45:25.429396",
     "status": "completed"
    },
    "tags": []
   },
   "outputs": [],
   "source": [
    "# np.unique(preds_test, return_counts=True)"
   ]
  },
  {
   "cell_type": "code",
   "execution_count": 28,
   "id": "afb82f88",
   "metadata": {
    "execution": {
     "iopub.execute_input": "2021-12-03T09:45:25.597156Z",
     "iopub.status.busy": "2021-12-03T09:45:25.596410Z",
     "iopub.status.idle": "2021-12-03T09:45:25.845390Z",
     "shell.execute_reply": "2021-12-03T09:45:25.844671Z",
     "shell.execute_reply.started": "2021-12-03T03:33:09.466246Z"
    },
    "papermill": {
     "duration": 0.309574,
     "end_time": "2021-12-03T09:45:25.845574",
     "exception": false,
     "start_time": "2021-12-03T09:45:25.536000",
     "status": "completed"
    },
    "tags": []
   },
   "outputs": [
    {
     "data": {
      "image/png": "[encoded data removed]",
      "text/plain": [
       "<Figure size 720x216 with 1 Axes>"
      ]
     },
     "metadata": {
      "needs_background": "light"
     },
     "output_type": "display_data"
    }
   ],
   "source": [
    "from matplotlib.ticker import MaxNLocator, FormatStrFormatter, PercentFormatter\n",
    "\n",
    "# Plot the distribution of the training set target\n",
    "plt.figure(figsize=(10,3))\n",
    "plt.hist(y['Cover_Type'], bins=np.linspace(0.5, 7.5, 8), density=True)\n",
    "plt.xlabel('Training set target')\n",
    "plt.ylabel('Density')\n",
    "plt.gca().yaxis.set_major_formatter(PercentFormatter())\n",
    "plt.show()"
   ]
  },
  {
   "cell_type": "code",
   "execution_count": 29,
   "id": "d04127ca",
   "metadata": {
    "execution": {
     "iopub.execute_input": "2021-12-03T09:45:25.949635Z",
     "iopub.status.busy": "2021-12-03T09:45:25.948539Z",
     "iopub.status.idle": "2021-12-03T09:45:26.183271Z",
     "shell.execute_reply": "2021-12-03T09:45:26.182715Z",
     "shell.execute_reply.started": "2021-12-03T03:33:09.679249Z"
    },
    "papermill": {
     "duration": 0.288756,
     "end_time": "2021-12-03T09:45:26.183425",
     "exception": false,
     "start_time": "2021-12-03T09:45:25.894669",
     "status": "completed"
    },
    "tags": []
   },
   "outputs": [
    {
     "data": {
      "image/png": "[encoded data removed]",
      "text/plain": [
       "<Figure size 720x216 with 1 Axes>"
      ]
     },
     "metadata": {
      "needs_background": "light"
     },
     "output_type": "display_data"
    }
   ],
   "source": [
    "# Plot the distribution of the test predictions\n",
    "plt.figure(figsize=(10,3))\n",
    "plt.hist(sub['Cover_Type'], bins=np.linspace(0.5, 7.5, 8), density=True)\n",
    "plt.xlabel('Test predictions')\n",
    "plt.ylabel('Density')\n",
    "plt.gca().yaxis.set_major_formatter(PercentFormatter())\n",
    "plt.show()"
   ]
  },
  {
   "cell_type": "markdown",
   "id": "6fadc473",
   "metadata": {
    "papermill": {
     "duration": 0.05059,
     "end_time": "2021-12-03T09:45:26.287617",
     "exception": false,
     "start_time": "2021-12-03T09:45:26.237027",
     "status": "completed"
    },
    "tags": []
   },
   "source": [
    "keys_list, values_list = np.unique(my_list, return_counts=True)keys_list, values_list = np.unique(my_list, return_counts=True)To submit these predictions to the competition, follow these steps:\n",
    "\n",
    "1. Begin by clicking on the blue **Save Version** button in the top right corner of the window.  This will generate a pop-up window.\n",
    "2. Ensure that the **Save and Run All** option is selected, and then click on the blue **Save** button.\n",
    "3. This generates a window in the bottom left corner of the notebook.  After it has finished running, click on the number to the right of the **Save Version** button.  This pulls up a list of versions on the right of the screen.  Click on the ellipsis **(...)** to the right of the most recent version, and select **Open in Viewer**.  This brings you into view mode of the same page. You will need to scroll down to get back to these instructions.\n",
    "4. Click on the **Output** tab on the right of the screen.  Then, click on the file you would like to submit, and click on the blue **Submit** button to submit your results to the leaderboard.\n",
    "\n",
    "You have now successfully submitted to the competition!\n",
    "\n",
    "# Next Steps #\n",
    "\n",
    "If you want to keep working to improve your performance, select the blue **Edit** button in the top right of the screen. Then you can change your code and repeat the process. There's a lot of room to improve, and you will climb up the leaderboard as you work.\n",
    "\n",
    "Be sure to check out [other users' notebooks](https://www.kaggle.com/c/house-prices-advanced-regression-techniques/notebooks) in this competition. You'll find lots of great ideas for new features and as well as other ways to discover more things about the dataset or make better predictions. There's also the [discussion forum](https://www.kaggle.com/c/house-prices-advanced-regression-techniques/discussion), where you can share ideas with other Kagglers.\n",
    "\n",
    "Have fun Kaggling!"
   ]
  },
  {
   "cell_type": "code",
   "execution_count": null,
   "id": "387bd6c2",
   "metadata": {
    "papermill": {
     "duration": 0.049351,
     "end_time": "2021-12-03T09:45:26.387086",
     "exception": false,
     "start_time": "2021-12-03T09:45:26.337735",
     "status": "completed"
    },
    "tags": []
   },
   "outputs": [],
   "source": []
  }
 ],
 "metadata": {
  "kernelspec": {
   "display_name": "Python 3",
   "language": "python",
   "name": "python3"
  },
  "language_info": {
   "codemirror_mode": {
    "name": "ipython",
    "version": 3
   },
   "file_extension": ".py",
   "mimetype": "text/x-python",
   "name": "python",
   "nbconvert_exporter": "python",
   "pygments_lexer": "ipython3",
   "version": "3.7.10"
  },
  "papermill": {
   "default_parameters": {},
   "duration": 21761.499012,
   "end_time": "2021-12-03T09:45:29.343913",
   "environment_variables": {},
   "exception": null,
   "input_path": "__notebook__.ipynb",
   "output_path": "__notebook__.ipynb",
   "parameters": {},
   "start_time": "2021-12-03T03:42:47.844901",
   "version": "2.3.3"
  }
 },
 "nbformat": 4,
 "nbformat_minor": 5
}
