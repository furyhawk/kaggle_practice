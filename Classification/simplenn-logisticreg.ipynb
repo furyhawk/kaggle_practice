{
 "cells": [
  {
   "cell_type": "markdown",
   "id": "fbcd433b",
   "metadata": {
    "papermill": {
     "duration": 0.022182,
     "end_time": "2021-12-02T01:08:05.339177",
     "exception": false,
     "start_time": "2021-12-02T01:08:05.316995",
     "status": "completed"
    },
    "tags": []
   },
   "source": [
    "# Welcome and have fun learning Logistic Regession with plug and play Neural Network\n",
    "### There are alot of category features in the dataset. Lets forget about feature engineering and just brute force NN for now.\n",
    "<blockquote style=\"margin-right:auto; margin-left:auto; padding: 1em; margin:24px;\">\n",
    "    <strong>Fork This Notebook!</strong><br>\n",
    "Create your own editable copy of this notebook by clicking on the <strong>Copy and Edit</strong> button in the top right corner.\n",
    "</blockquote>\n",
    "\n",
    "## Imports and Configuration ##"
   ]
  },
  {
   "cell_type": "code",
   "execution_count": 1,
   "id": "e46d3e10",
   "metadata": {
    "_cell_guid": "b1076dfc-b9ad-4769-8c92-a6c4dae69d19",
    "_uuid": "8f2839f25d086af736a60e9eeb907d3b93b6e0e5",
    "execution": {
     "iopub.execute_input": "2021-12-02T01:08:05.388681Z",
     "iopub.status.busy": "2021-12-02T01:08:05.388045Z",
     "iopub.status.idle": "2021-12-02T01:08:11.698859Z",
     "shell.execute_reply": "2021-12-02T01:08:11.698086Z",
     "shell.execute_reply.started": "2021-12-02T00:57:49.239216Z"
    },
    "papermill": {
     "duration": 6.339174,
     "end_time": "2021-12-02T01:08:11.699030",
     "exception": false,
     "start_time": "2021-12-02T01:08:05.359856",
     "status": "completed"
    },
    "tags": []
   },
   "outputs": [
    {
     "name": "stdout",
     "output_type": "stream",
     "text": [
      "/kaggle/input/tabular-playground-series-dec-2021/sample_submission.csv\n",
      "/kaggle/input/tabular-playground-series-dec-2021/train.csv\n",
      "/kaggle/input/tabular-playground-series-dec-2021/test.csv\n"
     ]
    }
   ],
   "source": [
    "# This Python 3 environment comes with many helpful analytics libraries installed\n",
    "# It is defined by the kaggle/python Docker image: https://github.com/kaggle/docker-python\n",
    "# For example, here's several helpful packages to load\n",
    "\n",
    "import numpy as np # linear algebra\n",
    "import pandas as pd # data processing, CSV file I/O (e.g. pd.read_csv)\n",
    "import keras\n",
    "import tensorflow as tf\n",
    "from tensorflow.keras import layers\n",
    "from tensorflow.keras.callbacks import EarlyStopping, ReduceLROnPlateau\n",
    "\n",
    "# Input data files are available in the read-only \"../input/\" directory\n",
    "# For example, running this (by clicking run or pressing Shift+Enter) will list all files under the input directory\n",
    "\n",
    "import os\n",
    "for dirname, _, filenames in os.walk('/kaggle/input'):\n",
    "    for filename in filenames:\n",
    "        print(os.path.join(dirname, filename))\n",
    "\n",
    "# You can write up to 20GB to the current directory (/kaggle/working/) that gets preserved as output when you create a version using \"Save & Run All\" \n",
    "# You can also write temporary files to /kaggle/temp/, but they won't be saved outside of the current session"
   ]
  },
  {
   "cell_type": "code",
   "execution_count": 2,
   "id": "817b1836",
   "metadata": {
    "execution": {
     "iopub.execute_input": "2021-12-02T01:08:11.743483Z",
     "iopub.status.busy": "2021-12-02T01:08:11.742545Z",
     "iopub.status.idle": "2021-12-02T01:08:11.745079Z",
     "shell.execute_reply": "2021-12-02T01:08:11.745556Z",
     "shell.execute_reply.started": "2021-12-02T00:57:51.285499Z"
    },
    "papermill": {
     "duration": 0.027597,
     "end_time": "2021-12-02T01:08:11.745742",
     "exception": false,
     "start_time": "2021-12-02T01:08:11.718145",
     "status": "completed"
    },
    "tags": []
   },
   "outputs": [],
   "source": [
    "# -----------------------------------------------------------------\n",
    "# Some parameters to config \n",
    "ID = \"Id\"\n",
    "MAX_TRIAL = 3 # speed trial any% Not used here\n",
    "EPOCHS = 500\n",
    "BATCH_SIZE = 2048 # large enough to fit RAM\n",
    "ACTIVATION = 'swish'\n",
    "LEARNING_RATE = 0.000265713 # Optimal lr is about half the maximum lr\n",
    "FOLDS = 5\n",
    "RANDOM_STATE = 42\n",
    "VERBOSE = 0\n",
    "VALIDATION_SPLIT = 0.005 # Only used to min dataset for quick test"
   ]
  },
  {
   "cell_type": "markdown",
   "id": "5d52a352",
   "metadata": {
    "papermill": {
     "duration": 0.018557,
     "end_time": "2021-12-02T01:08:11.782525",
     "exception": false,
     "start_time": "2021-12-02T01:08:11.763968",
     "status": "completed"
    },
    "tags": []
   },
   "source": [
    "## Data Preprocessing ##\n",
    "\n",
    "Before we can do any feature engineering, we need to *preprocess* the data to get it in a form suitable for analysis. We'll need to:\n",
    "- **Load** the data from CSV files\n",
    "- **Clean** the data to fix any errors or inconsistencies\n",
    "- **Encode** the statistical data type (numeric, categorical)\n",
    "- **Impute** any missing values\n",
    "\n",
    "We'll wrap all these steps up in a function, which will make easy for you to get a fresh dataframe whenever you need. After reading the CSV file, we'll apply three preprocessing steps, `clean`, `encode`, and `impute`, and then create the data splits: one (`df_train`) for training the model, and one (`df_test`) for making the predictions that you'll submit to the competition for scoring on the leaderboard."
   ]
  },
  {
   "cell_type": "code",
   "execution_count": 3,
   "id": "47ba30d3",
   "metadata": {
    "execution": {
     "iopub.execute_input": "2021-12-02T01:08:11.822874Z",
     "iopub.status.busy": "2021-12-02T01:08:11.821951Z",
     "iopub.status.idle": "2021-12-02T01:08:11.827475Z",
     "shell.execute_reply": "2021-12-02T01:08:11.827946Z",
     "shell.execute_reply.started": "2021-12-02T00:57:51.293089Z"
    },
    "papermill": {
     "duration": 0.027403,
     "end_time": "2021-12-02T01:08:11.828113",
     "exception": false,
     "start_time": "2021-12-02T01:08:11.800710",
     "status": "completed"
    },
    "tags": []
   },
   "outputs": [],
   "source": [
    "from pathlib import Path\n",
    "def load_data():\n",
    "    # Read data\n",
    "    data_dir = Path(\"../input/tabular-playground-series-dec-2021\")\n",
    "    df_train = pd.read_csv(data_dir / \"train.csv\", index_col=\"Id\")\n",
    "    df_test = pd.read_csv(data_dir / \"test.csv\", index_col=\"Id\")\n",
    "    # Merge the splits so we can process them together\n",
    "#     df = pd.concat([df_train, df_test])\n",
    "    # Preprocessing\n",
    "#     df = clean(df)\n",
    "#     df = encode(df)\n",
    "    df_train = impute(df_train)\n",
    "    df_test = impute(df_test)\n",
    "    # Reform splits\n",
    "#     df_train = df.loc[df_train.index, :]\n",
    "#     df_test = df.loc[df_test.index, :]\n",
    "    return df_train, df_test"
   ]
  },
  {
   "cell_type": "markdown",
   "id": "9a62dee9",
   "metadata": {
    "papermill": {
     "duration": 0.017465,
     "end_time": "2021-12-02T01:08:11.863187",
     "exception": false,
     "start_time": "2021-12-02T01:08:11.845722",
     "status": "completed"
    },
    "tags": []
   },
   "source": [
    "### Handle Missing Values ###\n",
    "\n",
    "Handling missing values now will make the feature engineering go more smoothly. We'll impute `0` for missing numeric values and `\"None\"` for missing categorical values. You might like to experiment with other imputation strategies. In particular, you could try creating \"missing value\" indicators: `1` whenever a value was imputed and `0` otherwise."
   ]
  },
  {
   "cell_type": "code",
   "execution_count": 4,
   "id": "84ab07ae",
   "metadata": {
    "execution": {
     "iopub.execute_input": "2021-12-02T01:08:11.904631Z",
     "iopub.status.busy": "2021-12-02T01:08:11.903933Z",
     "iopub.status.idle": "2021-12-02T01:08:11.906945Z",
     "shell.execute_reply": "2021-12-02T01:08:11.906474Z",
     "shell.execute_reply.started": "2021-12-02T00:57:51.310269Z"
    },
    "papermill": {
     "duration": 0.026444,
     "end_time": "2021-12-02T01:08:11.907087",
     "exception": false,
     "start_time": "2021-12-02T01:08:11.880643",
     "status": "completed"
    },
    "tags": []
   },
   "outputs": [],
   "source": [
    "def impute(df):\n",
    "    for name in df.select_dtypes(\"number\"):\n",
    "        df[name] = df[name].fillna(0)\n",
    "    for name in df.select_dtypes(\"category\"):\n",
    "        df[name] = df[name].fillna(\"None\")\n",
    "    return df"
   ]
  },
  {
   "cell_type": "markdown",
   "id": "8cc2ccf4",
   "metadata": {
    "papermill": {
     "duration": 0.017163,
     "end_time": "2021-12-02T01:08:11.941834",
     "exception": false,
     "start_time": "2021-12-02T01:08:11.924671",
     "status": "completed"
    },
    "tags": []
   },
   "source": [
    "## Load Data ##\n",
    "\n",
    "And now we can call the data loader and get the processed data splits:"
   ]
  },
  {
   "cell_type": "code",
   "execution_count": 5,
   "id": "82ae4867",
   "metadata": {
    "execution": {
     "iopub.execute_input": "2021-12-02T01:08:11.980785Z",
     "iopub.status.busy": "2021-12-02T01:08:11.980190Z",
     "iopub.status.idle": "2021-12-02T01:08:36.743460Z",
     "shell.execute_reply": "2021-12-02T01:08:36.742687Z",
     "shell.execute_reply.started": "2021-12-02T00:57:51.327639Z"
    },
    "papermill": {
     "duration": 24.78444,
     "end_time": "2021-12-02T01:08:36.743615",
     "exception": false,
     "start_time": "2021-12-02T01:08:11.959175",
     "status": "completed"
    },
    "tags": []
   },
   "outputs": [
    {
     "name": "stderr",
     "output_type": "stream",
     "text": [
      "/opt/conda/lib/python3.7/site-packages/numpy/lib/arraysetops.py:580: FutureWarning: elementwise comparison failed; returning scalar instead, but in the future will perform elementwise comparison\n",
      "  mask |= (ar1 == a)\n"
     ]
    }
   ],
   "source": [
    "train_data, test_data = load_data()\n",
    "sample_sub_data = pd.read_csv('../input/tabular-playground-series-dec-2021/sample_submission.csv',index_col='Id')"
   ]
  },
  {
   "cell_type": "code",
   "execution_count": 6,
   "id": "85ecb65a",
   "metadata": {
    "execution": {
     "iopub.execute_input": "2021-12-02T01:08:36.787490Z",
     "iopub.status.busy": "2021-12-02T01:08:36.786821Z",
     "iopub.status.idle": "2021-12-02T01:08:37.524620Z",
     "shell.execute_reply": "2021-12-02T01:08:37.523921Z",
     "shell.execute_reply.started": "2021-12-02T00:58:17.798659Z"
    },
    "papermill": {
     "duration": 0.762738,
     "end_time": "2021-12-02T01:08:37.524770",
     "exception": false,
     "start_time": "2021-12-02T01:08:36.762032",
     "status": "completed"
    },
    "tags": []
   },
   "outputs": [],
   "source": [
    "column_y = train_data.columns.difference(test_data.columns)[0]\n",
    "x = train_data.drop(columns=column_y)\n",
    "y = train_data[[column_y]]\n",
    "\n",
    "x_test = test_data.iloc[:,:]"
   ]
  },
  {
   "cell_type": "markdown",
   "id": "bf9f06de",
   "metadata": {
    "papermill": {
     "duration": 0.017656,
     "end_time": "2021-12-02T01:08:37.560996",
     "exception": false,
     "start_time": "2021-12-02T01:08:37.543340",
     "status": "completed"
    },
    "tags": []
   },
   "source": [
    "## For quick test"
   ]
  },
  {
   "cell_type": "code",
   "execution_count": 7,
   "id": "40287793",
   "metadata": {
    "execution": {
     "iopub.execute_input": "2021-12-02T01:08:37.603613Z",
     "iopub.status.busy": "2021-12-02T01:08:37.602597Z",
     "iopub.status.idle": "2021-12-02T01:08:38.614284Z",
     "shell.execute_reply": "2021-12-02T01:08:38.613169Z",
     "shell.execute_reply.started": "2021-12-02T00:58:18.351735Z"
    },
    "papermill": {
     "duration": 1.035655,
     "end_time": "2021-12-02T01:08:38.614487",
     "exception": false,
     "start_time": "2021-12-02T01:08:37.578832",
     "status": "completed"
    },
    "tags": []
   },
   "outputs": [
    {
     "name": "stdout",
     "output_type": "stream",
     "text": [
      "Series([], dtype: int64)\n"
     ]
    }
   ],
   "source": [
    "# Check NA\n",
    "missing_val = x.isnull().sum()\n",
    "print(missing_val[missing_val > 0])\n",
    "\n",
    "from sklearn.model_selection import train_test_split \n",
    "\n",
    "# x, x_val, y, y_val = train_test_split(x, y, train_size = VALIDATION_SPLIT, random_state = RANDOM_STATE)"
   ]
  },
  {
   "cell_type": "markdown",
   "id": "0ebb038e",
   "metadata": {
    "papermill": {
     "duration": 0.018042,
     "end_time": "2021-12-02T01:08:38.651067",
     "exception": false,
     "start_time": "2021-12-02T01:08:38.633025",
     "status": "completed"
    },
    "tags": []
   },
   "source": [
    "y to categorical"
   ]
  },
  {
   "cell_type": "code",
   "execution_count": 8,
   "id": "d26bcc27",
   "metadata": {
    "execution": {
     "iopub.execute_input": "2021-12-02T01:08:38.698044Z",
     "iopub.status.busy": "2021-12-02T01:08:38.696301Z",
     "iopub.status.idle": "2021-12-02T01:08:38.794194Z",
     "shell.execute_reply": "2021-12-02T01:08:38.793247Z",
     "shell.execute_reply.started": "2021-12-02T00:58:26.403203Z"
    },
    "papermill": {
     "duration": 0.124828,
     "end_time": "2021-12-02T01:08:38.794353",
     "exception": false,
     "start_time": "2021-12-02T01:08:38.669525",
     "status": "completed"
    },
    "tags": []
   },
   "outputs": [],
   "source": [
    "# Prepare for multiclass classification\n",
    "y_cat = tf.keras.utils.to_categorical(y - 1)"
   ]
  },
  {
   "cell_type": "code",
   "execution_count": 9,
   "id": "48f71057",
   "metadata": {
    "execution": {
     "iopub.execute_input": "2021-12-02T01:08:38.835659Z",
     "iopub.status.busy": "2021-12-02T01:08:38.834723Z",
     "iopub.status.idle": "2021-12-02T01:08:38.844027Z",
     "shell.execute_reply": "2021-12-02T01:08:38.843543Z",
     "shell.execute_reply.started": "2021-12-02T00:58:26.410660Z"
    },
    "papermill": {
     "duration": 0.031445,
     "end_time": "2021-12-02T01:08:38.844190",
     "exception": false,
     "start_time": "2021-12-02T01:08:38.812745",
     "status": "completed"
    },
    "tags": []
   },
   "outputs": [
    {
     "data": {
      "text/plain": [
       "(4000000, 1)"
      ]
     },
     "execution_count": 9,
     "metadata": {},
     "output_type": "execute_result"
    }
   ],
   "source": [
    "y.shape"
   ]
  },
  {
   "cell_type": "code",
   "execution_count": 10,
   "id": "c4463f14",
   "metadata": {
    "execution": {
     "iopub.execute_input": "2021-12-02T01:08:38.888531Z",
     "iopub.status.busy": "2021-12-02T01:08:38.887703Z",
     "iopub.status.idle": "2021-12-02T01:08:38.891688Z",
     "shell.execute_reply": "2021-12-02T01:08:38.891050Z",
     "shell.execute_reply.started": "2021-12-02T00:58:26.427154Z"
    },
    "papermill": {
     "duration": 0.028575,
     "end_time": "2021-12-02T01:08:38.891842",
     "exception": false,
     "start_time": "2021-12-02T01:08:38.863267",
     "status": "completed"
    },
    "tags": []
   },
   "outputs": [
    {
     "data": {
      "text/plain": [
       "(4000000, 7)"
      ]
     },
     "execution_count": 10,
     "metadata": {},
     "output_type": "execute_result"
    }
   ],
   "source": [
    "y_cat.shape"
   ]
  },
  {
   "cell_type": "code",
   "execution_count": 11,
   "id": "e0361be4",
   "metadata": {
    "execution": {
     "iopub.execute_input": "2021-12-02T01:08:38.934088Z",
     "iopub.status.busy": "2021-12-02T01:08:38.933478Z",
     "iopub.status.idle": "2021-12-02T01:08:38.937740Z",
     "shell.execute_reply": "2021-12-02T01:08:38.938227Z",
     "shell.execute_reply.started": "2021-12-02T00:58:26.440243Z"
    },
    "papermill": {
     "duration": 0.027236,
     "end_time": "2021-12-02T01:08:38.938426",
     "exception": false,
     "start_time": "2021-12-02T01:08:38.911190",
     "status": "completed"
    },
    "tags": []
   },
   "outputs": [
    {
     "data": {
      "text/plain": [
       "(4000000, 54)"
      ]
     },
     "execution_count": 11,
     "metadata": {},
     "output_type": "execute_result"
    }
   ],
   "source": [
    "x.shape"
   ]
  },
  {
   "cell_type": "markdown",
   "id": "4370ee23",
   "metadata": {
    "papermill": {
     "duration": 0.018665,
     "end_time": "2021-12-02T01:08:38.976781",
     "exception": false,
     "start_time": "2021-12-02T01:08:38.958116",
     "status": "completed"
    },
    "tags": []
   },
   "source": [
    "# Scaler transformer"
   ]
  },
  {
   "cell_type": "code",
   "execution_count": 12,
   "id": "f6e0ed16",
   "metadata": {
    "execution": {
     "iopub.execute_input": "2021-12-02T01:08:39.022040Z",
     "iopub.status.busy": "2021-12-02T01:08:39.021254Z",
     "iopub.status.idle": "2021-12-02T01:08:39.030640Z",
     "shell.execute_reply": "2021-12-02T01:08:39.031145Z",
     "shell.execute_reply.started": "2021-12-02T00:58:26.451128Z"
    },
    "papermill": {
     "duration": 0.034811,
     "end_time": "2021-12-02T01:08:39.031340",
     "exception": false,
     "start_time": "2021-12-02T01:08:38.996529",
     "status": "completed"
    },
    "tags": []
   },
   "outputs": [],
   "source": [
    "from sklearn.preprocessing import StandardScaler, MinMaxScaler\n",
    "from sklearn.pipeline import make_pipeline\n",
    "from sklearn.compose import make_column_transformer\n",
    "\n",
    "transformer_all_cols = make_pipeline(\n",
    "    StandardScaler(),\n",
    "    MinMaxScaler(feature_range=(0, 1))\n",
    ")\n",
    "\n",
    "preprocessor = make_column_transformer(\n",
    "    (transformer_all_cols, x.columns[:]),\n",
    ")"
   ]
  },
  {
   "cell_type": "markdown",
   "id": "0387d902",
   "metadata": {
    "papermill": {
     "duration": 0.01834,
     "end_time": "2021-12-02T01:08:39.068660",
     "exception": false,
     "start_time": "2021-12-02T01:08:39.050320",
     "status": "completed"
    },
    "tags": []
   },
   "source": [
    "# Train Model and Create Submissions #\n",
    "\n",
    "Once you're satisfied with everything, it's time to create your final predictions! This cell will:\n",
    "- use the best trained model to make predictions from the test set\n",
    "- save the predictions to a CSV file"
   ]
  },
  {
   "cell_type": "code",
   "execution_count": 13,
   "id": "1d85df3e",
   "metadata": {
    "execution": {
     "iopub.execute_input": "2021-12-02T01:08:39.112567Z",
     "iopub.status.busy": "2021-12-02T01:08:39.111875Z",
     "iopub.status.idle": "2021-12-02T01:08:39.119742Z",
     "shell.execute_reply": "2021-12-02T01:08:39.120167Z",
     "shell.execute_reply.started": "2021-12-02T00:58:26.470918Z"
    },
    "papermill": {
     "duration": 0.030275,
     "end_time": "2021-12-02T01:08:39.120359",
     "exception": false,
     "start_time": "2021-12-02T01:08:39.090084",
     "status": "completed"
    },
    "tags": []
   },
   "outputs": [],
   "source": [
    "def load_model():\n",
    "    \n",
    "    early_stopping = EarlyStopping(\n",
    "        patience=20,\n",
    "        min_delta=0,\n",
    "        monitor='val_acc',\n",
    "        restore_best_weights=True,\n",
    "        verbose=VERBOSE,\n",
    "        mode='max',\n",
    "        baseline=None,\n",
    "    )\n",
    "    plateau = ReduceLROnPlateau(\n",
    "            monitor='val_loss', \n",
    "            factor=0.2, \n",
    "            patience=7, \n",
    "            verbose=VERBOSE,\n",
    "            mode='min')\n",
    "\n",
    "# -----------------------------------------------------------------\n",
    "# Model \n",
    "\n",
    "    model = keras.Sequential([\n",
    "    layers.BatchNormalization(),\n",
    "    layers.Dense(64, activation=ACTIVATION, input_shape = [x.shape[1]]),\n",
    "    layers.Dropout(rate = 0.5),\n",
    "    layers.BatchNormalization(),\n",
    "    layers.Dense(32, activation=ACTIVATION),\n",
    "    layers.Dropout(rate = 0.5),\n",
    "    layers.BatchNormalization(),\n",
    "    layers.Dense(16, activation=ACTIVATION), \n",
    "    layers.Dropout(rate = 0.5),\n",
    "    layers.Dense(y_cat.shape[1], activation = 'softmax'),\n",
    "    ])\n",
    "\n",
    "# -----------------------------------------------------------------\n",
    "# sparse_categorical_crossentropy\n",
    "    model.compile(\n",
    "        optimizer= tf.keras.optimizers.Adam(learning_rate=LEARNING_RATE),\n",
    "        loss='categorical_crossentropy',\n",
    "        metrics=['acc'],\n",
    "    )\n",
    "    \n",
    "    return model, early_stopping, plateau"
   ]
  },
  {
   "cell_type": "markdown",
   "id": "393b3a1f",
   "metadata": {
    "papermill": {
     "duration": 0.018514,
     "end_time": "2021-12-02T01:08:39.157732",
     "exception": false,
     "start_time": "2021-12-02T01:08:39.139218",
     "status": "completed"
    },
    "tags": []
   },
   "source": [
    "# Kfold"
   ]
  },
  {
   "cell_type": "code",
   "execution_count": 14,
   "id": "03e98f56",
   "metadata": {
    "execution": {
     "iopub.execute_input": "2021-12-02T01:08:39.198467Z",
     "iopub.status.busy": "2021-12-02T01:08:39.197865Z",
     "iopub.status.idle": "2021-12-02T01:08:39.203504Z",
     "shell.execute_reply": "2021-12-02T01:08:39.203930Z",
     "shell.execute_reply.started": "2021-12-02T01:00:04.948608Z"
    },
    "papermill": {
     "duration": 0.027591,
     "end_time": "2021-12-02T01:08:39.204099",
     "exception": false,
     "start_time": "2021-12-02T01:08:39.176508",
     "status": "completed"
    },
    "tags": []
   },
   "outputs": [],
   "source": [
    "import matplotlib.pyplot as plt\n",
    "def plot_acc(history):\n",
    "    # summarize history for accuracy\n",
    "    plt.plot(history.history['acc'])\n",
    "    plt.plot(history.history['val_acc'])\n",
    "    plt.title('model accuracy')\n",
    "    plt.ylabel('acc')\n",
    "    plt.xlabel('epoch')\n",
    "    plt.legend(['train', 'test'], loc='upper left')\n",
    "    plt.show()\n",
    "    # summarize history for loss\n",
    "    plt.plot(history.history['loss'])\n",
    "    plt.plot(history.history['val_loss'])\n",
    "    plt.title('model loss')\n",
    "    plt.ylabel('loss')\n",
    "    plt.xlabel('epoch')\n",
    "    plt.legend(['train', 'test'], loc='upper left')\n",
    "    plt.show()"
   ]
  },
  {
   "cell_type": "code",
   "execution_count": 15,
   "id": "c9c0cbd7",
   "metadata": {
    "execution": {
     "iopub.execute_input": "2021-12-02T01:08:39.246054Z",
     "iopub.status.busy": "2021-12-02T01:08:39.245357Z",
     "iopub.status.idle": "2021-12-02T01:08:39.250365Z",
     "shell.execute_reply": "2021-12-02T01:08:39.250847Z",
     "shell.execute_reply.started": "2021-12-02T00:58:26.502167Z"
    },
    "papermill": {
     "duration": 0.028109,
     "end_time": "2021-12-02T01:08:39.251035",
     "exception": false,
     "start_time": "2021-12-02T01:08:39.222926",
     "status": "completed"
    },
    "tags": []
   },
   "outputs": [],
   "source": [
    "from sklearn.metrics import accuracy_score, log_loss\n",
    "from sklearn.model_selection import KFold, StratifiedKFold\n",
    "from sklearn.preprocessing import StandardScaler, RobustScaler, PowerTransformer\n",
    "\n",
    "preds_valid_f = {}\n",
    "preds_test = []\n",
    "total_acc = []\n",
    "f_scores = []\n",
    "\n",
    "kf = StratifiedKFold(n_splits=FOLDS,random_state=RANDOM_STATE,shuffle=True)\n",
    "\n"
   ]
  },
  {
   "cell_type": "code",
   "execution_count": 16,
   "id": "f78ea1a3",
   "metadata": {
    "execution": {
     "iopub.execute_input": "2021-12-02T01:08:39.293088Z",
     "iopub.status.busy": "2021-12-02T01:08:39.292437Z",
     "iopub.status.idle": "2021-12-02T04:05:59.293941Z",
     "shell.execute_reply": "2021-12-02T04:05:59.294855Z",
     "shell.execute_reply.started": "2021-12-02T01:00:16.840714Z"
    },
    "papermill": {
     "duration": 10640.026315,
     "end_time": "2021-12-02T04:05:59.296254",
     "exception": false,
     "start_time": "2021-12-02T01:08:39.269939",
     "status": "completed"
    },
    "tags": []
   },
   "outputs": [
    {
     "name": "stderr",
     "output_type": "stream",
     "text": [
      "/opt/conda/lib/python3.7/site-packages/sklearn/model_selection/_split.py:672: UserWarning: The least populated class in y has only 1 members, which is less than n_splits=5.\n",
      "  % (min_groups, self.n_splits)), UserWarning)\n",
      "\n",
      "User settings:\n",
      "\n",
      "   KMP_AFFINITY=granularity=fine,verbose,compact,1,0\n",
      "   KMP_BLOCKTIME=0\n",
      "   KMP_DUPLICATE_LIB_OK=True\n",
      "   KMP_INIT_AT_FORK=FALSE\n",
      "   KMP_SETTINGS=1\n",
      "   KMP_WARNINGS=0\n",
      "\n",
      "Effective settings:\n",
      "\n",
      "   KMP_ABORT_DELAY=0\n",
      "   KMP_ADAPTIVE_LOCK_PROPS='1,1024'\n",
      "   KMP_ALIGN_ALLOC=64\n",
      "   KMP_ALL_THREADPRIVATE=128\n",
      "   KMP_ATOMIC_MODE=2\n",
      "   KMP_BLOCKTIME=0\n",
      "   KMP_CPUINFO_FILE: value is not defined\n",
      "   KMP_DETERMINISTIC_REDUCTION=false\n",
      "   KMP_DEVICE_THREAD_LIMIT=2147483647\n",
      "   KMP_DISP_NUM_BUFFERS=7\n",
      "   KMP_DUPLICATE_LIB_OK=true\n",
      "   KMP_ENABLE_TASK_THROTTLING=true\n",
      "   KMP_FORCE_REDUCTION: value is not defined\n",
      "   KMP_FOREIGN_THREADS_THREADPRIVATE=true\n",
      "   KMP_FORKJOIN_BARRIER='2,2'\n",
      "   KMP_FORKJOIN_BARRIER_PATTERN='hyper,hyper'\n",
      "   KMP_GTID_MODE=3\n",
      "   KMP_HANDLE_SIGNALS=false\n",
      "   KMP_HOT_TEAMS_MAX_LEVEL=1\n",
      "   KMP_HOT_TEAMS_MODE=0\n",
      "   KMP_INIT_AT_FORK=true\n",
      "   KMP_LIBRARY=throughput\n",
      "   KMP_LOCK_KIND=queuing\n",
      "   KMP_MALLOC_POOL_INCR=1M\n",
      "   KMP_NUM_LOCKS_IN_BLOCK=1\n",
      "   KMP_PLAIN_BARRIER='2,2'\n",
      "   KMP_PLAIN_BARRIER_PATTERN='hyper,hyper'\n",
      "   KMP_REDUCTION_BARRIER='1,1'\n",
      "   KMP_REDUCTION_BARRIER_PATTERN='hyper,hyper'\n",
      "   KMP_SCHEDULE='static,balanced;guided,iterative'\n",
      "   KMP_SETTINGS=true\n",
      "   KMP_SPIN_BACKOFF_PARAMS='4096,100'\n",
      "   KMP_STACKOFFSET=64\n",
      "   KMP_STACKPAD=0\n",
      "   KMP_STACKSIZE=8M\n",
      "   KMP_STORAGE_MAP=false\n",
      "   KMP_TASKING=2\n",
      "   KMP_TASKLOOP_MIN_TASKS=0\n",
      "   KMP_TASK_STEALING_CONSTRAINT=1\n",
      "   KMP_TEAMS_THREAD_LIMIT=4\n",
      "   KMP_TOPOLOGY_METHOD=all\n",
      "   KMP_USE_YIELD=1\n",
      "   KMP_VERSION=false\n",
      "   KMP_WARNINGS=false\n",
      "   OMP_AFFINITY_FORMAT='OMP: pid %P tid %i thread %n bound to OS proc set {%A}'\n",
      "   OMP_ALLOCATOR=omp_default_mem_alloc\n",
      "   OMP_CANCELLATION=false\n",
      "   OMP_DEFAULT_DEVICE=0\n",
      "   OMP_DISPLAY_AFFINITY=false\n",
      "   OMP_DISPLAY_ENV=false\n",
      "   OMP_DYNAMIC=false\n",
      "   OMP_MAX_ACTIVE_LEVELS=1\n",
      "   OMP_MAX_TASK_PRIORITY=0\n",
      "   OMP_NESTED: deprecated; max-active-levels-var=1\n",
      "   OMP_NUM_THREADS: value is not defined\n",
      "   OMP_PLACES: value is not defined\n",
      "   OMP_PROC_BIND='intel'\n",
      "   OMP_SCHEDULE='static'\n",
      "   OMP_STACKSIZE=8M\n",
      "   OMP_TARGET_OFFLOAD=DEFAULT\n",
      "   OMP_THREAD_LIMIT=2147483647\n",
      "   OMP_WAIT_POLICY=PASSIVE\n",
      "   KMP_AFFINITY='verbose,warnings,respect,granularity=fine,compact,1,0'\n",
      "\n",
      "2021-12-02 01:08:51.648118: I tensorflow/core/common_runtime/process_util.cc:146] Creating new thread pool with default inter op setting: 2. Tune using inter_op_parallelism_threads for best performance.\n",
      "2021-12-02 01:08:53.575882: I tensorflow/compiler/mlir/mlir_graph_optimization_pass.cc:185] None of the MLIR Optimization Passes are enabled (registered 2)\n"
     ]
    },
    {
     "name": "stdout",
     "output_type": "stream",
     "text": [
      "Fold 0 accuracy_score: 0.94957125\n",
      "Fold 1 accuracy_score: 0.95008375\n",
      "Fold 2 accuracy_score: 0.948745\n",
      "Fold 3 accuracy_score: 0.94938875\n",
      "Fold 4 accuracy_score: 0.9484925\n",
      "mean accuracy_score: 0.9492562499999998, std: 0.0005737992898218168\n"
     ]
    }
   ],
   "source": [
    "test  = test_data.copy()\n",
    "test = preprocessor.fit_transform(test)\n",
    "for fold,(train_index, valid_index) in enumerate(kf.split(x, y=y.Cover_Type)):\n",
    "\n",
    "    X_train, X_valid = x.iloc[train_index], x.iloc[valid_index]\n",
    "    y_train, y_valid = y_cat[train_index], y_cat[valid_index]\n",
    "\n",
    "    #   --------------------------------------------------------  \n",
    "    # Preprocessing\n",
    "    \n",
    "    index_valid  = X_valid.index.tolist()\n",
    "    \n",
    "    X_train = preprocessor.transform(X_train)\n",
    "    X_valid = preprocessor.transform(X_valid)\n",
    "    \n",
    "    #  ----------------------------------------------------------    \n",
    "    # Model\n",
    "    \n",
    "    model, early_stopping, plateau  = load_model()\n",
    "\n",
    "    history = model.fit(  X_train, y_train,\n",
    "                validation_data = (X_valid, y_valid),\n",
    "                batch_size = BATCH_SIZE, \n",
    "                epochs = EPOCHS,\n",
    "                callbacks = [early_stopping, plateau],\n",
    "                shuffle = True,\n",
    "                verbose = 0\n",
    "              )\n",
    "    \n",
    "    #  ----------------------------------------------------------\n",
    "    #  oof\n",
    "    preds_valid = model.predict(X_valid, batch_size=BATCH_SIZE)\n",
    "    \n",
    "    #  ----------------------------------------------------------\n",
    "    #  test  predictions, argmax reverse of to_categorical\n",
    "    preds_test.append(np.argmax(model.predict(test, batch_size=BATCH_SIZE), axis=1) + 1)\n",
    "\n",
    "    #  ----------------------------------------------------------\n",
    "    #  Saving  scores to plot the end  \n",
    "    scores = pd.DataFrame(history.history)\n",
    "    scores['folds'] = fold\n",
    "    if fold == 0:\n",
    "        f_scores = scores \n",
    "    else: \n",
    "        f_scores = pd.concat([f_scores, scores], axis  = 0)\n",
    "        \n",
    "    #  ----------------------------------------------------------\n",
    "    #  concatenating valid preds\n",
    "#     preds_valid_f.update(dict(zip(index_valid, preds_valid)))\n",
    "    \n",
    "    # Getting score for a fold model\n",
    "    fold_acc = accuracy_score(y.iloc[valid_index].Cover_Type, np.argmax(preds_valid, axis=1) + 1)\n",
    "    print(f\"Fold {fold} accuracy_score: {fold_acc}\")\n",
    "#     plot_acc(history)\n",
    "    # Total auc\n",
    "    total_acc.append(fold_acc)\n",
    "\n",
    "print(f\"mean accuracy_score: {np.mean(total_acc)}, std: {np.std(total_acc)}\")"
   ]
  },
  {
   "cell_type": "markdown",
   "id": "30923ae2",
   "metadata": {
    "papermill": {
     "duration": 0.021465,
     "end_time": "2021-12-02T04:05:59.339561",
     "exception": false,
     "start_time": "2021-12-02T04:05:59.318096",
     "status": "completed"
    },
    "tags": []
   },
   "source": [
    "# accuracy"
   ]
  },
  {
   "cell_type": "code",
   "execution_count": 17,
   "id": "c3954c3e",
   "metadata": {
    "execution": {
     "iopub.execute_input": "2021-12-02T04:05:59.388488Z",
     "iopub.status.busy": "2021-12-02T04:05:59.387724Z",
     "iopub.status.idle": "2021-12-02T04:06:02.075603Z",
     "shell.execute_reply": "2021-12-02T04:06:02.075029Z",
     "shell.execute_reply.started": "2021-12-02T01:03:14.652771Z"
    },
    "papermill": {
     "duration": 2.714221,
     "end_time": "2021-12-02T04:06:02.075780",
     "exception": false,
     "start_time": "2021-12-02T04:05:59.361559",
     "status": "completed"
    },
    "tags": []
   },
   "outputs": [
    {
     "name": "stdout",
     "output_type": "stream",
     "text": [
      "Validation Loss: 0.1250\n",
      "Validation Loss: 0.1232\n",
      "Validation Loss: 0.1262\n",
      "Validation Loss: 0.1243\n",
      "Validation Loss: 0.1270\n"
     ]
    },
    {
     "data": {
      "image/png": "[encoded data removed]",
      "text/plain": [
       "<Figure size 1008x288 with 2 Axes>"
      ]
     },
     "metadata": {
      "needs_background": "light"
     },
     "output_type": "display_data"
    },
    {
     "data": {
      "image/png": "[encoded data removed]",
      "text/plain": [
       "<Figure size 1008x288 with 2 Axes>"
      ]
     },
     "metadata": {
      "needs_background": "light"
     },
     "output_type": "display_data"
    },
    {
     "data": {
      "image/png": "[encoded data removed]",
      "text/plain": [
       "<Figure size 1008x288 with 2 Axes>"
      ]
     },
     "metadata": {
      "needs_background": "light"
     },
     "output_type": "display_data"
    },
    {
     "data": {
      "image/png": "[encoded data removed]",
      "text/plain": [
       "<Figure size 1008x288 with 2 Axes>"
      ]
     },
     "metadata": {
      "needs_background": "light"
     },
     "output_type": "display_data"
    },
    {
     "data": {
      "image/png": "[encoded data removed]",
      "text/plain": [
       "<Figure size 1008x288 with 2 Axes>"
      ]
     },
     "metadata": {
      "needs_background": "light"
     },
     "output_type": "display_data"
    }
   ],
   "source": [
    "\n",
    "\n",
    "for fold in range(f_scores['folds'].nunique()):\n",
    "    history_f = f_scores[f_scores['folds'] == fold]\n",
    "\n",
    "    fig, ax = plt.subplots(1, 2, tight_layout=True, figsize=(14,4))\n",
    "    fig.suptitle('Fold : '+str(fold), fontsize=14)\n",
    "        \n",
    "    plt.subplot(1,2,1)\n",
    "    plt.plot(history_f.loc[:, ['loss', 'val_loss']], label= ['loss', 'val_loss'])\n",
    "    plt.legend(fontsize=15)\n",
    "    plt.grid()\n",
    "    \n",
    "    plt.subplot(1,2,2)\n",
    "    plt.plot(history_f.loc[:, ['acc', 'val_acc']],label= ['acc', 'val_acc'])\n",
    "    plt.legend(fontsize=15)\n",
    "    plt.grid()\n",
    "    \n",
    "    print(\"Validation Loss: {:0.4f}\".format(history_f['val_loss'].min()));"
   ]
  },
  {
   "cell_type": "markdown",
   "id": "78adc82f",
   "metadata": {
    "papermill": {
     "duration": 0.027137,
     "end_time": "2021-12-02T04:06:02.131771",
     "exception": false,
     "start_time": "2021-12-02T04:06:02.104634",
     "status": "completed"
    },
    "tags": []
   },
   "source": [
    "# Submission"
   ]
  },
  {
   "cell_type": "code",
   "execution_count": 18,
   "id": "70171e21",
   "metadata": {
    "execution": {
     "iopub.execute_input": "2021-12-02T04:06:02.191369Z",
     "iopub.status.busy": "2021-12-02T04:06:02.190741Z",
     "iopub.status.idle": "2021-12-02T04:06:03.628174Z",
     "shell.execute_reply": "2021-12-02T04:06:03.627676Z",
     "shell.execute_reply.started": "2021-12-02T00:59:13.616911Z"
    },
    "papermill": {
     "duration": 1.468776,
     "end_time": "2021-12-02T04:06:03.628319",
     "exception": false,
     "start_time": "2021-12-02T04:06:02.159543",
     "status": "completed"
    },
    "tags": []
   },
   "outputs": [
    {
     "data": {
      "text/html": [
       "<div>\n",
       "<style scoped>\n",
       "    .dataframe tbody tr th:only-of-type {\n",
       "        vertical-align: middle;\n",
       "    }\n",
       "\n",
       "    .dataframe tbody tr th {\n",
       "        vertical-align: top;\n",
       "    }\n",
       "\n",
       "    .dataframe thead th {\n",
       "        text-align: right;\n",
       "    }\n",
       "</style>\n",
       "<table border=\"1\" class=\"dataframe\">\n",
       "  <thead>\n",
       "    <tr style=\"text-align: right;\">\n",
       "      <th></th>\n",
       "      <th>Id</th>\n",
       "      <th>Cover_Type</th>\n",
       "    </tr>\n",
       "  </thead>\n",
       "  <tbody>\n",
       "    <tr>\n",
       "      <th>0</th>\n",
       "      <td>4000000</td>\n",
       "      <td>2</td>\n",
       "    </tr>\n",
       "    <tr>\n",
       "      <th>1</th>\n",
       "      <td>4000001</td>\n",
       "      <td>2</td>\n",
       "    </tr>\n",
       "    <tr>\n",
       "      <th>2</th>\n",
       "      <td>4000002</td>\n",
       "      <td>2</td>\n",
       "    </tr>\n",
       "    <tr>\n",
       "      <th>3</th>\n",
       "      <td>4000003</td>\n",
       "      <td>2</td>\n",
       "    </tr>\n",
       "    <tr>\n",
       "      <th>4</th>\n",
       "      <td>4000004</td>\n",
       "      <td>2</td>\n",
       "    </tr>\n",
       "  </tbody>\n",
       "</table>\n",
       "</div>"
      ],
      "text/plain": [
       "        Id  Cover_Type\n",
       "0  4000000           2\n",
       "1  4000001           2\n",
       "2  4000002           2\n",
       "3  4000003           2\n",
       "4  4000004           2"
      ]
     },
     "execution_count": 18,
     "metadata": {},
     "output_type": "execute_result"
    }
   ],
   "source": [
    "sub = pd.read_csv(\"../input/tabular-playground-series-dec-2021/sample_submission.csv\")\n",
    "sub[column_y] = preds_test[FOLDS-1]\n",
    "sub.to_csv('submission.csv', index=False)\n",
    "sub.head()"
   ]
  },
  {
   "cell_type": "code",
   "execution_count": 19,
   "id": "13352f65",
   "metadata": {
    "execution": {
     "iopub.execute_input": "2021-12-02T04:06:03.691843Z",
     "iopub.status.busy": "2021-12-02T04:06:03.691138Z",
     "iopub.status.idle": "2021-12-02T04:06:03.693796Z",
     "shell.execute_reply": "2021-12-02T04:06:03.693227Z",
     "shell.execute_reply.started": "2021-12-02T00:59:13.618375Z"
    },
    "papermill": {
     "duration": 0.036744,
     "end_time": "2021-12-02T04:06:03.693952",
     "exception": false,
     "start_time": "2021-12-02T04:06:03.657208",
     "status": "completed"
    },
    "tags": []
   },
   "outputs": [],
   "source": [
    "# np.mean(preds_test, dtype=np.int, axis = 0)"
   ]
  },
  {
   "cell_type": "code",
   "execution_count": 20,
   "id": "45f263d8",
   "metadata": {
    "execution": {
     "iopub.execute_input": "2021-12-02T04:06:03.785211Z",
     "iopub.status.busy": "2021-12-02T04:06:03.784503Z",
     "iopub.status.idle": "2021-12-02T04:06:03.987962Z",
     "shell.execute_reply": "2021-12-02T04:06:03.987311Z",
     "shell.execute_reply.started": "2021-12-02T00:59:13.619615Z"
    },
    "papermill": {
     "duration": 0.26304,
     "end_time": "2021-12-02T04:06:03.988128",
     "exception": false,
     "start_time": "2021-12-02T04:06:03.725088",
     "status": "completed"
    },
    "tags": []
   },
   "outputs": [
    {
     "data": {
      "image/png": "[encoded data removed]",
      "text/plain": [
       "<Figure size 720x216 with 1 Axes>"
      ]
     },
     "metadata": {
      "needs_background": "light"
     },
     "output_type": "display_data"
    }
   ],
   "source": [
    "from matplotlib.ticker import MaxNLocator, FormatStrFormatter, PercentFormatter\n",
    "# Plot the distribution of the test predictions\n",
    "plt.figure(figsize=(10,3))\n",
    "plt.hist(sub['Cover_Type'], bins=np.linspace(0.5, 7.5, 8), density=True)\n",
    "plt.xlabel('Test predictions')\n",
    "plt.ylabel('Density')\n",
    "plt.gca().yaxis.set_major_formatter(PercentFormatter())\n",
    "plt.show()"
   ]
  },
  {
   "cell_type": "markdown",
   "id": "30670736",
   "metadata": {
    "papermill": {
     "duration": 0.030079,
     "end_time": "2021-12-02T04:06:04.048358",
     "exception": false,
     "start_time": "2021-12-02T04:06:04.018279",
     "status": "completed"
    },
    "tags": []
   },
   "source": [
    "To submit these predictions to the competition, follow these steps:\n",
    "\n",
    "1. Begin by clicking on the blue **Save Version** button in the top right corner of the window.  This will generate a pop-up window.\n",
    "2. Ensure that the **Save and Run All** option is selected, and then click on the blue **Save** button.\n",
    "3. This generates a window in the bottom left corner of the notebook.  After it has finished running, click on the number to the right of the **Save Version** button.  This pulls up a list of versions on the right of the screen.  Click on the ellipsis **(...)** to the right of the most recent version, and select **Open in Viewer**.  This brings you into view mode of the same page. You will need to scroll down to get back to these instructions.\n",
    "4. Click on the **Output** tab on the right of the screen.  Then, click on the file you would like to submit, and click on the blue **Submit** button to submit your results to the leaderboard.\n",
    "\n",
    "You have now successfully submitted to the competition!\n",
    "\n",
    "# Next Steps #\n",
    "\n",
    "If you want to keep working to improve your performance, select the blue **Edit** button in the top right of the screen. Then you can change your code and repeat the process. There's a lot of room to improve, and you will climb up the leaderboard as you work.\n",
    "\n",
    "Be sure to check out [other users' notebooks](https://www.kaggle.com/c/house-prices-advanced-regression-techniques/notebooks) in this competition. You'll find lots of great ideas for new features and as well as other ways to discover more things about the dataset or make better predictions. There's also the [discussion forum](https://www.kaggle.com/c/house-prices-advanced-regression-techniques/discussion), where you can share ideas with other Kagglers.\n",
    "\n",
    "Have fun Kaggling!"
   ]
  },
  {
   "cell_type": "code",
   "execution_count": null,
   "id": "8f994ca2",
   "metadata": {
    "papermill": {
     "duration": 0.029019,
     "end_time": "2021-12-02T04:06:04.107643",
     "exception": false,
     "start_time": "2021-12-02T04:06:04.078624",
     "status": "completed"
    },
    "tags": []
   },
   "outputs": [],
   "source": []
  }
 ],
 "metadata": {
  "kernelspec": {
   "display_name": "Python 3",
   "language": "python",
   "name": "python3"
  },
  "language_info": {
   "codemirror_mode": {
    "name": "ipython",
    "version": 3
   },
   "file_extension": ".py",
   "mimetype": "text/x-python",
   "name": "python",
   "nbconvert_exporter": "python",
   "pygments_lexer": "ipython3",
   "version": "3.7.10"
  },
  "papermill": {
   "default_parameters": {},
   "duration": 10690.663678,
   "end_time": "2021-12-02T04:06:07.352270",
   "environment_variables": {},
   "exception": null,
   "input_path": "__notebook__.ipynb",
   "output_path": "__notebook__.ipynb",
   "parameters": {},
   "start_time": "2021-12-02T01:07:56.688592",
   "version": "2.3.3"
  }
 },
 "nbformat": 4,
 "nbformat_minor": 5
}
