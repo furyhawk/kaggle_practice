{
 "cells": [
  {
   "cell_type": "markdown",
   "id": "844b788f",
   "metadata": {
    "papermill": {
     "duration": 0.055393,
     "end_time": "2022-02-04T15:20:28.672038",
     "exception": false,
     "start_time": "2022-02-04T15:20:28.616645",
     "status": "completed"
    },
    "tags": []
   },
   "source": [
    "# Welcome and have fun learning multiclass classification\n",
    "\n",
    "#### Metric: **Accuracy**. Softvoting and weighted average is the objective to score towards target class.\n",
    "\n",
    "Objective of this notebook used to be a ~simple~ and robust neural network multiclass classifier for future use.\n",
    "\n",
    "TODO: XGB even in KFOLD will overfit.\n",
    "\n",
    "<blockquote style=\"margin-right:auto; margin-left:auto; padding: 1em; margin:24px;\">\n",
    "    <strong>Fork This Notebook!</strong><br>\n",
    "Create your own editable copy of this notebook by clicking on the <strong>Copy and Edit</strong> button in the top right corner.\n",
    "</blockquote>"
   ]
  },
  {
   "cell_type": "code",
   "execution_count": 1,
   "id": "4418ed98",
   "metadata": {
    "_kg_hide-input": true,
    "_kg_hide-output": true,
    "execution": {
     "iopub.execute_input": "2022-02-04T15:20:28.764425Z",
     "iopub.status.busy": "2022-02-04T15:20:28.763234Z",
     "iopub.status.idle": "2022-02-04T15:21:38.072812Z",
     "shell.execute_reply": "2022-02-04T15:21:38.073514Z",
     "shell.execute_reply.started": "2022-02-04T14:43:38.440674Z"
    },
    "papermill": {
     "duration": 69.35645,
     "end_time": "2022-02-04T15:21:38.073842",
     "exception": false,
     "start_time": "2022-02-04T15:20:28.717392",
     "status": "completed"
    },
    "tags": []
   },
   "outputs": [
    {
     "name": "stdout",
     "output_type": "stream",
     "text": [
      "Requirement already satisfied: scikit-learn in /opt/conda/lib/python3.7/site-packages (0.23.2)\r\n",
      "Collecting scikit-learn\r\n",
      "  Downloading scikit_learn-1.0.2-cp37-cp37m-manylinux_2_17_x86_64.manylinux2014_x86_64.whl (24.8 MB)\r\n",
      "     |████████████████████████████████| 24.8 MB 1.5 MB/s            \r\n",
      "\u001b[?25hRequirement already satisfied: threadpoolctl>=2.0.0 in /opt/conda/lib/python3.7/site-packages (from scikit-learn) (3.0.0)\r\n",
      "Requirement already satisfied: numpy>=1.14.6 in /opt/conda/lib/python3.7/site-packages (from scikit-learn) (1.20.3)\r\n",
      "Requirement already satisfied: joblib>=0.11 in /opt/conda/lib/python3.7/site-packages (from scikit-learn) (1.1.0)\r\n",
      "Requirement already satisfied: scipy>=1.1.0 in /opt/conda/lib/python3.7/site-packages (from scikit-learn) (1.7.3)\r\n",
      "Installing collected packages: scikit-learn\r\n",
      "  Attempting uninstall: scikit-learn\r\n",
      "    Found existing installation: scikit-learn 0.23.2\r\n",
      "    Uninstalling scikit-learn-0.23.2:\r\n",
      "      Successfully uninstalled scikit-learn-0.23.2\r\n",
      "\u001b[31mERROR: pip's dependency resolver does not currently take into account all the packages that are installed. This behaviour is the source of the following dependency conflicts.\r\n",
      "yellowbrick 1.3.post1 requires numpy<1.20,>=1.16.0, but you have numpy 1.20.3 which is incompatible.\r\n",
      "pdpbox 0.2.1 requires matplotlib==3.1.1, but you have matplotlib 3.5.1 which is incompatible.\r\n",
      "hypertools 0.7.0 requires scikit-learn!=0.22,<0.24,>=0.19.1, but you have scikit-learn 1.0.2 which is incompatible.\r\n",
      "featuretools 1.4.0 requires numpy>=1.21.0, but you have numpy 1.20.3 which is incompatible.\u001b[0m\r\n",
      "Successfully installed scikit-learn-1.0.2\r\n",
      "\u001b[33mWARNING: Running pip as the 'root' user can result in broken permissions and conflicting behaviour with the system package manager. It is recommended to use a virtual environment instead: https://pip.pypa.io/warnings/venv\u001b[0m\r\n",
      "Collecting scikit-learn-intelex\r\n",
      "  Downloading scikit_learn_intelex-2021.5.3-py37-none-manylinux1_x86_64.whl (69 kB)\r\n",
      "     |████████████████████████████████| 69 kB 265 kB/s            \r\n",
      "\u001b[?25hRequirement already satisfied: scikit-learn>=0.22 in /opt/conda/lib/python3.7/site-packages (from scikit-learn-intelex) (1.0.2)\r\n",
      "Collecting daal4py==2021.5.3\r\n",
      "  Downloading daal4py-2021.5.3-py37-none-manylinux1_x86_64.whl (22.5 MB)\r\n",
      "     |████████████████████████████████| 22.5 MB 1.5 MB/s            \r\n",
      "\u001b[?25hRequirement already satisfied: numpy>=1.15 in /opt/conda/lib/python3.7/site-packages (from daal4py==2021.5.3->scikit-learn-intelex) (1.20.3)\r\n",
      "Collecting daal==2021.5.3\r\n",
      "  Downloading daal-2021.5.3-py2.py3-none-manylinux1_x86_64.whl (284.3 MB)\r\n",
      "     |████████████████████████████████| 284.3 MB 1.8 kB/s            \r\n",
      "\u001b[?25hCollecting tbb==2021.*\r\n",
      "  Downloading tbb-2021.5.1-py2.py3-none-manylinux1_x86_64.whl (4.0 MB)\r\n",
      "     |████████████████████████████████| 4.0 MB 64.3 MB/s            \r\n",
      "\u001b[?25hRequirement already satisfied: threadpoolctl>=2.0.0 in /opt/conda/lib/python3.7/site-packages (from scikit-learn>=0.22->scikit-learn-intelex) (3.0.0)\r\n",
      "Requirement already satisfied: scipy>=1.1.0 in /opt/conda/lib/python3.7/site-packages (from scikit-learn>=0.22->scikit-learn-intelex) (1.7.3)\r\n",
      "Requirement already satisfied: joblib>=0.11 in /opt/conda/lib/python3.7/site-packages (from scikit-learn>=0.22->scikit-learn-intelex) (1.1.0)\r\n",
      "Installing collected packages: tbb, daal, daal4py, scikit-learn-intelex\r\n",
      "Successfully installed daal-2021.5.3 daal4py-2021.5.3 scikit-learn-intelex-2021.5.3 tbb-2021.5.1\r\n",
      "\u001b[33mWARNING: Running pip as the 'root' user can result in broken permissions and conflicting behaviour with the system package manager. It is recommended to use a virtual environment instead: https://pip.pypa.io/warnings/venv\u001b[0m\r\n"
     ]
    },
    {
     "name": "stderr",
     "output_type": "stream",
     "text": [
      "Intel(R) Extension for Scikit-learn* enabled (https://github.com/intel/scikit-learn-intelex)\n"
     ]
    }
   ],
   "source": [
    "if '__initialized__' not in locals():\n",
    "    !pip install scikit-learn -U\n",
    "    # Intel® Extension for Scikit-learn installation:\n",
    "    !pip install scikit-learn-intelex\n",
    "    from sklearnex import patch_sklearn\n",
    "    patch_sklearn()\n",
    "\n",
    "# Installation Initialized\n",
    "__initialized__ = True"
   ]
  },
  {
   "cell_type": "code",
   "execution_count": 2,
   "id": "b87621f0",
   "metadata": {
    "_cell_guid": "b1076dfc-b9ad-4769-8c92-a6c4dae69d19",
    "_kg_hide-input": true,
    "_uuid": "8f2839f25d086af736a60e9eeb907d3b93b6e0e5",
    "execution": {
     "iopub.execute_input": "2022-02-04T15:21:38.579546Z",
     "iopub.status.busy": "2022-02-04T15:21:38.570695Z",
     "iopub.status.idle": "2022-02-04T15:21:39.462347Z",
     "shell.execute_reply": "2022-02-04T15:21:39.461311Z",
     "shell.execute_reply.started": "2022-02-04T14:44:27.647561Z"
    },
    "papermill": {
     "duration": 1.141598,
     "end_time": "2022-02-04T15:21:39.462550",
     "exception": false,
     "start_time": "2022-02-04T15:21:38.320952",
     "status": "completed"
    },
    "tags": []
   },
   "outputs": [],
   "source": [
    "# This Python 3 environment comes with many helpful analytics libraries installed\n",
    "# It is defined by the kaggle/python Docker image: https://github.com/kaggle/docker-python\n",
    "from scipy import stats\n",
    "import numpy as np # linear algebra\n",
    "import pandas as pd # data processing, CSV file I/O (e.g. pd.read_csv)\n",
    "import dask.dataframe as dd\n",
    "import matplotlib.pyplot as plt\n",
    "from matplotlib.ticker import MaxNLocator, FormatStrFormatter, PercentFormatter\n",
    "import seaborn as sns\n",
    "\n",
    "from imblearn.over_sampling import RandomOverSampler\n",
    "from imblearn.under_sampling import RandomUnderSampler, TomekLinks\n",
    "\n",
    "from sklearn.impute import SimpleImputer\n",
    "from sklearn.preprocessing import StandardScaler, MinMaxScaler, LabelEncoder, RobustScaler, PowerTransformer, OneHotEncoder\n",
    "le = LabelEncoder()\n",
    "from sklearn.pipeline import Pipeline, make_pipeline\n",
    "from sklearn.compose import make_column_transformer\n",
    "from sklearn.metrics import accuracy_score, log_loss, confusion_matrix, roc_curve, precision_recall_curve\n",
    "from sklearn.model_selection import KFold, StratifiedKFold, train_test_split\n",
    "from sklearn.decomposition import PCA\n",
    "\n",
    "from datetime import datetime\n",
    "from packaging import version\n",
    "\n",
    "# Set Matplotlib defaults\n",
    "plt.style.use(\"seaborn-whitegrid\")\n",
    "plt.rc(\"figure\", autolayout=True)\n",
    "plt.rc(\n",
    "    \"axes\",\n",
    "    labelweight=\"bold\",\n",
    "    labelsize=\"large\",\n",
    "    titleweight=\"bold\",\n",
    "    titlesize=14,\n",
    "    titlepad=10,\n",
    ")\n",
    "# Input data files are available in the read-only \"../input/\" directory\n",
    "# For example, running this (by clicking run or pressing Shift+Enter) will list all files under the input directory\n",
    "import gc\n",
    "import os\n",
    "import math\n",
    "\n",
    "# You can write up to 20GB to the current directory (/kaggle/working/) that gets preserved as output when you create a version using \"Save & Run All\" \n",
    "# You can also write temporary files to /kaggle/temp/, but they won't be saved outside of the current session"
   ]
  },
  {
   "cell_type": "markdown",
   "id": "87f6a088",
   "metadata": {
    "papermill": {
     "duration": 0.311523,
     "end_time": "2022-02-04T15:21:40.088457",
     "exception": false,
     "start_time": "2022-02-04T15:21:39.776934",
     "status": "completed"
    },
    "tags": []
   },
   "source": [
    "## Fine tuning\n",
    "Fine tune the system using the hyperparameters and configs below:\n",
    "* FOLD - 5, 10, 15, 20.\n",
    "* SAMPLE - Set it to True for full sample run. Max sample per class.\n",
    "* BEST_OR_FOLD - True: use Best model, False: use KFOLD softvote\n",
    "* TPU - Only works on save version.\n",
    "* selu love lecun_normal"
   ]
  },
  {
   "cell_type": "code",
   "execution_count": 3,
   "id": "4ece0292",
   "metadata": {
    "_kg_hide-input": true,
    "execution": {
     "iopub.execute_input": "2022-02-04T15:21:40.613536Z",
     "iopub.status.busy": "2022-02-04T15:21:40.612784Z",
     "iopub.status.idle": "2022-02-04T15:21:40.618411Z",
     "shell.execute_reply": "2022-02-04T15:21:40.618911Z",
     "shell.execute_reply.started": "2022-02-04T14:44:28.438887Z"
    },
    "papermill": {
     "duration": 0.252243,
     "end_time": "2022-02-04T15:21:40.619097",
     "exception": false,
     "start_time": "2022-02-04T15:21:40.366854",
     "status": "completed"
    },
    "tags": []
   },
   "outputs": [],
   "source": [
    "# -----------------------------------------------------------------\n",
    "# Some parameters to config \n",
    "PRODUCTION = True # True: For submission run. False: Fast trial run\n",
    "\n",
    "# Hyperparameters\n",
    "FOLDS = 10 if PRODUCTION else 5   # Only 5 or 10.\n",
    "N_ESTIMATORS = 300 if PRODUCTION else 100\n",
    "\n",
    "# The dataset is too huge for trial. Sampling it for speed run!\n",
    "SAMPLE = 20139 if PRODUCTION else 10000   # True for FULL run. Max Sample size per category. For quick test: y counts [20139, 20063, 19947, 19958, 19937, 19847, 20030, 19929, 20074, 20076]  # 200000 total rows\n",
    "VALIDATION_SPLIT = 0.25 # Only used to min dataset for quick test\n",
    "\n",
    "RANDOM_STATE = 42\n",
    "VERBOSE = 0\n",
    "\n",
    "# Admin\n",
    "ID = \"row_id\"            # Id id x X index\n",
    "INPUT = \"../input/tabular-playground-series-feb-2022\"\n",
    "TPU = False           # True: use TPU.\n",
    "GPU = False           # True: use GPU.\n",
    "BEST_OR_FOLD = False # True: use Best model, False: use KFOLD softvote\n",
    "FEATURE_ENGINEERING = True\n",
    "PSEUDO_LABEL = False\n",
    "BLEND = False\n"
   ]
  },
  {
   "cell_type": "markdown",
   "id": "5b8a175d",
   "metadata": {
    "papermill": {
     "duration": 0.244882,
     "end_time": "2022-02-04T15:21:41.107343",
     "exception": false,
     "start_time": "2022-02-04T15:21:40.862461",
     "status": "completed"
    },
    "tags": []
   },
   "source": [
    "## Reduce Memory usage"
   ]
  },
  {
   "cell_type": "code",
   "execution_count": 4,
   "id": "925ad5b6",
   "metadata": {
    "execution": {
     "iopub.execute_input": "2022-02-04T15:21:41.621172Z",
     "iopub.status.busy": "2022-02-04T15:21:41.609576Z",
     "iopub.status.idle": "2022-02-04T15:21:41.623188Z",
     "shell.execute_reply": "2022-02-04T15:21:41.623689Z",
     "shell.execute_reply.started": "2022-02-04T14:44:28.454729Z"
    },
    "papermill": {
     "duration": 0.269482,
     "end_time": "2022-02-04T15:21:41.623898",
     "exception": false,
     "start_time": "2022-02-04T15:21:41.354416",
     "status": "completed"
    },
    "tags": []
   },
   "outputs": [],
   "source": [
    "def reduce_mem_usage(df, verbose=True):\n",
    "    numerics = ['int16', 'int32', 'int64', 'float16', 'float32', 'float64']\n",
    "    start_mem = df.memory_usage().sum() / 1024**2\n",
    "\n",
    "    for col in df.columns:\n",
    "        col_type = df[col].dtypes\n",
    "\n",
    "        if col_type in numerics:\n",
    "            c_min = df[col].min()\n",
    "            c_max = df[col].max()\n",
    "\n",
    "            if str(col_type)[:3] == 'int':\n",
    "                if c_min > np.iinfo(np.int8).min and c_max < np.iinfo(np.int8).max:\n",
    "                    df[col] = df[col].astype(np.int8)\n",
    "                elif c_min > np.iinfo(np.int16).min and c_max < np.iinfo(np.int16).max:\n",
    "                    df[col] = df[col].astype(np.int16)\n",
    "                elif c_min > np.iinfo(np.int32).min and c_max < np.iinfo(np.int32).max:\n",
    "                    df[col] = df[col].astype(np.int32)\n",
    "                elif c_min > np.iinfo(np.int64).min and c_max < np.iinfo(np.int64).max:\n",
    "                    df[col] = df[col].astype(np.int64)  \n",
    "            else:\n",
    "                if c_min > np.finfo(np.float32).min and c_max < np.finfo(np.float32).max:\n",
    "                    df[col] = df[col].astype(np.float32)\n",
    "                else:\n",
    "                    df[col] = df[col].astype(np.float64)\n",
    "\n",
    "    end_mem = df.memory_usage().sum() / 1024**2\n",
    "\n",
    "    if verbose:\n",
    "        print('Mem. usage decreased to {:5.2f} Mb ({:.1f}% reduction)'.format(end_mem, 100 * (start_mem - end_mem) / start_mem))\n",
    " \n",
    "    return df"
   ]
  },
  {
   "cell_type": "code",
   "execution_count": 5,
   "id": "c4637315",
   "metadata": {
    "_kg_hide-input": true,
    "execution": {
     "iopub.execute_input": "2022-02-04T15:21:42.655376Z",
     "iopub.status.busy": "2022-02-04T15:21:42.654284Z",
     "iopub.status.idle": "2022-02-04T15:21:42.656415Z",
     "shell.execute_reply": "2022-02-04T15:21:42.656953Z",
     "shell.execute_reply.started": "2022-02-04T14:44:28.600334Z"
    },
    "papermill": {
     "duration": 0.777174,
     "end_time": "2022-02-04T15:21:42.657135",
     "exception": false,
     "start_time": "2022-02-04T15:21:41.879961",
     "status": "completed"
    },
    "tags": []
   },
   "outputs": [],
   "source": [
    "from pathlib import Path\n",
    "\n",
    "\n",
    "def load_data():\n",
    "    # Read data\n",
    "    data_dir = Path(INPUT)\n",
    "    df_train = pd.read_csv(data_dir / \"train.csv\", index_col=ID).pipe(reduce_mem_usage)\n",
    "    df_test = pd.read_csv(data_dir / \"test.csv\", index_col=ID).pipe(reduce_mem_usage)\n",
    "    column_y = df_train.columns.difference(\n",
    "        df_test.columns)[0]  # column_y target_col label_col\n",
    "    return df_train, df_test, column_y"
   ]
  },
  {
   "cell_type": "markdown",
   "id": "aca6ef7d",
   "metadata": {
    "papermill": {
     "duration": 0.265104,
     "end_time": "2022-02-04T15:21:43.221625",
     "exception": false,
     "start_time": "2022-02-04T15:21:42.956521",
     "status": "completed"
    },
    "tags": []
   },
   "source": [
    "## Data Preprocessing ##\n",
    "\n",
    "Before we can do any feature engineering, we need to *preprocess* the data to get it in a form suitable for analysis. We'll need to:\n",
    "- **Load** the data from CSV files\n",
    "- **Clean** the data to fix any errors or inconsistencies\n",
    "- **Encode** the statistical data type (numeric, categorical)\n",
    "- **Impute** any missing values\n",
    "\n",
    "We'll wrap all these steps up in a function, which will make easy for you to get a fresh dataframe whenever you need. After reading the CSV file, we'll apply three preprocessing steps, `clean`, `encode`, and `impute`, and then create the data splits: one (`df_train`) for training the model, and one (`df_test`) for making the predictions that you'll submit to the competition for scoring on the leaderboard."
   ]
  },
  {
   "cell_type": "code",
   "execution_count": 6,
   "id": "e1a4a628",
   "metadata": {
    "execution": {
     "iopub.execute_input": "2022-02-04T15:21:43.710575Z",
     "iopub.status.busy": "2022-02-04T15:21:43.709834Z",
     "iopub.status.idle": "2022-02-04T15:22:53.239375Z",
     "shell.execute_reply": "2022-02-04T15:22:53.238785Z",
     "shell.execute_reply.started": "2022-02-04T14:44:28.685460Z"
    },
    "papermill": {
     "duration": 69.776664,
     "end_time": "2022-02-04T15:22:53.239520",
     "exception": false,
     "start_time": "2022-02-04T15:21:43.462856",
     "status": "completed"
    },
    "tags": []
   },
   "outputs": [
    {
     "name": "stdout",
     "output_type": "stream",
     "text": [
      "Mem. usage decreased to 221.25 Mb (49.7% reduction)\n",
      "Mem. usage decreased to 109.86 Mb (49.8% reduction)\n",
      "CPU times: user 37.4 s, sys: 19.1 s, total: 56.5 s\n",
      "Wall time: 1min 9s\n"
     ]
    }
   ],
   "source": [
    "%%time\n",
    "train_data, test_data, column_y = load_data()"
   ]
  },
  {
   "cell_type": "code",
   "execution_count": 7,
   "id": "5ebebde1",
   "metadata": {
    "execution": {
     "iopub.execute_input": "2022-02-04T15:22:53.723309Z",
     "iopub.status.busy": "2022-02-04T15:22:53.722409Z",
     "iopub.status.idle": "2022-02-04T15:22:54.031280Z",
     "shell.execute_reply": "2022-02-04T15:22:54.032226Z",
     "shell.execute_reply.started": "2022-02-04T14:45:44.814742Z"
    },
    "papermill": {
     "duration": 0.552528,
     "end_time": "2022-02-04T15:22:54.032410",
     "exception": false,
     "start_time": "2022-02-04T15:22:53.479882",
     "status": "completed"
    },
    "tags": []
   },
   "outputs": [
    {
     "data": {
      "text/plain": [
       "(array(['Bacteroides_fragilis', 'Campylobacter_jejuni',\n",
       "        'Enterococcus_hirae', 'Escherichia_coli', 'Escherichia_fergusonii',\n",
       "        'Klebsiella_pneumoniae', 'Salmonella_enterica',\n",
       "        'Staphylococcus_aureus', 'Streptococcus_pneumoniae',\n",
       "        'Streptococcus_pyogenes'], dtype=object),\n",
       " array([20139, 20063, 19947, 19958, 19937, 19847, 20030, 19929, 20074,\n",
       "        20076]))"
      ]
     },
     "execution_count": 7,
     "metadata": {},
     "output_type": "execute_result"
    }
   ],
   "source": [
    "np.unique(train_data[column_y], return_counts=True)"
   ]
  },
  {
   "cell_type": "markdown",
   "id": "eb8931b9",
   "metadata": {
    "papermill": {
     "duration": 0.241716,
     "end_time": "2022-02-04T15:22:54.517241",
     "exception": false,
     "start_time": "2022-02-04T15:22:54.275525",
     "status": "completed"
    },
    "tags": []
   },
   "source": [
    "## Duplicate rows check\n",
    "https://www.kaggle.com/sfktrkl/tps-feb-2022/notebook"
   ]
  },
  {
   "cell_type": "code",
   "execution_count": 8,
   "id": "91dff0e2",
   "metadata": {
    "execution": {
     "iopub.execute_input": "2022-02-04T15:22:55.012900Z",
     "iopub.status.busy": "2022-02-04T15:22:55.008070Z",
     "iopub.status.idle": "2022-02-04T15:22:56.849908Z",
     "shell.execute_reply": "2022-02-04T15:22:56.849344Z",
     "shell.execute_reply.started": "2022-02-04T14:45:45.133454Z"
    },
    "papermill": {
     "duration": 2.088783,
     "end_time": "2022-02-04T15:22:56.850067",
     "exception": false,
     "start_time": "2022-02-04T15:22:54.761284",
     "status": "completed"
    },
    "tags": []
   },
   "outputs": [
    {
     "name": "stdout",
     "output_type": "stream",
     "text": [
      "Duplicates in train data: 76007\n"
     ]
    }
   ],
   "source": [
    "duplicates_train = train_data.duplicated().sum()\n",
    "print('Duplicates in train data: {0}'.format(duplicates_train))"
   ]
  },
  {
   "cell_type": "markdown",
   "id": "7384e77e",
   "metadata": {
    "papermill": {
     "duration": 0.248666,
     "end_time": "2022-02-04T15:22:57.343232",
     "exception": false,
     "start_time": "2022-02-04T15:22:57.094566",
     "status": "completed"
    },
    "tags": []
   },
   "source": [
    "## Dropping duplicated rows\n",
    "Dropping duplicated rows actually improve LB scores. Look like kernel is overfitting around duplicated rows."
   ]
  },
  {
   "cell_type": "code",
   "execution_count": 9,
   "id": "e8011da0",
   "metadata": {
    "execution": {
     "iopub.execute_input": "2022-02-04T15:22:57.837074Z",
     "iopub.status.busy": "2022-02-04T15:22:57.836435Z",
     "iopub.status.idle": "2022-02-04T15:23:01.134600Z",
     "shell.execute_reply": "2022-02-04T15:23:01.135128Z",
     "shell.execute_reply.started": "2022-02-04T14:45:46.947330Z"
    },
    "papermill": {
     "duration": 3.548455,
     "end_time": "2022-02-04T15:23:01.135297",
     "exception": false,
     "start_time": "2022-02-04T15:22:57.586842",
     "status": "completed"
    },
    "tags": []
   },
   "outputs": [
    {
     "name": "stdout",
     "output_type": "stream",
     "text": [
      "Train data shape: (123993, 287)\n",
      "Duplicates in train data: 0\n"
     ]
    }
   ],
   "source": [
    "train_data.drop_duplicates(keep='first', inplace=True)\n",
    "duplicates_train = train_data.duplicated().sum()\n",
    "\n",
    "print('Train data shape:', train_data.shape)\n",
    "print('Duplicates in train data: {0}'.format(duplicates_train))"
   ]
  },
  {
   "cell_type": "code",
   "execution_count": 10,
   "id": "7763911f",
   "metadata": {
    "execution": {
     "iopub.execute_input": "2022-02-04T15:23:01.622990Z",
     "iopub.status.busy": "2022-02-04T15:23:01.621763Z",
     "iopub.status.idle": "2022-02-04T15:23:01.704517Z",
     "shell.execute_reply": "2022-02-04T15:23:01.705011Z",
     "shell.execute_reply.started": "2022-02-04T14:45:50.091097Z"
    },
    "papermill": {
     "duration": 0.328277,
     "end_time": "2022-02-04T15:23:01.705196",
     "exception": false,
     "start_time": "2022-02-04T15:23:01.376919",
     "status": "completed"
    },
    "tags": []
   },
   "outputs": [
    {
     "name": "stdout",
     "output_type": "stream",
     "text": [
      "Series([], dtype: int64)\n"
     ]
    }
   ],
   "source": [
    "# Check NA\n",
    "missing_val = train_data.isnull().sum()\n",
    "print(missing_val[missing_val > 0])"
   ]
  },
  {
   "cell_type": "code",
   "execution_count": 11,
   "id": "a9619312",
   "metadata": {
    "execution": {
     "iopub.execute_input": "2022-02-04T15:23:02.199864Z",
     "iopub.status.busy": "2022-02-04T15:23:02.198775Z",
     "iopub.status.idle": "2022-02-04T15:23:02.489186Z",
     "shell.execute_reply": "2022-02-04T15:23:02.488635Z",
     "shell.execute_reply.started": "2022-02-04T14:45:50.174848Z"
    },
    "papermill": {
     "duration": 0.540074,
     "end_time": "2022-02-04T15:23:02.489337",
     "exception": false,
     "start_time": "2022-02-04T15:23:01.949263",
     "status": "completed"
    },
    "tags": []
   },
   "outputs": [
    {
     "data": {
      "text/plain": [
       "0"
      ]
     },
     "execution_count": 11,
     "metadata": {},
     "output_type": "execute_result"
    }
   ],
   "source": [
    "X = train_data.drop(columns=column_y)\n",
    "y = train_data[[column_y]]\n",
    "\n",
    "X_submission = test_data.loc[:,X.columns]\n",
    "\n",
    "gc.collect()"
   ]
  },
  {
   "cell_type": "markdown",
   "id": "0057188e",
   "metadata": {
    "papermill": {
     "duration": 0.241174,
     "end_time": "2022-02-04T15:23:02.973470",
     "exception": false,
     "start_time": "2022-02-04T15:23:02.732296",
     "status": "completed"
    },
    "tags": []
   },
   "source": [
    "# Undersampling\n",
    "For experiment measurements"
   ]
  },
  {
   "cell_type": "code",
   "execution_count": 12,
   "id": "6aa80971",
   "metadata": {
    "execution": {
     "iopub.execute_input": "2022-02-04T15:23:03.463602Z",
     "iopub.status.busy": "2022-02-04T15:23:03.462614Z",
     "iopub.status.idle": "2022-02-04T15:23:05.287345Z",
     "shell.execute_reply": "2022-02-04T15:23:05.286358Z",
     "shell.execute_reply.started": "2022-02-04T14:45:50.461375Z"
    },
    "papermill": {
     "duration": 2.069704,
     "end_time": "2022-02-04T15:23:05.287501",
     "exception": false,
     "start_time": "2022-02-04T15:23:03.217797",
     "status": "completed"
    },
    "tags": []
   },
   "outputs": [],
   "source": [
    "def sampling_size_params(labels, sampling_max_size = SAMPLE):\n",
    "    ''' Return sampling parameters {labels: sample_size}'''\n",
    "    sampling_key, sampling_count = np.unique(labels, return_counts=True)\n",
    "    sampling_count[sampling_count > sampling_max_size] = sampling_max_size\n",
    "    zip_iterator = zip(sampling_key, sampling_count)\n",
    "    return dict(zip_iterator)\n",
    "\n",
    "# not minority\n",
    "sampling_params = sampling_size_params(y, SAMPLE)\n",
    "undersample = RandomUnderSampler(\n",
    "    sampling_strategy=sampling_params, random_state=RANDOM_STATE)\n",
    "\n",
    "X, y = undersample.fit_resample(X, y)"
   ]
  },
  {
   "cell_type": "code",
   "execution_count": 13,
   "id": "34a7bda0",
   "metadata": {
    "execution": {
     "iopub.execute_input": "2022-02-04T15:23:05.775539Z",
     "iopub.status.busy": "2022-02-04T15:23:05.774560Z",
     "iopub.status.idle": "2022-02-04T15:23:05.817370Z",
     "shell.execute_reply": "2022-02-04T15:23:05.817853Z",
     "shell.execute_reply.started": "2022-02-04T14:45:52.168200Z"
    },
    "papermill": {
     "duration": 0.288513,
     "end_time": "2022-02-04T15:23:05.818070",
     "exception": false,
     "start_time": "2022-02-04T15:23:05.529557",
     "status": "completed"
    },
    "tags": []
   },
   "outputs": [],
   "source": [
    "# Prepare for multiclass classification tf.keras.utils.to_categorical(le.fit_transform(y[column_y])) categorical_crossentropy\n",
    "y_cat = le.fit_transform(y[column_y]) # y to categorical\n",
    "# train_data[column_y] = y_cat"
   ]
  },
  {
   "cell_type": "code",
   "execution_count": 14,
   "id": "7661e144",
   "metadata": {
    "execution": {
     "iopub.execute_input": "2022-02-04T15:23:06.310863Z",
     "iopub.status.busy": "2022-02-04T15:23:06.310169Z",
     "iopub.status.idle": "2022-02-04T15:23:06.311452Z",
     "shell.execute_reply": "2022-02-04T15:23:06.312021Z",
     "shell.execute_reply.started": "2022-02-04T14:45:52.206036Z"
    },
    "papermill": {
     "duration": 0.24971,
     "end_time": "2022-02-04T15:23:06.312202",
     "exception": false,
     "start_time": "2022-02-04T15:23:06.062492",
     "status": "completed"
    },
    "tags": []
   },
   "outputs": [],
   "source": [
    "transform_cols = X.columns # Numeric features"
   ]
  },
  {
   "cell_type": "code",
   "execution_count": 15,
   "id": "89b68a73",
   "metadata": {
    "execution": {
     "iopub.execute_input": "2022-02-04T15:23:06.809297Z",
     "iopub.status.busy": "2022-02-04T15:23:06.808659Z",
     "iopub.status.idle": "2022-02-04T15:23:06.987278Z",
     "shell.execute_reply": "2022-02-04T15:23:06.987821Z",
     "shell.execute_reply.started": "2022-02-04T14:45:52.210484Z"
    },
    "papermill": {
     "duration": 0.432738,
     "end_time": "2022-02-04T15:23:06.987989",
     "exception": false,
     "start_time": "2022-02-04T15:23:06.555251",
     "status": "completed"
    },
    "tags": []
   },
   "outputs": [
    {
     "data": {
      "text/plain": [
       "(array(['Bacteroides_fragilis', 'Campylobacter_jejuni',\n",
       "        'Enterococcus_hirae', 'Escherichia_coli', 'Escherichia_fergusonii',\n",
       "        'Klebsiella_pneumoniae', 'Salmonella_enterica',\n",
       "        'Staphylococcus_aureus', 'Streptococcus_pneumoniae',\n",
       "        'Streptococcus_pyogenes'], dtype=object),\n",
       " array([12522, 12469, 12373, 12297, 12285, 12420, 12390, 12415, 12416,\n",
       "        12406]))"
      ]
     },
     "execution_count": 15,
     "metadata": {},
     "output_type": "execute_result"
    }
   ],
   "source": [
    "np.unique(y, return_counts=True)"
   ]
  },
  {
   "cell_type": "code",
   "execution_count": 16,
   "id": "bcd89f5f",
   "metadata": {
    "execution": {
     "iopub.execute_input": "2022-02-04T15:23:07.480042Z",
     "iopub.status.busy": "2022-02-04T15:23:07.479391Z",
     "iopub.status.idle": "2022-02-04T15:23:07.485927Z",
     "shell.execute_reply": "2022-02-04T15:23:07.486494Z",
     "shell.execute_reply.started": "2022-02-04T14:45:52.368916Z"
    },
    "papermill": {
     "duration": 0.255696,
     "end_time": "2022-02-04T15:23:07.486673",
     "exception": false,
     "start_time": "2022-02-04T15:23:07.230977",
     "status": "completed"
    },
    "tags": []
   },
   "outputs": [
    {
     "name": "stdout",
     "output_type": "stream",
     "text": [
      "286\n",
      "10\n"
     ]
    }
   ],
   "source": [
    "CSV_HEADER = list(train_data.columns[:])\n",
    "\n",
    "TARGET_FEATURE_NAME = column_y\n",
    "\n",
    "TARGET_FEATURE_LABELS = np.unique(y_cat)\n",
    "\n",
    "NUMERIC_FEATURE_NAMES = list(X.columns[:])\n",
    "\n",
    "CATEGORICAL_FEATURES_WITH_VOCABULARY = {}\n",
    "\n",
    "CATEGORICAL_FEATURE_NAMES = list(CATEGORICAL_FEATURES_WITH_VOCABULARY.keys())\n",
    "\n",
    "FEATURE_NAMES = NUMERIC_FEATURE_NAMES + CATEGORICAL_FEATURE_NAMES\n",
    "\n",
    "COLUMN_DEFAULTS = [\n",
    "    [0] if feature_name in NUMERIC_FEATURE_NAMES + [TARGET_FEATURE_NAME] else [\"NA\"]\n",
    "    for feature_name in CSV_HEADER\n",
    "]\n",
    "\n",
    "NUM_CLASSES = len(TARGET_FEATURE_LABELS)\n",
    "\n",
    "INPUT_SHAPE = X.shape[-1]\n",
    "OUTPUT_SHAPE = le.classes_.shape[-1]\n",
    "print(INPUT_SHAPE)\n",
    "print(OUTPUT_SHAPE)"
   ]
  },
  {
   "cell_type": "code",
   "execution_count": 17,
   "id": "c56d7a5b",
   "metadata": {
    "execution": {
     "iopub.execute_input": "2022-02-04T15:23:08.105996Z",
     "iopub.status.busy": "2022-02-04T15:23:08.105210Z",
     "iopub.status.idle": "2022-02-04T15:23:08.108967Z",
     "shell.execute_reply": "2022-02-04T15:23:08.108446Z",
     "shell.execute_reply.started": "2022-02-04T14:45:52.383955Z"
    },
    "papermill": {
     "duration": 0.374484,
     "end_time": "2022-02-04T15:23:08.109151",
     "exception": false,
     "start_time": "2022-02-04T15:23:07.734667",
     "status": "completed"
    },
    "tags": []
   },
   "outputs": [
    {
     "data": {
      "text/plain": [
       "105"
      ]
     },
     "execution_count": 17,
     "metadata": {},
     "output_type": "execute_result"
    }
   ],
   "source": [
    "del train_data\n",
    "gc.collect()"
   ]
  },
  {
   "cell_type": "markdown",
   "id": "0c584eba",
   "metadata": {
    "papermill": {
     "duration": 0.243117,
     "end_time": "2022-02-04T15:23:08.595846",
     "exception": false,
     "start_time": "2022-02-04T15:23:08.352729",
     "status": "completed"
    },
    "tags": []
   },
   "source": [
    "# Train Model and Create Submissions #\n",
    "\n",
    "Once you're satisfied with everything, it's time to create your final predictions! This cell will:\n",
    "- use the best trained model to make predictions from the test set\n",
    "- save the predictions to a CSV file\n",
    "\n",
    "$Softmax: \\sigma(z_i) = \\frac{e^{z_{i}}}{\\sum_{j=1}^K e^{z_{j}}} \\ \\ \\ for\\ i=1,2,\\dots,K$\n",
    "\n",
    "K - number of classes\n",
    "\n",
    "$z_i$ - is a vector containing the scores of each class for the instance z.\n",
    "\n",
    "$\\sigma(z_i)$ - is the estimated probability that the instance z belongs to class K, given the scores of each class for that instance.\n",
    "\n",
    "$Relu(z) = max(0, z)$\n",
    "\n",
    "Binary Cross Entropy: $-{(y\\log(p) + (1 - y)\\log(1 - p))}$\n",
    "\n",
    "For multiclass classification, we calculate a separate loss for each class label per observation and sum the result.\n",
    "\n",
    "$-\\sum_{c=1}^My_{o,c}\\log(p_{o,c})$\n",
    "\n",
    "\n",
    "    M - number of classes\n",
    "\n",
    "    log - the natural log\n",
    "\n",
    "    y - binary indicator (0 or 1) if class label c is the correct classification for observation o\n",
    "\n",
    "    p - predicted probability observation o is of class c\n",
    "\n"
   ]
  },
  {
   "cell_type": "code",
   "execution_count": 18,
   "id": "8695f24f",
   "metadata": {
    "execution": {
     "iopub.execute_input": "2022-02-04T15:23:09.088975Z",
     "iopub.status.busy": "2022-02-04T15:23:09.088003Z",
     "iopub.status.idle": "2022-02-04T15:23:09.630480Z",
     "shell.execute_reply": "2022-02-04T15:23:09.629878Z",
     "shell.execute_reply.started": "2022-02-04T14:45:52.514996Z"
    },
    "papermill": {
     "duration": 0.79173,
     "end_time": "2022-02-04T15:23:09.630636",
     "exception": false,
     "start_time": "2022-02-04T15:23:08.838906",
     "status": "completed"
    },
    "tags": []
   },
   "outputs": [
    {
     "data": {
      "text/html": [
       "<style type='text/css'>\n",
       ".datatable table.frame { margin-bottom: 0; }\n",
       ".datatable table.frame thead { border-bottom: none; }\n",
       ".datatable table.frame tr.coltypes td {  color: #FFFFFF;  line-height: 6px;  padding: 0 0.5em;}\n",
       ".datatable .bool    { background: #DDDD99; }\n",
       ".datatable .object  { background: #565656; }\n",
       ".datatable .int     { background: #5D9E5D; }\n",
       ".datatable .float   { background: #4040CC; }\n",
       ".datatable .str     { background: #CC4040; }\n",
       ".datatable .time    { background: #40CC40; }\n",
       ".datatable .row_index {  background: var(--jp-border-color3);  border-right: 1px solid var(--jp-border-color0);  color: var(--jp-ui-font-color3);  font-size: 9px;}\n",
       ".datatable .frame tbody td { text-align: left; }\n",
       ".datatable .frame tr.coltypes .row_index {  background: var(--jp-border-color0);}\n",
       ".datatable th:nth-child(2) { padding-left: 12px; }\n",
       ".datatable .hellipsis {  color: var(--jp-cell-editor-border-color);}\n",
       ".datatable .vellipsis {  background: var(--jp-layout-color0);  color: var(--jp-cell-editor-border-color);}\n",
       ".datatable .na {  color: var(--jp-cell-editor-border-color);  font-size: 80%;}\n",
       ".datatable .sp {  opacity: 0.25;}\n",
       ".datatable .footer { font-size: 9px; }\n",
       ".datatable .frame_dimensions {  background: var(--jp-border-color3);  border-top: 1px solid var(--jp-border-color0);  color: var(--jp-ui-font-color3);  display: inline-block;  opacity: 0.6;  padding: 1px 10px 1px 5px;}\n",
       "</style>\n"
      ],
      "text/plain": [
       "<IPython.core.display.HTML object>"
      ]
     },
     "metadata": {},
     "output_type": "display_data"
    }
   ],
   "source": [
    "from sklearn.compose import make_column_selector, ColumnTransformer, TransformedTargetRegressor\n",
    "\n",
    "from sklearn.linear_model import LogisticRegression, LogisticRegressionCV\n",
    "from sklearn.naive_bayes import GaussianNB\n",
    "from sklearn.ensemble import ExtraTreesClassifier, RandomForestClassifier, VotingClassifier, StackingClassifier\n",
    "from sklearn.model_selection import GridSearchCV\n",
    "\n",
    "from catboost import CatBoostClassifier\n",
    "from xgboost import XGBClassifier\n",
    "import lightgbm as lgb"
   ]
  },
  {
   "cell_type": "markdown",
   "id": "0122de39",
   "metadata": {
    "papermill": {
     "duration": 0.244668,
     "end_time": "2022-02-04T15:23:10.123154",
     "exception": false,
     "start_time": "2022-02-04T15:23:09.878486",
     "status": "completed"
    },
    "tags": []
   },
   "source": [
    "## Create Models"
   ]
  },
  {
   "cell_type": "code",
   "execution_count": 19,
   "id": "373da2d5",
   "metadata": {
    "execution": {
     "iopub.execute_input": "2022-02-04T15:23:10.624868Z",
     "iopub.status.busy": "2022-02-04T15:23:10.624155Z",
     "iopub.status.idle": "2022-02-04T15:23:10.626588Z",
     "shell.execute_reply": "2022-02-04T15:23:10.626102Z",
     "shell.execute_reply.started": "2022-02-04T14:45:53.051047Z"
    },
    "papermill": {
     "duration": 0.260416,
     "end_time": "2022-02-04T15:23:10.626734",
     "exception": false,
     "start_time": "2022-02-04T15:23:10.366318",
     "status": "completed"
    },
    "tags": []
   },
   "outputs": [],
   "source": [
    "def build_estimator_stack(estimator_stack=[], seed=RANDOM_STATE):\n",
    "    if GPU:\n",
    "        param_xgb = {\n",
    "                    'objective' : 'multi:softprob',\n",
    "                    'eval_metric' : 'mlogloss',\n",
    "                    'tree_method' : 'gpu_hist',\n",
    "                    'use_label_encoder': False,\n",
    "                    'n_estimators': N_ESTIMATORS,\n",
    "                    'random_state': seed\n",
    "                 }\n",
    "        param_cat = {\n",
    "                    'loss_function' : 'MultiClass', # MultiClassOneVsAll\n",
    "                    'eval_metric': 'MultiClass',\n",
    "                    'task_type' : 'GPU',            \n",
    "                    'n_estimators': N_ESTIMATORS,\n",
    "                    'random_state': seed,\n",
    "                    'verbose': VERBOSE\n",
    "                 }\n",
    "        param_lgb = {\n",
    "                    'objective' : 'multiclass',\n",
    "                    'n_estimators': N_ESTIMATORS,\n",
    "                    'device' : 'gpu',\n",
    "                    'random_state': seed\n",
    "                 }\n",
    "    else: #CPU\n",
    "        param_xgb = {\n",
    "                    'objective' : 'multi:softprob',\n",
    "                    'eval_metric' : 'mlogloss',\n",
    "                    'tree_method' : 'hist',\n",
    "                    'use_label_encoder': False,\n",
    "                    'n_estimators': N_ESTIMATORS,\n",
    "                    'random_state': seed\n",
    "                 }\n",
    "        param_cat = {\n",
    "                    'loss_function' : 'MultiClass',\n",
    "                    'eval_metric': 'MultiClass',\n",
    "                    'n_estimators': N_ESTIMATORS,\n",
    "                    'random_state': seed,\n",
    "                    'verbose': VERBOSE\n",
    "                 }\n",
    "        param_lgb = {\n",
    "                    'objective' : 'multiclass',\n",
    "                    'n_estimators': N_ESTIMATORS,\n",
    "                    'random_state': seed\n",
    "                 }\n",
    "        \n",
    "    if PRODUCTION:\n",
    "        models = [\n",
    "                    ExtraTreesClassifier(\n",
    "                        n_estimators=N_ESTIMATORS,\n",
    "                        random_state=seed,\n",
    "                        verbose=VERBOSE\n",
    "                    ),\n",
    "                   ]\n",
    "    else: # test run\n",
    "        models = [\n",
    "                    ExtraTreesClassifier(\n",
    "                        n_estimators=N_ESTIMATORS,\n",
    "                        random_state=seed,\n",
    "                        verbose=VERBOSE\n",
    "                    ),\n",
    "#                     XGBClassifier(**param_xgb),\n",
    "#                     lgb.LGBMClassifier(**param_lgb),\n",
    "#                     CatBoostClassifier(**param_cat),\n",
    "                   ]\n",
    "    for model in models:\n",
    "        model_name = type(model).__name__\n",
    "        print(f'******************Stacking {model_name:>20}*************************')\n",
    "        estimator_stack.append((f'{model_name}', model))\n",
    "        \n",
    "    return estimator_stack"
   ]
  },
  {
   "cell_type": "markdown",
   "id": "ea4e2b62",
   "metadata": {
    "papermill": {
     "duration": 0.246923,
     "end_time": "2022-02-04T15:23:11.122501",
     "exception": false,
     "start_time": "2022-02-04T15:23:10.875578",
     "status": "completed"
    },
    "tags": []
   },
   "source": [
    "## Scaler transformer\n",
    "By using RobustScaler(), we can remove the outliers\n",
    "![](https://github.com/furyhawk/kaggle_practice/blob/main/images/Scalers.png?raw=true)"
   ]
  },
  {
   "cell_type": "markdown",
   "id": "10190021",
   "metadata": {
    "papermill": {
     "duration": 0.246077,
     "end_time": "2022-02-04T15:23:11.613438",
     "exception": false,
     "start_time": "2022-02-04T15:23:11.367361",
     "status": "completed"
    },
    "tags": []
   },
   "source": [
    "TODO: within folds"
   ]
  },
  {
   "cell_type": "markdown",
   "id": "c92d2405",
   "metadata": {
    "papermill": {
     "duration": 0.242937,
     "end_time": "2022-02-04T15:23:12.114769",
     "exception": false,
     "start_time": "2022-02-04T15:23:11.871832",
     "status": "completed"
    },
    "tags": []
   },
   "source": [
    "## Stacker pipeline with CV\n",
    "Decision tree does not require feature scaling. However, inplace to future proof?"
   ]
  },
  {
   "cell_type": "code",
   "execution_count": 20,
   "id": "a0708cb0",
   "metadata": {
    "execution": {
     "iopub.execute_input": "2022-02-04T15:23:12.607418Z",
     "iopub.status.busy": "2022-02-04T15:23:12.603431Z",
     "iopub.status.idle": "2022-02-04T15:23:12.610091Z",
     "shell.execute_reply": "2022-02-04T15:23:12.610644Z",
     "shell.execute_reply.started": "2022-02-04T14:45:53.065052Z"
    },
    "papermill": {
     "duration": 0.254196,
     "end_time": "2022-02-04T15:23:12.610827",
     "exception": false,
     "start_time": "2022-02-04T15:23:12.356631",
     "status": "completed"
    },
    "tags": []
   },
   "outputs": [],
   "source": [
    "def build_stacking_classifier(estimator_stack, seed=RANDOM_STATE):\n",
    "    \n",
    "    # X pipeline StandardScaler MinMaxScaler RobustScaler , class_weight='balanced', Cs= \n",
    "    stacking_classifier = make_pipeline(\n",
    "#         ColumnTransformer(\n",
    "#             transformers=[\n",
    "#                 (\"categorical\", OneHotEncoder(handle_unknown=\"ignore\", sparse=False), make_column_selector(dtype_include=object)),\n",
    "#                 (\"numeric\", RobustScaler(), make_column_selector(dtype_include=np.number)),\n",
    "#             ],\n",
    "#             remainder='passthrough', #'passthrough', #\n",
    "#         ),\n",
    "#         PCA(),\n",
    "        StackingClassifier(estimators=estimator_stack, final_estimator=LogisticRegressionCV(multi_class='multinomial', max_iter=10000, cv=10, random_state=seed), cv=FOLDS, n_jobs=-1, verbose=VERBOSE)\n",
    "#         VotingClassifier(estimators=estimator_stack, voting='soft', n_jobs=1, verbose=VERBOSE)\n",
    "    )\n",
    "    return stacking_classifier"
   ]
  },
  {
   "cell_type": "code",
   "execution_count": 21,
   "id": "8bf2a072",
   "metadata": {
    "execution": {
     "iopub.execute_input": "2022-02-04T15:23:13.105966Z",
     "iopub.status.busy": "2022-02-04T15:23:13.104674Z",
     "iopub.status.idle": "2022-02-04T15:23:13.315350Z",
     "shell.execute_reply": "2022-02-04T15:23:13.314684Z",
     "shell.execute_reply.started": "2022-02-04T14:45:53.081042Z"
    },
    "papermill": {
     "duration": 0.460499,
     "end_time": "2022-02-04T15:23:13.315518",
     "exception": false,
     "start_time": "2022-02-04T15:23:12.855019",
     "status": "completed"
    },
    "tags": []
   },
   "outputs": [],
   "source": [
    "if PRODUCTION:\n",
    "    X_train, X_test, y_train, y_test = train_test_split(X, y_cat, stratify=y_cat, test_size=0.0001, random_state=RANDOM_STATE)\n",
    "else: # test run\n",
    "    X_train, X_test, y_train, y_test = train_test_split(X, y_cat, stratify=y_cat, test_size=VALIDATION_SPLIT, random_state=RANDOM_STATE)"
   ]
  },
  {
   "cell_type": "code",
   "execution_count": 22,
   "id": "b20be4b5",
   "metadata": {
    "execution": {
     "iopub.execute_input": "2022-02-04T15:23:13.803138Z",
     "iopub.status.busy": "2022-02-04T15:23:13.802473Z",
     "iopub.status.idle": "2022-02-04T15:23:13.807280Z",
     "shell.execute_reply": "2022-02-04T15:23:13.807857Z",
     "shell.execute_reply.started": "2022-02-04T14:45:53.263801Z"
    },
    "papermill": {
     "duration": 0.251235,
     "end_time": "2022-02-04T15:23:13.808021",
     "exception": false,
     "start_time": "2022-02-04T15:23:13.556786",
     "status": "completed"
    },
    "tags": []
   },
   "outputs": [
    {
     "name": "stdout",
     "output_type": "stream",
     "text": [
      "******************Stacking ExtraTreesClassifier*************************\n"
     ]
    }
   ],
   "source": [
    "# Reset\n",
    "estimator_stack = []\n",
    "\n",
    "# Build model\n",
    "estimator_stack = build_estimator_stack(estimator_stack)\n",
    "eclf = build_stacking_classifier(estimator_stack=estimator_stack, seed=RANDOM_STATE)"
   ]
  },
  {
   "cell_type": "code",
   "execution_count": 23,
   "id": "ffd7deed",
   "metadata": {
    "_kg_hide-input": true,
    "execution": {
     "iopub.execute_input": "2022-02-04T15:23:14.300848Z",
     "iopub.status.busy": "2022-02-04T15:23:14.300180Z",
     "iopub.status.idle": "2022-02-04T15:23:14.304963Z",
     "shell.execute_reply": "2022-02-04T15:23:14.305582Z",
     "shell.execute_reply.started": "2022-02-04T14:45:53.270766Z"
    },
    "papermill": {
     "duration": 0.251876,
     "end_time": "2022-02-04T15:23:14.305751",
     "exception": false,
     "start_time": "2022-02-04T15:23:14.053875",
     "status": "completed"
    },
    "tags": []
   },
   "outputs": [],
   "source": [
    "# param_xgb = {\n",
    "#                     'objective' : 'multi:softprob',\n",
    "#                     'eval_metric' : 'mlogloss',\n",
    "#                     'tree_method' : 'hist',\n",
    "#                     'use_label_encoder': False,\n",
    "#                     'n_estimators': N_ESTIMATORS,\n",
    "#                     'random_state': RANDOM_STATE\n",
    "#                  }\n",
    "# param_cat = {\n",
    "#                     'loss_function' : 'MultiClassOneVsAll',\n",
    "#                     'eval_metric': 'MultiClassOneVsAll',\n",
    "#                     'n_estimators': N_ESTIMATORS,\n",
    "#                     'random_state': RANDOM_STATE,\n",
    "#                     'verbose': VERBOSE\n",
    "#                  }\n",
    "# param_lgb = {\n",
    "#             'objective' : 'multiclass',\n",
    "#             'n_estimators': N_ESTIMATORS,\n",
    "#             'random_state': RANDOM_STATE\n",
    "#          }\n",
    "# eclf = LogisticRegression(multi_class='multinomial', max_iter=10000, random_state=RANDOM_STATE)\n",
    "# kf = StratifiedKFold(\n",
    "#         n_splits=FOLDS, random_state=RANDOM_STATE, shuffle=True)\n",
    "# for fold, (train_id, test_id) in enumerate(kf.split(X_train, y_train)):  \n",
    "#     X_train2 = X_train[train_id]\n",
    "#     y_train2 = y_train[train_id]\n",
    "#     X_valid = X_train[test_id]\n",
    "#     y_valid = y_train[test_id]\n",
    "    \n",
    "#     eclf = ExtraTreesClassifier(\n",
    "#         n_estimators=N_ESTIMATORS,\n",
    "#         n_jobs=-1,\n",
    "#         random_state=RANDOM_STATE,\n",
    "#         verbose=VERBOSE\n",
    "#     )\n",
    "\n",
    "#     eclf.fit(X_train2, y_train2)\n",
    "    \n",
    "#     valid_pred = eclf.predict(X_valid)\n",
    "#     valid_score = accuracy_score(y_valid, valid_pred)\n",
    "    \n",
    "#     print(\"Fold:\", fold + 1, \"Accuracy:\", valid_score)\n",
    "    \n",
    "#     scores.append(valid_score)\n",
    "    \n",
    "#     # Save predictions to later submit the mean values\n",
    "#     y_probs.append(eclf.predict_proba(X_submission))\n"
   ]
  },
  {
   "cell_type": "code",
   "execution_count": 24,
   "id": "881285fa",
   "metadata": {
    "_kg_hide-input": true,
    "execution": {
     "iopub.execute_input": "2022-02-04T15:23:14.822094Z",
     "iopub.status.busy": "2022-02-04T15:23:14.821396Z",
     "iopub.status.idle": "2022-02-04T15:23:14.825767Z",
     "shell.execute_reply": "2022-02-04T15:23:14.826383Z",
     "shell.execute_reply.started": "2022-02-04T14:45:53.283457Z"
    },
    "papermill": {
     "duration": 0.276339,
     "end_time": "2022-02-04T15:23:14.826553",
     "exception": false,
     "start_time": "2022-02-04T15:23:14.550214",
     "status": "completed"
    },
    "tags": []
   },
   "outputs": [],
   "source": [
    "# # Define a pipeline to search for the best combination of PCA truncation\n",
    "# # and classifier regularization.\n",
    "# pca = PCA()\n",
    "# # Define a Standard Scaler to normalize inputs\n",
    "# scaler = StandardScaler()\n",
    "\n",
    "# # set the tolerance to a large value to make the example faster\n",
    "# logistic = LogisticRegression(max_iter=12000, tol=0.1)\n",
    "# pipe = Pipeline(steps=[(\"scaler\", scaler), (\"pca\", pca), (\"logistic\", logistic)])\n",
    "\n",
    "# # Parameters of pipelines can be set using ‘__’ separated parameter names:\n",
    "# param_grid = {\n",
    "#     \"pca__n_components\": [5, 15, 45, 70, 100, 150, 200, 220],\n",
    "#     \"logistic__C\": np.logspace(-4, 4, 5),\n",
    "# }\n",
    "# search = GridSearchCV(pipe, param_grid, n_jobs=2)\n",
    "# search.fit(X_train, y_train)\n",
    "# print(\"Best parameter (CV score=%0.3f):\" % search.best_score_)\n",
    "# print(search.best_params_)\n",
    "\n",
    "# # Plot the PCA spectrum\n",
    "# pca.fit(X_train)\n",
    "\n",
    "# fig, (ax0, ax1) = plt.subplots(nrows=2, sharex=True, figsize=(6, 6))\n",
    "# ax0.plot(\n",
    "#     np.arange(1, pca.n_components_ + 1), pca.explained_variance_ratio_, \"+\", linewidth=2\n",
    "# )\n",
    "# ax0.set_ylabel(\"PCA explained variance ratio\")\n",
    "\n",
    "# ax0.axvline(\n",
    "#     search.best_estimator_.named_steps[\"pca\"].n_components,\n",
    "#     linestyle=\":\",\n",
    "#     label=\"n_components chosen\",\n",
    "# )\n",
    "# ax0.legend(prop=dict(size=12))\n",
    "\n",
    "# # For each number of components, find the best classifier results\n",
    "# results = pd.DataFrame(search.cv_results_)\n",
    "# components_col = \"param_pca__n_components\"\n",
    "# best_clfs = results.groupby(components_col).apply(\n",
    "#     lambda g: g.nlargest(1, \"mean_test_score\")\n",
    "# )\n",
    "\n",
    "# best_clfs.plot(\n",
    "#     x=components_col, y=\"mean_test_score\", yerr=\"std_test_score\", legend=False, ax=ax1\n",
    "# )\n",
    "# ax1.set_ylabel(\"Classification accuracy (val)\")\n",
    "# ax1.set_xlabel(\"n_components\")\n",
    "\n",
    "# plt.xlim(-1, 70)\n",
    "\n",
    "# plt.tight_layout()\n",
    "# plt.show()"
   ]
  },
  {
   "cell_type": "markdown",
   "id": "5ff58116",
   "metadata": {
    "papermill": {
     "duration": 0.241684,
     "end_time": "2022-02-04T15:23:15.311666",
     "exception": false,
     "start_time": "2022-02-04T15:23:15.069982",
     "status": "completed"
    },
    "tags": []
   },
   "source": [
    "## Train"
   ]
  },
  {
   "cell_type": "code",
   "execution_count": 25,
   "id": "144919f9",
   "metadata": {
    "execution": {
     "iopub.execute_input": "2022-02-04T15:23:15.802138Z",
     "iopub.status.busy": "2022-02-04T15:23:15.801405Z",
     "iopub.status.idle": "2022-02-04T15:36:52.595659Z",
     "shell.execute_reply": "2022-02-04T15:36:52.596346Z",
     "shell.execute_reply.started": "2022-02-04T14:45:53.299115Z"
    },
    "papermill": {
     "duration": 817.041369,
     "end_time": "2022-02-04T15:36:52.596768",
     "exception": false,
     "start_time": "2022-02-04T15:23:15.555399",
     "status": "completed"
    },
    "tags": []
   },
   "outputs": [
    {
     "name": "stdout",
     "output_type": "stream",
     "text": [
      "CPU times: user 2min 53s, sys: 10.9 s, total: 3min 4s\n",
      "Wall time: 13min 36s\n"
     ]
    }
   ],
   "source": [
    "%%time\n",
    "# Train\n",
    "eclf = eclf.fit(X_train, y_train)"
   ]
  },
  {
   "cell_type": "markdown",
   "id": "a39f27a5",
   "metadata": {
    "papermill": {
     "duration": 0.24609,
     "end_time": "2022-02-04T15:36:53.088595",
     "exception": false,
     "start_time": "2022-02-04T15:36:52.842505",
     "status": "completed"
    },
    "tags": []
   },
   "source": [
    "## Test prediction"
   ]
  },
  {
   "cell_type": "code",
   "execution_count": 26,
   "id": "8367b1ab",
   "metadata": {
    "execution": {
     "iopub.execute_input": "2022-02-04T15:36:53.603349Z",
     "iopub.status.busy": "2022-02-04T15:36:53.602636Z",
     "iopub.status.idle": "2022-02-04T15:37:08.585085Z",
     "shell.execute_reply": "2022-02-04T15:37:08.585980Z",
     "shell.execute_reply.started": "2022-02-04T14:48:07.323422Z"
    },
    "papermill": {
     "duration": 15.249046,
     "end_time": "2022-02-04T15:37:08.586296",
     "exception": false,
     "start_time": "2022-02-04T15:36:53.337250",
     "status": "completed"
    },
    "tags": []
   },
   "outputs": [],
   "source": [
    "preds_test=[]\n",
    "# Predict test dataset\n",
    "preds_test.append(eclf.predict_proba(X_submission.values))"
   ]
  },
  {
   "cell_type": "markdown",
   "id": "13f270dc",
   "metadata": {
    "papermill": {
     "duration": 0.246015,
     "end_time": "2022-02-04T15:37:09.110896",
     "exception": false,
     "start_time": "2022-02-04T15:37:08.864881",
     "status": "completed"
    },
    "tags": []
   },
   "source": [
    "### Validation"
   ]
  },
  {
   "cell_type": "code",
   "execution_count": 27,
   "id": "d4a0db37",
   "metadata": {
    "execution": {
     "iopub.execute_input": "2022-02-04T15:37:09.612660Z",
     "iopub.status.busy": "2022-02-04T15:37:09.611611Z",
     "iopub.status.idle": "2022-02-04T15:37:09.659044Z",
     "shell.execute_reply": "2022-02-04T15:37:09.659744Z",
     "shell.execute_reply.started": "2022-02-04T14:48:11.872594Z"
    },
    "papermill": {
     "duration": 0.300805,
     "end_time": "2022-02-04T15:37:09.659925",
     "exception": false,
     "start_time": "2022-02-04T15:37:09.359120",
     "status": "completed"
    },
    "tags": []
   },
   "outputs": [],
   "source": [
    "# resets\n",
    "preds_valid_f = {}\n",
    "index_valid = X_test.index.tolist()\n",
    "preds_valid = eclf.predict(X_test)\n",
    "preds_valid_f.update(dict(zip(index_valid, le.inverse_transform(preds_valid))))"
   ]
  },
  {
   "cell_type": "markdown",
   "id": "d4412673",
   "metadata": {
    "papermill": {
     "duration": 0.242795,
     "end_time": "2022-02-04T15:37:10.146803",
     "exception": false,
     "start_time": "2022-02-04T15:37:09.904008",
     "status": "completed"
    },
    "tags": []
   },
   "source": [
    "## Validation Score"
   ]
  },
  {
   "cell_type": "code",
   "execution_count": 28,
   "id": "05432136",
   "metadata": {
    "execution": {
     "iopub.execute_input": "2022-02-04T15:37:10.638717Z",
     "iopub.status.busy": "2022-02-04T15:37:10.637715Z",
     "iopub.status.idle": "2022-02-04T15:37:10.715710Z",
     "shell.execute_reply": "2022-02-04T15:37:10.716828Z",
     "shell.execute_reply.started": "2022-02-04T14:48:13.068357Z"
    },
    "papermill": {
     "duration": 0.327259,
     "end_time": "2022-02-04T15:37:10.717097",
     "exception": false,
     "start_time": "2022-02-04T15:37:10.389838",
     "status": "completed"
    },
    "tags": []
   },
   "outputs": [
    {
     "data": {
      "text/plain": [
       "0.9230769230769231"
      ]
     },
     "execution_count": 28,
     "metadata": {},
     "output_type": "execute_result"
    }
   ],
   "source": [
    "eclf.score(X_test, y_test)"
   ]
  },
  {
   "cell_type": "markdown",
   "id": "343617dc",
   "metadata": {
    "papermill": {
     "duration": 0.244023,
     "end_time": "2022-02-04T15:37:11.219661",
     "exception": false,
     "start_time": "2022-02-04T15:37:10.975638",
     "status": "completed"
    },
    "tags": []
   },
   "source": [
    "But instead of just looking at the mean accuracy across the 10 cross-validation folds, let's plot all 10 scores for each model, along with a box plot highlighting the lower and upper quartiles, and \"whiskers\" showing the extent of the scores. Note that the `boxplot()` function detects outliers (called \"fliers\") and does not include them within the whiskers. Specifically, if the lower quartile is $Q_1$ and the upper quartile is $Q_3$, then the interquartile range $IQR = Q_3 - Q_1$ (this is the box's height), and any score lower than $Q_1 - 1.5 \\times IQR$ is a flier, and so is any score greater than $Q3 + 1.5 \\times IQR$."
   ]
  },
  {
   "cell_type": "code",
   "execution_count": 29,
   "id": "91da70a9",
   "metadata": {
    "_kg_hide-input": true,
    "execution": {
     "iopub.execute_input": "2022-02-04T15:37:11.708277Z",
     "iopub.status.busy": "2022-02-04T15:37:11.707464Z",
     "iopub.status.idle": "2022-02-04T15:37:11.720456Z",
     "shell.execute_reply": "2022-02-04T15:37:11.720980Z",
     "shell.execute_reply.started": "2022-02-04T14:48:14.256799Z"
    },
    "papermill": {
     "duration": 0.259213,
     "end_time": "2022-02-04T15:37:11.721189",
     "exception": false,
     "start_time": "2022-02-04T15:37:11.461976",
     "status": "completed"
    },
    "tags": []
   },
   "outputs": [],
   "source": [
    "def plot_cm(cm):\n",
    "    metrics = {\n",
    "        'accuracy': cm / cm.sum(),\n",
    "        'recall' : cm / cm.sum(axis =1 ),\n",
    "        'precision': cm / cm.sum(axis = 0)\n",
    "    }\n",
    "    \n",
    "    fig, ax = plt.subplots(1,3, tight_layout = True, figsize = (20,6))\n",
    "    ax = ax.flatten()\n",
    "#     mask = (np.eye(cm.shape[0]) == 0) * 1\n",
    "    for idx, (name, matrix) in enumerate(metrics.items()):\n",
    "        ax[idx].set_title(name)\n",
    "        sns.heatmap(\n",
    "            data = matrix,\n",
    "            cmap = sns.dark_palette(\"#69d\", reverse=True, as_cmap=True),\n",
    "            cbar = False,\n",
    "#             mask=mask,\n",
    "            lw = 0.25,\n",
    "            annot = True,\n",
    "            fmt = '.2f',\n",
    "            ax = ax[idx]\n",
    "        )\n",
    "#         for tick in ax[idx].get_xticklabels():\n",
    "#                 tick.set_rotation(60)\n",
    "                \n",
    "    sns.despine()\n",
    "    \n",
    "def plot_cm_error(cm):\n",
    "    mask = (np.eye(cm.shape[0]) != 0) * 1\n",
    "    fig, ax = plt.subplots(tight_layout=True, figsize=(15,8))\n",
    "    sns.heatmap(\n",
    "                data = pd.DataFrame(data=cm, index=le.classes_, columns = le.classes_),\n",
    "#                 cmap=sns.dark_palette(\"#69d\", reverse=True, as_cmap=True),\n",
    "                cbar = False,\n",
    "                lw = 0.25,\n",
    "                mask = mask,\n",
    "                annot = True,\n",
    "                fmt = '.0f',\n",
    "                ax = ax\n",
    "            )\n",
    "    plt.xticks(rotation=45)\n",
    "    plt.tight_layout()\n",
    "    sns.despine()"
   ]
  },
  {
   "cell_type": "code",
   "execution_count": 30,
   "id": "d24fa30e",
   "metadata": {
    "_kg_hide-input": true,
    "execution": {
     "iopub.execute_input": "2022-02-04T15:37:12.212787Z",
     "iopub.status.busy": "2022-02-04T15:37:12.212022Z",
     "iopub.status.idle": "2022-02-04T15:37:12.215622Z",
     "shell.execute_reply": "2022-02-04T15:37:12.216201Z",
     "shell.execute_reply.started": "2022-02-04T14:48:14.278012Z"
    },
    "papermill": {
     "duration": 0.253218,
     "end_time": "2022-02-04T15:37:12.216393",
     "exception": false,
     "start_time": "2022-02-04T15:37:11.963175",
     "status": "completed"
    },
    "tags": []
   },
   "outputs": [],
   "source": [
    "oof_y_hat = []\n",
    "for key, value in preds_valid_f.items():\n",
    "    oof_y_hat.append(value)"
   ]
  },
  {
   "cell_type": "markdown",
   "id": "92e58112",
   "metadata": {
    "papermill": {
     "duration": 0.242905,
     "end_time": "2022-02-04T15:37:12.704234",
     "exception": false,
     "start_time": "2022-02-04T15:37:12.461329",
     "status": "completed"
    },
    "tags": []
   },
   "source": [
    "## Confusion matrix\n",
    "\n",
    "$Accuracy = \\frac{TP+TN}{TP+TN+FP+FN}$\n",
    "\n",
    "$Precision = \\frac{TP}{TP+FP}$\n",
    "\n",
    "$Recall = \\frac{TP}{TP+FN}$\n",
    "\n",
    "$F1 = \\frac{2*Precision*Recall}{Precision+Recall} = \\frac{2*TP}{2*TP+FP+FN}$\n",
    "\n",
    "TODO: The gap is too huge. The network is overconfidence over some error."
   ]
  },
  {
   "cell_type": "code",
   "execution_count": 31,
   "id": "e38ba1a8",
   "metadata": {
    "_kg_hide-input": true,
    "execution": {
     "iopub.execute_input": "2022-02-04T15:37:13.198384Z",
     "iopub.status.busy": "2022-02-04T15:37:13.197696Z",
     "iopub.status.idle": "2022-02-04T15:37:16.693597Z",
     "shell.execute_reply": "2022-02-04T15:37:16.694063Z",
     "shell.execute_reply.started": "2022-02-04T14:48:14.304307Z"
    },
    "papermill": {
     "duration": 3.7462,
     "end_time": "2022-02-04T15:37:16.694238",
     "exception": false,
     "start_time": "2022-02-04T15:37:12.948038",
     "status": "completed"
    },
    "tags": []
   },
   "outputs": [
    {
     "data": {
      "image/png": "[encoded data removed]",
      "text/plain": [
       "<Figure size 1440x432 with 3 Axes>"
      ]
     },
     "metadata": {},
     "output_type": "display_data"
    }
   ],
   "source": [
    "# create confusion matrix, calculate accuracy,recall & precision\n",
    "cm = pd.DataFrame(data = confusion_matrix(le.inverse_transform(y_test), oof_y_hat, labels = le.classes_), index = le.classes_, columns = le.classes_)\n",
    "plot_cm(cm)"
   ]
  },
  {
   "cell_type": "code",
   "execution_count": 32,
   "id": "204a6a56",
   "metadata": {
    "_kg_hide-input": true,
    "execution": {
     "iopub.execute_input": "2022-02-04T15:37:17.210873Z",
     "iopub.status.busy": "2022-02-04T15:37:17.208328Z",
     "iopub.status.idle": "2022-02-04T15:37:18.119969Z",
     "shell.execute_reply": "2022-02-04T15:37:18.120533Z",
     "shell.execute_reply.started": "2022-02-04T14:48:17.907906Z"
    },
    "papermill": {
     "duration": 1.165178,
     "end_time": "2022-02-04T15:37:18.120714",
     "exception": false,
     "start_time": "2022-02-04T15:37:16.955536",
     "status": "completed"
    },
    "tags": []
   },
   "outputs": [
    {
     "data": {
      "image/png": "[encoded data removed]",
      "text/plain": [
       "<Figure size 1080x576 with 1 Axes>"
      ]
     },
     "metadata": {},
     "output_type": "display_data"
    }
   ],
   "source": [
    "plot_cm_error(confusion_matrix(le.inverse_transform(y_test), oof_y_hat, labels = le.classes_))"
   ]
  },
  {
   "cell_type": "markdown",
   "id": "9c604af0",
   "metadata": {
    "papermill": {
     "duration": 0.248778,
     "end_time": "2022-02-04T15:37:18.627551",
     "exception": false,
     "start_time": "2022-02-04T15:37:18.378773",
     "status": "completed"
    },
    "tags": []
   },
   "source": [
    "## Weighted\n",
    "https://www.kaggle.com/ambrosm/tpsfeb22-02-postprocessing-against-the-mutants\n",
    "\n",
    "TODO: The equalizer function"
   ]
  },
  {
   "cell_type": "markdown",
   "id": "18adb00b",
   "metadata": {
    "papermill": {
     "duration": 0.24827,
     "end_time": "2022-02-04T15:37:19.123820",
     "exception": false,
     "start_time": "2022-02-04T15:37:18.875550",
     "status": "completed"
    },
    "tags": []
   },
   "source": [
    "## Dist Before:"
   ]
  },
  {
   "cell_type": "code",
   "execution_count": 33,
   "id": "556895bb",
   "metadata": {
    "execution": {
     "iopub.execute_input": "2022-02-04T15:37:19.624760Z",
     "iopub.status.busy": "2022-02-04T15:37:19.624041Z",
     "iopub.status.idle": "2022-02-04T15:37:19.656909Z",
     "shell.execute_reply": "2022-02-04T15:37:19.657543Z",
     "shell.execute_reply.started": "2022-02-04T14:48:18.927639Z"
    },
    "papermill": {
     "duration": 0.286496,
     "end_time": "2022-02-04T15:37:19.657713",
     "exception": false,
     "start_time": "2022-02-04T15:37:19.371217",
     "status": "completed"
    },
    "tags": []
   },
   "outputs": [
    {
     "data": {
      "text/plain": [
       "Bacteroides_fragilis        10.132\n",
       "Campylobacter_jejuni        10.175\n",
       "Enterococcus_hirae           9.673\n",
       "Escherichia_coli             8.229\n",
       "Escherichia_fergusonii      11.141\n",
       "Klebsiella_pneumoniae        9.927\n",
       "Salmonella_enterica         10.543\n",
       "Staphylococcus_aureus        9.903\n",
       "Streptococcus_pneumoniae    10.134\n",
       "Streptococcus_pyogenes      10.143\n",
       "dtype: float64"
      ]
     },
     "execution_count": 33,
     "metadata": {},
     "output_type": "execute_result"
    }
   ],
   "source": [
    "y_proba = sum(preds_test) / len(preds_test)\n",
    "pd.Series(le.inverse_transform(np.argmax(y_proba, axis=1)), index=X_submission.index).value_counts().sort_index() / len(X_submission) * 100"
   ]
  },
  {
   "cell_type": "code",
   "execution_count": 34,
   "id": "141be276",
   "metadata": {
    "execution": {
     "iopub.execute_input": "2022-02-04T15:37:20.159453Z",
     "iopub.status.busy": "2022-02-04T15:37:20.158688Z",
     "iopub.status.idle": "2022-02-04T15:37:20.171667Z",
     "shell.execute_reply": "2022-02-04T15:37:20.172237Z",
     "shell.execute_reply.started": "2022-02-04T14:48:18.964261Z"
    },
    "papermill": {
     "duration": 0.267678,
     "end_time": "2022-02-04T15:37:20.172430",
     "exception": false,
     "start_time": "2022-02-04T15:37:19.904752",
     "status": "completed"
    },
    "tags": []
   },
   "outputs": [],
   "source": [
    "y_proba += np.array([0, 0, 0.01, 0.04, 0, 0, 0, 0, 0, 0])\n",
    "y_pred_tuned = le.inverse_transform(np.argmax(y_proba, axis=1))"
   ]
  },
  {
   "cell_type": "markdown",
   "id": "e7f5cb20",
   "metadata": {
    "papermill": {
     "duration": 0.250125,
     "end_time": "2022-02-04T15:37:20.671160",
     "exception": false,
     "start_time": "2022-02-04T15:37:20.421035",
     "status": "completed"
    },
    "tags": []
   },
   "source": [
    "## Dist After:"
   ]
  },
  {
   "cell_type": "code",
   "execution_count": 35,
   "id": "e95d05a5",
   "metadata": {
    "execution": {
     "iopub.execute_input": "2022-02-04T15:37:21.176491Z",
     "iopub.status.busy": "2022-02-04T15:37:21.175797Z",
     "iopub.status.idle": "2022-02-04T15:37:21.195793Z",
     "shell.execute_reply": "2022-02-04T15:37:21.196366Z",
     "shell.execute_reply.started": "2022-02-04T14:48:18.981742Z"
    },
    "papermill": {
     "duration": 0.277403,
     "end_time": "2022-02-04T15:37:21.196537",
     "exception": false,
     "start_time": "2022-02-04T15:37:20.919134",
     "status": "completed"
    },
    "tags": []
   },
   "outputs": [
    {
     "data": {
      "text/plain": [
       "Bacteroides_fragilis        10.116\n",
       "Campylobacter_jejuni        10.171\n",
       "Enterococcus_hirae           9.689\n",
       "Escherichia_coli             8.509\n",
       "Escherichia_fergusonii      10.945\n",
       "Klebsiella_pneumoniae        9.918\n",
       "Salmonella_enterica         10.486\n",
       "Staphylococcus_aureus        9.898\n",
       "Streptococcus_pneumoniae    10.132\n",
       "Streptococcus_pyogenes      10.136\n",
       "dtype: float64"
      ]
     },
     "execution_count": 35,
     "metadata": {},
     "output_type": "execute_result"
    }
   ],
   "source": [
    "pd.Series(y_pred_tuned, index=X_submission.index).value_counts().sort_index() / len(X_submission) * 100"
   ]
  },
  {
   "cell_type": "code",
   "execution_count": 36,
   "id": "d7faaa56",
   "metadata": {
    "_kg_hide-input": true,
    "execution": {
     "iopub.execute_input": "2022-02-04T15:37:21.714341Z",
     "iopub.status.busy": "2022-02-04T15:37:21.713242Z",
     "iopub.status.idle": "2022-02-04T15:37:21.715179Z",
     "shell.execute_reply": "2022-02-04T15:37:21.715797Z",
     "shell.execute_reply.started": "2022-02-04T14:48:19.005442Z"
    },
    "papermill": {
     "duration": 0.271518,
     "end_time": "2022-02-04T15:37:21.716000",
     "exception": false,
     "start_time": "2022-02-04T15:37:21.444482",
     "status": "completed"
    },
    "tags": []
   },
   "outputs": [],
   "source": [
    "# pred_hat = preds_test[0].astype(int)\n",
    "# pred_hat0 = le.inverse_transform(pred_hat)"
   ]
  },
  {
   "cell_type": "markdown",
   "id": "175c8e1b",
   "metadata": {
    "papermill": {
     "duration": 0.261909,
     "end_time": "2022-02-04T15:37:22.239173",
     "exception": false,
     "start_time": "2022-02-04T15:37:21.977264",
     "status": "completed"
    },
    "tags": []
   },
   "source": [
    "# Submission"
   ]
  },
  {
   "cell_type": "code",
   "execution_count": 37,
   "id": "75afa230",
   "metadata": {
    "execution": {
     "iopub.execute_input": "2022-02-04T15:37:22.747408Z",
     "iopub.status.busy": "2022-02-04T15:37:22.746696Z",
     "iopub.status.idle": "2022-02-04T15:37:23.359378Z",
     "shell.execute_reply": "2022-02-04T15:37:23.358799Z",
     "shell.execute_reply.started": "2022-02-04T14:48:19.013632Z"
    },
    "papermill": {
     "duration": 0.868635,
     "end_time": "2022-02-04T15:37:23.359522",
     "exception": false,
     "start_time": "2022-02-04T15:37:22.490887",
     "status": "completed"
    },
    "tags": []
   },
   "outputs": [
    {
     "data": {
      "text/html": [
       "<div>\n",
       "<style scoped>\n",
       "    .dataframe tbody tr th:only-of-type {\n",
       "        vertical-align: middle;\n",
       "    }\n",
       "\n",
       "    .dataframe tbody tr th {\n",
       "        vertical-align: top;\n",
       "    }\n",
       "\n",
       "    .dataframe thead th {\n",
       "        text-align: right;\n",
       "    }\n",
       "</style>\n",
       "<table border=\"1\" class=\"dataframe\">\n",
       "  <thead>\n",
       "    <tr style=\"text-align: right;\">\n",
       "      <th></th>\n",
       "      <th>row_id</th>\n",
       "      <th>target</th>\n",
       "    </tr>\n",
       "  </thead>\n",
       "  <tbody>\n",
       "    <tr>\n",
       "      <th>0</th>\n",
       "      <td>200000</td>\n",
       "      <td>Escherichia_fergusonii</td>\n",
       "    </tr>\n",
       "    <tr>\n",
       "      <th>1</th>\n",
       "      <td>200001</td>\n",
       "      <td>Salmonella_enterica</td>\n",
       "    </tr>\n",
       "    <tr>\n",
       "      <th>2</th>\n",
       "      <td>200002</td>\n",
       "      <td>Enterococcus_hirae</td>\n",
       "    </tr>\n",
       "    <tr>\n",
       "      <th>3</th>\n",
       "      <td>200003</td>\n",
       "      <td>Salmonella_enterica</td>\n",
       "    </tr>\n",
       "    <tr>\n",
       "      <th>4</th>\n",
       "      <td>200004</td>\n",
       "      <td>Staphylococcus_aureus</td>\n",
       "    </tr>\n",
       "    <tr>\n",
       "      <th>5</th>\n",
       "      <td>200005</td>\n",
       "      <td>Escherichia_fergusonii</td>\n",
       "    </tr>\n",
       "    <tr>\n",
       "      <th>6</th>\n",
       "      <td>200006</td>\n",
       "      <td>Salmonella_enterica</td>\n",
       "    </tr>\n",
       "    <tr>\n",
       "      <th>7</th>\n",
       "      <td>200007</td>\n",
       "      <td>Staphylococcus_aureus</td>\n",
       "    </tr>\n",
       "    <tr>\n",
       "      <th>8</th>\n",
       "      <td>200008</td>\n",
       "      <td>Streptococcus_pneumoniae</td>\n",
       "    </tr>\n",
       "    <tr>\n",
       "      <th>9</th>\n",
       "      <td>200009</td>\n",
       "      <td>Klebsiella_pneumoniae</td>\n",
       "    </tr>\n",
       "  </tbody>\n",
       "</table>\n",
       "</div>"
      ],
      "text/plain": [
       "   row_id                    target\n",
       "0  200000    Escherichia_fergusonii\n",
       "1  200001       Salmonella_enterica\n",
       "2  200002        Enterococcus_hirae\n",
       "3  200003       Salmonella_enterica\n",
       "4  200004     Staphylococcus_aureus\n",
       "5  200005    Escherichia_fergusonii\n",
       "6  200006       Salmonella_enterica\n",
       "7  200007     Staphylococcus_aureus\n",
       "8  200008  Streptococcus_pneumoniae\n",
       "9  200009     Klebsiella_pneumoniae"
      ]
     },
     "metadata": {},
     "output_type": "display_data"
    },
    {
     "data": {
      "text/html": [
       "<div>\n",
       "<style scoped>\n",
       "    .dataframe tbody tr th:only-of-type {\n",
       "        vertical-align: middle;\n",
       "    }\n",
       "\n",
       "    .dataframe tbody tr th {\n",
       "        vertical-align: top;\n",
       "    }\n",
       "\n",
       "    .dataframe thead th {\n",
       "        text-align: right;\n",
       "    }\n",
       "</style>\n",
       "<table border=\"1\" class=\"dataframe\">\n",
       "  <thead>\n",
       "    <tr style=\"text-align: right;\">\n",
       "      <th></th>\n",
       "      <th>row_id</th>\n",
       "      <th>target</th>\n",
       "    </tr>\n",
       "  </thead>\n",
       "  <tbody>\n",
       "    <tr>\n",
       "      <th>99990</th>\n",
       "      <td>299990</td>\n",
       "      <td>Escherichia_fergusonii</td>\n",
       "    </tr>\n",
       "    <tr>\n",
       "      <th>99991</th>\n",
       "      <td>299991</td>\n",
       "      <td>Klebsiella_pneumoniae</td>\n",
       "    </tr>\n",
       "    <tr>\n",
       "      <th>99992</th>\n",
       "      <td>299992</td>\n",
       "      <td>Streptococcus_pneumoniae</td>\n",
       "    </tr>\n",
       "    <tr>\n",
       "      <th>99993</th>\n",
       "      <td>299993</td>\n",
       "      <td>Klebsiella_pneumoniae</td>\n",
       "    </tr>\n",
       "    <tr>\n",
       "      <th>99994</th>\n",
       "      <td>299994</td>\n",
       "      <td>Escherichia_coli</td>\n",
       "    </tr>\n",
       "    <tr>\n",
       "      <th>99995</th>\n",
       "      <td>299995</td>\n",
       "      <td>Streptococcus_pneumoniae</td>\n",
       "    </tr>\n",
       "    <tr>\n",
       "      <th>99996</th>\n",
       "      <td>299996</td>\n",
       "      <td>Bacteroides_fragilis</td>\n",
       "    </tr>\n",
       "    <tr>\n",
       "      <th>99997</th>\n",
       "      <td>299997</td>\n",
       "      <td>Bacteroides_fragilis</td>\n",
       "    </tr>\n",
       "    <tr>\n",
       "      <th>99998</th>\n",
       "      <td>299998</td>\n",
       "      <td>Bacteroides_fragilis</td>\n",
       "    </tr>\n",
       "    <tr>\n",
       "      <th>99999</th>\n",
       "      <td>299999</td>\n",
       "      <td>Streptococcus_pyogenes</td>\n",
       "    </tr>\n",
       "  </tbody>\n",
       "</table>\n",
       "</div>"
      ],
      "text/plain": [
       "       row_id                    target\n",
       "99990  299990    Escherichia_fergusonii\n",
       "99991  299991     Klebsiella_pneumoniae\n",
       "99992  299992  Streptococcus_pneumoniae\n",
       "99993  299993     Klebsiella_pneumoniae\n",
       "99994  299994          Escherichia_coli\n",
       "99995  299995  Streptococcus_pneumoniae\n",
       "99996  299996      Bacteroides_fragilis\n",
       "99997  299997      Bacteroides_fragilis\n",
       "99998  299998      Bacteroides_fragilis\n",
       "99999  299999    Streptococcus_pyogenes"
      ]
     },
     "metadata": {},
     "output_type": "display_data"
    }
   ],
   "source": [
    "sub = pd.read_csv(INPUT + '/sample_submission.csv')\n",
    "sub[column_y] = y_pred_tuned\n",
    "sub.to_csv(\"submission.csv\", index=False)\n",
    "sub.to_csv(\"submission_00.csv\", index=False)\n",
    "display(sub.head(10))\n",
    "display(sub.tail(10))"
   ]
  },
  {
   "cell_type": "code",
   "execution_count": 38,
   "id": "1b7999ae",
   "metadata": {
    "execution": {
     "iopub.execute_input": "2022-02-04T15:37:23.887127Z",
     "iopub.status.busy": "2022-02-04T15:37:23.873549Z",
     "iopub.status.idle": "2022-02-04T15:37:24.278508Z",
     "shell.execute_reply": "2022-02-04T15:37:24.278990Z",
     "shell.execute_reply.started": "2022-02-04T14:48:19.632285Z"
    },
    "papermill": {
     "duration": 0.666648,
     "end_time": "2022-02-04T15:37:24.279185",
     "exception": false,
     "start_time": "2022-02-04T15:37:23.612537",
     "status": "completed"
    },
    "tags": []
   },
   "outputs": [
    {
     "data": {
      "image/png": "[encoded data removed]",
      "text/plain": [
       "<Figure size 1440x432 with 1 Axes>"
      ]
     },
     "metadata": {},
     "output_type": "display_data"
    }
   ],
   "source": [
    "# Plot the distribution of the test predictions vs training set\n",
    "plt.figure(figsize=(20,6))\n",
    "plt.hist(y[column_y], bins = np.linspace(0.5, 7.5, 8), density = True, label = 'Training labels')\n",
    "plt.hist(sub[column_y], bins = np.linspace(0.5, 7.5, 8), density = True, rwidth = 0.7, label = 'Test predictions')\n",
    "plt.xlabel(column_y)\n",
    "plt.ylabel('Frequency')\n",
    "plt.gca().yaxis.set_major_formatter(PercentFormatter())\n",
    "plt.legend()\n",
    "plt.show()"
   ]
  },
  {
   "cell_type": "code",
   "execution_count": 39,
   "id": "1a8fc801",
   "metadata": {
    "execution": {
     "iopub.execute_input": "2022-02-04T15:37:24.796045Z",
     "iopub.status.busy": "2022-02-04T15:37:24.795393Z",
     "iopub.status.idle": "2022-02-04T15:37:25.886019Z",
     "shell.execute_reply": "2022-02-04T15:37:25.886547Z",
     "shell.execute_reply.started": "2022-02-04T14:48:20.030300Z"
    },
    "papermill": {
     "duration": 1.344935,
     "end_time": "2022-02-04T15:37:25.886720",
     "exception": false,
     "start_time": "2022-02-04T15:37:24.541785",
     "status": "completed"
    },
    "tags": []
   },
   "outputs": [
    {
     "data": {
      "image/png": "[encoded data removed]",
      "text/plain": [
       "<Figure size 1440x720 with 2 Axes>"
      ]
     },
     "metadata": {},
     "output_type": "display_data"
    }
   ],
   "source": [
    "def plot_x_labels(ax):\n",
    "    for rect in ax.patches:\n",
    "        height = rect.get_height()\n",
    "        ax.annotate(f'{int(height)}', xy=(rect.get_x()+rect.get_width()/2, height), \n",
    "                    xytext=(0, 5), textcoords='offset points', ha='center', va='bottom') \n",
    "\n",
    "# Plot the distribution of the test predictions\n",
    "fig, ax = plt.subplots(2,1,figsize = (20,10))\n",
    "sns.countplot(x = sub[column_y], ax = ax[0], orient = \"h\").set_title(\"Prediction\")\n",
    "plot_x_labels(ax[0])\n",
    "# Plot the distribution of the training set\n",
    "sns.countplot(x = y[column_y], ax = ax[1], orient = \"h\").set_title(\"Training labels\")\n",
    "plot_x_labels(ax[1])\n",
    "fig.show()"
   ]
  },
  {
   "cell_type": "markdown",
   "id": "8b848133",
   "metadata": {
    "papermill": {
     "duration": 0.255713,
     "end_time": "2022-02-04T15:37:26.401683",
     "exception": false,
     "start_time": "2022-02-04T15:37:26.145970",
     "status": "completed"
    },
    "tags": []
   },
   "source": [
    "To submit these predictions to the competition, follow these steps:\n",
    "\n",
    "1. Begin by clicking on the blue **Save Version** button in the top right corner of the window.  This will generate a pop-up window.\n",
    "2. Ensure that the **Save and Run All** option is selected, and then click on the blue **Save** button.\n",
    "3. This generates a window in the bottom left corner of the notebook.  After it has finished running, click on the number to the right of the **Save Version** button.  This pulls up a list of versions on the right of the screen.  Click on the ellipsis **(...)** to the right of the most recent version, and select **Open in Viewer**.  This brings you into view mode of the same page. You will need to scroll down to get back to these instructions.\n",
    "4. Click on the **Output** tab on the right of the screen.  Then, click on the file you would like to submit, and click on the blue **Submit** button to submit your results to the leaderboard.\n",
    "\n",
    "You have now successfully submitted to the competition!\n",
    "\n",
    "# Next Steps #\n",
    "\n",
    "If you want to keep working to improve your performance, select the blue **Edit** button in the top right of the screen. Then you can change your code and repeat the process. There's a lot of room to improve, and you will climb up the leaderboard as you work.\n",
    "\n",
    "Be sure to check out [other users' notebooks](https://www.kaggle.com/c/tabular-playground-series-feb-2022/code) in this competition. You'll find lots of great ideas for new features and as well as other ways to discover more things about the dataset or make better predictions. There's also the [discussion forum](https://www.kaggle.com/c/tabular-playground-series-feb-2022/discussion), where you can share ideas with other Kagglers.\n",
    "\n",
    "Have fun Kaggling!"
   ]
  }
 ],
 "metadata": {
  "kernelspec": {
   "display_name": "Python 3",
   "language": "python",
   "name": "python3"
  },
  "language_info": {
   "codemirror_mode": {
    "name": "ipython",
    "version": 3
   },
   "file_extension": ".py",
   "mimetype": "text/x-python",
   "name": "python",
   "nbconvert_exporter": "python",
   "pygments_lexer": "ipython3",
   "version": "3.7.12"
  },
  "papermill": {
   "default_parameters": {},
   "duration": 1029.18544,
   "end_time": "2022-02-04T15:37:28.178712",
   "environment_variables": {},
   "exception": null,
   "input_path": "__notebook__.ipynb",
   "output_path": "__notebook__.ipynb",
   "parameters": {},
   "start_time": "2022-02-04T15:20:18.993272",
   "version": "2.3.3"
  }
 },
 "nbformat": 4,
 "nbformat_minor": 5
}
