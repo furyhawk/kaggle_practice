{
 "cells": [
  {
   "cell_type": "markdown",
   "id": "87ea03fa",
   "metadata": {
    "papermill": {
     "duration": 0.010968,
     "end_time": "2021-11-09T00:09:26.192214",
     "exception": false,
     "start_time": "2021-11-09T00:09:26.181246",
     "status": "completed"
    },
    "tags": []
   },
   "source": [
    "# Word Embeddings\n",
    "\n",
    "You know at this point that machine learning on text requires that you first represent the text numerically. So far, you've done this with bag of words representations. But you can usually do better with word embeddings.\n",
    "\n",
    "**Word embeddings** (also called word vectors) represent each word numerically in such a way that the vector corresponds to how that word is used or what it means. Vector encodings are learned by considering the context in which the words appear. Words that appear in similar contexts will have similar vectors. For example, vectors for \"leopard\", \"lion\", and \"tiger\" will be close together, while they'll be far away from \"planet\" and \"castle\".\n",
    "\n",
    "Even cooler, relations between words can be examined with mathematical operations. Subtracting the vectors for \"man\" and \"woman\" will return another vector. If you add that to the vector for \"king\" the result is close to the vector for \"queen.\"\n",
    "\n",
    "![Word vector examples](https://www.tensorflow.org/images/linear-relationships.png)\n",
    "\n",
    "These vectors can be used as features for machine learning models. Word vectors will typically improve the performance of your models above bag of words encoding. spaCy provides embeddings learned from a model called Word2Vec. You can access them by loading a large language model like `en_core_web_lg`. Then they will be available on tokens from the `.vector` attribute."
   ]
  },
  {
   "cell_type": "code",
   "execution_count": 1,
   "id": "3d22018f",
   "metadata": {
    "execution": {
     "iopub.execute_input": "2021-11-09T00:09:26.225474Z",
     "iopub.status.busy": "2021-11-09T00:09:26.224717Z",
     "iopub.status.idle": "2021-11-09T00:09:41.419021Z",
     "shell.execute_reply": "2021-11-09T00:09:41.418016Z"
    },
    "papermill": {
     "duration": 15.217082,
     "end_time": "2021-11-09T00:09:41.419190",
     "exception": false,
     "start_time": "2021-11-09T00:09:26.202108",
     "status": "completed"
    },
    "tags": []
   },
   "outputs": [],
   "source": [
    "import numpy as np\n",
    "import spacy\n",
    "\n",
    "# Need to load the large model to get the vectors\n",
    "nlp = spacy.load('en_core_web_lg')"
   ]
  },
  {
   "cell_type": "code",
   "execution_count": 2,
   "id": "6ed33ab0",
   "metadata": {
    "execution": {
     "iopub.execute_input": "2021-11-09T00:09:41.445736Z",
     "iopub.status.busy": "2021-11-09T00:09:41.445084Z",
     "iopub.status.idle": "2021-11-09T00:09:41.474777Z",
     "shell.execute_reply": "2021-11-09T00:09:41.474205Z"
    },
    "papermill": {
     "duration": 0.04549,
     "end_time": "2021-11-09T00:09:41.474926",
     "exception": false,
     "start_time": "2021-11-09T00:09:41.429436",
     "status": "completed"
    },
    "tags": []
   },
   "outputs": [],
   "source": [
    "# Disabling other pipes because we don't need them and it'll speed up this part a bit\n",
    "text = \"These vectors can be used as features for machine learning models.\"\n",
    "with nlp.disable_pipes():\n",
    "    vectors = np.array([token.vector for token in  nlp(text)])"
   ]
  },
  {
   "cell_type": "code",
   "execution_count": 3,
   "id": "5d7ecfc8",
   "metadata": {
    "execution": {
     "iopub.execute_input": "2021-11-09T00:09:41.502658Z",
     "iopub.status.busy": "2021-11-09T00:09:41.502021Z",
     "iopub.status.idle": "2021-11-09T00:09:41.504924Z",
     "shell.execute_reply": "2021-11-09T00:09:41.505414Z"
    },
    "papermill": {
     "duration": 0.020553,
     "end_time": "2021-11-09T00:09:41.505573",
     "exception": false,
     "start_time": "2021-11-09T00:09:41.485020",
     "status": "completed"
    },
    "tags": []
   },
   "outputs": [
    {
     "data": {
      "text/plain": [
       "(12, 300)"
      ]
     },
     "execution_count": 3,
     "metadata": {},
     "output_type": "execute_result"
    }
   ],
   "source": [
    "vectors.shape"
   ]
  },
  {
   "cell_type": "markdown",
   "id": "37297545",
   "metadata": {
    "papermill": {
     "duration": 0.010226,
     "end_time": "2021-11-09T00:09:41.526424",
     "exception": false,
     "start_time": "2021-11-09T00:09:41.516198",
     "status": "completed"
    },
    "tags": []
   },
   "source": [
    "These are 300-dimensional vectors, with one vector for each word. However, we only have document-level labels and our models won't be able to use the word-level embeddings. So, you need a vector representation for the entire document. \n",
    "\n",
    "There are many ways to combine all the word vectors into a single document vector we can use for model training. A simple and surprisingly effective approach is simply averaging the vectors for each word in the document. Then, you can use these document vectors for modeling.\n",
    "\n",
    "spaCy calculates the average document vector which you can get with `doc.vector`. Here is an example loading the spam data and converting it to document vectors."
   ]
  },
  {
   "cell_type": "code",
   "execution_count": 4,
   "id": "4e116bbf",
   "metadata": {
    "execution": {
     "iopub.execute_input": "2021-11-09T00:09:41.553549Z",
     "iopub.status.busy": "2021-11-09T00:09:41.552882Z",
     "iopub.status.idle": "2021-11-09T00:10:31.165854Z",
     "shell.execute_reply": "2021-11-09T00:10:31.166392Z"
    },
    "papermill": {
     "duration": 49.629752,
     "end_time": "2021-11-09T00:10:31.166578",
     "exception": false,
     "start_time": "2021-11-09T00:09:41.536826",
     "status": "completed"
    },
    "tags": []
   },
   "outputs": [
    {
     "data": {
      "text/plain": [
       "(5572, 300)"
      ]
     },
     "execution_count": 4,
     "metadata": {},
     "output_type": "execute_result"
    }
   ],
   "source": [
    "import pandas as pd\n",
    "\n",
    "# Loading the spam data\n",
    "# ham is the label for non-spam messages\n",
    "spam = pd.read_csv('../input/nlp-course/spam.csv')\n",
    "\n",
    "with nlp.disable_pipes():\n",
    "    doc_vectors = np.array([nlp(text).vector for text in spam.text])\n",
    "    \n",
    "doc_vectors.shape"
   ]
  },
  {
   "cell_type": "markdown",
   "id": "e9de2ef8",
   "metadata": {
    "papermill": {
     "duration": 0.010562,
     "end_time": "2021-11-09T00:10:31.188077",
     "exception": false,
     "start_time": "2021-11-09T00:10:31.177515",
     "status": "completed"
    },
    "tags": []
   },
   "source": [
    "## Classification Models\n",
    "\n",
    "With the document vectors, you can train scikit-learn models, xgboost models, or any other standard approach to modeling."
   ]
  },
  {
   "cell_type": "code",
   "execution_count": 5,
   "id": "6f7d789e",
   "metadata": {
    "execution": {
     "iopub.execute_input": "2021-11-09T00:10:31.213777Z",
     "iopub.status.busy": "2021-11-09T00:10:31.212806Z",
     "iopub.status.idle": "2021-11-09T00:10:31.516635Z",
     "shell.execute_reply": "2021-11-09T00:10:31.515891Z"
    },
    "papermill": {
     "duration": 0.317713,
     "end_time": "2021-11-09T00:10:31.516779",
     "exception": false,
     "start_time": "2021-11-09T00:10:31.199066",
     "status": "completed"
    },
    "tags": []
   },
   "outputs": [],
   "source": [
    "from sklearn.model_selection import train_test_split\n",
    "\n",
    "X_train, X_test, y_train, y_test = train_test_split(doc_vectors, spam.label,\n",
    "                                                    test_size=0.1, random_state=1)"
   ]
  },
  {
   "cell_type": "markdown",
   "id": "6db58222",
   "metadata": {
    "papermill": {
     "duration": 0.01156,
     "end_time": "2021-11-09T00:10:31.539434",
     "exception": false,
     "start_time": "2021-11-09T00:10:31.527874",
     "status": "completed"
    },
    "tags": []
   },
   "source": [
    "Here is an example using [support vector machines (SVMs)](https://scikit-learn.org/stable/modules/svm.html#svm). Scikit-learn provides an SVM classifier `LinearSVC`. This works similar to other scikit-learn models."
   ]
  },
  {
   "cell_type": "code",
   "execution_count": 6,
   "id": "5eeb1c5f",
   "metadata": {
    "execution": {
     "iopub.execute_input": "2021-11-09T00:10:31.566078Z",
     "iopub.status.busy": "2021-11-09T00:10:31.565116Z",
     "iopub.status.idle": "2021-11-09T00:10:31.857260Z",
     "shell.execute_reply": "2021-11-09T00:10:31.858221Z"
    },
    "papermill": {
     "duration": 0.307918,
     "end_time": "2021-11-09T00:10:31.858511",
     "exception": false,
     "start_time": "2021-11-09T00:10:31.550593",
     "status": "completed"
    },
    "tags": []
   },
   "outputs": [
    {
     "name": "stdout",
     "output_type": "stream",
     "text": [
      "Accuracy: 97.670%\n"
     ]
    }
   ],
   "source": [
    "from sklearn.svm import LinearSVC\n",
    "\n",
    "# Set dual=False to speed up training, and it's not needed\n",
    "svc = LinearSVC(random_state=1, dual=False, max_iter=10000)\n",
    "svc.fit(X_train, y_train)\n",
    "print(f\"Accuracy: {svc.score(X_test, y_test) * 100:.3f}%\", )"
   ]
  },
  {
   "cell_type": "markdown",
   "id": "ee102449",
   "metadata": {
    "papermill": {
     "duration": 0.048047,
     "end_time": "2021-11-09T00:10:31.927503",
     "exception": false,
     "start_time": "2021-11-09T00:10:31.879456",
     "status": "completed"
    },
    "tags": []
   },
   "source": [
    "## Document Similarity\n",
    "\n",
    "Documents with similar content generally have similar vectors. So you can find similar documents by measuring the similarity between the vectors. A common metric for this is the **cosine similarity** which measures the angle between two vectors, $\\mathbf{a}$ and $\\mathbf{b}$.\n",
    "\n",
    "$$\n",
    "\\cos \\theta = \\frac{\\mathbf{a}\\cdot\\mathbf{b}}{\\| \\mathbf{a} \\| \\, \\| \\mathbf{b} \\|}\n",
    "$$\n",
    "\n",
    "This is the dot product of $\\mathbf{a}$ and $\\mathbf{b}$, divided by the magnitudes of each vector. The cosine similarity can vary between -1 and 1, corresponding complete opposite to perfect similarity, respectively. To calculate it, you can use [the metric from scikit-learn](https://scikit-learn.org/stable/modules/generated/sklearn.metrics.pairwise.cosine_similarity.html) or write your own function."
   ]
  },
  {
   "cell_type": "code",
   "execution_count": 7,
   "id": "17672309",
   "metadata": {
    "execution": {
     "iopub.execute_input": "2021-11-09T00:10:31.987273Z",
     "iopub.status.busy": "2021-11-09T00:10:31.986262Z",
     "iopub.status.idle": "2021-11-09T00:10:31.989652Z",
     "shell.execute_reply": "2021-11-09T00:10:31.990295Z"
    },
    "papermill": {
     "duration": 0.036938,
     "end_time": "2021-11-09T00:10:31.990521",
     "exception": false,
     "start_time": "2021-11-09T00:10:31.953583",
     "status": "completed"
    },
    "tags": []
   },
   "outputs": [],
   "source": [
    "def cosine_similarity(a, b):\n",
    "    return a.dot(b)/np.sqrt(a.dot(a) * b.dot(b))"
   ]
  },
  {
   "cell_type": "code",
   "execution_count": 8,
   "id": "11e7e46d",
   "metadata": {
    "execution": {
     "iopub.execute_input": "2021-11-09T00:10:32.020397Z",
     "iopub.status.busy": "2021-11-09T00:10:32.019361Z",
     "iopub.status.idle": "2021-11-09T00:10:32.053416Z",
     "shell.execute_reply": "2021-11-09T00:10:32.052855Z"
    },
    "papermill": {
     "duration": 0.049973,
     "end_time": "2021-11-09T00:10:32.053571",
     "exception": false,
     "start_time": "2021-11-09T00:10:32.003598",
     "status": "completed"
    },
    "tags": []
   },
   "outputs": [
    {
     "data": {
      "text/plain": [
       "0.7030031"
      ]
     },
     "execution_count": 8,
     "metadata": {},
     "output_type": "execute_result"
    }
   ],
   "source": [
    "a = nlp(\"REPLY NOW FOR FREE TEA\").vector\n",
    "b = nlp(\"According to legend, Emperor Shen Nung discovered tea when leaves from a wild tree blew into his pot of boiling water.\").vector\n",
    "cosine_similarity(a, b)"
   ]
  },
  {
   "cell_type": "markdown",
   "id": "f53e6f83",
   "metadata": {
    "papermill": {
     "duration": 0.012353,
     "end_time": "2021-11-09T00:10:32.078961",
     "exception": false,
     "start_time": "2021-11-09T00:10:32.066608",
     "status": "completed"
    },
    "tags": []
   },
   "source": [
    "# Your Turn\n",
    "Word embeddings are incredibly powerful. You know know enough to apply embeddings to **[improve your models and find similar documents](https://www.kaggle.com/kernels/fork/6061026)**."
   ]
  },
  {
   "cell_type": "markdown",
   "id": "c84b8eba",
   "metadata": {
    "papermill": {
     "duration": 0.012403,
     "end_time": "2021-11-09T00:10:32.103919",
     "exception": false,
     "start_time": "2021-11-09T00:10:32.091516",
     "status": "completed"
    },
    "tags": []
   },
   "source": [
    "---\n",
    "\n",
    "\n",
    "\n",
    "\n",
    "*Have questions or comments? Visit the [course discussion forum](https://www.kaggle.com/learn/natural-language-processing/discussion) to chat with other learners.*"
   ]
  }
 ],
 "metadata": {
  "kernelspec": {
   "display_name": "Python 3",
   "language": "python",
   "name": "python3"
  },
  "language_info": {
   "codemirror_mode": {
    "name": "ipython",
    "version": 3
   },
   "file_extension": ".py",
   "mimetype": "text/x-python",
   "name": "python",
   "nbconvert_exporter": "python",
   "pygments_lexer": "ipython3",
   "version": "3.7.10"
  },
  "papermill": {
   "default_parameters": {},
   "duration": 78.694651,
   "end_time": "2021-11-09T00:10:35.417960",
   "environment_variables": {},
   "exception": null,
   "input_path": "__notebook__.ipynb",
   "output_path": "__notebook__.ipynb",
   "parameters": {},
   "start_time": "2021-11-09T00:09:16.723309",
   "version": "2.3.3"
  }
 },
 "nbformat": 4,
 "nbformat_minor": 5
}
