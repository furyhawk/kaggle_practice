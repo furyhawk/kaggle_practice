{
 "cells": [
  {
   "cell_type": "markdown",
   "id": "f780fb57",
   "metadata": {
    "papermill": {
     "duration": 0.025712,
     "end_time": "2021-11-24T14:43:26.448907",
     "exception": false,
     "start_time": "2021-11-24T14:43:26.423195",
     "status": "completed"
    },
    "tags": []
   },
   "source": [
    "**This notebook is an exercise in the [Natural Language Processing](https://www.kaggle.com/learn/natural-language-processing) course.  You can reference the tutorial at [this link](https://www.kaggle.com/matleonard/text-classification).**\n",
    "\n",
    "---\n"
   ]
  },
  {
   "cell_type": "markdown",
   "id": "e795e99f",
   "metadata": {
    "papermill": {
     "duration": 0.021926,
     "end_time": "2021-11-24T14:43:26.493080",
     "exception": false,
     "start_time": "2021-11-24T14:43:26.471154",
     "status": "completed"
    },
    "tags": []
   },
   "source": [
    "# Natural Language Classification\n",
    "\n",
    "You did such a great job for DeFalco's restaurant in the previous exercise that the chef has hired you for a new project.\n",
    "\n",
    "The restaurant's menu includes an email address where visitors can give feedback about their food. \n",
    "\n",
    "The manager wants you to create a tool that automatically sends him all the negative reviews so he can fix them, while automatically sending all the positive reviews to the owner, so the manager can ask for a raise. \n",
    "\n",
    "You will first build a model to distinguish positive reviews from negative reviews using Yelp reviews because these reviews include a rating with each review. Your data consists of the text body of each review along with the star rating. Ratings with 1-2 stars count as \"negative\", and ratings with 4-5 stars are \"positive\". Ratings with 3 stars are \"neutral\" and have been dropped from the data.\n",
    "\n",
    "Let's get started. First, run the next code cell."
   ]
  },
  {
   "cell_type": "code",
   "execution_count": 1,
   "id": "bcf513ab",
   "metadata": {
    "execution": {
     "iopub.execute_input": "2021-11-24T14:43:26.544009Z",
     "iopub.status.busy": "2021-11-24T14:43:26.542103Z",
     "iopub.status.idle": "2021-11-24T14:43:36.712949Z",
     "shell.execute_reply": "2021-11-24T14:43:36.712209Z",
     "shell.execute_reply.started": "2021-11-24T13:18:26.158145Z"
    },
    "papermill": {
     "duration": 10.198071,
     "end_time": "2021-11-24T14:43:36.713171",
     "exception": false,
     "start_time": "2021-11-24T14:43:26.515100",
     "status": "completed"
    },
    "tags": []
   },
   "outputs": [
    {
     "name": "stdout",
     "output_type": "stream",
     "text": [
      "\n",
      "Setup complete\n"
     ]
    }
   ],
   "source": [
    "import pandas as pd\n",
    "\n",
    "# Set up code checking\n",
    "from learntools.core import binder\n",
    "binder.bind(globals())\n",
    "from learntools.nlp.ex2 import *\n",
    "print(\"\\nSetup complete\")"
   ]
  },
  {
   "cell_type": "markdown",
   "id": "b7ae99b4",
   "metadata": {
    "papermill": {
     "duration": 0.022737,
     "end_time": "2021-11-24T14:43:36.759929",
     "exception": false,
     "start_time": "2021-11-24T14:43:36.737192",
     "status": "completed"
    },
    "tags": []
   },
   "source": [
    "# Step 1: Evaluate the Approach\n",
    "\n",
    "Is there anything about this approach that concerns you? After you've thought about it, run the function below to see one point of view."
   ]
  },
  {
   "cell_type": "code",
   "execution_count": 2,
   "id": "8a575b02",
   "metadata": {
    "execution": {
     "iopub.execute_input": "2021-11-24T14:43:36.810314Z",
     "iopub.status.busy": "2021-11-24T14:43:36.809265Z",
     "iopub.status.idle": "2021-11-24T14:43:36.819837Z",
     "shell.execute_reply": "2021-11-24T14:43:36.820409Z",
     "shell.execute_reply.started": "2021-11-24T13:19:31.759006Z"
    },
    "papermill": {
     "duration": 0.037829,
     "end_time": "2021-11-24T14:43:36.820593",
     "exception": false,
     "start_time": "2021-11-24T14:43:36.782764",
     "status": "completed"
    },
    "tags": []
   },
   "outputs": [
    {
     "data": {
      "application/javascript": [
       "parent.postMessage({\"jupyterEvent\": \"custom.exercise_interaction\", \"data\": {\"interactionType\": 3, \"questionType\": 4, \"questionId\": \"1_EvaluateFeedbackFormApproach\", \"learnToolsVersion\": \"0.3.4\", \"valueTowardsCompletion\": 0.0, \"failureMessage\": \"\", \"exceptionClass\": \"\", \"trace\": \"\", \"outcomeType\": 4}}, \"*\")"
      ],
      "text/plain": [
       "<IPython.core.display.Javascript object>"
      ]
     },
     "metadata": {},
     "output_type": "display_data"
    },
    {
     "data": {
      "text/markdown": [
       "<span style=\"color:#33cc99\">Solution:</span> Any way of setting up an ML problem will have multiple strengths and weaknesses.  So you may have thought of different issues than listed here.\n",
       "\n",
       "The strength of this approach is that it allows you to distinguish positive email messages from negative emails even though you don't have historical emails that you have labeled as positive or negative.\n",
       "\n",
       "The weakness of this approach is that emails may be systematically different from Yelp reviews in ways that make your model less accurate. For example, customers might generally use different words or slang in emails, and the model based on Yelp reviews won't have seen these words.\n",
       "\n",
       "If you wanted to see how serious this issue is, you could compare word frequencies between the two sources. In practice, manually reading a few emails from each source may be enough to see if it's a serious issue. \n",
       "\n",
       "If you wanted to do something fancier, you could create a dataset that contains both Yelp reviews and emails and see whether a model can tell a reviews source from the text content. Ideally, you'd like to find that model didn't perform well, because it would mean your data sources are similar. That approach seems unnecessarily complex here."
      ],
      "text/plain": [
       "Solution: Any way of setting up an ML problem will have multiple strengths and weaknesses.  So you may have thought of different issues than listed here.\n",
       "\n",
       "The strength of this approach is that it allows you to distinguish positive email messages from negative emails even though you don't have historical emails that you have labeled as positive or negative.\n",
       "\n",
       "The weakness of this approach is that emails may be systematically different from Yelp reviews in ways that make your model less accurate. For example, customers might generally use different words or slang in emails, and the model based on Yelp reviews won't have seen these words.\n",
       "\n",
       "If you wanted to see how serious this issue is, you could compare word frequencies between the two sources. In practice, manually reading a few emails from each source may be enough to see if it's a serious issue. \n",
       "\n",
       "If you wanted to do something fancier, you could create a dataset that contains both Yelp reviews and emails and see whether a model can tell a reviews source from the text content. Ideally, you'd like to find that model didn't perform well, because it would mean your data sources are similar. That approach seems unnecessarily complex here."
      ]
     },
     "metadata": {},
     "output_type": "display_data"
    }
   ],
   "source": [
    "# Check your answer (Run this code cell to receive credit!)\n",
    "step_1.solution()"
   ]
  },
  {
   "cell_type": "markdown",
   "id": "6cc891e5",
   "metadata": {
    "papermill": {
     "duration": 0.023042,
     "end_time": "2021-11-24T14:43:36.866993",
     "exception": false,
     "start_time": "2021-11-24T14:43:36.843951",
     "status": "completed"
    },
    "tags": []
   },
   "source": [
    "# Step 2: Review Data and Create the model\n",
    "\n",
    "Moving forward with your plan, you'll need to load the data. Here's some basic code to load data and split it into a training and validation set. Run this code."
   ]
  },
  {
   "cell_type": "code",
   "execution_count": 3,
   "id": "169cabac",
   "metadata": {
    "execution": {
     "iopub.execute_input": "2021-11-24T14:43:36.920112Z",
     "iopub.status.busy": "2021-11-24T14:43:36.918908Z",
     "iopub.status.idle": "2021-11-24T14:43:37.299747Z",
     "shell.execute_reply": "2021-11-24T14:43:37.300336Z",
     "shell.execute_reply.started": "2021-11-24T13:24:09.410551Z"
    },
    "papermill": {
     "duration": 0.409238,
     "end_time": "2021-11-24T14:43:37.300524",
     "exception": false,
     "start_time": "2021-11-24T14:43:36.891286",
     "status": "completed"
    },
    "tags": []
   },
   "outputs": [],
   "source": [
    "def load_data(csv_file, split=0.9):\n",
    "    data = pd.read_csv(csv_file)\n",
    "    \n",
    "    # Shuffle data\n",
    "    train_data = data.sample(frac=1, random_state=7)\n",
    "    \n",
    "    texts = train_data.text.values\n",
    "    labels = [{\"POSITIVE\": bool(y), \"NEGATIVE\": not bool(y)}\n",
    "              for y in train_data.sentiment.values]\n",
    "    split = int(len(train_data) * split)\n",
    "    \n",
    "    train_labels = [{\"cats\": labels} for labels in labels[:split]]\n",
    "    val_labels = [{\"cats\": labels} for labels in labels[split:]]\n",
    "    \n",
    "    return texts[:split], train_labels, texts[split:], val_labels\n",
    "\n",
    "train_texts, train_labels, val_texts, val_labels = load_data('../input/nlp-course/yelp_ratings.csv')"
   ]
  },
  {
   "cell_type": "markdown",
   "id": "b01374a7",
   "metadata": {
    "papermill": {
     "duration": 0.022911,
     "end_time": "2021-11-24T14:43:37.346556",
     "exception": false,
     "start_time": "2021-11-24T14:43:37.323645",
     "status": "completed"
    },
    "tags": []
   },
   "source": [
    "You will use this training data to build a model. The code to build the model is the same as what you saw in the tutorial. So that is copied below for you.\n",
    "\n",
    "First, run the cell below to look at a couple elements from your training data."
   ]
  },
  {
   "cell_type": "code",
   "execution_count": 4,
   "id": "a4592119",
   "metadata": {
    "execution": {
     "iopub.execute_input": "2021-11-24T14:43:37.396933Z",
     "iopub.status.busy": "2021-11-24T14:43:37.395903Z",
     "iopub.status.idle": "2021-11-24T14:43:37.402987Z",
     "shell.execute_reply": "2021-11-24T14:43:37.402427Z",
     "shell.execute_reply.started": "2021-11-24T13:24:21.711592Z"
    },
    "papermill": {
     "duration": 0.033388,
     "end_time": "2021-11-24T14:43:37.403150",
     "exception": false,
     "start_time": "2021-11-24T14:43:37.369762",
     "status": "completed"
    },
    "tags": []
   },
   "outputs": [
    {
     "name": "stdout",
     "output_type": "stream",
     "text": [
      "Texts from training data\n",
      "------\n",
      "[\"Some of the best sushi I've ever had....and I come from the East Coast.  Unreal toro, have some of it's available.\"\n",
      " \"One of the best burgers I've ever had and very well priced. I got the tortilla burger and is was delicious especially with there tortilla soup!\"]\n",
      "\n",
      "Labels from training data\n",
      "------\n",
      "[{'cats': {'POSITIVE': True, 'NEGATIVE': False}}, {'cats': {'POSITIVE': True, 'NEGATIVE': False}}]\n"
     ]
    }
   ],
   "source": [
    "print('Texts from training data\\n------')\n",
    "print(train_texts[:2])\n",
    "print('\\nLabels from training data\\n------')\n",
    "print(train_labels[:2])\n"
   ]
  },
  {
   "cell_type": "markdown",
   "id": "8850aaae",
   "metadata": {
    "papermill": {
     "duration": 0.02322,
     "end_time": "2021-11-24T14:43:37.449897",
     "exception": false,
     "start_time": "2021-11-24T14:43:37.426677",
     "status": "completed"
    },
    "tags": []
   },
   "source": [
    "But because your data is different, there are **two lines in the modeling code cell that you'll need to change.** Can you figure out what they are? \n",
    "\n",
    "If you're not sure, take a second look at the data, and pay particular attention to the labels that should be fed to the text classifier."
   ]
  },
  {
   "cell_type": "code",
   "execution_count": 5,
   "id": "5f4a1159",
   "metadata": {
    "execution": {
     "iopub.execute_input": "2021-11-24T14:43:37.501499Z",
     "iopub.status.busy": "2021-11-24T14:43:37.500488Z",
     "iopub.status.idle": "2021-11-24T14:43:37.838071Z",
     "shell.execute_reply": "2021-11-24T14:43:37.837358Z",
     "shell.execute_reply.started": "2021-11-24T13:27:41.857278Z"
    },
    "papermill": {
     "duration": 0.364455,
     "end_time": "2021-11-24T14:43:37.838217",
     "exception": false,
     "start_time": "2021-11-24T14:43:37.473762",
     "status": "completed"
    },
    "tags": []
   },
   "outputs": [
    {
     "data": {
      "application/javascript": [
       "parent.postMessage({\"jupyterEvent\": \"custom.exercise_interaction\", \"data\": {\"outcomeType\": 1, \"valueTowardsCompletion\": 0.16666666666666666, \"interactionType\": 1, \"questionType\": 2, \"questionId\": \"2_CreateTextCatModel\", \"learnToolsVersion\": \"0.3.4\", \"failureMessage\": \"\", \"exceptionClass\": \"\", \"trace\": \"\"}}, \"*\")"
      ],
      "text/plain": [
       "<IPython.core.display.Javascript object>"
      ]
     },
     "metadata": {},
     "output_type": "display_data"
    },
    {
     "data": {
      "text/markdown": [
       "<span style=\"color:#33cc33\">Correct</span>"
      ],
      "text/plain": [
       "Correct"
      ]
     },
     "metadata": {},
     "output_type": "display_data"
    }
   ],
   "source": [
    "import spacy\n",
    "\n",
    "# Create an empty model\n",
    "nlp = spacy.blank('en')\n",
    "\n",
    "# Add the TextCategorizer to the empty model\n",
    "textcat = nlp.add_pipe('textcat')\n",
    "\n",
    "# Add labels to text classifier\n",
    "textcat.add_label(\"NEGATIVE\")\n",
    "textcat.add_label(\"POSITIVE\")\n",
    "\n",
    "# Check your answer\n",
    "step_2.check()"
   ]
  },
  {
   "cell_type": "code",
   "execution_count": 6,
   "id": "f3c7499c",
   "metadata": {
    "execution": {
     "iopub.execute_input": "2021-11-24T14:43:37.892955Z",
     "iopub.status.busy": "2021-11-24T14:43:37.891955Z",
     "iopub.status.idle": "2021-11-24T14:43:37.894870Z",
     "shell.execute_reply": "2021-11-24T14:43:37.894329Z",
     "shell.execute_reply.started": "2021-11-24T13:27:57.573563Z"
    },
    "papermill": {
     "duration": 0.032364,
     "end_time": "2021-11-24T14:43:37.895038",
     "exception": false,
     "start_time": "2021-11-24T14:43:37.862674",
     "status": "completed"
    },
    "tags": []
   },
   "outputs": [],
   "source": [
    "# Lines below will give you a hint or solution code\n",
    "#step_2.hint()\n",
    "#step_2.solution()"
   ]
  },
  {
   "cell_type": "markdown",
   "id": "04d8afac",
   "metadata": {
    "papermill": {
     "duration": 0.024735,
     "end_time": "2021-11-24T14:43:37.944505",
     "exception": false,
     "start_time": "2021-11-24T14:43:37.919770",
     "status": "completed"
    },
    "tags": []
   },
   "source": [
    "# Step 3: Train Function\n",
    "\n",
    "Implement a function `train` that updates a model with training data. Most of this is general data munging, which we've filled in for you. \n",
    "\n",
    "Just add the one line of code necessary to update your model."
   ]
  },
  {
   "cell_type": "code",
   "execution_count": 7,
   "id": "7092f3e2",
   "metadata": {
    "execution": {
     "iopub.execute_input": "2021-11-24T14:43:37.997960Z",
     "iopub.status.busy": "2021-11-24T14:43:37.997312Z",
     "iopub.status.idle": "2021-11-24T14:44:18.359762Z",
     "shell.execute_reply": "2021-11-24T14:44:18.359211Z",
     "shell.execute_reply.started": "2021-11-24T13:29:54.066844Z"
    },
    "papermill": {
     "duration": 40.389851,
     "end_time": "2021-11-24T14:44:18.359904",
     "exception": false,
     "start_time": "2021-11-24T14:43:37.970053",
     "status": "completed"
    },
    "tags": []
   },
   "outputs": [
    {
     "name": "stderr",
     "output_type": "stream",
     "text": [
      "[2021-11-24 14:43:38,287] [INFO] Created vocabulary\n",
      "[2021-11-24 14:43:38,289] [INFO] Finished initializing nlp object\n",
      "[2021-11-24 14:43:58,544] [INFO] Created vocabulary\n",
      "[2021-11-24 14:43:58,547] [INFO] Finished initializing nlp object\n"
     ]
    },
    {
     "data": {
      "application/javascript": [
       "parent.postMessage({\"jupyterEvent\": \"custom.exercise_interaction\", \"data\": {\"outcomeType\": 1, \"valueTowardsCompletion\": 0.16666666666666666, \"interactionType\": 1, \"questionType\": 2, \"questionId\": \"3_TrainFunction\", \"learnToolsVersion\": \"0.3.4\", \"failureMessage\": \"\", \"exceptionClass\": \"\", \"trace\": \"\"}}, \"*\")"
      ],
      "text/plain": [
       "<IPython.core.display.Javascript object>"
      ]
     },
     "metadata": {},
     "output_type": "display_data"
    },
    {
     "data": {
      "text/markdown": [
       "<span style=\"color:#33cc33\">Correct</span>"
      ],
      "text/plain": [
       "Correct"
      ]
     },
     "metadata": {},
     "output_type": "display_data"
    }
   ],
   "source": [
    "import random\n",
    "from spacy.util import minibatch\n",
    "from spacy.training.example import Example\n",
    "\n",
    "def train(model, train_data, optimizer, batch_size=8):\n",
    "    losses = {}\n",
    "    random.seed(1)\n",
    "    random.shuffle(train_data)\n",
    "    \n",
    "    # train_data is a list of tuples [(text0, label0), (text1, label1), ...]\n",
    "    for batch in minibatch(train_data, size=batch_size):\n",
    "        # Split batch into text and labels\n",
    "        for text, labels in batch:\n",
    "            doc = nlp.make_doc(text)\n",
    "            example = Example.from_dict(doc, labels)\n",
    "            # TODO: Update model with texts and labels\n",
    "            model.update([example], sgd=optimizer, losses=losses)\n",
    "        \n",
    "    return losses\n",
    "\n",
    "# Check your answer\n",
    "step_3.check()"
   ]
  },
  {
   "cell_type": "code",
   "execution_count": 8,
   "id": "a115091c",
   "metadata": {
    "execution": {
     "iopub.execute_input": "2021-11-24T14:44:18.417575Z",
     "iopub.status.busy": "2021-11-24T14:44:18.416804Z",
     "iopub.status.idle": "2021-11-24T14:44:18.422884Z",
     "shell.execute_reply": "2021-11-24T14:44:18.423414Z",
     "shell.execute_reply.started": "2021-11-24T13:29:19.317778Z"
    },
    "papermill": {
     "duration": 0.036929,
     "end_time": "2021-11-24T14:44:18.423597",
     "exception": false,
     "start_time": "2021-11-24T14:44:18.386668",
     "status": "completed"
    },
    "tags": []
   },
   "outputs": [
    {
     "data": {
      "application/javascript": [
       "parent.postMessage({\"jupyterEvent\": \"custom.exercise_interaction\", \"data\": {\"interactionType\": 3, \"questionType\": 2, \"questionId\": \"3_TrainFunction\", \"learnToolsVersion\": \"0.3.4\", \"valueTowardsCompletion\": 0.0, \"failureMessage\": \"\", \"exceptionClass\": \"\", \"trace\": \"\", \"outcomeType\": 4}}, \"*\")"
      ],
      "text/plain": [
       "<IPython.core.display.Javascript object>"
      ]
     },
     "metadata": {},
     "output_type": "display_data"
    },
    {
     "data": {
      "text/markdown": [
       "<span style=\"color:#33cc99\">Solution:</span> \n",
       "```python\n",
       "\n",
       "def train(model, train_data, optimizer, batch_size=8):\n",
       "    losses = {}\n",
       "    random.seed(1)\n",
       "    random.shuffle(train_data)\n",
       "    \n",
       "    for batch in minibatch(train_data, size=batch_size):\n",
       "        for text, labels in batch:\n",
       "            doc = nlp.make_doc(text)\n",
       "            example = Example.from_dict(doc, labels)\n",
       "            # Update model with texts and labels\n",
       "            model.update([example], sgd=optimizer, losses=losses)\n",
       "        \n",
       "    return losses\n",
       "\n",
       "```"
      ],
      "text/plain": [
       "Solution: \n",
       "```python\n",
       "\n",
       "def train(model, train_data, optimizer, batch_size=8):\n",
       "    losses = {}\n",
       "    random.seed(1)\n",
       "    random.shuffle(train_data)\n",
       "    \n",
       "    for batch in minibatch(train_data, size=batch_size):\n",
       "        for text, labels in batch:\n",
       "            doc = nlp.make_doc(text)\n",
       "            example = Example.from_dict(doc, labels)\n",
       "            # Update model with texts and labels\n",
       "            model.update([example], sgd=optimizer, losses=losses)\n",
       "        \n",
       "    return losses\n",
       "\n",
       "```"
      ]
     },
     "metadata": {},
     "output_type": "display_data"
    }
   ],
   "source": [
    "# Lines below will give you a hint or solution code\n",
    "#step_3.hint()\n",
    "step_3.solution()"
   ]
  },
  {
   "cell_type": "code",
   "execution_count": 9,
   "id": "049157a5",
   "metadata": {
    "execution": {
     "iopub.execute_input": "2021-11-24T14:44:18.482750Z",
     "iopub.status.busy": "2021-11-24T14:44:18.482067Z",
     "iopub.status.idle": "2021-11-24T14:58:32.000090Z",
     "shell.execute_reply": "2021-11-24T14:58:32.000708Z",
     "shell.execute_reply.started": "2021-11-24T13:30:29.282793Z"
    },
    "papermill": {
     "duration": 853.549378,
     "end_time": "2021-11-24T14:58:32.000900",
     "exception": false,
     "start_time": "2021-11-24T14:44:18.451522",
     "status": "completed"
    },
    "tags": []
   },
   "outputs": [
    {
     "name": "stderr",
     "output_type": "stream",
     "text": [
      "[2021-11-24 14:44:18,490] [INFO] Created vocabulary\n",
      "[2021-11-24 14:44:18,492] [INFO] Finished initializing nlp object\n"
     ]
    },
    {
     "name": "stdout",
     "output_type": "stream",
     "text": [
      "6553.196886404312\n"
     ]
    }
   ],
   "source": [
    "# Fix seed for reproducibility\n",
    "spacy.util.fix_random_seed(1)\n",
    "random.seed(1)\n",
    "\n",
    "# This may take a while to run!\n",
    "optimizer = nlp.begin_training()\n",
    "train_data = list(zip(train_texts, train_labels))\n",
    "losses = train(nlp, train_data, optimizer)\n",
    "print(losses['textcat'])"
   ]
  },
  {
   "cell_type": "markdown",
   "id": "925b08da",
   "metadata": {
    "papermill": {
     "duration": 0.029086,
     "end_time": "2021-11-24T14:58:32.059493",
     "exception": false,
     "start_time": "2021-11-24T14:58:32.030407",
     "status": "completed"
    },
    "tags": []
   },
   "source": [
    "We can try this slightly trained model on some example text and look at the probabilities assigned to each label."
   ]
  },
  {
   "cell_type": "code",
   "execution_count": 10,
   "id": "fa7782ba",
   "metadata": {
    "execution": {
     "iopub.execute_input": "2021-11-24T14:58:32.124116Z",
     "iopub.status.busy": "2021-11-24T14:58:32.122935Z",
     "iopub.status.idle": "2021-11-24T14:58:32.130644Z",
     "shell.execute_reply": "2021-11-24T14:58:32.130058Z",
     "shell.execute_reply.started": "2021-11-24T13:57:25.659751Z"
    },
    "papermill": {
     "duration": 0.042171,
     "end_time": "2021-11-24T14:58:32.130792",
     "exception": false,
     "start_time": "2021-11-24T14:58:32.088621",
     "status": "completed"
    },
    "tags": []
   },
   "outputs": [
    {
     "name": "stdout",
     "output_type": "stream",
     "text": [
      "{'NEGATIVE': 0.9697662591934204, 'POSITIVE': 0.030233776196837425}\n"
     ]
    }
   ],
   "source": [
    "text = \"This tea cup was full of holes. Do not recommend.\"\n",
    "doc = nlp(text)\n",
    "print(doc.cats)"
   ]
  },
  {
   "cell_type": "markdown",
   "id": "8529d831",
   "metadata": {
    "papermill": {
     "duration": 0.028712,
     "end_time": "2021-11-24T14:58:32.188657",
     "exception": false,
     "start_time": "2021-11-24T14:58:32.159945",
     "status": "completed"
    },
    "tags": []
   },
   "source": [
    "These probabilities look reasonable. Now you should turn them into an actual prediction.\n",
    "\n",
    "# Step 4: Making Predictions\n",
    "\n",
    "Implement a function `predict` that predicts the sentiment of text examples. \n",
    "- First, tokenize the texts using `nlp.tokenizer()`. \n",
    "- Then, pass those docs to the TextCategorizer which you can get from `nlp.get_pipe()`. \n",
    "- Use the `textcat.predict()` method to get scores for each document, then choose the class with the highest score (probability) as the predicted class."
   ]
  },
  {
   "cell_type": "code",
   "execution_count": 11,
   "id": "2a963be9",
   "metadata": {
    "execution": {
     "iopub.execute_input": "2021-11-24T14:58:32.249818Z",
     "iopub.status.busy": "2021-11-24T14:58:32.249137Z",
     "iopub.status.idle": "2021-11-24T14:58:51.942375Z",
     "shell.execute_reply": "2021-11-24T14:58:51.942853Z",
     "shell.execute_reply.started": "2021-11-24T13:57:52.451906Z"
    },
    "papermill": {
     "duration": 19.725257,
     "end_time": "2021-11-24T14:58:51.943059",
     "exception": false,
     "start_time": "2021-11-24T14:58:32.217802",
     "status": "completed"
    },
    "tags": []
   },
   "outputs": [
    {
     "name": "stderr",
     "output_type": "stream",
     "text": [
      "[2021-11-24 14:58:32,490] [INFO] Created vocabulary\n",
      "[2021-11-24 14:58:32,492] [INFO] Finished initializing nlp object\n"
     ]
    },
    {
     "data": {
      "application/javascript": [
       "parent.postMessage({\"jupyterEvent\": \"custom.exercise_interaction\", \"data\": {\"outcomeType\": 1, \"valueTowardsCompletion\": 0.16666666666666666, \"interactionType\": 1, \"questionType\": 2, \"questionId\": \"4_PredictFunction\", \"learnToolsVersion\": \"0.3.4\", \"failureMessage\": \"\", \"exceptionClass\": \"\", \"trace\": \"\"}}, \"*\")"
      ],
      "text/plain": [
       "<IPython.core.display.Javascript object>"
      ]
     },
     "metadata": {},
     "output_type": "display_data"
    },
    {
     "data": {
      "text/markdown": [
       "<span style=\"color:#33cc33\">Correct</span>"
      ],
      "text/plain": [
       "Correct"
      ]
     },
     "metadata": {},
     "output_type": "display_data"
    }
   ],
   "source": [
    "def predict(nlp, texts): \n",
    "    # Use the model's tokenizer to tokenize each input text\n",
    "    docs = [nlp.tokenizer(text) for text in texts]\n",
    "    \n",
    "    # Use textcat to get the scores for each doc\n",
    "    textcat = nlp.get_pipe(\"textcat\")\n",
    "    scores = textcat.predict(docs)\n",
    "    \n",
    "    # From the scores, find the class with the highest score/probability\n",
    "    predicted_class = scores.argmax(axis=1)\n",
    "    \n",
    "    return predicted_class\n",
    "\n",
    "# Check your answer\n",
    "step_4.check()"
   ]
  },
  {
   "cell_type": "code",
   "execution_count": 12,
   "id": "698f10ce",
   "metadata": {
    "execution": {
     "iopub.execute_input": "2021-11-24T14:58:52.011267Z",
     "iopub.status.busy": "2021-11-24T14:58:52.008925Z",
     "iopub.status.idle": "2021-11-24T14:58:52.015054Z",
     "shell.execute_reply": "2021-11-24T14:58:52.015556Z",
     "shell.execute_reply.started": "2021-11-24T13:43:11.046873Z"
    },
    "papermill": {
     "duration": 0.040764,
     "end_time": "2021-11-24T14:58:52.015722",
     "exception": false,
     "start_time": "2021-11-24T14:58:51.974958",
     "status": "completed"
    },
    "tags": []
   },
   "outputs": [
    {
     "data": {
      "application/javascript": [
       "parent.postMessage({\"jupyterEvent\": \"custom.exercise_interaction\", \"data\": {\"interactionType\": 3, \"questionType\": 2, \"questionId\": \"4_PredictFunction\", \"learnToolsVersion\": \"0.3.4\", \"valueTowardsCompletion\": 0.0, \"failureMessage\": \"\", \"exceptionClass\": \"\", \"trace\": \"\", \"outcomeType\": 4}}, \"*\")"
      ],
      "text/plain": [
       "<IPython.core.display.Javascript object>"
      ]
     },
     "metadata": {},
     "output_type": "display_data"
    },
    {
     "data": {
      "text/markdown": [
       "<span style=\"color:#33cc99\">Solution:</span> \n",
       "```python\n",
       "\n",
       "def predict(nlp, texts): \n",
       "    # Use the model's tokenizer to tokenize each input text\n",
       "    docs = [nlp.tokenizer(text) for text in texts]\n",
       "    \n",
       "    # Use textcat to get the scores for each doc\n",
       "    textcat = nlp.get_pipe(\"textcat\")\n",
       "    scores = textcat.predict(docs)\n",
       "    \n",
       "    # From the scores, find the class with the highest score/probability\n",
       "    predicted_class = scores.argmax(axis=1)\n",
       "    \n",
       "    return predicted_class\n",
       "```"
      ],
      "text/plain": [
       "Solution: \n",
       "```python\n",
       "\n",
       "def predict(nlp, texts): \n",
       "    # Use the model's tokenizer to tokenize each input text\n",
       "    docs = [nlp.tokenizer(text) for text in texts]\n",
       "    \n",
       "    # Use textcat to get the scores for each doc\n",
       "    textcat = nlp.get_pipe(\"textcat\")\n",
       "    scores = textcat.predict(docs)\n",
       "    \n",
       "    # From the scores, find the class with the highest score/probability\n",
       "    predicted_class = scores.argmax(axis=1)\n",
       "    \n",
       "    return predicted_class\n",
       "```"
      ]
     },
     "metadata": {},
     "output_type": "display_data"
    }
   ],
   "source": [
    "# Lines below will give you a hint or solution code\n",
    "#step_4.hint()\n",
    "step_4.solution()"
   ]
  },
  {
   "cell_type": "code",
   "execution_count": 13,
   "id": "169af284",
   "metadata": {
    "execution": {
     "iopub.execute_input": "2021-11-24T14:58:52.082803Z",
     "iopub.status.busy": "2021-11-24T14:58:52.082159Z",
     "iopub.status.idle": "2021-11-24T14:58:52.095901Z",
     "shell.execute_reply": "2021-11-24T14:58:52.096489Z"
    },
    "papermill": {
     "duration": 0.04933,
     "end_time": "2021-11-24T14:58:52.096674",
     "exception": false,
     "start_time": "2021-11-24T14:58:52.047344",
     "status": "completed"
    },
    "tags": []
   },
   "outputs": [
    {
     "name": "stdout",
     "output_type": "stream",
     "text": [
      "POSITIVE: Came over and had their \"Pick 2\" lunch combo and chose their best selling 1/2 chicken sandwich with quinoa.  Both were tasty, the chicken salad is a bit creamy but was perfect with quinoa on the side.  This is a good lunch joint, casual and clean! \n",
      "\n",
      "POSITIVE: Went here last night and got oysters, fried okra, fries, and onion rings. I cannot complain. The portions were great and tasty!!! I will definitely be back for more. I cannot wait to try the crawfish boudin and soft shell crab. \n",
      "\n",
      "POSITIVE: This restaurant was fantastic! \n",
      "The concept of eating without vision was intriguing. The dinner was filled with laughs and good conversation. \n",
      "\n",
      "We were lead in a line to our table and each person to their seat. This was not just dark but you could not see something right in front of your face. \n",
      "\n",
      "The waiters/waitresses were all blind and allowed us to see how aware you need to be without the vision. \n",
      "\n",
      "Taking away one sense is said to increase your other senses so as taste and hearing which I believed to be true in this experience. \n",
      "\n",
      "The meal was extremely delicious. I had the chicken and it was cooked to perfection. I also had a surprise beer which was a nice surprise. \n",
      "\n",
      "The whole experience was unlike anything I have ever done and I hope this spreads to other cities. \n",
      "\n",
      "A must do! \n",
      "\n",
      "NEGATIVE: They won't book new patients for same day appointments. My dog is sick but it's not necessarily urgent so I asked when I would be able to book an appointment and was told \"new patients book out at least 6 weeks in advance\" so just a heads up this seems like a great vet from other reviews but it'll be hard to get in their system to know \n",
      "\n"
     ]
    }
   ],
   "source": [
    "texts = val_texts[34:38]\n",
    "predictions = predict(nlp, texts)\n",
    "\n",
    "for p, t in zip(predictions, texts):\n",
    "    print(f\"{textcat.labels[p]}: {t} \\n\")"
   ]
  },
  {
   "cell_type": "markdown",
   "id": "386ff156",
   "metadata": {
    "papermill": {
     "duration": 0.033142,
     "end_time": "2021-11-24T14:58:52.162548",
     "exception": false,
     "start_time": "2021-11-24T14:58:52.129406",
     "status": "completed"
    },
    "tags": []
   },
   "source": [
    "It looks like your model is working well after going through the data just once. However you need to calculate some metric for the model's performance on the hold-out validation data.\n",
    "\n",
    "# Step 5: Evaluate The Model\n",
    "\n",
    "Implement a function that evaluates a `TextCategorizer` model. This function `evaluate` takes a model along with texts and labels. It returns the accuracy of the model, which is the number of correct predictions divided by all predictions.\n",
    "\n",
    "First, use the `predict` method you wrote earlier to get the predicted class for each text in `texts`. Then, find where the predicted labels match the true \"gold-standard\" labels and calculate the accuracy."
   ]
  },
  {
   "cell_type": "code",
   "execution_count": 14,
   "id": "15b2b429",
   "metadata": {
    "execution": {
     "iopub.execute_input": "2021-11-24T14:58:52.232169Z",
     "iopub.status.busy": "2021-11-24T14:58:52.231490Z",
     "iopub.status.idle": "2021-11-24T14:59:12.077899Z",
     "shell.execute_reply": "2021-11-24T14:59:12.078447Z",
     "shell.execute_reply.started": "2021-11-24T14:00:04.551118Z"
    },
    "papermill": {
     "duration": 19.882711,
     "end_time": "2021-11-24T14:59:12.078628",
     "exception": false,
     "start_time": "2021-11-24T14:58:52.195917",
     "status": "completed"
    },
    "tags": []
   },
   "outputs": [
    {
     "name": "stderr",
     "output_type": "stream",
     "text": [
      "[2021-11-24 14:58:52,464] [INFO] Created vocabulary\n",
      "[2021-11-24 14:58:52,466] [INFO] Finished initializing nlp object\n"
     ]
    },
    {
     "data": {
      "application/javascript": [
       "parent.postMessage({\"jupyterEvent\": \"custom.exercise_interaction\", \"data\": {\"outcomeType\": 1, \"valueTowardsCompletion\": 0.16666666666666666, \"interactionType\": 1, \"questionType\": 2, \"questionId\": \"5_EvaluateFunction\", \"learnToolsVersion\": \"0.3.4\", \"failureMessage\": \"\", \"exceptionClass\": \"\", \"trace\": \"\"}}, \"*\")"
      ],
      "text/plain": [
       "<IPython.core.display.Javascript object>"
      ]
     },
     "metadata": {},
     "output_type": "display_data"
    },
    {
     "data": {
      "text/markdown": [
       "<span style=\"color:#33cc33\">Correct</span>"
      ],
      "text/plain": [
       "Correct"
      ]
     },
     "metadata": {},
     "output_type": "display_data"
    }
   ],
   "source": [
    "def evaluate(model, texts, labels):\n",
    "    \"\"\" Returns the accuracy of a TextCategorizer model. \n",
    "    \n",
    "        Arguments\n",
    "        ---------\n",
    "        model: ScaPy model with a TextCategorizer\n",
    "        texts: Text samples, from load_data function\n",
    "        labels: True labels, from load_data function\n",
    "    \n",
    "    \"\"\"\n",
    "    # Get predictions from textcat model (using your predict method)\n",
    "    predicted_class = predict(model, texts)\n",
    "    \n",
    "    # From labels, get the true class as a list of integers (POSITIVE -> 1, NEGATIVE -> 0)\n",
    "    true_class = [int(each['cats']['POSITIVE']) for each in labels]\n",
    "    \n",
    "    # A boolean or int array indicating correct predictions\n",
    "    correct_predictions = predicted_class == true_class\n",
    "    \n",
    "    # The accuracy, number of correct predictions divided by all predictions\n",
    "    accuracy = correct_predictions.mean()\n",
    "    \n",
    "    return accuracy\n",
    "\n",
    "# Check your answer\n",
    "step_5.check()"
   ]
  },
  {
   "cell_type": "code",
   "execution_count": 15,
   "id": "ddfbc483",
   "metadata": {
    "execution": {
     "iopub.execute_input": "2021-11-24T14:59:12.152897Z",
     "iopub.status.busy": "2021-11-24T14:59:12.151645Z",
     "iopub.status.idle": "2021-11-24T14:59:12.158847Z",
     "shell.execute_reply": "2021-11-24T14:59:12.158321Z",
     "shell.execute_reply.started": "2021-11-24T13:58:55.003899Z"
    },
    "papermill": {
     "duration": 0.045442,
     "end_time": "2021-11-24T14:59:12.158996",
     "exception": false,
     "start_time": "2021-11-24T14:59:12.113554",
     "status": "completed"
    },
    "tags": []
   },
   "outputs": [
    {
     "data": {
      "application/javascript": [
       "parent.postMessage({\"jupyterEvent\": \"custom.exercise_interaction\", \"data\": {\"interactionType\": 3, \"questionType\": 2, \"questionId\": \"5_EvaluateFunction\", \"learnToolsVersion\": \"0.3.4\", \"valueTowardsCompletion\": 0.0, \"failureMessage\": \"\", \"exceptionClass\": \"\", \"trace\": \"\", \"outcomeType\": 4}}, \"*\")"
      ],
      "text/plain": [
       "<IPython.core.display.Javascript object>"
      ]
     },
     "metadata": {},
     "output_type": "display_data"
    },
    {
     "data": {
      "text/markdown": [
       "<span style=\"color:#33cc99\">Solution:</span> \n",
       "```python\n",
       "\n",
       "    def evaluate(model, texts, labels):\n",
       "        # Get predictions from textcat model\n",
       "        predicted_class = predict(model, texts)\n",
       "        \n",
       "        # From labels, get the true class as a list of integers (POSITIVE -> 1, NEGATIVE -> 0)\n",
       "        true_class = [int(each['cats']['POSITIVE']) for each in labels]\n",
       "        \n",
       "        # A boolean or int array indicating correct predictions\n",
       "        correct_predictions = predicted_class == true_class\n",
       "        \n",
       "        # The accuracy, number of correct predictions divided by all predictions\n",
       "        accuracy = correct_predictions.mean()\n",
       "        \n",
       "        return accuracy\n",
       "    \n",
       "```"
      ],
      "text/plain": [
       "Solution: \n",
       "```python\n",
       "\n",
       "    def evaluate(model, texts, labels):\n",
       "        # Get predictions from textcat model\n",
       "        predicted_class = predict(model, texts)\n",
       "        \n",
       "        # From labels, get the true class as a list of integers (POSITIVE -> 1, NEGATIVE -> 0)\n",
       "        true_class = [int(each['cats']['POSITIVE']) for each in labels]\n",
       "        \n",
       "        # A boolean or int array indicating correct predictions\n",
       "        correct_predictions = predicted_class == true_class\n",
       "        \n",
       "        # The accuracy, number of correct predictions divided by all predictions\n",
       "        accuracy = correct_predictions.mean()\n",
       "        \n",
       "        return accuracy\n",
       "    \n",
       "```"
      ]
     },
     "metadata": {},
     "output_type": "display_data"
    }
   ],
   "source": [
    "# Lines below will give you a hint or solution code\n",
    "#step_5.hint()\n",
    "step_5.solution()"
   ]
  },
  {
   "cell_type": "code",
   "execution_count": 16,
   "id": "cd99ef58",
   "metadata": {
    "execution": {
     "iopub.execute_input": "2021-11-24T14:59:12.233289Z",
     "iopub.status.busy": "2021-11-24T14:59:12.232633Z",
     "iopub.status.idle": "2021-11-24T14:59:23.266234Z",
     "shell.execute_reply": "2021-11-24T14:59:23.266759Z",
     "shell.execute_reply.started": "2021-11-24T14:00:50.442444Z"
    },
    "papermill": {
     "duration": 11.073159,
     "end_time": "2021-11-24T14:59:23.266944",
     "exception": false,
     "start_time": "2021-11-24T14:59:12.193785",
     "status": "completed"
    },
    "tags": []
   },
   "outputs": [
    {
     "name": "stdout",
     "output_type": "stream",
     "text": [
      "Accuracy: 0.9149\n"
     ]
    }
   ],
   "source": [
    "accuracy = evaluate(nlp, val_texts, val_labels)\n",
    "print(f\"Accuracy: {accuracy:.4f}\")"
   ]
  },
  {
   "cell_type": "markdown",
   "id": "1357ad96",
   "metadata": {
    "papermill": {
     "duration": 0.035312,
     "end_time": "2021-11-24T14:59:23.337998",
     "exception": false,
     "start_time": "2021-11-24T14:59:23.302686",
     "status": "completed"
    },
    "tags": []
   },
   "source": [
    "With the functions implemented, you can train and evaluate in a loop."
   ]
  },
  {
   "cell_type": "code",
   "execution_count": 17,
   "id": "32947c0c",
   "metadata": {
    "execution": {
     "iopub.execute_input": "2021-11-24T14:59:23.413417Z",
     "iopub.status.busy": "2021-11-24T14:59:23.412677Z",
     "iopub.status.idle": "2021-11-24T16:24:11.475772Z",
     "shell.execute_reply": "2021-11-24T16:24:11.476336Z",
     "shell.execute_reply.started": "2021-11-24T14:01:11.291580Z"
    },
    "papermill": {
     "duration": 5088.102846,
     "end_time": "2021-11-24T16:24:11.476530",
     "exception": false,
     "start_time": "2021-11-24T14:59:23.373684",
     "status": "completed"
    },
    "tags": []
   },
   "outputs": [
    {
     "name": "stdout",
     "output_type": "stream",
     "text": [
      "Loss: 4775.517 \t Accuracy: 0.924\n",
      "Loss: 4499.027 \t Accuracy: 0.927\n",
      "Loss: 4401.864 \t Accuracy: 0.933\n",
      "Loss: 4358.448 \t Accuracy: 0.932\n",
      "Loss: 4192.791 \t Accuracy: 0.923\n"
     ]
    }
   ],
   "source": [
    "# This may take a while to run!\n",
    "n_iters = 5\n",
    "for i in range(n_iters):\n",
    "    losses = train(nlp, train_data, optimizer)\n",
    "    accuracy = evaluate(nlp, val_texts, val_labels)\n",
    "    print(f\"Loss: {losses['textcat']:.3f} \\t Accuracy: {accuracy:.3f}\")"
   ]
  },
  {
   "cell_type": "markdown",
   "id": "bfb22e1a",
   "metadata": {
    "papermill": {
     "duration": 0.036745,
     "end_time": "2021-11-24T16:24:11.550227",
     "exception": false,
     "start_time": "2021-11-24T16:24:11.513482",
     "status": "completed"
    },
    "tags": []
   },
   "source": [
    "# Step 6: Keep Improving\n",
    "\n",
    "You've built the necessary components to train a text classifier with spaCy. What could you do further to optimize the model?\n",
    "\n",
    "Run the next line to check your answer."
   ]
  },
  {
   "cell_type": "code",
   "execution_count": 18,
   "id": "e203c030",
   "metadata": {
    "execution": {
     "iopub.execute_input": "2021-11-24T16:24:11.629322Z",
     "iopub.status.busy": "2021-11-24T16:24:11.628441Z",
     "iopub.status.idle": "2021-11-24T16:24:11.633279Z",
     "shell.execute_reply": "2021-11-24T16:24:11.633910Z",
     "shell.execute_reply.started": "2021-11-24T14:42:12.170685Z"
    },
    "papermill": {
     "duration": 0.047365,
     "end_time": "2021-11-24T16:24:11.634104",
     "exception": false,
     "start_time": "2021-11-24T16:24:11.586739",
     "status": "completed"
    },
    "tags": []
   },
   "outputs": [
    {
     "data": {
      "application/javascript": [
       "parent.postMessage({\"jupyterEvent\": \"custom.exercise_interaction\", \"data\": {\"interactionType\": 3, \"questionType\": 4, \"questionId\": \"6_ModelOptimizationQuestion\", \"learnToolsVersion\": \"0.3.4\", \"valueTowardsCompletion\": 0.0, \"failureMessage\": \"\", \"exceptionClass\": \"\", \"trace\": \"\", \"outcomeType\": 4}}, \"*\")"
      ],
      "text/plain": [
       "<IPython.core.display.Javascript object>"
      ]
     },
     "metadata": {},
     "output_type": "display_data"
    },
    {
     "data": {
      "text/markdown": [
       "<span style=\"color:#33cc99\">Solution:</span> Answer: There are various hyperparameters to work with here. The biggest one is the TextCategorizer architecture. You used the simplest model which trains faster but likely has worse performance than the CNN and ensemble models. "
      ],
      "text/plain": [
       "Solution: Answer: There are various hyperparameters to work with here. The biggest one is the TextCategorizer architecture. You used the simplest model which trains faster but likely has worse performance than the CNN and ensemble models. "
      ]
     },
     "metadata": {},
     "output_type": "display_data"
    }
   ],
   "source": [
    "# Check your answer (Run this code cell to receive credit!)\n",
    "step_6.solution()"
   ]
  },
  {
   "cell_type": "markdown",
   "id": "9b7fe897",
   "metadata": {
    "papermill": {
     "duration": 0.037401,
     "end_time": "2021-11-24T16:24:11.709767",
     "exception": false,
     "start_time": "2021-11-24T16:24:11.672366",
     "status": "completed"
    },
    "tags": []
   },
   "source": [
    "## Keep Going\n",
    "\n",
    "The next step is a big one. See how you can **[represent tokens as vectors that describe their meaning](https://www.kaggle.com/matleonard/word-vectors)**, and plug those into your machine learning models."
   ]
  },
  {
   "cell_type": "markdown",
   "id": "fd00d86d",
   "metadata": {
    "papermill": {
     "duration": 0.037989,
     "end_time": "2021-11-24T16:24:11.785977",
     "exception": false,
     "start_time": "2021-11-24T16:24:11.747988",
     "status": "completed"
    },
    "tags": []
   },
   "source": [
    "---\n",
    "\n",
    "\n",
    "\n",
    "\n",
    "*Have questions or comments? Visit the [course discussion forum](https://www.kaggle.com/learn/natural-language-processing/discussion) to chat with other learners.*"
   ]
  }
 ],
 "metadata": {
  "kernelspec": {
   "display_name": "Python 3",
   "language": "python",
   "name": "python3"
  },
  "language_info": {
   "codemirror_mode": {
    "name": "ipython",
    "version": 3
   },
   "file_extension": ".py",
   "mimetype": "text/x-python",
   "name": "python",
   "nbconvert_exporter": "python",
   "pygments_lexer": "ipython3",
   "version": "3.7.10"
  },
  "papermill": {
   "default_parameters": {},
   "duration": 6057.901696,
   "end_time": "2021-11-24T16:24:14.869949",
   "environment_variables": {},
   "exception": null,
   "input_path": "__notebook__.ipynb",
   "output_path": "__notebook__.ipynb",
   "parameters": {},
   "start_time": "2021-11-24T14:43:16.968253",
   "version": "2.3.3"
  }
 },
 "nbformat": 4,
 "nbformat_minor": 5
}
