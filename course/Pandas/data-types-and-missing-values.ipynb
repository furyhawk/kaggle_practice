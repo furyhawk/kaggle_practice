{
 "cells": [
  {
   "cell_type": "markdown",
   "id": "b8f7ef20",
   "metadata": {
    "papermill": {
     "duration": 0.015369,
     "end_time": "2021-11-08T23:59:54.614583",
     "exception": false,
     "start_time": "2021-11-08T23:59:54.599214",
     "status": "completed"
    },
    "tags": []
   },
   "source": [
    "# Introduction\n",
    "\n",
    "In this tutorial, you'll learn how to investigate data types within a DataFrame or Series.  You'll also learn how to find and replace entries.\n",
    "\n",
    "**To start the exercise for this topic, please click [here](https://www.kaggle.com/kernels/fork/598826).**\n",
    "\n",
    "# Dtypes\n",
    "\n",
    "The data type for a column in a DataFrame or a Series is known as the **dtype**.\n",
    "\n",
    "You can use the `dtype` property to grab the type of a specific column.  For instance, we can get the dtype of the `price` column in the `reviews` DataFrame:"
   ]
  },
  {
   "cell_type": "code",
   "execution_count": 1,
   "id": "c2b868fa",
   "metadata": {
    "_kg_hide-input": true,
    "execution": {
     "iopub.execute_input": "2021-11-08T23:59:54.638188Z",
     "iopub.status.busy": "2021-11-08T23:59:54.637320Z",
     "iopub.status.idle": "2021-11-08T23:59:56.361576Z",
     "shell.execute_reply": "2021-11-08T23:59:56.360958Z"
    },
    "papermill": {
     "duration": 1.736773,
     "end_time": "2021-11-08T23:59:56.361694",
     "exception": false,
     "start_time": "2021-11-08T23:59:54.624921",
     "status": "completed"
    },
    "tags": []
   },
   "outputs": [],
   "source": [
    "\n",
    "import pandas as pd\n",
    "reviews = pd.read_csv(\"../input/wine-reviews/winemag-data-130k-v2.csv\", index_col=0)\n",
    "pd.set_option('max_rows', 5)"
   ]
  },
  {
   "cell_type": "code",
   "execution_count": 2,
   "id": "2410d757",
   "metadata": {
    "collapsed": true,
    "execution": {
     "iopub.execute_input": "2021-11-08T23:59:56.394194Z",
     "iopub.status.busy": "2021-11-08T23:59:56.393456Z",
     "iopub.status.idle": "2021-11-08T23:59:56.398385Z",
     "shell.execute_reply": "2021-11-08T23:59:56.397981Z"
    },
    "papermill": {
     "duration": 0.026737,
     "end_time": "2021-11-08T23:59:56.398499",
     "exception": false,
     "start_time": "2021-11-08T23:59:56.371762",
     "status": "completed"
    },
    "scrolled": true,
    "tags": []
   },
   "outputs": [
    {
     "data": {
      "text/plain": [
       "dtype('float64')"
      ]
     },
     "execution_count": 2,
     "metadata": {},
     "output_type": "execute_result"
    }
   ],
   "source": [
    "reviews.price.dtype"
   ]
  },
  {
   "cell_type": "markdown",
   "id": "79244d6c",
   "metadata": {
    "papermill": {
     "duration": 0.009896,
     "end_time": "2021-11-08T23:59:56.418645",
     "exception": false,
     "start_time": "2021-11-08T23:59:56.408749",
     "status": "completed"
    },
    "tags": []
   },
   "source": [
    "Alternatively, the `dtypes` property returns the `dtype` of _every_ column in the DataFrame:"
   ]
  },
  {
   "cell_type": "code",
   "execution_count": 3,
   "id": "8be1c6a3",
   "metadata": {
    "collapsed": true,
    "execution": {
     "iopub.execute_input": "2021-11-08T23:59:56.446117Z",
     "iopub.status.busy": "2021-11-08T23:59:56.445562Z",
     "iopub.status.idle": "2021-11-08T23:59:56.450718Z",
     "shell.execute_reply": "2021-11-08T23:59:56.450155Z"
    },
    "papermill": {
     "duration": 0.022265,
     "end_time": "2021-11-08T23:59:56.450882",
     "exception": false,
     "start_time": "2021-11-08T23:59:56.428617",
     "status": "completed"
    },
    "tags": []
   },
   "outputs": [
    {
     "data": {
      "text/plain": [
       "country        object\n",
       "description    object\n",
       "                ...  \n",
       "variety        object\n",
       "winery         object\n",
       "Length: 13, dtype: object"
      ]
     },
     "execution_count": 3,
     "metadata": {},
     "output_type": "execute_result"
    }
   ],
   "source": [
    "reviews.dtypes"
   ]
  },
  {
   "cell_type": "markdown",
   "id": "87d2b821",
   "metadata": {
    "papermill": {
     "duration": 0.015394,
     "end_time": "2021-11-08T23:59:56.481534",
     "exception": false,
     "start_time": "2021-11-08T23:59:56.466140",
     "status": "completed"
    },
    "tags": []
   },
   "source": [
    "Data types tell us something about how pandas is storing the data internally. `float64` means that it's using a 64-bit floating point number; `int64` means a similarly sized integer instead, and so on.\n",
    "\n",
    "One peculiarity to keep in mind (and on display very clearly here) is that columns consisting entirely of strings do not get their own type; they are instead given the `object` type.\n",
    "\n",
    "It's possible to convert a column of one type into another wherever such a conversion makes sense by using the `astype()` function. For example, we may transform the `points` column from its existing `int64` data type into a `float64` data type:"
   ]
  },
  {
   "cell_type": "code",
   "execution_count": 4,
   "id": "f436b20b",
   "metadata": {
    "collapsed": true,
    "execution": {
     "iopub.execute_input": "2021-11-08T23:59:56.516465Z",
     "iopub.status.busy": "2021-11-08T23:59:56.515600Z",
     "iopub.status.idle": "2021-11-08T23:59:56.523179Z",
     "shell.execute_reply": "2021-11-08T23:59:56.523727Z"
    },
    "papermill": {
     "duration": 0.026861,
     "end_time": "2021-11-08T23:59:56.523908",
     "exception": false,
     "start_time": "2021-11-08T23:59:56.497047",
     "status": "completed"
    },
    "scrolled": true,
    "tags": []
   },
   "outputs": [
    {
     "data": {
      "text/plain": [
       "0         87.0\n",
       "1         87.0\n",
       "          ... \n",
       "129969    90.0\n",
       "129970    90.0\n",
       "Name: points, Length: 129971, dtype: float64"
      ]
     },
     "execution_count": 4,
     "metadata": {},
     "output_type": "execute_result"
    }
   ],
   "source": [
    "reviews.points.astype('float64')"
   ]
  },
  {
   "cell_type": "markdown",
   "id": "9e96029b",
   "metadata": {
    "papermill": {
     "duration": 0.015365,
     "end_time": "2021-11-08T23:59:56.554988",
     "exception": false,
     "start_time": "2021-11-08T23:59:56.539623",
     "status": "completed"
    },
    "tags": []
   },
   "source": [
    "A DataFrame or Series index has its own `dtype`, too:"
   ]
  },
  {
   "cell_type": "code",
   "execution_count": 5,
   "id": "a659f8d2",
   "metadata": {
    "collapsed": true,
    "execution": {
     "iopub.execute_input": "2021-11-08T23:59:56.589363Z",
     "iopub.status.busy": "2021-11-08T23:59:56.588656Z",
     "iopub.status.idle": "2021-11-08T23:59:56.596650Z",
     "shell.execute_reply": "2021-11-08T23:59:56.596062Z"
    },
    "papermill": {
     "duration": 0.025996,
     "end_time": "2021-11-08T23:59:56.596812",
     "exception": false,
     "start_time": "2021-11-08T23:59:56.570816",
     "status": "completed"
    },
    "tags": []
   },
   "outputs": [
    {
     "data": {
      "text/plain": [
       "dtype('int64')"
      ]
     },
     "execution_count": 5,
     "metadata": {},
     "output_type": "execute_result"
    }
   ],
   "source": [
    "reviews.index.dtype"
   ]
  },
  {
   "cell_type": "markdown",
   "id": "59dd6cff",
   "metadata": {
    "papermill": {
     "duration": 0.01656,
     "end_time": "2021-11-08T23:59:56.630416",
     "exception": false,
     "start_time": "2021-11-08T23:59:56.613856",
     "status": "completed"
    },
    "tags": []
   },
   "source": [
    "Pandas also supports more exotic data types, such as categorical data and timeseries data. Because these data types are more rarely used, we will omit them until a much later section of this tutorial."
   ]
  },
  {
   "cell_type": "markdown",
   "id": "518fc8ff",
   "metadata": {
    "papermill": {
     "duration": 0.016878,
     "end_time": "2021-11-08T23:59:56.664540",
     "exception": false,
     "start_time": "2021-11-08T23:59:56.647662",
     "status": "completed"
    },
    "tags": []
   },
   "source": [
    "# Missing data\n",
    "\n",
    "Entries missing values are given the value `NaN`, short for \"Not a Number\". For technical reasons these `NaN` values are always of the `float64` dtype.\n",
    "\n",
    "Pandas provides some methods specific to missing data. To select `NaN` entries you can use `pd.isnull()` (or its companion `pd.notnull()`). This is meant to be used thusly:"
   ]
  },
  {
   "cell_type": "code",
   "execution_count": 6,
   "id": "c8262238",
   "metadata": {
    "collapsed": true,
    "execution": {
     "iopub.execute_input": "2021-11-08T23:59:56.717094Z",
     "iopub.status.busy": "2021-11-08T23:59:56.716436Z",
     "iopub.status.idle": "2021-11-08T23:59:56.741925Z",
     "shell.execute_reply": "2021-11-08T23:59:56.742522Z"
    },
    "papermill": {
     "duration": 0.061254,
     "end_time": "2021-11-08T23:59:56.742710",
     "exception": false,
     "start_time": "2021-11-08T23:59:56.681456",
     "status": "completed"
    },
    "tags": []
   },
   "outputs": [
    {
     "data": {
      "text/html": [
       "<div>\n",
       "<style scoped>\n",
       "    .dataframe tbody tr th:only-of-type {\n",
       "        vertical-align: middle;\n",
       "    }\n",
       "\n",
       "    .dataframe tbody tr th {\n",
       "        vertical-align: top;\n",
       "    }\n",
       "\n",
       "    .dataframe thead th {\n",
       "        text-align: right;\n",
       "    }\n",
       "</style>\n",
       "<table border=\"1\" class=\"dataframe\">\n",
       "  <thead>\n",
       "    <tr style=\"text-align: right;\">\n",
       "      <th></th>\n",
       "      <th>country</th>\n",
       "      <th>description</th>\n",
       "      <th>designation</th>\n",
       "      <th>points</th>\n",
       "      <th>price</th>\n",
       "      <th>province</th>\n",
       "      <th>region_1</th>\n",
       "      <th>region_2</th>\n",
       "      <th>taster_name</th>\n",
       "      <th>taster_twitter_handle</th>\n",
       "      <th>title</th>\n",
       "      <th>variety</th>\n",
       "      <th>winery</th>\n",
       "    </tr>\n",
       "  </thead>\n",
       "  <tbody>\n",
       "    <tr>\n",
       "      <th>913</th>\n",
       "      <td>NaN</td>\n",
       "      <td>Amber in color, this wine has aromas of peach ...</td>\n",
       "      <td>Asureti Valley</td>\n",
       "      <td>87</td>\n",
       "      <td>30.0</td>\n",
       "      <td>NaN</td>\n",
       "      <td>NaN</td>\n",
       "      <td>NaN</td>\n",
       "      <td>Mike DeSimone</td>\n",
       "      <td>@worldwineguys</td>\n",
       "      <td>Gotsa Family Wines 2014 Asureti Valley Chinuri</td>\n",
       "      <td>Chinuri</td>\n",
       "      <td>Gotsa Family Wines</td>\n",
       "    </tr>\n",
       "    <tr>\n",
       "      <th>3131</th>\n",
       "      <td>NaN</td>\n",
       "      <td>Soft, fruity and juicy, this is a pleasant, si...</td>\n",
       "      <td>Partager</td>\n",
       "      <td>83</td>\n",
       "      <td>NaN</td>\n",
       "      <td>NaN</td>\n",
       "      <td>NaN</td>\n",
       "      <td>NaN</td>\n",
       "      <td>Roger Voss</td>\n",
       "      <td>@vossroger</td>\n",
       "      <td>Barton &amp; Guestier NV Partager Red</td>\n",
       "      <td>Red Blend</td>\n",
       "      <td>Barton &amp; Guestier</td>\n",
       "    </tr>\n",
       "    <tr>\n",
       "      <th>...</th>\n",
       "      <td>...</td>\n",
       "      <td>...</td>\n",
       "      <td>...</td>\n",
       "      <td>...</td>\n",
       "      <td>...</td>\n",
       "      <td>...</td>\n",
       "      <td>...</td>\n",
       "      <td>...</td>\n",
       "      <td>...</td>\n",
       "      <td>...</td>\n",
       "      <td>...</td>\n",
       "      <td>...</td>\n",
       "      <td>...</td>\n",
       "    </tr>\n",
       "    <tr>\n",
       "      <th>129590</th>\n",
       "      <td>NaN</td>\n",
       "      <td>A blend of 60% Syrah, 30% Cabernet Sauvignon a...</td>\n",
       "      <td>Shah</td>\n",
       "      <td>90</td>\n",
       "      <td>30.0</td>\n",
       "      <td>NaN</td>\n",
       "      <td>NaN</td>\n",
       "      <td>NaN</td>\n",
       "      <td>Mike DeSimone</td>\n",
       "      <td>@worldwineguys</td>\n",
       "      <td>Büyülübağ 2012 Shah Red</td>\n",
       "      <td>Red Blend</td>\n",
       "      <td>Büyülübağ</td>\n",
       "    </tr>\n",
       "    <tr>\n",
       "      <th>129900</th>\n",
       "      <td>NaN</td>\n",
       "      <td>This wine offers a delightful bouquet of black...</td>\n",
       "      <td>NaN</td>\n",
       "      <td>91</td>\n",
       "      <td>32.0</td>\n",
       "      <td>NaN</td>\n",
       "      <td>NaN</td>\n",
       "      <td>NaN</td>\n",
       "      <td>Mike DeSimone</td>\n",
       "      <td>@worldwineguys</td>\n",
       "      <td>Psagot 2014 Merlot</td>\n",
       "      <td>Merlot</td>\n",
       "      <td>Psagot</td>\n",
       "    </tr>\n",
       "  </tbody>\n",
       "</table>\n",
       "<p>63 rows × 13 columns</p>\n",
       "</div>"
      ],
      "text/plain": [
       "       country                                        description  \\\n",
       "913        NaN  Amber in color, this wine has aromas of peach ...   \n",
       "3131       NaN  Soft, fruity and juicy, this is a pleasant, si...   \n",
       "...        ...                                                ...   \n",
       "129590     NaN  A blend of 60% Syrah, 30% Cabernet Sauvignon a...   \n",
       "129900     NaN  This wine offers a delightful bouquet of black...   \n",
       "\n",
       "           designation  points  price province region_1 region_2  \\\n",
       "913     Asureti Valley      87   30.0      NaN      NaN      NaN   \n",
       "3131          Partager      83    NaN      NaN      NaN      NaN   \n",
       "...                ...     ...    ...      ...      ...      ...   \n",
       "129590            Shah      90   30.0      NaN      NaN      NaN   \n",
       "129900             NaN      91   32.0      NaN      NaN      NaN   \n",
       "\n",
       "          taster_name taster_twitter_handle  \\\n",
       "913     Mike DeSimone        @worldwineguys   \n",
       "3131       Roger Voss            @vossroger   \n",
       "...               ...                   ...   \n",
       "129590  Mike DeSimone        @worldwineguys   \n",
       "129900  Mike DeSimone        @worldwineguys   \n",
       "\n",
       "                                                 title    variety  \\\n",
       "913     Gotsa Family Wines 2014 Asureti Valley Chinuri    Chinuri   \n",
       "3131                 Barton & Guestier NV Partager Red  Red Blend   \n",
       "...                                                ...        ...   \n",
       "129590                         Büyülübağ 2012 Shah Red  Red Blend   \n",
       "129900                              Psagot 2014 Merlot     Merlot   \n",
       "\n",
       "                    winery  \n",
       "913     Gotsa Family Wines  \n",
       "3131     Barton & Guestier  \n",
       "...                    ...  \n",
       "129590           Büyülübağ  \n",
       "129900              Psagot  \n",
       "\n",
       "[63 rows x 13 columns]"
      ]
     },
     "execution_count": 6,
     "metadata": {},
     "output_type": "execute_result"
    }
   ],
   "source": [
    "reviews[pd.isnull(reviews.country)]"
   ]
  },
  {
   "cell_type": "markdown",
   "id": "d668aa19",
   "metadata": {
    "papermill": {
     "duration": 0.017176,
     "end_time": "2021-11-08T23:59:56.777567",
     "exception": false,
     "start_time": "2021-11-08T23:59:56.760391",
     "status": "completed"
    },
    "tags": []
   },
   "source": [
    "Replacing missing values is a common operation.  Pandas provides a really handy method for this problem: `fillna()`. `fillna()` provides a few different strategies for mitigating such data. For example, we can simply replace each `NaN` with an `\"Unknown\"`:"
   ]
  },
  {
   "cell_type": "code",
   "execution_count": 7,
   "id": "309d7132",
   "metadata": {
    "collapsed": true,
    "execution": {
     "iopub.execute_input": "2021-11-08T23:59:56.816285Z",
     "iopub.status.busy": "2021-11-08T23:59:56.815615Z",
     "iopub.status.idle": "2021-11-08T23:59:56.829924Z",
     "shell.execute_reply": "2021-11-08T23:59:56.830450Z"
    },
    "papermill": {
     "duration": 0.035436,
     "end_time": "2021-11-08T23:59:56.830625",
     "exception": false,
     "start_time": "2021-11-08T23:59:56.795189",
     "status": "completed"
    },
    "tags": []
   },
   "outputs": [
    {
     "data": {
      "text/plain": [
       "0         Unknown\n",
       "1         Unknown\n",
       "           ...   \n",
       "129969    Unknown\n",
       "129970    Unknown\n",
       "Name: region_2, Length: 129971, dtype: object"
      ]
     },
     "execution_count": 7,
     "metadata": {},
     "output_type": "execute_result"
    }
   ],
   "source": [
    "reviews.region_2.fillna(\"Unknown\")"
   ]
  },
  {
   "cell_type": "markdown",
   "id": "41f8d36e",
   "metadata": {
    "papermill": {
     "duration": 0.017916,
     "end_time": "2021-11-08T23:59:56.867156",
     "exception": false,
     "start_time": "2021-11-08T23:59:56.849240",
     "status": "completed"
    },
    "tags": []
   },
   "source": [
    "Or we could fill each missing value with the first non-null value that appears sometime after the given record in the database. This is known as the backfill strategy."
   ]
  },
  {
   "cell_type": "markdown",
   "id": "a12ea71d",
   "metadata": {
    "papermill": {
     "duration": 0.018004,
     "end_time": "2021-11-08T23:59:56.903696",
     "exception": false,
     "start_time": "2021-11-08T23:59:56.885692",
     "status": "completed"
    },
    "tags": []
   },
   "source": [
    "Alternatively, we may have a non-null value that we would like to replace. For example, suppose that since this dataset was published, reviewer Kerin O'Keefe has changed her Twitter handle from `@kerinokeefe` to `@kerino`. One way to reflect this in the dataset is using the `replace()` method:"
   ]
  },
  {
   "cell_type": "code",
   "execution_count": 8,
   "id": "f7821624",
   "metadata": {
    "collapsed": true,
    "execution": {
     "iopub.execute_input": "2021-11-08T23:59:56.951379Z",
     "iopub.status.busy": "2021-11-08T23:59:56.950680Z",
     "iopub.status.idle": "2021-11-08T23:59:56.953365Z",
     "shell.execute_reply": "2021-11-08T23:59:56.953892Z"
    },
    "papermill": {
     "duration": 0.031992,
     "end_time": "2021-11-08T23:59:56.954056",
     "exception": false,
     "start_time": "2021-11-08T23:59:56.922064",
     "status": "completed"
    },
    "tags": []
   },
   "outputs": [
    {
     "data": {
      "text/plain": [
       "0            @kerino\n",
       "1         @vossroger\n",
       "             ...    \n",
       "129969    @vossroger\n",
       "129970    @vossroger\n",
       "Name: taster_twitter_handle, Length: 129971, dtype: object"
      ]
     },
     "execution_count": 8,
     "metadata": {},
     "output_type": "execute_result"
    }
   ],
   "source": [
    "reviews.taster_twitter_handle.replace(\"@kerinokeefe\", \"@kerino\")"
   ]
  },
  {
   "cell_type": "markdown",
   "id": "5c34a1ee",
   "metadata": {
    "papermill": {
     "duration": 0.01953,
     "end_time": "2021-11-08T23:59:56.992089",
     "exception": false,
     "start_time": "2021-11-08T23:59:56.972559",
     "status": "completed"
    },
    "tags": []
   },
   "source": [
    "The `replace()` method is worth mentioning here because it's handy for replacing missing data which is given some kind of sentinel value in the dataset: things like `\"Unknown\"`, `\"Undisclosed\"`, `\"Invalid\"`, and so on.\n",
    "\n",
    "# Your turn\n",
    "\n",
    "If you haven't started the exercise, you can **[get started here](https://www.kaggle.com/kernels/fork/598826)**."
   ]
  },
  {
   "cell_type": "markdown",
   "id": "a08a0fa8",
   "metadata": {
    "papermill": {
     "duration": 0.018112,
     "end_time": "2021-11-08T23:59:57.028699",
     "exception": false,
     "start_time": "2021-11-08T23:59:57.010587",
     "status": "completed"
    },
    "tags": []
   },
   "source": [
    "---\n",
    "\n",
    "\n",
    "\n",
    "\n",
    "*Have questions or comments? Visit the [course discussion forum](https://www.kaggle.com/learn/pandas/discussion) to chat with other learners.*"
   ]
  }
 ],
 "metadata": {
  "kernelspec": {
   "display_name": "Python 3",
   "language": "python",
   "name": "python3"
  },
  "language_info": {
   "codemirror_mode": {
    "name": "ipython",
    "version": 3
   },
   "file_extension": ".py",
   "mimetype": "text/x-python",
   "name": "python",
   "nbconvert_exporter": "python",
   "pygments_lexer": "ipython3",
   "version": "3.7.10"
  },
  "papermill": {
   "default_parameters": {},
   "duration": 13.727771,
   "end_time": "2021-11-08T23:59:57.858373",
   "environment_variables": {},
   "exception": null,
   "input_path": "__notebook__.ipynb",
   "output_path": "__notebook__.ipynb",
   "parameters": {},
   "start_time": "2021-11-08T23:59:44.130602",
   "version": "2.3.3"
  }
 },
 "nbformat": 4,
 "nbformat_minor": 5
}
