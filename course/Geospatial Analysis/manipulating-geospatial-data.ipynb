{
 "cells": [
  {
   "cell_type": "markdown",
   "id": "023daed8",
   "metadata": {
    "papermill": {
     "duration": 0.013888,
     "end_time": "2021-11-09T00:08:32.465585",
     "exception": false,
     "start_time": "2021-11-09T00:08:32.451697",
     "status": "completed"
    },
    "tags": []
   },
   "source": [
    "# Introduction\n",
    "\n",
    "In this tutorial, you'll learn about two common manipulations for geospatial data: **geocoding** and **table joins**."
   ]
  },
  {
   "cell_type": "code",
   "execution_count": 1,
   "id": "af207c52",
   "metadata": {
    "_kg_hide-input": true,
    "_kg_hide-output": true,
    "execution": {
     "iopub.execute_input": "2021-11-09T00:08:32.503843Z",
     "iopub.status.busy": "2021-11-09T00:08:32.501320Z",
     "iopub.status.idle": "2021-11-09T00:08:33.301408Z",
     "shell.execute_reply": "2021-11-09T00:08:33.300573Z"
    },
    "papermill": {
     "duration": 0.821958,
     "end_time": "2021-11-09T00:08:33.301579",
     "exception": false,
     "start_time": "2021-11-09T00:08:32.479621",
     "status": "completed"
    },
    "tags": []
   },
   "outputs": [],
   "source": [
    "\n",
    "import pandas as pd\n",
    "import geopandas as gpd\n",
    "import numpy as np\n",
    "import folium\n",
    "from folium import Marker"
   ]
  },
  {
   "cell_type": "markdown",
   "id": "5f69541f",
   "metadata": {
    "papermill": {
     "duration": 0.011851,
     "end_time": "2021-11-09T00:08:33.327389",
     "exception": false,
     "start_time": "2021-11-09T00:08:33.315538",
     "status": "completed"
    },
    "tags": []
   },
   "source": [
    "# Geocoding\n",
    "\n",
    "**Geocoding** is the process of converting the name of a place or an address to a location on a map.  If you have ever looked up a geographic location based on a landmark description with [Google Maps](https://www.google.com/maps), [Bing Maps](https://www.bing.com/maps), or [Baidu Maps](https://map.baidu.com/), for instance, then you have used a geocoder!\n",
    "\n",
    "![](https://i.imgur.com/1IrgZQq.png)\n",
    "\n",
    "We'll use geopy to do all of our geocoding."
   ]
  },
  {
   "cell_type": "code",
   "execution_count": 2,
   "id": "bdb6739f",
   "metadata": {
    "execution": {
     "iopub.execute_input": "2021-11-09T00:08:33.356433Z",
     "iopub.status.busy": "2021-11-09T00:08:33.355493Z",
     "iopub.status.idle": "2021-11-09T00:08:33.458299Z",
     "shell.execute_reply": "2021-11-09T00:08:33.457597Z"
    },
    "papermill": {
     "duration": 0.118721,
     "end_time": "2021-11-09T00:08:33.458447",
     "exception": false,
     "start_time": "2021-11-09T00:08:33.339726",
     "status": "completed"
    },
    "tags": []
   },
   "outputs": [],
   "source": [
    "from geopy.geocoders import Nominatim"
   ]
  },
  {
   "cell_type": "markdown",
   "id": "6f4da939",
   "metadata": {
    "papermill": {
     "duration": 0.011929,
     "end_time": "2021-11-09T00:08:33.482186",
     "exception": false,
     "start_time": "2021-11-09T00:08:33.470257",
     "status": "completed"
    },
    "tags": []
   },
   "source": [
    "In the code cell above, [`Nominatim`](https://nominatim.openstreetmap.org/) refers to the geocoding software that will be used to generate locations. \n",
    "\n",
    "We begin by instantiating the geocoder.  Then, we need only apply the name or address as a Python string. (In this case, we supply `\"Pyramid of Khufu\"`, also known as the Great Pyramid of Giza.)\n",
    "\n",
    "If the geocoding is successful, it returns a `geopy.location.Location` object with two important attributes:\n",
    "- the \"point\" attribute contains the (latitude, longitude) location, and\n",
    "- the \"address\" attribute contains the full address."
   ]
  },
  {
   "cell_type": "code",
   "execution_count": 3,
   "id": "a0f8ee34",
   "metadata": {
    "execution": {
     "iopub.execute_input": "2021-11-09T00:08:33.513173Z",
     "iopub.status.busy": "2021-11-09T00:08:33.512428Z",
     "iopub.status.idle": "2021-11-09T00:08:34.373245Z",
     "shell.execute_reply": "2021-11-09T00:08:34.372701Z"
    },
    "papermill": {
     "duration": 0.879618,
     "end_time": "2021-11-09T00:08:34.373404",
     "exception": false,
     "start_time": "2021-11-09T00:08:33.493786",
     "status": "completed"
    },
    "tags": []
   },
   "outputs": [
    {
     "name": "stdout",
     "output_type": "stream",
     "text": [
      "29 58m 44.9758s N, 31 8m 3.17634s E\n",
      "هرم خوفو, شارع ابو الهول السياحي, نزلة البطران, الجيزة, محافظة الجيزة, 12556, مصر\n"
     ]
    }
   ],
   "source": [
    "geolocator = Nominatim(user_agent=\"kaggle_learn\")\n",
    "location = geolocator.geocode(\"Pyramid of Khufu\")\n",
    "\n",
    "print(location.point)\n",
    "print(location.address)"
   ]
  },
  {
   "cell_type": "markdown",
   "id": "68d8b89d",
   "metadata": {
    "papermill": {
     "duration": 0.012584,
     "end_time": "2021-11-09T00:08:34.398610",
     "exception": false,
     "start_time": "2021-11-09T00:08:34.386026",
     "status": "completed"
    },
    "tags": []
   },
   "source": [
    "The value for the \"point\" attribute is a `geopy.point.Point` object, and we can get the latitude and longitude from the `latitude` and `longitude` attributes, respectively."
   ]
  },
  {
   "cell_type": "code",
   "execution_count": 4,
   "id": "376e460a",
   "metadata": {
    "execution": {
     "iopub.execute_input": "2021-11-09T00:08:34.427876Z",
     "iopub.status.busy": "2021-11-09T00:08:34.426814Z",
     "iopub.status.idle": "2021-11-09T00:08:34.432600Z",
     "shell.execute_reply": "2021-11-09T00:08:34.433075Z"
    },
    "papermill": {
     "duration": 0.02175,
     "end_time": "2021-11-09T00:08:34.433293",
     "exception": false,
     "start_time": "2021-11-09T00:08:34.411543",
     "status": "completed"
    },
    "tags": []
   },
   "outputs": [
    {
     "name": "stdout",
     "output_type": "stream",
     "text": [
      "Latitude: 29.97915995\n",
      "Longitude: 31.134215650388754\n"
     ]
    }
   ],
   "source": [
    "point = location.point\n",
    "print(\"Latitude:\", point.latitude)\n",
    "print(\"Longitude:\", point.longitude)"
   ]
  },
  {
   "cell_type": "markdown",
   "id": "aea11059",
   "metadata": {
    "papermill": {
     "duration": 0.012129,
     "end_time": "2021-11-09T00:08:34.458600",
     "exception": false,
     "start_time": "2021-11-09T00:08:34.446471",
     "status": "completed"
    },
    "tags": []
   },
   "source": [
    "It's often the case that we'll need to geocode many different addresses.  For instance, say we want to obtain the locations of 100 top universities in Europe."
   ]
  },
  {
   "cell_type": "code",
   "execution_count": 5,
   "id": "5be8f655",
   "metadata": {
    "execution": {
     "iopub.execute_input": "2021-11-09T00:08:34.487574Z",
     "iopub.status.busy": "2021-11-09T00:08:34.486848Z",
     "iopub.status.idle": "2021-11-09T00:08:34.556508Z",
     "shell.execute_reply": "2021-11-09T00:08:34.555847Z"
    },
    "papermill": {
     "duration": 0.085474,
     "end_time": "2021-11-09T00:08:34.556654",
     "exception": false,
     "start_time": "2021-11-09T00:08:34.471180",
     "status": "completed"
    },
    "tags": []
   },
   "outputs": [
    {
     "data": {
      "text/html": [
       "<div>\n",
       "<style scoped>\n",
       "    .dataframe tbody tr th:only-of-type {\n",
       "        vertical-align: middle;\n",
       "    }\n",
       "\n",
       "    .dataframe tbody tr th {\n",
       "        vertical-align: top;\n",
       "    }\n",
       "\n",
       "    .dataframe thead th {\n",
       "        text-align: right;\n",
       "    }\n",
       "</style>\n",
       "<table border=\"1\" class=\"dataframe\">\n",
       "  <thead>\n",
       "    <tr style=\"text-align: right;\">\n",
       "      <th></th>\n",
       "      <th>Name</th>\n",
       "    </tr>\n",
       "  </thead>\n",
       "  <tbody>\n",
       "    <tr>\n",
       "      <th>0</th>\n",
       "      <td>University of Oxford</td>\n",
       "    </tr>\n",
       "    <tr>\n",
       "      <th>1</th>\n",
       "      <td>University of Cambridge</td>\n",
       "    </tr>\n",
       "    <tr>\n",
       "      <th>2</th>\n",
       "      <td>Imperial College London</td>\n",
       "    </tr>\n",
       "    <tr>\n",
       "      <th>3</th>\n",
       "      <td>ETH Zurich</td>\n",
       "    </tr>\n",
       "    <tr>\n",
       "      <th>4</th>\n",
       "      <td>UCL</td>\n",
       "    </tr>\n",
       "  </tbody>\n",
       "</table>\n",
       "</div>"
      ],
      "text/plain": [
       "                      Name\n",
       "0     University of Oxford\n",
       "1  University of Cambridge\n",
       "2  Imperial College London\n",
       "3               ETH Zurich\n",
       "4                      UCL"
      ]
     },
     "execution_count": 5,
     "metadata": {},
     "output_type": "execute_result"
    }
   ],
   "source": [
    "universities = pd.read_csv(\"../input/geospatial-learn-course-data/top_universities.csv\")\n",
    "universities.head()"
   ]
  },
  {
   "cell_type": "markdown",
   "id": "8ecdcac3",
   "metadata": {
    "papermill": {
     "duration": 0.012854,
     "end_time": "2021-11-09T00:08:34.582934",
     "exception": false,
     "start_time": "2021-11-09T00:08:34.570080",
     "status": "completed"
    },
    "tags": []
   },
   "source": [
    "Then we can use a lambda function to apply the geocoder to every row in the DataFrame.  (We use a try/except statement to account for the case that the geocoding is unsuccessful.)"
   ]
  },
  {
   "cell_type": "code",
   "execution_count": 6,
   "id": "e87e4889",
   "metadata": {
    "execution": {
     "iopub.execute_input": "2021-11-09T00:08:34.619564Z",
     "iopub.status.busy": "2021-11-09T00:08:34.611790Z",
     "iopub.status.idle": "2021-11-09T00:09:24.625557Z",
     "shell.execute_reply": "2021-11-09T00:09:24.623963Z"
    },
    "papermill": {
     "duration": 50.029943,
     "end_time": "2021-11-09T00:09:24.625715",
     "exception": false,
     "start_time": "2021-11-09T00:08:34.595772",
     "status": "completed"
    },
    "tags": []
   },
   "outputs": [
    {
     "name": "stdout",
     "output_type": "stream",
     "text": [
      "95.0% of addresses were geocoded!\n"
     ]
    },
    {
     "name": "stderr",
     "output_type": "stream",
     "text": [
      "/opt/conda/lib/python3.7/site-packages/pyproj/crs/crs.py:68: FutureWarning: '+init=<authority>:<code>' syntax is deprecated. '<authority>:<code>' is the preferred initialization method. When making the change, be mindful of axis order changes: https://pyproj4.github.io/pyproj/stable/gotchas.html#axis-order-changes-in-proj-6\n",
      "  return _prepare_from_string(\" \".join(pjargs))\n"
     ]
    },
    {
     "data": {
      "text/html": [
       "<div>\n",
       "<style scoped>\n",
       "    .dataframe tbody tr th:only-of-type {\n",
       "        vertical-align: middle;\n",
       "    }\n",
       "\n",
       "    .dataframe tbody tr th {\n",
       "        vertical-align: top;\n",
       "    }\n",
       "\n",
       "    .dataframe thead th {\n",
       "        text-align: right;\n",
       "    }\n",
       "</style>\n",
       "<table border=\"1\" class=\"dataframe\">\n",
       "  <thead>\n",
       "    <tr style=\"text-align: right;\">\n",
       "      <th></th>\n",
       "      <th>Name</th>\n",
       "      <th>Latitude</th>\n",
       "      <th>Longitude</th>\n",
       "      <th>geometry</th>\n",
       "    </tr>\n",
       "  </thead>\n",
       "  <tbody>\n",
       "    <tr>\n",
       "      <th>0</th>\n",
       "      <td>University of Oxford</td>\n",
       "      <td>51.758708</td>\n",
       "      <td>-1.255668</td>\n",
       "      <td>POINT (-1.25567 51.75871)</td>\n",
       "    </tr>\n",
       "    <tr>\n",
       "      <th>1</th>\n",
       "      <td>University of Cambridge</td>\n",
       "      <td>52.199852</td>\n",
       "      <td>0.119739</td>\n",
       "      <td>POINT (0.11974 52.19985)</td>\n",
       "    </tr>\n",
       "    <tr>\n",
       "      <th>2</th>\n",
       "      <td>Imperial College London</td>\n",
       "      <td>51.498959</td>\n",
       "      <td>-0.175641</td>\n",
       "      <td>POINT (-0.17564 51.49896)</td>\n",
       "    </tr>\n",
       "    <tr>\n",
       "      <th>3</th>\n",
       "      <td>ETH Zurich</td>\n",
       "      <td>47.408327</td>\n",
       "      <td>8.507564</td>\n",
       "      <td>POINT (8.50756 47.40833)</td>\n",
       "    </tr>\n",
       "    <tr>\n",
       "      <th>4</th>\n",
       "      <td>UCL</td>\n",
       "      <td>51.523581</td>\n",
       "      <td>-0.132977</td>\n",
       "      <td>POINT (-0.13298 51.52358)</td>\n",
       "    </tr>\n",
       "  </tbody>\n",
       "</table>\n",
       "</div>"
      ],
      "text/plain": [
       "                      Name   Latitude  Longitude                   geometry\n",
       "0     University of Oxford  51.758708  -1.255668  POINT (-1.25567 51.75871)\n",
       "1  University of Cambridge  52.199852   0.119739   POINT (0.11974 52.19985)\n",
       "2  Imperial College London  51.498959  -0.175641  POINT (-0.17564 51.49896)\n",
       "3               ETH Zurich  47.408327   8.507564   POINT (8.50756 47.40833)\n",
       "4                      UCL  51.523581  -0.132977  POINT (-0.13298 51.52358)"
      ]
     },
     "execution_count": 6,
     "metadata": {},
     "output_type": "execute_result"
    }
   ],
   "source": [
    "def my_geocoder(row):\n",
    "    try:\n",
    "        point = geolocator.geocode(row).point\n",
    "        return pd.Series({'Latitude': point.latitude, 'Longitude': point.longitude})\n",
    "    except:\n",
    "        return None\n",
    "\n",
    "universities[['Latitude', 'Longitude']] = universities.apply(lambda x: my_geocoder(x['Name']), axis=1)\n",
    "\n",
    "print(\"{}% of addresses were geocoded!\".format(\n",
    "    (1 - sum(np.isnan(universities[\"Latitude\"])) / len(universities)) * 100))\n",
    "\n",
    "# Drop universities that were not successfully geocoded\n",
    "universities = universities.loc[~np.isnan(universities[\"Latitude\"])]\n",
    "universities = gpd.GeoDataFrame(\n",
    "    universities, geometry=gpd.points_from_xy(universities.Longitude, universities.Latitude))\n",
    "universities.crs = {'init': 'epsg:4326'}\n",
    "universities.head()"
   ]
  },
  {
   "cell_type": "markdown",
   "id": "1371d218",
   "metadata": {
    "papermill": {
     "duration": 0.013356,
     "end_time": "2021-11-09T00:09:24.652762",
     "exception": false,
     "start_time": "2021-11-09T00:09:24.639406",
     "status": "completed"
    },
    "tags": []
   },
   "source": [
    "Next, we visualize all of the locations that were returned by the geocoder.  Notice that a few of the locations are certainly inaccurate, as they're not in Europe!"
   ]
  },
  {
   "cell_type": "code",
   "execution_count": 7,
   "id": "70a37761",
   "metadata": {
    "execution": {
     "iopub.execute_input": "2021-11-09T00:09:24.686021Z",
     "iopub.status.busy": "2021-11-09T00:09:24.685356Z",
     "iopub.status.idle": "2021-11-09T00:09:24.859456Z",
     "shell.execute_reply": "2021-11-09T00:09:24.859942Z"
    },
    "papermill": {
     "duration": 0.193602,
     "end_time": "2021-11-09T00:09:24.860145",
     "exception": false,
     "start_time": "2021-11-09T00:09:24.666543",
     "status": "completed"
    },
    "tags": []
   },
   "outputs": [
    {
     "data": {
      "text/html": [
       "<div style=\"width:100%;\"><div style=\"position:relative;width:100%;height:0;padding-bottom:60%;\"><span style=\"color:#565656\">Make this Notebook Trusted to load map: File -> Trust Notebook</span><iframe src=\"about:blank\" style=\"position:absolute;width:100%;height:100%;left:0;top:0;border:none !important;\" data-html=%3C%21DOCTYPE%20html%3E%0A%3Chead%3E%20%20%20%20%0A%20%20%20%20%3Cmeta%20http-equiv%3D%22content-type%22%20content%3D%22text/html%3B%20charset%3DUTF-8%22%20/%3E%0A%20%20%20%20%0A%20%20%20%20%20%20%20%20%3Cscript%3E%0A%20%20%20%20%20%20%20%20%20%20%20%20L_NO_TOUCH%20%3D%20false%3B%0A%20%20%20%20%20%20%20%20%20%20%20%20L_DISABLE_3D%20%3D%20false%3B%0A%20%20%20%20%20%20%20%20%3C/script%3E%0A%20%20%20%20%0A%20%20%20%20%3Cstyle%3Ehtml%2C%20body%20%7Bwidth%3A%20100%25%3Bheight%3A%20100%25%3Bmargin%3A%200%3Bpadding%3A%200%3B%7D%3C/style%3E%0A%20%20%20%20%3Cstyle%3E%23map%20%7Bposition%3Aabsolute%3Btop%3A0%3Bbottom%3A0%3Bright%3A0%3Bleft%3A0%3B%7D%3C/style%3E%0A%20%20%20%20%3Cscript%20src%3D%22https%3A//cdn.jsdelivr.net/npm/leaflet%401.6.0/dist/leaflet.js%22%3E%3C/script%3E%0A%20%20%20%20%3Cscript%20src%3D%22https%3A//code.jquery.com/jquery-1.12.4.min.js%22%3E%3C/script%3E%0A%20%20%20%20%3Cscript%20src%3D%22https%3A//maxcdn.bootstrapcdn.com/bootstrap/3.2.0/js/bootstrap.min.js%22%3E%3C/script%3E%0A%20%20%20%20%3Cscript%20src%3D%22https%3A//cdnjs.cloudflare.com/ajax/libs/Leaflet.awesome-markers/2.0.2/leaflet.awesome-markers.js%22%3E%3C/script%3E%0A%20%20%20%20%3Clink%20rel%3D%22stylesheet%22%20href%3D%22https%3A//cdn.jsdelivr.net/npm/leaflet%401.6.0/dist/leaflet.css%22/%3E%0A%20%20%20%20%3Clink%20rel%3D%22stylesheet%22%20href%3D%22https%3A//maxcdn.bootstrapcdn.com/bootstrap/3.2.0/css/bootstrap.min.css%22/%3E%0A%20%20%20%20%3Clink%20rel%3D%22stylesheet%22%20href%3D%22https%3A//maxcdn.bootstrapcdn.com/bootstrap/3.2.0/css/bootstrap-theme.min.css%22/%3E%0A%20%20%20%20%3Clink%20rel%3D%22stylesheet%22%20href%3D%22https%3A//maxcdn.bootstrapcdn.com/font-awesome/4.6.3/css/font-awesome.min.css%22/%3E%0A%20%20%20%20%3Clink%20rel%3D%22stylesheet%22%20href%3D%22https%3A//cdnjs.cloudflare.com/ajax/libs/Leaflet.awesome-markers/2.0.2/leaflet.awesome-markers.css%22/%3E%0A%20%20%20%20%3Clink%20rel%3D%22stylesheet%22%20href%3D%22https%3A//cdn.jsdelivr.net/gh/python-visualization/folium/folium/templates/leaflet.awesome.rotate.min.css%22/%3E%0A%20%20%20%20%0A%20%20%20%20%20%20%20%20%20%20%20%20%3Cmeta%20name%3D%22viewport%22%20content%3D%22width%3Ddevice-width%2C%0A%20%20%20%20%20%20%20%20%20%20%20%20%20%20%20%20initial-scale%3D1.0%2C%20maximum-scale%3D1.0%2C%20user-scalable%3Dno%22%20/%3E%0A%20%20%20%20%20%20%20%20%20%20%20%20%3Cstyle%3E%0A%20%20%20%20%20%20%20%20%20%20%20%20%20%20%20%20%23map_939d90e4d8d241eabdc0431bfeed8cce%20%7B%0A%20%20%20%20%20%20%20%20%20%20%20%20%20%20%20%20%20%20%20%20position%3A%20relative%3B%0A%20%20%20%20%20%20%20%20%20%20%20%20%20%20%20%20%20%20%20%20width%3A%20100.0%25%3B%0A%20%20%20%20%20%20%20%20%20%20%20%20%20%20%20%20%20%20%20%20height%3A%20100.0%25%3B%0A%20%20%20%20%20%20%20%20%20%20%20%20%20%20%20%20%20%20%20%20left%3A%200.0%25%3B%0A%20%20%20%20%20%20%20%20%20%20%20%20%20%20%20%20%20%20%20%20top%3A%200.0%25%3B%0A%20%20%20%20%20%20%20%20%20%20%20%20%20%20%20%20%7D%0A%20%20%20%20%20%20%20%20%20%20%20%20%3C/style%3E%0A%20%20%20%20%20%20%20%20%0A%3C/head%3E%0A%3Cbody%3E%20%20%20%20%0A%20%20%20%20%0A%20%20%20%20%20%20%20%20%20%20%20%20%3Cdiv%20class%3D%22folium-map%22%20id%3D%22map_939d90e4d8d241eabdc0431bfeed8cce%22%20%3E%3C/div%3E%0A%20%20%20%20%20%20%20%20%0A%3C/body%3E%0A%3Cscript%3E%20%20%20%20%0A%20%20%20%20%0A%20%20%20%20%20%20%20%20%20%20%20%20var%20map_939d90e4d8d241eabdc0431bfeed8cce%20%3D%20L.map%28%0A%20%20%20%20%20%20%20%20%20%20%20%20%20%20%20%20%22map_939d90e4d8d241eabdc0431bfeed8cce%22%2C%0A%20%20%20%20%20%20%20%20%20%20%20%20%20%20%20%20%7B%0A%20%20%20%20%20%20%20%20%20%20%20%20%20%20%20%20%20%20%20%20center%3A%20%5B54.0%2C%2015.0%5D%2C%0A%20%20%20%20%20%20%20%20%20%20%20%20%20%20%20%20%20%20%20%20crs%3A%20L.CRS.EPSG3857%2C%0A%20%20%20%20%20%20%20%20%20%20%20%20%20%20%20%20%20%20%20%20zoom%3A%202%2C%0A%20%20%20%20%20%20%20%20%20%20%20%20%20%20%20%20%20%20%20%20zoomControl%3A%20true%2C%0A%20%20%20%20%20%20%20%20%20%20%20%20%20%20%20%20%20%20%20%20preferCanvas%3A%20false%2C%0A%20%20%20%20%20%20%20%20%20%20%20%20%20%20%20%20%7D%0A%20%20%20%20%20%20%20%20%20%20%20%20%29%3B%0A%0A%20%20%20%20%20%20%20%20%20%20%20%20%0A%0A%20%20%20%20%20%20%20%20%0A%20%20%20%20%0A%20%20%20%20%20%20%20%20%20%20%20%20var%20tile_layer_60c391dcbc45406894060d32c1a77552%20%3D%20L.tileLayer%28%0A%20%20%20%20%20%20%20%20%20%20%20%20%20%20%20%20%22https%3A//%7Bs%7D.tile.openstreetmap.org/%7Bz%7D/%7Bx%7D/%7By%7D.png%22%2C%0A%20%20%20%20%20%20%20%20%20%20%20%20%20%20%20%20%7B%22attribution%22%3A%20%22Data%20by%20%5Cu0026copy%3B%20%5Cu003ca%20href%3D%5C%22http%3A//openstreetmap.org%5C%22%5Cu003eOpenStreetMap%5Cu003c/a%5Cu003e%2C%20under%20%5Cu003ca%20href%3D%5C%22http%3A//www.openstreetmap.org/copyright%5C%22%5Cu003eODbL%5Cu003c/a%5Cu003e.%22%2C%20%22detectRetina%22%3A%20false%2C%20%22maxNativeZoom%22%3A%2018%2C%20%22maxZoom%22%3A%2018%2C%20%22minZoom%22%3A%200%2C%20%22noWrap%22%3A%20false%2C%20%22opacity%22%3A%201%2C%20%22subdomains%22%3A%20%22abc%22%2C%20%22tms%22%3A%20false%7D%0A%20%20%20%20%20%20%20%20%20%20%20%20%29.addTo%28map_939d90e4d8d241eabdc0431bfeed8cce%29%3B%0A%20%20%20%20%20%20%20%20%0A%20%20%20%20%0A%20%20%20%20%20%20%20%20%20%20%20%20var%20marker_84e4ce45bc0e47a0a89dfc64a7d720dd%20%3D%20L.marker%28%0A%20%20%20%20%20%20%20%20%20%20%20%20%20%20%20%20%5B51.75870755%2C%20-1.2556684826092037%5D%2C%0A%20%20%20%20%20%20%20%20%20%20%20%20%20%20%20%20%7B%7D%0A%20%20%20%20%20%20%20%20%20%20%20%20%29.addTo%28map_939d90e4d8d241eabdc0431bfeed8cce%29%3B%0A%20%20%20%20%20%20%20%20%0A%20%20%20%20%0A%20%20%20%20%20%20%20%20var%20popup_39c1d8314a2e444ab73706393d84a434%20%3D%20L.popup%28%7B%22maxWidth%22%3A%20%22100%25%22%7D%29%3B%0A%0A%20%20%20%20%20%20%20%20%0A%20%20%20%20%20%20%20%20%20%20%20%20var%20html_f5a632d9eca948c1889eeafd4142624f%20%3D%20%24%28%60%3Cdiv%20id%3D%22html_f5a632d9eca948c1889eeafd4142624f%22%20style%3D%22width%3A%20100.0%25%3B%20height%3A%20100.0%25%3B%22%3EUniversity%20of%20Oxford%3C/div%3E%60%29%5B0%5D%3B%0A%20%20%20%20%20%20%20%20%20%20%20%20popup_39c1d8314a2e444ab73706393d84a434.setContent%28html_f5a632d9eca948c1889eeafd4142624f%29%3B%0A%20%20%20%20%20%20%20%20%0A%0A%20%20%20%20%20%20%20%20marker_84e4ce45bc0e47a0a89dfc64a7d720dd.bindPopup%28popup_39c1d8314a2e444ab73706393d84a434%29%0A%20%20%20%20%20%20%20%20%3B%0A%0A%20%20%20%20%20%20%20%20%0A%20%20%20%20%0A%20%20%20%20%0A%20%20%20%20%20%20%20%20%20%20%20%20var%20marker_966ab9fa0a364c0290918a0c411361fc%20%3D%20L.marker%28%0A%20%20%20%20%20%20%20%20%20%20%20%20%20%20%20%20%5B52.1998523%2C%200.11973865741074383%5D%2C%0A%20%20%20%20%20%20%20%20%20%20%20%20%20%20%20%20%7B%7D%0A%20%20%20%20%20%20%20%20%20%20%20%20%29.addTo%28map_939d90e4d8d241eabdc0431bfeed8cce%29%3B%0A%20%20%20%20%20%20%20%20%0A%20%20%20%20%0A%20%20%20%20%20%20%20%20var%20popup_9d2b33b01b89458b9d941faa1fbe40d7%20%3D%20L.popup%28%7B%22maxWidth%22%3A%20%22100%25%22%7D%29%3B%0A%0A%20%20%20%20%20%20%20%20%0A%20%20%20%20%20%20%20%20%20%20%20%20var%20html_0e1e1778180147a2b7b596b136e8ed7c%20%3D%20%24%28%60%3Cdiv%20id%3D%22html_0e1e1778180147a2b7b596b136e8ed7c%22%20style%3D%22width%3A%20100.0%25%3B%20height%3A%20100.0%25%3B%22%3EUniversity%20of%20Cambridge%3C/div%3E%60%29%5B0%5D%3B%0A%20%20%20%20%20%20%20%20%20%20%20%20popup_9d2b33b01b89458b9d941faa1fbe40d7.setContent%28html_0e1e1778180147a2b7b596b136e8ed7c%29%3B%0A%20%20%20%20%20%20%20%20%0A%0A%20%20%20%20%20%20%20%20marker_966ab9fa0a364c0290918a0c411361fc.bindPopup%28popup_9d2b33b01b89458b9d941faa1fbe40d7%29%0A%20%20%20%20%20%20%20%20%3B%0A%0A%20%20%20%20%20%20%20%20%0A%20%20%20%20%0A%20%20%20%20%0A%20%20%20%20%20%20%20%20%20%20%20%20var%20marker_01a202dd0cdf48b8afc98a635f0a5914%20%3D%20L.marker%28%0A%20%20%20%20%20%20%20%20%20%20%20%20%20%20%20%20%5B51.4989595%2C%20-0.17564125978794498%5D%2C%0A%20%20%20%20%20%20%20%20%20%20%20%20%20%20%20%20%7B%7D%0A%20%20%20%20%20%20%20%20%20%20%20%20%29.addTo%28map_939d90e4d8d241eabdc0431bfeed8cce%29%3B%0A%20%20%20%20%20%20%20%20%0A%20%20%20%20%0A%20%20%20%20%20%20%20%20var%20popup_0ec4425bc3e34971a1b34342afd3ba37%20%3D%20L.popup%28%7B%22maxWidth%22%3A%20%22100%25%22%7D%29%3B%0A%0A%20%20%20%20%20%20%20%20%0A%20%20%20%20%20%20%20%20%20%20%20%20var%20html_e6c381af74ee4ca99c5ff29b41c271dc%20%3D%20%24%28%60%3Cdiv%20id%3D%22html_e6c381af74ee4ca99c5ff29b41c271dc%22%20style%3D%22width%3A%20100.0%25%3B%20height%3A%20100.0%25%3B%22%3EImperial%20College%20London%3C/div%3E%60%29%5B0%5D%3B%0A%20%20%20%20%20%20%20%20%20%20%20%20popup_0ec4425bc3e34971a1b34342afd3ba37.setContent%28html_e6c381af74ee4ca99c5ff29b41c271dc%29%3B%0A%20%20%20%20%20%20%20%20%0A%0A%20%20%20%20%20%20%20%20marker_01a202dd0cdf48b8afc98a635f0a5914.bindPopup%28popup_0ec4425bc3e34971a1b34342afd3ba37%29%0A%20%20%20%20%20%20%20%20%3B%0A%0A%20%20%20%20%20%20%20%20%0A%20%20%20%20%0A%20%20%20%20%0A%20%20%20%20%20%20%20%20%20%20%20%20var%20marker_3e276d690140414bbe559916bf725bb9%20%3D%20L.marker%28%0A%20%20%20%20%20%20%20%20%20%20%20%20%20%20%20%20%5B47.40832745%2C%208.507563966360525%5D%2C%0A%20%20%20%20%20%20%20%20%20%20%20%20%20%20%20%20%7B%7D%0A%20%20%20%20%20%20%20%20%20%20%20%20%29.addTo%28map_939d90e4d8d241eabdc0431bfeed8cce%29%3B%0A%20%20%20%20%20%20%20%20%0A%20%20%20%20%0A%20%20%20%20%20%20%20%20var%20popup_6a3d95f907aa4678ad218dbc0c5f062c%20%3D%20L.popup%28%7B%22maxWidth%22%3A%20%22100%25%22%7D%29%3B%0A%0A%20%20%20%20%20%20%20%20%0A%20%20%20%20%20%20%20%20%20%20%20%20var%20html_8271adc3fd994294a4b1c0cda644612a%20%3D%20%24%28%60%3Cdiv%20id%3D%22html_8271adc3fd994294a4b1c0cda644612a%22%20style%3D%22width%3A%20100.0%25%3B%20height%3A%20100.0%25%3B%22%3EETH%20Zurich%3C/div%3E%60%29%5B0%5D%3B%0A%20%20%20%20%20%20%20%20%20%20%20%20popup_6a3d95f907aa4678ad218dbc0c5f062c.setContent%28html_8271adc3fd994294a4b1c0cda644612a%29%3B%0A%20%20%20%20%20%20%20%20%0A%0A%20%20%20%20%20%20%20%20marker_3e276d690140414bbe559916bf725bb9.bindPopup%28popup_6a3d95f907aa4678ad218dbc0c5f062c%29%0A%20%20%20%20%20%20%20%20%3B%0A%0A%20%20%20%20%20%20%20%20%0A%20%20%20%20%0A%20%20%20%20%0A%20%20%20%20%20%20%20%20%20%20%20%20var%20marker_873af3165c644018883e969eaec7b05c%20%3D%20L.marker%28%0A%20%20%20%20%20%20%20%20%20%20%20%20%20%20%20%20%5B51.5235814%2C%20-0.1329767170257194%5D%2C%0A%20%20%20%20%20%20%20%20%20%20%20%20%20%20%20%20%7B%7D%0A%20%20%20%20%20%20%20%20%20%20%20%20%29.addTo%28map_939d90e4d8d241eabdc0431bfeed8cce%29%3B%0A%20%20%20%20%20%20%20%20%0A%20%20%20%20%0A%20%20%20%20%20%20%20%20var%20popup_ea79c43d4e3145acbe497cb96107ae55%20%3D%20L.popup%28%7B%22maxWidth%22%3A%20%22100%25%22%7D%29%3B%0A%0A%20%20%20%20%20%20%20%20%0A%20%20%20%20%20%20%20%20%20%20%20%20var%20html_e7b1ff2c3d234b22867721d2fd3838af%20%3D%20%24%28%60%3Cdiv%20id%3D%22html_e7b1ff2c3d234b22867721d2fd3838af%22%20style%3D%22width%3A%20100.0%25%3B%20height%3A%20100.0%25%3B%22%3EUCL%3C/div%3E%60%29%5B0%5D%3B%0A%20%20%20%20%20%20%20%20%20%20%20%20popup_ea79c43d4e3145acbe497cb96107ae55.setContent%28html_e7b1ff2c3d234b22867721d2fd3838af%29%3B%0A%20%20%20%20%20%20%20%20%0A%0A%20%20%20%20%20%20%20%20marker_873af3165c644018883e969eaec7b05c.bindPopup%28popup_ea79c43d4e3145acbe497cb96107ae55%29%0A%20%20%20%20%20%20%20%20%3B%0A%0A%20%20%20%20%20%20%20%20%0A%20%20%20%20%0A%20%20%20%20%0A%20%20%20%20%20%20%20%20%20%20%20%20var%20marker_c52538b9d0c14d788d03c826cde625d4%20%3D%20L.marker%28%0A%20%20%20%20%20%20%20%20%20%20%20%20%20%20%20%20%5B51.51459135%2C%20-0.11643065760988928%5D%2C%0A%20%20%20%20%20%20%20%20%20%20%20%20%20%20%20%20%7B%7D%0A%20%20%20%20%20%20%20%20%20%20%20%20%29.addTo%28map_939d90e4d8d241eabdc0431bfeed8cce%29%3B%0A%20%20%20%20%20%20%20%20%0A%20%20%20%20%0A%20%20%20%20%20%20%20%20var%20popup_72688ea3be2f485185404fc5c0f516d9%20%3D%20L.popup%28%7B%22maxWidth%22%3A%20%22100%25%22%7D%29%3B%0A%0A%20%20%20%20%20%20%20%20%0A%20%20%20%20%20%20%20%20%20%20%20%20var%20html_3f89fcfe46774107ba19232fe8e32715%20%3D%20%24%28%60%3Cdiv%20id%3D%22html_3f89fcfe46774107ba19232fe8e32715%22%20style%3D%22width%3A%20100.0%25%3B%20height%3A%20100.0%25%3B%22%3ELondon%20School%20of%20Economics%20and%20Political%20Science%3C/div%3E%60%29%5B0%5D%3B%0A%20%20%20%20%20%20%20%20%20%20%20%20popup_72688ea3be2f485185404fc5c0f516d9.setContent%28html_3f89fcfe46774107ba19232fe8e32715%29%3B%0A%20%20%20%20%20%20%20%20%0A%0A%20%20%20%20%20%20%20%20marker_c52538b9d0c14d788d03c826cde625d4.bindPopup%28popup_72688ea3be2f485185404fc5c0f516d9%29%0A%20%20%20%20%20%20%20%20%3B%0A%0A%20%20%20%20%20%20%20%20%0A%20%20%20%20%0A%20%20%20%20%0A%20%20%20%20%20%20%20%20%20%20%20%20var%20marker_c31924a6efed4ed19e58db741f8bd2db%20%3D%20L.marker%28%0A%20%20%20%20%20%20%20%20%20%20%20%20%20%20%20%20%5B55.94407645%2C%20-3.1883735563964555%5D%2C%0A%20%20%20%20%20%20%20%20%20%20%20%20%20%20%20%20%7B%7D%0A%20%20%20%20%20%20%20%20%20%20%20%20%29.addTo%28map_939d90e4d8d241eabdc0431bfeed8cce%29%3B%0A%20%20%20%20%20%20%20%20%0A%20%20%20%20%0A%20%20%20%20%20%20%20%20var%20popup_57eebb18f45e4d94988f60ef10f07393%20%3D%20L.popup%28%7B%22maxWidth%22%3A%20%22100%25%22%7D%29%3B%0A%0A%20%20%20%20%20%20%20%20%0A%20%20%20%20%20%20%20%20%20%20%20%20var%20html_e815ae6cceab4e1aa165582ce180210f%20%3D%20%24%28%60%3Cdiv%20id%3D%22html_e815ae6cceab4e1aa165582ce180210f%22%20style%3D%22width%3A%20100.0%25%3B%20height%3A%20100.0%25%3B%22%3EUniversity%20of%20Edinburgh%3C/div%3E%60%29%5B0%5D%3B%0A%20%20%20%20%20%20%20%20%20%20%20%20popup_57eebb18f45e4d94988f60ef10f07393.setContent%28html_e815ae6cceab4e1aa165582ce180210f%29%3B%0A%20%20%20%20%20%20%20%20%0A%0A%20%20%20%20%20%20%20%20marker_c31924a6efed4ed19e58db741f8bd2db.bindPopup%28popup_57eebb18f45e4d94988f60ef10f07393%29%0A%20%20%20%20%20%20%20%20%3B%0A%0A%20%20%20%20%20%20%20%20%0A%20%20%20%20%0A%20%20%20%20%0A%20%20%20%20%20%20%20%20%20%20%20%20var%20marker_4ec9cae0958240dc905264689616b26b%20%3D%20L.marker%28%0A%20%20%20%20%20%20%20%20%20%20%20%20%20%20%20%20%5B48.149703%2C%2011.5805338%5D%2C%0A%20%20%20%20%20%20%20%20%20%20%20%20%20%20%20%20%7B%7D%0A%20%20%20%20%20%20%20%20%20%20%20%20%29.addTo%28map_939d90e4d8d241eabdc0431bfeed8cce%29%3B%0A%20%20%20%20%20%20%20%20%0A%20%20%20%20%0A%20%20%20%20%20%20%20%20var%20popup_1170433c661945c5b0d7988e4a682442%20%3D%20L.popup%28%7B%22maxWidth%22%3A%20%22100%25%22%7D%29%3B%0A%0A%20%20%20%20%20%20%20%20%0A%20%20%20%20%20%20%20%20%20%20%20%20var%20html_5035a1869e8b4ae0b580bc248e3084c7%20%3D%20%24%28%60%3Cdiv%20id%3D%22html_5035a1869e8b4ae0b580bc248e3084c7%22%20style%3D%22width%3A%20100.0%25%3B%20height%3A%20100.0%25%3B%22%3ELMU%20Munich%3C/div%3E%60%29%5B0%5D%3B%0A%20%20%20%20%20%20%20%20%20%20%20%20popup_1170433c661945c5b0d7988e4a682442.setContent%28html_5035a1869e8b4ae0b580bc248e3084c7%29%3B%0A%20%20%20%20%20%20%20%20%0A%0A%20%20%20%20%20%20%20%20marker_4ec9cae0958240dc905264689616b26b.bindPopup%28popup_1170433c661945c5b0d7988e4a682442%29%0A%20%20%20%20%20%20%20%20%3B%0A%0A%20%20%20%20%20%20%20%20%0A%20%20%20%20%0A%20%20%20%20%0A%20%20%20%20%20%20%20%20%20%20%20%20var%20marker_3680171f243b4afba5eeee577b274bf9%20%3D%20L.marker%28%0A%20%20%20%20%20%20%20%20%20%20%20%20%20%20%20%20%5B46.518659400000004%2C%206.566561505148001%5D%2C%0A%20%20%20%20%20%20%20%20%20%20%20%20%20%20%20%20%7B%7D%0A%20%20%20%20%20%20%20%20%20%20%20%20%29.addTo%28map_939d90e4d8d241eabdc0431bfeed8cce%29%3B%0A%20%20%20%20%20%20%20%20%0A%20%20%20%20%0A%20%20%20%20%20%20%20%20var%20popup_2e652fda196a4fcbb8cd311e59ccd067%20%3D%20L.popup%28%7B%22maxWidth%22%3A%20%22100%25%22%7D%29%3B%0A%0A%20%20%20%20%20%20%20%20%0A%20%20%20%20%20%20%20%20%20%20%20%20var%20html_c291d82ec7904bcfb877fdb6524dc25e%20%3D%20%24%28%60%3Cdiv%20id%3D%22html_c291d82ec7904bcfb877fdb6524dc25e%22%20style%3D%22width%3A%20100.0%25%3B%20height%3A%20100.0%25%3B%22%3E%C3%89cole%20Polytechnique%20F%C3%A9d%C3%A9rale%20de%20Lausanne%3C/div%3E%60%29%5B0%5D%3B%0A%20%20%20%20%20%20%20%20%20%20%20%20popup_2e652fda196a4fcbb8cd311e59ccd067.setContent%28html_c291d82ec7904bcfb877fdb6524dc25e%29%3B%0A%20%20%20%20%20%20%20%20%0A%0A%20%20%20%20%20%20%20%20marker_3680171f243b4afba5eeee577b274bf9.bindPopup%28popup_2e652fda196a4fcbb8cd311e59ccd067%29%0A%20%20%20%20%20%20%20%20%3B%0A%0A%20%20%20%20%20%20%20%20%0A%20%20%20%20%0A%20%20%20%20%0A%20%20%20%20%20%20%20%20%20%20%20%20var%20marker_862483cd8d4c4c19aad574a0e0595070%20%3D%20L.marker%28%0A%20%20%20%20%20%20%20%20%20%20%20%20%20%20%20%20%5B51.5060001%2C%20-0.1121582948025203%5D%2C%0A%20%20%20%20%20%20%20%20%20%20%20%20%20%20%20%20%7B%7D%0A%20%20%20%20%20%20%20%20%20%20%20%20%29.addTo%28map_939d90e4d8d241eabdc0431bfeed8cce%29%3B%0A%20%20%20%20%20%20%20%20%0A%20%20%20%20%0A%20%20%20%20%20%20%20%20var%20popup_2398db7e7efb4a8ebd92e9f07c7b963f%20%3D%20L.popup%28%7B%22maxWidth%22%3A%20%22100%25%22%7D%29%3B%0A%0A%20%20%20%20%20%20%20%20%0A%20%20%20%20%20%20%20%20%20%20%20%20var%20html_5e605e2685f046eda5710645f20f4f65%20%3D%20%24%28%60%3Cdiv%20id%3D%22html_5e605e2685f046eda5710645f20f4f65%22%20style%3D%22width%3A%20100.0%25%3B%20height%3A%20100.0%25%3B%22%3EKing%E2%80%99s%20College%20London%3C/div%3E%60%29%5B0%5D%3B%0A%20%20%20%20%20%20%20%20%20%20%20%20popup_2398db7e7efb4a8ebd92e9f07c7b963f.setContent%28html_5e605e2685f046eda5710645f20f4f65%29%3B%0A%20%20%20%20%20%20%20%20%0A%0A%20%20%20%20%20%20%20%20marker_862483cd8d4c4c19aad574a0e0595070.bindPopup%28popup_2398db7e7efb4a8ebd92e9f07c7b963f%29%0A%20%20%20%20%20%20%20%20%3B%0A%0A%20%20%20%20%20%20%20%20%0A%20%20%20%20%0A%20%20%20%20%0A%20%20%20%20%20%20%20%20%20%20%20%20var%20marker_1f040d6e16ac4c798035c5f789966300%20%3D%20L.marker%28%0A%20%20%20%20%20%20%20%20%20%20%20%20%20%20%20%20%5B59.219549549999996%2C%2017.94005487275674%5D%2C%0A%20%20%20%20%20%20%20%20%20%20%20%20%20%20%20%20%7B%7D%0A%20%20%20%20%20%20%20%20%20%20%20%20%29.addTo%28map_939d90e4d8d241eabdc0431bfeed8cce%29%3B%0A%20%20%20%20%20%20%20%20%0A%20%20%20%20%0A%20%20%20%20%20%20%20%20var%20popup_d42c868035ab4e7e93ac8428d4ae27fb%20%3D%20L.popup%28%7B%22maxWidth%22%3A%20%22100%25%22%7D%29%3B%0A%0A%20%20%20%20%20%20%20%20%0A%20%20%20%20%20%20%20%20%20%20%20%20var%20html_926dd08120254e61ae0d0a6ecc64394e%20%3D%20%24%28%60%3Cdiv%20id%3D%22html_926dd08120254e61ae0d0a6ecc64394e%22%20style%3D%22width%3A%20100.0%25%3B%20height%3A%20100.0%25%3B%22%3EKarolinska%20Institute%3C/div%3E%60%29%5B0%5D%3B%0A%20%20%20%20%20%20%20%20%20%20%20%20popup_d42c868035ab4e7e93ac8428d4ae27fb.setContent%28html_926dd08120254e61ae0d0a6ecc64394e%29%3B%0A%20%20%20%20%20%20%20%20%0A%0A%20%20%20%20%20%20%20%20marker_1f040d6e16ac4c798035c5f789966300.bindPopup%28popup_d42c868035ab4e7e93ac8428d4ae27fb%29%0A%20%20%20%20%20%20%20%20%3B%0A%0A%20%20%20%20%20%20%20%20%0A%20%20%20%20%0A%20%20%20%20%0A%20%20%20%20%20%20%20%20%20%20%20%20var%20marker_baf69dacc71c4d5f81b9d127d97b3109%20%3D%20L.marker%28%0A%20%20%20%20%20%20%20%20%20%20%20%20%20%20%20%20%5B1.3078539%2C%20103.7776795%5D%2C%0A%20%20%20%20%20%20%20%20%20%20%20%20%20%20%20%20%7B%7D%0A%20%20%20%20%20%20%20%20%20%20%20%20%29.addTo%28map_939d90e4d8d241eabdc0431bfeed8cce%29%3B%0A%20%20%20%20%20%20%20%20%0A%20%20%20%20%0A%20%20%20%20%20%20%20%20var%20popup_1db08193b53a4aeb862c3c666db0a302%20%3D%20L.popup%28%7B%22maxWidth%22%3A%20%22100%25%22%7D%29%3B%0A%0A%20%20%20%20%20%20%20%20%0A%20%20%20%20%20%20%20%20%20%20%20%20var%20html_fa2385bbf3174495b38bcb885cbeb2ce%20%3D%20%24%28%60%3Cdiv%20id%3D%22html_fa2385bbf3174495b38bcb885cbeb2ce%22%20style%3D%22width%3A%20100.0%25%3B%20height%3A%20100.0%25%3B%22%3ETechnical%20University%20of%20Munich%3C/div%3E%60%29%5B0%5D%3B%0A%20%20%20%20%20%20%20%20%20%20%20%20popup_1db08193b53a4aeb862c3c666db0a302.setContent%28html_fa2385bbf3174495b38bcb885cbeb2ce%29%3B%0A%20%20%20%20%20%20%20%20%0A%0A%20%20%20%20%20%20%20%20marker_baf69dacc71c4d5f81b9d127d97b3109.bindPopup%28popup_1db08193b53a4aeb862c3c666db0a302%29%0A%20%20%20%20%20%20%20%20%3B%0A%0A%20%20%20%20%20%20%20%20%0A%20%20%20%20%0A%20%20%20%20%0A%20%20%20%20%20%20%20%20%20%20%20%20var%20marker_2ca4b59db1374fc7abe5dce0fa389f09%20%3D%20L.marker%28%0A%20%20%20%20%20%20%20%20%20%20%20%20%20%20%20%20%5B41.11442525%2C%20-83.16686666639325%5D%2C%0A%20%20%20%20%20%20%20%20%20%20%20%20%20%20%20%20%7B%7D%0A%20%20%20%20%20%20%20%20%20%20%20%20%29.addTo%28map_939d90e4d8d241eabdc0431bfeed8cce%29%3B%0A%20%20%20%20%20%20%20%20%0A%20%20%20%20%0A%20%20%20%20%20%20%20%20var%20popup_5412d0a1bee04c30aacad287872fe31a%20%3D%20L.popup%28%7B%22maxWidth%22%3A%20%22100%25%22%7D%29%3B%0A%0A%20%20%20%20%20%20%20%20%0A%20%20%20%20%20%20%20%20%20%20%20%20var%20html_bae4db83bfbf4c4ba0b9ea0d97bc50ef%20%3D%20%24%28%60%3Cdiv%20id%3D%22html_bae4db83bfbf4c4ba0b9ea0d97bc50ef%22%20style%3D%22width%3A%20100.0%25%3B%20height%3A%20100.0%25%3B%22%3EHeidelberg%20University%3C/div%3E%60%29%5B0%5D%3B%0A%20%20%20%20%20%20%20%20%20%20%20%20popup_5412d0a1bee04c30aacad287872fe31a.setContent%28html_bae4db83bfbf4c4ba0b9ea0d97bc50ef%29%3B%0A%20%20%20%20%20%20%20%20%0A%0A%20%20%20%20%20%20%20%20marker_2ca4b59db1374fc7abe5dce0fa389f09.bindPopup%28popup_5412d0a1bee04c30aacad287872fe31a%29%0A%20%20%20%20%20%20%20%20%3B%0A%0A%20%20%20%20%20%20%20%20%0A%20%20%20%20%0A%20%20%20%20%0A%20%20%20%20%20%20%20%20%20%20%20%20var%20marker_e082c4dd18ce4f87aca86160d769db25%20%3D%20L.marker%28%0A%20%20%20%20%20%20%20%20%20%20%20%20%20%20%20%20%5B50.8626754%2C%204.6864853%5D%2C%0A%20%20%20%20%20%20%20%20%20%20%20%20%20%20%20%20%7B%7D%0A%20%20%20%20%20%20%20%20%20%20%20%20%29.addTo%28map_939d90e4d8d241eabdc0431bfeed8cce%29%3B%0A%20%20%20%20%20%20%20%20%0A%20%20%20%20%0A%20%20%20%20%20%20%20%20var%20popup_4ca66474fa0145c89abd0face3072af5%20%3D%20L.popup%28%7B%22maxWidth%22%3A%20%22100%25%22%7D%29%3B%0A%0A%20%20%20%20%20%20%20%20%0A%20%20%20%20%20%20%20%20%20%20%20%20var%20html_b69b932b30574a30bd9769750ca748b5%20%3D%20%24%28%60%3Cdiv%20id%3D%22html_b69b932b30574a30bd9769750ca748b5%22%20style%3D%22width%3A%20100.0%25%3B%20height%3A%20100.0%25%3B%22%3EKU%20Leuven%3C/div%3E%60%29%5B0%5D%3B%0A%20%20%20%20%20%20%20%20%20%20%20%20popup_4ca66474fa0145c89abd0face3072af5.setContent%28html_b69b932b30574a30bd9769750ca748b5%29%3B%0A%20%20%20%20%20%20%20%20%0A%0A%20%20%20%20%20%20%20%20marker_e082c4dd18ce4f87aca86160d769db25.bindPopup%28popup_4ca66474fa0145c89abd0face3072af5%29%0A%20%20%20%20%20%20%20%20%3B%0A%0A%20%20%20%20%20%20%20%20%0A%20%20%20%20%0A%20%20%20%20%0A%20%20%20%20%20%20%20%20%20%20%20%20var%20marker_20097e3678254d83a8a1c879c443b3e2%20%3D%20L.marker%28%0A%20%20%20%20%20%20%20%20%20%20%20%20%20%20%20%20%5B53.474855250000005%2C%20-2.2336140230927333%5D%2C%0A%20%20%20%20%20%20%20%20%20%20%20%20%20%20%20%20%7B%7D%0A%20%20%20%20%20%20%20%20%20%20%20%20%29.addTo%28map_939d90e4d8d241eabdc0431bfeed8cce%29%3B%0A%20%20%20%20%20%20%20%20%0A%20%20%20%20%0A%20%20%20%20%20%20%20%20var%20popup_4598d148e4134bc0a75714ca27872975%20%3D%20L.popup%28%7B%22maxWidth%22%3A%20%22100%25%22%7D%29%3B%0A%0A%20%20%20%20%20%20%20%20%0A%20%20%20%20%20%20%20%20%20%20%20%20var%20html_21b08e8f664c48d3a558196124e809e7%20%3D%20%24%28%60%3Cdiv%20id%3D%22html_21b08e8f664c48d3a558196124e809e7%22%20style%3D%22width%3A%20100.0%25%3B%20height%3A%20100.0%25%3B%22%3EUniversity%20of%20Manchester%3C/div%3E%60%29%5B0%5D%3B%0A%20%20%20%20%20%20%20%20%20%20%20%20popup_4598d148e4134bc0a75714ca27872975.setContent%28html_21b08e8f664c48d3a558196124e809e7%29%3B%0A%20%20%20%20%20%20%20%20%0A%0A%20%20%20%20%20%20%20%20marker_20097e3678254d83a8a1c879c443b3e2.bindPopup%28popup_4598d148e4134bc0a75714ca27872975%29%0A%20%20%20%20%20%20%20%20%3B%0A%0A%20%20%20%20%20%20%20%20%0A%20%20%20%20%0A%20%20%20%20%0A%20%20%20%20%20%20%20%20%20%20%20%20var%20marker_ae529c9d1e004dfba4b3540260a9ae96%20%3D%20L.marker%28%0A%20%20%20%20%20%20%20%20%20%20%20%20%20%20%20%20%5B51.99882735%2C%204.373960368154041%5D%2C%0A%20%20%20%20%20%20%20%20%20%20%20%20%20%20%20%20%7B%7D%0A%20%20%20%20%20%20%20%20%20%20%20%20%29.addTo%28map_939d90e4d8d241eabdc0431bfeed8cce%29%3B%0A%20%20%20%20%20%20%20%20%0A%20%20%20%20%0A%20%20%20%20%20%20%20%20var%20popup_dd6de7b2d5164b519d07a16052b48752%20%3D%20L.popup%28%7B%22maxWidth%22%3A%20%22100%25%22%7D%29%3B%0A%0A%20%20%20%20%20%20%20%20%0A%20%20%20%20%20%20%20%20%20%20%20%20var%20html_1418785b36ca4dbaa36cc421ce8f459a%20%3D%20%24%28%60%3Cdiv%20id%3D%22html_1418785b36ca4dbaa36cc421ce8f459a%22%20style%3D%22width%3A%20100.0%25%3B%20height%3A%20100.0%25%3B%22%3EDelft%20University%20of%20Technology%3C/div%3E%60%29%5B0%5D%3B%0A%20%20%20%20%20%20%20%20%20%20%20%20popup_dd6de7b2d5164b519d07a16052b48752.setContent%28html_1418785b36ca4dbaa36cc421ce8f459a%29%3B%0A%20%20%20%20%20%20%20%20%0A%0A%20%20%20%20%20%20%20%20marker_ae529c9d1e004dfba4b3540260a9ae96.bindPopup%28popup_dd6de7b2d5164b519d07a16052b48752%29%0A%20%20%20%20%20%20%20%20%3B%0A%0A%20%20%20%20%20%20%20%20%0A%20%20%20%20%0A%20%20%20%20%0A%20%20%20%20%20%20%20%20%20%20%20%20var%20marker_58c0395ceb1642b89f918de6c02d0d60%20%3D%20L.marker%28%0A%20%20%20%20%20%20%20%20%20%20%20%20%20%20%20%20%5B51.98544495%2C%205.663215776808785%5D%2C%0A%20%20%20%20%20%20%20%20%20%20%20%20%20%20%20%20%7B%7D%0A%20%20%20%20%20%20%20%20%20%20%20%20%29.addTo%28map_939d90e4d8d241eabdc0431bfeed8cce%29%3B%0A%20%20%20%20%20%20%20%20%0A%20%20%20%20%0A%20%20%20%20%20%20%20%20var%20popup_dd1278276e364b5aaa82c3ad76c90301%20%3D%20L.popup%28%7B%22maxWidth%22%3A%20%22100%25%22%7D%29%3B%0A%0A%20%20%20%20%20%20%20%20%0A%20%20%20%20%20%20%20%20%20%20%20%20var%20html_819373ac184840ed87590e954a7b4e66%20%3D%20%24%28%60%3Cdiv%20id%3D%22html_819373ac184840ed87590e954a7b4e66%22%20style%3D%22width%3A%20100.0%25%3B%20height%3A%20100.0%25%3B%22%3EWageningen%20University%20%26%20Research%3C/div%3E%60%29%5B0%5D%3B%0A%20%20%20%20%20%20%20%20%20%20%20%20popup_dd1278276e364b5aaa82c3ad76c90301.setContent%28html_819373ac184840ed87590e954a7b4e66%29%3B%0A%20%20%20%20%20%20%20%20%0A%0A%20%20%20%20%20%20%20%20marker_58c0395ceb1642b89f918de6c02d0d60.bindPopup%28popup_dd1278276e364b5aaa82c3ad76c90301%29%0A%20%20%20%20%20%20%20%20%3B%0A%0A%20%20%20%20%20%20%20%20%0A%20%20%20%20%0A%20%20%20%20%0A%20%20%20%20%20%20%20%20%20%20%20%20var%20marker_f48b7ad1d9d14856ac94056aee462466%20%3D%20L.marker%28%0A%20%20%20%20%20%20%20%20%20%20%20%20%20%20%20%20%5B52.36813335%2C%204.889804155733945%5D%2C%0A%20%20%20%20%20%20%20%20%20%20%20%20%20%20%20%20%7B%7D%0A%20%20%20%20%20%20%20%20%20%20%20%20%29.addTo%28map_939d90e4d8d241eabdc0431bfeed8cce%29%3B%0A%20%20%20%20%20%20%20%20%0A%20%20%20%20%0A%20%20%20%20%20%20%20%20var%20popup_81727ba08def4ce8b12107e0e7de32e5%20%3D%20L.popup%28%7B%22maxWidth%22%3A%20%22100%25%22%7D%29%3B%0A%0A%20%20%20%20%20%20%20%20%0A%20%20%20%20%20%20%20%20%20%20%20%20var%20html_89203355555647f0aa55c119066353ca%20%3D%20%24%28%60%3Cdiv%20id%3D%22html_89203355555647f0aa55c119066353ca%22%20style%3D%22width%3A%20100.0%25%3B%20height%3A%20100.0%25%3B%22%3EUniversity%20of%20Amsterdam%3C/div%3E%60%29%5B0%5D%3B%0A%20%20%20%20%20%20%20%20%20%20%20%20popup_81727ba08def4ce8b12107e0e7de32e5.setContent%28html_89203355555647f0aa55c119066353ca%29%3B%0A%20%20%20%20%20%20%20%20%0A%0A%20%20%20%20%20%20%20%20marker_f48b7ad1d9d14856ac94056aee462466.bindPopup%28popup_81727ba08def4ce8b12107e0e7de32e5%29%0A%20%20%20%20%20%20%20%20%3B%0A%0A%20%20%20%20%20%20%20%20%0A%20%20%20%20%0A%20%20%20%20%0A%20%20%20%20%20%20%20%20%20%20%20%20var%20marker_3fd2544b957a438d9385df87ef5370cb%20%3D%20L.marker%28%0A%20%20%20%20%20%20%20%20%20%20%20%20%20%20%20%20%5B52.51858145%2C%2013.39287840245042%5D%2C%0A%20%20%20%20%20%20%20%20%20%20%20%20%20%20%20%20%7B%7D%0A%20%20%20%20%20%20%20%20%20%20%20%20%29.addTo%28map_939d90e4d8d241eabdc0431bfeed8cce%29%3B%0A%20%20%20%20%20%20%20%20%0A%20%20%20%20%0A%20%20%20%20%20%20%20%20var%20popup_be51d6e13aa94ccea490be04d6b283f8%20%3D%20L.popup%28%7B%22maxWidth%22%3A%20%22100%25%22%7D%29%3B%0A%0A%20%20%20%20%20%20%20%20%0A%20%20%20%20%20%20%20%20%20%20%20%20var%20html_f5ce1709eadd427e8c30c6fc3f612506%20%3D%20%24%28%60%3Cdiv%20id%3D%22html_f5ce1709eadd427e8c30c6fc3f612506%22%20style%3D%22width%3A%20100.0%25%3B%20height%3A%20100.0%25%3B%22%3EHumboldt%20University%20of%20Berlin%3C/div%3E%60%29%5B0%5D%3B%0A%20%20%20%20%20%20%20%20%20%20%20%20popup_be51d6e13aa94ccea490be04d6b283f8.setContent%28html_f5ce1709eadd427e8c30c6fc3f612506%29%3B%0A%20%20%20%20%20%20%20%20%0A%0A%20%20%20%20%20%20%20%20marker_3fd2544b957a438d9385df87ef5370cb.bindPopup%28popup_be51d6e13aa94ccea490be04d6b283f8%29%0A%20%20%20%20%20%20%20%20%3B%0A%0A%20%20%20%20%20%20%20%20%0A%20%20%20%20%0A%20%20%20%20%0A%20%20%20%20%20%20%20%20%20%20%20%20var%20marker_80b417c80baa4776bd1aa45a75ab0949%20%3D%20L.marker%28%0A%20%20%20%20%20%20%20%20%20%20%20%20%20%20%20%20%5B52.168633850000006%2C%204.45966305742133%5D%2C%0A%20%20%20%20%20%20%20%20%20%20%20%20%20%20%20%20%7B%7D%0A%20%20%20%20%20%20%20%20%20%20%20%20%29.addTo%28map_939d90e4d8d241eabdc0431bfeed8cce%29%3B%0A%20%20%20%20%20%20%20%20%0A%20%20%20%20%0A%20%20%20%20%20%20%20%20var%20popup_0f1d7c113d084bb3929e1fd875bd7208%20%3D%20L.popup%28%7B%22maxWidth%22%3A%20%22100%25%22%7D%29%3B%0A%0A%20%20%20%20%20%20%20%20%0A%20%20%20%20%20%20%20%20%20%20%20%20var%20html_1e03f22c121e4d3f854b7e85f9acfb4e%20%3D%20%24%28%60%3Cdiv%20id%3D%22html_1e03f22c121e4d3f854b7e85f9acfb4e%22%20style%3D%22width%3A%20100.0%25%3B%20height%3A%20100.0%25%3B%22%3ELeiden%20University%3C/div%3E%60%29%5B0%5D%3B%0A%20%20%20%20%20%20%20%20%20%20%20%20popup_0f1d7c113d084bb3929e1fd875bd7208.setContent%28html_1e03f22c121e4d3f854b7e85f9acfb4e%29%3B%0A%20%20%20%20%20%20%20%20%0A%0A%20%20%20%20%20%20%20%20marker_80b417c80baa4776bd1aa45a75ab0949.bindPopup%28popup_0f1d7c113d084bb3929e1fd875bd7208%29%0A%20%20%20%20%20%20%20%20%3B%0A%0A%20%20%20%20%20%20%20%20%0A%20%20%20%20%0A%20%20%20%20%0A%20%20%20%20%20%20%20%20%20%20%20%20var%20marker_27d181b91e3446a28a215ec177d2f2a7%20%3D%20L.marker%28%0A%20%20%20%20%20%20%20%20%20%20%20%20%20%20%20%20%5B51.9228696%2C%204.487498568528366%5D%2C%0A%20%20%20%20%20%20%20%20%20%20%20%20%20%20%20%20%7B%7D%0A%20%20%20%20%20%20%20%20%20%20%20%20%29.addTo%28map_939d90e4d8d241eabdc0431bfeed8cce%29%3B%0A%20%20%20%20%20%20%20%20%0A%20%20%20%20%0A%20%20%20%20%20%20%20%20var%20popup_affc297511a64f9ba94c4f2ea48859b3%20%3D%20L.popup%28%7B%22maxWidth%22%3A%20%22100%25%22%7D%29%3B%0A%0A%20%20%20%20%20%20%20%20%0A%20%20%20%20%20%20%20%20%20%20%20%20var%20html_c8cada4de034428888d8da1ac760a42b%20%3D%20%24%28%60%3Cdiv%20id%3D%22html_c8cada4de034428888d8da1ac760a42b%22%20style%3D%22width%3A%20100.0%25%3B%20height%3A%20100.0%25%3B%22%3EErasmus%20University%20Rotterdam%3C/div%3E%60%29%5B0%5D%3B%0A%20%20%20%20%20%20%20%20%20%20%20%20popup_affc297511a64f9ba94c4f2ea48859b3.setContent%28html_c8cada4de034428888d8da1ac760a42b%29%3B%0A%20%20%20%20%20%20%20%20%0A%0A%20%20%20%20%20%20%20%20marker_27d181b91e3446a28a215ec177d2f2a7.bindPopup%28popup_affc297511a64f9ba94c4f2ea48859b3%29%0A%20%20%20%20%20%20%20%20%3B%0A%0A%20%20%20%20%20%20%20%20%0A%20%20%20%20%0A%20%20%20%20%0A%20%20%20%20%20%20%20%20%20%20%20%20var%20marker_82cfa9211ac341bdab1df7d44227864c%20%3D%20L.marker%28%0A%20%20%20%20%20%20%20%20%20%20%20%20%20%20%20%20%5B48.846899699999994%2C%202.357448653115875%5D%2C%0A%20%20%20%20%20%20%20%20%20%20%20%20%20%20%20%20%7B%7D%0A%20%20%20%20%20%20%20%20%20%20%20%20%29.addTo%28map_939d90e4d8d241eabdc0431bfeed8cce%29%3B%0A%20%20%20%20%20%20%20%20%0A%20%20%20%20%0A%20%20%20%20%20%20%20%20var%20popup_7d7edc6375a44b19a66c2a6442c45c9c%20%3D%20L.popup%28%7B%22maxWidth%22%3A%20%22100%25%22%7D%29%3B%0A%0A%20%20%20%20%20%20%20%20%0A%20%20%20%20%20%20%20%20%20%20%20%20var%20html_8b77ce0e2bd246969ce9d2e60ba88a69%20%3D%20%24%28%60%3Cdiv%20id%3D%22html_8b77ce0e2bd246969ce9d2e60ba88a69%22%20style%3D%22width%3A%20100.0%25%3B%20height%3A%20100.0%25%3B%22%3ESorbonne%20University%3C/div%3E%60%29%5B0%5D%3B%0A%20%20%20%20%20%20%20%20%20%20%20%20popup_7d7edc6375a44b19a66c2a6442c45c9c.setContent%28html_8b77ce0e2bd246969ce9d2e60ba88a69%29%3B%0A%20%20%20%20%20%20%20%20%0A%0A%20%20%20%20%20%20%20%20marker_82cfa9211ac341bdab1df7d44227864c.bindPopup%28popup_7d7edc6375a44b19a66c2a6442c45c9c%29%0A%20%20%20%20%20%20%20%20%3B%0A%0A%20%20%20%20%20%20%20%20%0A%20%20%20%20%0A%20%20%20%20%0A%20%20%20%20%20%20%20%20%20%20%20%20var%20marker_8f538b2f88044a7fa518c4c0a7b6243c%20%3D%20L.marker%28%0A%20%20%20%20%20%20%20%20%20%20%20%20%20%20%20%20%5B52.0851623%2C%205.1741064%5D%2C%0A%20%20%20%20%20%20%20%20%20%20%20%20%20%20%20%20%7B%7D%0A%20%20%20%20%20%20%20%20%20%20%20%20%29.addTo%28map_939d90e4d8d241eabdc0431bfeed8cce%29%3B%0A%20%20%20%20%20%20%20%20%0A%20%20%20%20%0A%20%20%20%20%20%20%20%20var%20popup_154661088678410c9e6dbf2688fb79eb%20%3D%20L.popup%28%7B%22maxWidth%22%3A%20%22100%25%22%7D%29%3B%0A%0A%20%20%20%20%20%20%20%20%0A%20%20%20%20%20%20%20%20%20%20%20%20var%20html_a5182e23e64744e3ba06d795fe92613b%20%3D%20%24%28%60%3Cdiv%20id%3D%22html_a5182e23e64744e3ba06d795fe92613b%22%20style%3D%22width%3A%20100.0%25%3B%20height%3A%20100.0%25%3B%22%3EUtrecht%20University%3C/div%3E%60%29%5B0%5D%3B%0A%20%20%20%20%20%20%20%20%20%20%20%20popup_154661088678410c9e6dbf2688fb79eb.setContent%28html_a5182e23e64744e3ba06d795fe92613b%29%3B%0A%20%20%20%20%20%20%20%20%0A%0A%20%20%20%20%20%20%20%20marker_8f538b2f88044a7fa518c4c0a7b6243c.bindPopup%28popup_154661088678410c9e6dbf2688fb79eb%29%0A%20%20%20%20%20%20%20%20%3B%0A%0A%20%20%20%20%20%20%20%20%0A%20%20%20%20%0A%20%20%20%20%0A%20%20%20%20%20%20%20%20%20%20%20%20var%20marker_da2f9a7cb654458ea0ead91755390c7b%20%3D%20L.marker%28%0A%20%20%20%20%20%20%20%20%20%20%20%20%20%20%20%20%5B46.793058%2C%207.157106%5D%2C%0A%20%20%20%20%20%20%20%20%20%20%20%20%20%20%20%20%7B%7D%0A%20%20%20%20%20%20%20%20%20%20%20%20%29.addTo%28map_939d90e4d8d241eabdc0431bfeed8cce%29%3B%0A%20%20%20%20%20%20%20%20%0A%20%20%20%20%0A%20%20%20%20%20%20%20%20var%20popup_4430e689114d4e32ad75c13881575f20%20%3D%20L.popup%28%7B%22maxWidth%22%3A%20%22100%25%22%7D%29%3B%0A%0A%20%20%20%20%20%20%20%20%0A%20%20%20%20%20%20%20%20%20%20%20%20var%20html_49f7cc2227084e9eb0c7fafcdb2c093c%20%3D%20%24%28%60%3Cdiv%20id%3D%22html_49f7cc2227084e9eb0c7fafcdb2c093c%22%20style%3D%22width%3A%20100.0%25%3B%20height%3A%20100.0%25%3B%22%3EUniversity%20of%20Freiburg%3C/div%3E%60%29%5B0%5D%3B%0A%20%20%20%20%20%20%20%20%20%20%20%20popup_4430e689114d4e32ad75c13881575f20.setContent%28html_49f7cc2227084e9eb0c7fafcdb2c093c%29%3B%0A%20%20%20%20%20%20%20%20%0A%0A%20%20%20%20%20%20%20%20marker_da2f9a7cb654458ea0ead91755390c7b.bindPopup%28popup_4430e689114d4e32ad75c13881575f20%29%0A%20%20%20%20%20%20%20%20%3B%0A%0A%20%20%20%20%20%20%20%20%0A%20%20%20%20%0A%20%20%20%20%0A%20%20%20%20%20%20%20%20%20%20%20%20var%20marker_d37a88549ad74a778da39ca0999ee376%20%3D%20L.marker%28%0A%20%20%20%20%20%20%20%20%20%20%20%20%20%20%20%20%5B51.4599701%2C%20-2.6043359%5D%2C%0A%20%20%20%20%20%20%20%20%20%20%20%20%20%20%20%20%7B%7D%0A%20%20%20%20%20%20%20%20%20%20%20%20%29.addTo%28map_939d90e4d8d241eabdc0431bfeed8cce%29%3B%0A%20%20%20%20%20%20%20%20%0A%20%20%20%20%0A%20%20%20%20%20%20%20%20var%20popup_91cbcff47c3f49aa85967b6734b2160b%20%3D%20L.popup%28%7B%22maxWidth%22%3A%20%22100%25%22%7D%29%3B%0A%0A%20%20%20%20%20%20%20%20%0A%20%20%20%20%20%20%20%20%20%20%20%20var%20html_e3b77c23e4e44b55abe4f01aa06bfc6b%20%3D%20%24%28%60%3Cdiv%20id%3D%22html_e3b77c23e4e44b55abe4f01aa06bfc6b%22%20style%3D%22width%3A%20100.0%25%3B%20height%3A%20100.0%25%3B%22%3EUniversity%20of%20Bristol%3C/div%3E%60%29%5B0%5D%3B%0A%20%20%20%20%20%20%20%20%20%20%20%20popup_91cbcff47c3f49aa85967b6734b2160b.setContent%28html_e3b77c23e4e44b55abe4f01aa06bfc6b%29%3B%0A%20%20%20%20%20%20%20%20%0A%0A%20%20%20%20%20%20%20%20marker_d37a88549ad74a778da39ca0999ee376.bindPopup%28popup_91cbcff47c3f49aa85967b6734b2160b%29%0A%20%20%20%20%20%20%20%20%3B%0A%0A%20%20%20%20%20%20%20%20%0A%20%20%20%20%0A%20%20%20%20%0A%20%20%20%20%20%20%20%20%20%20%20%20var%20marker_fbbdae29f0a448cab27ec2ad295a87bf%20%3D%20L.marker%28%0A%20%20%20%20%20%20%20%20%20%20%20%20%20%20%20%20%5B53.21967825%2C%206.562514810379012%5D%2C%0A%20%20%20%20%20%20%20%20%20%20%20%20%20%20%20%20%7B%7D%0A%20%20%20%20%20%20%20%20%20%20%20%20%29.addTo%28map_939d90e4d8d241eabdc0431bfeed8cce%29%3B%0A%20%20%20%20%20%20%20%20%0A%20%20%20%20%0A%20%20%20%20%20%20%20%20var%20popup_1fce8e289950401a8821e35a814d14dc%20%3D%20L.popup%28%7B%22maxWidth%22%3A%20%22100%25%22%7D%29%3B%0A%0A%20%20%20%20%20%20%20%20%0A%20%20%20%20%20%20%20%20%20%20%20%20var%20html_5efb1b5b83474744af6362813425b3c1%20%3D%20%24%28%60%3Cdiv%20id%3D%22html_5efb1b5b83474744af6362813425b3c1%22%20style%3D%22width%3A%20100.0%25%3B%20height%3A%20100.0%25%3B%22%3EUniversity%20of%20Groningen%3C/div%3E%60%29%5B0%5D%3B%0A%20%20%20%20%20%20%20%20%20%20%20%20popup_1fce8e289950401a8821e35a814d14dc.setContent%28html_5efb1b5b83474744af6362813425b3c1%29%3B%0A%20%20%20%20%20%20%20%20%0A%0A%20%20%20%20%20%20%20%20marker_fbbdae29f0a448cab27ec2ad295a87bf.bindPopup%28popup_1fce8e289950401a8821e35a814d14dc%29%0A%20%20%20%20%20%20%20%20%3B%0A%0A%20%20%20%20%20%20%20%20%0A%20%20%20%20%0A%20%20%20%20%0A%20%20%20%20%20%20%20%20%20%20%20%20var%20marker_6983e4c8306e4ee883828b8d8d369fbf%20%3D%20L.marker%28%0A%20%20%20%20%20%20%20%20%20%20%20%20%20%20%20%20%5B52.3813073%2C%20-1.5639569481637439%5D%2C%0A%20%20%20%20%20%20%20%20%20%20%20%20%20%20%20%20%7B%7D%0A%20%20%20%20%20%20%20%20%20%20%20%20%29.addTo%28map_939d90e4d8d241eabdc0431bfeed8cce%29%3B%0A%20%20%20%20%20%20%20%20%0A%20%20%20%20%0A%20%20%20%20%20%20%20%20var%20popup_bb3a1bb5917c40d292240a4676b0339a%20%3D%20L.popup%28%7B%22maxWidth%22%3A%20%22100%25%22%7D%29%3B%0A%0A%20%20%20%20%20%20%20%20%0A%20%20%20%20%20%20%20%20%20%20%20%20var%20html_0d23bc55629b432e942a35ffbce9e77d%20%3D%20%24%28%60%3Cdiv%20id%3D%22html_0d23bc55629b432e942a35ffbce9e77d%22%20style%3D%22width%3A%20100.0%25%3B%20height%3A%20100.0%25%3B%22%3EUniversity%20of%20Warwick%3C/div%3E%60%29%5B0%5D%3B%0A%20%20%20%20%20%20%20%20%20%20%20%20popup_bb3a1bb5917c40d292240a4676b0339a.setContent%28html_0d23bc55629b432e942a35ffbce9e77d%29%3B%0A%20%20%20%20%20%20%20%20%0A%0A%20%20%20%20%20%20%20%20marker_6983e4c8306e4ee883828b8d8d369fbf.bindPopup%28popup_bb3a1bb5917c40d292240a4676b0339a%29%0A%20%20%20%20%20%20%20%20%3B%0A%0A%20%20%20%20%20%20%20%20%0A%20%20%20%20%0A%20%20%20%20%0A%20%20%20%20%20%20%20%20%20%20%20%20var%20marker_67c1c0f3f8ab4d49a0be6a7c3bdbd392%20%3D%20L.marker%28%0A%20%20%20%20%20%20%20%20%20%20%20%20%20%20%20%20%5B50.779170300000004%2C%206.068920799008829%5D%2C%0A%20%20%20%20%20%20%20%20%20%20%20%20%20%20%20%20%7B%7D%0A%20%20%20%20%20%20%20%20%20%20%20%20%29.addTo%28map_939d90e4d8d241eabdc0431bfeed8cce%29%3B%0A%20%20%20%20%20%20%20%20%0A%20%20%20%20%0A%20%20%20%20%20%20%20%20var%20popup_9f1226ae6a074267b85e8ef53febe322%20%3D%20L.popup%28%7B%22maxWidth%22%3A%20%22100%25%22%7D%29%3B%0A%0A%20%20%20%20%20%20%20%20%0A%20%20%20%20%20%20%20%20%20%20%20%20var%20html_3ac6b7d259214564beb7d04be2a2b2ea%20%3D%20%24%28%60%3Cdiv%20id%3D%22html_3ac6b7d259214564beb7d04be2a2b2ea%22%20style%3D%22width%3A%20100.0%25%3B%20height%3A%20100.0%25%3B%22%3ERWTH%20Aachen%20University%3C/div%3E%60%29%5B0%5D%3B%0A%20%20%20%20%20%20%20%20%20%20%20%20popup_9f1226ae6a074267b85e8ef53febe322.setContent%28html_3ac6b7d259214564beb7d04be2a2b2ea%29%3B%0A%20%20%20%20%20%20%20%20%0A%0A%20%20%20%20%20%20%20%20marker_67c1c0f3f8ab4d49a0be6a7c3bdbd392.bindPopup%28popup_9f1226ae6a074267b85e8ef53febe322%29%0A%20%20%20%20%20%20%20%20%3B%0A%0A%20%20%20%20%20%20%20%20%0A%20%20%20%20%0A%20%20%20%20%0A%20%20%20%20%20%20%20%20%20%20%20%20var%20marker_0ce58137162b4cff9df51879744604af%20%3D%20L.marker%28%0A%20%20%20%20%20%20%20%20%20%20%20%20%20%20%20%20%5B59.8617859%2C%2017.6376705%5D%2C%0A%20%20%20%20%20%20%20%20%20%20%20%20%20%20%20%20%7B%7D%0A%20%20%20%20%20%20%20%20%20%20%20%20%29.addTo%28map_939d90e4d8d241eabdc0431bfeed8cce%29%3B%0A%20%20%20%20%20%20%20%20%0A%20%20%20%20%0A%20%20%20%20%20%20%20%20var%20popup_02db044be7e4453a980ecda5f8b3fcf5%20%3D%20L.popup%28%7B%22maxWidth%22%3A%20%22100%25%22%7D%29%3B%0A%0A%20%20%20%20%20%20%20%20%0A%20%20%20%20%20%20%20%20%20%20%20%20var%20html_7bccd53cec5b465e9f42ed863ec16d15%20%3D%20%24%28%60%3Cdiv%20id%3D%22html_7bccd53cec5b465e9f42ed863ec16d15%22%20style%3D%22width%3A%20100.0%25%3B%20height%3A%20100.0%25%3B%22%3EUppsala%20University%3C/div%3E%60%29%5B0%5D%3B%0A%20%20%20%20%20%20%20%20%20%20%20%20popup_02db044be7e4453a980ecda5f8b3fcf5.setContent%28html_7bccd53cec5b465e9f42ed863ec16d15%29%3B%0A%20%20%20%20%20%20%20%20%0A%0A%20%20%20%20%20%20%20%20marker_0ce58137162b4cff9df51879744604af.bindPopup%28popup_02db044be7e4453a980ecda5f8b3fcf5%29%0A%20%20%20%20%20%20%20%20%3B%0A%0A%20%20%20%20%20%20%20%20%0A%20%20%20%20%0A%20%20%20%20%0A%20%20%20%20%20%20%20%20%20%20%20%20var%20marker_015da3442ceb44329955ade1285fd683%20%3D%20L.marker%28%0A%20%20%20%20%20%20%20%20%20%20%20%20%20%20%20%20%5B48.53405945%2C%209.071244429234808%5D%2C%0A%20%20%20%20%20%20%20%20%20%20%20%20%20%20%20%20%7B%7D%0A%20%20%20%20%20%20%20%20%20%20%20%20%29.addTo%28map_939d90e4d8d241eabdc0431bfeed8cce%29%3B%0A%20%20%20%20%20%20%20%20%0A%20%20%20%20%0A%20%20%20%20%20%20%20%20var%20popup_90c29f37441d4ba3a99be2d56ee6f378%20%3D%20L.popup%28%7B%22maxWidth%22%3A%20%22100%25%22%7D%29%3B%0A%0A%20%20%20%20%20%20%20%20%0A%20%20%20%20%20%20%20%20%20%20%20%20var%20html_6935df59bf6e4a53bb94fbb0cca5ea74%20%3D%20%24%28%60%3Cdiv%20id%3D%22html_6935df59bf6e4a53bb94fbb0cca5ea74%22%20style%3D%22width%3A%20100.0%25%3B%20height%3A%20100.0%25%3B%22%3EUniversity%20of%20T%C3%BCbingen%3C/div%3E%60%29%5B0%5D%3B%0A%20%20%20%20%20%20%20%20%20%20%20%20popup_90c29f37441d4ba3a99be2d56ee6f378.setContent%28html_6935df59bf6e4a53bb94fbb0cca5ea74%29%3B%0A%20%20%20%20%20%20%20%20%0A%0A%20%20%20%20%20%20%20%20marker_015da3442ceb44329955ade1285fd683.bindPopup%28popup_90c29f37441d4ba3a99be2d56ee6f378%29%0A%20%20%20%20%20%20%20%20%3B%0A%0A%20%20%20%20%20%20%20%20%0A%20%20%20%20%0A%20%20%20%20%0A%20%20%20%20%20%20%20%20%20%20%20%20var%20marker_45c8041000004a1292b511c4403e900b%20%3D%20L.marker%28%0A%20%20%20%20%20%20%20%20%20%20%20%20%20%20%20%20%5B52.52585125%2C%2013.377739577932736%5D%2C%0A%20%20%20%20%20%20%20%20%20%20%20%20%20%20%20%20%7B%7D%0A%20%20%20%20%20%20%20%20%20%20%20%20%29.addTo%28map_939d90e4d8d241eabdc0431bfeed8cce%29%3B%0A%20%20%20%20%20%20%20%20%0A%20%20%20%20%0A%20%20%20%20%20%20%20%20var%20popup_87b2a9b8010244d2aa20b7657a630751%20%3D%20L.popup%28%7B%22maxWidth%22%3A%20%22100%25%22%7D%29%3B%0A%0A%20%20%20%20%20%20%20%20%0A%20%20%20%20%20%20%20%20%20%20%20%20var%20html_bc77ef4f0efc421db69c348394565e10%20%3D%20%24%28%60%3Cdiv%20id%3D%22html_bc77ef4f0efc421db69c348394565e10%22%20style%3D%22width%3A%20100.0%25%3B%20height%3A%20100.0%25%3B%22%3ECharit%C3%A9%20-%20Universit%C3%A4tsmedizin%20Berlin%3C/div%3E%60%29%5B0%5D%3B%0A%20%20%20%20%20%20%20%20%20%20%20%20popup_87b2a9b8010244d2aa20b7657a630751.setContent%28html_bc77ef4f0efc421db69c348394565e10%29%3B%0A%20%20%20%20%20%20%20%20%0A%0A%20%20%20%20%20%20%20%20marker_45c8041000004a1292b511c4403e900b.bindPopup%28popup_87b2a9b8010244d2aa20b7657a630751%29%0A%20%20%20%20%20%20%20%20%3B%0A%0A%20%20%20%20%20%20%20%20%0A%20%20%20%20%0A%20%20%20%20%0A%20%20%20%20%20%20%20%20%20%20%20%20var%20marker_9260b2a3ecaf476992a785d71602d098%20%3D%20L.marker%28%0A%20%20%20%20%20%20%20%20%20%20%20%20%20%20%20%20%5B47.49684345%2C%208.72980716809498%5D%2C%0A%20%20%20%20%20%20%20%20%20%20%20%20%20%20%20%20%7B%7D%0A%20%20%20%20%20%20%20%20%20%20%20%20%29.addTo%28map_939d90e4d8d241eabdc0431bfeed8cce%29%3B%0A%20%20%20%20%20%20%20%20%0A%20%20%20%20%0A%20%20%20%20%20%20%20%20var%20popup_7db5ea718c66444aa82d274184cf494c%20%3D%20L.popup%28%7B%22maxWidth%22%3A%20%22100%25%22%7D%29%3B%0A%0A%20%20%20%20%20%20%20%20%0A%20%20%20%20%20%20%20%20%20%20%20%20var%20html_c36af1d94db643068bc4281fe2ee4b96%20%3D%20%24%28%60%3Cdiv%20id%3D%22html_c36af1d94db643068bc4281fe2ee4b96%22%20style%3D%22width%3A%20100.0%25%3B%20height%3A%20100.0%25%3B%22%3EUniversity%20of%20Zurich%3C/div%3E%60%29%5B0%5D%3B%0A%20%20%20%20%20%20%20%20%20%20%20%20popup_7db5ea718c66444aa82d274184cf494c.setContent%28html_c36af1d94db643068bc4281fe2ee4b96%29%3B%0A%20%20%20%20%20%20%20%20%0A%0A%20%20%20%20%20%20%20%20marker_9260b2a3ecaf476992a785d71602d098.bindPopup%28popup_7db5ea718c66444aa82d274184cf494c%29%0A%20%20%20%20%20%20%20%20%3B%0A%0A%20%20%20%20%20%20%20%20%0A%20%20%20%20%0A%20%20%20%20%0A%20%20%20%20%20%20%20%20%20%20%20%20var%20marker_54f80453ddbc4138b14846e8278b35ef%20%3D%20L.marker%28%0A%20%20%20%20%20%20%20%20%20%20%20%20%20%20%20%20%5B55.872315349999994%2C%20-4.289219112981823%5D%2C%0A%20%20%20%20%20%20%20%20%20%20%20%20%20%20%20%20%7B%7D%0A%20%20%20%20%20%20%20%20%20%20%20%20%29.addTo%28map_939d90e4d8d241eabdc0431bfeed8cce%29%3B%0A%20%20%20%20%20%20%20%20%0A%20%20%20%20%0A%20%20%20%20%20%20%20%20var%20popup_3175fa6c3f5b4ef5902ed93dee458b26%20%3D%20L.popup%28%7B%22maxWidth%22%3A%20%22100%25%22%7D%29%3B%0A%0A%20%20%20%20%20%20%20%20%0A%20%20%20%20%20%20%20%20%20%20%20%20var%20html_0dd3f415e70e454eba97ef6f3a5187fe%20%3D%20%24%28%60%3Cdiv%20id%3D%22html_0dd3f415e70e454eba97ef6f3a5187fe%22%20style%3D%22width%3A%20100.0%25%3B%20height%3A%20100.0%25%3B%22%3EUniversity%20of%20Glasgow%3C/div%3E%60%29%5B0%5D%3B%0A%20%20%20%20%20%20%20%20%20%20%20%20popup_3175fa6c3f5b4ef5902ed93dee458b26.setContent%28html_0dd3f415e70e454eba97ef6f3a5187fe%29%3B%0A%20%20%20%20%20%20%20%20%0A%0A%20%20%20%20%20%20%20%20marker_54f80453ddbc4138b14846e8278b35ef.bindPopup%28popup_3175fa6c3f5b4ef5902ed93dee458b26%29%0A%20%20%20%20%20%20%20%20%3B%0A%0A%20%20%20%20%20%20%20%20%0A%20%20%20%20%0A%20%20%20%20%0A%20%20%20%20%20%20%20%20%20%20%20%20var%20marker_efc22df647d64ef5a5c833f51bad63c2%20%3D%20L.marker%28%0A%20%20%20%20%20%20%20%20%20%20%20%20%20%20%20%20%5B58.163098500000004%2C%208.001442632957419%5D%2C%0A%20%20%20%20%20%20%20%20%20%20%20%20%20%20%20%20%7B%7D%0A%20%20%20%20%20%20%20%20%20%20%20%20%29.addTo%28map_939d90e4d8d241eabdc0431bfeed8cce%29%3B%0A%20%20%20%20%20%20%20%20%0A%20%20%20%20%0A%20%20%20%20%20%20%20%20var%20popup_3e5ab17d149b4869a1e29f6483741fcf%20%3D%20L.popup%28%7B%22maxWidth%22%3A%20%22100%25%22%7D%29%3B%0A%0A%20%20%20%20%20%20%20%20%0A%20%20%20%20%20%20%20%20%20%20%20%20var%20html_8482c14e62824d7887e96b32fb241266%20%3D%20%24%28%60%3Cdiv%20id%3D%22html_8482c14e62824d7887e96b32fb241266%22%20style%3D%22width%3A%20100.0%25%3B%20height%3A%20100.0%25%3B%22%3ELund%20University%3C/div%3E%60%29%5B0%5D%3B%0A%20%20%20%20%20%20%20%20%20%20%20%20popup_3e5ab17d149b4869a1e29f6483741fcf.setContent%28html_8482c14e62824d7887e96b32fb241266%29%3B%0A%20%20%20%20%20%20%20%20%0A%0A%20%20%20%20%20%20%20%20marker_efc22df647d64ef5a5c833f51bad63c2.bindPopup%28popup_3e5ab17d149b4869a1e29f6483741fcf%29%0A%20%20%20%20%20%20%20%20%3B%0A%0A%20%20%20%20%20%20%20%20%0A%20%20%20%20%0A%20%20%20%20%0A%20%20%20%20%20%20%20%20%20%20%20%20var%20marker_2c741ca6e6154fdfa43c7fb6d4bcd8be%20%3D%20L.marker%28%0A%20%20%20%20%20%20%20%20%20%20%20%20%20%20%20%20%5B60.171039300000004%2C%2024.949155335163038%5D%2C%0A%20%20%20%20%20%20%20%20%20%20%20%20%20%20%20%20%7B%7D%0A%20%20%20%20%20%20%20%20%20%20%20%20%29.addTo%28map_939d90e4d8d241eabdc0431bfeed8cce%29%3B%0A%20%20%20%20%20%20%20%20%0A%20%20%20%20%0A%20%20%20%20%20%20%20%20var%20popup_ced1a73470fe4853b89a5d594c86157a%20%3D%20L.popup%28%7B%22maxWidth%22%3A%20%22100%25%22%7D%29%3B%0A%0A%20%20%20%20%20%20%20%20%0A%20%20%20%20%20%20%20%20%20%20%20%20var%20html_d9babdb6a0904dc4bb408217fe52c118%20%3D%20%24%28%60%3Cdiv%20id%3D%22html_d9babdb6a0904dc4bb408217fe52c118%22%20style%3D%22width%3A%20100.0%25%3B%20height%3A%20100.0%25%3B%22%3EUniversity%20of%20Helsinki%3C/div%3E%60%29%5B0%5D%3B%0A%20%20%20%20%20%20%20%20%20%20%20%20popup_ced1a73470fe4853b89a5d594c86157a.setContent%28html_d9babdb6a0904dc4bb408217fe52c118%29%3B%0A%20%20%20%20%20%20%20%20%0A%0A%20%20%20%20%20%20%20%20marker_2c741ca6e6154fdfa43c7fb6d4bcd8be.bindPopup%28popup_ced1a73470fe4853b89a5d594c86157a%29%0A%20%20%20%20%20%20%20%20%3B%0A%0A%20%20%20%20%20%20%20%20%0A%20%20%20%20%0A%20%20%20%20%0A%20%20%20%20%20%20%20%20%20%20%20%20var%20marker_9cb9ec6196504ecbbb4050339e9a177e%20%3D%20L.marker%28%0A%20%20%20%20%20%20%20%20%20%20%20%20%20%20%20%20%5B47.5612651%2C%207.5752961%5D%2C%0A%20%20%20%20%20%20%20%20%20%20%20%20%20%20%20%20%7B%7D%0A%20%20%20%20%20%20%20%20%20%20%20%20%29.addTo%28map_939d90e4d8d241eabdc0431bfeed8cce%29%3B%0A%20%20%20%20%20%20%20%20%0A%20%20%20%20%0A%20%20%20%20%20%20%20%20var%20popup_152ad822a9d04450bdeabcb66f5a75a4%20%3D%20L.popup%28%7B%22maxWidth%22%3A%20%22100%25%22%7D%29%3B%0A%0A%20%20%20%20%20%20%20%20%0A%20%20%20%20%20%20%20%20%20%20%20%20var%20html_2288a5006280421b91981e91fd3d5493%20%3D%20%24%28%60%3Cdiv%20id%3D%22html_2288a5006280421b91981e91fd3d5493%22%20style%3D%22width%3A%20100.0%25%3B%20height%3A%20100.0%25%3B%22%3EUniversity%20of%20Basel%3C/div%3E%60%29%5B0%5D%3B%0A%20%20%20%20%20%20%20%20%20%20%20%20popup_152ad822a9d04450bdeabcb66f5a75a4.setContent%28html_2288a5006280421b91981e91fd3d5493%29%3B%0A%20%20%20%20%20%20%20%20%0A%0A%20%20%20%20%20%20%20%20marker_9cb9ec6196504ecbbb4050339e9a177e.bindPopup%28popup_152ad822a9d04450bdeabcb66f5a75a4%29%0A%20%20%20%20%20%20%20%20%3B%0A%0A%20%20%20%20%20%20%20%20%0A%20%20%20%20%0A%20%20%20%20%0A%20%20%20%20%20%20%20%20%20%20%20%20var%20marker_746f537449ad435e933b82b0613cfb06%20%3D%20L.marker%28%0A%20%20%20%20%20%20%20%20%20%20%20%20%20%20%20%20%5B53.3815327%2C%20-1.4806602%5D%2C%0A%20%20%20%20%20%20%20%20%20%20%20%20%20%20%20%20%7B%7D%0A%20%20%20%20%20%20%20%20%20%20%20%20%29.addTo%28map_939d90e4d8d241eabdc0431bfeed8cce%29%3B%0A%20%20%20%20%20%20%20%20%0A%20%20%20%20%0A%20%20%20%20%20%20%20%20var%20popup_83bcb6c6699b4f13a8e51df06c91837b%20%3D%20L.popup%28%7B%22maxWidth%22%3A%20%22100%25%22%7D%29%3B%0A%0A%20%20%20%20%20%20%20%20%0A%20%20%20%20%20%20%20%20%20%20%20%20var%20html_8ccbb378b57a4b0d93463309d634ad1d%20%3D%20%24%28%60%3Cdiv%20id%3D%22html_8ccbb378b57a4b0d93463309d634ad1d%22%20style%3D%22width%3A%20100.0%25%3B%20height%3A%20100.0%25%3B%22%3EUniversity%20of%20Sheffield%3C/div%3E%60%29%5B0%5D%3B%0A%20%20%20%20%20%20%20%20%20%20%20%20popup_83bcb6c6699b4f13a8e51df06c91837b.setContent%28html_8ccbb378b57a4b0d93463309d634ad1d%29%3B%0A%20%20%20%20%20%20%20%20%0A%0A%20%20%20%20%20%20%20%20marker_746f537449ad435e933b82b0613cfb06.bindPopup%28popup_83bcb6c6699b4f13a8e51df06c91837b%29%0A%20%20%20%20%20%20%20%20%3B%0A%0A%20%20%20%20%20%20%20%20%0A%20%20%20%20%0A%20%20%20%20%0A%20%20%20%20%20%20%20%20%20%20%20%20var%20marker_b74999f6ba554b829c5939d5ceb5a2a4%20%3D%20L.marker%28%0A%20%20%20%20%20%20%20%20%20%20%20%20%20%20%20%20%5B36.72335905%2C%203.150592081922273%5D%2C%0A%20%20%20%20%20%20%20%20%20%20%20%20%20%20%20%20%7B%7D%0A%20%20%20%20%20%20%20%20%20%20%20%20%29.addTo%28map_939d90e4d8d241eabdc0431bfeed8cce%29%3B%0A%20%20%20%20%20%20%20%20%0A%20%20%20%20%0A%20%20%20%20%20%20%20%20var%20popup_b087e7fefd264f518e6c4343a4093d2e%20%3D%20L.popup%28%7B%22maxWidth%22%3A%20%22100%25%22%7D%29%3B%0A%0A%20%20%20%20%20%20%20%20%0A%20%20%20%20%20%20%20%20%20%20%20%20var%20html_38fc269dc716459e90582cee5dcea71d%20%3D%20%24%28%60%3Cdiv%20id%3D%22html_38fc269dc716459e90582cee5dcea71d%22%20style%3D%22width%3A%20100.0%25%3B%20height%3A%20100.0%25%3B%22%3E%C3%89cole%20Polytechnique%3C/div%3E%60%29%5B0%5D%3B%0A%20%20%20%20%20%20%20%20%20%20%20%20popup_b087e7fefd264f518e6c4343a4093d2e.setContent%28html_38fc269dc716459e90582cee5dcea71d%29%3B%0A%20%20%20%20%20%20%20%20%0A%0A%20%20%20%20%20%20%20%20marker_b74999f6ba554b829c5939d5ceb5a2a4.bindPopup%28popup_b087e7fefd264f518e6c4343a4093d2e%29%0A%20%20%20%20%20%20%20%20%3B%0A%0A%20%20%20%20%20%20%20%20%0A%20%20%20%20%0A%20%20%20%20%0A%20%20%20%20%20%20%20%20%20%20%20%20var%20marker_6b4fa2938b1246648fa89883c6fdc89b%20%3D%20L.marker%28%0A%20%20%20%20%20%20%20%20%20%20%20%20%20%20%20%20%5B46.95097255%2C%207.438684130809055%5D%2C%0A%20%20%20%20%20%20%20%20%20%20%20%20%20%20%20%20%7B%7D%0A%20%20%20%20%20%20%20%20%20%20%20%20%29.addTo%28map_939d90e4d8d241eabdc0431bfeed8cce%29%3B%0A%20%20%20%20%20%20%20%20%0A%20%20%20%20%0A%20%20%20%20%20%20%20%20var%20popup_8001c6eb211f4d1c87562cf79ba76708%20%3D%20L.popup%28%7B%22maxWidth%22%3A%20%22100%25%22%7D%29%3B%0A%0A%20%20%20%20%20%20%20%20%0A%20%20%20%20%20%20%20%20%20%20%20%20var%20html_0f12839163ca4820b01732f9cb09db92%20%3D%20%24%28%60%3Cdiv%20id%3D%22html_0f12839163ca4820b01732f9cb09db92%22%20style%3D%22width%3A%20100.0%25%3B%20height%3A%20100.0%25%3B%22%3EUniversity%20of%20Bern%3C/div%3E%60%29%5B0%5D%3B%0A%20%20%20%20%20%20%20%20%20%20%20%20popup_8001c6eb211f4d1c87562cf79ba76708.setContent%28html_0f12839163ca4820b01732f9cb09db92%29%3B%0A%20%20%20%20%20%20%20%20%0A%0A%20%20%20%20%20%20%20%20marker_6b4fa2938b1246648fa89883c6fdc89b.bindPopup%28popup_8001c6eb211f4d1c87562cf79ba76708%29%0A%20%20%20%20%20%20%20%20%3B%0A%0A%20%20%20%20%20%20%20%20%0A%20%20%20%20%0A%20%20%20%20%0A%20%20%20%20%20%20%20%20%20%20%20%20var%20marker_3382fc7a2c41497b8bbf0ff914c5d545%20%3D%20L.marker%28%0A%20%20%20%20%20%20%20%20%20%20%20%20%20%20%20%20%5B50.7338124%2C%207.1022465%5D%2C%0A%20%20%20%20%20%20%20%20%20%20%20%20%20%20%20%20%7B%7D%0A%20%20%20%20%20%20%20%20%20%20%20%20%29.addTo%28map_939d90e4d8d241eabdc0431bfeed8cce%29%3B%0A%20%20%20%20%20%20%20%20%0A%20%20%20%20%0A%20%20%20%20%20%20%20%20var%20popup_27ff4a9bc10b458f8b65c5307aaf8965%20%3D%20L.popup%28%7B%22maxWidth%22%3A%20%22100%25%22%7D%29%3B%0A%0A%20%20%20%20%20%20%20%20%0A%20%20%20%20%20%20%20%20%20%20%20%20var%20html_00ed336ceb6e47078e2a0b07e14428fc%20%3D%20%24%28%60%3Cdiv%20id%3D%22html_00ed336ceb6e47078e2a0b07e14428fc%22%20style%3D%22width%3A%20100.0%25%3B%20height%3A%20100.0%25%3B%22%3EUniversity%20of%20Bonn%3C/div%3E%60%29%5B0%5D%3B%0A%20%20%20%20%20%20%20%20%20%20%20%20popup_27ff4a9bc10b458f8b65c5307aaf8965.setContent%28html_00ed336ceb6e47078e2a0b07e14428fc%29%3B%0A%20%20%20%20%20%20%20%20%0A%0A%20%20%20%20%20%20%20%20marker_3382fc7a2c41497b8bbf0ff914c5d545.bindPopup%28popup_27ff4a9bc10b458f8b65c5307aaf8965%29%0A%20%20%20%20%20%20%20%20%3B%0A%0A%20%20%20%20%20%20%20%20%0A%20%20%20%20%0A%20%20%20%20%0A%20%20%20%20%20%20%20%20%20%20%20%20var%20marker_25ce157cebfb40a79136cc6ec60812b4%20%3D%20L.marker%28%0A%20%20%20%20%20%20%20%20%20%20%20%20%20%20%20%20%5B54.5622715%2C%20-1.2963556567496446%5D%2C%0A%20%20%20%20%20%20%20%20%20%20%20%20%20%20%20%20%7B%7D%0A%20%20%20%20%20%20%20%20%20%20%20%20%29.addTo%28map_939d90e4d8d241eabdc0431bfeed8cce%29%3B%0A%20%20%20%20%20%20%20%20%0A%20%20%20%20%0A%20%20%20%20%20%20%20%20var%20popup_1a4ccf6966f746539acf198e51b21733%20%3D%20L.popup%28%7B%22maxWidth%22%3A%20%22100%25%22%7D%29%3B%0A%0A%20%20%20%20%20%20%20%20%0A%20%20%20%20%20%20%20%20%20%20%20%20var%20html_d87857eddf34481692e83808673640af%20%3D%20%24%28%60%3Cdiv%20id%3D%22html_d87857eddf34481692e83808673640af%22%20style%3D%22width%3A%20100.0%25%3B%20height%3A%20100.0%25%3B%22%3EDurham%20University%3C/div%3E%60%29%5B0%5D%3B%0A%20%20%20%20%20%20%20%20%20%20%20%20popup_1a4ccf6966f746539acf198e51b21733.setContent%28html_d87857eddf34481692e83808673640af%29%3B%0A%20%20%20%20%20%20%20%20%0A%0A%20%20%20%20%20%20%20%20marker_25ce157cebfb40a79136cc6ec60812b4.bindPopup%28popup_1a4ccf6966f746539acf198e51b21733%29%0A%20%20%20%20%20%20%20%20%3B%0A%0A%20%20%20%20%20%20%20%20%0A%20%20%20%20%0A%20%20%20%20%0A%20%20%20%20%20%20%20%20%20%20%20%20var%20marker_176218c155f4483e8133ba40806d4bdd%20%3D%20L.marker%28%0A%20%20%20%20%20%20%20%20%20%20%20%20%20%20%20%20%5B52.4510477%2C%20-1.9297475%5D%2C%0A%20%20%20%20%20%20%20%20%20%20%20%20%20%20%20%20%7B%7D%0A%20%20%20%20%20%20%20%20%20%20%20%20%29.addTo%28map_939d90e4d8d241eabdc0431bfeed8cce%29%3B%0A%20%20%20%20%20%20%20%20%0A%20%20%20%20%0A%20%20%20%20%20%20%20%20var%20popup_538102d85f2a473b8031f17fea31b33f%20%3D%20L.popup%28%7B%22maxWidth%22%3A%20%22100%25%22%7D%29%3B%0A%0A%20%20%20%20%20%20%20%20%0A%20%20%20%20%20%20%20%20%20%20%20%20var%20html_c5224f4f1e73435c9994c5fc4ac38068%20%3D%20%24%28%60%3Cdiv%20id%3D%22html_c5224f4f1e73435c9994c5fc4ac38068%22%20style%3D%22width%3A%20100.0%25%3B%20height%3A%20100.0%25%3B%22%3EUniversity%20of%20Birmingham%3C/div%3E%60%29%5B0%5D%3B%0A%20%20%20%20%20%20%20%20%20%20%20%20popup_538102d85f2a473b8031f17fea31b33f.setContent%28html_c5224f4f1e73435c9994c5fc4ac38068%29%3B%0A%20%20%20%20%20%20%20%20%0A%0A%20%20%20%20%20%20%20%20marker_176218c155f4483e8133ba40806d4bdd.bindPopup%28popup_538102d85f2a473b8031f17fea31b33f%29%0A%20%20%20%20%20%20%20%20%3B%0A%0A%20%20%20%20%20%20%20%20%0A%20%20%20%20%0A%20%20%20%20%0A%20%20%20%20%20%20%20%20%20%20%20%20var%20marker_789314c878b54c51a83105b32d0ba023%20%3D%20L.marker%28%0A%20%20%20%20%20%20%20%20%20%20%20%20%20%20%20%20%5B55.6970372%2C%2012.571574419652498%5D%2C%0A%20%20%20%20%20%20%20%20%20%20%20%20%20%20%20%20%7B%7D%0A%20%20%20%20%20%20%20%20%20%20%20%20%29.addTo%28map_939d90e4d8d241eabdc0431bfeed8cce%29%3B%0A%20%20%20%20%20%20%20%20%0A%20%20%20%20%0A%20%20%20%20%20%20%20%20var%20popup_51386b313dbb4383a4444320b1d04f75%20%3D%20L.popup%28%7B%22maxWidth%22%3A%20%22100%25%22%7D%29%3B%0A%0A%20%20%20%20%20%20%20%20%0A%20%20%20%20%20%20%20%20%20%20%20%20var%20html_7d5b19e1ea244108807070c4fb0b44c2%20%3D%20%24%28%60%3Cdiv%20id%3D%22html_7d5b19e1ea244108807070c4fb0b44c2%22%20style%3D%22width%3A%20100.0%25%3B%20height%3A%20100.0%25%3B%22%3EUniversity%20of%20Copenhagen%3C/div%3E%60%29%5B0%5D%3B%0A%20%20%20%20%20%20%20%20%20%20%20%20popup_51386b313dbb4383a4444320b1d04f75.setContent%28html_7d5b19e1ea244108807070c4fb0b44c2%29%3B%0A%20%20%20%20%20%20%20%20%0A%0A%20%20%20%20%20%20%20%20marker_789314c878b54c51a83105b32d0ba023.bindPopup%28popup_51386b313dbb4383a4444320b1d04f75%29%0A%20%20%20%20%20%20%20%20%3B%0A%0A%20%20%20%20%20%20%20%20%0A%20%20%20%20%0A%20%20%20%20%0A%20%20%20%20%20%20%20%20%20%20%20%20var%20marker_b1df29e42c1a4189bcd883870e50b40d%20%3D%20L.marker%28%0A%20%20%20%20%20%20%20%20%20%20%20%20%20%20%20%20%5B1.42989335%2C%20103.61220466677912%5D%2C%0A%20%20%20%20%20%20%20%20%20%20%20%20%20%20%20%20%7B%7D%0A%20%20%20%20%20%20%20%20%20%20%20%20%29.addTo%28map_939d90e4d8d241eabdc0431bfeed8cce%29%3B%0A%20%20%20%20%20%20%20%20%0A%20%20%20%20%0A%20%20%20%20%20%20%20%20var%20popup_adec555baef44a539cca0e142d6d80f9%20%3D%20L.popup%28%7B%22maxWidth%22%3A%20%22100%25%22%7D%29%3B%0A%0A%20%20%20%20%20%20%20%20%0A%20%20%20%20%20%20%20%20%20%20%20%20var%20html_3d5a40e381584d0f811724f0946540a9%20%3D%20%24%28%60%3Cdiv%20id%3D%22html_3d5a40e381584d0f811724f0946540a9%22%20style%3D%22width%3A%20100.0%25%3B%20height%3A%20100.0%25%3B%22%3EUniversity%20of%20Southampton%3C/div%3E%60%29%5B0%5D%3B%0A%20%20%20%20%20%20%20%20%20%20%20%20popup_adec555baef44a539cca0e142d6d80f9.setContent%28html_3d5a40e381584d0f811724f0946540a9%29%3B%0A%20%20%20%20%20%20%20%20%0A%0A%20%20%20%20%20%20%20%20marker_b1df29e42c1a4189bcd883870e50b40d.bindPopup%28popup_adec555baef44a539cca0e142d6d80f9%29%0A%20%20%20%20%20%20%20%20%3B%0A%0A%20%20%20%20%20%20%20%20%0A%20%20%20%20%0A%20%20%20%20%0A%20%20%20%20%20%20%20%20%20%20%20%20var%20marker_1acb0552d00447afb2b6c33fa6d04d01%20%3D%20L.marker%28%0A%20%20%20%20%20%20%20%20%20%20%20%20%20%20%20%20%5B53.9453903%2C%20-1.0314592943104675%5D%2C%0A%20%20%20%20%20%20%20%20%20%20%20%20%20%20%20%20%7B%7D%0A%20%20%20%20%20%20%20%20%20%20%20%20%29.addTo%28map_939d90e4d8d241eabdc0431bfeed8cce%29%3B%0A%20%20%20%20%20%20%20%20%0A%20%20%20%20%0A%20%20%20%20%20%20%20%20var%20popup_90cd9576c06a41c9bec71c94c1bf8da0%20%3D%20L.popup%28%7B%22maxWidth%22%3A%20%22100%25%22%7D%29%3B%0A%0A%20%20%20%20%20%20%20%20%0A%20%20%20%20%20%20%20%20%20%20%20%20var%20html_da09dbc428ca475e91f675372448b83d%20%3D%20%24%28%60%3Cdiv%20id%3D%22html_da09dbc428ca475e91f675372448b83d%22%20style%3D%22width%3A%20100.0%25%3B%20height%3A%20100.0%25%3B%22%3EUniversity%20of%20York%3C/div%3E%60%29%5B0%5D%3B%0A%20%20%20%20%20%20%20%20%20%20%20%20popup_90cd9576c06a41c9bec71c94c1bf8da0.setContent%28html_da09dbc428ca475e91f675372448b83d%29%3B%0A%20%20%20%20%20%20%20%20%0A%0A%20%20%20%20%20%20%20%20marker_1acb0552d00447afb2b6c33fa6d04d01.bindPopup%28popup_90cd9576c06a41c9bec71c94c1bf8da0%29%0A%20%20%20%20%20%20%20%20%3B%0A%0A%20%20%20%20%20%20%20%20%0A%20%20%20%20%0A%20%20%20%20%0A%20%20%20%20%20%20%20%20%20%20%20%20var%20marker_44492e93dfc94d3780f2a4b2f3208707%20%3D%20L.marker%28%0A%20%20%20%20%20%20%20%20%20%20%20%20%20%20%20%20%5B53.34366745%2C%20-6.254444724511822%5D%2C%0A%20%20%20%20%20%20%20%20%20%20%20%20%20%20%20%20%7B%7D%0A%20%20%20%20%20%20%20%20%20%20%20%20%29.addTo%28map_939d90e4d8d241eabdc0431bfeed8cce%29%3B%0A%20%20%20%20%20%20%20%20%0A%20%20%20%20%0A%20%20%20%20%20%20%20%20var%20popup_e7df46ba201d4cc1ae121d378d4af2c0%20%3D%20L.popup%28%7B%22maxWidth%22%3A%20%22100%25%22%7D%29%3B%0A%0A%20%20%20%20%20%20%20%20%0A%20%20%20%20%20%20%20%20%20%20%20%20var%20html_5571ca846740479ab10c461449e822b9%20%3D%20%24%28%60%3Cdiv%20id%3D%22html_5571ca846740479ab10c461449e822b9%22%20style%3D%22width%3A%20100.0%25%3B%20height%3A%20100.0%25%3B%22%3ETrinity%20College%20Dublin%3C/div%3E%60%29%5B0%5D%3B%0A%20%20%20%20%20%20%20%20%20%20%20%20popup_e7df46ba201d4cc1ae121d378d4af2c0.setContent%28html_5571ca846740479ab10c461449e822b9%29%3B%0A%20%20%20%20%20%20%20%20%0A%0A%20%20%20%20%20%20%20%20marker_44492e93dfc94d3780f2a4b2f3208707.bindPopup%28popup_e7df46ba201d4cc1ae121d378d4af2c0%29%0A%20%20%20%20%20%20%20%20%3B%0A%0A%20%20%20%20%20%20%20%20%0A%20%20%20%20%0A%20%20%20%20%0A%20%20%20%20%20%20%20%20%20%20%20%20var%20marker_7c2cf4cc1b6848f4b8148cdc18b5fa9e%20%3D%20L.marker%28%0A%20%20%20%20%20%20%20%20%20%20%20%20%20%20%20%20%5B59.941420699999995%2C%2010.723683901860808%5D%2C%0A%20%20%20%20%20%20%20%20%20%20%20%20%20%20%20%20%7B%7D%0A%20%20%20%20%20%20%20%20%20%20%20%20%29.addTo%28map_939d90e4d8d241eabdc0431bfeed8cce%29%3B%0A%20%20%20%20%20%20%20%20%0A%20%20%20%20%0A%20%20%20%20%20%20%20%20var%20popup_8be4a822743e47aaaaf14bd67785e5b3%20%3D%20L.popup%28%7B%22maxWidth%22%3A%20%22100%25%22%7D%29%3B%0A%0A%20%20%20%20%20%20%20%20%0A%20%20%20%20%20%20%20%20%20%20%20%20var%20html_e710421388ba4a4cbe04cfa5bfb65a0f%20%3D%20%24%28%60%3Cdiv%20id%3D%22html_e710421388ba4a4cbe04cfa5bfb65a0f%22%20style%3D%22width%3A%20100.0%25%3B%20height%3A%20100.0%25%3B%22%3EUniversity%20of%20Oslo%3C/div%3E%60%29%5B0%5D%3B%0A%20%20%20%20%20%20%20%20%20%20%20%20popup_8be4a822743e47aaaaf14bd67785e5b3.setContent%28html_e710421388ba4a4cbe04cfa5bfb65a0f%29%3B%0A%20%20%20%20%20%20%20%20%0A%0A%20%20%20%20%20%20%20%20marker_7c2cf4cc1b6848f4b8148cdc18b5fa9e.bindPopup%28popup_8be4a822743e47aaaaf14bd67785e5b3%29%0A%20%20%20%20%20%20%20%20%3B%0A%0A%20%20%20%20%20%20%20%20%0A%20%20%20%20%0A%20%20%20%20%0A%20%20%20%20%20%20%20%20%20%20%20%20var%20marker_a9fee777764741a9a04a994747af6e64%20%3D%20L.marker%28%0A%20%20%20%20%20%20%20%20%20%20%20%20%20%20%20%20%5B56.1670905%2C%2010.202617693592895%5D%2C%0A%20%20%20%20%20%20%20%20%20%20%20%20%20%20%20%20%7B%7D%0A%20%20%20%20%20%20%20%20%20%20%20%20%29.addTo%28map_939d90e4d8d241eabdc0431bfeed8cce%29%3B%0A%20%20%20%20%20%20%20%20%0A%20%20%20%20%0A%20%20%20%20%20%20%20%20var%20popup_d8f1245f211c4a919d33d537424ad93f%20%3D%20L.popup%28%7B%22maxWidth%22%3A%20%22100%25%22%7D%29%3B%0A%0A%20%20%20%20%20%20%20%20%0A%20%20%20%20%20%20%20%20%20%20%20%20var%20html_2b44295bd0c4472fb2359af9fc501ac9%20%3D%20%24%28%60%3Cdiv%20id%3D%22html_2b44295bd0c4472fb2359af9fc501ac9%22%20style%3D%22width%3A%20100.0%25%3B%20height%3A%20100.0%25%3B%22%3EAarhus%20University%3C/div%3E%60%29%5B0%5D%3B%0A%20%20%20%20%20%20%20%20%20%20%20%20popup_d8f1245f211c4a919d33d537424ad93f.setContent%28html_2b44295bd0c4472fb2359af9fc501ac9%29%3B%0A%20%20%20%20%20%20%20%20%0A%0A%20%20%20%20%20%20%20%20marker_a9fee777764741a9a04a994747af6e64.bindPopup%28popup_d8f1245f211c4a919d33d537424ad93f%29%0A%20%20%20%20%20%20%20%20%3B%0A%0A%20%20%20%20%20%20%20%20%0A%20%20%20%20%0A%20%20%20%20%0A%20%20%20%20%20%20%20%20%20%20%20%20var%20marker_35717ef2875245a9911a42fdf01351dc%20%3D%20L.marker%28%0A%20%20%20%20%20%20%20%20%20%20%20%20%20%20%20%20%5B51.5559332%2C%209.9480324%5D%2C%0A%20%20%20%20%20%20%20%20%20%20%20%20%20%20%20%20%7B%7D%0A%20%20%20%20%20%20%20%20%20%20%20%20%29.addTo%28map_939d90e4d8d241eabdc0431bfeed8cce%29%3B%0A%20%20%20%20%20%20%20%20%0A%20%20%20%20%0A%20%20%20%20%20%20%20%20var%20popup_f1e5ff1f18044657af46a8645d135ae2%20%3D%20L.popup%28%7B%22maxWidth%22%3A%20%22100%25%22%7D%29%3B%0A%0A%20%20%20%20%20%20%20%20%0A%20%20%20%20%20%20%20%20%20%20%20%20var%20html_fba5c349ecdb43439a8284f1dab43d83%20%3D%20%24%28%60%3Cdiv%20id%3D%22html_fba5c349ecdb43439a8284f1dab43d83%22%20style%3D%22width%3A%20100.0%25%3B%20height%3A%20100.0%25%3B%22%3EUniversity%20of%20G%C3%B6ttingen%3C/div%3E%60%29%5B0%5D%3B%0A%20%20%20%20%20%20%20%20%20%20%20%20popup_f1e5ff1f18044657af46a8645d135ae2.setContent%28html_fba5c349ecdb43439a8284f1dab43d83%29%3B%0A%20%20%20%20%20%20%20%20%0A%0A%20%20%20%20%20%20%20%20marker_35717ef2875245a9911a42fdf01351dc.bindPopup%28popup_f1e5ff1f18044657af46a8645d135ae2%29%0A%20%20%20%20%20%20%20%20%3B%0A%0A%20%20%20%20%20%20%20%20%0A%20%20%20%20%0A%20%20%20%20%0A%20%20%20%20%20%20%20%20%20%20%20%20var%20marker_217f5fc479c848089f0c6ba27e1590e8%20%3D%20L.marker%28%0A%20%20%20%20%20%20%20%20%20%20%20%20%20%20%20%20%5B49.4699765%2C%208.4819024%5D%2C%0A%20%20%20%20%20%20%20%20%20%20%20%20%20%20%20%20%7B%7D%0A%20%20%20%20%20%20%20%20%20%20%20%20%29.addTo%28map_939d90e4d8d241eabdc0431bfeed8cce%29%3B%0A%20%20%20%20%20%20%20%20%0A%20%20%20%20%0A%20%20%20%20%20%20%20%20var%20popup_bea90e70c5a9434398d94f1564f1c0aa%20%3D%20L.popup%28%7B%22maxWidth%22%3A%20%22100%25%22%7D%29%3B%0A%0A%20%20%20%20%20%20%20%20%0A%20%20%20%20%20%20%20%20%20%20%20%20var%20html_390033a548234ef8971dea9528aff5a9%20%3D%20%24%28%60%3Cdiv%20id%3D%22html_390033a548234ef8971dea9528aff5a9%22%20style%3D%22width%3A%20100.0%25%3B%20height%3A%20100.0%25%3B%22%3EUniversity%20of%20Mannheim%3C/div%3E%60%29%5B0%5D%3B%0A%20%20%20%20%20%20%20%20%20%20%20%20popup_bea90e70c5a9434398d94f1564f1c0aa.setContent%28html_390033a548234ef8971dea9528aff5a9%29%3B%0A%20%20%20%20%20%20%20%20%0A%0A%20%20%20%20%20%20%20%20marker_217f5fc479c848089f0c6ba27e1590e8.bindPopup%28popup_bea90e70c5a9434398d94f1564f1c0aa%29%0A%20%20%20%20%20%20%20%20%3B%0A%0A%20%20%20%20%20%20%20%20%0A%20%20%20%20%0A%20%20%20%20%0A%20%20%20%20%20%20%20%20%20%20%20%20var%20marker_ffff07bc55cb4f9f92507e55c5ccf2cd%20%3D%20L.marker%28%0A%20%20%20%20%20%20%20%20%20%20%20%20%20%20%20%20%5B51.82151725%2C%205.863403442541042%5D%2C%0A%20%20%20%20%20%20%20%20%20%20%20%20%20%20%20%20%7B%7D%0A%20%20%20%20%20%20%20%20%20%20%20%20%29.addTo%28map_939d90e4d8d241eabdc0431bfeed8cce%29%3B%0A%20%20%20%20%20%20%20%20%0A%20%20%20%20%0A%20%20%20%20%20%20%20%20var%20popup_6d4ef483e7334d35b7303c05fe2bb81b%20%3D%20L.popup%28%7B%22maxWidth%22%3A%20%22100%25%22%7D%29%3B%0A%0A%20%20%20%20%20%20%20%20%0A%20%20%20%20%20%20%20%20%20%20%20%20var%20html_1e40232a6dc64ba3a6caa6caad7bf529%20%3D%20%24%28%60%3Cdiv%20id%3D%22html_1e40232a6dc64ba3a6caa6caad7bf529%22%20style%3D%22width%3A%20100.0%25%3B%20height%3A%20100.0%25%3B%22%3ERadboud%20University%20Nijmegen%3C/div%3E%60%29%5B0%5D%3B%0A%20%20%20%20%20%20%20%20%20%20%20%20popup_6d4ef483e7334d35b7303c05fe2bb81b.setContent%28html_1e40232a6dc64ba3a6caa6caad7bf529%29%3B%0A%20%20%20%20%20%20%20%20%0A%0A%20%20%20%20%20%20%20%20marker_ffff07bc55cb4f9f92507e55c5ccf2cd.bindPopup%28popup_6d4ef483e7334d35b7303c05fe2bb81b%29%0A%20%20%20%20%20%20%20%20%3B%0A%0A%20%20%20%20%20%20%20%20%0A%20%20%20%20%0A%20%20%20%20%0A%20%20%20%20%20%20%20%20%20%20%20%20var%20marker_5963780d85724170ad6a90bc06ebc12d%20%3D%20L.marker%28%0A%20%20%20%20%20%20%20%20%20%20%20%20%20%20%20%20%5B50.6682538%2C%204.620109526811595%5D%2C%0A%20%20%20%20%20%20%20%20%20%20%20%20%20%20%20%20%7B%7D%0A%20%20%20%20%20%20%20%20%20%20%20%20%29.addTo%28map_939d90e4d8d241eabdc0431bfeed8cce%29%3B%0A%20%20%20%20%20%20%20%20%0A%20%20%20%20%0A%20%20%20%20%20%20%20%20var%20popup_667a70626e4b4ba9bacb96f5ade732e2%20%3D%20L.popup%28%7B%22maxWidth%22%3A%20%22100%25%22%7D%29%3B%0A%0A%20%20%20%20%20%20%20%20%0A%20%20%20%20%20%20%20%20%20%20%20%20var%20html_3bf501c445d544a4bcdbcb66d06d8fd9%20%3D%20%24%28%60%3Cdiv%20id%3D%22html_3bf501c445d544a4bcdbcb66d06d8fd9%22%20style%3D%22width%3A%20100.0%25%3B%20height%3A%20100.0%25%3B%22%3EUniversit%C3%A9%20Catholique%20de%20Louvain%3C/div%3E%60%29%5B0%5D%3B%0A%20%20%20%20%20%20%20%20%20%20%20%20popup_667a70626e4b4ba9bacb96f5ade732e2.setContent%28html_3bf501c445d544a4bcdbcb66d06d8fd9%29%3B%0A%20%20%20%20%20%20%20%20%0A%0A%20%20%20%20%20%20%20%20marker_5963780d85724170ad6a90bc06ebc12d.bindPopup%28popup_667a70626e4b4ba9bacb96f5ade732e2%29%0A%20%20%20%20%20%20%20%20%3B%0A%0A%20%20%20%20%20%20%20%20%0A%20%20%20%20%0A%20%20%20%20%0A%20%20%20%20%20%20%20%20%20%20%20%20var%20marker_60f28f354ce2467986292dbec9ce1fa9%20%3D%20L.marker%28%0A%20%20%20%20%20%20%20%20%20%20%20%20%20%20%20%20%5B50.8499111%2C%205.6856029%5D%2C%0A%20%20%20%20%20%20%20%20%20%20%20%20%20%20%20%20%7B%7D%0A%20%20%20%20%20%20%20%20%20%20%20%20%29.addTo%28map_939d90e4d8d241eabdc0431bfeed8cce%29%3B%0A%20%20%20%20%20%20%20%20%0A%20%20%20%20%0A%20%20%20%20%20%20%20%20var%20popup_ebb15c6c97974ba6980802a33eebad15%20%3D%20L.popup%28%7B%22maxWidth%22%3A%20%22100%25%22%7D%29%3B%0A%0A%20%20%20%20%20%20%20%20%0A%20%20%20%20%20%20%20%20%20%20%20%20var%20html_8bc7e90d27e74ebba54433492645c25e%20%3D%20%24%28%60%3Cdiv%20id%3D%22html_8bc7e90d27e74ebba54433492645c25e%22%20style%3D%22width%3A%20100.0%25%3B%20height%3A%20100.0%25%3B%22%3EMaastricht%20University%3C/div%3E%60%29%5B0%5D%3B%0A%20%20%20%20%20%20%20%20%20%20%20%20popup_ebb15c6c97974ba6980802a33eebad15.setContent%28html_8bc7e90d27e74ebba54433492645c25e%29%3B%0A%20%20%20%20%20%20%20%20%0A%0A%20%20%20%20%20%20%20%20marker_60f28f354ce2467986292dbec9ce1fa9.bindPopup%28popup_ebb15c6c97974ba6980802a33eebad15%29%0A%20%20%20%20%20%20%20%20%3B%0A%0A%20%20%20%20%20%20%20%20%0A%20%20%20%20%0A%20%20%20%20%0A%20%20%20%20%20%20%20%20%20%20%20%20var%20marker_ea6282e2144f4980bd335c5fc70b14dd%20%3D%20L.marker%28%0A%20%20%20%20%20%20%20%20%20%20%20%20%20%20%20%20%5B51.5247272%2C%20-0.03931034663016243%5D%2C%0A%20%20%20%20%20%20%20%20%20%20%20%20%20%20%20%20%7B%7D%0A%20%20%20%20%20%20%20%20%20%20%20%20%29.addTo%28map_939d90e4d8d241eabdc0431bfeed8cce%29%3B%0A%20%20%20%20%20%20%20%20%0A%20%20%20%20%0A%20%20%20%20%20%20%20%20var%20popup_0246e013abde42b59bf3c8b26d5b4c15%20%3D%20L.popup%28%7B%22maxWidth%22%3A%20%22100%25%22%7D%29%3B%0A%0A%20%20%20%20%20%20%20%20%0A%20%20%20%20%20%20%20%20%20%20%20%20var%20html_2cff755c475344bcbf01b34ee6f8ab6c%20%3D%20%24%28%60%3Cdiv%20id%3D%22html_2cff755c475344bcbf01b34ee6f8ab6c%22%20style%3D%22width%3A%20100.0%25%3B%20height%3A%20100.0%25%3B%22%3EQueen%20Mary%20University%20of%20London%3C/div%3E%60%29%5B0%5D%3B%0A%20%20%20%20%20%20%20%20%20%20%20%20popup_0246e013abde42b59bf3c8b26d5b4c15.setContent%28html_2cff755c475344bcbf01b34ee6f8ab6c%29%3B%0A%20%20%20%20%20%20%20%20%0A%0A%20%20%20%20%20%20%20%20marker_ea6282e2144f4980bd335c5fc70b14dd.bindPopup%28popup_0246e013abde42b59bf3c8b26d5b4c15%29%0A%20%20%20%20%20%20%20%20%3B%0A%0A%20%20%20%20%20%20%20%20%0A%20%20%20%20%0A%20%20%20%20%0A%20%20%20%20%20%20%20%20%20%20%20%20var%20marker_d588d0a092cd41ad96fe9843209a1e93%20%3D%20L.marker%28%0A%20%20%20%20%20%20%20%20%20%20%20%20%20%20%20%20%5B46.1935215%2C%206.1515108%5D%2C%0A%20%20%20%20%20%20%20%20%20%20%20%20%20%20%20%20%7B%7D%0A%20%20%20%20%20%20%20%20%20%20%20%20%29.addTo%28map_939d90e4d8d241eabdc0431bfeed8cce%29%3B%0A%20%20%20%20%20%20%20%20%0A%20%20%20%20%0A%20%20%20%20%20%20%20%20var%20popup_91582bbe04aa4f6b89ea90fbd8585519%20%3D%20L.popup%28%7B%22maxWidth%22%3A%20%22100%25%22%7D%29%3B%0A%0A%20%20%20%20%20%20%20%20%0A%20%20%20%20%20%20%20%20%20%20%20%20var%20html_307a8d89031c47c99336ec8df3610165%20%3D%20%24%28%60%3Cdiv%20id%3D%22html_307a8d89031c47c99336ec8df3610165%22%20style%3D%22width%3A%20100.0%25%3B%20height%3A%20100.0%25%3B%22%3EUniversity%20of%20Geneva%3C/div%3E%60%29%5B0%5D%3B%0A%20%20%20%20%20%20%20%20%20%20%20%20popup_91582bbe04aa4f6b89ea90fbd8585519.setContent%28html_307a8d89031c47c99336ec8df3610165%29%3B%0A%20%20%20%20%20%20%20%20%0A%0A%20%20%20%20%20%20%20%20marker_d588d0a092cd41ad96fe9843209a1e93.bindPopup%28popup_91582bbe04aa4f6b89ea90fbd8585519%29%0A%20%20%20%20%20%20%20%20%3B%0A%0A%20%20%20%20%20%20%20%20%0A%20%20%20%20%0A%20%20%20%20%0A%20%20%20%20%20%20%20%20%20%20%20%20var%20marker_bb168368c8964dfb94dcc04e97260b0b%20%3D%20L.marker%28%0A%20%20%20%20%20%20%20%20%20%20%20%20%20%20%20%20%5B53.5641091%2C%209.994978875267606%5D%2C%0A%20%20%20%20%20%20%20%20%20%20%20%20%20%20%20%20%7B%7D%0A%20%20%20%20%20%20%20%20%20%20%20%20%29.addTo%28map_939d90e4d8d241eabdc0431bfeed8cce%29%3B%0A%20%20%20%20%20%20%20%20%0A%20%20%20%20%0A%20%20%20%20%20%20%20%20var%20popup_86b3303481664901908d0bde27f9d958%20%3D%20L.popup%28%7B%22maxWidth%22%3A%20%22100%25%22%7D%29%3B%0A%0A%20%20%20%20%20%20%20%20%0A%20%20%20%20%20%20%20%20%20%20%20%20var%20html_78bd4f528afc40d4abb4851e4c7f2d10%20%3D%20%24%28%60%3Cdiv%20id%3D%22html_78bd4f528afc40d4abb4851e4c7f2d10%22%20style%3D%22width%3A%20100.0%25%3B%20height%3A%20100.0%25%3B%22%3EUniversity%20of%20Hamburg%3C/div%3E%60%29%5B0%5D%3B%0A%20%20%20%20%20%20%20%20%20%20%20%20popup_86b3303481664901908d0bde27f9d958.setContent%28html_78bd4f528afc40d4abb4851e4c7f2d10%29%3B%0A%20%20%20%20%20%20%20%20%0A%0A%20%20%20%20%20%20%20%20marker_bb168368c8964dfb94dcc04e97260b0b.bindPopup%28popup_86b3303481664901908d0bde27f9d958%29%0A%20%20%20%20%20%20%20%20%3B%0A%0A%20%20%20%20%20%20%20%20%0A%20%20%20%20%0A%20%20%20%20%0A%20%20%20%20%20%20%20%20%20%20%20%20var%20marker_8c0ffd06c7f1496e9af81e78fa5d1329%20%3D%20L.marker%28%0A%20%20%20%20%20%20%20%20%20%20%20%20%20%20%20%20%5B49.10184375%2C%208.433125596238757%5D%2C%0A%20%20%20%20%20%20%20%20%20%20%20%20%20%20%20%20%7B%7D%0A%20%20%20%20%20%20%20%20%20%20%20%20%29.addTo%28map_939d90e4d8d241eabdc0431bfeed8cce%29%3B%0A%20%20%20%20%20%20%20%20%0A%20%20%20%20%0A%20%20%20%20%20%20%20%20var%20popup_05e98052b5294d70b7bfc7bed2884489%20%3D%20L.popup%28%7B%22maxWidth%22%3A%20%22100%25%22%7D%29%3B%0A%0A%20%20%20%20%20%20%20%20%0A%20%20%20%20%20%20%20%20%20%20%20%20var%20html_47f97568b1e849c1a173f79d8204c389%20%3D%20%24%28%60%3Cdiv%20id%3D%22html_47f97568b1e849c1a173f79d8204c389%22%20style%3D%22width%3A%20100.0%25%3B%20height%3A%20100.0%25%3B%22%3EKarlsruhe%20Institute%20of%20Technology%3C/div%3E%60%29%5B0%5D%3B%0A%20%20%20%20%20%20%20%20%20%20%20%20popup_05e98052b5294d70b7bfc7bed2884489.setContent%28html_47f97568b1e849c1a173f79d8204c389%29%3B%0A%20%20%20%20%20%20%20%20%0A%0A%20%20%20%20%20%20%20%20marker_8c0ffd06c7f1496e9af81e78fa5d1329.bindPopup%28popup_05e98052b5294d70b7bfc7bed2884489%29%0A%20%20%20%20%20%20%20%20%3B%0A%0A%20%20%20%20%20%20%20%20%0A%20%20%20%20%0A%20%20%20%20%0A%20%20%20%20%20%20%20%20%20%20%20%20var%20marker_dd7e5c7ba577433aa9ffac676405b839%20%3D%20L.marker%28%0A%20%20%20%20%20%20%20%20%20%20%20%20%20%20%20%20%5B41.47437055%2C%202.0439047324985338%5D%2C%0A%20%20%20%20%20%20%20%20%20%20%20%20%20%20%20%20%7B%7D%0A%20%20%20%20%20%20%20%20%20%20%20%20%29.addTo%28map_939d90e4d8d241eabdc0431bfeed8cce%29%3B%0A%20%20%20%20%20%20%20%20%0A%20%20%20%20%0A%20%20%20%20%20%20%20%20var%20popup_e685e8a882f54afd9b82d7a4e136ec5f%20%3D%20L.popup%28%7B%22maxWidth%22%3A%20%22100%25%22%7D%29%3B%0A%0A%20%20%20%20%20%20%20%20%0A%20%20%20%20%20%20%20%20%20%20%20%20var%20html_cd1b0eddebf94352ae7de461dbbbfc46%20%3D%20%24%28%60%3Cdiv%20id%3D%22html_cd1b0eddebf94352ae7de461dbbbfc46%22%20style%3D%22width%3A%20100.0%25%3B%20height%3A%20100.0%25%3B%22%3EPompeu%20Fabra%20University%3C/div%3E%60%29%5B0%5D%3B%0A%20%20%20%20%20%20%20%20%20%20%20%20popup_e685e8a882f54afd9b82d7a4e136ec5f.setContent%28html_cd1b0eddebf94352ae7de461dbbbfc46%29%3B%0A%20%20%20%20%20%20%20%20%0A%0A%20%20%20%20%20%20%20%20marker_dd7e5c7ba577433aa9ffac676405b839.bindPopup%28popup_e685e8a882f54afd9b82d7a4e136ec5f%29%0A%20%20%20%20%20%20%20%20%3B%0A%0A%20%20%20%20%20%20%20%20%0A%20%20%20%20%0A%20%20%20%20%0A%20%20%20%20%20%20%20%20%20%20%20%20var%20marker_7f3467f859774d8f9f9ef90ad266845a%20%3D%20L.marker%28%0A%20%20%20%20%20%20%20%20%20%20%20%20%20%20%20%20%5B50.7369302%2C%20-3.536476717021671%5D%2C%0A%20%20%20%20%20%20%20%20%20%20%20%20%20%20%20%20%7B%7D%0A%20%20%20%20%20%20%20%20%20%20%20%20%29.addTo%28map_939d90e4d8d241eabdc0431bfeed8cce%29%3B%0A%20%20%20%20%20%20%20%20%0A%20%20%20%20%0A%20%20%20%20%20%20%20%20var%20popup_78bccd20ea5c4b968401a4cf16d176a3%20%3D%20L.popup%28%7B%22maxWidth%22%3A%20%22100%25%22%7D%29%3B%0A%0A%20%20%20%20%20%20%20%20%0A%20%20%20%20%20%20%20%20%20%20%20%20var%20html_2d5b7dfb33ef4b05b35491b4e8adf433%20%3D%20%24%28%60%3Cdiv%20id%3D%22html_2d5b7dfb33ef4b05b35491b4e8adf433%22%20style%3D%22width%3A%20100.0%25%3B%20height%3A%20100.0%25%3B%22%3EUniversity%20of%20Exeter%3C/div%3E%60%29%5B0%5D%3B%0A%20%20%20%20%20%20%20%20%20%20%20%20popup_78bccd20ea5c4b968401a4cf16d176a3.setContent%28html_2d5b7dfb33ef4b05b35491b4e8adf433%29%3B%0A%20%20%20%20%20%20%20%20%0A%0A%20%20%20%20%20%20%20%20marker_7f3467f859774d8f9f9ef90ad266845a.bindPopup%28popup_78bccd20ea5c4b968401a4cf16d176a3%29%0A%20%20%20%20%20%20%20%20%3B%0A%0A%20%20%20%20%20%20%20%20%0A%20%20%20%20%0A%20%20%20%20%0A%20%20%20%20%20%20%20%20%20%20%20%20var%20marker_a1b43d894f2944f7ba8f2c6ef9887e3c%20%3D%20L.marker%28%0A%20%20%20%20%20%20%20%20%20%20%20%20%20%20%20%20%5B51.007947349999995%2C%203.7108810500000002%5D%2C%0A%20%20%20%20%20%20%20%20%20%20%20%20%20%20%20%20%7B%7D%0A%20%20%20%20%20%20%20%20%20%20%20%20%29.addTo%28map_939d90e4d8d241eabdc0431bfeed8cce%29%3B%0A%20%20%20%20%20%20%20%20%0A%20%20%20%20%0A%20%20%20%20%20%20%20%20var%20popup_6bf859477ffe4e4e8e377a75d881dc33%20%3D%20L.popup%28%7B%22maxWidth%22%3A%20%22100%25%22%7D%29%3B%0A%0A%20%20%20%20%20%20%20%20%0A%20%20%20%20%20%20%20%20%20%20%20%20var%20html_578eb427a6b84f269fa0059b0863d300%20%3D%20%24%28%60%3Cdiv%20id%3D%22html_578eb427a6b84f269fa0059b0863d300%22%20style%3D%22width%3A%20100.0%25%3B%20height%3A%20100.0%25%3B%22%3EGhent%20University%3C/div%3E%60%29%5B0%5D%3B%0A%20%20%20%20%20%20%20%20%20%20%20%20popup_6bf859477ffe4e4e8e377a75d881dc33.setContent%28html_578eb427a6b84f269fa0059b0863d300%29%3B%0A%20%20%20%20%20%20%20%20%0A%0A%20%20%20%20%20%20%20%20marker_a1b43d894f2944f7ba8f2c6ef9887e3c.bindPopup%28popup_6bf859477ffe4e4e8e377a75d881dc33%29%0A%20%20%20%20%20%20%20%20%3B%0A%0A%20%20%20%20%20%20%20%20%0A%20%20%20%20%0A%20%20%20%20%0A%20%20%20%20%20%20%20%20%20%20%20%20var%20marker_1cebafc9c6f54341be173b0cb2ab1e03%20%3D%20L.marker%28%0A%20%20%20%20%20%20%20%20%20%20%20%20%20%20%20%20%5B48.1951059%2C%2016.383721891029737%5D%2C%0A%20%20%20%20%20%20%20%20%20%20%20%20%20%20%20%20%7B%7D%0A%20%20%20%20%20%20%20%20%20%20%20%20%29.addTo%28map_939d90e4d8d241eabdc0431bfeed8cce%29%3B%0A%20%20%20%20%20%20%20%20%0A%20%20%20%20%0A%20%20%20%20%20%20%20%20var%20popup_75b30692bdef4380b7d529e9e817e366%20%3D%20L.popup%28%7B%22maxWidth%22%3A%20%22100%25%22%7D%29%3B%0A%0A%20%20%20%20%20%20%20%20%0A%20%20%20%20%20%20%20%20%20%20%20%20var%20html_c420dc71802344faa634b0038592ea8b%20%3D%20%24%28%60%3Cdiv%20id%3D%22html_c420dc71802344faa634b0038592ea8b%22%20style%3D%22width%3A%20100.0%25%3B%20height%3A%20100.0%25%3B%22%3EUniversity%20of%20Vienna%3C/div%3E%60%29%5B0%5D%3B%0A%20%20%20%20%20%20%20%20%20%20%20%20popup_75b30692bdef4380b7d529e9e817e366.setContent%28html_c420dc71802344faa634b0038592ea8b%29%3B%0A%20%20%20%20%20%20%20%20%0A%0A%20%20%20%20%20%20%20%20marker_1cebafc9c6f54341be173b0cb2ab1e03.bindPopup%28popup_75b30692bdef4380b7d529e9e817e366%29%0A%20%20%20%20%20%20%20%20%3B%0A%0A%20%20%20%20%20%20%20%20%0A%20%20%20%20%0A%20%20%20%20%0A%20%20%20%20%20%20%20%20%20%20%20%20var%20marker_d9ea22f1092544229d8ff6a7ebac031f%20%3D%20L.marker%28%0A%20%20%20%20%20%20%20%20%20%20%20%20%20%20%20%20%5B50.928038900000004%2C%206.9281744676751575%5D%2C%0A%20%20%20%20%20%20%20%20%20%20%20%20%20%20%20%20%7B%7D%0A%20%20%20%20%20%20%20%20%20%20%20%20%29.addTo%28map_939d90e4d8d241eabdc0431bfeed8cce%29%3B%0A%20%20%20%20%20%20%20%20%0A%20%20%20%20%0A%20%20%20%20%20%20%20%20var%20popup_d38222ddff164154843cfeef4c8f6e5d%20%3D%20L.popup%28%7B%22maxWidth%22%3A%20%22100%25%22%7D%29%3B%0A%0A%20%20%20%20%20%20%20%20%0A%20%20%20%20%20%20%20%20%20%20%20%20var%20html_035277fe848d4a4d891e4dde78803933%20%3D%20%24%28%60%3Cdiv%20id%3D%22html_035277fe848d4a4d891e4dde78803933%22%20style%3D%22width%3A%20100.0%25%3B%20height%3A%20100.0%25%3B%22%3EUniversity%20of%20Cologne%3C/div%3E%60%29%5B0%5D%3B%0A%20%20%20%20%20%20%20%20%20%20%20%20popup_d38222ddff164154843cfeef4c8f6e5d.setContent%28html_035277fe848d4a4d891e4dde78803933%29%3B%0A%20%20%20%20%20%20%20%20%0A%0A%20%20%20%20%20%20%20%20marker_d9ea22f1092544229d8ff6a7ebac031f.bindPopup%28popup_d38222ddff164154843cfeef4c8f6e5d%29%0A%20%20%20%20%20%20%20%20%3B%0A%0A%20%20%20%20%20%20%20%20%0A%20%20%20%20%0A%20%20%20%20%0A%20%20%20%20%20%20%20%20%20%20%20%20var%20marker_e53a33f409024a39b6de7cc310555e6a%20%3D%20L.marker%28%0A%20%20%20%20%20%20%20%20%20%20%20%20%20%20%20%20%5B54.0093689%2C%20-2.7852448%5D%2C%0A%20%20%20%20%20%20%20%20%20%20%20%20%20%20%20%20%7B%7D%0A%20%20%20%20%20%20%20%20%20%20%20%20%29.addTo%28map_939d90e4d8d241eabdc0431bfeed8cce%29%3B%0A%20%20%20%20%20%20%20%20%0A%20%20%20%20%0A%20%20%20%20%20%20%20%20var%20popup_23ffc5497e1c46fe9292205a1e68204f%20%3D%20L.popup%28%7B%22maxWidth%22%3A%20%22100%25%22%7D%29%3B%0A%0A%20%20%20%20%20%20%20%20%0A%20%20%20%20%20%20%20%20%20%20%20%20var%20html_263a476f6d6d4dcc8ee8ad10e2e4ece7%20%3D%20%24%28%60%3Cdiv%20id%3D%22html_263a476f6d6d4dcc8ee8ad10e2e4ece7%22%20style%3D%22width%3A%20100.0%25%3B%20height%3A%20100.0%25%3B%22%3ELancaster%20University%3C/div%3E%60%29%5B0%5D%3B%0A%20%20%20%20%20%20%20%20%20%20%20%20popup_23ffc5497e1c46fe9292205a1e68204f.setContent%28html_263a476f6d6d4dcc8ee8ad10e2e4ece7%29%3B%0A%20%20%20%20%20%20%20%20%0A%0A%20%20%20%20%20%20%20%20marker_e53a33f409024a39b6de7cc310555e6a.bindPopup%28popup_23ffc5497e1c46fe9292205a1e68204f%29%0A%20%20%20%20%20%20%20%20%3B%0A%0A%20%20%20%20%20%20%20%20%0A%20%20%20%20%0A%20%20%20%20%0A%20%20%20%20%20%20%20%20%20%20%20%20var%20marker_26549bf2c11841dea5056cddcc38e3d5%20%3D%20L.marker%28%0A%20%20%20%20%20%20%20%20%20%20%20%20%20%20%20%20%5B52.9387428%2C%20-1.2002956927457427%5D%2C%0A%20%20%20%20%20%20%20%20%20%20%20%20%20%20%20%20%7B%7D%0A%20%20%20%20%20%20%20%20%20%20%20%20%29.addTo%28map_939d90e4d8d241eabdc0431bfeed8cce%29%3B%0A%20%20%20%20%20%20%20%20%0A%20%20%20%20%0A%20%20%20%20%20%20%20%20var%20popup_bba2b9a0910140889d0c8803994f31f3%20%3D%20L.popup%28%7B%22maxWidth%22%3A%20%22100%25%22%7D%29%3B%0A%0A%20%20%20%20%20%20%20%20%0A%20%20%20%20%20%20%20%20%20%20%20%20var%20html_37213c6bd0ab42098e41854db25e345f%20%3D%20%24%28%60%3Cdiv%20id%3D%22html_37213c6bd0ab42098e41854db25e345f%22%20style%3D%22width%3A%20100.0%25%3B%20height%3A%20100.0%25%3B%22%3EUniversity%20of%20Nottingham%3C/div%3E%60%29%5B0%5D%3B%0A%20%20%20%20%20%20%20%20%20%20%20%20popup_bba2b9a0910140889d0c8803994f31f3.setContent%28html_37213c6bd0ab42098e41854db25e345f%29%3B%0A%20%20%20%20%20%20%20%20%0A%0A%20%20%20%20%20%20%20%20marker_26549bf2c11841dea5056cddcc38e3d5.bindPopup%28popup_bba2b9a0910140889d0c8803994f31f3%29%0A%20%20%20%20%20%20%20%20%3B%0A%0A%20%20%20%20%20%20%20%20%0A%20%20%20%20%0A%20%20%20%20%0A%20%20%20%20%20%20%20%20%20%20%20%20var%20marker_165ae370d2014d4aafd0044f5c9d008d%20%3D%20L.marker%28%0A%20%20%20%20%20%20%20%20%20%20%20%20%20%20%20%20%5B48.841707150000005%2C%202.3447923126871286%5D%2C%0A%20%20%20%20%20%20%20%20%20%20%20%20%20%20%20%20%7B%7D%0A%20%20%20%20%20%20%20%20%20%20%20%20%29.addTo%28map_939d90e4d8d241eabdc0431bfeed8cce%29%3B%0A%20%20%20%20%20%20%20%20%0A%20%20%20%20%0A%20%20%20%20%20%20%20%20var%20popup_2c7323c209eb4de5a3dfadc1742ceca2%20%3D%20L.popup%28%7B%22maxWidth%22%3A%20%22100%25%22%7D%29%3B%0A%0A%20%20%20%20%20%20%20%20%0A%20%20%20%20%20%20%20%20%20%20%20%20var%20html_47da367245a842b7b37e38ac03d75070%20%3D%20%24%28%60%3Cdiv%20id%3D%22html_47da367245a842b7b37e38ac03d75070%22%20style%3D%22width%3A%20100.0%25%3B%20height%3A%20100.0%25%3B%22%3EUlm%20University%3C/div%3E%60%29%5B0%5D%3B%0A%20%20%20%20%20%20%20%20%20%20%20%20popup_2c7323c209eb4de5a3dfadc1742ceca2.setContent%28html_47da367245a842b7b37e38ac03d75070%29%3B%0A%20%20%20%20%20%20%20%20%0A%0A%20%20%20%20%20%20%20%20marker_165ae370d2014d4aafd0044f5c9d008d.bindPopup%28popup_2c7323c209eb4de5a3dfadc1742ceca2%29%0A%20%20%20%20%20%20%20%20%3B%0A%0A%20%20%20%20%20%20%20%20%0A%20%20%20%20%0A%20%20%20%20%0A%20%20%20%20%20%20%20%20%20%20%20%20var%20marker_95a0b93a554f4492b6a7093f312577cc%20%3D%20L.marker%28%0A%20%20%20%20%20%20%20%20%20%20%20%20%20%20%20%20%5B51.028276500000004%2C%2013.735982754935176%5D%2C%0A%20%20%20%20%20%20%20%20%20%20%20%20%20%20%20%20%7B%7D%0A%20%20%20%20%20%20%20%20%20%20%20%20%29.addTo%28map_939d90e4d8d241eabdc0431bfeed8cce%29%3B%0A%20%20%20%20%20%20%20%20%0A%20%20%20%20%0A%20%20%20%20%20%20%20%20var%20popup_776023a3423a4de3a502e8082a06abe6%20%3D%20L.popup%28%7B%22maxWidth%22%3A%20%22100%25%22%7D%29%3B%0A%0A%20%20%20%20%20%20%20%20%0A%20%20%20%20%20%20%20%20%20%20%20%20var%20html_c0a6aaf72e484ac38d5e5a992c459f58%20%3D%20%24%28%60%3Cdiv%20id%3D%22html_c0a6aaf72e484ac38d5e5a992c459f58%22%20style%3D%22width%3A%20100.0%25%3B%20height%3A%20100.0%25%3B%22%3ETU%20Dresden%3C/div%3E%60%29%5B0%5D%3B%0A%20%20%20%20%20%20%20%20%20%20%20%20popup_776023a3423a4de3a502e8082a06abe6.setContent%28html_c0a6aaf72e484ac38d5e5a992c459f58%29%3B%0A%20%20%20%20%20%20%20%20%0A%0A%20%20%20%20%20%20%20%20marker_95a0b93a554f4492b6a7093f312577cc.bindPopup%28popup_776023a3423a4de3a502e8082a06abe6%29%0A%20%20%20%20%20%20%20%20%3B%0A%0A%20%20%20%20%20%20%20%20%0A%20%20%20%20%0A%20%20%20%20%0A%20%20%20%20%20%20%20%20%20%20%20%20var%20marker_a4e7e781d06b4c45b1d4589d063c1b97%20%3D%20L.marker%28%0A%20%20%20%20%20%20%20%20%20%20%20%20%20%20%20%20%5B53.8077071%2C%20-1.5617698%5D%2C%0A%20%20%20%20%20%20%20%20%20%20%20%20%20%20%20%20%7B%7D%0A%20%20%20%20%20%20%20%20%20%20%20%20%29.addTo%28map_939d90e4d8d241eabdc0431bfeed8cce%29%3B%0A%20%20%20%20%20%20%20%20%0A%20%20%20%20%0A%20%20%20%20%20%20%20%20var%20popup_28aaf9df028142b5b674f1f8c978b232%20%3D%20L.popup%28%7B%22maxWidth%22%3A%20%22100%25%22%7D%29%3B%0A%0A%20%20%20%20%20%20%20%20%0A%20%20%20%20%20%20%20%20%20%20%20%20var%20html_fa4098d1b8a24d30aba83b1cbcbc4d99%20%3D%20%24%28%60%3Cdiv%20id%3D%22html_fa4098d1b8a24d30aba83b1cbcbc4d99%22%20style%3D%22width%3A%20100.0%25%3B%20height%3A%20100.0%25%3B%22%3EUniversity%20of%20Leeds%3C/div%3E%60%29%5B0%5D%3B%0A%20%20%20%20%20%20%20%20%20%20%20%20popup_28aaf9df028142b5b674f1f8c978b232.setContent%28html_fa4098d1b8a24d30aba83b1cbcbc4d99%29%3B%0A%20%20%20%20%20%20%20%20%0A%0A%20%20%20%20%20%20%20%20marker_a4e7e781d06b4c45b1d4589d063c1b97.bindPopup%28popup_28aaf9df028142b5b674f1f8c978b232%29%0A%20%20%20%20%20%20%20%20%3B%0A%0A%20%20%20%20%20%20%20%20%0A%20%20%20%20%0A%20%20%20%20%0A%20%20%20%20%20%20%20%20%20%20%20%20var%20marker_56c1397f62de437fbdd17b4dd392dd72%20%3D%20L.marker%28%0A%20%20%20%20%20%20%20%20%20%20%20%20%20%20%20%20%5B43.7206078%2C%2010.4026444%5D%2C%0A%20%20%20%20%20%20%20%20%20%20%20%20%20%20%20%20%7B%7D%0A%20%20%20%20%20%20%20%20%20%20%20%20%29.addTo%28map_939d90e4d8d241eabdc0431bfeed8cce%29%3B%0A%20%20%20%20%20%20%20%20%0A%20%20%20%20%0A%20%20%20%20%20%20%20%20var%20popup_49a7d1db01cb405dbcb69ee17adad634%20%3D%20L.popup%28%7B%22maxWidth%22%3A%20%22100%25%22%7D%29%3B%0A%0A%20%20%20%20%20%20%20%20%0A%20%20%20%20%20%20%20%20%20%20%20%20var%20html_fc1f1994176a4712a20028b83a5b701d%20%3D%20%24%28%60%3Cdiv%20id%3D%22html_fc1f1994176a4712a20028b83a5b701d%22%20style%3D%22width%3A%20100.0%25%3B%20height%3A%20100.0%25%3B%22%3EScuola%20Superiore%20Sant%E2%80%99Anna%3C/div%3E%60%29%5B0%5D%3B%0A%20%20%20%20%20%20%20%20%20%20%20%20popup_49a7d1db01cb405dbcb69ee17adad634.setContent%28html_fc1f1994176a4712a20028b83a5b701d%29%3B%0A%20%20%20%20%20%20%20%20%0A%0A%20%20%20%20%20%20%20%20marker_56c1397f62de437fbdd17b4dd392dd72.bindPopup%28popup_49a7d1db01cb405dbcb69ee17adad634%29%0A%20%20%20%20%20%20%20%20%3B%0A%0A%20%20%20%20%20%20%20%20%0A%20%20%20%20%0A%20%20%20%20%0A%20%20%20%20%20%20%20%20%20%20%20%20var%20marker_237b64d75eb446e28f128c930e96e8f1%20%3D%20L.marker%28%0A%20%20%20%20%20%20%20%20%20%20%20%20%20%20%20%20%5B59.363333600000004%2C%2018.05879425982729%5D%2C%0A%20%20%20%20%20%20%20%20%20%20%20%20%20%20%20%20%7B%7D%0A%20%20%20%20%20%20%20%20%20%20%20%20%29.addTo%28map_939d90e4d8d241eabdc0431bfeed8cce%29%3B%0A%20%20%20%20%20%20%20%20%0A%20%20%20%20%0A%20%20%20%20%20%20%20%20var%20popup_921841883d0546eea9a868bd34d0444f%20%3D%20L.popup%28%7B%22maxWidth%22%3A%20%22100%25%22%7D%29%3B%0A%0A%20%20%20%20%20%20%20%20%0A%20%20%20%20%20%20%20%20%20%20%20%20var%20html_ffc5c14e14774f07803fc1737f0efc85%20%3D%20%24%28%60%3Cdiv%20id%3D%22html_ffc5c14e14774f07803fc1737f0efc85%22%20style%3D%22width%3A%20100.0%25%3B%20height%3A%20100.0%25%3B%22%3EStockholm%20University%3C/div%3E%60%29%5B0%5D%3B%0A%20%20%20%20%20%20%20%20%20%20%20%20popup_921841883d0546eea9a868bd34d0444f.setContent%28html_ffc5c14e14774f07803fc1737f0efc85%29%3B%0A%20%20%20%20%20%20%20%20%0A%0A%20%20%20%20%20%20%20%20marker_237b64d75eb446e28f128c930e96e8f1.bindPopup%28popup_921841883d0546eea9a868bd34d0444f%29%0A%20%20%20%20%20%20%20%20%3B%0A%0A%20%20%20%20%20%20%20%20%0A%20%20%20%20%0A%20%20%20%20%0A%20%20%20%20%20%20%20%20%20%20%20%20var%20marker_9069c2939d6a4c7a976e40c0227743ab%20%3D%20L.marker%28%0A%20%20%20%20%20%20%20%20%20%20%20%20%20%20%20%20%5B57.16452475%2C%20-2.1018363546621197%5D%2C%0A%20%20%20%20%20%20%20%20%20%20%20%20%20%20%20%20%7B%7D%0A%20%20%20%20%20%20%20%20%20%20%20%20%29.addTo%28map_939d90e4d8d241eabdc0431bfeed8cce%29%3B%0A%20%20%20%20%20%20%20%20%0A%20%20%20%20%0A%20%20%20%20%20%20%20%20var%20popup_f3b6fe63a6f74cd5aa2823a08bae39fa%20%3D%20L.popup%28%7B%22maxWidth%22%3A%20%22100%25%22%7D%29%3B%0A%0A%20%20%20%20%20%20%20%20%0A%20%20%20%20%20%20%20%20%20%20%20%20var%20html_00da286858e34a54ae507332a2408826%20%3D%20%24%28%60%3Cdiv%20id%3D%22html_00da286858e34a54ae507332a2408826%22%20style%3D%22width%3A%20100.0%25%3B%20height%3A%20100.0%25%3B%22%3EUniversity%20of%20Aberdeen%3C/div%3E%60%29%5B0%5D%3B%0A%20%20%20%20%20%20%20%20%20%20%20%20popup_f3b6fe63a6f74cd5aa2823a08bae39fa.setContent%28html_00da286858e34a54ae507332a2408826%29%3B%0A%20%20%20%20%20%20%20%20%0A%0A%20%20%20%20%20%20%20%20marker_9069c2939d6a4c7a976e40c0227743ab.bindPopup%28popup_f3b6fe63a6f74cd5aa2823a08bae39fa%29%0A%20%20%20%20%20%20%20%20%3B%0A%0A%20%20%20%20%20%20%20%20%0A%20%20%20%20%0A%20%20%20%20%0A%20%20%20%20%20%20%20%20%20%20%20%20var%20marker_d95c1f0b9a104d17b6bf9eb653dcf1e8%20%3D%20L.marker%28%0A%20%20%20%20%20%20%20%20%20%20%20%20%20%20%20%20%5B49.8000198%2C%209.933258989967097%5D%2C%0A%20%20%20%20%20%20%20%20%20%20%20%20%20%20%20%20%7B%7D%0A%20%20%20%20%20%20%20%20%20%20%20%20%29.addTo%28map_939d90e4d8d241eabdc0431bfeed8cce%29%3B%0A%20%20%20%20%20%20%20%20%0A%20%20%20%20%0A%20%20%20%20%20%20%20%20var%20popup_f096f5c08b594ca58d3699da10cdc344%20%3D%20L.popup%28%7B%22maxWidth%22%3A%20%22100%25%22%7D%29%3B%0A%0A%20%20%20%20%20%20%20%20%0A%20%20%20%20%20%20%20%20%20%20%20%20var%20html_88aede63a57240ec905049496ed7d9ee%20%3D%20%24%28%60%3Cdiv%20id%3D%22html_88aede63a57240ec905049496ed7d9ee%22%20style%3D%22width%3A%20100.0%25%3B%20height%3A%20100.0%25%3B%22%3EUniversity%20of%20W%C3%BCrzburg%3C/div%3E%60%29%5B0%5D%3B%0A%20%20%20%20%20%20%20%20%20%20%20%20popup_f096f5c08b594ca58d3699da10cdc344.setContent%28html_88aede63a57240ec905049496ed7d9ee%29%3B%0A%20%20%20%20%20%20%20%20%0A%0A%20%20%20%20%20%20%20%20marker_d95c1f0b9a104d17b6bf9eb653dcf1e8.bindPopup%28popup_f096f5c08b594ca58d3699da10cdc344%29%0A%20%20%20%20%20%20%20%20%3B%0A%0A%20%20%20%20%20%20%20%20%0A%20%20%20%20%0A%20%20%20%20%0A%20%20%20%20%20%20%20%20%20%20%20%20var%20marker_4d02326831f244c0bc333b8e3d3e1733%20%3D%20L.marker%28%0A%20%20%20%20%20%20%20%20%20%20%20%20%20%20%20%20%5B43.7196687%2C%2010.400432749413179%5D%2C%0A%20%20%20%20%20%20%20%20%20%20%20%20%20%20%20%20%7B%7D%0A%20%20%20%20%20%20%20%20%20%20%20%20%29.addTo%28map_939d90e4d8d241eabdc0431bfeed8cce%29%3B%0A%20%20%20%20%20%20%20%20%0A%20%20%20%20%0A%20%20%20%20%20%20%20%20var%20popup_b9c750011bed40ca9d41bd3562f50459%20%3D%20L.popup%28%7B%22maxWidth%22%3A%20%22100%25%22%7D%29%3B%0A%0A%20%20%20%20%20%20%20%20%0A%20%20%20%20%20%20%20%20%20%20%20%20var%20html_d67653db1bb144d5a32f4a027efcd922%20%3D%20%24%28%60%3Cdiv%20id%3D%22html_d67653db1bb144d5a32f4a027efcd922%22%20style%3D%22width%3A%20100.0%25%3B%20height%3A%20100.0%25%3B%22%3EScuola%20Normale%20Superiore%20di%20Pisa%3C/div%3E%60%29%5B0%5D%3B%0A%20%20%20%20%20%20%20%20%20%20%20%20popup_b9c750011bed40ca9d41bd3562f50459.setContent%28html_d67653db1bb144d5a32f4a027efcd922%29%3B%0A%20%20%20%20%20%20%20%20%0A%0A%20%20%20%20%20%20%20%20marker_4d02326831f244c0bc333b8e3d3e1733.bindPopup%28popup_b9c750011bed40ca9d41bd3562f50459%29%0A%20%20%20%20%20%20%20%20%3B%0A%0A%20%20%20%20%20%20%20%20%0A%20%20%20%20%0A%20%20%20%20%0A%20%20%20%20%20%20%20%20%20%20%20%20var%20marker_f3a72cfa31d746a1a10f63db0b716085%20%3D%20L.marker%28%0A%20%20%20%20%20%20%20%20%20%20%20%20%20%20%20%20%5B50.867955699999996%2C%20-0.08778561625438146%5D%2C%0A%20%20%20%20%20%20%20%20%20%20%20%20%20%20%20%20%7B%7D%0A%20%20%20%20%20%20%20%20%20%20%20%20%29.addTo%28map_939d90e4d8d241eabdc0431bfeed8cce%29%3B%0A%20%20%20%20%20%20%20%20%0A%20%20%20%20%0A%20%20%20%20%20%20%20%20var%20popup_5d3be26f79674017bfc8cbefb52aed41%20%3D%20L.popup%28%7B%22maxWidth%22%3A%20%22100%25%22%7D%29%3B%0A%0A%20%20%20%20%20%20%20%20%0A%20%20%20%20%20%20%20%20%20%20%20%20var%20html_b43246d10e4a4349850fb15f7a9930a3%20%3D%20%24%28%60%3Cdiv%20id%3D%22html_b43246d10e4a4349850fb15f7a9930a3%22%20style%3D%22width%3A%20100.0%25%3B%20height%3A%20100.0%25%3B%22%3EUniversity%20of%20Sussex%3C/div%3E%60%29%5B0%5D%3B%0A%20%20%20%20%20%20%20%20%20%20%20%20popup_5d3be26f79674017bfc8cbefb52aed41.setContent%28html_b43246d10e4a4349850fb15f7a9930a3%29%3B%0A%20%20%20%20%20%20%20%20%0A%0A%20%20%20%20%20%20%20%20marker_f3a72cfa31d746a1a10f63db0b716085.bindPopup%28popup_5d3be26f79674017bfc8cbefb52aed41%29%0A%20%20%20%20%20%20%20%20%3B%0A%0A%20%20%20%20%20%20%20%20%0A%20%20%20%20%0A%20%20%20%20%0A%20%20%20%20%20%20%20%20%20%20%20%20var%20marker_72355f5066a444f5be5ca89924897497%20%3D%20L.marker%28%0A%20%20%20%20%20%20%20%20%20%20%20%20%20%20%20%20%5B55.785414450000005%2C%2012.520215144442094%5D%2C%0A%20%20%20%20%20%20%20%20%20%20%20%20%20%20%20%20%7B%7D%0A%20%20%20%20%20%20%20%20%20%20%20%20%29.addTo%28map_939d90e4d8d241eabdc0431bfeed8cce%29%3B%0A%20%20%20%20%20%20%20%20%0A%20%20%20%20%0A%20%20%20%20%20%20%20%20var%20popup_57c98597d621406ba8863c125b6f8797%20%3D%20L.popup%28%7B%22maxWidth%22%3A%20%22100%25%22%7D%29%3B%0A%0A%20%20%20%20%20%20%20%20%0A%20%20%20%20%20%20%20%20%20%20%20%20var%20html_58f4ede623994a78b137bf1d18706123%20%3D%20%24%28%60%3Cdiv%20id%3D%22html_58f4ede623994a78b137bf1d18706123%22%20style%3D%22width%3A%20100.0%25%3B%20height%3A%20100.0%25%3B%22%3ETechnical%20University%20of%20Denmark%3C/div%3E%60%29%5B0%5D%3B%0A%20%20%20%20%20%20%20%20%20%20%20%20popup_57c98597d621406ba8863c125b6f8797.setContent%28html_58f4ede623994a78b137bf1d18706123%29%3B%0A%20%20%20%20%20%20%20%20%0A%0A%20%20%20%20%20%20%20%20marker_72355f5066a444f5be5ca89924897497.bindPopup%28popup_57c98597d621406ba8863c125b6f8797%29%0A%20%20%20%20%20%20%20%20%3B%0A%0A%20%20%20%20%20%20%20%20%0A%20%20%20%20%0A%20%20%20%20%0A%20%20%20%20%20%20%20%20%20%20%20%20var%20marker_abe4743f2e9f4058996dc78e5d228f1e%20%3D%20L.marker%28%0A%20%20%20%20%20%20%20%20%20%20%20%20%20%20%20%20%5B56.3398198%2C%20-2.8117937053149826%5D%2C%0A%20%20%20%20%20%20%20%20%20%20%20%20%20%20%20%20%7B%7D%0A%20%20%20%20%20%20%20%20%20%20%20%20%29.addTo%28map_939d90e4d8d241eabdc0431bfeed8cce%29%3B%0A%20%20%20%20%20%20%20%20%0A%20%20%20%20%0A%20%20%20%20%20%20%20%20var%20popup_2c4a0103653e4f25865e8f6975b14dc5%20%3D%20L.popup%28%7B%22maxWidth%22%3A%20%22100%25%22%7D%29%3B%0A%0A%20%20%20%20%20%20%20%20%0A%20%20%20%20%20%20%20%20%20%20%20%20var%20html_0a3f8e2af718487a9aa36e6e7bcbce94%20%3D%20%24%28%60%3Cdiv%20id%3D%22html_0a3f8e2af718487a9aa36e6e7bcbce94%22%20style%3D%22width%3A%20100.0%25%3B%20height%3A%20100.0%25%3B%22%3EUniversity%20of%20St%20Andrews%3C/div%3E%60%29%5B0%5D%3B%0A%20%20%20%20%20%20%20%20%20%20%20%20popup_2c4a0103653e4f25865e8f6975b14dc5.setContent%28html_0a3f8e2af718487a9aa36e6e7bcbce94%29%3B%0A%20%20%20%20%20%20%20%20%0A%0A%20%20%20%20%20%20%20%20marker_abe4743f2e9f4058996dc78e5d228f1e.bindPopup%28popup_2c4a0103653e4f25865e8f6975b14dc5%29%0A%20%20%20%20%20%20%20%20%3B%0A%0A%20%20%20%20%20%20%20%20%0A%20%20%20%20%0A%20%20%20%20%0A%20%20%20%20%20%20%20%20%20%20%20%20var%20marker_25b8354428314c8aace12e2c8c8594d8%20%3D%20L.marker%28%0A%20%20%20%20%20%20%20%20%20%20%20%20%20%20%20%20%5B52.33396225%2C%204.865196500737312%5D%2C%0A%20%20%20%20%20%20%20%20%20%20%20%20%20%20%20%20%7B%7D%0A%20%20%20%20%20%20%20%20%20%20%20%20%29.addTo%28map_939d90e4d8d241eabdc0431bfeed8cce%29%3B%0A%20%20%20%20%20%20%20%20%0A%20%20%20%20%0A%20%20%20%20%20%20%20%20var%20popup_5fcc4697fc3b4844beba81b5c26376e8%20%3D%20L.popup%28%7B%22maxWidth%22%3A%20%22100%25%22%7D%29%3B%0A%0A%20%20%20%20%20%20%20%20%0A%20%20%20%20%20%20%20%20%20%20%20%20var%20html_1339d65705c94a409bfbe77f797c4c5e%20%3D%20%24%28%60%3Cdiv%20id%3D%22html_1339d65705c94a409bfbe77f797c4c5e%22%20style%3D%22width%3A%20100.0%25%3B%20height%3A%20100.0%25%3B%22%3EVrije%20Universiteit%20Amsterdam%3C/div%3E%60%29%5B0%5D%3B%0A%20%20%20%20%20%20%20%20%20%20%20%20popup_5fcc4697fc3b4844beba81b5c26376e8.setContent%28html_1339d65705c94a409bfbe77f797c4c5e%29%3B%0A%20%20%20%20%20%20%20%20%0A%0A%20%20%20%20%20%20%20%20marker_25b8354428314c8aace12e2c8c8594d8.bindPopup%28popup_5fcc4697fc3b4844beba81b5c26376e8%29%0A%20%20%20%20%20%20%20%20%3B%0A%0A%20%20%20%20%20%20%20%20%0A%20%20%20%20%0A%20%20%20%20%0A%20%20%20%20%20%20%20%20%20%20%20%20var%20marker_18022c4bea464bcca1a428a4c9cbee43%20%3D%20L.marker%28%0A%20%20%20%20%20%20%20%20%20%20%20%20%20%20%20%20%5B51.4486602%2C%205.4903995655080475%5D%2C%0A%20%20%20%20%20%20%20%20%20%20%20%20%20%20%20%20%7B%7D%0A%20%20%20%20%20%20%20%20%20%20%20%20%29.addTo%28map_939d90e4d8d241eabdc0431bfeed8cce%29%3B%0A%20%20%20%20%20%20%20%20%0A%20%20%20%20%0A%20%20%20%20%20%20%20%20var%20popup_91e99896aaab41da9ee3975df1ed7850%20%3D%20L.popup%28%7B%22maxWidth%22%3A%20%22100%25%22%7D%29%3B%0A%0A%20%20%20%20%20%20%20%20%0A%20%20%20%20%20%20%20%20%20%20%20%20var%20html_ab086f2f5d2b43eca55f5e80eb6037ff%20%3D%20%24%28%60%3Cdiv%20id%3D%22html_ab086f2f5d2b43eca55f5e80eb6037ff%22%20style%3D%22width%3A%20100.0%25%3B%20height%3A%20100.0%25%3B%22%3EEindhoven%20University%20of%20Technology%3C/div%3E%60%29%5B0%5D%3B%0A%20%20%20%20%20%20%20%20%20%20%20%20popup_91e99896aaab41da9ee3975df1ed7850.setContent%28html_ab086f2f5d2b43eca55f5e80eb6037ff%29%3B%0A%20%20%20%20%20%20%20%20%0A%0A%20%20%20%20%20%20%20%20marker_18022c4bea464bcca1a428a4c9cbee43.bindPopup%28popup_91e99896aaab41da9ee3975df1ed7850%29%0A%20%20%20%20%20%20%20%20%3B%0A%0A%20%20%20%20%20%20%20%20%0A%20%20%20%20%0A%20%20%20%20%0A%20%20%20%20%20%20%20%20%20%20%20%20var%20marker_60cfe9f66fdc45fa8f40ea0d408fe990%20%3D%20L.marker%28%0A%20%20%20%20%20%20%20%20%20%20%20%20%20%20%20%20%5B52.62446355%2C%20-1.125730143333798%5D%2C%0A%20%20%20%20%20%20%20%20%20%20%20%20%20%20%20%20%7B%7D%0A%20%20%20%20%20%20%20%20%20%20%20%20%29.addTo%28map_939d90e4d8d241eabdc0431bfeed8cce%29%3B%0A%20%20%20%20%20%20%20%20%0A%20%20%20%20%0A%20%20%20%20%20%20%20%20var%20popup_d5187c1783044a2dba528d7debd0c241%20%3D%20L.popup%28%7B%22maxWidth%22%3A%20%22100%25%22%7D%29%3B%0A%0A%20%20%20%20%20%20%20%20%0A%20%20%20%20%20%20%20%20%20%20%20%20var%20html_1257c4e71332450e9bd92e73ad49b422%20%3D%20%24%28%60%3Cdiv%20id%3D%22html_1257c4e71332450e9bd92e73ad49b422%22%20style%3D%22width%3A%20100.0%25%3B%20height%3A%20100.0%25%3B%22%3EUniversity%20of%20Leicester%3C/div%3E%60%29%5B0%5D%3B%0A%20%20%20%20%20%20%20%20%20%20%20%20popup_d5187c1783044a2dba528d7debd0c241.setContent%28html_1257c4e71332450e9bd92e73ad49b422%29%3B%0A%20%20%20%20%20%20%20%20%0A%0A%20%20%20%20%20%20%20%20marker_60cfe9f66fdc45fa8f40ea0d408fe990.bindPopup%28popup_d5187c1783044a2dba528d7debd0c241%29%0A%20%20%20%20%20%20%20%20%3B%0A%0A%20%20%20%20%20%20%20%20%0A%20%20%20%20%0A%20%20%20%20%0A%20%20%20%20%20%20%20%20%20%20%20%20var%20marker_aab19064201d42c0b45dcfc3995d7428%20%3D%20L.marker%28%0A%20%20%20%20%20%20%20%20%20%20%20%20%20%20%20%20%5B54.98017505%2C%20-1.6146802127187847%5D%2C%0A%20%20%20%20%20%20%20%20%20%20%20%20%20%20%20%20%7B%7D%0A%20%20%20%20%20%20%20%20%20%20%20%20%29.addTo%28map_939d90e4d8d241eabdc0431bfeed8cce%29%3B%0A%20%20%20%20%20%20%20%20%0A%20%20%20%20%0A%20%20%20%20%20%20%20%20var%20popup_8232b29837a54cd593d6efbcb4a235a6%20%3D%20L.popup%28%7B%22maxWidth%22%3A%20%22100%25%22%7D%29%3B%0A%0A%20%20%20%20%20%20%20%20%0A%20%20%20%20%20%20%20%20%20%20%20%20var%20html_4550e8a1152941c49cfeeff738878b4d%20%3D%20%24%28%60%3Cdiv%20id%3D%22html_4550e8a1152941c49cfeeff738878b4d%22%20style%3D%22width%3A%20100.0%25%3B%20height%3A%20100.0%25%3B%22%3ENewcastle%20University%3C/div%3E%60%29%5B0%5D%3B%0A%20%20%20%20%20%20%20%20%20%20%20%20popup_8232b29837a54cd593d6efbcb4a235a6.setContent%28html_4550e8a1152941c49cfeeff738878b4d%29%3B%0A%20%20%20%20%20%20%20%20%0A%0A%20%20%20%20%20%20%20%20marker_aab19064201d42c0b45dcfc3995d7428.bindPopup%28popup_8232b29837a54cd593d6efbcb4a235a6%29%0A%20%20%20%20%20%20%20%20%3B%0A%0A%20%20%20%20%20%20%20%20%0A%20%20%20%20%0A%20%20%20%20%0A%20%20%20%20%20%20%20%20%20%20%20%20var%20marker_06b4c2a4b0c640509c1a1a5ca66a7fd7%20%3D%20L.marker%28%0A%20%20%20%20%20%20%20%20%20%20%20%20%20%20%20%20%5B46.5225695%2C%206.580950497654294%5D%2C%0A%20%20%20%20%20%20%20%20%20%20%20%20%20%20%20%20%7B%7D%0A%20%20%20%20%20%20%20%20%20%20%20%20%29.addTo%28map_939d90e4d8d241eabdc0431bfeed8cce%29%3B%0A%20%20%20%20%20%20%20%20%0A%20%20%20%20%0A%20%20%20%20%20%20%20%20var%20popup_c1a8985df5e64c79a776febe0500f047%20%3D%20L.popup%28%7B%22maxWidth%22%3A%20%22100%25%22%7D%29%3B%0A%0A%20%20%20%20%20%20%20%20%0A%20%20%20%20%20%20%20%20%20%20%20%20var%20html_f946dcb99c774ab986656b8bd5e31686%20%3D%20%24%28%60%3Cdiv%20id%3D%22html_f946dcb99c774ab986656b8bd5e31686%22%20style%3D%22width%3A%20100.0%25%3B%20height%3A%20100.0%25%3B%22%3EUniversity%20of%20Lausanne%3C/div%3E%60%29%5B0%5D%3B%0A%20%20%20%20%20%20%20%20%20%20%20%20popup_c1a8985df5e64c79a776febe0500f047.setContent%28html_f946dcb99c774ab986656b8bd5e31686%29%3B%0A%20%20%20%20%20%20%20%20%0A%0A%20%20%20%20%20%20%20%20marker_06b4c2a4b0c640509c1a1a5ca66a7fd7.bindPopup%28popup_c1a8985df5e64c79a776febe0500f047%29%0A%20%20%20%20%20%20%20%20%3B%0A%0A%20%20%20%20%20%20%20%20%0A%20%20%20%20%0A%20%20%20%20%0A%20%20%20%20%20%20%20%20%20%20%20%20var%20marker_1f945dc7337a48a4993e1d2b0eb26878%20%3D%20L.marker%28%0A%20%20%20%20%20%20%20%20%20%20%20%20%20%20%20%20%5B44.4997274%2C%2011.3531028%5D%2C%0A%20%20%20%20%20%20%20%20%20%20%20%20%20%20%20%20%7B%7D%0A%20%20%20%20%20%20%20%20%20%20%20%20%29.addTo%28map_939d90e4d8d241eabdc0431bfeed8cce%29%3B%0A%20%20%20%20%20%20%20%20%0A%20%20%20%20%0A%20%20%20%20%20%20%20%20var%20popup_b003ed3f63054064af3d8083ab52fae6%20%3D%20L.popup%28%7B%22maxWidth%22%3A%20%22100%25%22%7D%29%3B%0A%0A%20%20%20%20%20%20%20%20%0A%20%20%20%20%20%20%20%20%20%20%20%20var%20html_1cc51cd3d61d4580a316d3001d2335cc%20%3D%20%24%28%60%3Cdiv%20id%3D%22html_1cc51cd3d61d4580a316d3001d2335cc%22%20style%3D%22width%3A%20100.0%25%3B%20height%3A%20100.0%25%3B%22%3EUniversity%20of%20Bologna%3C/div%3E%60%29%5B0%5D%3B%0A%20%20%20%20%20%20%20%20%20%20%20%20popup_b003ed3f63054064af3d8083ab52fae6.setContent%28html_1cc51cd3d61d4580a316d3001d2335cc%29%3B%0A%20%20%20%20%20%20%20%20%0A%0A%20%20%20%20%20%20%20%20marker_1f945dc7337a48a4993e1d2b0eb26878.bindPopup%28popup_b003ed3f63054064af3d8083ab52fae6%29%0A%20%20%20%20%20%20%20%20%3B%0A%0A%20%20%20%20%20%20%20%20%0A%20%20%20%20%0A%20%20%20%20%0A%20%20%20%20%20%20%20%20%20%20%20%20var%20marker_c96fc6edf1964dcea7812802bdc404b1%20%3D%20L.marker%28%0A%20%20%20%20%20%20%20%20%20%20%20%20%20%20%20%20%5B60.186081650000006%2C%2024.828468612421393%5D%2C%0A%20%20%20%20%20%20%20%20%20%20%20%20%20%20%20%20%7B%7D%0A%20%20%20%20%20%20%20%20%20%20%20%20%29.addTo%28map_939d90e4d8d241eabdc0431bfeed8cce%29%3B%0A%20%20%20%20%20%20%20%20%0A%20%20%20%20%0A%20%20%20%20%20%20%20%20var%20popup_4b426cc0130345f2b530ca80d59432cc%20%3D%20L.popup%28%7B%22maxWidth%22%3A%20%22100%25%22%7D%29%3B%0A%0A%20%20%20%20%20%20%20%20%0A%20%20%20%20%20%20%20%20%20%20%20%20var%20html_70dc72924e65452db11afe9f2b949e9f%20%3D%20%24%28%60%3Cdiv%20id%3D%22html_70dc72924e65452db11afe9f2b949e9f%22%20style%3D%22width%3A%20100.0%25%3B%20height%3A%20100.0%25%3B%22%3EAalto%20University%3C/div%3E%60%29%5B0%5D%3B%0A%20%20%20%20%20%20%20%20%20%20%20%20popup_4b426cc0130345f2b530ca80d59432cc.setContent%28html_70dc72924e65452db11afe9f2b949e9f%29%3B%0A%20%20%20%20%20%20%20%20%0A%0A%20%20%20%20%20%20%20%20marker_c96fc6edf1964dcea7812802bdc404b1.bindPopup%28popup_4b426cc0130345f2b530ca80d59432cc%29%0A%20%20%20%20%20%20%20%20%3B%0A%0A%20%20%20%20%20%20%20%20%0A%20%20%20%20%0A%20%20%20%20%0A%20%20%20%20%20%20%20%20%20%20%20%20var%20marker_e72738193104497da166d777d059b106%20%3D%20L.marker%28%0A%20%20%20%20%20%20%20%20%20%20%20%20%20%20%20%20%5B53.40724285%2C%20-2.965833661018871%5D%2C%0A%20%20%20%20%20%20%20%20%20%20%20%20%20%20%20%20%7B%7D%0A%20%20%20%20%20%20%20%20%20%20%20%20%29.addTo%28map_939d90e4d8d241eabdc0431bfeed8cce%29%3B%0A%20%20%20%20%20%20%20%20%0A%20%20%20%20%0A%20%20%20%20%20%20%20%20var%20popup_5f2972787d404f848994605438b9d537%20%3D%20L.popup%28%7B%22maxWidth%22%3A%20%22100%25%22%7D%29%3B%0A%0A%20%20%20%20%20%20%20%20%0A%20%20%20%20%20%20%20%20%20%20%20%20var%20html_f771dd2f58094e41b1328b6695c1ae97%20%3D%20%24%28%60%3Cdiv%20id%3D%22html_f771dd2f58094e41b1328b6695c1ae97%22%20style%3D%22width%3A%20100.0%25%3B%20height%3A%20100.0%25%3B%22%3EUniversity%20of%20Liverpool%3C/div%3E%60%29%5B0%5D%3B%0A%20%20%20%20%20%20%20%20%20%20%20%20popup_5f2972787d404f848994605438b9d537.setContent%28html_f771dd2f58094e41b1328b6695c1ae97%29%3B%0A%20%20%20%20%20%20%20%20%0A%0A%20%20%20%20%20%20%20%20marker_e72738193104497da166d777d059b106.bindPopup%28popup_5f2972787d404f848994605438b9d537%29%0A%20%20%20%20%20%20%20%20%3B%0A%0A%20%20%20%20%20%20%20%20%0A%20%20%20%20%0A%20%20%20%20%0A%20%20%20%20%20%20%20%20%20%20%20%20var%20marker_a2ed265289fa4d4a91fa1951e6a1cad7%20%3D%20L.marker%28%0A%20%20%20%20%20%20%20%20%20%20%20%20%20%20%20%20%5B51.96734215%2C%207.599243326272159%5D%2C%0A%20%20%20%20%20%20%20%20%20%20%20%20%20%20%20%20%7B%7D%0A%20%20%20%20%20%20%20%20%20%20%20%20%29.addTo%28map_939d90e4d8d241eabdc0431bfeed8cce%29%3B%0A%20%20%20%20%20%20%20%20%0A%20%20%20%20%0A%20%20%20%20%20%20%20%20var%20popup_bee9939685fe4db38d7c27ed340726d1%20%3D%20L.popup%28%7B%22maxWidth%22%3A%20%22100%25%22%7D%29%3B%0A%0A%20%20%20%20%20%20%20%20%0A%20%20%20%20%20%20%20%20%20%20%20%20var%20html_f7fa013fd25648899ff7ebc0a87e7d93%20%3D%20%24%28%60%3Cdiv%20id%3D%22html_f7fa013fd25648899ff7ebc0a87e7d93%22%20style%3D%22width%3A%20100.0%25%3B%20height%3A%20100.0%25%3B%22%3EUniversity%20of%20M%C3%BCnster%3C/div%3E%60%29%5B0%5D%3B%0A%20%20%20%20%20%20%20%20%20%20%20%20popup_bee9939685fe4db38d7c27ed340726d1.setContent%28html_f7fa013fd25648899ff7ebc0a87e7d93%29%3B%0A%20%20%20%20%20%20%20%20%0A%0A%20%20%20%20%20%20%20%20marker_a2ed265289fa4d4a91fa1951e6a1cad7.bindPopup%28popup_bee9939685fe4db38d7c27ed340726d1%29%0A%20%20%20%20%20%20%20%20%3B%0A%0A%20%20%20%20%20%20%20%20%0A%20%20%20%20%0A%20%20%20%20%0A%20%20%20%20%20%20%20%20%20%20%20%20var%20marker_6c96ea98a7d149eabc74ec9458772a13%20%3D%20L.marker%28%0A%20%20%20%20%20%20%20%20%20%20%20%20%20%20%20%20%5B52.2233862%2C%206.88542315997116%5D%2C%0A%20%20%20%20%20%20%20%20%20%20%20%20%20%20%20%20%7B%7D%0A%20%20%20%20%20%20%20%20%20%20%20%20%29.addTo%28map_939d90e4d8d241eabdc0431bfeed8cce%29%3B%0A%20%20%20%20%20%20%20%20%0A%20%20%20%20%0A%20%20%20%20%20%20%20%20var%20popup_245af198305045aa9826b68bdc7c08d5%20%3D%20L.popup%28%7B%22maxWidth%22%3A%20%22100%25%22%7D%29%3B%0A%0A%20%20%20%20%20%20%20%20%0A%20%20%20%20%20%20%20%20%20%20%20%20var%20html_1020dac44c8c4a7e99a9c1bf72d47a2e%20%3D%20%24%28%60%3Cdiv%20id%3D%22html_1020dac44c8c4a7e99a9c1bf72d47a2e%22%20style%3D%22width%3A%20100.0%25%3B%20height%3A%20100.0%25%3B%22%3EUniversity%20of%20Twente%3C/div%3E%60%29%5B0%5D%3B%0A%20%20%20%20%20%20%20%20%20%20%20%20popup_245af198305045aa9826b68bdc7c08d5.setContent%28html_1020dac44c8c4a7e99a9c1bf72d47a2e%29%3B%0A%20%20%20%20%20%20%20%20%0A%0A%20%20%20%20%20%20%20%20marker_6c96ea98a7d149eabc74ec9458772a13.bindPopup%28popup_245af198305045aa9826b68bdc7c08d5%29%0A%20%20%20%20%20%20%20%20%3B%0A%0A%20%20%20%20%20%20%20%20%0A%20%20%20%20%0A%20%20%20%20%0A%20%20%20%20%20%20%20%20%20%20%20%20var%20marker_703e9a3a5fed45f6acc642edab576abf%20%3D%20L.marker%28%0A%20%20%20%20%20%20%20%20%20%20%20%20%20%20%20%20%5B51.4891343%2C%20-3.1822051%5D%2C%0A%20%20%20%20%20%20%20%20%20%20%20%20%20%20%20%20%7B%7D%0A%20%20%20%20%20%20%20%20%20%20%20%20%29.addTo%28map_939d90e4d8d241eabdc0431bfeed8cce%29%3B%0A%20%20%20%20%20%20%20%20%0A%20%20%20%20%0A%20%20%20%20%20%20%20%20var%20popup_629108031a654fc8a171f328d02aeb93%20%3D%20L.popup%28%7B%22maxWidth%22%3A%20%22100%25%22%7D%29%3B%0A%0A%20%20%20%20%20%20%20%20%0A%20%20%20%20%20%20%20%20%20%20%20%20var%20html_25595ed23e654536889084b4bf2ef614%20%3D%20%24%28%60%3Cdiv%20id%3D%22html_25595ed23e654536889084b4bf2ef614%22%20style%3D%22width%3A%20100.0%25%3B%20height%3A%20100.0%25%3B%22%3ECardiff%20University%3C/div%3E%60%29%5B0%5D%3B%0A%20%20%20%20%20%20%20%20%20%20%20%20popup_629108031a654fc8a171f328d02aeb93.setContent%28html_25595ed23e654536889084b4bf2ef614%29%3B%0A%20%20%20%20%20%20%20%20%0A%0A%20%20%20%20%20%20%20%20marker_703e9a3a5fed45f6acc642edab576abf.bindPopup%28popup_629108031a654fc8a171f328d02aeb93%29%0A%20%20%20%20%20%20%20%20%3B%0A%0A%20%20%20%20%20%20%20%20%0A%20%20%20%20%0A%20%20%20%20%0A%20%20%20%20%20%20%20%20%20%20%20%20var%20marker_270c58ed5c3541fe8ebac2bea387fea1%20%3D%20L.marker%28%0A%20%20%20%20%20%20%20%20%20%20%20%20%20%20%20%20%5B59.2016758%2C%2017.6203201%5D%2C%0A%20%20%20%20%20%20%20%20%20%20%20%20%20%20%20%20%7B%7D%0A%20%20%20%20%20%20%20%20%20%20%20%20%29.addTo%28map_939d90e4d8d241eabdc0431bfeed8cce%29%3B%0A%20%20%20%20%20%20%20%20%0A%20%20%20%20%0A%20%20%20%20%20%20%20%20var%20popup_dde60fd5ee554f28b81c0d67bb85df1b%20%3D%20L.popup%28%7B%22maxWidth%22%3A%20%22100%25%22%7D%29%3B%0A%0A%20%20%20%20%20%20%20%20%0A%20%20%20%20%20%20%20%20%20%20%20%20var%20html_158a06410bf44326b465a21cfb0b0e2c%20%3D%20%24%28%60%3Cdiv%20id%3D%22html_158a06410bf44326b465a21cfb0b0e2c%22%20style%3D%22width%3A%20100.0%25%3B%20height%3A%20100.0%25%3B%22%3EKTH%20Royal%20Institute%20of%20Technology%3C/div%3E%60%29%5B0%5D%3B%0A%20%20%20%20%20%20%20%20%20%20%20%20popup_dde60fd5ee554f28b81c0d67bb85df1b.setContent%28html_158a06410bf44326b465a21cfb0b0e2c%29%3B%0A%20%20%20%20%20%20%20%20%0A%0A%20%20%20%20%20%20%20%20marker_270c58ed5c3541fe8ebac2bea387fea1.bindPopup%28popup_dde60fd5ee554f28b81c0d67bb85df1b%29%0A%20%20%20%20%20%20%20%20%3B%0A%0A%20%20%20%20%20%20%20%20%0A%20%20%20%20%0A%20%20%20%20%0A%20%20%20%20%20%20%20%20%20%20%20%20var%20marker_4477d7c8255c4055b546ad937394234b%20%3D%20L.marker%28%0A%20%20%20%20%20%20%20%20%20%20%20%20%20%20%20%20%5B47.690088599999996%2C%209.188243876500252%5D%2C%0A%20%20%20%20%20%20%20%20%20%20%20%20%20%20%20%20%7B%7D%0A%20%20%20%20%20%20%20%20%20%20%20%20%29.addTo%28map_939d90e4d8d241eabdc0431bfeed8cce%29%3B%0A%20%20%20%20%20%20%20%20%0A%20%20%20%20%0A%20%20%20%20%20%20%20%20var%20popup_bb94ebeae6044a8c9018739816f8bd43%20%3D%20L.popup%28%7B%22maxWidth%22%3A%20%22100%25%22%7D%29%3B%0A%0A%20%20%20%20%20%20%20%20%0A%20%20%20%20%20%20%20%20%20%20%20%20var%20html_87b30781dc0c4f46be650b3ffe8672ba%20%3D%20%24%28%60%3Cdiv%20id%3D%22html_87b30781dc0c4f46be650b3ffe8672ba%22%20style%3D%22width%3A%20100.0%25%3B%20height%3A%20100.0%25%3B%22%3EUniversity%20of%20Konstanz%3C/div%3E%60%29%5B0%5D%3B%0A%20%20%20%20%20%20%20%20%20%20%20%20popup_bb94ebeae6044a8c9018739816f8bd43.setContent%28html_87b30781dc0c4f46be650b3ffe8672ba%29%3B%0A%20%20%20%20%20%20%20%20%0A%0A%20%20%20%20%20%20%20%20marker_4477d7c8255c4055b546ad937394234b.bindPopup%28popup_bb94ebeae6044a8c9018739816f8bd43%29%0A%20%20%20%20%20%20%20%20%3B%0A%0A%20%20%20%20%20%20%20%20%0A%20%20%20%20%0A%20%20%20%20%0A%20%20%20%20%20%20%20%20%20%20%20%20var%20marker_fdda886a25de42e69267c876283b24c9%20%3D%20L.marker%28%0A%20%20%20%20%20%20%20%20%20%20%20%20%20%20%20%20%5B51.42874185%2C%206.78696618421473%5D%2C%0A%20%20%20%20%20%20%20%20%20%20%20%20%20%20%20%20%7B%7D%0A%20%20%20%20%20%20%20%20%20%20%20%20%29.addTo%28map_939d90e4d8d241eabdc0431bfeed8cce%29%3B%0A%20%20%20%20%20%20%20%20%0A%20%20%20%20%0A%20%20%20%20%20%20%20%20var%20popup_0416d0d322b841fc9e3fe15992fd8fb7%20%3D%20L.popup%28%7B%22maxWidth%22%3A%20%22100%25%22%7D%29%3B%0A%0A%20%20%20%20%20%20%20%20%0A%20%20%20%20%20%20%20%20%20%20%20%20var%20html_0f65090a3afd46238ab8c89b5719c485%20%3D%20%24%28%60%3Cdiv%20id%3D%22html_0f65090a3afd46238ab8c89b5719c485%22%20style%3D%22width%3A%20100.0%25%3B%20height%3A%20100.0%25%3B%22%3EUniversity%20of%20Duisburg-Essen%3C/div%3E%60%29%5B0%5D%3B%0A%20%20%20%20%20%20%20%20%20%20%20%20popup_0416d0d322b841fc9e3fe15992fd8fb7.setContent%28html_0f65090a3afd46238ab8c89b5719c485%29%3B%0A%20%20%20%20%20%20%20%20%0A%0A%20%20%20%20%20%20%20%20marker_fdda886a25de42e69267c876283b24c9.bindPopup%28popup_0416d0d322b841fc9e3fe15992fd8fb7%29%0A%20%20%20%20%20%20%20%20%3B%0A%0A%20%20%20%20%20%20%20%20%0A%20%20%20%20%0A%20%20%20%20%0A%20%20%20%20%20%20%20%20%20%20%20%20var%20marker_0f08d7c793a0421b8c86d4bdf09dfa03%20%3D%20L.marker%28%0A%20%20%20%20%20%20%20%20%20%20%20%20%20%20%20%20%5B52.622251%2C%201.2411579%5D%2C%0A%20%20%20%20%20%20%20%20%20%20%20%20%20%20%20%20%7B%7D%0A%20%20%20%20%20%20%20%20%20%20%20%20%29.addTo%28map_939d90e4d8d241eabdc0431bfeed8cce%29%3B%0A%20%20%20%20%20%20%20%20%0A%20%20%20%20%0A%20%20%20%20%20%20%20%20var%20popup_e888d0bbb998406fb0fea78700db24a2%20%3D%20L.popup%28%7B%22maxWidth%22%3A%20%22100%25%22%7D%29%3B%0A%0A%20%20%20%20%20%20%20%20%0A%20%20%20%20%20%20%20%20%20%20%20%20var%20html_da5ba56ecc404e248badf8aa42f77513%20%3D%20%24%28%60%3Cdiv%20id%3D%22html_da5ba56ecc404e248badf8aa42f77513%22%20style%3D%22width%3A%20100.0%25%3B%20height%3A%20100.0%25%3B%22%3EUniversity%20of%20East%20Anglia%3C/div%3E%60%29%5B0%5D%3B%0A%20%20%20%20%20%20%20%20%20%20%20%20popup_e888d0bbb998406fb0fea78700db24a2.setContent%28html_da5ba56ecc404e248badf8aa42f77513%29%3B%0A%20%20%20%20%20%20%20%20%0A%0A%20%20%20%20%20%20%20%20marker_0f08d7c793a0421b8c86d4bdf09dfa03.bindPopup%28popup_e888d0bbb998406fb0fea78700db24a2%29%0A%20%20%20%20%20%20%20%20%3B%0A%0A%20%20%20%20%20%20%20%20%0A%20%20%20%20%0A%20%20%20%20%0A%20%20%20%20%20%20%20%20%20%20%20%20var%20marker_83544377bc434151a9ff6cdee1688ba5%20%3D%20L.marker%28%0A%20%20%20%20%20%20%20%20%20%20%20%20%20%20%20%20%5B57.015907049999996%2C%209.975308243557345%5D%2C%0A%20%20%20%20%20%20%20%20%20%20%20%20%20%20%20%20%7B%7D%0A%20%20%20%20%20%20%20%20%20%20%20%20%29.addTo%28map_939d90e4d8d241eabdc0431bfeed8cce%29%3B%0A%20%20%20%20%20%20%20%20%0A%20%20%20%20%0A%20%20%20%20%20%20%20%20var%20popup_f67d0847baa54f23be408134daff373a%20%3D%20L.popup%28%7B%22maxWidth%22%3A%20%22100%25%22%7D%29%3B%0A%0A%20%20%20%20%20%20%20%20%0A%20%20%20%20%20%20%20%20%20%20%20%20var%20html_f159eeca1ef241ecb28b51e7737741a2%20%3D%20%24%28%60%3Cdiv%20id%3D%22html_f159eeca1ef241ecb28b51e7737741a2%22%20style%3D%22width%3A%20100.0%25%3B%20height%3A%20100.0%25%3B%22%3EAalborg%20University%3C/div%3E%60%29%5B0%5D%3B%0A%20%20%20%20%20%20%20%20%20%20%20%20popup_f67d0847baa54f23be408134daff373a.setContent%28html_f159eeca1ef241ecb28b51e7737741a2%29%3B%0A%20%20%20%20%20%20%20%20%0A%0A%20%20%20%20%20%20%20%20marker_83544377bc434151a9ff6cdee1688ba5.bindPopup%28popup_f67d0847baa54f23be408134daff373a%29%0A%20%20%20%20%20%20%20%20%3B%0A%0A%20%20%20%20%20%20%20%20%0A%20%20%20%20%0A%20%20%20%20%0A%20%20%20%20%20%20%20%20%20%20%20%20var%20marker_7dd37a060f4c4e099b34f7a4a378cd18%20%3D%20L.marker%28%0A%20%20%20%20%20%20%20%20%20%20%20%20%20%20%20%20%5B48.8267429%2C%202.3825999%5D%2C%0A%20%20%20%20%20%20%20%20%20%20%20%20%20%20%20%20%7B%7D%0A%20%20%20%20%20%20%20%20%20%20%20%20%29.addTo%28map_939d90e4d8d241eabdc0431bfeed8cce%29%3B%0A%20%20%20%20%20%20%20%20%0A%20%20%20%20%0A%20%20%20%20%20%20%20%20var%20popup_a11e28dc15134864a420307dc4d5ff18%20%3D%20L.popup%28%7B%22maxWidth%22%3A%20%22100%25%22%7D%29%3B%0A%0A%20%20%20%20%20%20%20%20%0A%20%20%20%20%20%20%20%20%20%20%20%20var%20html_a67d6daefcdb4db29cd11c51c4758a2c%20%3D%20%24%28%60%3Cdiv%20id%3D%22html_a67d6daefcdb4db29cd11c51c4758a2c%22%20style%3D%22width%3A%20100.0%25%3B%20height%3A%20100.0%25%3B%22%3EParis%20Diderot%20University%20%E2%80%93%20Paris%207%3C/div%3E%60%29%5B0%5D%3B%0A%20%20%20%20%20%20%20%20%20%20%20%20popup_a11e28dc15134864a420307dc4d5ff18.setContent%28html_a67d6daefcdb4db29cd11c51c4758a2c%29%3B%0A%20%20%20%20%20%20%20%20%0A%0A%20%20%20%20%20%20%20%20marker_7dd37a060f4c4e099b34f7a4a378cd18.bindPopup%28popup_a11e28dc15134864a420307dc4d5ff18%29%0A%20%20%20%20%20%20%20%20%3B%0A%0A%20%20%20%20%20%20%20%20%0A%20%20%20%20%0A%20%20%20%20%0A%20%20%20%20%20%20%20%20%20%20%20%20var%20marker_d1f87ad624fe4e25816cf9231d3084a5%20%3D%20L.marker%28%0A%20%20%20%20%20%20%20%20%20%20%20%20%20%20%20%20%5B60.36902565%2C%205.350142505645347%5D%2C%0A%20%20%20%20%20%20%20%20%20%20%20%20%20%20%20%20%7B%7D%0A%20%20%20%20%20%20%20%20%20%20%20%20%29.addTo%28map_939d90e4d8d241eabdc0431bfeed8cce%29%3B%0A%20%20%20%20%20%20%20%20%0A%20%20%20%20%0A%20%20%20%20%20%20%20%20var%20popup_1e031bf2f9fd4aa8adb64b06eb7e1852%20%3D%20L.popup%28%7B%22maxWidth%22%3A%20%22100%25%22%7D%29%3B%0A%0A%20%20%20%20%20%20%20%20%0A%20%20%20%20%20%20%20%20%20%20%20%20var%20html_29bf8a1a7d234c5eb0d7b36591d0849c%20%3D%20%24%28%60%3Cdiv%20id%3D%22html_29bf8a1a7d234c5eb0d7b36591d0849c%22%20style%3D%22width%3A%20100.0%25%3B%20height%3A%20100.0%25%3B%22%3EUniversity%20of%20Bergen%3C/div%3E%60%29%5B0%5D%3B%0A%20%20%20%20%20%20%20%20%20%20%20%20popup_1e031bf2f9fd4aa8adb64b06eb7e1852.setContent%28html_29bf8a1a7d234c5eb0d7b36591d0849c%29%3B%0A%20%20%20%20%20%20%20%20%0A%0A%20%20%20%20%20%20%20%20marker_d1f87ad624fe4e25816cf9231d3084a5.bindPopup%28popup_1e031bf2f9fd4aa8adb64b06eb7e1852%29%0A%20%20%20%20%20%20%20%20%3B%0A%0A%20%20%20%20%20%20%20%20%0A%20%20%20%20%0A%20%20%20%20%0A%20%20%20%20%20%20%20%20%20%20%20%20var%20marker_d0a8805cace24765ae3ada700e26f89c%20%3D%20L.marker%28%0A%20%20%20%20%20%20%20%20%20%20%20%20%20%20%20%20%5B55.7055406%2C%2037.5360595%5D%2C%0A%20%20%20%20%20%20%20%20%20%20%20%20%20%20%20%20%7B%7D%0A%20%20%20%20%20%20%20%20%20%20%20%20%29.addTo%28map_939d90e4d8d241eabdc0431bfeed8cce%29%3B%0A%20%20%20%20%20%20%20%20%0A%20%20%20%20%0A%20%20%20%20%20%20%20%20var%20popup_c21cac79ed434501b91fe88ef30313a9%20%3D%20L.popup%28%7B%22maxWidth%22%3A%20%22100%25%22%7D%29%3B%0A%0A%20%20%20%20%20%20%20%20%0A%20%20%20%20%20%20%20%20%20%20%20%20var%20html_afc23b42bd664f7a9a5aa5d96a8d0dcf%20%3D%20%24%28%60%3Cdiv%20id%3D%22html_afc23b42bd664f7a9a5aa5d96a8d0dcf%22%20style%3D%22width%3A%20100.0%25%3B%20height%3A%20100.0%25%3B%22%3ELomonosov%20Moscow%20State%20University%3C/div%3E%60%29%5B0%5D%3B%0A%20%20%20%20%20%20%20%20%20%20%20%20popup_c21cac79ed434501b91fe88ef30313a9.setContent%28html_afc23b42bd664f7a9a5aa5d96a8d0dcf%29%3B%0A%20%20%20%20%20%20%20%20%0A%0A%20%20%20%20%20%20%20%20marker_d0a8805cace24765ae3ada700e26f89c.bindPopup%28popup_c21cac79ed434501b91fe88ef30313a9%29%0A%20%20%20%20%20%20%20%20%3B%0A%0A%20%20%20%20%20%20%20%20%0A%20%20%20%20%0A%20%20%20%20%0A%20%20%20%20%20%20%20%20%20%20%20%20var%20marker_9b12f61e728b4ffca87a2b01231390f6%20%3D%20L.marker%28%0A%20%20%20%20%20%20%20%20%20%20%20%20%20%20%20%20%5B51.1843856%2C%204.41993868786375%5D%2C%0A%20%20%20%20%20%20%20%20%20%20%20%20%20%20%20%20%7B%7D%0A%20%20%20%20%20%20%20%20%20%20%20%20%29.addTo%28map_939d90e4d8d241eabdc0431bfeed8cce%29%3B%0A%20%20%20%20%20%20%20%20%0A%20%20%20%20%0A%20%20%20%20%20%20%20%20var%20popup_43fec5964b5048c7aa6ec6b157ff69d3%20%3D%20L.popup%28%7B%22maxWidth%22%3A%20%22100%25%22%7D%29%3B%0A%0A%20%20%20%20%20%20%20%20%0A%20%20%20%20%20%20%20%20%20%20%20%20var%20html_7e96fa539d8c4a8698d10b74d34294e4%20%3D%20%24%28%60%3Cdiv%20id%3D%22html_7e96fa539d8c4a8698d10b74d34294e4%22%20style%3D%22width%3A%20100.0%25%3B%20height%3A%20100.0%25%3B%22%3EUniversity%20of%20Antwerp%3C/div%3E%60%29%5B0%5D%3B%0A%20%20%20%20%20%20%20%20%20%20%20%20popup_43fec5964b5048c7aa6ec6b157ff69d3.setContent%28html_7e96fa539d8c4a8698d10b74d34294e4%29%3B%0A%20%20%20%20%20%20%20%20%0A%0A%20%20%20%20%20%20%20%20marker_9b12f61e728b4ffca87a2b01231390f6.bindPopup%28popup_43fec5964b5048c7aa6ec6b157ff69d3%29%0A%20%20%20%20%20%20%20%20%3B%0A%0A%20%20%20%20%20%20%20%20%0A%20%20%20%20%0A%3C/script%3E onload=\"this.contentDocument.open();this.contentDocument.write(    decodeURIComponent(this.getAttribute('data-html')));this.contentDocument.close();\" allowfullscreen webkitallowfullscreen mozallowfullscreen></iframe></div></div>"
      ],
      "text/plain": [
       "<folium.folium.Map at 0x7f4d2ef6ee90>"
      ]
     },
     "execution_count": 7,
     "metadata": {},
     "output_type": "execute_result"
    }
   ],
   "source": [
    "# Create a map\n",
    "m = folium.Map(location=[54, 15], tiles='openstreetmap', zoom_start=2)\n",
    "\n",
    "# Add points to the map\n",
    "for idx, row in universities.iterrows():\n",
    "    Marker([row['Latitude'], row['Longitude']], popup=row['Name']).add_to(m)\n",
    "\n",
    "# Display the map\n",
    "m"
   ]
  },
  {
   "cell_type": "markdown",
   "id": "e3bd627c",
   "metadata": {
    "papermill": {
     "duration": 0.015924,
     "end_time": "2021-11-09T00:09:24.892360",
     "exception": false,
     "start_time": "2021-11-09T00:09:24.876436",
     "status": "completed"
    },
    "tags": []
   },
   "source": [
    "# Table joins\n",
    "\n",
    "Now, we'll switch topics and think about how to combine data from different sources.  \n",
    "\n",
    "### Attribute join\n",
    "\n",
    "[You already know](https://www.kaggle.com/residentmario/renaming-and-combining) how to use `pd.DataFrame.join()` to combine information from multiple DataFrames with a shared index.  We refer to this way of joining data (by simpling matching values in the index) as an **attribute join**.\n",
    "\n",
    "When performing an attribute join with a GeoDataFrame, it's best to use the `gpd.GeoDataFrame.merge()`.  To illustrate this, we'll work with a GeoDataFrame `europe_boundaries` containing the boundaries for every country in Europe.  The first five rows of this GeoDataFrame are printed below."
   ]
  },
  {
   "cell_type": "code",
   "execution_count": 8,
   "id": "d01f1dc1",
   "metadata": {
    "_kg_hide-input": true,
    "execution": {
     "iopub.execute_input": "2021-11-09T00:09:24.989657Z",
     "iopub.status.busy": "2021-11-09T00:09:24.988833Z",
     "iopub.status.idle": "2021-11-09T00:09:25.038231Z",
     "shell.execute_reply": "2021-11-09T00:09:25.037605Z"
    },
    "papermill": {
     "duration": 0.129868,
     "end_time": "2021-11-09T00:09:25.038383",
     "exception": false,
     "start_time": "2021-11-09T00:09:24.908515",
     "status": "completed"
    },
    "tags": []
   },
   "outputs": [],
   "source": [
    "\n",
    "world = gpd.read_file(gpd.datasets.get_path('naturalearth_lowres'))\n",
    "europe = world.loc[world.continent == 'Europe'].reset_index(drop=True)\n",
    "\n",
    "europe_stats = europe[[\"name\", \"pop_est\", \"gdp_md_est\"]]\n",
    "europe_boundaries = europe[[\"name\", \"geometry\"]]"
   ]
  },
  {
   "cell_type": "code",
   "execution_count": 9,
   "id": "cc8f53f6",
   "metadata": {
    "execution": {
     "iopub.execute_input": "2021-11-09T00:09:25.080984Z",
     "iopub.status.busy": "2021-11-09T00:09:25.080318Z",
     "iopub.status.idle": "2021-11-09T00:09:25.093798Z",
     "shell.execute_reply": "2021-11-09T00:09:25.093287Z"
    },
    "papermill": {
     "duration": 0.03831,
     "end_time": "2021-11-09T00:09:25.093940",
     "exception": false,
     "start_time": "2021-11-09T00:09:25.055630",
     "status": "completed"
    },
    "tags": []
   },
   "outputs": [
    {
     "data": {
      "text/html": [
       "<div>\n",
       "<style scoped>\n",
       "    .dataframe tbody tr th:only-of-type {\n",
       "        vertical-align: middle;\n",
       "    }\n",
       "\n",
       "    .dataframe tbody tr th {\n",
       "        vertical-align: top;\n",
       "    }\n",
       "\n",
       "    .dataframe thead th {\n",
       "        text-align: right;\n",
       "    }\n",
       "</style>\n",
       "<table border=\"1\" class=\"dataframe\">\n",
       "  <thead>\n",
       "    <tr style=\"text-align: right;\">\n",
       "      <th></th>\n",
       "      <th>name</th>\n",
       "      <th>geometry</th>\n",
       "    </tr>\n",
       "  </thead>\n",
       "  <tbody>\n",
       "    <tr>\n",
       "      <th>0</th>\n",
       "      <td>Russia</td>\n",
       "      <td>MULTIPOLYGON (((178.72530 71.09880, 180.00000 ...</td>\n",
       "    </tr>\n",
       "    <tr>\n",
       "      <th>1</th>\n",
       "      <td>Norway</td>\n",
       "      <td>MULTIPOLYGON (((15.14282 79.67431, 15.52255 80...</td>\n",
       "    </tr>\n",
       "    <tr>\n",
       "      <th>2</th>\n",
       "      <td>France</td>\n",
       "      <td>MULTIPOLYGON (((-51.65780 4.15623, -52.24934 3...</td>\n",
       "    </tr>\n",
       "    <tr>\n",
       "      <th>3</th>\n",
       "      <td>Sweden</td>\n",
       "      <td>POLYGON ((11.02737 58.85615, 11.46827 59.43239...</td>\n",
       "    </tr>\n",
       "    <tr>\n",
       "      <th>4</th>\n",
       "      <td>Belarus</td>\n",
       "      <td>POLYGON ((28.17671 56.16913, 29.22951 55.91834...</td>\n",
       "    </tr>\n",
       "  </tbody>\n",
       "</table>\n",
       "</div>"
      ],
      "text/plain": [
       "      name                                           geometry\n",
       "0   Russia  MULTIPOLYGON (((178.72530 71.09880, 180.00000 ...\n",
       "1   Norway  MULTIPOLYGON (((15.14282 79.67431, 15.52255 80...\n",
       "2   France  MULTIPOLYGON (((-51.65780 4.15623, -52.24934 3...\n",
       "3   Sweden  POLYGON ((11.02737 58.85615, 11.46827 59.43239...\n",
       "4  Belarus  POLYGON ((28.17671 56.16913, 29.22951 55.91834..."
      ]
     },
     "execution_count": 9,
     "metadata": {},
     "output_type": "execute_result"
    }
   ],
   "source": [
    "europe_boundaries.head()"
   ]
  },
  {
   "cell_type": "markdown",
   "id": "b32e72ca",
   "metadata": {
    "papermill": {
     "duration": 0.016595,
     "end_time": "2021-11-09T00:09:25.127259",
     "exception": false,
     "start_time": "2021-11-09T00:09:25.110664",
     "status": "completed"
    },
    "tags": []
   },
   "source": [
    "We'll join it with a DataFrame `europe_stats` containing the estimated population and gross domestic product (GDP) for each country."
   ]
  },
  {
   "cell_type": "code",
   "execution_count": 10,
   "id": "dee0ed0b",
   "metadata": {
    "execution": {
     "iopub.execute_input": "2021-11-09T00:09:25.171328Z",
     "iopub.status.busy": "2021-11-09T00:09:25.170677Z",
     "iopub.status.idle": "2021-11-09T00:09:25.174983Z",
     "shell.execute_reply": "2021-11-09T00:09:25.174383Z"
    },
    "papermill": {
     "duration": 0.031314,
     "end_time": "2021-11-09T00:09:25.175150",
     "exception": false,
     "start_time": "2021-11-09T00:09:25.143836",
     "status": "completed"
    },
    "tags": []
   },
   "outputs": [
    {
     "data": {
      "text/html": [
       "<div>\n",
       "<style scoped>\n",
       "    .dataframe tbody tr th:only-of-type {\n",
       "        vertical-align: middle;\n",
       "    }\n",
       "\n",
       "    .dataframe tbody tr th {\n",
       "        vertical-align: top;\n",
       "    }\n",
       "\n",
       "    .dataframe thead th {\n",
       "        text-align: right;\n",
       "    }\n",
       "</style>\n",
       "<table border=\"1\" class=\"dataframe\">\n",
       "  <thead>\n",
       "    <tr style=\"text-align: right;\">\n",
       "      <th></th>\n",
       "      <th>name</th>\n",
       "      <th>pop_est</th>\n",
       "      <th>gdp_md_est</th>\n",
       "    </tr>\n",
       "  </thead>\n",
       "  <tbody>\n",
       "    <tr>\n",
       "      <th>0</th>\n",
       "      <td>Russia</td>\n",
       "      <td>142257519</td>\n",
       "      <td>3745000.0</td>\n",
       "    </tr>\n",
       "    <tr>\n",
       "      <th>1</th>\n",
       "      <td>Norway</td>\n",
       "      <td>5320045</td>\n",
       "      <td>364700.0</td>\n",
       "    </tr>\n",
       "    <tr>\n",
       "      <th>2</th>\n",
       "      <td>France</td>\n",
       "      <td>67106161</td>\n",
       "      <td>2699000.0</td>\n",
       "    </tr>\n",
       "    <tr>\n",
       "      <th>3</th>\n",
       "      <td>Sweden</td>\n",
       "      <td>9960487</td>\n",
       "      <td>498100.0</td>\n",
       "    </tr>\n",
       "    <tr>\n",
       "      <th>4</th>\n",
       "      <td>Belarus</td>\n",
       "      <td>9549747</td>\n",
       "      <td>165400.0</td>\n",
       "    </tr>\n",
       "  </tbody>\n",
       "</table>\n",
       "</div>"
      ],
      "text/plain": [
       "      name    pop_est  gdp_md_est\n",
       "0   Russia  142257519   3745000.0\n",
       "1   Norway    5320045    364700.0\n",
       "2   France   67106161   2699000.0\n",
       "3   Sweden    9960487    498100.0\n",
       "4  Belarus    9549747    165400.0"
      ]
     },
     "execution_count": 10,
     "metadata": {},
     "output_type": "execute_result"
    }
   ],
   "source": [
    "europe_stats.head()"
   ]
  },
  {
   "cell_type": "markdown",
   "id": "ebc384c2",
   "metadata": {
    "papermill": {
     "duration": 0.016869,
     "end_time": "2021-11-09T00:09:25.209343",
     "exception": false,
     "start_time": "2021-11-09T00:09:25.192474",
     "status": "completed"
    },
    "tags": []
   },
   "source": [
    "We do the attribute join in the code cell below.  The `on` argument is set to the column name that is used to match rows in `europe_boundaries` to rows in `europe_stats`."
   ]
  },
  {
   "cell_type": "code",
   "execution_count": 11,
   "id": "f778ee4f",
   "metadata": {
    "execution": {
     "iopub.execute_input": "2021-11-09T00:09:25.247887Z",
     "iopub.status.busy": "2021-11-09T00:09:25.247280Z",
     "iopub.status.idle": "2021-11-09T00:09:25.275930Z",
     "shell.execute_reply": "2021-11-09T00:09:25.275416Z"
    },
    "papermill": {
     "duration": 0.049317,
     "end_time": "2021-11-09T00:09:25.276069",
     "exception": false,
     "start_time": "2021-11-09T00:09:25.226752",
     "status": "completed"
    },
    "tags": []
   },
   "outputs": [
    {
     "data": {
      "text/html": [
       "<div>\n",
       "<style scoped>\n",
       "    .dataframe tbody tr th:only-of-type {\n",
       "        vertical-align: middle;\n",
       "    }\n",
       "\n",
       "    .dataframe tbody tr th {\n",
       "        vertical-align: top;\n",
       "    }\n",
       "\n",
       "    .dataframe thead th {\n",
       "        text-align: right;\n",
       "    }\n",
       "</style>\n",
       "<table border=\"1\" class=\"dataframe\">\n",
       "  <thead>\n",
       "    <tr style=\"text-align: right;\">\n",
       "      <th></th>\n",
       "      <th>name</th>\n",
       "      <th>geometry</th>\n",
       "      <th>pop_est</th>\n",
       "      <th>gdp_md_est</th>\n",
       "    </tr>\n",
       "  </thead>\n",
       "  <tbody>\n",
       "    <tr>\n",
       "      <th>0</th>\n",
       "      <td>Russia</td>\n",
       "      <td>MULTIPOLYGON (((178.72530 71.09880, 180.00000 ...</td>\n",
       "      <td>142257519</td>\n",
       "      <td>3745000.0</td>\n",
       "    </tr>\n",
       "    <tr>\n",
       "      <th>1</th>\n",
       "      <td>Norway</td>\n",
       "      <td>MULTIPOLYGON (((15.14282 79.67431, 15.52255 80...</td>\n",
       "      <td>5320045</td>\n",
       "      <td>364700.0</td>\n",
       "    </tr>\n",
       "    <tr>\n",
       "      <th>2</th>\n",
       "      <td>France</td>\n",
       "      <td>MULTIPOLYGON (((-51.65780 4.15623, -52.24934 3...</td>\n",
       "      <td>67106161</td>\n",
       "      <td>2699000.0</td>\n",
       "    </tr>\n",
       "    <tr>\n",
       "      <th>3</th>\n",
       "      <td>Sweden</td>\n",
       "      <td>POLYGON ((11.02737 58.85615, 11.46827 59.43239...</td>\n",
       "      <td>9960487</td>\n",
       "      <td>498100.0</td>\n",
       "    </tr>\n",
       "    <tr>\n",
       "      <th>4</th>\n",
       "      <td>Belarus</td>\n",
       "      <td>POLYGON ((28.17671 56.16913, 29.22951 55.91834...</td>\n",
       "      <td>9549747</td>\n",
       "      <td>165400.0</td>\n",
       "    </tr>\n",
       "  </tbody>\n",
       "</table>\n",
       "</div>"
      ],
      "text/plain": [
       "      name                                           geometry    pop_est  \\\n",
       "0   Russia  MULTIPOLYGON (((178.72530 71.09880, 180.00000 ...  142257519   \n",
       "1   Norway  MULTIPOLYGON (((15.14282 79.67431, 15.52255 80...    5320045   \n",
       "2   France  MULTIPOLYGON (((-51.65780 4.15623, -52.24934 3...   67106161   \n",
       "3   Sweden  POLYGON ((11.02737 58.85615, 11.46827 59.43239...    9960487   \n",
       "4  Belarus  POLYGON ((28.17671 56.16913, 29.22951 55.91834...    9549747   \n",
       "\n",
       "   gdp_md_est  \n",
       "0   3745000.0  \n",
       "1    364700.0  \n",
       "2   2699000.0  \n",
       "3    498100.0  \n",
       "4    165400.0  "
      ]
     },
     "execution_count": 11,
     "metadata": {},
     "output_type": "execute_result"
    }
   ],
   "source": [
    "# Use an attribute join to merge data about countries in Europe\n",
    "europe = europe_boundaries.merge(europe_stats, on=\"name\")\n",
    "europe.head()"
   ]
  },
  {
   "cell_type": "markdown",
   "id": "9240d74f",
   "metadata": {
    "papermill": {
     "duration": 0.017332,
     "end_time": "2021-11-09T00:09:25.311288",
     "exception": false,
     "start_time": "2021-11-09T00:09:25.293956",
     "status": "completed"
    },
    "tags": []
   },
   "source": [
    "### Spatial join\n",
    "\n",
    "Another type of join is a **spatial join**.  With a spatial join, we combine GeoDataFrames based on the spatial relationship between the objects in the \"geometry\" columns.  For instance, we already have a GeoDataFrame `universities` containing geocoded addresses of European universities.  \n",
    "\n",
    "Then we can use a spatial join to match each university to its corresponding country.  We do this with `gpd.sjoin()`."
   ]
  },
  {
   "cell_type": "code",
   "execution_count": 12,
   "id": "827c4888",
   "metadata": {
    "execution": {
     "iopub.execute_input": "2021-11-09T00:09:25.392857Z",
     "iopub.status.busy": "2021-11-09T00:09:25.383160Z",
     "iopub.status.idle": "2021-11-09T00:09:25.417573Z",
     "shell.execute_reply": "2021-11-09T00:09:25.417011Z"
    },
    "papermill": {
     "duration": 0.088719,
     "end_time": "2021-11-09T00:09:25.417716",
     "exception": false,
     "start_time": "2021-11-09T00:09:25.328997",
     "status": "completed"
    },
    "tags": []
   },
   "outputs": [
    {
     "name": "stdout",
     "output_type": "stream",
     "text": [
      "We located 95 universities.\n",
      "Only 89 of the universities were located in Europe (in 15 different countries).\n"
     ]
    },
    {
     "name": "stderr",
     "output_type": "stream",
     "text": [
      "/opt/conda/lib/python3.7/site-packages/ipykernel_launcher.py:2: UserWarning: CRS mismatch between the CRS of left geometries and the CRS of right geometries.\n",
      "Use `to_crs()` to reproject one of the input geometries to match the CRS of the other.\n",
      "\n",
      "Left CRS: +init=epsg:4326 +type=crs\n",
      "Right CRS: EPSG:4326\n",
      "\n",
      "  \n"
     ]
    },
    {
     "data": {
      "text/html": [
       "<div>\n",
       "<style scoped>\n",
       "    .dataframe tbody tr th:only-of-type {\n",
       "        vertical-align: middle;\n",
       "    }\n",
       "\n",
       "    .dataframe tbody tr th {\n",
       "        vertical-align: top;\n",
       "    }\n",
       "\n",
       "    .dataframe thead th {\n",
       "        text-align: right;\n",
       "    }\n",
       "</style>\n",
       "<table border=\"1\" class=\"dataframe\">\n",
       "  <thead>\n",
       "    <tr style=\"text-align: right;\">\n",
       "      <th></th>\n",
       "      <th>Name</th>\n",
       "      <th>Latitude</th>\n",
       "      <th>Longitude</th>\n",
       "      <th>geometry</th>\n",
       "      <th>index_right</th>\n",
       "      <th>name</th>\n",
       "      <th>pop_est</th>\n",
       "      <th>gdp_md_est</th>\n",
       "    </tr>\n",
       "  </thead>\n",
       "  <tbody>\n",
       "    <tr>\n",
       "      <th>0</th>\n",
       "      <td>University of Oxford</td>\n",
       "      <td>51.758708</td>\n",
       "      <td>-1.255668</td>\n",
       "      <td>POINT (-1.25567 51.75871)</td>\n",
       "      <td>28</td>\n",
       "      <td>United Kingdom</td>\n",
       "      <td>64769452</td>\n",
       "      <td>2788000.0</td>\n",
       "    </tr>\n",
       "    <tr>\n",
       "      <th>1</th>\n",
       "      <td>University of Cambridge</td>\n",
       "      <td>52.199852</td>\n",
       "      <td>0.119739</td>\n",
       "      <td>POINT (0.11974 52.19985)</td>\n",
       "      <td>28</td>\n",
       "      <td>United Kingdom</td>\n",
       "      <td>64769452</td>\n",
       "      <td>2788000.0</td>\n",
       "    </tr>\n",
       "    <tr>\n",
       "      <th>2</th>\n",
       "      <td>Imperial College London</td>\n",
       "      <td>51.498959</td>\n",
       "      <td>-0.175641</td>\n",
       "      <td>POINT (-0.17564 51.49896)</td>\n",
       "      <td>28</td>\n",
       "      <td>United Kingdom</td>\n",
       "      <td>64769452</td>\n",
       "      <td>2788000.0</td>\n",
       "    </tr>\n",
       "    <tr>\n",
       "      <th>4</th>\n",
       "      <td>UCL</td>\n",
       "      <td>51.523581</td>\n",
       "      <td>-0.132977</td>\n",
       "      <td>POINT (-0.13298 51.52358)</td>\n",
       "      <td>28</td>\n",
       "      <td>United Kingdom</td>\n",
       "      <td>64769452</td>\n",
       "      <td>2788000.0</td>\n",
       "    </tr>\n",
       "    <tr>\n",
       "      <th>5</th>\n",
       "      <td>London School of Economics and Political Science</td>\n",
       "      <td>51.514591</td>\n",
       "      <td>-0.116431</td>\n",
       "      <td>POINT (-0.11643 51.51459)</td>\n",
       "      <td>28</td>\n",
       "      <td>United Kingdom</td>\n",
       "      <td>64769452</td>\n",
       "      <td>2788000.0</td>\n",
       "    </tr>\n",
       "  </tbody>\n",
       "</table>\n",
       "</div>"
      ],
      "text/plain": [
       "                                               Name   Latitude  Longitude  \\\n",
       "0                              University of Oxford  51.758708  -1.255668   \n",
       "1                           University of Cambridge  52.199852   0.119739   \n",
       "2                           Imperial College London  51.498959  -0.175641   \n",
       "4                                               UCL  51.523581  -0.132977   \n",
       "5  London School of Economics and Political Science  51.514591  -0.116431   \n",
       "\n",
       "                    geometry  index_right            name   pop_est  \\\n",
       "0  POINT (-1.25567 51.75871)           28  United Kingdom  64769452   \n",
       "1   POINT (0.11974 52.19985)           28  United Kingdom  64769452   \n",
       "2  POINT (-0.17564 51.49896)           28  United Kingdom  64769452   \n",
       "4  POINT (-0.13298 51.52358)           28  United Kingdom  64769452   \n",
       "5  POINT (-0.11643 51.51459)           28  United Kingdom  64769452   \n",
       "\n",
       "   gdp_md_est  \n",
       "0   2788000.0  \n",
       "1   2788000.0  \n",
       "2   2788000.0  \n",
       "4   2788000.0  \n",
       "5   2788000.0  "
      ]
     },
     "execution_count": 12,
     "metadata": {},
     "output_type": "execute_result"
    }
   ],
   "source": [
    "# Use spatial join to match universities to countries in Europe\n",
    "european_universities = gpd.sjoin(universities, europe)\n",
    "\n",
    "# Investigate the result\n",
    "print(\"We located {} universities.\".format(len(universities)))\n",
    "print(\"Only {} of the universities were located in Europe (in {} different countries).\".format(\n",
    "    len(european_universities), len(european_universities.name.unique())))\n",
    "\n",
    "european_universities.head()"
   ]
  },
  {
   "cell_type": "markdown",
   "id": "e41b2d3e",
   "metadata": {
    "papermill": {
     "duration": 0.019069,
     "end_time": "2021-11-09T00:09:25.455651",
     "exception": false,
     "start_time": "2021-11-09T00:09:25.436582",
     "status": "completed"
    },
    "tags": []
   },
   "source": [
    "The spatial join above looks at the \"geometry\" columns in both GeoDataFrames.  If a Point object from the `universities` GeoDataFrame intersects a Polygon object from the `europe` DataFrame, the corresponding rows are combined and added as a single row of the `european_universities` DataFrame.  Otherwise, countries without a matching university (and universities without a matching country) are omitted from the results.\n",
    "\n",
    "The `gpd.sjoin()` method is customizable for different types of joins, through the `how` and `op` arguments.  For instance, you can do the equivalent of a SQL left (or right) join by setting `how='left'` (or `how='right'`).  We won't go into the details in this micro-course, but you can learn more in [the documentation](http://geopandas.org/reference/geopandas.sjoin.html).\n",
    "\n",
    "# Your turn\n",
    "\n",
    "**[Use geocoding and table joins](https://www.kaggle.com/kernels/fork/5832170)** to identify suitable locations for the next Starbucks Reserve Roastery."
   ]
  },
  {
   "cell_type": "markdown",
   "id": "f709532c",
   "metadata": {
    "papermill": {
     "duration": 0.019213,
     "end_time": "2021-11-09T00:09:25.494167",
     "exception": false,
     "start_time": "2021-11-09T00:09:25.474954",
     "status": "completed"
    },
    "tags": []
   },
   "source": [
    "---\n",
    "\n",
    "\n",
    "\n",
    "\n",
    "*Have questions or comments? Visit the [course discussion forum](https://www.kaggle.com/learn/geospatial-analysis/discussion) to chat with other learners.*"
   ]
  }
 ],
 "metadata": {
  "kernelspec": {
   "display_name": "Python 3",
   "language": "python",
   "name": "python3"
  },
  "language_info": {
   "codemirror_mode": {
    "name": "ipython",
    "version": 3
   },
   "file_extension": ".py",
   "mimetype": "text/x-python",
   "name": "python",
   "nbconvert_exporter": "python",
   "pygments_lexer": "ipython3",
   "version": "3.7.10"
  },
  "papermill": {
   "default_parameters": {},
   "duration": 62.851659,
   "end_time": "2021-11-09T00:09:26.225147",
   "environment_variables": {},
   "exception": null,
   "input_path": "__notebook__.ipynb",
   "output_path": "__notebook__.ipynb",
   "parameters": {},
   "start_time": "2021-11-09T00:08:23.373488",
   "version": "2.3.3"
  }
 },
 "nbformat": 4,
 "nbformat_minor": 5
}
