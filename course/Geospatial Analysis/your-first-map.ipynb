{
 "cells": [
  {
   "cell_type": "markdown",
   "id": "bbaf750f",
   "metadata": {
    "papermill": {
     "duration": 0.015512,
     "end_time": "2021-11-09T00:09:17.617675",
     "exception": false,
     "start_time": "2021-11-09T00:09:17.602163",
     "status": "completed"
    },
    "tags": []
   },
   "source": [
    "# Introduction\n",
    "\n",
    "In this micro-course, you'll learn about different methods to wrangle and visualize **geospatial data**, or data with a geographic location.\n",
    "\n",
    "<center>\n",
    "<img src=\"https://i.imgur.com/v6ZUGgI.png\"><br/>\n",
    "</center>\n",
    "\n",
    "Along the way, you'll offer solutions to several real-world problems like:\n",
    "- Where should a global non-profit expand its reach in remote areas of the Philippines?\n",
    "- How do purple martins, a threatened bird species, travel between North and South America?  Are the birds travelling to conservation areas?\n",
    "- Which areas of Japan could potentially benefit from extra earthquake reinforcement?\n",
    "- Which Starbucks stores in California are strong candidates for the next [Starbucks Reserve Roastery](https://www.forbes.com/sites/garystern/2019/01/22/starbucks-reserve-roastery-its-spacious-and-trendy-but-why-is-starbucks-slowing-down-expansion/#6cb80d4a1bc6) location?\n",
    "- Does New York City have sufficient hospitals to respond to motor vehicle collisions?  Which areas of the city have gaps in coverage?\n",
    "\n",
    "You'll also visualize crime in the city of Boston, examine health facilities in Ghana, explore top universities in Europe, and track releases of toxic chemicals in the United States.\n",
    "\n",
    "In this first tutorial, we'll quickly cover the pre-requisites that you'll need to complete this micro-course.  And, if you'd like to review more deeply, we recommend the **[Pandas micro-course](https://www.kaggle.com/learn/pandas)**.  \n",
    "\n",
    "We'll also get started with visualizing our first geospatial dataset!\n",
    "\n",
    "# Reading data\n",
    "\n",
    "The first step is to read in some geospatial data!  To do this, we'll use the [GeoPandas](http://geopandas.org/) library."
   ]
  },
  {
   "cell_type": "code",
   "execution_count": 1,
   "id": "835888ee",
   "metadata": {
    "execution": {
     "iopub.execute_input": "2021-11-09T00:09:17.655385Z",
     "iopub.status.busy": "2021-11-09T00:09:17.654689Z",
     "iopub.status.idle": "2021-11-09T00:09:18.252403Z",
     "shell.execute_reply": "2021-11-09T00:09:18.251580Z"
    },
    "papermill": {
     "duration": 0.621491,
     "end_time": "2021-11-09T00:09:18.252586",
     "exception": false,
     "start_time": "2021-11-09T00:09:17.631095",
     "status": "completed"
    },
    "tags": []
   },
   "outputs": [],
   "source": [
    "import geopandas as gpd"
   ]
  },
  {
   "cell_type": "markdown",
   "id": "ae1f4562",
   "metadata": {
    "papermill": {
     "duration": 0.015435,
     "end_time": "2021-11-09T00:09:18.282131",
     "exception": false,
     "start_time": "2021-11-09T00:09:18.266696",
     "status": "completed"
    },
    "tags": []
   },
   "source": [
    "There are many, many different geospatial file formats, such as [shapefile](https://en.wikipedia.org/wiki/Shapefile), [GeoJSON](https://en.wikipedia.org/wiki/GeoJSON), [KML](https://en.wikipedia.org/wiki/Keyhole_Markup_Language), and [GPKG](https://en.wikipedia.org/wiki/GeoPackage).  We won't discuss their differences in this micro-course, but it's important to mention that:\n",
    "- shapefile is the most common file type that you'll encounter, and \n",
    "- all of these file types can be quickly loaded with the `gpd.read_file()` function.\n",
    "\n",
    "The next code cell loads a shapefile containing information about forests, wilderness areas, and other lands under the care of the [Department of Environmental Conservation](https://www.dec.ny.gov/index.html) in the state of New York.  "
   ]
  },
  {
   "cell_type": "code",
   "execution_count": 2,
   "id": "a9b7743d",
   "metadata": {
    "execution": {
     "iopub.execute_input": "2021-11-09T00:09:18.312288Z",
     "iopub.status.busy": "2021-11-09T00:09:18.311634Z",
     "iopub.status.idle": "2021-11-09T00:09:19.001406Z",
     "shell.execute_reply": "2021-11-09T00:09:19.001888Z"
    },
    "papermill": {
     "duration": 0.706587,
     "end_time": "2021-11-09T00:09:19.002096",
     "exception": false,
     "start_time": "2021-11-09T00:09:18.295509",
     "status": "completed"
    },
    "tags": []
   },
   "outputs": [
    {
     "data": {
      "text/html": [
       "<div>\n",
       "<style scoped>\n",
       "    .dataframe tbody tr th:only-of-type {\n",
       "        vertical-align: middle;\n",
       "    }\n",
       "\n",
       "    .dataframe tbody tr th {\n",
       "        vertical-align: top;\n",
       "    }\n",
       "\n",
       "    .dataframe thead th {\n",
       "        text-align: right;\n",
       "    }\n",
       "</style>\n",
       "<table border=\"1\" class=\"dataframe\">\n",
       "  <thead>\n",
       "    <tr style=\"text-align: right;\">\n",
       "      <th></th>\n",
       "      <th>OBJECTID</th>\n",
       "      <th>CATEGORY</th>\n",
       "      <th>UNIT</th>\n",
       "      <th>FACILITY</th>\n",
       "      <th>CLASS</th>\n",
       "      <th>UMP</th>\n",
       "      <th>DESCRIPTIO</th>\n",
       "      <th>REGION</th>\n",
       "      <th>COUNTY</th>\n",
       "      <th>URL</th>\n",
       "      <th>SOURCE</th>\n",
       "      <th>UPDATE_</th>\n",
       "      <th>OFFICE</th>\n",
       "      <th>ACRES</th>\n",
       "      <th>LANDS_UID</th>\n",
       "      <th>GREENCERT</th>\n",
       "      <th>SHAPE_AREA</th>\n",
       "      <th>SHAPE_LEN</th>\n",
       "      <th>geometry</th>\n",
       "    </tr>\n",
       "  </thead>\n",
       "  <tbody>\n",
       "    <tr>\n",
       "      <th>0</th>\n",
       "      <td>1</td>\n",
       "      <td>FOR PRES DET PAR</td>\n",
       "      <td>CFP</td>\n",
       "      <td>HANCOCK FP DETACHED PARCEL</td>\n",
       "      <td>WILD FOREST</td>\n",
       "      <td>None</td>\n",
       "      <td>DELAWARE COUNTY DETACHED PARCEL</td>\n",
       "      <td>4</td>\n",
       "      <td>DELAWARE</td>\n",
       "      <td>http://www.dec.ny.gov/</td>\n",
       "      <td>DELAWARE RPP</td>\n",
       "      <td>5/12</td>\n",
       "      <td>STAMFORD</td>\n",
       "      <td>738.620192</td>\n",
       "      <td>103</td>\n",
       "      <td>N</td>\n",
       "      <td>2.990365e+06</td>\n",
       "      <td>7927.662385</td>\n",
       "      <td>POLYGON ((486093.245 4635308.586, 486787.235 4...</td>\n",
       "    </tr>\n",
       "    <tr>\n",
       "      <th>1</th>\n",
       "      <td>2</td>\n",
       "      <td>FOR PRES DET PAR</td>\n",
       "      <td>CFP</td>\n",
       "      <td>HANCOCK FP DETACHED PARCEL</td>\n",
       "      <td>WILD FOREST</td>\n",
       "      <td>None</td>\n",
       "      <td>DELAWARE COUNTY DETACHED PARCEL</td>\n",
       "      <td>4</td>\n",
       "      <td>DELAWARE</td>\n",
       "      <td>http://www.dec.ny.gov/</td>\n",
       "      <td>DELAWARE RPP</td>\n",
       "      <td>5/12</td>\n",
       "      <td>STAMFORD</td>\n",
       "      <td>282.553140</td>\n",
       "      <td>1218</td>\n",
       "      <td>N</td>\n",
       "      <td>1.143940e+06</td>\n",
       "      <td>4776.375600</td>\n",
       "      <td>POLYGON ((491931.514 4637416.256, 491305.424 4...</td>\n",
       "    </tr>\n",
       "    <tr>\n",
       "      <th>2</th>\n",
       "      <td>3</td>\n",
       "      <td>FOR PRES DET PAR</td>\n",
       "      <td>CFP</td>\n",
       "      <td>HANCOCK FP DETACHED PARCEL</td>\n",
       "      <td>WILD FOREST</td>\n",
       "      <td>None</td>\n",
       "      <td>DELAWARE COUNTY DETACHED PARCEL</td>\n",
       "      <td>4</td>\n",
       "      <td>DELAWARE</td>\n",
       "      <td>http://www.dec.ny.gov/</td>\n",
       "      <td>DELAWARE RPP</td>\n",
       "      <td>5/12</td>\n",
       "      <td>STAMFORD</td>\n",
       "      <td>234.291262</td>\n",
       "      <td>1780</td>\n",
       "      <td>N</td>\n",
       "      <td>9.485476e+05</td>\n",
       "      <td>5783.070364</td>\n",
       "      <td>POLYGON ((486000.287 4635834.453, 485007.550 4...</td>\n",
       "    </tr>\n",
       "    <tr>\n",
       "      <th>3</th>\n",
       "      <td>4</td>\n",
       "      <td>FOR PRES DET PAR</td>\n",
       "      <td>CFP</td>\n",
       "      <td>GREENE COUNTY FP DETACHED PARCEL</td>\n",
       "      <td>WILD FOREST</td>\n",
       "      <td>None</td>\n",
       "      <td>None</td>\n",
       "      <td>4</td>\n",
       "      <td>GREENE</td>\n",
       "      <td>http://www.dec.ny.gov/</td>\n",
       "      <td>GREENE RPP</td>\n",
       "      <td>5/12</td>\n",
       "      <td>STAMFORD</td>\n",
       "      <td>450.106464</td>\n",
       "      <td>2060</td>\n",
       "      <td>N</td>\n",
       "      <td>1.822293e+06</td>\n",
       "      <td>7021.644833</td>\n",
       "      <td>POLYGON ((541716.775 4675243.268, 541217.579 4...</td>\n",
       "    </tr>\n",
       "    <tr>\n",
       "      <th>4</th>\n",
       "      <td>6</td>\n",
       "      <td>FOREST PRESERVE</td>\n",
       "      <td>AFP</td>\n",
       "      <td>SARANAC LAKES WILD FOREST</td>\n",
       "      <td>WILD FOREST</td>\n",
       "      <td>SARANAC LAKES</td>\n",
       "      <td>None</td>\n",
       "      <td>5</td>\n",
       "      <td>ESSEX</td>\n",
       "      <td>http://www.dec.ny.gov/lands/22593.html</td>\n",
       "      <td>DECRP, ESSEX RPP</td>\n",
       "      <td>12/96</td>\n",
       "      <td>RAY BROOK</td>\n",
       "      <td>69.702387</td>\n",
       "      <td>1517</td>\n",
       "      <td>N</td>\n",
       "      <td>2.821959e+05</td>\n",
       "      <td>2663.909932</td>\n",
       "      <td>POLYGON ((583896.043 4909643.187, 583891.200 4...</td>\n",
       "    </tr>\n",
       "  </tbody>\n",
       "</table>\n",
       "</div>"
      ],
      "text/plain": [
       "   OBJECTID          CATEGORY UNIT                          FACILITY  \\\n",
       "0         1  FOR PRES DET PAR  CFP        HANCOCK FP DETACHED PARCEL   \n",
       "1         2  FOR PRES DET PAR  CFP        HANCOCK FP DETACHED PARCEL   \n",
       "2         3  FOR PRES DET PAR  CFP        HANCOCK FP DETACHED PARCEL   \n",
       "3         4  FOR PRES DET PAR  CFP  GREENE COUNTY FP DETACHED PARCEL   \n",
       "4         6   FOREST PRESERVE  AFP         SARANAC LAKES WILD FOREST   \n",
       "\n",
       "         CLASS            UMP                       DESCRIPTIO  REGION  \\\n",
       "0  WILD FOREST           None  DELAWARE COUNTY DETACHED PARCEL       4   \n",
       "1  WILD FOREST           None  DELAWARE COUNTY DETACHED PARCEL       4   \n",
       "2  WILD FOREST           None  DELAWARE COUNTY DETACHED PARCEL       4   \n",
       "3  WILD FOREST           None                             None       4   \n",
       "4  WILD FOREST  SARANAC LAKES                             None       5   \n",
       "\n",
       "     COUNTY                                     URL            SOURCE UPDATE_  \\\n",
       "0  DELAWARE                  http://www.dec.ny.gov/      DELAWARE RPP    5/12   \n",
       "1  DELAWARE                  http://www.dec.ny.gov/      DELAWARE RPP    5/12   \n",
       "2  DELAWARE                  http://www.dec.ny.gov/      DELAWARE RPP    5/12   \n",
       "3    GREENE                  http://www.dec.ny.gov/        GREENE RPP    5/12   \n",
       "4     ESSEX  http://www.dec.ny.gov/lands/22593.html  DECRP, ESSEX RPP   12/96   \n",
       "\n",
       "      OFFICE       ACRES  LANDS_UID GREENCERT    SHAPE_AREA    SHAPE_LEN  \\\n",
       "0   STAMFORD  738.620192        103         N  2.990365e+06  7927.662385   \n",
       "1   STAMFORD  282.553140       1218         N  1.143940e+06  4776.375600   \n",
       "2   STAMFORD  234.291262       1780         N  9.485476e+05  5783.070364   \n",
       "3   STAMFORD  450.106464       2060         N  1.822293e+06  7021.644833   \n",
       "4  RAY BROOK   69.702387       1517         N  2.821959e+05  2663.909932   \n",
       "\n",
       "                                            geometry  \n",
       "0  POLYGON ((486093.245 4635308.586, 486787.235 4...  \n",
       "1  POLYGON ((491931.514 4637416.256, 491305.424 4...  \n",
       "2  POLYGON ((486000.287 4635834.453, 485007.550 4...  \n",
       "3  POLYGON ((541716.775 4675243.268, 541217.579 4...  \n",
       "4  POLYGON ((583896.043 4909643.187, 583891.200 4...  "
      ]
     },
     "execution_count": 2,
     "metadata": {},
     "output_type": "execute_result"
    }
   ],
   "source": [
    "# Read in the data\n",
    "full_data = gpd.read_file(\"../input/geospatial-learn-course-data/DEC_lands/DEC_lands/DEC_lands.shp\")\n",
    "\n",
    "# View the first five rows of the data\n",
    "full_data.head()"
   ]
  },
  {
   "cell_type": "markdown",
   "id": "6a0185b6",
   "metadata": {
    "papermill": {
     "duration": 0.01498,
     "end_time": "2021-11-09T00:09:19.031763",
     "exception": false,
     "start_time": "2021-11-09T00:09:19.016783",
     "status": "completed"
    },
    "tags": []
   },
   "source": [
    "As you can see in the \"CLASS\" column, each of the first five rows corresponds to a different forest.  \n",
    "\n",
    "For the rest of this tutorial, consider a scenario where you'd like to use this data to plan a weekend camping trip.  Instead of relying on crowd-sourced reviews online, you decide to create your own map.  This way, you can tailor the trip to your specific interests. \n",
    "\n",
    "# Prerequisites\n",
    "\n",
    "To view the first five rows of the data, we used the `head()` method.  You may recall that this is also what we use to preview a Pandas DataFrame.  In fact, every command that you can use with a DataFrame will work with the data!  \n",
    "\n",
    "This is because the data was loaded into a (GeoPandas) **GeoDataFrame** object that has all of the capabilities of a (Pandas) DataFrame."
   ]
  },
  {
   "cell_type": "code",
   "execution_count": 3,
   "id": "cc9d6c89",
   "metadata": {
    "execution": {
     "iopub.execute_input": "2021-11-09T00:09:19.067458Z",
     "iopub.status.busy": "2021-11-09T00:09:19.066756Z",
     "iopub.status.idle": "2021-11-09T00:09:19.069300Z",
     "shell.execute_reply": "2021-11-09T00:09:19.069788Z"
    },
    "papermill": {
     "duration": 0.023021,
     "end_time": "2021-11-09T00:09:19.069949",
     "exception": false,
     "start_time": "2021-11-09T00:09:19.046928",
     "status": "completed"
    },
    "tags": []
   },
   "outputs": [
    {
     "data": {
      "text/plain": [
       "geopandas.geodataframe.GeoDataFrame"
      ]
     },
     "execution_count": 3,
     "metadata": {},
     "output_type": "execute_result"
    }
   ],
   "source": [
    "type(full_data)"
   ]
  },
  {
   "cell_type": "markdown",
   "id": "7ab10db0",
   "metadata": {
    "papermill": {
     "duration": 0.014383,
     "end_time": "2021-11-09T00:09:19.099208",
     "exception": false,
     "start_time": "2021-11-09T00:09:19.084825",
     "status": "completed"
    },
    "tags": []
   },
   "source": [
    "For instance, if we don't plan to use all of the columns, we can select a subset of them.  (_To review other methods for selecting data, check out [this tutorial](https://www.kaggle.com/residentmario/indexing-selecting-assigning/) from the Pandas micro-course_.)"
   ]
  },
  {
   "cell_type": "code",
   "execution_count": 4,
   "id": "801a3095",
   "metadata": {
    "execution": {
     "iopub.execute_input": "2021-11-09T00:09:19.131831Z",
     "iopub.status.busy": "2021-11-09T00:09:19.131169Z",
     "iopub.status.idle": "2021-11-09T00:09:19.141103Z",
     "shell.execute_reply": "2021-11-09T00:09:19.141671Z"
    },
    "papermill": {
     "duration": 0.028022,
     "end_time": "2021-11-09T00:09:19.141848",
     "exception": false,
     "start_time": "2021-11-09T00:09:19.113826",
     "status": "completed"
    },
    "tags": []
   },
   "outputs": [],
   "source": [
    "data = full_data.loc[:, [\"CLASS\", \"COUNTY\", \"geometry\"]].copy()"
   ]
  },
  {
   "cell_type": "markdown",
   "id": "8eeccfd0",
   "metadata": {
    "papermill": {
     "duration": 0.014458,
     "end_time": "2021-11-09T00:09:19.171443",
     "exception": false,
     "start_time": "2021-11-09T00:09:19.156985",
     "status": "completed"
    },
    "tags": []
   },
   "source": [
    "We use the `value_counts()` method to see a list of different land types, along with how many times they appear in the dataset. (_To review this (and related methods), check out [this tutorial](https://www.kaggle.com/residentmario/summary-functions-and-maps) from the Pandas micro-course._)"
   ]
  },
  {
   "cell_type": "code",
   "execution_count": 5,
   "id": "fb0a3121",
   "metadata": {
    "execution": {
     "iopub.execute_input": "2021-11-09T00:09:19.207375Z",
     "iopub.status.busy": "2021-11-09T00:09:19.206619Z",
     "iopub.status.idle": "2021-11-09T00:09:19.211827Z",
     "shell.execute_reply": "2021-11-09T00:09:19.212349Z"
    },
    "papermill": {
     "duration": 0.026297,
     "end_time": "2021-11-09T00:09:19.212523",
     "exception": false,
     "start_time": "2021-11-09T00:09:19.186226",
     "status": "completed"
    },
    "tags": []
   },
   "outputs": [
    {
     "data": {
      "text/plain": [
       "WILD FOREST                   965\n",
       "INTENSIVE USE                 108\n",
       "PRIMITIVE                      60\n",
       "WILDERNESS                     52\n",
       "ADMINISTRATIVE                 17\n",
       "UNCLASSIFIED                    7\n",
       "HISTORIC                        5\n",
       "PRIMITIVE BICYCLE CORRIDOR      4\n",
       "CANOE AREA                      1\n",
       "Name: CLASS, dtype: int64"
      ]
     },
     "execution_count": 5,
     "metadata": {},
     "output_type": "execute_result"
    }
   ],
   "source": [
    "# How many lands of each type are there?\n",
    "data.CLASS.value_counts()"
   ]
  },
  {
   "cell_type": "markdown",
   "id": "33ea04e2",
   "metadata": {
    "papermill": {
     "duration": 0.015349,
     "end_time": "2021-11-09T00:09:19.243351",
     "exception": false,
     "start_time": "2021-11-09T00:09:19.228002",
     "status": "completed"
    },
    "tags": []
   },
   "source": [
    "You can also use `loc` (and `iloc`) and `isin` to select subsets of the data.  (_To review this, check out [this tutorial](https://www.kaggle.com/residentmario/indexing-selecting-assigning/) from the Pandas micro-course._)"
   ]
  },
  {
   "cell_type": "code",
   "execution_count": 6,
   "id": "0822111b",
   "metadata": {
    "execution": {
     "iopub.execute_input": "2021-11-09T00:09:19.277773Z",
     "iopub.status.busy": "2021-11-09T00:09:19.276781Z",
     "iopub.status.idle": "2021-11-09T00:09:19.294594Z",
     "shell.execute_reply": "2021-11-09T00:09:19.295165Z"
    },
    "papermill": {
     "duration": 0.036647,
     "end_time": "2021-11-09T00:09:19.295345",
     "exception": false,
     "start_time": "2021-11-09T00:09:19.258698",
     "status": "completed"
    },
    "tags": []
   },
   "outputs": [
    {
     "data": {
      "text/html": [
       "<div>\n",
       "<style scoped>\n",
       "    .dataframe tbody tr th:only-of-type {\n",
       "        vertical-align: middle;\n",
       "    }\n",
       "\n",
       "    .dataframe tbody tr th {\n",
       "        vertical-align: top;\n",
       "    }\n",
       "\n",
       "    .dataframe thead th {\n",
       "        text-align: right;\n",
       "    }\n",
       "</style>\n",
       "<table border=\"1\" class=\"dataframe\">\n",
       "  <thead>\n",
       "    <tr style=\"text-align: right;\">\n",
       "      <th></th>\n",
       "      <th>CLASS</th>\n",
       "      <th>COUNTY</th>\n",
       "      <th>geometry</th>\n",
       "    </tr>\n",
       "  </thead>\n",
       "  <tbody>\n",
       "    <tr>\n",
       "      <th>0</th>\n",
       "      <td>WILD FOREST</td>\n",
       "      <td>DELAWARE</td>\n",
       "      <td>POLYGON ((486093.245 4635308.586, 486787.235 4...</td>\n",
       "    </tr>\n",
       "    <tr>\n",
       "      <th>1</th>\n",
       "      <td>WILD FOREST</td>\n",
       "      <td>DELAWARE</td>\n",
       "      <td>POLYGON ((491931.514 4637416.256, 491305.424 4...</td>\n",
       "    </tr>\n",
       "    <tr>\n",
       "      <th>2</th>\n",
       "      <td>WILD FOREST</td>\n",
       "      <td>DELAWARE</td>\n",
       "      <td>POLYGON ((486000.287 4635834.453, 485007.550 4...</td>\n",
       "    </tr>\n",
       "    <tr>\n",
       "      <th>3</th>\n",
       "      <td>WILD FOREST</td>\n",
       "      <td>GREENE</td>\n",
       "      <td>POLYGON ((541716.775 4675243.268, 541217.579 4...</td>\n",
       "    </tr>\n",
       "    <tr>\n",
       "      <th>4</th>\n",
       "      <td>WILD FOREST</td>\n",
       "      <td>ESSEX</td>\n",
       "      <td>POLYGON ((583896.043 4909643.187, 583891.200 4...</td>\n",
       "    </tr>\n",
       "  </tbody>\n",
       "</table>\n",
       "</div>"
      ],
      "text/plain": [
       "         CLASS    COUNTY                                           geometry\n",
       "0  WILD FOREST  DELAWARE  POLYGON ((486093.245 4635308.586, 486787.235 4...\n",
       "1  WILD FOREST  DELAWARE  POLYGON ((491931.514 4637416.256, 491305.424 4...\n",
       "2  WILD FOREST  DELAWARE  POLYGON ((486000.287 4635834.453, 485007.550 4...\n",
       "3  WILD FOREST    GREENE  POLYGON ((541716.775 4675243.268, 541217.579 4...\n",
       "4  WILD FOREST     ESSEX  POLYGON ((583896.043 4909643.187, 583891.200 4..."
      ]
     },
     "execution_count": 6,
     "metadata": {},
     "output_type": "execute_result"
    }
   ],
   "source": [
    "# Select lands that fall under the \"WILD FOREST\" or \"WILDERNESS\" category\n",
    "wild_lands = data.loc[data.CLASS.isin(['WILD FOREST', 'WILDERNESS'])].copy()\n",
    "wild_lands.head()"
   ]
  },
  {
   "cell_type": "markdown",
   "id": "e2f86e5f",
   "metadata": {
    "papermill": {
     "duration": 0.016355,
     "end_time": "2021-11-09T00:09:19.328041",
     "exception": false,
     "start_time": "2021-11-09T00:09:19.311686",
     "status": "completed"
    },
    "tags": []
   },
   "source": [
    "If you're not familiar with the commands above, you are encouraged to bookmark this page for reference, so you can look up the commands as needed.  (_Alternatively, you can take the [Pandas micro-course](https://www.kaggle.com/learn/pandas)._)  We'll use these commands throughout this micro-course to understand and filter data before creating maps.\n",
    "\n",
    "# Create your first map!\n",
    "\n",
    "We can quickly visualize the data with the `plot()` method."
   ]
  },
  {
   "cell_type": "code",
   "execution_count": 7,
   "id": "0e50160e",
   "metadata": {
    "execution": {
     "iopub.execute_input": "2021-11-09T00:09:19.363721Z",
     "iopub.status.busy": "2021-11-09T00:09:19.362727Z",
     "iopub.status.idle": "2021-11-09T00:09:20.026186Z",
     "shell.execute_reply": "2021-11-09T00:09:20.026665Z"
    },
    "papermill": {
     "duration": 0.682839,
     "end_time": "2021-11-09T00:09:20.026841",
     "exception": false,
     "start_time": "2021-11-09T00:09:19.344002",
     "status": "completed"
    },
    "tags": []
   },
   "outputs": [
    {
     "data": {
      "text/plain": [
       "<AxesSubplot:>"
      ]
     },
     "execution_count": 7,
     "metadata": {},
     "output_type": "execute_result"
    },
    {
     "data": {
      "image/png": "[encoded data removed]",
      "text/plain": [
       "<Figure size 432x288 with 1 Axes>"
      ]
     },
     "metadata": {
      "needs_background": "light"
     },
     "output_type": "display_data"
    }
   ],
   "source": [
    "wild_lands.plot()"
   ]
  },
  {
   "cell_type": "markdown",
   "id": "e435a963",
   "metadata": {
    "papermill": {
     "duration": 0.018149,
     "end_time": "2021-11-09T00:09:20.063026",
     "exception": false,
     "start_time": "2021-11-09T00:09:20.044877",
     "status": "completed"
    },
    "tags": []
   },
   "source": [
    "Every GeoDataFrame contains a special \"geometry\" column.  It contains all of the geometric objects that are displayed when we call the `plot()` method."
   ]
  },
  {
   "cell_type": "code",
   "execution_count": 8,
   "id": "fde0dc03",
   "metadata": {
    "execution": {
     "iopub.execute_input": "2021-11-09T00:09:20.104639Z",
     "iopub.status.busy": "2021-11-09T00:09:20.103898Z",
     "iopub.status.idle": "2021-11-09T00:09:20.109175Z",
     "shell.execute_reply": "2021-11-09T00:09:20.109778Z"
    },
    "papermill": {
     "duration": 0.029266,
     "end_time": "2021-11-09T00:09:20.109945",
     "exception": false,
     "start_time": "2021-11-09T00:09:20.080679",
     "status": "completed"
    },
    "tags": []
   },
   "outputs": [
    {
     "data": {
      "text/plain": [
       "0    POLYGON ((486093.245 4635308.586, 486787.235 4...\n",
       "1    POLYGON ((491931.514 4637416.256, 491305.424 4...\n",
       "2    POLYGON ((486000.287 4635834.453, 485007.550 4...\n",
       "3    POLYGON ((541716.775 4675243.268, 541217.579 4...\n",
       "4    POLYGON ((583896.043 4909643.187, 583891.200 4...\n",
       "Name: geometry, dtype: geometry"
      ]
     },
     "execution_count": 8,
     "metadata": {},
     "output_type": "execute_result"
    }
   ],
   "source": [
    "# View the first five entries in the \"geometry\" column\n",
    "wild_lands.geometry.head()"
   ]
  },
  {
   "cell_type": "markdown",
   "id": "cbc95a1f",
   "metadata": {
    "papermill": {
     "duration": 0.017702,
     "end_time": "2021-11-09T00:09:20.145668",
     "exception": false,
     "start_time": "2021-11-09T00:09:20.127966",
     "status": "completed"
    },
    "tags": []
   },
   "source": [
    "While this column can contain a variety of different datatypes, each entry will typically be a **Point**, **LineString**, or **Polygon**.\n",
    "\n",
    "![](https://i.imgur.com/N1llefr.png)\n",
    "\n",
    "The \"geometry\" column in our dataset contains 2983 different Polygon objects, each corresponding to a different shape in the plot above.\n",
    "\n",
    "In the code cell below, we create three more GeoDataFrames, containing campsite locations (**Point**), foot trails (**LineString**), and county boundaries (**Polygon**)."
   ]
  },
  {
   "cell_type": "code",
   "execution_count": 9,
   "id": "e96b7d57",
   "metadata": {
    "_kg_hide-input": false,
    "execution": {
     "iopub.execute_input": "2021-11-09T00:09:20.185761Z",
     "iopub.status.busy": "2021-11-09T00:09:20.184727Z",
     "iopub.status.idle": "2021-11-09T00:09:21.617516Z",
     "shell.execute_reply": "2021-11-09T00:09:21.616900Z"
    },
    "papermill": {
     "duration": 1.454045,
     "end_time": "2021-11-09T00:09:21.617668",
     "exception": false,
     "start_time": "2021-11-09T00:09:20.163623",
     "status": "completed"
    },
    "tags": []
   },
   "outputs": [],
   "source": [
    "# Campsites in New York state (Point)\n",
    "POI_data = gpd.read_file(\"../input/geospatial-learn-course-data/DEC_pointsinterest/DEC_pointsinterest/Decptsofinterest.shp\")\n",
    "campsites = POI_data.loc[POI_data.ASSET=='PRIMITIVE CAMPSITE'].copy()\n",
    "\n",
    "# Foot trails in New York state (LineString)\n",
    "roads_trails = gpd.read_file(\"../input/geospatial-learn-course-data/DEC_roadstrails/DEC_roadstrails/Decroadstrails.shp\")\n",
    "trails = roads_trails.loc[roads_trails.ASSET=='FOOT TRAIL'].copy()\n",
    "\n",
    "# County boundaries in New York state (Polygon)\n",
    "counties = gpd.read_file(\"../input/geospatial-learn-course-data/NY_county_boundaries/NY_county_boundaries/NY_county_boundaries.shp\")"
   ]
  },
  {
   "cell_type": "markdown",
   "id": "c17c5264",
   "metadata": {
    "papermill": {
     "duration": 0.017983,
     "end_time": "2021-11-09T00:09:21.654572",
     "exception": false,
     "start_time": "2021-11-09T00:09:21.636589",
     "status": "completed"
    },
    "tags": []
   },
   "source": [
    "Next, we create a map from all four GeoDataFrames.  \n",
    "\n",
    "The `plot()` method takes as (optional) input several parameters that can be used to customize the appearance.  Most importantly, setting a value for `ax` ensures that all of the information is plotted on the same map."
   ]
  },
  {
   "cell_type": "code",
   "execution_count": 10,
   "id": "a25515f8",
   "metadata": {
    "execution": {
     "iopub.execute_input": "2021-11-09T00:09:21.695134Z",
     "iopub.status.busy": "2021-11-09T00:09:21.694170Z",
     "iopub.status.idle": "2021-11-09T00:09:23.003737Z",
     "shell.execute_reply": "2021-11-09T00:09:23.004281Z"
    },
    "papermill": {
     "duration": 1.331747,
     "end_time": "2021-11-09T00:09:23.004460",
     "exception": false,
     "start_time": "2021-11-09T00:09:21.672713",
     "status": "completed"
    },
    "tags": []
   },
   "outputs": [
    {
     "data": {
      "text/plain": [
       "<AxesSubplot:>"
      ]
     },
     "execution_count": 10,
     "metadata": {},
     "output_type": "execute_result"
    },
    {
     "data": {
      "image/png": "[encoded data removed]",
      "text/plain": [
       "<Figure size 720x720 with 1 Axes>"
      ]
     },
     "metadata": {
      "needs_background": "light"
     },
     "output_type": "display_data"
    }
   ],
   "source": [
    "# Define a base map with county boundaries\n",
    "ax = counties.plot(figsize=(10,10), color='none', edgecolor='gainsboro', zorder=3)\n",
    "\n",
    "# Add wild lands, campsites, and foot trails to the base map\n",
    "wild_lands.plot(color='lightgreen', ax=ax)\n",
    "campsites.plot(color='maroon', markersize=2, ax=ax)\n",
    "trails.plot(color='black', markersize=1, ax=ax)"
   ]
  },
  {
   "cell_type": "markdown",
   "id": "870f0db2",
   "metadata": {
    "papermill": {
     "duration": 0.02127,
     "end_time": "2021-11-09T00:09:23.047140",
     "exception": false,
     "start_time": "2021-11-09T00:09:23.025870",
     "status": "completed"
    },
    "tags": []
   },
   "source": [
    "It looks like the northeastern part of the state would be a great option for a camping trip!\n",
    "\n",
    "# Your turn\n",
    "\n",
    "This feels complex at first, but you've already learned enough to do important analysis. See for yourself as you **[identify remote areas](https://www.kaggle.com/kernels/fork/5832167)** of the Philippines where a non-profit can expand its operations."
   ]
  },
  {
   "cell_type": "markdown",
   "id": "be14eee1",
   "metadata": {
    "papermill": {
     "duration": 0.021346,
     "end_time": "2021-11-09T00:09:23.089967",
     "exception": false,
     "start_time": "2021-11-09T00:09:23.068621",
     "status": "completed"
    },
    "tags": []
   },
   "source": [
    "---\n",
    "\n",
    "\n",
    "\n",
    "\n",
    "*Have questions or comments? Visit the [course discussion forum](https://www.kaggle.com/learn/geospatial-analysis/discussion) to chat with other learners.*"
   ]
  }
 ],
 "metadata": {
  "kernelspec": {
   "display_name": "Python 3",
   "language": "python",
   "name": "python3"
  },
  "language_info": {
   "codemirror_mode": {
    "name": "ipython",
    "version": 3
   },
   "file_extension": ".py",
   "mimetype": "text/x-python",
   "name": "python",
   "nbconvert_exporter": "python",
   "pygments_lexer": "ipython3",
   "version": "3.7.10"
  },
  "papermill": {
   "default_parameters": {},
   "duration": 15.594518,
   "end_time": "2021-11-09T00:09:23.721658",
   "environment_variables": {},
   "exception": null,
   "input_path": "__notebook__.ipynb",
   "output_path": "__notebook__.ipynb",
   "parameters": {},
   "start_time": "2021-11-09T00:09:08.127140",
   "version": "2.3.3"
  }
 },
 "nbformat": 4,
 "nbformat_minor": 5
}
