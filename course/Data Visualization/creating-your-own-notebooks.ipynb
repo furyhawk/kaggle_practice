{
 "cells": [
  {
   "cell_type": "markdown",
   "id": "72e48e94",
   "metadata": {
    "papermill": {
     "duration": 0.005049,
     "end_time": "2021-11-09T00:05:49.802441",
     "exception": false,
     "start_time": "2021-11-09T00:05:49.797392",
     "status": "completed"
    },
    "tags": []
   },
   "source": [
    "Congratulations for making it to the end of the course!\n",
    "\n",
    "In this final tutorial, you'll learn an efficient workflow that you can use to continue creating your own stunning data visualizations on the Kaggle website."
   ]
  },
  {
   "cell_type": "markdown",
   "id": "0d02bcb4",
   "metadata": {
    "papermill": {
     "duration": 0.003594,
     "end_time": "2021-11-09T00:05:49.810997",
     "exception": false,
     "start_time": "2021-11-09T00:05:49.807403",
     "status": "completed"
    },
    "tags": []
   },
   "source": [
    "## Workflow\n",
    "\n",
    "Begin by navigating to the site for Kaggle Notebooks:\n",
    "> https://www.kaggle.com/code\n",
    "\n",
    "Then, in the top left corner, click on **[+ New Notebook]**.\n",
    "\n",
    "![tut7_new_kernel](https://i.imgur.com/kw9cct2.png)\n",
    "\n",
    "This opens a notebook.  As a first step, check the language of the notebook by selecting **File > Language**.  If it's not Python, change the language to Python now.\n",
    "\n",
    "![tut7_default_lang](https://i.imgur.com/FcQhCjF.png)\n",
    "\n",
    "The notebook should hvae some default code.  **_Please erase this code, and replace it with the code in the cell below._**  (_This is the same code that you used in all of the exercises to set up your Python environment._)"
   ]
  },
  {
   "cell_type": "code",
   "execution_count": 1,
   "id": "812da258",
   "metadata": {
    "execution": {
     "iopub.execute_input": "2021-11-09T00:05:49.824908Z",
     "iopub.status.busy": "2021-11-09T00:05:49.823089Z",
     "iopub.status.idle": "2021-11-09T00:05:50.788082Z",
     "shell.execute_reply": "2021-11-09T00:05:50.787446Z"
    },
    "papermill": {
     "duration": 0.973491,
     "end_time": "2021-11-09T00:05:50.788245",
     "exception": false,
     "start_time": "2021-11-09T00:05:49.814754",
     "status": "completed"
    },
    "tags": []
   },
   "outputs": [
    {
     "name": "stdout",
     "output_type": "stream",
     "text": [
      "Setup Complete\n"
     ]
    }
   ],
   "source": [
    "import pandas as pd\n",
    "pd.plotting.register_matplotlib_converters()\n",
    "import matplotlib.pyplot as plt\n",
    "%matplotlib inline\n",
    "import seaborn as sns\n",
    "print(\"Setup Complete\")"
   ]
  },
  {
   "cell_type": "markdown",
   "id": "701389a4",
   "metadata": {
    "papermill": {
     "duration": 0.004357,
     "end_time": "2021-11-09T00:05:50.797546",
     "exception": false,
     "start_time": "2021-11-09T00:05:50.793189",
     "status": "completed"
    },
    "tags": []
   },
   "source": [
    "The next step is to attach a dataset, before writing code to visualize it.  (_You learned how to do that in the previous tutorial._) \n",
    "\n",
    "Then, once you have generated a figure, you need only save it as an image file that you can easily add to your presentations!"
   ]
  },
  {
   "cell_type": "markdown",
   "id": "f3d762a7",
   "metadata": {
    "papermill": {
     "duration": 0.006297,
     "end_time": "2021-11-09T00:05:50.808200",
     "exception": false,
     "start_time": "2021-11-09T00:05:50.801903",
     "status": "completed"
    },
    "tags": []
   },
   "source": [
    "---\n",
    "\n",
    "\n",
    "\n",
    "\n",
    "*Have questions or comments? Visit the [course discussion forum](https://www.kaggle.com/learn/data-visualization/discussion) to chat with other learners.*"
   ]
  }
 ],
 "metadata": {
  "kernelspec": {
   "display_name": "Python 3",
   "language": "python",
   "name": "python3"
  },
  "language_info": {
   "codemirror_mode": {
    "name": "ipython",
    "version": 3
   },
   "file_extension": ".py",
   "mimetype": "text/x-python",
   "name": "python",
   "nbconvert_exporter": "python",
   "pygments_lexer": "ipython3",
   "version": "3.7.10"
  },
  "papermill": {
   "default_parameters": {},
   "duration": 10.787141,
   "end_time": "2021-11-09T00:05:51.422391",
   "environment_variables": {},
   "exception": null,
   "input_path": "__notebook__.ipynb",
   "output_path": "__notebook__.ipynb",
   "parameters": {},
   "start_time": "2021-11-09T00:05:40.635250",
   "version": "2.3.3"
  }
 },
 "nbformat": 4,
 "nbformat_minor": 5
}
