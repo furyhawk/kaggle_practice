{
  "cells": [
    {
      "cell_type": "markdown",
      "metadata": {
        "id": "Tce3stUlHN0L"
      },
      "source": [
        "##### Copyright 2020 The TensorFlow Authors."
      ]
    },
    {
      "cell_type": "code",
      "execution_count": 1,
      "metadata": {
        "cellView": "form",
        "id": "tuOe1ymfHZPu"
      },
      "outputs": [],
      "source": [
        "#@title Licensed under the Apache License, Version 2.0 (the \"License\");\n",
        "# you may not use this file except in compliance with the License.\n",
        "# You may obtain a copy of the License at\n",
        "#\n",
        "# https://www.apache.org/licenses/LICENSE-2.0\n",
        "#\n",
        "# Unless required by applicable law or agreed to in writing, software\n",
        "# distributed under the License is distributed on an \"AS IS\" BASIS,\n",
        "# WITHOUT WARRANTIES OR CONDITIONS OF ANY KIND, either express or implied.\n",
        "# See the License for the specific language governing permissions and\n",
        "# limitations under the License."
      ]
    },
    {
      "cell_type": "markdown",
      "metadata": {
        "id": "qFdPvlXBOdUN"
      },
      "source": [
        "# Introduction to the Keras Tuner"
      ]
    },
    {
      "cell_type": "markdown",
      "metadata": {
        "id": "MfBg1C5NB3X0"
      },
      "source": [
        "<table class=\"tfo-notebook-buttons\" align=\"left\">\n",
        "  <td>\n",
        "    <a target=\"_blank\" href=\"https://www.tensorflow.org/tutorials/keras/keras_tuner\"><img src=\"https://www.tensorflow.org/images/tf_logo_32px.png\" />View on TensorFlow.org</a>\n",
        "  </td>\n",
        "  <td>\n",
        "    <a target=\"_blank\" href=\"https://colab.research.google.com/github/tensorflow/docs/blob/master/site/en/tutorials/keras/keras_tuner.ipynb\"><img src=\"https://www.tensorflow.org/images/colab_logo_32px.png\" />Run in Google Colab</a>\n",
        "  </td>\n",
        "  <td>\n",
        "    <a target=\"_blank\" href=\"https://github.com/tensorflow/docs/blob/master/site/en/tutorials/keras/keras_tuner.ipynb\"><img src=\"https://www.tensorflow.org/images/GitHub-Mark-32px.png\" />View source on GitHub</a>\n",
        "  </td>\n",
        "  <td>\n",
        "    <a href=\"https://storage.googleapis.com/tensorflow_docs/docs/site/en/tutorials/keras/keras_tuner.ipynb\"><img src=\"https://www.tensorflow.org/images/download_logo_32px.png\" />Download notebook</a>\n",
        "  </td>\n",
        "</table>"
      ]
    },
    {
      "cell_type": "markdown",
      "metadata": {
        "id": "xHxb-dlhMIzW"
      },
      "source": [
        "## Overview\n",
        "\n",
        "The Keras Tuner is a library that helps you pick the optimal set of hyperparameters for your TensorFlow program. The process of selecting the right set of hyperparameters for your machine learning (ML) application is called *hyperparameter tuning* or *hypertuning*.\n",
        "\n",
        "Hyperparameters are the variables that govern the training process and the topology of an ML model. These variables remain constant over the training process and directly impact the performance of your ML program. Hyperparameters are of two types:\n",
        "1. **Model hyperparameters** which influence model selection such as the number and width of hidden layers\n",
        "2. **Algorithm hyperparameters** which influence the speed and quality of the learning algorithm such as the learning rate for Stochastic Gradient Descent (SGD) and the number of nearest neighbors for a k Nearest Neighbors (KNN) classifier\n",
        "\n",
        "In this tutorial, you will use the Keras Tuner to perform hypertuning for an image classification application."
      ]
    },
    {
      "cell_type": "markdown",
      "metadata": {
        "id": "MUXex9ctTuDB"
      },
      "source": [
        "## Setup"
      ]
    },
    {
      "cell_type": "code",
      "execution_count": 2,
      "metadata": {
        "id": "IqR2PQG4ZaZ0"
      },
      "outputs": [],
      "source": [
        "import tensorflow as tf\n",
        "from tensorflow import keras"
      ]
    },
    {
      "cell_type": "markdown",
      "metadata": {
        "id": "g83Lwsy-Aq2_"
      },
      "source": [
        "Install and import the Keras Tuner."
      ]
    },
    {
      "cell_type": "code",
      "execution_count": 3,
      "metadata": {
        "colab": {
          "base_uri": "https://localhost:8080/"
        },
        "id": "hpMLpbt9jcO6",
        "outputId": "9d40cdca-c365-4e07-9f0b-61145162f57a"
      },
      "outputs": [],
      "source": [
        "!pip install -q -U keras-tuner"
      ]
    },
    {
      "cell_type": "code",
      "execution_count": 4,
      "metadata": {
        "id": "_leAIdFKAxAD"
      },
      "outputs": [],
      "source": [
        "import keras_tuner as kt"
      ]
    },
    {
      "cell_type": "markdown",
      "metadata": {
        "id": "ReV_UXOgCZvx"
      },
      "source": [
        "## Download and prepare the dataset\n",
        "\n",
        "In this tutorial, you will use the Keras Tuner to find the best hyperparameters for a machine learning model that classifies images of clothing from the [Fashion MNIST dataset](https://github.com/zalandoresearch/fashion-mnist)."
      ]
    },
    {
      "cell_type": "markdown",
      "metadata": {
        "id": "HljH_ENLEdHa"
      },
      "source": [
        "Load the data."
      ]
    },
    {
      "cell_type": "code",
      "execution_count": 5,
      "metadata": {
        "colab": {
          "base_uri": "https://localhost:8080/"
        },
        "id": "OHlHs9Wj_PUM",
        "outputId": "296dd5a6-9952-44af-c283-9fbab132a39e"
      },
      "outputs": [
        {
          "name": "stdout",
          "output_type": "stream",
          "text": [
            "Downloading data from https://storage.googleapis.com/tensorflow/tf-keras-datasets/train-labels-idx1-ubyte.gz\n",
            "32768/29515 [=================================] - 0s 0us/step\n",
            "40960/29515 [=========================================] - 0s 0us/step\n",
            "Downloading data from https://storage.googleapis.com/tensorflow/tf-keras-datasets/train-images-idx3-ubyte.gz\n",
            "26427392/26421880 [==============================] - 1s 0us/step\n",
            "26435584/26421880 [==============================] - 1s 0us/step\n",
            "Downloading data from https://storage.googleapis.com/tensorflow/tf-keras-datasets/t10k-labels-idx1-ubyte.gz\n",
            "16384/5148 [===============================================================================================] - 0s 0s/step\n",
            "Downloading data from https://storage.googleapis.com/tensorflow/tf-keras-datasets/t10k-images-idx3-ubyte.gz\n",
            "4423680/4422102 [==============================] - 0s 0us/step\n",
            "4431872/4422102 [==============================] - 0s 0us/step\n"
          ]
        }
      ],
      "source": [
        "(img_train, label_train), (img_test, label_test) = keras.datasets.fashion_mnist.load_data()"
      ]
    },
    {
      "cell_type": "code",
      "execution_count": 6,
      "metadata": {
        "id": "bLVhXs3xrUD0"
      },
      "outputs": [],
      "source": [
        "# Normalize pixel values between 0 and 1\n",
        "img_train = img_train.astype('float32') / 255.0\n",
        "img_test = img_test.astype('float32') / 255.0"
      ]
    },
    {
      "cell_type": "code",
      "execution_count": 7,
      "metadata": {
        "colab": {
          "base_uri": "https://localhost:8080/"
        },
        "id": "dfIIQpVtGOgX",
        "outputId": "a800079c-c261-4894-b5df-26971da4c695"
      },
      "outputs": [
        {
          "data": {
            "text/plain": [
              "(array([0, 1, 2, 3, 4, 5, 6, 7, 8, 9], dtype=uint8),\n",
              " array([6000, 6000, 6000, 6000, 6000, 6000, 6000, 6000, 6000, 6000],\n",
              "       dtype=int64))"
            ]
          },
          "execution_count": 7,
          "metadata": {},
          "output_type": "execute_result"
        }
      ],
      "source": [
        "import numpy as np\n",
        "np.unique(label_train, return_counts=True)"
      ]
    },
    {
      "cell_type": "markdown",
      "metadata": {
        "id": "K5YEL2H2Ax3e"
      },
      "source": [
        "## Define the model\n",
        "\n",
        "When you build a model for hypertuning, you also define the hyperparameter search space in addition to the model architecture. The model you set up for hypertuning is called a *hypermodel*.\n",
        "\n",
        "You can define a hypermodel through two approaches:\n",
        "\n",
        "* By using a model builder function\n",
        "* By subclassing the `HyperModel` class of the Keras Tuner API\n",
        "\n",
        "You can also use two pre-defined `HyperModel` classes - [HyperXception](https://keras-team.github.io/keras-tuner/documentation/hypermodels/#hyperxception-class) and [HyperResNet](https://keras-team.github.io/keras-tuner/documentation/hypermodels/#hyperresnet-class) for computer vision applications.\n",
        "\n",
        "In this tutorial, you use a model builder function to define the image classification model. The model builder function returns a compiled model and uses hyperparameters you define inline to hypertune the model."
      ]
    },
    {
      "cell_type": "code",
      "execution_count": 8,
      "metadata": {
        "id": "ZQKodC-jtsva"
      },
      "outputs": [],
      "source": [
        "def model_builder(hp):\n",
        "  model = keras.Sequential()\n",
        "  model.add(keras.layers.Flatten(input_shape=(28, 28)))\n",
        "\n",
        "  # Tune the number of units in the first Dense layer\n",
        "  # Choose an optimal value between 32-512\n",
        "  hp_units = hp.Int('units', min_value=32, max_value=512, step=32)\n",
        "  model.add(keras.layers.Dense(units=hp_units, activation='relu'))\n",
        "  model.add(keras.layers.Dense(10))\n",
        "\n",
        "  # Tune the learning rate for the optimizer\n",
        "  # Choose an optimal value from 0.01, 0.001, or 0.0001\n",
        "  hp_learning_rate = hp.Choice('learning_rate', values=[1e-2, 1e-3, 1e-4])\n",
        "\n",
        "  model.compile(optimizer=keras.optimizers.Adam(learning_rate=hp_learning_rate),\n",
        "                loss=keras.losses.SparseCategoricalCrossentropy(from_logits=True),\n",
        "                metrics=['accuracy'])\n",
        "\n",
        "  return model"
      ]
    },
    {
      "cell_type": "markdown",
      "metadata": {
        "id": "0J1VYw4q3x0b"
      },
      "source": [
        "## Instantiate the tuner and perform hypertuning\n",
        "\n",
        "Instantiate the tuner to perform the hypertuning. The Keras Tuner has four tuners available - `RandomSearch`, `Hyperband`, `BayesianOptimization`, and `Sklearn`. In this tutorial, you use the [Hyperband](https://arxiv.org/pdf/1603.06560.pdf) tuner.\n",
        "\n",
        "To instantiate the Hyperband tuner, you must specify the hypermodel, the `objective` to optimize and the maximum number of epochs to train (`max_epochs`)."
      ]
    },
    {
      "cell_type": "code",
      "execution_count": 9,
      "metadata": {
        "id": "oichQFly6Y46"
      },
      "outputs": [],
      "source": [
        "tuner = kt.Hyperband(model_builder,\n",
        "                     objective='val_accuracy',\n",
        "                     max_epochs=10,\n",
        "                     factor=3,\n",
        "                     directory='my_dir',\n",
        "                     project_name='intro_to_kt')"
      ]
    },
    {
      "cell_type": "markdown",
      "metadata": {
        "id": "VaIhhdKf9VtI"
      },
      "source": [
        "The Hyperband tuning algorithm uses adaptive resource allocation and early-stopping to quickly converge on a high-performing model. This is done using a sports championship style bracket. The algorithm trains a large number of models for a few epochs and carries forward only the top-performing half of models to the next round. Hyperband determines the number of models to train in a bracket by computing 1 + log<sub>`factor`</sub>(`max_epochs`) and rounding it up to the nearest integer."
      ]
    },
    {
      "cell_type": "markdown",
      "metadata": {
        "id": "cwhBdXx0Ekj8"
      },
      "source": [
        "Create a callback to stop training early after reaching a certain value for the validation loss."
      ]
    },
    {
      "cell_type": "code",
      "execution_count": 10,
      "metadata": {
        "id": "WT9IkS9NEjLc"
      },
      "outputs": [],
      "source": [
        "stop_early = tf.keras.callbacks.EarlyStopping(monitor='val_loss', patience=5)"
      ]
    },
    {
      "cell_type": "markdown",
      "metadata": {
        "id": "UKghEo15Tduy"
      },
      "source": [
        "Run the hyperparameter search. The arguments for the search method are the same as those used for `tf.keras.model.fit` in addition to the callback above."
      ]
    },
    {
      "cell_type": "code",
      "execution_count": 11,
      "metadata": {
        "colab": {
          "base_uri": "https://localhost:8080/"
        },
        "id": "dSBQcTHF9cKt",
        "outputId": "c030dedb-1b57-4f0b-9f41-1b83d6f0c63e"
      },
      "outputs": [
        {
          "name": "stdout",
          "output_type": "stream",
          "text": [
            "Trial 30 Complete [00h 00m 19s]\n",
            "val_accuracy: 0.890666663646698\n",
            "\n",
            "Best val_accuracy So Far: 0.890666663646698\n",
            "Total elapsed time: 00h 05m 06s\n",
            "INFO:tensorflow:Oracle triggered exit\n",
            "\n",
            "The hyperparameter search is complete. The optimal number of units in the first densely-connected\n",
            "layer is 160 and the optimal learning rate for the optimizer\n",
            "is 0.001.\n",
            "\n"
          ]
        }
      ],
      "source": [
        "tuner.search(img_train, label_train, epochs=50, validation_split=0.2, callbacks=[stop_early])\n",
        "\n",
        "# Get the optimal hyperparameters\n",
        "best_hps=tuner.get_best_hyperparameters(num_trials=1)[0]\n",
        "\n",
        "print(f\"\"\"\n",
        "The hyperparameter search is complete. The optimal number of units in the first densely-connected\n",
        "layer is {best_hps.get('units')} and the optimal learning rate for the optimizer\n",
        "is {best_hps.get('learning_rate')}.\n",
        "\"\"\")"
      ]
    },
    {
      "cell_type": "markdown",
      "metadata": {
        "id": "Lak_ylf88xBv"
      },
      "source": [
        "## Train the model\n",
        "\n",
        "Find the optimal number of epochs to train the model with the hyperparameters obtained from the search."
      ]
    },
    {
      "cell_type": "code",
      "execution_count": 12,
      "metadata": {
        "colab": {
          "base_uri": "https://localhost:8080/"
        },
        "id": "McO82AXOuxXh",
        "outputId": "31bdd15c-fa57-472c-e7b3-8fb30875af1c"
      },
      "outputs": [
        {
          "name": "stdout",
          "output_type": "stream",
          "text": [
            "Epoch 1/50\n",
            "1500/1500 [==============================] - 2s 1ms/step - loss: 0.5156 - accuracy: 0.8184 - val_loss: 0.4506 - val_accuracy: 0.8408\n",
            "Epoch 2/50\n",
            "1500/1500 [==============================] - 2s 1ms/step - loss: 0.3831 - accuracy: 0.8621 - val_loss: 0.3879 - val_accuracy: 0.8608\n",
            "Epoch 3/50\n",
            "1500/1500 [==============================] - 2s 1ms/step - loss: 0.3431 - accuracy: 0.8765 - val_loss: 0.3744 - val_accuracy: 0.8647\n",
            "Epoch 4/50\n",
            "1500/1500 [==============================] - 2s 1ms/step - loss: 0.3146 - accuracy: 0.8840 - val_loss: 0.3377 - val_accuracy: 0.8791\n",
            "Epoch 5/50\n",
            "1500/1500 [==============================] - 2s 1ms/step - loss: 0.2962 - accuracy: 0.8904 - val_loss: 0.3355 - val_accuracy: 0.8810\n",
            "Epoch 6/50\n",
            "1500/1500 [==============================] - 2s 1ms/step - loss: 0.2820 - accuracy: 0.8958 - val_loss: 0.3260 - val_accuracy: 0.8863\n",
            "Epoch 7/50\n",
            "1500/1500 [==============================] - 2s 1ms/step - loss: 0.2688 - accuracy: 0.8999 - val_loss: 0.3363 - val_accuracy: 0.8817\n",
            "Epoch 8/50\n",
            "1500/1500 [==============================] - 2s 1ms/step - loss: 0.2560 - accuracy: 0.9064 - val_loss: 0.3223 - val_accuracy: 0.8847\n",
            "Epoch 9/50\n",
            "1500/1500 [==============================] - 2s 1ms/step - loss: 0.2458 - accuracy: 0.9087 - val_loss: 0.3299 - val_accuracy: 0.8829\n",
            "Epoch 10/50\n",
            "1500/1500 [==============================] - 2s 1ms/step - loss: 0.2342 - accuracy: 0.9121 - val_loss: 0.3328 - val_accuracy: 0.8863\n",
            "Epoch 11/50\n",
            "1500/1500 [==============================] - 2s 1ms/step - loss: 0.2273 - accuracy: 0.9158 - val_loss: 0.3108 - val_accuracy: 0.8916\n",
            "Epoch 12/50\n",
            "1500/1500 [==============================] - 2s 1ms/step - loss: 0.2178 - accuracy: 0.9193 - val_loss: 0.3132 - val_accuracy: 0.8932\n",
            "Epoch 13/50\n",
            "1500/1500 [==============================] - 1s 992us/step - loss: 0.2125 - accuracy: 0.9203 - val_loss: 0.3229 - val_accuracy: 0.8908\n",
            "Epoch 14/50\n",
            "1500/1500 [==============================] - 2s 1ms/step - loss: 0.2041 - accuracy: 0.9233 - val_loss: 0.3257 - val_accuracy: 0.8920\n",
            "Epoch 15/50\n",
            "1500/1500 [==============================] - 2s 1ms/step - loss: 0.1994 - accuracy: 0.9248 - val_loss: 0.3355 - val_accuracy: 0.8864\n",
            "Epoch 16/50\n",
            "1500/1500 [==============================] - 2s 1ms/step - loss: 0.1934 - accuracy: 0.9277 - val_loss: 0.3412 - val_accuracy: 0.8864\n",
            "Epoch 17/50\n",
            "1500/1500 [==============================] - 2s 1ms/step - loss: 0.1876 - accuracy: 0.9304 - val_loss: 0.3425 - val_accuracy: 0.8873\n",
            "Epoch 18/50\n",
            "1500/1500 [==============================] - 2s 1ms/step - loss: 0.1796 - accuracy: 0.9328 - val_loss: 0.3488 - val_accuracy: 0.8885\n",
            "Epoch 19/50\n",
            "1500/1500 [==============================] - 2s 1ms/step - loss: 0.1781 - accuracy: 0.9337 - val_loss: 0.3266 - val_accuracy: 0.8948\n",
            "Epoch 20/50\n",
            "1500/1500 [==============================] - 2s 1ms/step - loss: 0.1705 - accuracy: 0.9356 - val_loss: 0.3419 - val_accuracy: 0.8912\n",
            "Epoch 21/50\n",
            "1500/1500 [==============================] - 2s 1ms/step - loss: 0.1676 - accuracy: 0.9377 - val_loss: 0.3630 - val_accuracy: 0.8890\n",
            "Epoch 22/50\n",
            "1500/1500 [==============================] - 2s 1ms/step - loss: 0.1616 - accuracy: 0.9401 - val_loss: 0.3574 - val_accuracy: 0.8911\n",
            "Epoch 23/50\n",
            "1500/1500 [==============================] - 2s 1ms/step - loss: 0.1572 - accuracy: 0.9394 - val_loss: 0.3486 - val_accuracy: 0.8931\n",
            "Epoch 24/50\n",
            "1500/1500 [==============================] - 2s 999us/step - loss: 0.1523 - accuracy: 0.9425 - val_loss: 0.3569 - val_accuracy: 0.8941\n",
            "Epoch 25/50\n",
            "1500/1500 [==============================] - 2s 1ms/step - loss: 0.1495 - accuracy: 0.9438 - val_loss: 0.3542 - val_accuracy: 0.8928\n",
            "Epoch 26/50\n",
            "1500/1500 [==============================] - 1s 1000us/step - loss: 0.1437 - accuracy: 0.9461 - val_loss: 0.3737 - val_accuracy: 0.8887\n",
            "Epoch 27/50\n",
            "1500/1500 [==============================] - 2s 1ms/step - loss: 0.1424 - accuracy: 0.9460 - val_loss: 0.3867 - val_accuracy: 0.8923\n",
            "Epoch 28/50\n",
            "1500/1500 [==============================] - 2s 1ms/step - loss: 0.1395 - accuracy: 0.9473 - val_loss: 0.3899 - val_accuracy: 0.8911\n",
            "Epoch 29/50\n",
            "1500/1500 [==============================] - 1s 995us/step - loss: 0.1352 - accuracy: 0.9489 - val_loss: 0.3982 - val_accuracy: 0.8859\n",
            "Epoch 30/50\n",
            "1500/1500 [==============================] - 2s 1ms/step - loss: 0.1330 - accuracy: 0.9501 - val_loss: 0.3913 - val_accuracy: 0.8921\n",
            "Epoch 31/50\n",
            "1500/1500 [==============================] - 2s 1ms/step - loss: 0.1282 - accuracy: 0.9524 - val_loss: 0.4143 - val_accuracy: 0.8872\n",
            "Epoch 32/50\n",
            "1500/1500 [==============================] - 2s 1ms/step - loss: 0.1245 - accuracy: 0.9531 - val_loss: 0.3911 - val_accuracy: 0.8913\n",
            "Epoch 33/50\n",
            "1500/1500 [==============================] - 2s 1ms/step - loss: 0.1228 - accuracy: 0.9538 - val_loss: 0.4047 - val_accuracy: 0.8913\n",
            "Epoch 34/50\n",
            "1500/1500 [==============================] - 2s 1ms/step - loss: 0.1185 - accuracy: 0.9555 - val_loss: 0.4271 - val_accuracy: 0.8928\n",
            "Epoch 35/50\n",
            "1500/1500 [==============================] - 1s 991us/step - loss: 0.1165 - accuracy: 0.9561 - val_loss: 0.4241 - val_accuracy: 0.8920\n",
            "Epoch 36/50\n",
            "1500/1500 [==============================] - 2s 1ms/step - loss: 0.1157 - accuracy: 0.9573 - val_loss: 0.4434 - val_accuracy: 0.8885\n",
            "Epoch 37/50\n",
            "1500/1500 [==============================] - 1s 996us/step - loss: 0.1132 - accuracy: 0.9581 - val_loss: 0.4486 - val_accuracy: 0.8876\n",
            "Epoch 38/50\n",
            "1500/1500 [==============================] - 2s 1ms/step - loss: 0.1075 - accuracy: 0.9595 - val_loss: 0.4269 - val_accuracy: 0.8942\n",
            "Epoch 39/50\n",
            "1500/1500 [==============================] - 2s 1ms/step - loss: 0.1090 - accuracy: 0.9591 - val_loss: 0.4246 - val_accuracy: 0.8902\n",
            "Epoch 40/50\n",
            "1500/1500 [==============================] - 2s 1ms/step - loss: 0.1046 - accuracy: 0.9603 - val_loss: 0.4390 - val_accuracy: 0.8914\n",
            "Epoch 41/50\n",
            "1500/1500 [==============================] - 2s 1ms/step - loss: 0.1048 - accuracy: 0.9606 - val_loss: 0.4692 - val_accuracy: 0.8904\n",
            "Epoch 42/50\n",
            "1500/1500 [==============================] - 2s 1ms/step - loss: 0.1002 - accuracy: 0.9628 - val_loss: 0.4626 - val_accuracy: 0.8898\n",
            "Epoch 43/50\n",
            "1500/1500 [==============================] - 2s 1ms/step - loss: 0.0986 - accuracy: 0.9632 - val_loss: 0.4591 - val_accuracy: 0.8913\n",
            "Epoch 44/50\n",
            "1500/1500 [==============================] - 2s 1ms/step - loss: 0.0974 - accuracy: 0.9639 - val_loss: 0.4573 - val_accuracy: 0.8931\n",
            "Epoch 45/50\n",
            "1500/1500 [==============================] - 1s 997us/step - loss: 0.0941 - accuracy: 0.9645 - val_loss: 0.4757 - val_accuracy: 0.8915\n",
            "Epoch 46/50\n",
            "1500/1500 [==============================] - 2s 1ms/step - loss: 0.0937 - accuracy: 0.9649 - val_loss: 0.4548 - val_accuracy: 0.8915\n",
            "Epoch 47/50\n",
            "1500/1500 [==============================] - 2s 1ms/step - loss: 0.0907 - accuracy: 0.9668 - val_loss: 0.4782 - val_accuracy: 0.8917\n",
            "Epoch 48/50\n",
            "1500/1500 [==============================] - 2s 1ms/step - loss: 0.0917 - accuracy: 0.9653 - val_loss: 0.4994 - val_accuracy: 0.8849\n",
            "Epoch 49/50\n",
            "1500/1500 [==============================] - 2s 1ms/step - loss: 0.0834 - accuracy: 0.9688 - val_loss: 0.4853 - val_accuracy: 0.8893\n",
            "Epoch 50/50\n",
            "1500/1500 [==============================] - 2s 1ms/step - loss: 0.0871 - accuracy: 0.9674 - val_loss: 0.4954 - val_accuracy: 0.8906\n",
            "Best epoch: 19\n"
          ]
        }
      ],
      "source": [
        "# Build the model with the optimal hyperparameters and train it on the data for 50 epochs\n",
        "model = tuner.hypermodel.build(best_hps)\n",
        "history = model.fit(img_train, label_train, epochs=50, validation_split=0.2)\n",
        "\n",
        "val_acc_per_epoch = history.history['val_accuracy']\n",
        "best_epoch = val_acc_per_epoch.index(max(val_acc_per_epoch)) + 1\n",
        "print('Best epoch: %d' % (best_epoch,))"
      ]
    },
    {
      "cell_type": "markdown",
      "metadata": {
        "id": "uOTSirSTI3Gp"
      },
      "source": [
        "Re-instantiate the hypermodel and train it with the optimal number of epochs from above."
      ]
    },
    {
      "cell_type": "code",
      "execution_count": 13,
      "metadata": {
        "colab": {
          "base_uri": "https://localhost:8080/"
        },
        "id": "NoiPUEHmMhCe",
        "outputId": "a222da09-15a3-4957-8fb4-4294bd9819c1"
      },
      "outputs": [
        {
          "name": "stdout",
          "output_type": "stream",
          "text": [
            "Epoch 1/19\n",
            "1500/1500 [==============================] - 2s 1ms/step - loss: 0.5160 - accuracy: 0.8171 - val_loss: 0.4192 - val_accuracy: 0.8531\n",
            "Epoch 2/19\n",
            "1500/1500 [==============================] - 1s 987us/step - loss: 0.3825 - accuracy: 0.8618 - val_loss: 0.3887 - val_accuracy: 0.8558\n",
            "Epoch 3/19\n",
            "1500/1500 [==============================] - 1s 999us/step - loss: 0.3411 - accuracy: 0.8770 - val_loss: 0.3548 - val_accuracy: 0.8751\n",
            "Epoch 4/19\n",
            "1500/1500 [==============================] - 1s 991us/step - loss: 0.3169 - accuracy: 0.8839 - val_loss: 0.3372 - val_accuracy: 0.8772\n",
            "Epoch 5/19\n",
            "1500/1500 [==============================] - 1s 999us/step - loss: 0.2986 - accuracy: 0.8903 - val_loss: 0.3230 - val_accuracy: 0.8834\n",
            "Epoch 6/19\n",
            "1500/1500 [==============================] - 1s 984us/step - loss: 0.2846 - accuracy: 0.8952 - val_loss: 0.3253 - val_accuracy: 0.8819\n",
            "Epoch 7/19\n",
            "1500/1500 [==============================] - 2s 1ms/step - loss: 0.2686 - accuracy: 0.8994 - val_loss: 0.3205 - val_accuracy: 0.8827\n",
            "Epoch 8/19\n",
            "1500/1500 [==============================] - 1s 987us/step - loss: 0.2582 - accuracy: 0.9028 - val_loss: 0.3483 - val_accuracy: 0.8727\n",
            "Epoch 9/19\n",
            "1500/1500 [==============================] - 1s 994us/step - loss: 0.2462 - accuracy: 0.9069 - val_loss: 0.3224 - val_accuracy: 0.8820\n",
            "Epoch 10/19\n",
            "1500/1500 [==============================] - 2s 1ms/step - loss: 0.2380 - accuracy: 0.9100 - val_loss: 0.3161 - val_accuracy: 0.8914\n",
            "Epoch 11/19\n",
            "1500/1500 [==============================] - 2s 1ms/step - loss: 0.2296 - accuracy: 0.9132 - val_loss: 0.3215 - val_accuracy: 0.8858\n",
            "Epoch 12/19\n",
            "1500/1500 [==============================] - 2s 1ms/step - loss: 0.2190 - accuracy: 0.9182 - val_loss: 0.3095 - val_accuracy: 0.8923\n",
            "Epoch 13/19\n",
            "1500/1500 [==============================] - 2s 1ms/step - loss: 0.2139 - accuracy: 0.9188 - val_loss: 0.3139 - val_accuracy: 0.8902\n",
            "Epoch 14/19\n",
            "1500/1500 [==============================] - 1s 984us/step - loss: 0.2054 - accuracy: 0.9226 - val_loss: 0.3284 - val_accuracy: 0.8889\n",
            "Epoch 15/19\n",
            "1500/1500 [==============================] - 2s 1ms/step - loss: 0.2001 - accuracy: 0.9244 - val_loss: 0.3349 - val_accuracy: 0.8840\n",
            "Epoch 16/19\n",
            "1500/1500 [==============================] - 2s 1ms/step - loss: 0.1959 - accuracy: 0.9272 - val_loss: 0.3237 - val_accuracy: 0.8925\n",
            "Epoch 17/19\n",
            "1500/1500 [==============================] - 2s 1ms/step - loss: 0.1879 - accuracy: 0.9298 - val_loss: 0.3904 - val_accuracy: 0.8751\n",
            "Epoch 18/19\n",
            "1500/1500 [==============================] - 1s 988us/step - loss: 0.1856 - accuracy: 0.9302 - val_loss: 0.3512 - val_accuracy: 0.8822\n",
            "Epoch 19/19\n",
            "1500/1500 [==============================] - 2s 1ms/step - loss: 0.1767 - accuracy: 0.9339 - val_loss: 0.3392 - val_accuracy: 0.8880\n"
          ]
        },
        {
          "data": {
            "text/plain": [
              "<keras.callbacks.History at 0x230c0ff9f40>"
            ]
          },
          "execution_count": 13,
          "metadata": {},
          "output_type": "execute_result"
        }
      ],
      "source": [
        "hypermodel = tuner.hypermodel.build(best_hps)\n",
        "\n",
        "# Retrain the model\n",
        "hypermodel.fit(img_train, label_train, epochs=best_epoch, validation_split=0.2)"
      ]
    },
    {
      "cell_type": "markdown",
      "metadata": {
        "id": "MqU5ZVAaag2v"
      },
      "source": [
        "To finish this tutorial, evaluate the hypermodel on the test data."
      ]
    },
    {
      "cell_type": "code",
      "execution_count": 20,
      "metadata": {},
      "outputs": [
        {
          "name": "stdout",
          "output_type": "stream",
          "text": [
            "Model: \"sequential_2\"\n",
            "_________________________________________________________________\n",
            " Layer (type)                Output Shape              Param #   \n",
            "=================================================================\n",
            " flatten_2 (Flatten)         (None, 784)               0         \n",
            "                                                                 \n",
            " dense_4 (Dense)             (None, 160)               125600    \n",
            "                                                                 \n",
            " dense_5 (Dense)             (None, 10)                1610      \n",
            "                                                                 \n",
            "=================================================================\n",
            "Total params: 127,210\n",
            "Trainable params: 127,210\n",
            "Non-trainable params: 0\n",
            "_________________________________________________________________\n"
          ]
        }
      ],
      "source": [
        "hypermodel.summary()"
      ]
    },
    {
      "cell_type": "code",
      "execution_count": 14,
      "metadata": {
        "colab": {
          "base_uri": "https://localhost:8080/"
        },
        "id": "9E0BTp9Ealjb",
        "outputId": "f4596ccc-f8bf-4f46-de4c-2e2651411f8c"
      },
      "outputs": [
        {
          "name": "stdout",
          "output_type": "stream",
          "text": [
            "313/313 [==============================] - 0s 920us/step - loss: 0.3731 - accuracy: 0.8800\n",
            "[test loss, test accuracy]: [0.3731193244457245, 0.8799999952316284]\n"
          ]
        }
      ],
      "source": [
        "eval_result = hypermodel.evaluate(img_test, label_test)\n",
        "print(\"[test loss, test accuracy]:\", eval_result)"
      ]
    },
    {
      "cell_type": "code",
      "execution_count": 15,
      "metadata": {
        "id": "7FvJO4W-Gr8n"
      },
      "outputs": [],
      "source": [
        "predicted_y = hypermodel.predict(img_test)"
      ]
    },
    {
      "cell_type": "code",
      "execution_count": 16,
      "metadata": {
        "colab": {
          "base_uri": "https://localhost:8080/"
        },
        "id": "c68_RJ60K2km",
        "outputId": "eb1f5671-ef8f-48c6-f4ae-f37227b59531"
      },
      "outputs": [
        {
          "data": {
            "text/plain": [
              "array([-11.634365 , -13.770204 , -15.17868  , -19.344828 , -13.221909 ,\n",
              "        -3.642958 , -12.304321 ,   1.7111726, -18.427021 ,   5.318537 ],\n",
              "      dtype=float32)"
            ]
          },
          "execution_count": 16,
          "metadata": {},
          "output_type": "execute_result"
        }
      ],
      "source": [
        "predicted_y[0]"
      ]
    },
    {
      "cell_type": "code",
      "execution_count": 17,
      "metadata": {
        "colab": {
          "base_uri": "https://localhost:8080/",
          "height": 36
        },
        "id": "ulAcZIpnMYzG",
        "outputId": "9d7a355d-4102-4686-cb0f-47869957e184"
      },
      "outputs": [
        {
          "data": {
            "text/plain": [
              "'1.1.0'"
            ]
          },
          "execution_count": 17,
          "metadata": {},
          "output_type": "execute_result"
        }
      ],
      "source": [
        "kt.__version__"
      ]
    },
    {
      "cell_type": "code",
      "execution_count": 18,
      "metadata": {
        "colab": {
          "base_uri": "https://localhost:8080/",
          "height": 36
        },
        "id": "EZtJIK96Ouut",
        "outputId": "2a6664de-e700-48bb-9d00-7652241c9588"
      },
      "outputs": [
        {
          "data": {
            "text/plain": [
              "'2.7.0'"
            ]
          },
          "execution_count": 18,
          "metadata": {},
          "output_type": "execute_result"
        }
      ],
      "source": [
        "tf.__version__"
      ]
    },
    {
      "cell_type": "code",
      "execution_count": 19,
      "metadata": {
        "colab": {
          "base_uri": "https://localhost:8080/",
          "height": 36
        },
        "id": "alQIp4UcOmmn",
        "outputId": "f71d4212-e787-4f32-e438-652c4b13a48b"
      },
      "outputs": [
        {
          "data": {
            "text/plain": [
              "'2.7.0'"
            ]
          },
          "execution_count": 19,
          "metadata": {},
          "output_type": "execute_result"
        }
      ],
      "source": [
        "keras.__version__"
      ]
    },
    {
      "cell_type": "markdown",
      "metadata": {
        "id": "EQRpPHZsz-eC"
      },
      "source": [
        "The `my_dir/intro_to_kt` directory contains detailed logs and checkpoints for every trial (model configuration) run during the hyperparameter search. If you re-run the hyperparameter search, the Keras Tuner uses the existing state from these logs to resume the search. To disable this behavior, pass an additional `overwrite=True` argument while instantiating the tuner."
      ]
    },
    {
      "cell_type": "markdown",
      "metadata": {
        "id": "sKwLOzKpFGAj"
      },
      "source": [
        "## Summary\n",
        "\n",
        "In this tutorial, you learned how to use the Keras Tuner to tune hyperparameters for a model. To learn more about the Keras Tuner, check out these additional resources:\n",
        "\n",
        "* [Keras Tuner on the TensorFlow blog](https://blog.tensorflow.org/2020/01/hyperparameter-tuning-with-keras-tuner.html)\n",
        "* [Keras Tuner website](https://keras-team.github.io/keras-tuner/)\n",
        "\n",
        "Also check out the [HParams Dashboard](https://www.tensorflow.org/tensorboard/hyperparameter_tuning_with_hparams) in TensorBoard to interactively tune your model hyperparameters."
      ]
    }
  ],
  "metadata": {
    "accelerator": "GPU",
    "colab": {
      "collapsed_sections": [
        "Tce3stUlHN0L"
      ],
      "name": "Copy of keras_tuner.ipynb",
      "provenance": []
    },
    "kernelspec": {
      "display_name": "Python 3",
      "name": "python3"
    },
    "language_info": {
      "codemirror_mode": {
        "name": "ipython",
        "version": 3
      },
      "file_extension": ".py",
      "mimetype": "text/x-python",
      "name": "python",
      "nbconvert_exporter": "python",
      "pygments_lexer": "ipython3",
      "version": "3.9.7"
    }
  },
  "nbformat": 4,
  "nbformat_minor": 0
}
