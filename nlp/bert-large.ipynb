{
 "cells": [
  {
   "cell_type": "markdown",
   "id": "5d47b44f",
   "metadata": {
    "papermill": {
     "duration": 0.049006,
     "end_time": "2021-12-16T05:01:36.739905",
     "exception": false,
     "start_time": "2021-12-16T05:01:36.690899",
     "status": "completed"
    },
    "tags": []
   },
   "source": [
    "# cpoied from https://www.kaggle.com/julian3833/feedback-baseline-sentence-classifier-0-226\n",
    "# Thanks for his work!\n",
    "\n",
    "# If this notebook is useful to you, can you give me an upvote\n",
    "\n",
    "###  Starter noteboook for the competition [Feedback Prize - Evaluating Student Writing](https://www.kaggle.com/c/feedback-prize-2021/), framing the task as a sentence classificaiton problem, using HuggingFace, BERT and the Trainer API.\n",
    "\n",
    "\n",
    "#### A lot of competitions going on, right my friends? ;)\n",
    "\n",
    "### The nature of the task of this competition is not trivially easy to map to an \"orthodox\" NLP problem, at least as far as I can tell. Is it a Token classification as NER/POS? Is it a... hindi bilingual question answering lol?\n",
    "\n",
    "<h2> In this notebook I will try to present one of the possible approaches, this is: <span style=\"color:blue\"> Sentence Classification</span>.</h2>\n",
    "\n",
    "---\n",
    "\n",
    "The agenda is as follows:\n",
    "1. A very quick EDA (there are various EDA notebooks already against which I cannot offer any value)\n",
    "2. Preprocess to obtain a sentence classification dataset\n",
    "3. Fine-tune a BERT over that sentence classficiation datasdet\n",
    "4. Submit\n",
    "\n",
    "---\n",
    "\n",
    "## Please, _DO_ upvote if you find it useful or interesting!! \n"
   ]
  },
  {
   "cell_type": "markdown",
   "id": "6feb5981",
   "metadata": {
    "papermill": {
     "duration": 0.038296,
     "end_time": "2021-12-16T05:01:36.818655",
     "exception": false,
     "start_time": "2021-12-16T05:01:36.780359",
     "status": "completed"
    },
    "tags": []
   },
   "source": [
    "# Imports"
   ]
  },
  {
   "cell_type": "code",
   "execution_count": 1,
   "id": "cc0fd5e9",
   "metadata": {
    "execution": {
     "iopub.execute_input": "2021-12-16T05:01:36.905947Z",
     "iopub.status.busy": "2021-12-16T05:01:36.905378Z",
     "iopub.status.idle": "2021-12-16T05:01:45.227006Z",
     "shell.execute_reply": "2021-12-16T05:01:45.227817Z",
     "shell.execute_reply.started": "2021-12-15T00:13:22.076332Z"
    },
    "papermill": {
     "duration": 8.371411,
     "end_time": "2021-12-16T05:01:45.228085",
     "exception": false,
     "start_time": "2021-12-16T05:01:36.856674",
     "status": "completed"
    },
    "tags": []
   },
   "outputs": [],
   "source": [
    "import os\n",
    "import nltk\n",
    "import pandas as pd\n",
    "from tqdm.auto import tqdm\n",
    "\n",
    "from datasets import Dataset\n",
    "import transformers\n",
    "from transformers import AutoTokenizer, AutoModelForSequenceClassification\n",
    "from transformers import TrainingArguments, Trainer"
   ]
  },
  {
   "cell_type": "markdown",
   "id": "3eb678eb",
   "metadata": {
    "papermill": {
     "duration": 0.035706,
     "end_time": "2021-12-16T05:01:45.301381",
     "exception": false,
     "start_time": "2021-12-16T05:01:45.265675",
     "status": "completed"
    },
    "tags": []
   },
   "source": [
    "# 10,000 foot view of the data\n",
    "\n",
    "Let's take a quick glance at the `train.csv` file:"
   ]
  },
  {
   "cell_type": "code",
   "execution_count": 2,
   "id": "6c262a4f",
   "metadata": {
    "execution": {
     "iopub.execute_input": "2021-12-16T05:01:45.375990Z",
     "iopub.status.busy": "2021-12-16T05:01:45.375389Z",
     "iopub.status.idle": "2021-12-16T05:01:47.274991Z",
     "shell.execute_reply": "2021-12-16T05:01:47.275423Z",
     "shell.execute_reply.started": "2021-12-15T00:13:22.08255Z"
    },
    "papermill": {
     "duration": 1.939747,
     "end_time": "2021-12-16T05:01:47.275578",
     "exception": false,
     "start_time": "2021-12-16T05:01:45.335831",
     "status": "completed"
    },
    "tags": []
   },
   "outputs": [
    {
     "data": {
      "text/html": [
       "<div>\n",
       "<style scoped>\n",
       "    .dataframe tbody tr th:only-of-type {\n",
       "        vertical-align: middle;\n",
       "    }\n",
       "\n",
       "    .dataframe tbody tr th {\n",
       "        vertical-align: top;\n",
       "    }\n",
       "\n",
       "    .dataframe thead th {\n",
       "        text-align: right;\n",
       "    }\n",
       "</style>\n",
       "<table border=\"1\" class=\"dataframe\">\n",
       "  <thead>\n",
       "    <tr style=\"text-align: right;\">\n",
       "      <th></th>\n",
       "      <th>id</th>\n",
       "      <th>discourse_id</th>\n",
       "      <th>discourse_start</th>\n",
       "      <th>discourse_end</th>\n",
       "      <th>discourse_text</th>\n",
       "      <th>discourse_type</th>\n",
       "      <th>discourse_type_num</th>\n",
       "      <th>predictionstring</th>\n",
       "    </tr>\n",
       "  </thead>\n",
       "  <tbody>\n",
       "    <tr>\n",
       "      <th>0</th>\n",
       "      <td>423A1CA112E2</td>\n",
       "      <td>1622627660524</td>\n",
       "      <td>8</td>\n",
       "      <td>229</td>\n",
       "      <td>Modern humans today are always on their phone....</td>\n",
       "      <td>Lead</td>\n",
       "      <td>Lead 1</td>\n",
       "      <td>1 2 3 4 5 6 7 8 9 10 11 12 13 14 15 16 17 18 1...</td>\n",
       "    </tr>\n",
       "    <tr>\n",
       "      <th>1</th>\n",
       "      <td>423A1CA112E2</td>\n",
       "      <td>1622627653021</td>\n",
       "      <td>230</td>\n",
       "      <td>312</td>\n",
       "      <td>They are some really bad consequences when stu...</td>\n",
       "      <td>Position</td>\n",
       "      <td>Position 1</td>\n",
       "      <td>45 46 47 48 49 50 51 52 53 54 55 56 57 58 59</td>\n",
       "    </tr>\n",
       "    <tr>\n",
       "      <th>2</th>\n",
       "      <td>423A1CA112E2</td>\n",
       "      <td>1622627671020</td>\n",
       "      <td>313</td>\n",
       "      <td>401</td>\n",
       "      <td>Some certain areas in the United States ban ph...</td>\n",
       "      <td>Evidence</td>\n",
       "      <td>Evidence 1</td>\n",
       "      <td>60 61 62 63 64 65 66 67 68 69 70 71 72 73 74 75</td>\n",
       "    </tr>\n",
       "    <tr>\n",
       "      <th>3</th>\n",
       "      <td>423A1CA112E2</td>\n",
       "      <td>1622627696365</td>\n",
       "      <td>402</td>\n",
       "      <td>758</td>\n",
       "      <td>When people have phones, they know about certa...</td>\n",
       "      <td>Evidence</td>\n",
       "      <td>Evidence 2</td>\n",
       "      <td>76 77 78 79 80 81 82 83 84 85 86 87 88 89 90 9...</td>\n",
       "    </tr>\n",
       "    <tr>\n",
       "      <th>4</th>\n",
       "      <td>423A1CA112E2</td>\n",
       "      <td>1622627759780</td>\n",
       "      <td>759</td>\n",
       "      <td>886</td>\n",
       "      <td>Driving is one of the way how to get around. P...</td>\n",
       "      <td>Claim</td>\n",
       "      <td>Claim 1</td>\n",
       "      <td>139 140 141 142 143 144 145 146 147 148 149 15...</td>\n",
       "    </tr>\n",
       "  </tbody>\n",
       "</table>\n",
       "</div>"
      ],
      "text/plain": [
       "             id   discourse_id  discourse_start  discourse_end  \\\n",
       "0  423A1CA112E2  1622627660524                8            229   \n",
       "1  423A1CA112E2  1622627653021              230            312   \n",
       "2  423A1CA112E2  1622627671020              313            401   \n",
       "3  423A1CA112E2  1622627696365              402            758   \n",
       "4  423A1CA112E2  1622627759780              759            886   \n",
       "\n",
       "                                      discourse_text discourse_type  \\\n",
       "0  Modern humans today are always on their phone....           Lead   \n",
       "1  They are some really bad consequences when stu...       Position   \n",
       "2  Some certain areas in the United States ban ph...       Evidence   \n",
       "3  When people have phones, they know about certa...       Evidence   \n",
       "4  Driving is one of the way how to get around. P...          Claim   \n",
       "\n",
       "  discourse_type_num                                   predictionstring  \n",
       "0             Lead 1  1 2 3 4 5 6 7 8 9 10 11 12 13 14 15 16 17 18 1...  \n",
       "1         Position 1       45 46 47 48 49 50 51 52 53 54 55 56 57 58 59  \n",
       "2         Evidence 1    60 61 62 63 64 65 66 67 68 69 70 71 72 73 74 75  \n",
       "3         Evidence 2  76 77 78 79 80 81 82 83 84 85 86 87 88 89 90 9...  \n",
       "4            Claim 1  139 140 141 142 143 144 145 146 147 148 149 15...  "
      ]
     },
     "execution_count": 2,
     "metadata": {},
     "output_type": "execute_result"
    }
   ],
   "source": [
    "# Constants\n",
    "TRAIN_CSV = \"../input/feedback-prize-2021/train.csv\"\n",
    "SUB_CSV = \"../input/feedback-prize-2021/sample_submission.csv\"\n",
    "TRAIN_PATH = \"../input/feedback-prize-2021/train\"\n",
    "TEST_PATH = \"../input/feedback-prize-2021/test\"\n",
    "\n",
    "# Load DF\n",
    "df = pd.read_csv(TRAIN_CSV, dtype={'discourse_id': int, 'discourse_start': int, 'discourse_end': int})\n",
    "df.head()"
   ]
  },
  {
   "cell_type": "markdown",
   "id": "99e027f4",
   "metadata": {
    "papermill": {
     "duration": 0.03438,
     "end_time": "2021-12-16T05:01:47.345363",
     "exception": false,
     "start_time": "2021-12-16T05:01:47.310983",
     "status": "completed"
    },
    "tags": []
   },
   "source": [
    "From the [Data tab](https://www.kaggle.com/c/feedback-prize-2021/data):\n",
    "\n",
    "* id - ID code for essay response\n",
    "* discourse_id - ID code for discourse element\n",
    "* discourse_start - character position where discourse element begins in the essay response\n",
    "* discourse_end - character position where discourse element ends in the essay response\n",
    "* discourse_text - text of discourse element\n",
    "* discourse_type - classification of discourse element\n",
    "* discourse_type_num - enumerated class label of discourse element\n",
    "* predictionstring - the word indices of the training sample, as required for predictions\n"
   ]
  },
  {
   "cell_type": "code",
   "execution_count": 3,
   "id": "27923abe",
   "metadata": {
    "execution": {
     "iopub.execute_input": "2021-12-16T05:01:47.493726Z",
     "iopub.status.busy": "2021-12-16T05:01:47.421023Z",
     "iopub.status.idle": "2021-12-16T05:01:47.501650Z",
     "shell.execute_reply": "2021-12-16T05:01:47.502058Z",
     "shell.execute_reply.started": "2021-12-14T23:33:29.823941Z"
    },
    "papermill": {
     "duration": 0.121976,
     "end_time": "2021-12-16T05:01:47.502225",
     "exception": false,
     "start_time": "2021-12-16T05:01:47.380249",
     "status": "completed"
    },
    "tags": []
   },
   "outputs": [
    {
     "data": {
      "text/plain": [
       "id                    0\n",
       "discourse_id          0\n",
       "discourse_start       0\n",
       "discourse_end         0\n",
       "discourse_text        0\n",
       "discourse_type        0\n",
       "discourse_type_num    0\n",
       "predictionstring      0\n",
       "dtype: int64"
      ]
     },
     "execution_count": 3,
     "metadata": {},
     "output_type": "execute_result"
    }
   ],
   "source": [
    "# No nulls\n",
    "df.isnull().sum()"
   ]
  },
  {
   "cell_type": "markdown",
   "id": "75a1eca4",
   "metadata": {
    "papermill": {
     "duration": 0.035576,
     "end_time": "2021-12-16T05:01:47.572865",
     "exception": false,
     "start_time": "2021-12-16T05:01:47.537289",
     "status": "completed"
    },
    "tags": []
   },
   "source": [
    "## Let's see the first example in some more detail"
   ]
  },
  {
   "cell_type": "code",
   "execution_count": 4,
   "id": "6353b584",
   "metadata": {
    "execution": {
     "iopub.execute_input": "2021-12-16T05:01:47.646198Z",
     "iopub.status.busy": "2021-12-16T05:01:47.645362Z",
     "iopub.status.idle": "2021-12-16T05:01:47.649902Z",
     "shell.execute_reply": "2021-12-16T05:01:47.649412Z",
     "shell.execute_reply.started": "2021-12-14T23:33:29.904961Z"
    },
    "papermill": {
     "duration": 0.042191,
     "end_time": "2021-12-16T05:01:47.650010",
     "exception": false,
     "start_time": "2021-12-16T05:01:47.607819",
     "status": "completed"
    },
    "tags": []
   },
   "outputs": [],
   "source": [
    "a_id = \"423A1CA112E2\""
   ]
  },
  {
   "cell_type": "code",
   "execution_count": 5,
   "id": "df738293",
   "metadata": {
    "execution": {
     "iopub.execute_input": "2021-12-16T05:01:47.725035Z",
     "iopub.status.busy": "2021-12-16T05:01:47.724418Z",
     "iopub.status.idle": "2021-12-16T05:01:47.733010Z",
     "shell.execute_reply": "2021-12-16T05:01:47.732569Z",
     "shell.execute_reply.started": "2021-12-15T00:13:22.09295Z"
    },
    "papermill": {
     "duration": 0.048084,
     "end_time": "2021-12-16T05:01:47.733128",
     "exception": false,
     "start_time": "2021-12-16T05:01:47.685044",
     "status": "completed"
    },
    "tags": []
   },
   "outputs": [
    {
     "name": "stdout",
     "output_type": "stream",
     "text": [
      "Phones\n",
      "\n",
      "Modern humans today are always on their phone. They are always on their phone more than 5 hours a day no stop .All they do is text back and forward and just have group Chats on social media. They even do it while driving. They are some really bad consequences when stuff happens when it comes to a phone. Some certain areas in the United States ban phones from class rooms just because of it.\n",
      "\n",
      "When people have phones, they know about certain apps that they have .Apps like Facebook Twitter Instagram and Snapchat. So like if a friend moves away and you want to be in contact you can still be in contact by posting videos or text messages. People always have different ways how to communicate with a phone. Phones have changed due to our generation.\n",
      "\n",
      "Driving is one of the way how to get around. People always be on their phones while doing it. Which can cause serious Problems. That's why there's a thing that's called no texting while driving. That's a really important thing to remember. Some people still do it because they think It's stupid. No matter what they do they still have to obey it because that's the only way how did he save.\n",
      "\n",
      "Sometimes on the news there is either an accident or a suicide. It might involve someone not looking where they're going or tweet that someone sent. It either injury or death. If a mysterious number says I'm going to kill you and they know where you live but you don't know the person's contact\n",
      "\n",
      ",It makes you puzzled and make you start to freak out. Which can end up really badly.\n",
      "\n",
      "Phones are fine to use and it's also the best way to come over help. If you go through a problem and you can't find help you ,always have a phone there with you. Even though phones are used almost every day as long as you're safe it would come into use if you get into trouble. Make sure you do not be like this phone while you're in the middle of driving. The news always updated when people do something stupid around that involves their phones. The safest way is the best way to stay safe.    \n"
     ]
    }
   ],
   "source": [
    "def get_text(a_id):\n",
    "    a_file = f\"{TRAIN_PATH}/{a_id}.txt\"\n",
    "    with open(a_file, \"r\") as fp:\n",
    "        txt = fp.read()\n",
    "    return txt\n",
    "\n",
    "txt = get_text(a_id)\n",
    "print(txt)"
   ]
  },
  {
   "cell_type": "code",
   "execution_count": 6,
   "id": "362f2ebd",
   "metadata": {
    "execution": {
     "iopub.execute_input": "2021-12-16T05:01:47.841715Z",
     "iopub.status.busy": "2021-12-16T05:01:47.831543Z",
     "iopub.status.idle": "2021-12-16T05:01:47.845540Z",
     "shell.execute_reply": "2021-12-16T05:01:47.845055Z",
     "shell.execute_reply.started": "2021-12-14T23:33:29.923096Z"
    },
    "papermill": {
     "duration": 0.076772,
     "end_time": "2021-12-16T05:01:47.845654",
     "exception": false,
     "start_time": "2021-12-16T05:01:47.768882",
     "status": "completed"
    },
    "tags": []
   },
   "outputs": [
    {
     "data": {
      "text/html": [
       "<div>\n",
       "<style scoped>\n",
       "    .dataframe tbody tr th:only-of-type {\n",
       "        vertical-align: middle;\n",
       "    }\n",
       "\n",
       "    .dataframe tbody tr th {\n",
       "        vertical-align: top;\n",
       "    }\n",
       "\n",
       "    .dataframe thead th {\n",
       "        text-align: right;\n",
       "    }\n",
       "</style>\n",
       "<table border=\"1\" class=\"dataframe\">\n",
       "  <thead>\n",
       "    <tr style=\"text-align: right;\">\n",
       "      <th></th>\n",
       "      <th>id</th>\n",
       "      <th>discourse_id</th>\n",
       "      <th>discourse_start</th>\n",
       "      <th>discourse_end</th>\n",
       "      <th>discourse_text</th>\n",
       "      <th>discourse_type</th>\n",
       "      <th>discourse_type_num</th>\n",
       "      <th>predictionstring</th>\n",
       "    </tr>\n",
       "  </thead>\n",
       "  <tbody>\n",
       "    <tr>\n",
       "      <th>0</th>\n",
       "      <td>423A1CA112E2</td>\n",
       "      <td>1622627660524</td>\n",
       "      <td>8</td>\n",
       "      <td>229</td>\n",
       "      <td>Modern humans today are always on their phone....</td>\n",
       "      <td>Lead</td>\n",
       "      <td>Lead 1</td>\n",
       "      <td>1 2 3 4 5 6 7 8 9 10 11 12 13 14 15 16 17 18 1...</td>\n",
       "    </tr>\n",
       "    <tr>\n",
       "      <th>1</th>\n",
       "      <td>423A1CA112E2</td>\n",
       "      <td>1622627653021</td>\n",
       "      <td>230</td>\n",
       "      <td>312</td>\n",
       "      <td>They are some really bad consequences when stu...</td>\n",
       "      <td>Position</td>\n",
       "      <td>Position 1</td>\n",
       "      <td>45 46 47 48 49 50 51 52 53 54 55 56 57 58 59</td>\n",
       "    </tr>\n",
       "    <tr>\n",
       "      <th>2</th>\n",
       "      <td>423A1CA112E2</td>\n",
       "      <td>1622627671020</td>\n",
       "      <td>313</td>\n",
       "      <td>401</td>\n",
       "      <td>Some certain areas in the United States ban ph...</td>\n",
       "      <td>Evidence</td>\n",
       "      <td>Evidence 1</td>\n",
       "      <td>60 61 62 63 64 65 66 67 68 69 70 71 72 73 74 75</td>\n",
       "    </tr>\n",
       "    <tr>\n",
       "      <th>3</th>\n",
       "      <td>423A1CA112E2</td>\n",
       "      <td>1622627696365</td>\n",
       "      <td>402</td>\n",
       "      <td>758</td>\n",
       "      <td>When people have phones, they know about certa...</td>\n",
       "      <td>Evidence</td>\n",
       "      <td>Evidence 2</td>\n",
       "      <td>76 77 78 79 80 81 82 83 84 85 86 87 88 89 90 9...</td>\n",
       "    </tr>\n",
       "    <tr>\n",
       "      <th>4</th>\n",
       "      <td>423A1CA112E2</td>\n",
       "      <td>1622627759780</td>\n",
       "      <td>759</td>\n",
       "      <td>886</td>\n",
       "      <td>Driving is one of the way how to get around. P...</td>\n",
       "      <td>Claim</td>\n",
       "      <td>Claim 1</td>\n",
       "      <td>139 140 141 142 143 144 145 146 147 148 149 15...</td>\n",
       "    </tr>\n",
       "    <tr>\n",
       "      <th>5</th>\n",
       "      <td>423A1CA112E2</td>\n",
       "      <td>1622627780655</td>\n",
       "      <td>887</td>\n",
       "      <td>1150</td>\n",
       "      <td>That's why there's a thing that's called no te...</td>\n",
       "      <td>Evidence</td>\n",
       "      <td>Evidence 3</td>\n",
       "      <td>163 164 165 166 167 168 169 170 171 172 173 17...</td>\n",
       "    </tr>\n",
       "    <tr>\n",
       "      <th>6</th>\n",
       "      <td>423A1CA112E2</td>\n",
       "      <td>1622627811787</td>\n",
       "      <td>1151</td>\n",
       "      <td>1533</td>\n",
       "      <td>Sometimes on the news there is either an accid...</td>\n",
       "      <td>Evidence</td>\n",
       "      <td>Evidence 4</td>\n",
       "      <td>211 212 213 214 215 216 217 218 219 220 221 22...</td>\n",
       "    </tr>\n",
       "    <tr>\n",
       "      <th>7</th>\n",
       "      <td>423A1CA112E2</td>\n",
       "      <td>1622627585180</td>\n",
       "      <td>1534</td>\n",
       "      <td>1602</td>\n",
       "      <td>Phones are fine to use and it's also the best ...</td>\n",
       "      <td>Claim</td>\n",
       "      <td>Claim 2</td>\n",
       "      <td>282 283 284 285 286 287 288 289 290 291 292 29...</td>\n",
       "    </tr>\n",
       "    <tr>\n",
       "      <th>8</th>\n",
       "      <td>423A1CA112E2</td>\n",
       "      <td>1622627895668</td>\n",
       "      <td>1603</td>\n",
       "      <td>1890</td>\n",
       "      <td>If you go through a problem and you can't find...</td>\n",
       "      <td>Evidence</td>\n",
       "      <td>Evidence 5</td>\n",
       "      <td>297 298 299 300 301 302 303 304 305 306 307 30...</td>\n",
       "    </tr>\n",
       "    <tr>\n",
       "      <th>9</th>\n",
       "      <td>423A1CA112E2</td>\n",
       "      <td>1622627628524</td>\n",
       "      <td>1891</td>\n",
       "      <td>2027</td>\n",
       "      <td>The news always updated when people do somethi...</td>\n",
       "      <td>Concluding Statement</td>\n",
       "      <td>Concluding Statement 1</td>\n",
       "      <td>355 356 357 358 359 360 361 362 363 364 365 36...</td>\n",
       "    </tr>\n",
       "  </tbody>\n",
       "</table>\n",
       "</div>"
      ],
      "text/plain": [
       "             id   discourse_id  discourse_start  discourse_end  \\\n",
       "0  423A1CA112E2  1622627660524                8            229   \n",
       "1  423A1CA112E2  1622627653021              230            312   \n",
       "2  423A1CA112E2  1622627671020              313            401   \n",
       "3  423A1CA112E2  1622627696365              402            758   \n",
       "4  423A1CA112E2  1622627759780              759            886   \n",
       "5  423A1CA112E2  1622627780655              887           1150   \n",
       "6  423A1CA112E2  1622627811787             1151           1533   \n",
       "7  423A1CA112E2  1622627585180             1534           1602   \n",
       "8  423A1CA112E2  1622627895668             1603           1890   \n",
       "9  423A1CA112E2  1622627628524             1891           2027   \n",
       "\n",
       "                                      discourse_text        discourse_type  \\\n",
       "0  Modern humans today are always on their phone....                  Lead   \n",
       "1  They are some really bad consequences when stu...              Position   \n",
       "2  Some certain areas in the United States ban ph...              Evidence   \n",
       "3  When people have phones, they know about certa...              Evidence   \n",
       "4  Driving is one of the way how to get around. P...                 Claim   \n",
       "5  That's why there's a thing that's called no te...              Evidence   \n",
       "6  Sometimes on the news there is either an accid...              Evidence   \n",
       "7  Phones are fine to use and it's also the best ...                 Claim   \n",
       "8  If you go through a problem and you can't find...              Evidence   \n",
       "9  The news always updated when people do somethi...  Concluding Statement   \n",
       "\n",
       "       discourse_type_num                                   predictionstring  \n",
       "0                  Lead 1  1 2 3 4 5 6 7 8 9 10 11 12 13 14 15 16 17 18 1...  \n",
       "1              Position 1       45 46 47 48 49 50 51 52 53 54 55 56 57 58 59  \n",
       "2              Evidence 1    60 61 62 63 64 65 66 67 68 69 70 71 72 73 74 75  \n",
       "3              Evidence 2  76 77 78 79 80 81 82 83 84 85 86 87 88 89 90 9...  \n",
       "4                 Claim 1  139 140 141 142 143 144 145 146 147 148 149 15...  \n",
       "5              Evidence 3  163 164 165 166 167 168 169 170 171 172 173 17...  \n",
       "6              Evidence 4  211 212 213 214 215 216 217 218 219 220 221 22...  \n",
       "7                 Claim 2  282 283 284 285 286 287 288 289 290 291 292 29...  \n",
       "8              Evidence 5  297 298 299 300 301 302 303 304 305 306 307 30...  \n",
       "9  Concluding Statement 1  355 356 357 358 359 360 361 362 363 364 365 36...  "
      ]
     },
     "execution_count": 6,
     "metadata": {},
     "output_type": "execute_result"
    }
   ],
   "source": [
    "df_example = df[df['id'] == a_id]\n",
    "df_example"
   ]
  },
  {
   "cell_type": "code",
   "execution_count": 7,
   "id": "33364766",
   "metadata": {
    "execution": {
     "iopub.execute_input": "2021-12-16T05:01:47.922446Z",
     "iopub.status.busy": "2021-12-16T05:01:47.921696Z",
     "iopub.status.idle": "2021-12-16T05:01:49.508617Z",
     "shell.execute_reply": "2021-12-16T05:01:49.507570Z",
     "shell.execute_reply.started": "2021-12-14T23:33:29.961518Z"
    },
    "papermill": {
     "duration": 1.627361,
     "end_time": "2021-12-16T05:01:49.508842",
     "exception": false,
     "start_time": "2021-12-16T05:01:47.881481",
     "status": "completed"
    },
    "tags": []
   },
   "outputs": [
    {
     "name": "stdout",
     "output_type": "stream",
     "text": [
      "15595\r\n"
     ]
    }
   ],
   "source": [
    "# Files in train path: 15595\n",
    "!ls -l {TRAIN_PATH} | wc -l"
   ]
  },
  {
   "cell_type": "code",
   "execution_count": 8,
   "id": "2334f49a",
   "metadata": {
    "execution": {
     "iopub.execute_input": "2021-12-16T05:01:49.634221Z",
     "iopub.status.busy": "2021-12-16T05:01:49.633442Z",
     "iopub.status.idle": "2021-12-16T05:01:50.356492Z",
     "shell.execute_reply": "2021-12-16T05:01:50.355984Z",
     "shell.execute_reply.started": "2021-12-14T23:33:31.386002Z"
    },
    "papermill": {
     "duration": 0.788119,
     "end_time": "2021-12-16T05:01:50.356629",
     "exception": false,
     "start_time": "2021-12-16T05:01:49.568510",
     "status": "completed"
    },
    "tags": []
   },
   "outputs": [
    {
     "name": "stdout",
     "output_type": "stream",
     "text": [
      "6\r\n"
     ]
    }
   ],
   "source": [
    "# Files in test path: 6\n",
    "!ls -l {TEST_PATH} | wc -l"
   ]
  },
  {
   "cell_type": "markdown",
   "id": "f3e79efe",
   "metadata": {
    "papermill": {
     "duration": 0.037644,
     "end_time": "2021-12-16T05:01:50.432075",
     "exception": false,
     "start_time": "2021-12-16T05:01:50.394431",
     "status": "completed"
    },
    "tags": []
   },
   "source": [
    "I will stop with the EDA here because I have already seen various very good notebooks around. I suggest you the following ones:\n",
    "\n",
    "* [Feedback Prize EDA with displacy](https://www.kaggle.com/thedrcat/feedback-prize-eda-with-displacy) by [thedrcat](https://www.kaggle.com/thedrcat/)\n",
    "* [[Feedback prize] Simple EDA](https://www.kaggle.com/ilialar/feedback-prize-simple-eda) by [ilialar](https://www.kaggle.com/ilialar)\n",
    "* [🔥📊 Feedback Prize - EDA 📊🔥](https://www.kaggle.com/odins0n/feedback-prize-eda) by [odins0n](https://www.kaggle.com/odins0n/)\n",
    "* [Feedback Prize - EDA](https://www.kaggle.com/yamqwe/feedback-prize-eda) by [yamqwe](https://www.kaggle.com/yamqwe/)\n",
    "\n",
    "\n",
    "Let's get into the sentence classification idea!\n"
   ]
  },
  {
   "cell_type": "markdown",
   "id": "3e077606",
   "metadata": {
    "papermill": {
     "duration": 0.036446,
     "end_time": "2021-12-16T05:01:50.505670",
     "exception": false,
     "start_time": "2021-12-16T05:01:50.469224",
     "status": "completed"
    },
    "tags": []
   },
   "source": [
    "# Sentence Classifier with HuggingFace 🤗"
   ]
  },
  {
   "cell_type": "markdown",
   "id": "2ed103eb",
   "metadata": {
    "papermill": {
     "duration": 0.036619,
     "end_time": "2021-12-16T05:01:50.579182",
     "exception": false,
     "start_time": "2021-12-16T05:01:50.542563",
     "status": "completed"
    },
    "tags": []
   },
   "source": [
    "# Create a sentence classification datasety\n",
    "\n",
    "As far as I know, this problem is not trivially mapped to one of the \"typical\" NLP tasks. \n",
    "It might be close to NER / POS, but the fact that the entities are large makes me doubt about it.\n",
    "\n",
    "I'm looking forward for the community discussion about the different possible approaches to this problem. \n",
    "\n",
    "\n",
    "Although I might be missing something very obvious, this notebook proposes the following approach, that is a multiclass classifier:\n",
    "\n",
    "1. Split the texts into sentences (x)\n",
    "2. Assign each sentence a class (y).\n",
    "3. Train a normal sequence classifier on those sentences\n",
    "\n",
    "There are 7 classes and the labeled sections (sometimes) exceed sentences. We will preprocess them to have only sentences. That way, we avoid the problem of detecting when a element starts and when it ends for now.\n"
   ]
  },
  {
   "cell_type": "code",
   "execution_count": 9,
   "id": "29f3541c",
   "metadata": {
    "execution": {
     "iopub.execute_input": "2021-12-16T05:01:50.681887Z",
     "iopub.status.busy": "2021-12-16T05:01:50.681224Z",
     "iopub.status.idle": "2021-12-16T05:01:50.683857Z",
     "shell.execute_reply": "2021-12-16T05:01:50.684271Z",
     "shell.execute_reply.started": "2021-12-14T23:33:32.075158Z"
    },
    "papermill": {
     "duration": 0.06882,
     "end_time": "2021-12-16T05:01:50.684407",
     "exception": false,
     "start_time": "2021-12-16T05:01:50.615587",
     "status": "completed"
    },
    "tags": []
   },
   "outputs": [
    {
     "data": {
      "text/plain": [
       "Claim                   0.347959\n",
       "Evidence                0.316731\n",
       "Position                0.106859\n",
       "Concluding Statement    0.093594\n",
       "Lead                    0.064487\n",
       "Counterclaim            0.040314\n",
       "Rebuttal                0.030057\n",
       "Name: discourse_type, dtype: float64"
      ]
     },
     "execution_count": 9,
     "metadata": {},
     "output_type": "execute_result"
    }
   ],
   "source": [
    "# There are 7 classes:\n",
    "df['discourse_type'].value_counts(normalize=True)"
   ]
  },
  {
   "cell_type": "markdown",
   "id": "785d78dc",
   "metadata": {
    "papermill": {
     "duration": 0.036321,
     "end_time": "2021-12-16T05:01:50.758501",
     "exception": false,
     "start_time": "2021-12-16T05:01:50.722180",
     "status": "completed"
    },
    "tags": []
   },
   "source": [
    "## Encode classes as ints\n",
    "Some sections don't belong to any class. We will label them as `No Class` so we can discard those sections and avoid false positives."
   ]
  },
  {
   "cell_type": "code",
   "execution_count": 10,
   "id": "6e831ce6",
   "metadata": {
    "execution": {
     "iopub.execute_input": "2021-12-16T05:01:50.849246Z",
     "iopub.status.busy": "2021-12-16T05:01:50.846075Z",
     "iopub.status.idle": "2021-12-16T05:01:50.857475Z",
     "shell.execute_reply": "2021-12-16T05:01:50.857878Z",
     "shell.execute_reply.started": "2021-12-15T00:13:22.102789Z"
    },
    "papermill": {
     "duration": 0.062311,
     "end_time": "2021-12-16T05:01:50.858028",
     "exception": false,
     "start_time": "2021-12-16T05:01:50.795717",
     "status": "completed"
    },
    "tags": []
   },
   "outputs": [
    {
     "name": "stdout",
     "output_type": "stream",
     "text": [
      "{0: 'Lead', 1: 'Position', 2: 'Evidence', 3: 'Claim', 4: 'Concluding Statement', 5: 'Counterclaim', 6: 'Rebuttal', 7: 'No Class'}\n"
     ]
    },
    {
     "data": {
      "text/plain": [
       "{'Lead': 0,\n",
       " 'Position': 1,\n",
       " 'Evidence': 2,\n",
       " 'Claim': 3,\n",
       " 'Concluding Statement': 4,\n",
       " 'Counterclaim': 5,\n",
       " 'Rebuttal': 6,\n",
       " 'No Class': 7}"
      ]
     },
     "execution_count": 10,
     "metadata": {},
     "output_type": "execute_result"
    }
   ],
   "source": [
    "ID2CLASS = dict(enumerate(df['discourse_type'].unique().tolist() + ['No Class']))\n",
    "CLASS2ID = {v: k for k, v in ID2CLASS.items()}\n",
    "print(ID2CLASS)\n",
    "CLASS2ID"
   ]
  },
  {
   "cell_type": "markdown",
   "id": "3f5872ca",
   "metadata": {
    "papermill": {
     "duration": 0.037777,
     "end_time": "2021-12-16T05:01:50.933702",
     "exception": false,
     "start_time": "2021-12-16T05:01:50.895925",
     "status": "completed"
    },
    "tags": []
   },
   "source": [
    "\n",
    "\n",
    "## Dataset functions: `fill_gaps()`, `get_elements()`, and `get_x_samples()`\n",
    "\n",
    "Here we write the functions `fill_gaps` which will to just that. I leave the code I use for developing and below there is the condensed function."
   ]
  },
  {
   "cell_type": "code",
   "execution_count": 11,
   "id": "bdb03174",
   "metadata": {
    "execution": {
     "iopub.execute_input": "2021-12-16T05:01:51.021896Z",
     "iopub.status.busy": "2021-12-16T05:01:51.013100Z",
     "iopub.status.idle": "2021-12-16T05:01:51.029105Z",
     "shell.execute_reply": "2021-12-16T05:01:51.028601Z",
     "shell.execute_reply.started": "2021-12-14T23:33:32.105499Z"
    },
    "papermill": {
     "duration": 0.057515,
     "end_time": "2021-12-16T05:01:51.029275",
     "exception": false,
     "start_time": "2021-12-16T05:01:50.971760",
     "status": "completed"
    },
    "tags": []
   },
   "outputs": [],
   "source": [
    "text_ids = df['id'].unique().tolist()"
   ]
  },
  {
   "cell_type": "code",
   "execution_count": 12,
   "id": "e4022626",
   "metadata": {
    "execution": {
     "iopub.execute_input": "2021-12-16T05:01:51.109984Z",
     "iopub.status.busy": "2021-12-16T05:01:51.109347Z",
     "iopub.status.idle": "2021-12-16T05:01:51.118271Z",
     "shell.execute_reply": "2021-12-16T05:01:51.118682Z",
     "shell.execute_reply.started": "2021-12-14T23:33:32.131445Z"
    },
    "papermill": {
     "duration": 0.051466,
     "end_time": "2021-12-16T05:01:51.118820",
     "exception": false,
     "start_time": "2021-12-16T05:01:51.067354",
     "status": "completed"
    },
    "tags": []
   },
   "outputs": [
    {
     "name": "stdout",
     "output_type": "stream",
     "text": [
      "Operating a motor vehicle while on your cell phone\n",
      "\n",
      "Being on your device and driving could be an overly dangerous choice in life. Many people around the world are injured by this situation every day. It could lead to accidents and altercations. In addition it would even cost you your licences. The most detrimental outcome is death. There are far more outcomes to operating a motor vehicle while being on a cell phone. Drivers should not be able to use cell phones in any capacity while operating a motor vehicle.\n",
      "\n",
      "One leading cause to motor vehicle accidents is being on your cell phone. It could lead to accidents and altercations. Yourself and the passengers are more at risk to bodily injuries and harm. These bodily injuries and harm can range anywhere from mild to critical condition. In an motor vehicle accident there is more than one involved. There is another person or group of people that could have the exact same conditions than the driver on the cell phone. In an example of an altercations you could be more prone to damaging an building or such. An direct result of an event in place; a fee or very large payment would need to be made. Secondly another consequence could be having your license taken.\n",
      "\n",
      "When you have violated a driving law there will always be an consequence. Rather it being jail time, injuries, or more. Your license will be subjected to suspension. A suspended license defines as you are not able to drive until they are reinstated. The process can take anywhere from a short period of time or even a long period of time. The average time for a suspended license is sixty days.\n",
      "\n",
      "For some people if it is not your first offense they may even take your license for good. Furthermore there is another cause to driving while being on your cell phone.\n",
      "\n",
      "After all the consequences the most detrimental is death. Many people happen to pass away due to a motor vehicle car accident. Not all people pass away at the crash site, some has a condition mild to critical that causes them to die. Around 1.6\n",
      "\n",
      "million people a year die in motor vehicle accidents. Out of the 1.6 million, 1 out of 4 pass away because drivers are on their cell phone. That includes the driver and the unlucky few that may have been in the car, around, or in another car. Passing away from a motor vehicle accident can be prevented by simply waiting until you have reached a stopping point or your at your destination to pick up your phone.\n",
      "\n",
      "In conclusion, drivers should not be able to use cell phones in any capacity while operating a motor vehicle. It can cause accidents and altercations, suspension of license, and even death. Prevention is simply not being able to use your phone while operating a motor vehicle. Take a moment to focus on the road.\n",
      "\n",
      "You are able to check your phone when you reach a red light or a complete stop. This is one step closer to its prevention. It will save many lives even your own.   \n"
     ]
    }
   ],
   "source": [
    "text_id = text_ids[5]\n",
    "text = get_text(text_id)\n",
    "print(text)"
   ]
  },
  {
   "cell_type": "code",
   "execution_count": 13,
   "id": "7363958e",
   "metadata": {
    "execution": {
     "iopub.execute_input": "2021-12-16T05:01:51.221198Z",
     "iopub.status.busy": "2021-12-16T05:01:51.220183Z",
     "iopub.status.idle": "2021-12-16T05:01:51.229212Z",
     "shell.execute_reply": "2021-12-16T05:01:51.228680Z",
     "shell.execute_reply.started": "2021-12-14T23:33:32.143909Z"
    },
    "papermill": {
     "duration": 0.071939,
     "end_time": "2021-12-16T05:01:51.229349",
     "exception": false,
     "start_time": "2021-12-16T05:01:51.157410",
     "status": "completed"
    },
    "tags": []
   },
   "outputs": [
    {
     "data": {
      "text/plain": [
       "[(52, 200, 'Lead'),\n",
       " (200, 244, 'Claim'),\n",
       " (245, 294, 'Claim'),\n",
       " (295, 334, 'Claim'),\n",
       " (418, 515, 'Position'),\n",
       " (516, 590, 'Claim'),\n",
       " (590, 1152, 'Evidence'),\n",
       " (1162, 1219, 'Claim'),\n",
       " (1220, 1706, 'Evidence'),\n",
       " (1718, 1842, 'Claim'),\n",
       " (1843, 2443, 'Evidence'),\n",
       " (2444, 2922, 'Concluding Statement')]"
      ]
     },
     "execution_count": 13,
     "metadata": {},
     "output_type": "execute_result"
    }
   ],
   "source": [
    "# Extract element boundaries and classes  with to_records\n",
    "\n",
    "df_text = df[df['id'] == text_id]\n",
    "elements = df_text[['discourse_start', 'discourse_end', 'discourse_type']].to_records(index=False).tolist()\n",
    "elements"
   ]
  },
  {
   "cell_type": "code",
   "execution_count": 14,
   "id": "18fa16c0",
   "metadata": {
    "execution": {
     "iopub.execute_input": "2021-12-16T05:01:51.315824Z",
     "iopub.status.busy": "2021-12-16T05:01:51.315010Z",
     "iopub.status.idle": "2021-12-16T05:01:51.317827Z",
     "shell.execute_reply": "2021-12-16T05:01:51.318375Z",
     "shell.execute_reply.started": "2021-12-14T23:33:32.176681Z"
    },
    "papermill": {
     "duration": 0.050489,
     "end_time": "2021-12-16T05:01:51.318512",
     "exception": false,
     "start_time": "2021-12-16T05:01:51.268023",
     "status": "completed"
    },
    "tags": []
   },
   "outputs": [
    {
     "data": {
      "text/plain": [
       "[(0, 51, 'No Class'),\n",
       " (52, 200, 'Lead'),\n",
       " (200, 244, 'Claim'),\n",
       " (245, 294, 'Claim'),\n",
       " (295, 334, 'Claim'),\n",
       " (418, 515, 'Position'),\n",
       " (516, 590, 'Claim'),\n",
       " (590, 1152, 'Evidence'),\n",
       " (1162, 1219, 'Claim'),\n",
       " (1220, 1706, 'Evidence'),\n",
       " (1718, 1842, 'Claim'),\n",
       " (1843, 2443, 'Evidence'),\n",
       " (2444, 2922, 'Concluding Statement')]"
      ]
     },
     "execution_count": 14,
     "metadata": {},
     "output_type": "execute_result"
    }
   ],
   "source": [
    "# Fill \"No class\" chunks: beginning and end\n",
    "\n",
    "initial_idx = 0\n",
    "final_idx = len(text)\n",
    "\n",
    "# Add element at the beginning if it doesn't in index 0\n",
    "new_elements = []\n",
    "if elements[0][0] != initial_idx:\n",
    "    starting_element = (0, elements[0][0]-1, 'No Class')\n",
    "    new_elements.append(starting_element)\n",
    "\n",
    "    \n",
    "# Add element at the end if it doesn't in index \"-1\"\n",
    "if elements[-1][1] != final_idx:\n",
    "    closing_element = (elements[-1][1]+1, final_idx, 'No Class')\n",
    "    new_elements.append(closing_element)\n",
    "    \n",
    "elements += new_elements\n",
    "elements = sorted(elements, key=lambda x: x[0])\n",
    "# See first element (new)\n",
    "elements"
   ]
  },
  {
   "cell_type": "code",
   "execution_count": 15,
   "id": "b78ad82c",
   "metadata": {
    "execution": {
     "iopub.execute_input": "2021-12-16T05:01:51.404631Z",
     "iopub.status.busy": "2021-12-16T05:01:51.403848Z",
     "iopub.status.idle": "2021-12-16T05:01:51.406711Z",
     "shell.execute_reply": "2021-12-16T05:01:51.407107Z",
     "shell.execute_reply.started": "2021-12-14T23:33:32.189737Z"
    },
    "papermill": {
     "duration": 0.050133,
     "end_time": "2021-12-16T05:01:51.407255",
     "exception": false,
     "start_time": "2021-12-16T05:01:51.357122",
     "status": "completed"
    },
    "tags": []
   },
   "outputs": [
    {
     "data": {
      "text/plain": [
       "[(0, 51, 'No Class'),\n",
       " (52, 200, 'Lead'),\n",
       " (200, 244, 'Claim'),\n",
       " (245, 294, 'Claim'),\n",
       " (295, 334, 'Claim'),\n",
       " (335, 417, 'No Class'),\n",
       " (418, 515, 'Position'),\n",
       " (516, 590, 'Claim'),\n",
       " (590, 1152, 'Evidence'),\n",
       " (1153, 1161, 'No Class'),\n",
       " (1162, 1219, 'Claim'),\n",
       " (1220, 1706, 'Evidence'),\n",
       " (1707, 1717, 'No Class'),\n",
       " (1718, 1842, 'Claim'),\n",
       " (1843, 2443, 'Evidence'),\n",
       " (2444, 2922, 'Concluding Statement')]"
      ]
     },
     "execution_count": 15,
     "metadata": {},
     "output_type": "execute_result"
    }
   ],
   "source": [
    "# Add \"No class\" elements inbetween separated elements \n",
    "new_elements = []\n",
    "for i in range(1, len(elements)-1):\n",
    "    if elements[i][0] != elements[i-1][1] + 1 and elements[i][0] != elements[i-1][1]:\n",
    "        new_element = (elements[i-1][1] + 1, elements[i][0]-1, 'No Class')\n",
    "        new_elements.append(new_element)\n",
    "\n",
    "elements += new_elements\n",
    "elements = sorted(elements, key=lambda x: x[0])\n",
    "elements"
   ]
  },
  {
   "cell_type": "code",
   "execution_count": 16,
   "id": "951ce9e3",
   "metadata": {
    "execution": {
     "iopub.execute_input": "2021-12-16T05:01:51.498584Z",
     "iopub.status.busy": "2021-12-16T05:01:51.497768Z",
     "iopub.status.idle": "2021-12-16T05:01:51.499911Z",
     "shell.execute_reply": "2021-12-16T05:01:51.500339Z",
     "shell.execute_reply.started": "2021-12-14T23:33:32.203417Z"
    },
    "papermill": {
     "duration": 0.054647,
     "end_time": "2021-12-16T05:01:51.500479",
     "exception": false,
     "start_time": "2021-12-16T05:01:51.445832",
     "status": "completed"
    },
    "tags": []
   },
   "outputs": [],
   "source": [
    "# Finall \"fill_gaps\" functions, wrapping up the above cells\n",
    "\n",
    "def fill_gaps(elements, text):\n",
    "    \"\"\"Add \"No Class\" elements to a list of elements (see get_elements) \"\"\"\n",
    "    initial_idx = 0\n",
    "    final_idx = len(text)\n",
    "\n",
    "    # Add element at the beginning if it doesn't in index 0\n",
    "    new_elements = []\n",
    "    if elements[0][0] != initial_idx:\n",
    "        starting_element = (0, elements[0][0]-1, 'No Class')\n",
    "        new_elements.append(starting_element)\n",
    "\n",
    "\n",
    "    # Add element at the end if it doesn't in index \"-1\"\n",
    "    if elements[-1][1] != final_idx:\n",
    "        closing_element = (elements[-1][1]+1, final_idx, 'No Class')\n",
    "        new_elements.append(closing_element)\n",
    "\n",
    "    elements += new_elements\n",
    "    elements = sorted(elements, key=lambda x: x[0])\n",
    "\n",
    "    # Add \"No class\" elements inbetween separated elements \n",
    "    new_elements = []\n",
    "    for i in range(1, len(elements)-1):\n",
    "        if elements[i][0] != elements[i-1][1] + 1 and elements[i][0] != elements[i-1][1]:\n",
    "            new_element = (elements[i-1][1] + 1, elements[i][0]-1, 'No Class')\n",
    "            new_elements.append(new_element)\n",
    "\n",
    "    elements += new_elements\n",
    "    elements = sorted(elements, key=lambda x: x[0])\n",
    "    return elements\n",
    "\n",
    "\n",
    "def get_elements(df, text_id, do_fill_gaps=True, text=None):\n",
    "    \"\"\"Get a list of (start, end, class) elements for a given text_id\"\"\"\n",
    "    text = get_text(text_id) if text is None else text\n",
    "    df_text = df[df['id'] == text_id]\n",
    "    elements = df_text[['discourse_start', 'discourse_end', 'discourse_type']].to_records(index=False).tolist()\n",
    "    if do_fill_gaps:\n",
    "        elements = fill_gaps(elements, text)\n",
    "    return elements"
   ]
  },
  {
   "cell_type": "code",
   "execution_count": 17,
   "id": "772d4289",
   "metadata": {
    "execution": {
     "iopub.execute_input": "2021-12-16T05:01:51.584821Z",
     "iopub.status.busy": "2021-12-16T05:01:51.584286Z",
     "iopub.status.idle": "2021-12-16T05:01:51.636930Z",
     "shell.execute_reply": "2021-12-16T05:01:51.637355Z",
     "shell.execute_reply.started": "2021-12-14T23:33:32.256302Z"
    },
    "papermill": {
     "duration": 0.098178,
     "end_time": "2021-12-16T05:01:51.637515",
     "exception": false,
     "start_time": "2021-12-16T05:01:51.539337",
     "status": "completed"
    },
    "tags": []
   },
   "outputs": [
    {
     "data": {
      "text/html": [
       "<div>\n",
       "<style scoped>\n",
       "    .dataframe tbody tr th:only-of-type {\n",
       "        vertical-align: middle;\n",
       "    }\n",
       "\n",
       "    .dataframe tbody tr th {\n",
       "        vertical-align: top;\n",
       "    }\n",
       "\n",
       "    .dataframe thead th {\n",
       "        text-align: right;\n",
       "    }\n",
       "</style>\n",
       "<table border=\"1\" class=\"dataframe\">\n",
       "  <thead>\n",
       "    <tr style=\"text-align: right;\">\n",
       "      <th></th>\n",
       "      <th>text</th>\n",
       "      <th>label</th>\n",
       "    </tr>\n",
       "  </thead>\n",
       "  <tbody>\n",
       "    <tr>\n",
       "      <th>0</th>\n",
       "      <td>Phones &amp; Driving</td>\n",
       "      <td>7</td>\n",
       "    </tr>\n",
       "    <tr>\n",
       "      <th>1</th>\n",
       "      <td>Drivers should not be able to use phones while...</td>\n",
       "      <td>1</td>\n",
       "    </tr>\n",
       "    <tr>\n",
       "      <th>2</th>\n",
       "      <td>Drivers who used their phone while operating a...</td>\n",
       "      <td>3</td>\n",
       "    </tr>\n",
       "    <tr>\n",
       "      <th>3</th>\n",
       "      <td>According to an article by the Edgar Snyder Fi...</td>\n",
       "      <td>2</td>\n",
       "    </tr>\n",
       "    <tr>\n",
       "      <th>4</th>\n",
       "      <td>According to the same article, 35% know the ri...</td>\n",
       "      <td>2</td>\n",
       "    </tr>\n",
       "    <tr>\n",
       "      <th>5</th>\n",
       "      <td>This shows that its beyond dangerous and irres...</td>\n",
       "      <td>2</td>\n",
       "    </tr>\n",
       "    <tr>\n",
       "      <th>6</th>\n",
       "      <td>Drivers should be able to concentrate without ...</td>\n",
       "      <td>2</td>\n",
       "    </tr>\n",
       "    <tr>\n",
       "      <th>7</th>\n",
       "      <td>According to another article, \"Distracted Driv...</td>\n",
       "      <td>2</td>\n",
       "    </tr>\n",
       "    <tr>\n",
       "      <th>8</th>\n",
       "      <td>The article states that teen get too distracte...</td>\n",
       "      <td>2</td>\n",
       "    </tr>\n",
       "    <tr>\n",
       "      <th>9</th>\n",
       "      <td>Accidents that can be easily avoided by focusi...</td>\n",
       "      <td>2</td>\n",
       "    </tr>\n",
       "    <tr>\n",
       "      <th>10</th>\n",
       "      <td>Drivers should not be able to use their phones...</td>\n",
       "      <td>2</td>\n",
       "    </tr>\n",
       "    <tr>\n",
       "      <th>11</th>\n",
       "      <td>In conclusion, drivers should not able to work...</td>\n",
       "      <td>4</td>\n",
       "    </tr>\n",
       "    <tr>\n",
       "      <th>12</th>\n",
       "      <td>Drivers who uses their phones while operating ...</td>\n",
       "      <td>4</td>\n",
       "    </tr>\n",
       "  </tbody>\n",
       "</table>\n",
       "</div>"
      ],
      "text/plain": [
       "                                                 text  label\n",
       "0                                    Phones & Driving      7\n",
       "1   Drivers should not be able to use phones while...      1\n",
       "2   Drivers who used their phone while operating a...      3\n",
       "3   According to an article by the Edgar Snyder Fi...      2\n",
       "4   According to the same article, 35% know the ri...      2\n",
       "5   This shows that its beyond dangerous and irres...      2\n",
       "6   Drivers should be able to concentrate without ...      2\n",
       "7   According to another article, \"Distracted Driv...      2\n",
       "8   The article states that teen get too distracte...      2\n",
       "9   Accidents that can be easily avoided by focusi...      2\n",
       "10  Drivers should not be able to use their phones...      2\n",
       "11  In conclusion, drivers should not able to work...      4\n",
       "12  Drivers who uses their phones while operating ...      4"
      ]
     },
     "execution_count": 17,
     "metadata": {},
     "output_type": "execute_result"
    }
   ],
   "source": [
    "def get_x_samples(df, text_id, do_fill_gaps=True):\n",
    "    \"\"\"Create a dataframe of the sentences of the text_id, with columns text, label \"\"\"\n",
    "    text = get_text(text_id)\n",
    "    elements = get_elements(df, text_id, do_fill_gaps, text)\n",
    "    sentences = []\n",
    "    for start, end, class_ in elements:\n",
    "        elem_sentences = nltk.sent_tokenize(text[start:end])\n",
    "        sentences += [(sentence, class_) for sentence in elem_sentences]\n",
    "    df = pd.DataFrame(sentences, columns=['text', 'label'])\n",
    "    df['label'] = df['label'].map(CLASS2ID)\n",
    "    return df\n",
    "\n",
    "get_x_samples(df, text_ids[1])"
   ]
  },
  {
   "cell_type": "markdown",
   "id": "267187e3",
   "metadata": {
    "papermill": {
     "duration": 0.039252,
     "end_time": "2021-12-16T05:01:51.717192",
     "exception": false,
     "start_time": "2021-12-16T05:01:51.677940",
     "status": "completed"
    },
    "tags": []
   },
   "source": [
    "## Build the full dataframe for sentence classification"
   ]
  },
  {
   "cell_type": "code",
   "execution_count": 18,
   "id": "f1c4f9cd",
   "metadata": {
    "execution": {
     "iopub.execute_input": "2021-12-16T05:01:51.800024Z",
     "iopub.status.busy": "2021-12-16T05:01:51.799035Z",
     "iopub.status.idle": "2021-12-16T05:01:51.801485Z",
     "shell.execute_reply": "2021-12-16T05:01:51.800937Z",
     "shell.execute_reply.started": "2021-12-14T23:33:32.321858Z"
    },
    "papermill": {
     "duration": 0.045527,
     "end_time": "2021-12-16T05:01:51.801596",
     "exception": false,
     "start_time": "2021-12-16T05:01:51.756069",
     "status": "completed"
    },
    "tags": []
   },
   "outputs": [],
   "source": [
    "# This takes a while. I created a dataset with the output here: https://www.kaggle.com/julian3833/feedback-df-sentences\n",
    "#x = []\n",
    "#for text_id in tqdm(text_ids):\n",
    "#    x.append(get_x_samples(df, text_id))\n",
    "\n",
    "#df_sentences = pd.concat(x)"
   ]
  },
  {
   "cell_type": "code",
   "execution_count": 19,
   "id": "ab7d25c5",
   "metadata": {
    "execution": {
     "iopub.execute_input": "2021-12-16T05:01:51.888001Z",
     "iopub.status.busy": "2021-12-16T05:01:51.887379Z",
     "iopub.status.idle": "2021-12-16T05:01:52.912496Z",
     "shell.execute_reply": "2021-12-16T05:01:52.913308Z",
     "shell.execute_reply.started": "2021-12-14T23:33:32.327517Z"
    },
    "papermill": {
     "duration": 1.068653,
     "end_time": "2021-12-16T05:01:52.913520",
     "exception": false,
     "start_time": "2021-12-16T05:01:51.844867",
     "status": "completed"
    },
    "tags": []
   },
   "outputs": [],
   "source": [
    "df_sentences = pd.read_csv(\"../input/feedback-df-sentences/df_sentences.csv\")"
   ]
  },
  {
   "cell_type": "code",
   "execution_count": 20,
   "id": "ab0ff570",
   "metadata": {
    "execution": {
     "iopub.execute_input": "2021-12-16T05:01:53.242599Z",
     "iopub.status.busy": "2021-12-16T05:01:53.241590Z",
     "iopub.status.idle": "2021-12-16T05:01:55.015049Z",
     "shell.execute_reply": "2021-12-16T05:01:55.015666Z",
     "shell.execute_reply.started": "2021-12-14T23:33:33.216099Z"
    },
    "papermill": {
     "duration": 2.032973,
     "end_time": "2021-12-16T05:01:55.015836",
     "exception": false,
     "start_time": "2021-12-16T05:01:52.982863",
     "status": "completed"
    },
    "tags": []
   },
   "outputs": [
    {
     "data": {
      "text/html": [
       "<div>\n",
       "<style scoped>\n",
       "    .dataframe tbody tr th:only-of-type {\n",
       "        vertical-align: middle;\n",
       "    }\n",
       "\n",
       "    .dataframe tbody tr th {\n",
       "        vertical-align: top;\n",
       "    }\n",
       "\n",
       "    .dataframe thead th {\n",
       "        text-align: right;\n",
       "    }\n",
       "</style>\n",
       "<table border=\"1\" class=\"dataframe\">\n",
       "  <thead>\n",
       "    <tr style=\"text-align: right;\">\n",
       "      <th></th>\n",
       "      <th>text</th>\n",
       "      <th>label</th>\n",
       "    </tr>\n",
       "  </thead>\n",
       "  <tbody>\n",
       "    <tr>\n",
       "      <th>0</th>\n",
       "      <td>Modern humans today are always on their phone.</td>\n",
       "      <td>0</td>\n",
       "    </tr>\n",
       "    <tr>\n",
       "      <th>1</th>\n",
       "      <td>They are always on their phone more than 5 hou...</td>\n",
       "      <td>0</td>\n",
       "    </tr>\n",
       "    <tr>\n",
       "      <th>2</th>\n",
       "      <td>They even do it while driving.</td>\n",
       "      <td>0</td>\n",
       "    </tr>\n",
       "    <tr>\n",
       "      <th>3</th>\n",
       "      <td>They are some really bad consequences when stu...</td>\n",
       "      <td>1</td>\n",
       "    </tr>\n",
       "    <tr>\n",
       "      <th>4</th>\n",
       "      <td>Some certain areas in the United States ban ph...</td>\n",
       "      <td>2</td>\n",
       "    </tr>\n",
       "  </tbody>\n",
       "</table>\n",
       "</div>"
      ],
      "text/plain": [
       "                                                text  label\n",
       "0     Modern humans today are always on their phone.      0\n",
       "1  They are always on their phone more than 5 hou...      0\n",
       "2                     They even do it while driving.      0\n",
       "3  They are some really bad consequences when stu...      1\n",
       "4  Some certain areas in the United States ban ph...      2"
      ]
     },
     "execution_count": 20,
     "metadata": {},
     "output_type": "execute_result"
    }
   ],
   "source": [
    "df_sentences = df_sentences[df_sentences.text.str.split().str.len() >= 3]\n",
    "df_sentences.head()"
   ]
  },
  {
   "cell_type": "code",
   "execution_count": 21,
   "id": "00746e69",
   "metadata": {
    "execution": {
     "iopub.execute_input": "2021-12-16T05:01:55.101683Z",
     "iopub.status.busy": "2021-12-16T05:01:55.100670Z",
     "iopub.status.idle": "2021-12-16T05:01:56.893817Z",
     "shell.execute_reply": "2021-12-16T05:01:56.894251Z",
     "shell.execute_reply.started": "2021-12-14T23:33:34.889603Z"
    },
    "papermill": {
     "duration": 1.83796,
     "end_time": "2021-12-16T05:01:56.894417",
     "exception": false,
     "start_time": "2021-12-16T05:01:55.056457",
     "status": "completed"
    },
    "tags": []
   },
   "outputs": [],
   "source": [
    "df_sentences.to_csv(\"df_sentences.csv\", index=False)"
   ]
  },
  {
   "cell_type": "code",
   "execution_count": 22,
   "id": "a1a53da6",
   "metadata": {
    "execution": {
     "iopub.execute_input": "2021-12-16T05:01:56.979541Z",
     "iopub.status.busy": "2021-12-16T05:01:56.978667Z",
     "iopub.status.idle": "2021-12-16T05:01:56.981719Z",
     "shell.execute_reply": "2021-12-16T05:01:56.982108Z",
     "shell.execute_reply.started": "2021-12-14T23:33:36.89327Z"
    },
    "papermill": {
     "duration": 0.047948,
     "end_time": "2021-12-16T05:01:56.982258",
     "exception": false,
     "start_time": "2021-12-16T05:01:56.934310",
     "status": "completed"
    },
    "tags": []
   },
   "outputs": [
    {
     "data": {
      "text/plain": [
       "348053"
      ]
     },
     "execution_count": 22,
     "metadata": {},
     "output_type": "execute_result"
    }
   ],
   "source": [
    "len(df_sentences)"
   ]
  },
  {
   "cell_type": "markdown",
   "id": "5fcd59b1",
   "metadata": {
    "papermill": {
     "duration": 0.039407,
     "end_time": "2021-12-16T05:01:57.061947",
     "exception": false,
     "start_time": "2021-12-16T05:01:57.022540",
     "status": "completed"
    },
    "tags": []
   },
   "source": [
    "# Modeling!!!\n",
    "\n",
    "We will use a `BERT` and the `Trainer` API from Hugging Face. \n",
    "\n",
    "We are using a dataset to avoid using internet (a restriction of the competition for submission notebooks)\n",
    "\n",
    "References:\n",
    "* https://huggingface.co/docs/transformers/training\n",
    "* https://huggingface.co/docs/transformers/custom_datasets"
   ]
  },
  {
   "cell_type": "code",
   "execution_count": 23,
   "id": "fcccd399",
   "metadata": {
    "execution": {
     "iopub.execute_input": "2021-12-16T05:01:57.146266Z",
     "iopub.status.busy": "2021-12-16T05:01:57.145391Z",
     "iopub.status.idle": "2021-12-16T05:01:57.147234Z",
     "shell.execute_reply": "2021-12-16T05:01:57.147650Z",
     "shell.execute_reply.started": "2021-12-14T23:33:36.90477Z"
    },
    "papermill": {
     "duration": 0.045983,
     "end_time": "2021-12-16T05:01:57.147780",
     "exception": false,
     "start_time": "2021-12-16T05:01:57.101797",
     "status": "completed"
    },
    "tags": []
   },
   "outputs": [],
   "source": [
    "MODEL_CHK = \"../input/huggingface-bert/bert-large-cased\"\n",
    "\n",
    "NUM_LABELS = 8\n",
    "\n",
    "NUM_EPOCHS = 2"
   ]
  },
  {
   "cell_type": "markdown",
   "id": "0e97ef8a",
   "metadata": {
    "papermill": {
     "duration": 0.039864,
     "end_time": "2021-12-16T05:01:57.227311",
     "exception": false,
     "start_time": "2021-12-16T05:01:57.187447",
     "status": "completed"
    },
    "tags": []
   },
   "source": [
    "## HuggingFace Dataset"
   ]
  },
  {
   "cell_type": "code",
   "execution_count": 24,
   "id": "b35fe983",
   "metadata": {
    "execution": {
     "iopub.execute_input": "2021-12-16T05:01:57.313029Z",
     "iopub.status.busy": "2021-12-16T05:01:57.312363Z",
     "iopub.status.idle": "2021-12-16T05:01:57.558652Z",
     "shell.execute_reply": "2021-12-16T05:01:57.557975Z",
     "shell.execute_reply.started": "2021-12-14T23:33:36.913495Z"
    },
    "papermill": {
     "duration": 0.290916,
     "end_time": "2021-12-16T05:01:57.558791",
     "exception": false,
     "start_time": "2021-12-16T05:01:57.267875",
     "status": "completed"
    },
    "tags": []
   },
   "outputs": [],
   "source": [
    "ds_train = Dataset.from_pandas(df_sentences.iloc[:340000])\n",
    "ds_val = Dataset.from_pandas(df_sentences.iloc[340000:])"
   ]
  },
  {
   "cell_type": "markdown",
   "id": "885615db",
   "metadata": {
    "papermill": {
     "duration": 0.039687,
     "end_time": "2021-12-16T05:01:57.638478",
     "exception": false,
     "start_time": "2021-12-16T05:01:57.598791",
     "status": "completed"
    },
    "tags": []
   },
   "source": [
    "## Tokenize"
   ]
  },
  {
   "cell_type": "code",
   "execution_count": 25,
   "id": "c50e6460",
   "metadata": {
    "execution": {
     "iopub.execute_input": "2021-12-16T05:01:57.724169Z",
     "iopub.status.busy": "2021-12-16T05:01:57.723483Z",
     "iopub.status.idle": "2021-12-16T05:02:31.738014Z",
     "shell.execute_reply": "2021-12-16T05:02:31.738496Z",
     "shell.execute_reply.started": "2021-12-14T23:33:37.063421Z"
    },
    "papermill": {
     "duration": 34.06013,
     "end_time": "2021-12-16T05:02:31.738671",
     "exception": false,
     "start_time": "2021-12-16T05:01:57.678541",
     "status": "completed"
    },
    "tags": []
   },
   "outputs": [
    {
     "data": {
      "application/vnd.jupyter.widget-view+json": {
       "model_id": "0528c3041907450eac2f3561fb75f907",
       "version_major": 2,
       "version_minor": 0
      },
      "text/plain": [
       "  0%|          | 0/340 [00:00<?, ?ba/s]"
      ]
     },
     "metadata": {},
     "output_type": "display_data"
    },
    {
     "data": {
      "application/vnd.jupyter.widget-view+json": {
       "model_id": "97680001a64141dab4669b62cd1ac999",
       "version_major": 2,
       "version_minor": 0
      },
      "text/plain": [
       "  0%|          | 0/9 [00:00<?, ?ba/s]"
      ]
     },
     "metadata": {},
     "output_type": "display_data"
    }
   ],
   "source": [
    "transformers.logging.set_verbosity_warning() # Silence some annoying logging of HF\n",
    "\n",
    "# Load tokenizer\n",
    "tokenizer = AutoTokenizer.from_pretrained(MODEL_CHK)\n",
    "\n",
    "def preprocess_function(examples):    \n",
    "    return tokenizer(examples[\"text\"], truncation=True, max_length=256)\n",
    "\n",
    "\n",
    "# Tokenizer dataset\n",
    "ds_train_tokenized = ds_train.map(preprocess_function, batched=True)\n",
    "ds_val_tokenized = ds_val.map(preprocess_function, batched=True)"
   ]
  },
  {
   "cell_type": "code",
   "execution_count": 26,
   "id": "820045a1",
   "metadata": {
    "execution": {
     "iopub.execute_input": "2021-12-16T05:02:31.825273Z",
     "iopub.status.busy": "2021-12-16T05:02:31.824616Z",
     "iopub.status.idle": "2021-12-16T05:02:47.394333Z",
     "shell.execute_reply": "2021-12-16T05:02:47.393728Z",
     "shell.execute_reply.started": "2021-12-14T23:34:11.002787Z"
    },
    "papermill": {
     "duration": 15.614205,
     "end_time": "2021-12-16T05:02:47.394473",
     "exception": false,
     "start_time": "2021-12-16T05:02:31.780268",
     "status": "completed"
    },
    "tags": []
   },
   "outputs": [
    {
     "name": "stderr",
     "output_type": "stream",
     "text": [
      "Some weights of the model checkpoint at ../input/huggingface-bert/bert-large-cased were not used when initializing BertForSequenceClassification: ['cls.predictions.transform.LayerNorm.weight', 'cls.predictions.transform.dense.bias', 'cls.seq_relationship.bias', 'cls.predictions.transform.dense.weight', 'cls.predictions.transform.LayerNorm.bias', 'cls.seq_relationship.weight', 'cls.predictions.decoder.weight', 'cls.predictions.bias']\n",
      "- This IS expected if you are initializing BertForSequenceClassification from the checkpoint of a model trained on another task or with another architecture (e.g. initializing a BertForSequenceClassification model from a BertForPreTraining model).\n",
      "- This IS NOT expected if you are initializing BertForSequenceClassification from the checkpoint of a model that you expect to be exactly identical (initializing a BertForSequenceClassification model from a BertForSequenceClassification model).\n",
      "Some weights of BertForSequenceClassification were not initialized from the model checkpoint at ../input/huggingface-bert/bert-large-cased and are newly initialized: ['classifier.bias', 'classifier.weight']\n",
      "You should probably TRAIN this model on a down-stream task to be able to use it for predictions and inference.\n"
     ]
    }
   ],
   "source": [
    "# Load model\n",
    "model = AutoModelForSequenceClassification.from_pretrained(MODEL_CHK, num_labels=NUM_LABELS)"
   ]
  },
  {
   "cell_type": "markdown",
   "id": "436ee93b",
   "metadata": {
    "papermill": {
     "duration": 0.040813,
     "end_time": "2021-12-16T05:02:47.477518",
     "exception": false,
     "start_time": "2021-12-16T05:02:47.436705",
     "status": "completed"
    },
    "tags": []
   },
   "source": [
    "### Prepare trainer"
   ]
  },
  {
   "cell_type": "code",
   "execution_count": 27,
   "id": "9df21e92",
   "metadata": {
    "execution": {
     "iopub.execute_input": "2021-12-16T05:02:47.565899Z",
     "iopub.status.busy": "2021-12-16T05:02:47.565335Z",
     "iopub.status.idle": "2021-12-16T05:02:52.460478Z",
     "shell.execute_reply": "2021-12-16T05:02:52.459583Z",
     "shell.execute_reply.started": "2021-12-14T23:34:17.331021Z"
    },
    "papermill": {
     "duration": 4.942521,
     "end_time": "2021-12-16T05:02:52.460683",
     "exception": false,
     "start_time": "2021-12-16T05:02:47.518162",
     "status": "completed"
    },
    "tags": []
   },
   "outputs": [],
   "source": [
    "os.environ['TOKENIZERS_PARALLELISM'] = 'false'\n",
    "os.environ['WANDB_DISABLED'] = 'true'\n",
    "\n",
    "training_args = TrainingArguments(\n",
    "    output_dir='feeeback-classifier',\n",
    "    learning_rate=2e-5,\n",
    "    per_device_train_batch_size=8,\n",
    "    per_device_eval_batch_size=8,\n",
    "    num_train_epochs=NUM_EPOCHS,\n",
    "    weight_decay=0.01,\n",
    "    report_to=\"none\",\n",
    "    evaluation_strategy=\"epoch\",\n",
    "    save_strategy=\"epoch\",\n",
    "\n",
    ")\n",
    "\n",
    "trainer = Trainer(\n",
    "    model=model,\n",
    "    args=training_args,\n",
    "    train_dataset=ds_train_tokenized,\n",
    "    eval_dataset=ds_val_tokenized,\n",
    "    tokenizer=tokenizer,\n",
    "    #data_collator=data_collator,\n",
    ")"
   ]
  },
  {
   "cell_type": "markdown",
   "id": "8194dcbe",
   "metadata": {
    "papermill": {
     "duration": 0.046668,
     "end_time": "2021-12-16T05:02:52.554617",
     "exception": false,
     "start_time": "2021-12-16T05:02:52.507949",
     "status": "completed"
    },
    "tags": []
   },
   "source": [
    "## Train"
   ]
  },
  {
   "cell_type": "code",
   "execution_count": 28,
   "id": "e8c316df",
   "metadata": {
    "execution": {
     "iopub.execute_input": "2021-12-16T05:02:52.653222Z",
     "iopub.status.busy": "2021-12-16T05:02:52.652282Z",
     "iopub.status.idle": "2021-12-16T10:36:01.531402Z",
     "shell.execute_reply": "2021-12-16T10:36:01.530861Z",
     "shell.execute_reply.started": "2021-12-14T23:34:22.539597Z"
    },
    "papermill": {
     "duration": 19988.930102,
     "end_time": "2021-12-16T10:36:01.531554",
     "exception": false,
     "start_time": "2021-12-16T05:02:52.601452",
     "status": "completed"
    },
    "tags": []
   },
   "outputs": [
    {
     "name": "stderr",
     "output_type": "stream",
     "text": [
      "The following columns in the training set  don't have a corresponding argument in `BertForSequenceClassification.forward` and have been ignored: __index_level_0__, text.\n",
      "***** Running training *****\n",
      "  Num examples = 340000\n",
      "  Num Epochs = 2\n",
      "  Instantaneous batch size per device = 8\n",
      "  Total train batch size (w. parallel, distributed & accumulation) = 8\n",
      "  Gradient Accumulation steps = 1\n",
      "  Total optimization steps = 85000\n"
     ]
    },
    {
     "data": {
      "text/html": [
       "\n",
       "    <div>\n",
       "      \n",
       "      <progress value='85000' max='85000' style='width:300px; height:20px; vertical-align: middle;'></progress>\n",
       "      [85000/85000 5:33:07, Epoch 2/2]\n",
       "    </div>\n",
       "    <table border=\"1\" class=\"dataframe\">\n",
       "  <thead>\n",
       "    <tr style=\"text-align: left;\">\n",
       "      <th>Epoch</th>\n",
       "      <th>Training Loss</th>\n",
       "      <th>Validation Loss</th>\n",
       "    </tr>\n",
       "  </thead>\n",
       "  <tbody>\n",
       "    <tr>\n",
       "      <td>1</td>\n",
       "      <td>1.038000</td>\n",
       "      <td>0.958259</td>\n",
       "    </tr>\n",
       "    <tr>\n",
       "      <td>2</td>\n",
       "      <td>0.867100</td>\n",
       "      <td>0.962594</td>\n",
       "    </tr>\n",
       "  </tbody>\n",
       "</table><p>"
      ],
      "text/plain": [
       "<IPython.core.display.HTML object>"
      ]
     },
     "metadata": {},
     "output_type": "display_data"
    },
    {
     "name": "stderr",
     "output_type": "stream",
     "text": [
      "The following columns in the evaluation set  don't have a corresponding argument in `BertForSequenceClassification.forward` and have been ignored: __index_level_0__, text.\n",
      "***** Running Evaluation *****\n",
      "  Num examples = 8053\n",
      "  Batch size = 8\n",
      "Saving model checkpoint to feeeback-classifier/checkpoint-42500\n",
      "Configuration saved in feeeback-classifier/checkpoint-42500/config.json\n",
      "Model weights saved in feeeback-classifier/checkpoint-42500/pytorch_model.bin\n",
      "tokenizer config file saved in feeeback-classifier/checkpoint-42500/tokenizer_config.json\n",
      "Special tokens file saved in feeeback-classifier/checkpoint-42500/special_tokens_map.json\n",
      "The following columns in the evaluation set  don't have a corresponding argument in `BertForSequenceClassification.forward` and have been ignored: __index_level_0__, text.\n",
      "***** Running Evaluation *****\n",
      "  Num examples = 8053\n",
      "  Batch size = 8\n",
      "Saving model checkpoint to feeeback-classifier/checkpoint-85000\n",
      "Configuration saved in feeeback-classifier/checkpoint-85000/config.json\n",
      "Model weights saved in feeeback-classifier/checkpoint-85000/pytorch_model.bin\n",
      "tokenizer config file saved in feeeback-classifier/checkpoint-85000/tokenizer_config.json\n",
      "Special tokens file saved in feeeback-classifier/checkpoint-85000/special_tokens_map.json\n",
      "\n",
      "\n",
      "Training completed. Do not forget to share your model on huggingface.co/models =)\n",
      "\n",
      "\n"
     ]
    },
    {
     "data": {
      "text/plain": [
       "TrainOutput(global_step=85000, training_loss=0.9991227772432215, metrics={'train_runtime': 19988.843, 'train_samples_per_second': 34.019, 'train_steps_per_second': 4.252, 'total_flos': 5.440160600432486e+16, 'train_loss': 0.9991227772432215, 'epoch': 2.0})"
      ]
     },
     "execution_count": 28,
     "metadata": {},
     "output_type": "execute_result"
    }
   ],
   "source": [
    "trainer.train()"
   ]
  },
  {
   "cell_type": "code",
   "execution_count": 29,
   "id": "d27b024f",
   "metadata": {
    "execution": {
     "iopub.execute_input": "2021-12-16T10:36:08.162238Z",
     "iopub.status.busy": "2021-12-16T10:36:08.161430Z",
     "iopub.status.idle": "2021-12-16T10:36:28.403221Z",
     "shell.execute_reply": "2021-12-16T10:36:28.402747Z",
     "shell.execute_reply.started": "2021-12-15T00:13:16.6147Z"
    },
    "papermill": {
     "duration": 20.908422,
     "end_time": "2021-12-16T10:36:28.403355",
     "exception": false,
     "start_time": "2021-12-16T10:36:07.494933",
     "status": "completed"
    },
    "tags": []
   },
   "outputs": [
    {
     "name": "stderr",
     "output_type": "stream",
     "text": [
      "Saving model checkpoint to feedback-bert-trained\n",
      "Configuration saved in feedback-bert-trained/config.json\n",
      "Model weights saved in feedback-bert-trained/pytorch_model.bin\n",
      "tokenizer config file saved in feedback-bert-trained/tokenizer_config.json\n",
      "Special tokens file saved in feedback-bert-trained/special_tokens_map.json\n"
     ]
    }
   ],
   "source": [
    "trainer.save_model(\"feedback-bert-trained\")"
   ]
  },
  {
   "cell_type": "markdown",
   "id": "d6b90dbf",
   "metadata": {
    "papermill": {
     "duration": 4.310097,
     "end_time": "2021-12-16T10:36:32.765655",
     "exception": false,
     "start_time": "2021-12-16T10:36:28.455558",
     "status": "completed"
    },
    "tags": []
   },
   "source": [
    "# Submit\n",
    "\n",
    "We will apply a process similar to the one we applied to the original train data, splitting each text into its sentences.\n",
    "\n",
    "See the [Evaluation tab](https://www.kaggle.com/c/feedback-prize-2021/overview/evaluation) for details about the `predictionstring` column"
   ]
  },
  {
   "cell_type": "code",
   "execution_count": 30,
   "id": "cdde1310",
   "metadata": {
    "execution": {
     "iopub.execute_input": "2021-12-16T10:36:34.848621Z",
     "iopub.status.busy": "2021-12-16T10:36:34.847613Z",
     "iopub.status.idle": "2021-12-16T10:36:34.933810Z",
     "shell.execute_reply": "2021-12-16T10:36:34.934729Z"
    },
    "papermill": {
     "duration": 0.590789,
     "end_time": "2021-12-16T10:36:34.935004",
     "exception": false,
     "start_time": "2021-12-16T10:36:34.344215",
     "status": "completed"
    },
    "tags": []
   },
   "outputs": [
    {
     "data": {
      "text/html": [
       "<div>\n",
       "<style scoped>\n",
       "    .dataframe tbody tr th:only-of-type {\n",
       "        vertical-align: middle;\n",
       "    }\n",
       "\n",
       "    .dataframe tbody tr th {\n",
       "        vertical-align: top;\n",
       "    }\n",
       "\n",
       "    .dataframe thead th {\n",
       "        text-align: right;\n",
       "    }\n",
       "</style>\n",
       "<table border=\"1\" class=\"dataframe\">\n",
       "  <thead>\n",
       "    <tr style=\"text-align: right;\">\n",
       "      <th></th>\n",
       "      <th>id</th>\n",
       "      <th>class</th>\n",
       "      <th>predictionstring</th>\n",
       "    </tr>\n",
       "  </thead>\n",
       "  <tbody>\n",
       "    <tr>\n",
       "      <th>0</th>\n",
       "      <td>18409261F5C2</td>\n",
       "      <td>NaN</td>\n",
       "      <td>NaN</td>\n",
       "    </tr>\n",
       "    <tr>\n",
       "      <th>1</th>\n",
       "      <td>D46BCB48440A</td>\n",
       "      <td>NaN</td>\n",
       "      <td>NaN</td>\n",
       "    </tr>\n",
       "    <tr>\n",
       "      <th>2</th>\n",
       "      <td>0FB0700DAF44</td>\n",
       "      <td>NaN</td>\n",
       "      <td>NaN</td>\n",
       "    </tr>\n",
       "    <tr>\n",
       "      <th>3</th>\n",
       "      <td>D72CB1C11673</td>\n",
       "      <td>NaN</td>\n",
       "      <td>NaN</td>\n",
       "    </tr>\n",
       "    <tr>\n",
       "      <th>4</th>\n",
       "      <td>DF920E0A7337</td>\n",
       "      <td>NaN</td>\n",
       "      <td>NaN</td>\n",
       "    </tr>\n",
       "  </tbody>\n",
       "</table>\n",
       "</div>"
      ],
      "text/plain": [
       "             id  class  predictionstring\n",
       "0  18409261F5C2    NaN               NaN\n",
       "1  D46BCB48440A    NaN               NaN\n",
       "2  0FB0700DAF44    NaN               NaN\n",
       "3  D72CB1C11673    NaN               NaN\n",
       "4  DF920E0A7337    NaN               NaN"
      ]
     },
     "execution_count": 30,
     "metadata": {},
     "output_type": "execute_result"
    }
   ],
   "source": [
    "df_sub = pd.read_csv(SUB_CSV)\n",
    "df_sub"
   ]
  },
  {
   "cell_type": "markdown",
   "id": "a75ca51f",
   "metadata": {
    "papermill": {
     "duration": 1.31094,
     "end_time": "2021-12-16T10:36:44.813167",
     "exception": false,
     "start_time": "2021-12-16T10:36:43.502227",
     "status": "completed"
    },
    "tags": []
   },
   "source": [
    "## Prepare test dataset"
   ]
  },
  {
   "cell_type": "code",
   "execution_count": 31,
   "id": "f04f41ac",
   "metadata": {
    "execution": {
     "iopub.execute_input": "2021-12-16T10:36:48.118370Z",
     "iopub.status.busy": "2021-12-16T10:36:48.117366Z",
     "iopub.status.idle": "2021-12-16T10:36:48.119202Z",
     "shell.execute_reply": "2021-12-16T10:36:48.119605Z",
     "shell.execute_reply.started": "2021-12-15T00:13:22.126114Z"
    },
    "papermill": {
     "duration": 1.48203,
     "end_time": "2021-12-16T10:36:48.119745",
     "exception": false,
     "start_time": "2021-12-16T10:36:46.637715",
     "status": "completed"
    },
    "tags": []
   },
   "outputs": [],
   "source": [
    "def get_test_text(a_id):\n",
    "    a_file = f\"{TEST_PATH}/{a_id}.txt\"\n",
    "    with open(a_file, \"r\") as fp:\n",
    "        txt = fp.read()\n",
    "    return txt\n",
    "\n",
    "def create_df_test():\n",
    "    test_ids = [f[:-4] for f in os.listdir(TEST_PATH)]\n",
    "    test_data = []\n",
    "    for test_id in test_ids:\n",
    "        text = get_test_text(test_id)\n",
    "        sentences = nltk.sent_tokenize(text)\n",
    "        id_sentences = []\n",
    "        idx = 0 \n",
    "        for sentence in sentences:\n",
    "            id_sentence = []\n",
    "            words = sentence.split()\n",
    "            # I created this heuristic for mapping words in senteces to \"word indexes\"\n",
    "            # This is not definitive and might have strong drawbacks and problems\n",
    "            for w in words:\n",
    "                id_sentence.append(idx)\n",
    "                idx+=1\n",
    "            id_sentences.append(id_sentence)\n",
    "        test_data += list(zip([test_id] * len(sentences), sentences, id_sentences))\n",
    "    df_test = pd.DataFrame(test_data, columns=['id', 'text', 'ids'])\n",
    "    return df_test"
   ]
  },
  {
   "cell_type": "code",
   "execution_count": 32,
   "id": "5fad8fea",
   "metadata": {
    "execution": {
     "iopub.execute_input": "2021-12-16T10:36:48.227192Z",
     "iopub.status.busy": "2021-12-16T10:36:48.226571Z",
     "iopub.status.idle": "2021-12-16T10:36:48.266390Z",
     "shell.execute_reply": "2021-12-16T10:36:48.266977Z",
     "shell.execute_reply.started": "2021-12-15T00:13:18.018416Z"
    },
    "papermill": {
     "duration": 0.094574,
     "end_time": "2021-12-16T10:36:48.267149",
     "exception": false,
     "start_time": "2021-12-16T10:36:48.172575",
     "status": "completed"
    },
    "tags": []
   },
   "outputs": [
    {
     "data": {
      "text/html": [
       "<div>\n",
       "<style scoped>\n",
       "    .dataframe tbody tr th:only-of-type {\n",
       "        vertical-align: middle;\n",
       "    }\n",
       "\n",
       "    .dataframe tbody tr th {\n",
       "        vertical-align: top;\n",
       "    }\n",
       "\n",
       "    .dataframe thead th {\n",
       "        text-align: right;\n",
       "    }\n",
       "</style>\n",
       "<table border=\"1\" class=\"dataframe\">\n",
       "  <thead>\n",
       "    <tr style=\"text-align: right;\">\n",
       "      <th></th>\n",
       "      <th>id</th>\n",
       "      <th>text</th>\n",
       "      <th>ids</th>\n",
       "    </tr>\n",
       "  </thead>\n",
       "  <tbody>\n",
       "    <tr>\n",
       "      <th>0</th>\n",
       "      <td>0FB0700DAF44</td>\n",
       "      <td>During a group project, have you ever asked a ...</td>\n",
       "      <td>[0, 1, 2, 3, 4, 5, 6, 7, 8, 9, 10, 11, 12, 13,...</td>\n",
       "    </tr>\n",
       "    <tr>\n",
       "      <th>1</th>\n",
       "      <td>0FB0700DAF44</td>\n",
       "      <td>Or, when you were studying for a math test, di...</td>\n",
       "      <td>[16, 17, 18, 19, 20, 21, 22, 23, 24, 25, 26, 2...</td>\n",
       "    </tr>\n",
       "    <tr>\n",
       "      <th>2</th>\n",
       "      <td>0FB0700DAF44</td>\n",
       "      <td>Asking for other's opinions is especially bene...</td>\n",
       "      <td>[41, 42, 43, 44, 45, 46, 47, 48, 49, 50, 51, 5...</td>\n",
       "    </tr>\n",
       "    <tr>\n",
       "      <th>3</th>\n",
       "      <td>0FB0700DAF44</td>\n",
       "      <td>Likewise, being diverse and asking many people...</td>\n",
       "      <td>[65, 66, 67, 68, 69, 70, 71, 72, 73, 74, 75, 7...</td>\n",
       "    </tr>\n",
       "    <tr>\n",
       "      <th>4</th>\n",
       "      <td>0FB0700DAF44</td>\n",
       "      <td>This is especially important as knowing multip...</td>\n",
       "      <td>[84, 85, 86, 87, 88, 89, 90, 91, 92, 93, 94, 9...</td>\n",
       "    </tr>\n",
       "  </tbody>\n",
       "</table>\n",
       "</div>"
      ],
      "text/plain": [
       "             id                                               text  \\\n",
       "0  0FB0700DAF44  During a group project, have you ever asked a ...   \n",
       "1  0FB0700DAF44  Or, when you were studying for a math test, di...   \n",
       "2  0FB0700DAF44  Asking for other's opinions is especially bene...   \n",
       "3  0FB0700DAF44  Likewise, being diverse and asking many people...   \n",
       "4  0FB0700DAF44  This is especially important as knowing multip...   \n",
       "\n",
       "                                                 ids  \n",
       "0  [0, 1, 2, 3, 4, 5, 6, 7, 8, 9, 10, 11, 12, 13,...  \n",
       "1  [16, 17, 18, 19, 20, 21, 22, 23, 24, 25, 26, 2...  \n",
       "2  [41, 42, 43, 44, 45, 46, 47, 48, 49, 50, 51, 5...  \n",
       "3  [65, 66, 67, 68, 69, 70, 71, 72, 73, 74, 75, 7...  \n",
       "4  [84, 85, 86, 87, 88, 89, 90, 91, 92, 93, 94, 9...  "
      ]
     },
     "execution_count": 32,
     "metadata": {},
     "output_type": "execute_result"
    }
   ],
   "source": [
    "df_test = create_df_test()\n",
    "df_test.head()"
   ]
  },
  {
   "cell_type": "code",
   "execution_count": 33,
   "id": "9fb7ab82",
   "metadata": {
    "execution": {
     "iopub.execute_input": "2021-12-16T10:36:48.376067Z",
     "iopub.status.busy": "2021-12-16T10:36:48.375279Z",
     "iopub.status.idle": "2021-12-16T10:36:48.445600Z",
     "shell.execute_reply": "2021-12-16T10:36:48.446009Z",
     "shell.execute_reply.started": "2021-12-15T00:13:18.98024Z"
    },
    "papermill": {
     "duration": 0.127266,
     "end_time": "2021-12-16T10:36:48.446182",
     "exception": false,
     "start_time": "2021-12-16T10:36:48.318916",
     "status": "completed"
    },
    "tags": []
   },
   "outputs": [
    {
     "data": {
      "application/vnd.jupyter.widget-view+json": {
       "model_id": "02aab9ba81a34254a57ab67ca0b02b66",
       "version_major": 2,
       "version_minor": 0
      },
      "text/plain": [
       "  0%|          | 0/1 [00:00<?, ?ba/s]"
      ]
     },
     "metadata": {},
     "output_type": "display_data"
    }
   ],
   "source": [
    "ds_test = Dataset.from_pandas(df_test)\n",
    "ds_test_tokenized = ds_test.map(preprocess_function, batched=True)"
   ]
  },
  {
   "cell_type": "markdown",
   "id": "4c90f300",
   "metadata": {
    "papermill": {
     "duration": 0.051482,
     "end_time": "2021-12-16T10:36:48.550933",
     "exception": false,
     "start_time": "2021-12-16T10:36:48.499451",
     "status": "completed"
    },
    "tags": []
   },
   "source": [
    "## Predict"
   ]
  },
  {
   "cell_type": "code",
   "execution_count": 34,
   "id": "eb52f011",
   "metadata": {
    "execution": {
     "iopub.execute_input": "2021-12-16T10:36:48.660085Z",
     "iopub.status.busy": "2021-12-16T10:36:48.659293Z",
     "iopub.status.idle": "2021-12-16T10:36:49.638791Z",
     "shell.execute_reply": "2021-12-16T10:36:49.638328Z",
     "shell.execute_reply.started": "2021-12-15T00:13:20.142274Z"
    },
    "papermill": {
     "duration": 1.034974,
     "end_time": "2021-12-16T10:36:49.638910",
     "exception": false,
     "start_time": "2021-12-16T10:36:48.603936",
     "status": "completed"
    },
    "tags": []
   },
   "outputs": [
    {
     "name": "stderr",
     "output_type": "stream",
     "text": [
      "The following columns in the test set  don't have a corresponding argument in `BertForSequenceClassification.forward` and have been ignored: text, id, ids.\n",
      "***** Running Prediction *****\n",
      "  Num examples = 187\n",
      "  Batch size = 8\n"
     ]
    },
    {
     "data": {
      "text/html": [
       "\n",
       "    <div>\n",
       "      \n",
       "      <progress value='24' max='24' style='width:300px; height:20px; vertical-align: middle;'></progress>\n",
       "      [24/24 00:00]\n",
       "    </div>\n",
       "    "
      ],
      "text/plain": [
       "<IPython.core.display.HTML object>"
      ]
     },
     "metadata": {},
     "output_type": "display_data"
    }
   ],
   "source": [
    "# Get the predictions!!\n",
    "test_predictions = trainer.predict(ds_test_tokenized)"
   ]
  },
  {
   "cell_type": "code",
   "execution_count": 35,
   "id": "1f7086ae",
   "metadata": {
    "execution": {
     "iopub.execute_input": "2021-12-16T10:36:49.761588Z",
     "iopub.status.busy": "2021-12-16T10:36:49.760419Z",
     "iopub.status.idle": "2021-12-16T10:36:49.774713Z",
     "shell.execute_reply": "2021-12-16T10:36:49.774216Z",
     "shell.execute_reply.started": "2021-12-15T00:13:22.005173Z"
    },
    "papermill": {
     "duration": 0.080107,
     "end_time": "2021-12-16T10:36:49.774838",
     "exception": false,
     "start_time": "2021-12-16T10:36:49.694731",
     "status": "completed"
    },
    "tags": []
   },
   "outputs": [
    {
     "data": {
      "text/html": [
       "<div>\n",
       "<style scoped>\n",
       "    .dataframe tbody tr th:only-of-type {\n",
       "        vertical-align: middle;\n",
       "    }\n",
       "\n",
       "    .dataframe tbody tr th {\n",
       "        vertical-align: top;\n",
       "    }\n",
       "\n",
       "    .dataframe thead th {\n",
       "        text-align: right;\n",
       "    }\n",
       "</style>\n",
       "<table border=\"1\" class=\"dataframe\">\n",
       "  <thead>\n",
       "    <tr style=\"text-align: right;\">\n",
       "      <th></th>\n",
       "      <th>id</th>\n",
       "      <th>text</th>\n",
       "      <th>ids</th>\n",
       "      <th>predictions</th>\n",
       "      <th>class</th>\n",
       "    </tr>\n",
       "  </thead>\n",
       "  <tbody>\n",
       "    <tr>\n",
       "      <th>0</th>\n",
       "      <td>0FB0700DAF44</td>\n",
       "      <td>During a group project, have you ever asked a ...</td>\n",
       "      <td>[0, 1, 2, 3, 4, 5, 6, 7, 8, 9, 10, 11, 12, 13,...</td>\n",
       "      <td>2</td>\n",
       "      <td>Evidence</td>\n",
       "    </tr>\n",
       "    <tr>\n",
       "      <th>1</th>\n",
       "      <td>0FB0700DAF44</td>\n",
       "      <td>Or, when you were studying for a math test, di...</td>\n",
       "      <td>[16, 17, 18, 19, 20, 21, 22, 23, 24, 25, 26, 2...</td>\n",
       "      <td>0</td>\n",
       "      <td>Lead</td>\n",
       "    </tr>\n",
       "    <tr>\n",
       "      <th>2</th>\n",
       "      <td>0FB0700DAF44</td>\n",
       "      <td>Asking for other's opinions is especially bene...</td>\n",
       "      <td>[41, 42, 43, 44, 45, 46, 47, 48, 49, 50, 51, 5...</td>\n",
       "      <td>3</td>\n",
       "      <td>Claim</td>\n",
       "    </tr>\n",
       "    <tr>\n",
       "      <th>3</th>\n",
       "      <td>0FB0700DAF44</td>\n",
       "      <td>Likewise, being diverse and asking many people...</td>\n",
       "      <td>[65, 66, 67, 68, 69, 70, 71, 72, 73, 74, 75, 7...</td>\n",
       "      <td>2</td>\n",
       "      <td>Evidence</td>\n",
       "    </tr>\n",
       "    <tr>\n",
       "      <th>4</th>\n",
       "      <td>0FB0700DAF44</td>\n",
       "      <td>This is especially important as knowing multip...</td>\n",
       "      <td>[84, 85, 86, 87, 88, 89, 90, 91, 92, 93, 94, 9...</td>\n",
       "      <td>2</td>\n",
       "      <td>Evidence</td>\n",
       "    </tr>\n",
       "  </tbody>\n",
       "</table>\n",
       "</div>"
      ],
      "text/plain": [
       "             id                                               text  \\\n",
       "0  0FB0700DAF44  During a group project, have you ever asked a ...   \n",
       "1  0FB0700DAF44  Or, when you were studying for a math test, di...   \n",
       "2  0FB0700DAF44  Asking for other's opinions is especially bene...   \n",
       "3  0FB0700DAF44  Likewise, being diverse and asking many people...   \n",
       "4  0FB0700DAF44  This is especially important as knowing multip...   \n",
       "\n",
       "                                                 ids  predictions     class  \n",
       "0  [0, 1, 2, 3, 4, 5, 6, 7, 8, 9, 10, 11, 12, 13,...            2  Evidence  \n",
       "1  [16, 17, 18, 19, 20, 21, 22, 23, 24, 25, 26, 2...            0      Lead  \n",
       "2  [41, 42, 43, 44, 45, 46, 47, 48, 49, 50, 51, 5...            3     Claim  \n",
       "3  [65, 66, 67, 68, 69, 70, 71, 72, 73, 74, 75, 7...            2  Evidence  \n",
       "4  [84, 85, 86, 87, 88, 89, 90, 91, 92, 93, 94, 9...            2  Evidence  "
      ]
     },
     "execution_count": 35,
     "metadata": {},
     "output_type": "execute_result"
    }
   ],
   "source": [
    "# Turn logits into classes\n",
    "df_test['predictions'] = test_predictions.predictions.argmax(axis=1)\n",
    "\n",
    "# Turn class ids into class labels\n",
    "df_test['class'] = df_test['predictions'].map(ID2CLASS)\n",
    "df_test.head()"
   ]
  },
  {
   "cell_type": "markdown",
   "id": "a7e0f32d",
   "metadata": {
    "papermill": {
     "duration": 0.058824,
     "end_time": "2021-12-16T10:36:49.894291",
     "exception": false,
     "start_time": "2021-12-16T10:36:49.835467",
     "status": "completed"
    },
    "tags": []
   },
   "source": [
    "For now, we are submitting one row per sentence and not \"elements\". \n",
    "\n",
    "How to convert sentences into \"elements\" (blocks of setences) is not clear since there are times when various sentences with the same class are flagged in independent \"elements\"."
   ]
  },
  {
   "cell_type": "code",
   "execution_count": 36,
   "id": "b15ed216",
   "metadata": {
    "execution": {
     "iopub.execute_input": "2021-12-16T10:36:50.023221Z",
     "iopub.status.busy": "2021-12-16T10:36:50.022281Z",
     "iopub.status.idle": "2021-12-16T10:36:50.034268Z",
     "shell.execute_reply": "2021-12-16T10:36:50.033746Z",
     "shell.execute_reply.started": "2021-12-15T00:13:22.022683Z"
    },
    "papermill": {
     "duration": 0.079715,
     "end_time": "2021-12-16T10:36:50.034405",
     "exception": false,
     "start_time": "2021-12-16T10:36:49.954690",
     "status": "completed"
    },
    "tags": []
   },
   "outputs": [
    {
     "data": {
      "text/html": [
       "<div>\n",
       "<style scoped>\n",
       "    .dataframe tbody tr th:only-of-type {\n",
       "        vertical-align: middle;\n",
       "    }\n",
       "\n",
       "    .dataframe tbody tr th {\n",
       "        vertical-align: top;\n",
       "    }\n",
       "\n",
       "    .dataframe thead th {\n",
       "        text-align: right;\n",
       "    }\n",
       "</style>\n",
       "<table border=\"1\" class=\"dataframe\">\n",
       "  <thead>\n",
       "    <tr style=\"text-align: right;\">\n",
       "      <th></th>\n",
       "      <th>id</th>\n",
       "      <th>text</th>\n",
       "      <th>ids</th>\n",
       "      <th>predictions</th>\n",
       "      <th>class</th>\n",
       "      <th>predictionstring</th>\n",
       "    </tr>\n",
       "  </thead>\n",
       "  <tbody>\n",
       "    <tr>\n",
       "      <th>0</th>\n",
       "      <td>0FB0700DAF44</td>\n",
       "      <td>During a group project, have you ever asked a ...</td>\n",
       "      <td>[0, 1, 2, 3, 4, 5, 6, 7, 8, 9, 10, 11, 12, 13,...</td>\n",
       "      <td>2</td>\n",
       "      <td>Evidence</td>\n",
       "      <td>0 1 2 3 4 5 6 7 8 9 10 11 12 13 14 15</td>\n",
       "    </tr>\n",
       "    <tr>\n",
       "      <th>1</th>\n",
       "      <td>0FB0700DAF44</td>\n",
       "      <td>Or, when you were studying for a math test, di...</td>\n",
       "      <td>[16, 17, 18, 19, 20, 21, 22, 23, 24, 25, 26, 2...</td>\n",
       "      <td>0</td>\n",
       "      <td>Lead</td>\n",
       "      <td>16 17 18 19 20 21 22 23 24 25 26 27 28 29 30 3...</td>\n",
       "    </tr>\n",
       "    <tr>\n",
       "      <th>2</th>\n",
       "      <td>0FB0700DAF44</td>\n",
       "      <td>Asking for other's opinions is especially bene...</td>\n",
       "      <td>[41, 42, 43, 44, 45, 46, 47, 48, 49, 50, 51, 5...</td>\n",
       "      <td>3</td>\n",
       "      <td>Claim</td>\n",
       "      <td>41 42 43 44 45 46 47 48 49 50 51 52 53 54 55 5...</td>\n",
       "    </tr>\n",
       "    <tr>\n",
       "      <th>3</th>\n",
       "      <td>0FB0700DAF44</td>\n",
       "      <td>Likewise, being diverse and asking many people...</td>\n",
       "      <td>[65, 66, 67, 68, 69, 70, 71, 72, 73, 74, 75, 7...</td>\n",
       "      <td>2</td>\n",
       "      <td>Evidence</td>\n",
       "      <td>65 66 67 68 69 70 71 72 73 74 75 76 77 78 79 8...</td>\n",
       "    </tr>\n",
       "    <tr>\n",
       "      <th>4</th>\n",
       "      <td>0FB0700DAF44</td>\n",
       "      <td>This is especially important as knowing multip...</td>\n",
       "      <td>[84, 85, 86, 87, 88, 89, 90, 91, 92, 93, 94, 9...</td>\n",
       "      <td>2</td>\n",
       "      <td>Evidence</td>\n",
       "      <td>84 85 86 87 88 89 90 91 92 93 94 95 96 97 98 9...</td>\n",
       "    </tr>\n",
       "  </tbody>\n",
       "</table>\n",
       "</div>"
      ],
      "text/plain": [
       "             id                                               text  \\\n",
       "0  0FB0700DAF44  During a group project, have you ever asked a ...   \n",
       "1  0FB0700DAF44  Or, when you were studying for a math test, di...   \n",
       "2  0FB0700DAF44  Asking for other's opinions is especially bene...   \n",
       "3  0FB0700DAF44  Likewise, being diverse and asking many people...   \n",
       "4  0FB0700DAF44  This is especially important as knowing multip...   \n",
       "\n",
       "                                                 ids  predictions     class  \\\n",
       "0  [0, 1, 2, 3, 4, 5, 6, 7, 8, 9, 10, 11, 12, 13,...            2  Evidence   \n",
       "1  [16, 17, 18, 19, 20, 21, 22, 23, 24, 25, 26, 2...            0      Lead   \n",
       "2  [41, 42, 43, 44, 45, 46, 47, 48, 49, 50, 51, 5...            3     Claim   \n",
       "3  [65, 66, 67, 68, 69, 70, 71, 72, 73, 74, 75, 7...            2  Evidence   \n",
       "4  [84, 85, 86, 87, 88, 89, 90, 91, 92, 93, 94, 9...            2  Evidence   \n",
       "\n",
       "                                    predictionstring  \n",
       "0              0 1 2 3 4 5 6 7 8 9 10 11 12 13 14 15  \n",
       "1  16 17 18 19 20 21 22 23 24 25 26 27 28 29 30 3...  \n",
       "2  41 42 43 44 45 46 47 48 49 50 51 52 53 54 55 5...  \n",
       "3  65 66 67 68 69 70 71 72 73 74 75 76 77 78 79 8...  \n",
       "4  84 85 86 87 88 89 90 91 92 93 94 95 96 97 98 9...  "
      ]
     },
     "execution_count": 36,
     "metadata": {},
     "output_type": "execute_result"
    }
   ],
   "source": [
    "# Turn the word ids into this weird predictionstring required\n",
    "df_test['predictionstring'] = df_test['ids'].apply(lambda x: ' '.join([str(i) for i in x]))\n",
    "df_test.head()"
   ]
  },
  {
   "cell_type": "code",
   "execution_count": 37,
   "id": "8fb7eefb",
   "metadata": {
    "execution": {
     "iopub.execute_input": "2021-12-16T10:36:50.161747Z",
     "iopub.status.busy": "2021-12-16T10:36:50.160907Z",
     "iopub.status.idle": "2021-12-16T10:36:50.173409Z",
     "shell.execute_reply": "2021-12-16T10:36:50.172972Z",
     "shell.execute_reply.started": "2021-12-15T00:13:22.042042Z"
    },
    "papermill": {
     "duration": 0.077991,
     "end_time": "2021-12-16T10:36:50.173528",
     "exception": false,
     "start_time": "2021-12-16T10:36:50.095537",
     "status": "completed"
    },
    "tags": []
   },
   "outputs": [
    {
     "data": {
      "text/html": [
       "<div>\n",
       "<style scoped>\n",
       "    .dataframe tbody tr th:only-of-type {\n",
       "        vertical-align: middle;\n",
       "    }\n",
       "\n",
       "    .dataframe tbody tr th {\n",
       "        vertical-align: top;\n",
       "    }\n",
       "\n",
       "    .dataframe thead th {\n",
       "        text-align: right;\n",
       "    }\n",
       "</style>\n",
       "<table border=\"1\" class=\"dataframe\">\n",
       "  <thead>\n",
       "    <tr style=\"text-align: right;\">\n",
       "      <th></th>\n",
       "      <th>id</th>\n",
       "      <th>text</th>\n",
       "      <th>ids</th>\n",
       "      <th>predictions</th>\n",
       "      <th>class</th>\n",
       "      <th>predictionstring</th>\n",
       "    </tr>\n",
       "  </thead>\n",
       "  <tbody>\n",
       "    <tr>\n",
       "      <th>0</th>\n",
       "      <td>0FB0700DAF44</td>\n",
       "      <td>During a group project, have you ever asked a ...</td>\n",
       "      <td>[0, 1, 2, 3, 4, 5, 6, 7, 8, 9, 10, 11, 12, 13,...</td>\n",
       "      <td>2</td>\n",
       "      <td>Evidence</td>\n",
       "      <td>0 1 2 3 4 5 6 7 8 9 10 11 12 13 14 15</td>\n",
       "    </tr>\n",
       "    <tr>\n",
       "      <th>1</th>\n",
       "      <td>0FB0700DAF44</td>\n",
       "      <td>Or, when you were studying for a math test, di...</td>\n",
       "      <td>[16, 17, 18, 19, 20, 21, 22, 23, 24, 25, 26, 2...</td>\n",
       "      <td>0</td>\n",
       "      <td>Lead</td>\n",
       "      <td>16 17 18 19 20 21 22 23 24 25 26 27 28 29 30 3...</td>\n",
       "    </tr>\n",
       "    <tr>\n",
       "      <th>2</th>\n",
       "      <td>0FB0700DAF44</td>\n",
       "      <td>Asking for other's opinions is especially bene...</td>\n",
       "      <td>[41, 42, 43, 44, 45, 46, 47, 48, 49, 50, 51, 5...</td>\n",
       "      <td>3</td>\n",
       "      <td>Claim</td>\n",
       "      <td>41 42 43 44 45 46 47 48 49 50 51 52 53 54 55 5...</td>\n",
       "    </tr>\n",
       "    <tr>\n",
       "      <th>3</th>\n",
       "      <td>0FB0700DAF44</td>\n",
       "      <td>Likewise, being diverse and asking many people...</td>\n",
       "      <td>[65, 66, 67, 68, 69, 70, 71, 72, 73, 74, 75, 7...</td>\n",
       "      <td>2</td>\n",
       "      <td>Evidence</td>\n",
       "      <td>65 66 67 68 69 70 71 72 73 74 75 76 77 78 79 8...</td>\n",
       "    </tr>\n",
       "    <tr>\n",
       "      <th>4</th>\n",
       "      <td>0FB0700DAF44</td>\n",
       "      <td>This is especially important as knowing multip...</td>\n",
       "      <td>[84, 85, 86, 87, 88, 89, 90, 91, 92, 93, 94, 9...</td>\n",
       "      <td>2</td>\n",
       "      <td>Evidence</td>\n",
       "      <td>84 85 86 87 88 89 90 91 92 93 94 95 96 97 98 9...</td>\n",
       "    </tr>\n",
       "  </tbody>\n",
       "</table>\n",
       "</div>"
      ],
      "text/plain": [
       "             id                                               text  \\\n",
       "0  0FB0700DAF44  During a group project, have you ever asked a ...   \n",
       "1  0FB0700DAF44  Or, when you were studying for a math test, di...   \n",
       "2  0FB0700DAF44  Asking for other's opinions is especially bene...   \n",
       "3  0FB0700DAF44  Likewise, being diverse and asking many people...   \n",
       "4  0FB0700DAF44  This is especially important as knowing multip...   \n",
       "\n",
       "                                                 ids  predictions     class  \\\n",
       "0  [0, 1, 2, 3, 4, 5, 6, 7, 8, 9, 10, 11, 12, 13,...            2  Evidence   \n",
       "1  [16, 17, 18, 19, 20, 21, 22, 23, 24, 25, 26, 2...            0      Lead   \n",
       "2  [41, 42, 43, 44, 45, 46, 47, 48, 49, 50, 51, 5...            3     Claim   \n",
       "3  [65, 66, 67, 68, 69, 70, 71, 72, 73, 74, 75, 7...            2  Evidence   \n",
       "4  [84, 85, 86, 87, 88, 89, 90, 91, 92, 93, 94, 9...            2  Evidence   \n",
       "\n",
       "                                    predictionstring  \n",
       "0              0 1 2 3 4 5 6 7 8 9 10 11 12 13 14 15  \n",
       "1  16 17 18 19 20 21 22 23 24 25 26 27 28 29 30 3...  \n",
       "2  41 42 43 44 45 46 47 48 49 50 51 52 53 54 55 5...  \n",
       "3  65 66 67 68 69 70 71 72 73 74 75 76 77 78 79 8...  \n",
       "4  84 85 86 87 88 89 90 91 92 93 94 95 96 97 98 9...  "
      ]
     },
     "execution_count": 37,
     "metadata": {},
     "output_type": "execute_result"
    }
   ],
   "source": [
    "# Drop \"No class\" sentences\n",
    "df_test = df_test[df_test['class'] != 'No Class']\n",
    "df_test.head()"
   ]
  },
  {
   "cell_type": "code",
   "execution_count": 38,
   "id": "262113f1",
   "metadata": {
    "execution": {
     "iopub.execute_input": "2021-12-16T10:36:50.294247Z",
     "iopub.status.busy": "2021-12-16T10:36:50.293342Z",
     "iopub.status.idle": "2021-12-16T10:36:50.296898Z",
     "shell.execute_reply": "2021-12-16T10:36:50.297397Z",
     "shell.execute_reply.started": "2021-12-15T00:13:22.064349Z"
    },
    "papermill": {
     "duration": 0.068042,
     "end_time": "2021-12-16T10:36:50.297559",
     "exception": false,
     "start_time": "2021-12-16T10:36:50.229517",
     "status": "completed"
    },
    "tags": []
   },
   "outputs": [],
   "source": [
    "# And submit!! 🤞🤞 \n",
    "df_test[['id', 'class', 'predictionstring']].to_csv(\"submission.csv\", index=False)"
   ]
  },
  {
   "cell_type": "markdown",
   "id": "67e5c2dd",
   "metadata": {
    "papermill": {
     "duration": 0.055899,
     "end_time": "2021-12-16T10:36:50.409711",
     "exception": false,
     "start_time": "2021-12-16T10:36:50.353812",
     "status": "completed"
    },
    "tags": []
   },
   "source": [
    "## Please, _DO_ upvote if you find it useful or interesting!! \n",
    "#### I'm very close to becoming a grandmaster and very excited about it 😇🙏"
   ]
  }
 ],
 "metadata": {
  "kernelspec": {
   "display_name": "Python 3",
   "language": "python",
   "name": "python3"
  },
  "language_info": {
   "codemirror_mode": {
    "name": "ipython",
    "version": 3
   },
   "file_extension": ".py",
   "mimetype": "text/x-python",
   "name": "python",
   "nbconvert_exporter": "python",
   "pygments_lexer": "ipython3",
   "version": "3.7.12"
  },
  "papermill": {
   "default_parameters": {},
   "duration": 20125.026482,
   "end_time": "2021-12-16T10:36:53.505329",
   "environment_variables": {},
   "exception": null,
   "input_path": "__notebook__.ipynb",
   "output_path": "__notebook__.ipynb",
   "parameters": {},
   "start_time": "2021-12-16T05:01:28.478847",
   "version": "2.3.3"
  },
  "widgets": {
   "application/vnd.jupyter.widget-state+json": {
    "state": {
     "02aab9ba81a34254a57ab67ca0b02b66": {
      "model_module": "@jupyter-widgets/controls",
      "model_module_version": "1.5.0",
      "model_name": "HBoxModel",
      "state": {
       "_dom_classes": [],
       "_model_module": "@jupyter-widgets/controls",
       "_model_module_version": "1.5.0",
       "_model_name": "HBoxModel",
       "_view_count": null,
       "_view_module": "@jupyter-widgets/controls",
       "_view_module_version": "1.5.0",
       "_view_name": "HBoxView",
       "box_style": "",
       "children": [
        "IPY_MODEL_2cc80a74873c4fdfb373f7cf4faf5dcb",
        "IPY_MODEL_88ce4757d96040aebea9625b57b68103",
        "IPY_MODEL_55645abcb9fa420a91cb3c1d3271183c"
       ],
       "layout": "IPY_MODEL_4e43afe4c417410f8b4feed9bedaffc4"
      }
     },
     "0528c3041907450eac2f3561fb75f907": {
      "model_module": "@jupyter-widgets/controls",
      "model_module_version": "1.5.0",
      "model_name": "HBoxModel",
      "state": {
       "_dom_classes": [],
       "_model_module": "@jupyter-widgets/controls",
       "_model_module_version": "1.5.0",
       "_model_name": "HBoxModel",
       "_view_count": null,
       "_view_module": "@jupyter-widgets/controls",
       "_view_module_version": "1.5.0",
       "_view_name": "HBoxView",
       "box_style": "",
       "children": [
        "IPY_MODEL_1e637abf19cf49b8965d8192e05ebad1",
        "IPY_MODEL_462fef37693c4d078446a252f8b62e41",
        "IPY_MODEL_adce898152924155a503b472433b95d9"
       ],
       "layout": "IPY_MODEL_6cfa1e2eba064b6d8ec73c8f054d30d2"
      }
     },
     "0a8c62becad14dcbbad8861171b77b40": {
      "model_module": "@jupyter-widgets/controls",
      "model_module_version": "1.5.0",
      "model_name": "DescriptionStyleModel",
      "state": {
       "_model_module": "@jupyter-widgets/controls",
       "_model_module_version": "1.5.0",
       "_model_name": "DescriptionStyleModel",
       "_view_count": null,
       "_view_module": "@jupyter-widgets/base",
       "_view_module_version": "1.2.0",
       "_view_name": "StyleView",
       "description_width": ""
      }
     },
     "11a5eca66d0c4e7799d96423585cbc48": {
      "model_module": "@jupyter-widgets/base",
      "model_module_version": "1.2.0",
      "model_name": "LayoutModel",
      "state": {
       "_model_module": "@jupyter-widgets/base",
       "_model_module_version": "1.2.0",
       "_model_name": "LayoutModel",
       "_view_count": null,
       "_view_module": "@jupyter-widgets/base",
       "_view_module_version": "1.2.0",
       "_view_name": "LayoutView",
       "align_content": null,
       "align_items": null,
       "align_self": null,
       "border": null,
       "bottom": null,
       "display": null,
       "flex": null,
       "flex_flow": null,
       "grid_area": null,
       "grid_auto_columns": null,
       "grid_auto_flow": null,
       "grid_auto_rows": null,
       "grid_column": null,
       "grid_gap": null,
       "grid_row": null,
       "grid_template_areas": null,
       "grid_template_columns": null,
       "grid_template_rows": null,
       "height": null,
       "justify_content": null,
       "justify_items": null,
       "left": null,
       "margin": null,
       "max_height": null,
       "max_width": null,
       "min_height": null,
       "min_width": null,
       "object_fit": null,
       "object_position": null,
       "order": null,
       "overflow": null,
       "overflow_x": null,
       "overflow_y": null,
       "padding": null,
       "right": null,
       "top": null,
       "visibility": null,
       "width": null
      }
     },
     "1e637abf19cf49b8965d8192e05ebad1": {
      "model_module": "@jupyter-widgets/controls",
      "model_module_version": "1.5.0",
      "model_name": "HTMLModel",
      "state": {
       "_dom_classes": [],
       "_model_module": "@jupyter-widgets/controls",
       "_model_module_version": "1.5.0",
       "_model_name": "HTMLModel",
       "_view_count": null,
       "_view_module": "@jupyter-widgets/controls",
       "_view_module_version": "1.5.0",
       "_view_name": "HTMLView",
       "description": "",
       "description_tooltip": null,
       "layout": "IPY_MODEL_11a5eca66d0c4e7799d96423585cbc48",
       "placeholder": "​",
       "style": "IPY_MODEL_ee501c4fc0a743e79210ffffb18edeae",
       "value": "100%"
      }
     },
     "202cf79eabd64f2fbd707e12d777a3c0": {
      "model_module": "@jupyter-widgets/controls",
      "model_module_version": "1.5.0",
      "model_name": "DescriptionStyleModel",
      "state": {
       "_model_module": "@jupyter-widgets/controls",
       "_model_module_version": "1.5.0",
       "_model_name": "DescriptionStyleModel",
       "_view_count": null,
       "_view_module": "@jupyter-widgets/base",
       "_view_module_version": "1.2.0",
       "_view_name": "StyleView",
       "description_width": ""
      }
     },
     "2cc80a74873c4fdfb373f7cf4faf5dcb": {
      "model_module": "@jupyter-widgets/controls",
      "model_module_version": "1.5.0",
      "model_name": "HTMLModel",
      "state": {
       "_dom_classes": [],
       "_model_module": "@jupyter-widgets/controls",
       "_model_module_version": "1.5.0",
       "_model_name": "HTMLModel",
       "_view_count": null,
       "_view_module": "@jupyter-widgets/controls",
       "_view_module_version": "1.5.0",
       "_view_name": "HTMLView",
       "description": "",
       "description_tooltip": null,
       "layout": "IPY_MODEL_8a24103df87b482b9520981654f789f6",
       "placeholder": "​",
       "style": "IPY_MODEL_202cf79eabd64f2fbd707e12d777a3c0",
       "value": "100%"
      }
     },
     "2e7267e43b0e4b61b1fdeda772211570": {
      "model_module": "@jupyter-widgets/controls",
      "model_module_version": "1.5.0",
      "model_name": "ProgressStyleModel",
      "state": {
       "_model_module": "@jupyter-widgets/controls",
       "_model_module_version": "1.5.0",
       "_model_name": "ProgressStyleModel",
       "_view_count": null,
       "_view_module": "@jupyter-widgets/base",
       "_view_module_version": "1.2.0",
       "_view_name": "StyleView",
       "bar_color": null,
       "description_width": ""
      }
     },
     "3d9ee04ed8fa47288108d453793a4c55": {
      "model_module": "@jupyter-widgets/controls",
      "model_module_version": "1.5.0",
      "model_name": "HTMLModel",
      "state": {
       "_dom_classes": [],
       "_model_module": "@jupyter-widgets/controls",
       "_model_module_version": "1.5.0",
       "_model_name": "HTMLModel",
       "_view_count": null,
       "_view_module": "@jupyter-widgets/controls",
       "_view_module_version": "1.5.0",
       "_view_name": "HTMLView",
       "description": "",
       "description_tooltip": null,
       "layout": "IPY_MODEL_f32b6885e2944869b831456a36560249",
       "placeholder": "​",
       "style": "IPY_MODEL_faea4b9b89a843d29c1577b31d20087f",
       "value": " 9/9 [00:00&lt;00:00, 12.83ba/s]"
      }
     },
     "411ef686cea848d7b57c33198ee5377a": {
      "model_module": "@jupyter-widgets/base",
      "model_module_version": "1.2.0",
      "model_name": "LayoutModel",
      "state": {
       "_model_module": "@jupyter-widgets/base",
       "_model_module_version": "1.2.0",
       "_model_name": "LayoutModel",
       "_view_count": null,
       "_view_module": "@jupyter-widgets/base",
       "_view_module_version": "1.2.0",
       "_view_name": "LayoutView",
       "align_content": null,
       "align_items": null,
       "align_self": null,
       "border": null,
       "bottom": null,
       "display": null,
       "flex": null,
       "flex_flow": null,
       "grid_area": null,
       "grid_auto_columns": null,
       "grid_auto_flow": null,
       "grid_auto_rows": null,
       "grid_column": null,
       "grid_gap": null,
       "grid_row": null,
       "grid_template_areas": null,
       "grid_template_columns": null,
       "grid_template_rows": null,
       "height": null,
       "justify_content": null,
       "justify_items": null,
       "left": null,
       "margin": null,
       "max_height": null,
       "max_width": null,
       "min_height": null,
       "min_width": null,
       "object_fit": null,
       "object_position": null,
       "order": null,
       "overflow": null,
       "overflow_x": null,
       "overflow_y": null,
       "padding": null,
       "right": null,
       "top": null,
       "visibility": null,
       "width": null
      }
     },
     "462fef37693c4d078446a252f8b62e41": {
      "model_module": "@jupyter-widgets/controls",
      "model_module_version": "1.5.0",
      "model_name": "FloatProgressModel",
      "state": {
       "_dom_classes": [],
       "_model_module": "@jupyter-widgets/controls",
       "_model_module_version": "1.5.0",
       "_model_name": "FloatProgressModel",
       "_view_count": null,
       "_view_module": "@jupyter-widgets/controls",
       "_view_module_version": "1.5.0",
       "_view_name": "ProgressView",
       "bar_style": "success",
       "description": "",
       "description_tooltip": null,
       "layout": "IPY_MODEL_ae90d7f1eacb4c1b8e8784ff4affdeee",
       "max": 340.0,
       "min": 0.0,
       "orientation": "horizontal",
       "style": "IPY_MODEL_2e7267e43b0e4b61b1fdeda772211570",
       "value": 340.0
      }
     },
     "46e9fcb5f3174b04ae6d911f5f598315": {
      "model_module": "@jupyter-widgets/base",
      "model_module_version": "1.2.0",
      "model_name": "LayoutModel",
      "state": {
       "_model_module": "@jupyter-widgets/base",
       "_model_module_version": "1.2.0",
       "_model_name": "LayoutModel",
       "_view_count": null,
       "_view_module": "@jupyter-widgets/base",
       "_view_module_version": "1.2.0",
       "_view_name": "LayoutView",
       "align_content": null,
       "align_items": null,
       "align_self": null,
       "border": null,
       "bottom": null,
       "display": null,
       "flex": null,
       "flex_flow": null,
       "grid_area": null,
       "grid_auto_columns": null,
       "grid_auto_flow": null,
       "grid_auto_rows": null,
       "grid_column": null,
       "grid_gap": null,
       "grid_row": null,
       "grid_template_areas": null,
       "grid_template_columns": null,
       "grid_template_rows": null,
       "height": null,
       "justify_content": null,
       "justify_items": null,
       "left": null,
       "margin": null,
       "max_height": null,
       "max_width": null,
       "min_height": null,
       "min_width": null,
       "object_fit": null,
       "object_position": null,
       "order": null,
       "overflow": null,
       "overflow_x": null,
       "overflow_y": null,
       "padding": null,
       "right": null,
       "top": null,
       "visibility": null,
       "width": null
      }
     },
     "4aec11cb4aaa4c41a06460579a2f4f62": {
      "model_module": "@jupyter-widgets/controls",
      "model_module_version": "1.5.0",
      "model_name": "FloatProgressModel",
      "state": {
       "_dom_classes": [],
       "_model_module": "@jupyter-widgets/controls",
       "_model_module_version": "1.5.0",
       "_model_name": "FloatProgressModel",
       "_view_count": null,
       "_view_module": "@jupyter-widgets/controls",
       "_view_module_version": "1.5.0",
       "_view_name": "ProgressView",
       "bar_style": "success",
       "description": "",
       "description_tooltip": null,
       "layout": "IPY_MODEL_46e9fcb5f3174b04ae6d911f5f598315",
       "max": 9.0,
       "min": 0.0,
       "orientation": "horizontal",
       "style": "IPY_MODEL_ef3383d5875c4d2c92c86010d8d3240d",
       "value": 9.0
      }
     },
     "4e43afe4c417410f8b4feed9bedaffc4": {
      "model_module": "@jupyter-widgets/base",
      "model_module_version": "1.2.0",
      "model_name": "LayoutModel",
      "state": {
       "_model_module": "@jupyter-widgets/base",
       "_model_module_version": "1.2.0",
       "_model_name": "LayoutModel",
       "_view_count": null,
       "_view_module": "@jupyter-widgets/base",
       "_view_module_version": "1.2.0",
       "_view_name": "LayoutView",
       "align_content": null,
       "align_items": null,
       "align_self": null,
       "border": null,
       "bottom": null,
       "display": null,
       "flex": null,
       "flex_flow": null,
       "grid_area": null,
       "grid_auto_columns": null,
       "grid_auto_flow": null,
       "grid_auto_rows": null,
       "grid_column": null,
       "grid_gap": null,
       "grid_row": null,
       "grid_template_areas": null,
       "grid_template_columns": null,
       "grid_template_rows": null,
       "height": null,
       "justify_content": null,
       "justify_items": null,
       "left": null,
       "margin": null,
       "max_height": null,
       "max_width": null,
       "min_height": null,
       "min_width": null,
       "object_fit": null,
       "object_position": null,
       "order": null,
       "overflow": null,
       "overflow_x": null,
       "overflow_y": null,
       "padding": null,
       "right": null,
       "top": null,
       "visibility": null,
       "width": null
      }
     },
     "55645abcb9fa420a91cb3c1d3271183c": {
      "model_module": "@jupyter-widgets/controls",
      "model_module_version": "1.5.0",
      "model_name": "HTMLModel",
      "state": {
       "_dom_classes": [],
       "_model_module": "@jupyter-widgets/controls",
       "_model_module_version": "1.5.0",
       "_model_name": "HTMLModel",
       "_view_count": null,
       "_view_module": "@jupyter-widgets/controls",
       "_view_module_version": "1.5.0",
       "_view_name": "HTMLView",
       "description": "",
       "description_tooltip": null,
       "layout": "IPY_MODEL_cb63047f741240d29ac2dd724dc9c318",
       "placeholder": "​",
       "style": "IPY_MODEL_6d2a52b2918848659197de6508b08d30",
       "value": " 1/1 [00:00&lt;00:00, 19.81ba/s]"
      }
     },
     "6cfa1e2eba064b6d8ec73c8f054d30d2": {
      "model_module": "@jupyter-widgets/base",
      "model_module_version": "1.2.0",
      "model_name": "LayoutModel",
      "state": {
       "_model_module": "@jupyter-widgets/base",
       "_model_module_version": "1.2.0",
       "_model_name": "LayoutModel",
       "_view_count": null,
       "_view_module": "@jupyter-widgets/base",
       "_view_module_version": "1.2.0",
       "_view_name": "LayoutView",
       "align_content": null,
       "align_items": null,
       "align_self": null,
       "border": null,
       "bottom": null,
       "display": null,
       "flex": null,
       "flex_flow": null,
       "grid_area": null,
       "grid_auto_columns": null,
       "grid_auto_flow": null,
       "grid_auto_rows": null,
       "grid_column": null,
       "grid_gap": null,
       "grid_row": null,
       "grid_template_areas": null,
       "grid_template_columns": null,
       "grid_template_rows": null,
       "height": null,
       "justify_content": null,
       "justify_items": null,
       "left": null,
       "margin": null,
       "max_height": null,
       "max_width": null,
       "min_height": null,
       "min_width": null,
       "object_fit": null,
       "object_position": null,
       "order": null,
       "overflow": null,
       "overflow_x": null,
       "overflow_y": null,
       "padding": null,
       "right": null,
       "top": null,
       "visibility": null,
       "width": null
      }
     },
     "6d2a52b2918848659197de6508b08d30": {
      "model_module": "@jupyter-widgets/controls",
      "model_module_version": "1.5.0",
      "model_name": "DescriptionStyleModel",
      "state": {
       "_model_module": "@jupyter-widgets/controls",
       "_model_module_version": "1.5.0",
       "_model_name": "DescriptionStyleModel",
       "_view_count": null,
       "_view_module": "@jupyter-widgets/base",
       "_view_module_version": "1.2.0",
       "_view_name": "StyleView",
       "description_width": ""
      }
     },
     "80a64a485af64285ad22f7d825f8aa5a": {
      "model_module": "@jupyter-widgets/controls",
      "model_module_version": "1.5.0",
      "model_name": "DescriptionStyleModel",
      "state": {
       "_model_module": "@jupyter-widgets/controls",
       "_model_module_version": "1.5.0",
       "_model_name": "DescriptionStyleModel",
       "_view_count": null,
       "_view_module": "@jupyter-widgets/base",
       "_view_module_version": "1.2.0",
       "_view_name": "StyleView",
       "description_width": ""
      }
     },
     "88ce4757d96040aebea9625b57b68103": {
      "model_module": "@jupyter-widgets/controls",
      "model_module_version": "1.5.0",
      "model_name": "FloatProgressModel",
      "state": {
       "_dom_classes": [],
       "_model_module": "@jupyter-widgets/controls",
       "_model_module_version": "1.5.0",
       "_model_name": "FloatProgressModel",
       "_view_count": null,
       "_view_module": "@jupyter-widgets/controls",
       "_view_module_version": "1.5.0",
       "_view_name": "ProgressView",
       "bar_style": "success",
       "description": "",
       "description_tooltip": null,
       "layout": "IPY_MODEL_411ef686cea848d7b57c33198ee5377a",
       "max": 1.0,
       "min": 0.0,
       "orientation": "horizontal",
       "style": "IPY_MODEL_ab8e9868a591403e82a8baf3d6c55a98",
       "value": 1.0
      }
     },
     "8a24103df87b482b9520981654f789f6": {
      "model_module": "@jupyter-widgets/base",
      "model_module_version": "1.2.0",
      "model_name": "LayoutModel",
      "state": {
       "_model_module": "@jupyter-widgets/base",
       "_model_module_version": "1.2.0",
       "_model_name": "LayoutModel",
       "_view_count": null,
       "_view_module": "@jupyter-widgets/base",
       "_view_module_version": "1.2.0",
       "_view_name": "LayoutView",
       "align_content": null,
       "align_items": null,
       "align_self": null,
       "border": null,
       "bottom": null,
       "display": null,
       "flex": null,
       "flex_flow": null,
       "grid_area": null,
       "grid_auto_columns": null,
       "grid_auto_flow": null,
       "grid_auto_rows": null,
       "grid_column": null,
       "grid_gap": null,
       "grid_row": null,
       "grid_template_areas": null,
       "grid_template_columns": null,
       "grid_template_rows": null,
       "height": null,
       "justify_content": null,
       "justify_items": null,
       "left": null,
       "margin": null,
       "max_height": null,
       "max_width": null,
       "min_height": null,
       "min_width": null,
       "object_fit": null,
       "object_position": null,
       "order": null,
       "overflow": null,
       "overflow_x": null,
       "overflow_y": null,
       "padding": null,
       "right": null,
       "top": null,
       "visibility": null,
       "width": null
      }
     },
     "97680001a64141dab4669b62cd1ac999": {
      "model_module": "@jupyter-widgets/controls",
      "model_module_version": "1.5.0",
      "model_name": "HBoxModel",
      "state": {
       "_dom_classes": [],
       "_model_module": "@jupyter-widgets/controls",
       "_model_module_version": "1.5.0",
       "_model_name": "HBoxModel",
       "_view_count": null,
       "_view_module": "@jupyter-widgets/controls",
       "_view_module_version": "1.5.0",
       "_view_name": "HBoxView",
       "box_style": "",
       "children": [
        "IPY_MODEL_e407c94e1c6a4806be201e417c6d46cf",
        "IPY_MODEL_4aec11cb4aaa4c41a06460579a2f4f62",
        "IPY_MODEL_3d9ee04ed8fa47288108d453793a4c55"
       ],
       "layout": "IPY_MODEL_a7f0a3f025ad43568e12afb7d9ba9d17"
      }
     },
     "a7f0a3f025ad43568e12afb7d9ba9d17": {
      "model_module": "@jupyter-widgets/base",
      "model_module_version": "1.2.0",
      "model_name": "LayoutModel",
      "state": {
       "_model_module": "@jupyter-widgets/base",
       "_model_module_version": "1.2.0",
       "_model_name": "LayoutModel",
       "_view_count": null,
       "_view_module": "@jupyter-widgets/base",
       "_view_module_version": "1.2.0",
       "_view_name": "LayoutView",
       "align_content": null,
       "align_items": null,
       "align_self": null,
       "border": null,
       "bottom": null,
       "display": null,
       "flex": null,
       "flex_flow": null,
       "grid_area": null,
       "grid_auto_columns": null,
       "grid_auto_flow": null,
       "grid_auto_rows": null,
       "grid_column": null,
       "grid_gap": null,
       "grid_row": null,
       "grid_template_areas": null,
       "grid_template_columns": null,
       "grid_template_rows": null,
       "height": null,
       "justify_content": null,
       "justify_items": null,
       "left": null,
       "margin": null,
       "max_height": null,
       "max_width": null,
       "min_height": null,
       "min_width": null,
       "object_fit": null,
       "object_position": null,
       "order": null,
       "overflow": null,
       "overflow_x": null,
       "overflow_y": null,
       "padding": null,
       "right": null,
       "top": null,
       "visibility": null,
       "width": null
      }
     },
     "ab5e62f0e3654d1094e81dee2eeb8695": {
      "model_module": "@jupyter-widgets/base",
      "model_module_version": "1.2.0",
      "model_name": "LayoutModel",
      "state": {
       "_model_module": "@jupyter-widgets/base",
       "_model_module_version": "1.2.0",
       "_model_name": "LayoutModel",
       "_view_count": null,
       "_view_module": "@jupyter-widgets/base",
       "_view_module_version": "1.2.0",
       "_view_name": "LayoutView",
       "align_content": null,
       "align_items": null,
       "align_self": null,
       "border": null,
       "bottom": null,
       "display": null,
       "flex": null,
       "flex_flow": null,
       "grid_area": null,
       "grid_auto_columns": null,
       "grid_auto_flow": null,
       "grid_auto_rows": null,
       "grid_column": null,
       "grid_gap": null,
       "grid_row": null,
       "grid_template_areas": null,
       "grid_template_columns": null,
       "grid_template_rows": null,
       "height": null,
       "justify_content": null,
       "justify_items": null,
       "left": null,
       "margin": null,
       "max_height": null,
       "max_width": null,
       "min_height": null,
       "min_width": null,
       "object_fit": null,
       "object_position": null,
       "order": null,
       "overflow": null,
       "overflow_x": null,
       "overflow_y": null,
       "padding": null,
       "right": null,
       "top": null,
       "visibility": null,
       "width": null
      }
     },
     "ab8e9868a591403e82a8baf3d6c55a98": {
      "model_module": "@jupyter-widgets/controls",
      "model_module_version": "1.5.0",
      "model_name": "ProgressStyleModel",
      "state": {
       "_model_module": "@jupyter-widgets/controls",
       "_model_module_version": "1.5.0",
       "_model_name": "ProgressStyleModel",
       "_view_count": null,
       "_view_module": "@jupyter-widgets/base",
       "_view_module_version": "1.2.0",
       "_view_name": "StyleView",
       "bar_color": null,
       "description_width": ""
      }
     },
     "adce898152924155a503b472433b95d9": {
      "model_module": "@jupyter-widgets/controls",
      "model_module_version": "1.5.0",
      "model_name": "HTMLModel",
      "state": {
       "_dom_classes": [],
       "_model_module": "@jupyter-widgets/controls",
       "_model_module_version": "1.5.0",
       "_model_name": "HTMLModel",
       "_view_count": null,
       "_view_module": "@jupyter-widgets/controls",
       "_view_module_version": "1.5.0",
       "_view_name": "HTMLView",
       "description": "",
       "description_tooltip": null,
       "layout": "IPY_MODEL_d558e165290f46b080826023e2bc845d",
       "placeholder": "​",
       "style": "IPY_MODEL_0a8c62becad14dcbbad8861171b77b40",
       "value": " 340/340 [00:33&lt;00:00, 10.14ba/s]"
      }
     },
     "ae90d7f1eacb4c1b8e8784ff4affdeee": {
      "model_module": "@jupyter-widgets/base",
      "model_module_version": "1.2.0",
      "model_name": "LayoutModel",
      "state": {
       "_model_module": "@jupyter-widgets/base",
       "_model_module_version": "1.2.0",
       "_model_name": "LayoutModel",
       "_view_count": null,
       "_view_module": "@jupyter-widgets/base",
       "_view_module_version": "1.2.0",
       "_view_name": "LayoutView",
       "align_content": null,
       "align_items": null,
       "align_self": null,
       "border": null,
       "bottom": null,
       "display": null,
       "flex": null,
       "flex_flow": null,
       "grid_area": null,
       "grid_auto_columns": null,
       "grid_auto_flow": null,
       "grid_auto_rows": null,
       "grid_column": null,
       "grid_gap": null,
       "grid_row": null,
       "grid_template_areas": null,
       "grid_template_columns": null,
       "grid_template_rows": null,
       "height": null,
       "justify_content": null,
       "justify_items": null,
       "left": null,
       "margin": null,
       "max_height": null,
       "max_width": null,
       "min_height": null,
       "min_width": null,
       "object_fit": null,
       "object_position": null,
       "order": null,
       "overflow": null,
       "overflow_x": null,
       "overflow_y": null,
       "padding": null,
       "right": null,
       "top": null,
       "visibility": null,
       "width": null
      }
     },
     "cb63047f741240d29ac2dd724dc9c318": {
      "model_module": "@jupyter-widgets/base",
      "model_module_version": "1.2.0",
      "model_name": "LayoutModel",
      "state": {
       "_model_module": "@jupyter-widgets/base",
       "_model_module_version": "1.2.0",
       "_model_name": "LayoutModel",
       "_view_count": null,
       "_view_module": "@jupyter-widgets/base",
       "_view_module_version": "1.2.0",
       "_view_name": "LayoutView",
       "align_content": null,
       "align_items": null,
       "align_self": null,
       "border": null,
       "bottom": null,
       "display": null,
       "flex": null,
       "flex_flow": null,
       "grid_area": null,
       "grid_auto_columns": null,
       "grid_auto_flow": null,
       "grid_auto_rows": null,
       "grid_column": null,
       "grid_gap": null,
       "grid_row": null,
       "grid_template_areas": null,
       "grid_template_columns": null,
       "grid_template_rows": null,
       "height": null,
       "justify_content": null,
       "justify_items": null,
       "left": null,
       "margin": null,
       "max_height": null,
       "max_width": null,
       "min_height": null,
       "min_width": null,
       "object_fit": null,
       "object_position": null,
       "order": null,
       "overflow": null,
       "overflow_x": null,
       "overflow_y": null,
       "padding": null,
       "right": null,
       "top": null,
       "visibility": null,
       "width": null
      }
     },
     "d558e165290f46b080826023e2bc845d": {
      "model_module": "@jupyter-widgets/base",
      "model_module_version": "1.2.0",
      "model_name": "LayoutModel",
      "state": {
       "_model_module": "@jupyter-widgets/base",
       "_model_module_version": "1.2.0",
       "_model_name": "LayoutModel",
       "_view_count": null,
       "_view_module": "@jupyter-widgets/base",
       "_view_module_version": "1.2.0",
       "_view_name": "LayoutView",
       "align_content": null,
       "align_items": null,
       "align_self": null,
       "border": null,
       "bottom": null,
       "display": null,
       "flex": null,
       "flex_flow": null,
       "grid_area": null,
       "grid_auto_columns": null,
       "grid_auto_flow": null,
       "grid_auto_rows": null,
       "grid_column": null,
       "grid_gap": null,
       "grid_row": null,
       "grid_template_areas": null,
       "grid_template_columns": null,
       "grid_template_rows": null,
       "height": null,
       "justify_content": null,
       "justify_items": null,
       "left": null,
       "margin": null,
       "max_height": null,
       "max_width": null,
       "min_height": null,
       "min_width": null,
       "object_fit": null,
       "object_position": null,
       "order": null,
       "overflow": null,
       "overflow_x": null,
       "overflow_y": null,
       "padding": null,
       "right": null,
       "top": null,
       "visibility": null,
       "width": null
      }
     },
     "e407c94e1c6a4806be201e417c6d46cf": {
      "model_module": "@jupyter-widgets/controls",
      "model_module_version": "1.5.0",
      "model_name": "HTMLModel",
      "state": {
       "_dom_classes": [],
       "_model_module": "@jupyter-widgets/controls",
       "_model_module_version": "1.5.0",
       "_model_name": "HTMLModel",
       "_view_count": null,
       "_view_module": "@jupyter-widgets/controls",
       "_view_module_version": "1.5.0",
       "_view_name": "HTMLView",
       "description": "",
       "description_tooltip": null,
       "layout": "IPY_MODEL_ab5e62f0e3654d1094e81dee2eeb8695",
       "placeholder": "​",
       "style": "IPY_MODEL_80a64a485af64285ad22f7d825f8aa5a",
       "value": "100%"
      }
     },
     "ee501c4fc0a743e79210ffffb18edeae": {
      "model_module": "@jupyter-widgets/controls",
      "model_module_version": "1.5.0",
      "model_name": "DescriptionStyleModel",
      "state": {
       "_model_module": "@jupyter-widgets/controls",
       "_model_module_version": "1.5.0",
       "_model_name": "DescriptionStyleModel",
       "_view_count": null,
       "_view_module": "@jupyter-widgets/base",
       "_view_module_version": "1.2.0",
       "_view_name": "StyleView",
       "description_width": ""
      }
     },
     "ef3383d5875c4d2c92c86010d8d3240d": {
      "model_module": "@jupyter-widgets/controls",
      "model_module_version": "1.5.0",
      "model_name": "ProgressStyleModel",
      "state": {
       "_model_module": "@jupyter-widgets/controls",
       "_model_module_version": "1.5.0",
       "_model_name": "ProgressStyleModel",
       "_view_count": null,
       "_view_module": "@jupyter-widgets/base",
       "_view_module_version": "1.2.0",
       "_view_name": "StyleView",
       "bar_color": null,
       "description_width": ""
      }
     },
     "f32b6885e2944869b831456a36560249": {
      "model_module": "@jupyter-widgets/base",
      "model_module_version": "1.2.0",
      "model_name": "LayoutModel",
      "state": {
       "_model_module": "@jupyter-widgets/base",
       "_model_module_version": "1.2.0",
       "_model_name": "LayoutModel",
       "_view_count": null,
       "_view_module": "@jupyter-widgets/base",
       "_view_module_version": "1.2.0",
       "_view_name": "LayoutView",
       "align_content": null,
       "align_items": null,
       "align_self": null,
       "border": null,
       "bottom": null,
       "display": null,
       "flex": null,
       "flex_flow": null,
       "grid_area": null,
       "grid_auto_columns": null,
       "grid_auto_flow": null,
       "grid_auto_rows": null,
       "grid_column": null,
       "grid_gap": null,
       "grid_row": null,
       "grid_template_areas": null,
       "grid_template_columns": null,
       "grid_template_rows": null,
       "height": null,
       "justify_content": null,
       "justify_items": null,
       "left": null,
       "margin": null,
       "max_height": null,
       "max_width": null,
       "min_height": null,
       "min_width": null,
       "object_fit": null,
       "object_position": null,
       "order": null,
       "overflow": null,
       "overflow_x": null,
       "overflow_y": null,
       "padding": null,
       "right": null,
       "top": null,
       "visibility": null,
       "width": null
      }
     },
     "faea4b9b89a843d29c1577b31d20087f": {
      "model_module": "@jupyter-widgets/controls",
      "model_module_version": "1.5.0",
      "model_name": "DescriptionStyleModel",
      "state": {
       "_model_module": "@jupyter-widgets/controls",
       "_model_module_version": "1.5.0",
       "_model_name": "DescriptionStyleModel",
       "_view_count": null,
       "_view_module": "@jupyter-widgets/base",
       "_view_module_version": "1.2.0",
       "_view_name": "StyleView",
       "description_width": ""
      }
     }
    },
    "version_major": 2,
    "version_minor": 0
   }
  }
 },
 "nbformat": 4,
 "nbformat_minor": 5
}
